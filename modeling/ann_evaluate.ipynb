{
 "cells": [
  {
   "cell_type": "code",
   "execution_count": 14,
   "metadata": {},
   "outputs": [],
   "source": [
    "\n",
    "import datetime\n",
    "\n",
    "import IPython\n",
    "import IPython.display\n",
    "\n",
    "import numpy as np\n",
    "import pandas as pd\n",
    "\n",
    "import warnings\n",
    "warnings.filterwarnings(\"ignore\")\n"
   ]
  },
  {
   "cell_type": "code",
   "execution_count": 15,
   "metadata": {},
   "outputs": [],
   "source": [
    "\n",
    "date_from = datetime.date(2021, 8, 19)\n",
    "date_to = datetime.date(2021,10,28) "
   ]
  },
  {
   "cell_type": "markdown",
   "metadata": {},
   "source": [
    "###  Import data\n"
   ]
  },
  {
   "cell_type": "markdown",
   "metadata": {},
   "source": [
    "- predictions"
   ]
  },
  {
   "cell_type": "code",
   "execution_count": 16,
   "metadata": {},
   "outputs": [
    {
     "name": "stdout",
     "output_type": "stream",
     "text": [
      "Predictions: \n",
      "------------------------------------------------------------\n",
      "from: 27-09-2021\n",
      "to  : 28-10-2021\n",
      "      24 days\n"
     ]
    },
    {
     "data": {
      "text/html": [
       "<div>\n",
       "<style scoped>\n",
       "    .dataframe tbody tr th:only-of-type {\n",
       "        vertical-align: middle;\n",
       "    }\n",
       "\n",
       "    .dataframe tbody tr th {\n",
       "        vertical-align: top;\n",
       "    }\n",
       "\n",
       "    .dataframe thead th {\n",
       "        text-align: right;\n",
       "    }\n",
       "</style>\n",
       "<table border=\"1\" class=\"dataframe\">\n",
       "  <thead>\n",
       "    <tr style=\"text-align: right;\">\n",
       "      <th></th>\n",
       "      <th>Date</th>\n",
       "      <th>Model</th>\n",
       "      <th>SecuritiesCode</th>\n",
       "      <th>ad_Close</th>\n",
       "    </tr>\n",
       "  </thead>\n",
       "  <tbody>\n",
       "    <tr>\n",
       "      <th>0</th>\n",
       "      <td>2021-09-27</td>\n",
       "      <td>baseline</td>\n",
       "      <td>8194</td>\n",
       "      <td>4805.0</td>\n",
       "    </tr>\n",
       "    <tr>\n",
       "      <th>1</th>\n",
       "      <td>2021-09-28</td>\n",
       "      <td>baseline</td>\n",
       "      <td>8194</td>\n",
       "      <td>4805.0</td>\n",
       "    </tr>\n",
       "  </tbody>\n",
       "</table>\n",
       "</div>"
      ],
      "text/plain": [
       "        Date     Model  SecuritiesCode  ad_Close\n",
       "0 2021-09-27  baseline            8194    4805.0\n",
       "1 2021-09-28  baseline            8194    4805.0"
      ]
     },
     "execution_count": 16,
     "metadata": {},
     "output_type": "execute_result"
    }
   ],
   "source": [
    "\n",
    "predicts = pd.read_csv('allpreds_24.csv', parse_dates=['Date'],  index_col=[0])\n",
    "\n",
    "# add flag\n",
    "if 'Model' not in predicts.columns:\n",
    "    predicts['Model'] = str('prediction')\n",
    "\n",
    "date_from = datetime.date(2021, 9, 27)\n",
    "predicts = predicts.query('index >= @date_from')\n",
    "# add date\n",
    "if 'Date' not in predicts.columns:\n",
    "    predicts.reset_index('Date', inplace=True)\n",
    "\n",
    "# select columns: \n",
    "pred = predicts[['Date', 'Model', 'SecuritiesCode', 'ad_Close']]\n",
    "\n",
    "\n",
    "date_pred = pred.Date\n",
    "\n",
    "print(f'Predictions: ')\n",
    "print('------'*10)\n",
    "print(f'from: {date_pred.min().strftime(\"%d-%m-%Y\") }')\n",
    "print(f'to  : {date_pred.max().strftime(\"%d-%m-%Y\") }')\n",
    "\n",
    "print(f'      {date_pred.nunique()} days')\n",
    "\n",
    "pred.head(2)\n",
    "\n"
   ]
  },
  {
   "cell_type": "markdown",
   "metadata": {},
   "source": [
    "- real data"
   ]
  },
  {
   "cell_type": "code",
   "execution_count": 17,
   "metadata": {},
   "outputs": [
    {
     "name": "stdout",
     "output_type": "stream",
     "text": [
      "Real Data: \n",
      "------------------------------------------------------------\n",
      "from: 27-09-2021\n",
      "to  : 28-10-2021\n",
      "      24 days\n"
     ]
    },
    {
     "data": {
      "text/html": [
       "<div>\n",
       "<style scoped>\n",
       "    .dataframe tbody tr th:only-of-type {\n",
       "        vertical-align: middle;\n",
       "    }\n",
       "\n",
       "    .dataframe tbody tr th {\n",
       "        vertical-align: top;\n",
       "    }\n",
       "\n",
       "    .dataframe thead th {\n",
       "        text-align: right;\n",
       "    }\n",
       "</style>\n",
       "<table border=\"1\" class=\"dataframe\">\n",
       "  <thead>\n",
       "    <tr style=\"text-align: right;\">\n",
       "      <th></th>\n",
       "      <th>Date</th>\n",
       "      <th>Model</th>\n",
       "      <th>SecuritiesCode</th>\n",
       "      <th>ad_Close</th>\n",
       "    </tr>\n",
       "  </thead>\n",
       "  <tbody>\n",
       "    <tr>\n",
       "      <th>1154</th>\n",
       "      <td>2021-09-27</td>\n",
       "      <td>real</td>\n",
       "      <td>8194</td>\n",
       "      <td>4715.0</td>\n",
       "    </tr>\n",
       "    <tr>\n",
       "      <th>1155</th>\n",
       "      <td>2021-09-28</td>\n",
       "      <td>real</td>\n",
       "      <td>8194</td>\n",
       "      <td>4650.0</td>\n",
       "    </tr>\n",
       "  </tbody>\n",
       "</table>\n",
       "</div>"
      ],
      "text/plain": [
       "           Date Model  SecuritiesCode  ad_Close\n",
       "1154 2021-09-27  real            8194    4715.0\n",
       "1155 2021-09-28  real            8194    4650.0"
      ]
     },
     "execution_count": 17,
     "metadata": {},
     "output_type": "execute_result"
    }
   ],
   "source": [
    "# import data\n",
    "data = pd.read_csv('../data/curr_price_financial_fill.csv', parse_dates=['Date'], index_col=[0])\n",
    "data.dropna(inplace=True)\n",
    "\n",
    "# append the real value\n",
    "real = data.query('Date >= @date_pred.min() and Date <= @date_pred.max()')\n",
    "\n",
    "real['Model'] = str('real')\n",
    "real = real[['Date','Model', 'SecuritiesCode', 'ad_Close']]\n",
    "\n",
    "date_real = real.Date\n",
    "print(f'Real Data: ')\n",
    "print('------'*10)\n",
    "print(f'from: {date_pred.min().strftime(\"%d-%m-%Y\") }')\n",
    "print(f'to  : {date_pred.max().strftime(\"%d-%m-%Y\") }')\n",
    "\n",
    "print(f'      {date_pred.nunique()} days')\n",
    "\n",
    "\n",
    "real.head(2)"
   ]
  },
  {
   "cell_type": "code",
   "execution_count": 18,
   "metadata": {},
   "outputs": [],
   "source": [
    "# concat\n",
    "data_pred = pd.concat([real, pred], axis = 0)\n",
    "assert data_pred.shape[0] == real.shape[0] + pred.shape[0]"
   ]
  },
  {
   "cell_type": "code",
   "execution_count": 19,
   "metadata": {},
   "outputs": [
    {
     "data": {
      "text/html": [
       "<div>\n",
       "<style scoped>\n",
       "    .dataframe tbody tr th:only-of-type {\n",
       "        vertical-align: middle;\n",
       "    }\n",
       "\n",
       "    .dataframe tbody tr th {\n",
       "        vertical-align: top;\n",
       "    }\n",
       "\n",
       "    .dataframe thead th {\n",
       "        text-align: right;\n",
       "    }\n",
       "</style>\n",
       "<table border=\"1\" class=\"dataframe\">\n",
       "  <thead>\n",
       "    <tr style=\"text-align: right;\">\n",
       "      <th></th>\n",
       "      <th>Date</th>\n",
       "      <th>Model</th>\n",
       "      <th>SecuritiesCode</th>\n",
       "      <th>ad_Close</th>\n",
       "    </tr>\n",
       "  </thead>\n",
       "  <tbody>\n",
       "    <tr>\n",
       "      <th>287995</th>\n",
       "      <td>2021-10-22</td>\n",
       "      <td>lstm</td>\n",
       "      <td>8185</td>\n",
       "      <td>2302.00708</td>\n",
       "    </tr>\n",
       "    <tr>\n",
       "      <th>287996</th>\n",
       "      <td>2021-10-25</td>\n",
       "      <td>lstm</td>\n",
       "      <td>8185</td>\n",
       "      <td>2302.00708</td>\n",
       "    </tr>\n",
       "    <tr>\n",
       "      <th>287997</th>\n",
       "      <td>2021-10-26</td>\n",
       "      <td>lstm</td>\n",
       "      <td>8185</td>\n",
       "      <td>2302.00708</td>\n",
       "    </tr>\n",
       "    <tr>\n",
       "      <th>287998</th>\n",
       "      <td>2021-10-27</td>\n",
       "      <td>lstm</td>\n",
       "      <td>8185</td>\n",
       "      <td>2302.00708</td>\n",
       "    </tr>\n",
       "    <tr>\n",
       "      <th>287999</th>\n",
       "      <td>2021-10-28</td>\n",
       "      <td>lstm</td>\n",
       "      <td>8185</td>\n",
       "      <td>2302.00708</td>\n",
       "    </tr>\n",
       "  </tbody>\n",
       "</table>\n",
       "</div>"
      ],
      "text/plain": [
       "             Date Model  SecuritiesCode    ad_Close\n",
       "287995 2021-10-22  lstm            8185  2302.00708\n",
       "287996 2021-10-25  lstm            8185  2302.00708\n",
       "287997 2021-10-26  lstm            8185  2302.00708\n",
       "287998 2021-10-27  lstm            8185  2302.00708\n",
       "287999 2021-10-28  lstm            8185  2302.00708"
      ]
     },
     "execution_count": 19,
     "metadata": {},
     "output_type": "execute_result"
    }
   ],
   "source": [
    "data_pred.tail()"
   ]
  },
  {
   "cell_type": "markdown",
   "metadata": {},
   "source": [
    "- functions"
   ]
  },
  {
   "cell_type": "code",
   "execution_count": 20,
   "metadata": {},
   "outputs": [],
   "source": [
    "# calculate target / rank:\n",
    "def target_calculations(data: pd.DataFrame, periods: int = 1, shift: int = -2, dropna: bool = False) -> pd.DataFrame:\n",
    "    #data['Date'] = data.index\n",
    "    #data = data.reset_index('Date')\n",
    "    td = pd.pivot_table(data, index='Date', columns='SecuritiesCode', values='ad_Close', dropna=dropna)\n",
    "    td = td.pct_change(periods)\n",
    "\n",
    "    #calculated_target = pd.melt(td.shift(shift), ignore_index=False, value_name='Target').reset_index().sort_values(['Date','SecuritiesCode']).dropna(subset=['Target']).reset_index(drop=True)\n",
    "    calculated_target = pd.melt(td.shift(shift), ignore_index=False, value_name='Target').reset_index().sort_values(['Date','SecuritiesCode']).reset_index(drop=True)\n",
    "    cols = ['ad_Close', 'SecuritiesCode','Date']\n",
    "    calculated_target = pd.merge(left=calculated_target ,right=data[cols],  on=['SecuritiesCode','Date'])\n",
    "    #print(f'Calculated_target shape: {calculated_target.shape}') #(2324404, 3)\n",
    "    #calculated_target.set_index('Date')\n",
    "    return calculated_target\n"
   ]
  },
  {
   "cell_type": "code",
   "execution_count": 21,
   "metadata": {},
   "outputs": [],
   "source": [
    "def target(df):\n",
    "    prices = df.pivot(index='Date', columns='SecuritiesCode', values='ad_Close')\n",
    "    prices_target = (prices.shift(-2) - prices.shift(-1)).div(prices.shift(-1))\n",
    "    return prices_target\n",
    "\n",
    "    #calculated_target = pd.melt(pct_df, ignore_index=False, value_name='Target').reset_index().sort_values(['Date','SecuritiesCode']).dropna(subset=['Target']).reset_index(drop=True)\n",
    "    #return calculated_target"
   ]
  },
  {
   "cell_type": "code",
   "execution_count": 22,
   "metadata": {},
   "outputs": [],
   "source": [
    "def add_rank(df, col_name=\"Target\"):\n",
    "    #df = df.reset_index('Date')\n",
    "    df[\"Rank\"] = df.groupby(\"Date\")[col_name].rank(ascending=False, method=\"first\") - 1 \n",
    "    #df[\"Rank\"] = df[\"Rank\"].astype(\"int\")#df\n",
    "    df.set_index('Date')\n",
    "    return df"
   ]
  },
  {
   "cell_type": "code",
   "execution_count": 23,
   "metadata": {},
   "outputs": [],
   "source": [
    "def calc_spread_return_per_day(df, portfolio_size, toprank_weight_ratio):\n",
    "    weights = np.linspace(start=toprank_weight_ratio, stop=1, num=portfolio_size)\n",
    "    weights_mean = weights.mean()\n",
    "    df = df.sort_values(by='Rank')\n",
    "    purchase = (df['Target'][:portfolio_size]  * weights).sum() / weights_mean\n",
    "    short    = (df['Target'][-portfolio_size:] * weights[::-1]).sum() / weights_mean\n",
    "    return purchase - short"
   ]
  },
  {
   "cell_type": "code",
   "execution_count": 24,
   "metadata": {},
   "outputs": [],
   "source": [
    "def calc_spread_return_sharpe(df: pd.DataFrame, portfolio_size: int = 200, toprank_weight_ratio: float = 2) -> float:\n",
    "    \"\"\"\n",
    "    Args:\n",
    "        df (pd.DataFrame): predicted results\n",
    "        portfolio_size (int): # of equities to buy/sell\n",
    "        toprank_weight_ratio (float): the relative weight of the most highly ranked stock compared to the least.\n",
    "    Returns:\n",
    "        (float): sharpe ratio\n",
    "    \"\"\"\n",
    "    def _calc_spread_return_per_day(df, portfolio_size, toprank_weight_ratio):\n",
    "        \"\"\"\n",
    "        Args:\n",
    "            df (pd.DataFrame): predicted results\n",
    "            portfolio_size (int): # of equities to buy/sell\n",
    "            toprank_weight_ratio (float): the relative weight of the most highly ranked stock compared to the least.\n",
    "        Returns:\n",
    "            (float): spread return\n",
    "        \"\"\"\n",
    "        assert df['Rank'].min() == 0\n",
    "        assert df['Rank'].max() == len(df['Rank']) - 1\n",
    "        weights = np.linspace(start=toprank_weight_ratio, stop=1, num=portfolio_size)\n",
    "        purchase = (df.sort_values(by='Rank')['Target'][:portfolio_size] * weights).sum() / weights.mean()\n",
    "        short = (df.sort_values(by='Rank', ascending=False)['Target'][:portfolio_size] * weights).sum() / weights.mean()\n",
    "        return purchase - short\n",
    "\n",
    "    buf = df.groupby('Date').apply(_calc_spread_return_per_day, portfolio_size, toprank_weight_ratio)\n",
    "    sharpe_ratio = buf.mean() / buf.std()\n",
    "    return sharpe_ratio"
   ]
  },
  {
   "cell_type": "markdown",
   "metadata": {},
   "source": [
    "- evaluate"
   ]
  },
  {
   "cell_type": "code",
   "execution_count": 25,
   "metadata": {},
   "outputs": [],
   "source": [
    "def _calc_spread_return_per_day(df, portfolio_size, toprank_weight_ratio):\n",
    "        \"\"\"\n",
    "        Args:\n",
    "            df (pd.DataFrame): predicted results\n",
    "            portfolio_size (int): # of equities to buy/sell\n",
    "            toprank_weight_ratio (float): the relative weight of the most highly ranked stock compared to the least.\n",
    "        Returns:\n",
    "            (float): spread return\n",
    "        \"\"\"\n",
    "        assert df['Rank'].min() == 0\n",
    "        assert df['Rank'].max() == len(df['Rank']) - 1\n",
    "        weights = np.linspace(start=toprank_weight_ratio, stop=1, num=portfolio_size)\n",
    "        purchase = (df.sort_values(by='Rank')['Target'][:portfolio_size] * weights).sum() / weights.mean()\n",
    "        short = (df.sort_values(by='Rank', ascending=False)['Target'][:portfolio_size] * weights).sum() / weights.mean()\n",
    "        return purchase - short\n",
    "\n",
    "    "
   ]
  },
  {
   "cell_type": "code",
   "execution_count": 26,
   "metadata": {},
   "outputs": [
    {
     "name": "stdout",
     "output_type": "stream",
     "text": [
      "real sum daily spread return:    \t 3.78    \t\t score: 0.08 \n",
      "baseline2 sum daily spread return:    \t 5.54    \t\t score: 0.18 \n",
      "linear sum daily spread return:    \t 650.40    \t\t score: 0.33 \n",
      "dense sum daily spread return:    \t 63669.03    \t\t score: 0.23 \n",
      "conv sum daily spread return:    \t 157.66    \t\t score: 0.01 \n",
      "lstm sum daily spread return:    \t 527.40    \t\t score: 0.14 \n"
     ]
    }
   ],
   "source": [
    "\n",
    "for mod in data_pred.Model.unique():\n",
    "    if mod == 'baseline': continue\n",
    "    #if mod == 'baseline2': continue\n",
    "    \n",
    "    df = data_pred.query('Model ==@mod')\n",
    "    assert (len(df.columns))==4\n",
    "    df_target = target_calculations(df)\n",
    "    df_rank = add_rank(df_target, 'ad_Close')\n",
    "\n",
    "    sharpe_ratio = calc_spread_return_sharpe(df_rank)\n",
    "    #sharpe_ratio = 1.1\n",
    "    srd= calc_spread_return_sharpe(df_rank, 200,2)\n",
    "    #print (f'{mod} Model score: \\t {sharpe_ratio:.2f}\\t srd: {srd:.2f}')\n",
    "\n",
    "    daily_spread_return = df_rank.groupby('Date').apply(_calc_spread_return_per_day, 200, 2)\n",
    "    print (f'{mod} sum daily spread return:    \\t {sum(daily_spread_return):.2f}    \\t\\t score: {sharpe_ratio:.2f} ')\n"
   ]
  }
 ],
 "metadata": {
  "interpreter": {
   "hash": "8e59dc4903522b6bd625aac9b906fbe96a3134871878cc11f65b8580a1e47af4"
  },
  "kernelspec": {
   "display_name": "Python 3.9.4 ('.venv': venv)",
   "language": "python",
   "name": "python3"
  },
  "language_info": {
   "codemirror_mode": {
    "name": "ipython",
    "version": 3
   },
   "file_extension": ".py",
   "mimetype": "text/x-python",
   "name": "python",
   "nbconvert_exporter": "python",
   "pygments_lexer": "ipython3",
   "version": "3.9.4"
  },
  "orig_nbformat": 4
 },
 "nbformat": 4,
 "nbformat_minor": 2
}
