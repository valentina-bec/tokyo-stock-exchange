{
 "cells": [
  {
   "cell_type": "markdown",
   "metadata": {},
   "source": [
    "# Processing data for modelling"
   ]
  },
  {
   "cell_type": "markdown",
   "metadata": {},
   "source": [
    "## - Stock price"
   ]
  },
  {
   "cell_type": "code",
   "execution_count": 1,
   "metadata": {},
   "outputs": [],
   "source": [
    "import pandas as pd\n",
    "\n",
    "from tqdm import tqdm\n",
    "\n",
    "\n",
    "\n"
   ]
  },
  {
   "cell_type": "code",
   "execution_count": 2,
   "metadata": {},
   "outputs": [
    {
     "name": "stdout",
     "output_type": "stream",
     "text": [
      "(2332531, 12)\n"
     ]
    },
    {
     "data": {
      "text/html": [
       "<div>\n",
       "<style scoped>\n",
       "    .dataframe tbody tr th:only-of-type {\n",
       "        vertical-align: middle;\n",
       "    }\n",
       "\n",
       "    .dataframe tbody tr th {\n",
       "        vertical-align: top;\n",
       "    }\n",
       "\n",
       "    .dataframe thead th {\n",
       "        text-align: right;\n",
       "    }\n",
       "</style>\n",
       "<table border=\"1\" class=\"dataframe\">\n",
       "  <thead>\n",
       "    <tr style=\"text-align: right;\">\n",
       "      <th></th>\n",
       "      <th>RowId</th>\n",
       "      <th>Date</th>\n",
       "      <th>SecuritiesCode</th>\n",
       "      <th>Open</th>\n",
       "      <th>High</th>\n",
       "      <th>Low</th>\n",
       "      <th>Close</th>\n",
       "      <th>Volume</th>\n",
       "      <th>AdjustmentFactor</th>\n",
       "      <th>ExpectedDividend</th>\n",
       "      <th>SupervisionFlag</th>\n",
       "      <th>Target</th>\n",
       "    </tr>\n",
       "  </thead>\n",
       "  <tbody>\n",
       "    <tr>\n",
       "      <th>0</th>\n",
       "      <td>20170104_1301</td>\n",
       "      <td>2017-01-04</td>\n",
       "      <td>1301</td>\n",
       "      <td>2734.0</td>\n",
       "      <td>2755.0</td>\n",
       "      <td>2730.0</td>\n",
       "      <td>2742.0</td>\n",
       "      <td>31400</td>\n",
       "      <td>1.0</td>\n",
       "      <td>NaN</td>\n",
       "      <td>False</td>\n",
       "      <td>0.000730</td>\n",
       "    </tr>\n",
       "    <tr>\n",
       "      <th>1</th>\n",
       "      <td>20170104_1332</td>\n",
       "      <td>2017-01-04</td>\n",
       "      <td>1332</td>\n",
       "      <td>568.0</td>\n",
       "      <td>576.0</td>\n",
       "      <td>563.0</td>\n",
       "      <td>571.0</td>\n",
       "      <td>2798500</td>\n",
       "      <td>1.0</td>\n",
       "      <td>NaN</td>\n",
       "      <td>False</td>\n",
       "      <td>0.012324</td>\n",
       "    </tr>\n",
       "  </tbody>\n",
       "</table>\n",
       "</div>"
      ],
      "text/plain": [
       "           RowId       Date  SecuritiesCode    Open    High     Low   Close  \\\n",
       "0  20170104_1301 2017-01-04            1301  2734.0  2755.0  2730.0  2742.0   \n",
       "1  20170104_1332 2017-01-04            1332   568.0   576.0   563.0   571.0   \n",
       "\n",
       "    Volume  AdjustmentFactor  ExpectedDividend  SupervisionFlag    Target  \n",
       "0    31400               1.0               NaN            False  0.000730  \n",
       "1  2798500               1.0               NaN            False  0.012324  "
      ]
     },
     "execution_count": 2,
     "metadata": {},
     "output_type": "execute_result"
    }
   ],
   "source": [
    "# test with feature_engineering.py\n",
    "prices = pd.read_csv('data/train_files/stock_prices.csv', parse_dates=[1])\n",
    "print(prices.shape)\n",
    "prices.head(2)"
   ]
  },
  {
   "cell_type": "code",
   "execution_count": 3,
   "metadata": {},
   "outputs": [
    {
     "name": "stderr",
     "output_type": "stream",
     "text": [
      "100%|██████████| 2000/2000 [09:08<00:00,  3.65it/s]\n"
     ]
    },
    {
     "name": "stdout",
     "output_type": "stream",
     "text": [
      "(2332531, 12)\n"
     ]
    },
    {
     "data": {
      "text/html": [
       "<div>\n",
       "<style scoped>\n",
       "    .dataframe tbody tr th:only-of-type {\n",
       "        vertical-align: middle;\n",
       "    }\n",
       "\n",
       "    .dataframe tbody tr th {\n",
       "        vertical-align: top;\n",
       "    }\n",
       "\n",
       "    .dataframe thead th {\n",
       "        text-align: right;\n",
       "    }\n",
       "</style>\n",
       "<table border=\"1\" class=\"dataframe\">\n",
       "  <thead>\n",
       "    <tr style=\"text-align: right;\">\n",
       "      <th></th>\n",
       "      <th>RowId</th>\n",
       "      <th>Date</th>\n",
       "      <th>SecuritiesCode</th>\n",
       "      <th>Open</th>\n",
       "      <th>High</th>\n",
       "      <th>Low</th>\n",
       "      <th>Close</th>\n",
       "      <th>Volume</th>\n",
       "      <th>AdjustmentFactor</th>\n",
       "      <th>ExpectedDividend</th>\n",
       "      <th>SupervisionFlag</th>\n",
       "      <th>Target</th>\n",
       "    </tr>\n",
       "  </thead>\n",
       "  <tbody>\n",
       "    <tr>\n",
       "      <th>0</th>\n",
       "      <td>20170104_1301</td>\n",
       "      <td>2017-01-04</td>\n",
       "      <td>1301</td>\n",
       "      <td>2734.0</td>\n",
       "      <td>2755.0</td>\n",
       "      <td>2730.0</td>\n",
       "      <td>2742.0</td>\n",
       "      <td>31400</td>\n",
       "      <td>1.0</td>\n",
       "      <td>NaN</td>\n",
       "      <td>False</td>\n",
       "      <td>0.00073</td>\n",
       "    </tr>\n",
       "    <tr>\n",
       "      <th>1865</th>\n",
       "      <td>20170105_1301</td>\n",
       "      <td>2017-01-05</td>\n",
       "      <td>1301</td>\n",
       "      <td>2743.0</td>\n",
       "      <td>2747.0</td>\n",
       "      <td>2735.0</td>\n",
       "      <td>2738.0</td>\n",
       "      <td>17900</td>\n",
       "      <td>1.0</td>\n",
       "      <td>NaN</td>\n",
       "      <td>False</td>\n",
       "      <td>0.00292</td>\n",
       "    </tr>\n",
       "  </tbody>\n",
       "</table>\n",
       "</div>"
      ],
      "text/plain": [
       "              RowId       Date SecuritiesCode    Open    High     Low   Close  \\\n",
       "0     20170104_1301 2017-01-04           1301  2734.0  2755.0  2730.0  2742.0   \n",
       "1865  20170105_1301 2017-01-05           1301  2743.0  2747.0  2735.0  2738.0   \n",
       "\n",
       "     Volume AdjustmentFactor ExpectedDividend SupervisionFlag   Target  \n",
       "0     31400              1.0              NaN           False  0.00073  \n",
       "1865  17900              1.0              NaN           False  0.00292  "
      ]
     },
     "execution_count": 3,
     "metadata": {},
     "output_type": "execute_result"
    }
   ],
   "source": [
    "\n",
    "from feature_engineering import fill_and_drop_na_values\n",
    "\n",
    "fill_prices = fill_and_drop_na_values(prices)\n",
    "print(fill_prices.shape)\n",
    "fill_prices.head(2)\n"
   ]
  },
  {
   "cell_type": "code",
   "execution_count": 4,
   "metadata": {},
   "outputs": [
    {
     "name": "stderr",
     "output_type": "stream",
     "text": [
      "100%|██████████| 2000/2000 [1:29:53<00:00,  2.70s/it]    \n"
     ]
    },
    {
     "name": "stdout",
     "output_type": "stream",
     "text": [
      "(2332531, 18)\n"
     ]
    },
    {
     "data": {
      "text/html": [
       "<div>\n",
       "<style scoped>\n",
       "    .dataframe tbody tr th:only-of-type {\n",
       "        vertical-align: middle;\n",
       "    }\n",
       "\n",
       "    .dataframe tbody tr th {\n",
       "        vertical-align: top;\n",
       "    }\n",
       "\n",
       "    .dataframe thead th {\n",
       "        text-align: right;\n",
       "    }\n",
       "</style>\n",
       "<table border=\"1\" class=\"dataframe\">\n",
       "  <thead>\n",
       "    <tr style=\"text-align: right;\">\n",
       "      <th></th>\n",
       "      <th>RowId</th>\n",
       "      <th>Date</th>\n",
       "      <th>SecuritiesCode</th>\n",
       "      <th>Open</th>\n",
       "      <th>High</th>\n",
       "      <th>Low</th>\n",
       "      <th>Close</th>\n",
       "      <th>Volume</th>\n",
       "      <th>AdjustmentFactor</th>\n",
       "      <th>ExpectedDividend</th>\n",
       "      <th>SupervisionFlag</th>\n",
       "      <th>Target</th>\n",
       "      <th>ad_Open</th>\n",
       "      <th>ad_High</th>\n",
       "      <th>ad_Low</th>\n",
       "      <th>ad_Close</th>\n",
       "      <th>ad_Volume</th>\n",
       "      <th>ad_Target</th>\n",
       "    </tr>\n",
       "  </thead>\n",
       "  <tbody>\n",
       "    <tr>\n",
       "      <th>1483</th>\n",
       "      <td>20170104_8194</td>\n",
       "      <td>2017-01-04</td>\n",
       "      <td>8194</td>\n",
       "      <td>3325.0</td>\n",
       "      <td>3390.0</td>\n",
       "      <td>3300.0</td>\n",
       "      <td>3380.0</td>\n",
       "      <td>36100</td>\n",
       "      <td>1.0</td>\n",
       "      <td>NaN</td>\n",
       "      <td>False</td>\n",
       "      <td>-0.002963</td>\n",
       "      <td>3325.0</td>\n",
       "      <td>3390.0</td>\n",
       "      <td>3300.0</td>\n",
       "      <td>3380.0</td>\n",
       "      <td>36100.0</td>\n",
       "      <td>-0.002963</td>\n",
       "    </tr>\n",
       "    <tr>\n",
       "      <th>3348</th>\n",
       "      <td>20170105_8194</td>\n",
       "      <td>2017-01-05</td>\n",
       "      <td>8194</td>\n",
       "      <td>3395.0</td>\n",
       "      <td>3420.0</td>\n",
       "      <td>3360.0</td>\n",
       "      <td>3375.0</td>\n",
       "      <td>19400</td>\n",
       "      <td>1.0</td>\n",
       "      <td>NaN</td>\n",
       "      <td>False</td>\n",
       "      <td>-0.020802</td>\n",
       "      <td>3395.0</td>\n",
       "      <td>3420.0</td>\n",
       "      <td>3360.0</td>\n",
       "      <td>3375.0</td>\n",
       "      <td>19400.0</td>\n",
       "      <td>-0.020802</td>\n",
       "    </tr>\n",
       "  </tbody>\n",
       "</table>\n",
       "</div>"
      ],
      "text/plain": [
       "              RowId       Date SecuritiesCode    Open    High     Low   Close  \\\n",
       "1483  20170104_8194 2017-01-04           8194  3325.0  3390.0  3300.0  3380.0   \n",
       "3348  20170105_8194 2017-01-05           8194  3395.0  3420.0  3360.0  3375.0   \n",
       "\n",
       "     Volume AdjustmentFactor ExpectedDividend SupervisionFlag    Target  \\\n",
       "1483  36100              1.0              NaN           False -0.002963   \n",
       "3348  19400              1.0              NaN           False -0.020802   \n",
       "\n",
       "     ad_Open ad_High  ad_Low ad_Close ad_Volume ad_Target  \n",
       "1483  3325.0  3390.0  3300.0   3380.0   36100.0 -0.002963  \n",
       "3348  3395.0  3420.0  3360.0   3375.0   19400.0 -0.020802  "
      ]
     },
     "execution_count": 4,
     "metadata": {},
     "output_type": "execute_result"
    }
   ],
   "source": [
    "from feature_engineering import adjust_price\n",
    "\n",
    "adjusted_price = adjust_price(fill_prices)\n",
    "print(adjusted_price.shape)\n",
    "adjusted_price.head(2)"
   ]
  },
  {
   "cell_type": "code",
   "execution_count": 5,
   "metadata": {},
   "outputs": [
    {
     "data": {
      "text/html": [
       "<div>\n",
       "<style scoped>\n",
       "    .dataframe tbody tr th:only-of-type {\n",
       "        vertical-align: middle;\n",
       "    }\n",
       "\n",
       "    .dataframe tbody tr th {\n",
       "        vertical-align: top;\n",
       "    }\n",
       "\n",
       "    .dataframe thead th {\n",
       "        text-align: right;\n",
       "    }\n",
       "</style>\n",
       "<table border=\"1\" class=\"dataframe\">\n",
       "  <thead>\n",
       "    <tr style=\"text-align: right;\">\n",
       "      <th></th>\n",
       "      <th>RowId</th>\n",
       "      <th>Date</th>\n",
       "      <th>SecuritiesCode</th>\n",
       "      <th>Open</th>\n",
       "      <th>High</th>\n",
       "      <th>Low</th>\n",
       "      <th>Close</th>\n",
       "      <th>Volume</th>\n",
       "      <th>AdjustmentFactor</th>\n",
       "      <th>ExpectedDividend</th>\n",
       "      <th>SupervisionFlag</th>\n",
       "      <th>Target</th>\n",
       "      <th>ad_Open</th>\n",
       "      <th>ad_High</th>\n",
       "      <th>ad_Low</th>\n",
       "      <th>ad_Close</th>\n",
       "      <th>ad_Volume</th>\n",
       "      <th>ad_Target</th>\n",
       "    </tr>\n",
       "  </thead>\n",
       "  <tbody>\n",
       "    <tr>\n",
       "      <th>1483</th>\n",
       "      <td>20170104_8194</td>\n",
       "      <td>2017-01-04</td>\n",
       "      <td>8194</td>\n",
       "      <td>3325.0</td>\n",
       "      <td>3390.0</td>\n",
       "      <td>3300.0</td>\n",
       "      <td>3380.0</td>\n",
       "      <td>36100</td>\n",
       "      <td>1.0</td>\n",
       "      <td>NaN</td>\n",
       "      <td>False</td>\n",
       "      <td>-0.002963</td>\n",
       "      <td>3325.0</td>\n",
       "      <td>3390.0</td>\n",
       "      <td>3300.0</td>\n",
       "      <td>3380.0</td>\n",
       "      <td>36100.0</td>\n",
       "      <td>-0.002963</td>\n",
       "    </tr>\n",
       "    <tr>\n",
       "      <th>3348</th>\n",
       "      <td>20170105_8194</td>\n",
       "      <td>2017-01-05</td>\n",
       "      <td>8194</td>\n",
       "      <td>3395.0</td>\n",
       "      <td>3420.0</td>\n",
       "      <td>3360.0</td>\n",
       "      <td>3375.0</td>\n",
       "      <td>19400</td>\n",
       "      <td>1.0</td>\n",
       "      <td>NaN</td>\n",
       "      <td>False</td>\n",
       "      <td>-0.020802</td>\n",
       "      <td>3395.0</td>\n",
       "      <td>3420.0</td>\n",
       "      <td>3360.0</td>\n",
       "      <td>3375.0</td>\n",
       "      <td>19400.0</td>\n",
       "      <td>-0.020802</td>\n",
       "    </tr>\n",
       "    <tr>\n",
       "      <th>5213</th>\n",
       "      <td>20170106_8194</td>\n",
       "      <td>2017-01-06</td>\n",
       "      <td>8194</td>\n",
       "      <td>3365.0</td>\n",
       "      <td>3385.0</td>\n",
       "      <td>3335.0</td>\n",
       "      <td>3365.0</td>\n",
       "      <td>23000</td>\n",
       "      <td>1.0</td>\n",
       "      <td>NaN</td>\n",
       "      <td>False</td>\n",
       "      <td>-0.00607</td>\n",
       "      <td>3365.0</td>\n",
       "      <td>3385.0</td>\n",
       "      <td>3335.0</td>\n",
       "      <td>3365.0</td>\n",
       "      <td>23000.0</td>\n",
       "      <td>-0.00607</td>\n",
       "    </tr>\n",
       "    <tr>\n",
       "      <th>7078</th>\n",
       "      <td>20170110_8194</td>\n",
       "      <td>2017-01-10</td>\n",
       "      <td>8194</td>\n",
       "      <td>3350.0</td>\n",
       "      <td>3360.0</td>\n",
       "      <td>3290.0</td>\n",
       "      <td>3295.0</td>\n",
       "      <td>42400</td>\n",
       "      <td>1.0</td>\n",
       "      <td>NaN</td>\n",
       "      <td>False</td>\n",
       "      <td>-0.022901</td>\n",
       "      <td>3350.0</td>\n",
       "      <td>3360.0</td>\n",
       "      <td>3290.0</td>\n",
       "      <td>3295.0</td>\n",
       "      <td>42400.0</td>\n",
       "      <td>-0.022901</td>\n",
       "    </tr>\n",
       "    <tr>\n",
       "      <th>8943</th>\n",
       "      <td>20170111_8194</td>\n",
       "      <td>2017-01-11</td>\n",
       "      <td>8194</td>\n",
       "      <td>3330.0</td>\n",
       "      <td>3330.0</td>\n",
       "      <td>3260.0</td>\n",
       "      <td>3275.0</td>\n",
       "      <td>20200</td>\n",
       "      <td>1.0</td>\n",
       "      <td>NaN</td>\n",
       "      <td>False</td>\n",
       "      <td>0.054688</td>\n",
       "      <td>3330.0</td>\n",
       "      <td>3330.0</td>\n",
       "      <td>3260.0</td>\n",
       "      <td>3275.0</td>\n",
       "      <td>20200.0</td>\n",
       "      <td>0.054688</td>\n",
       "    </tr>\n",
       "  </tbody>\n",
       "</table>\n",
       "</div>"
      ],
      "text/plain": [
       "              RowId       Date SecuritiesCode    Open    High     Low   Close  \\\n",
       "1483  20170104_8194 2017-01-04           8194  3325.0  3390.0  3300.0  3380.0   \n",
       "3348  20170105_8194 2017-01-05           8194  3395.0  3420.0  3360.0  3375.0   \n",
       "5213  20170106_8194 2017-01-06           8194  3365.0  3385.0  3335.0  3365.0   \n",
       "7078  20170110_8194 2017-01-10           8194  3350.0  3360.0  3290.0  3295.0   \n",
       "8943  20170111_8194 2017-01-11           8194  3330.0  3330.0  3260.0  3275.0   \n",
       "\n",
       "     Volume AdjustmentFactor ExpectedDividend SupervisionFlag    Target  \\\n",
       "1483  36100              1.0              NaN           False -0.002963   \n",
       "3348  19400              1.0              NaN           False -0.020802   \n",
       "5213  23000              1.0              NaN           False  -0.00607   \n",
       "7078  42400              1.0              NaN           False -0.022901   \n",
       "8943  20200              1.0              NaN           False  0.054688   \n",
       "\n",
       "     ad_Open ad_High  ad_Low ad_Close ad_Volume ad_Target  \n",
       "1483  3325.0  3390.0  3300.0   3380.0   36100.0 -0.002963  \n",
       "3348  3395.0  3420.0  3360.0   3375.0   19400.0 -0.020802  \n",
       "5213  3365.0  3385.0  3335.0   3365.0   23000.0  -0.00607  \n",
       "7078  3350.0  3360.0  3290.0   3295.0   42400.0 -0.022901  \n",
       "8943  3330.0  3330.0  3260.0   3275.0   20200.0  0.054688  "
      ]
     },
     "execution_count": 5,
     "metadata": {},
     "output_type": "execute_result"
    }
   ],
   "source": [
    "from functions import df_security_code\n",
    "\n",
    "df = df_security_code(adjusted_price, 8194)\n",
    "df.head()"
   ]
  },
  {
   "cell_type": "code",
   "execution_count": null,
   "metadata": {},
   "outputs": [],
   "source": []
  },
  {
   "cell_type": "code",
   "execution_count": 6,
   "metadata": {},
   "outputs": [
    {
     "ename": "NameError",
     "evalue": "name 'rsi' is not defined",
     "output_type": "error",
     "traceback": [
      "\u001b[0;31m---------------------------------------------------------------------------\u001b[0m",
      "\u001b[0;31mNameError\u001b[0m                                 Traceback (most recent call last)",
      "\u001b[1;32m/Users/valentina/ds/tokyo-stock-exchange/preprocessing.ipynb Cell 9'\u001b[0m in \u001b[0;36m<cell line: 1>\u001b[0;34m()\u001b[0m\n\u001b[0;32m----> <a href='vscode-notebook-cell:/Users/valentina/ds/tokyo-stock-exchange/preprocessing.ipynb#ch0000059?line=0'>1</a>\u001b[0m df[\u001b[39m'\u001b[39m\u001b[39mRSI\u001b[39m\u001b[39m'\u001b[39m] \u001b[39m=\u001b[39m rsi(df\u001b[39m.\u001b[39mad_Close)\n",
      "\u001b[0;31mNameError\u001b[0m: name 'rsi' is not defined"
     ]
    }
   ],
   "source": []
  },
  {
   "cell_type": "code",
   "execution_count": null,
   "metadata": {},
   "outputs": [],
   "source": []
  },
  {
   "cell_type": "code",
   "execution_count": null,
   "metadata": {},
   "outputs": [],
   "source": [
    "# TODO  features RSI\n",
    "\n",
    "def price_features(price):\n",
    "    \n",
    "    def rsi (df_serie,periods = 14, ema = True): # x = 5,7,9,14,21,30\n",
    "        # RSI = 100–(100/1 + RS) ; RS = Av Gain / Av loss\n",
    "\n",
    "        \n",
    "        close_delta = df_serie.diff() # .dropna()\n",
    "\n",
    "        # Make two series: one for lower closes and one for higher closes\n",
    "        up = close_delta.clip(lower=0)\n",
    "        down = -1 * close_delta.clip(upper=0)\n",
    "\n",
    "        if ema == True: # exponential moving average\n",
    "            ma_up = up.ewm(com= periods - 1, adjust=True, min_periods = periods).mean()\n",
    "            ma_down = down.ewm(com = periods - 1, adjust=True, min_periods = periods).mean()\n",
    "        \n",
    "        else: # using moving average\n",
    "            ma_up = up.rolling(window = periods, adjust=False).mean()\n",
    "            ma_down = down.ewm(window = periods, adjust=False).mean()\n",
    "        \n",
    "        rs = ma_up / ma_down\n",
    "        rsi = 100 - (100 / (1+rs))\n",
    "\n",
    "        return rsi\n",
    "\n",
    "    # for each security\n",
    "    codes = set(price.SecuritiesCode.unique())\n",
    "\n",
    "    # create an empty new DataFrame\n",
    "    price_features = pd.DataFrame(columns = price.columns)\n",
    "\n",
    "    for i in tqdm(codes):\n",
    "        df = price.query('SecuritiesCode ==@i')\n",
    "        df['rsi'] = rsi(df['ad_Close'], 14)  # Werte über 70 als überkauft (geht runter) und Werte unter 30 als überverkauft\n",
    "        \n",
    "        \n",
    "\n",
    "        #adjusted_df = adjust_price_slide(df)\n",
    "        price_features = pd.concat([price_features, df], axis=0)\n",
    "    price_features['Date'] = pd.to_datetime(price_features['Date']) \n",
    "\n",
    "    return price_features\n"
   ]
  },
  {
   "cell_type": "markdown",
   "metadata": {},
   "source": [
    "## - Financials"
   ]
  },
  {
   "cell_type": "code",
   "execution_count": null,
   "metadata": {},
   "outputs": [],
   "source": [
    "#from feature_engineering import fill_finances\n",
    "\n",
    "financial = financial = pd.read_csv('data/train_files/financials.csv',parse_dates=[2])\n",
    "financial.head(2)"
   ]
  },
  {
   "cell_type": "code",
   "execution_count": null,
   "metadata": {},
   "outputs": [],
   "source": [
    "from feature_engineering import fill_finances_knn\n",
    "\n",
    "\n",
    "\n",
    "filled_finances = fill_finances_knn(financial, prices)\n",
    "filled_finances.head()\n",
    "filled_finances.shape"
   ]
  },
  {
   "cell_type": "code",
   "execution_count": null,
   "metadata": {},
   "outputs": [],
   "source": [
    "# ffill and drop \n",
    "\n",
    "\n",
    "def new_features_financial(filled_finances):\n",
    "    sec_codes = filled_finances.SecuritiesCode.unique()\n",
    "\n",
    "    filled_financial_feat = pd.DataFrame(columns=filled_finances.columns)\n",
    "\n",
    "    for i in tqdm(sec_codes):\n",
    "        # select a security code\n",
    "        aktie = filled_finances.query('SecuritiesCode == @i')\n",
    "        aktie.sort_values('Date')\n",
    "        # create new features:\n",
    "        aktie['margin'] = aktie['Profit'] / aktie['NetSales'] * 100\n",
    "        aktie['profit_ttm'] = aktie['Profit'].shift(3) + aktie['Profit'].shift(2) + aktie['Profit'].shift(1) + aktie['Profit']\n",
    "        aktie['rev_ttm'] = aktie['NetSales'].shift(3) + aktie['NetSales'].shift(2) + aktie['NetSales'].shift(1) + aktie['NetSales']\n",
    "        aktie['win_quarter_growth'] = (aktie['Profit'] - aktie['Profit'].shift(1)) / aktie['Profit'].shift(1) * 100\n",
    "        aktie['rev_quarter_growth'] = (aktie['NetSales'] - aktie['NetSales'].shift(1)) / aktie['NetSales'].shift(1) * 100\n",
    "        aktie['win_yoy_growth'] = (aktie['Profit'] - aktie['Profit'].shift(4)) / aktie['Profit'].shift(4) * 100\n",
    "        aktie['rev_yoy_growth'] = (aktie['NetSales'] - aktie['NetSales'].shift(4)) / aktie['NetSales'].shift(4) * 100\n",
    "        aktie['win_ttm_growth'] = (aktie['profit_ttm'] - aktie['profit_ttm'].shift(1)) / aktie['profit_ttm'].shift(1) * 100\n",
    "        aktie['rev_ttm_growth'] = (aktie['rev_ttm'] - aktie['rev_ttm'].shift(1)) / aktie['rev_ttm'].shift(1) * 100\n",
    "\n",
    "        # fill\n",
    "        aktie = aktie.ffill()\n",
    "        aktie = aktie.dropna(axis=0)\n",
    "\n",
    "        filled_financial_feat  = pd.concat([filled_financial_feat , aktie])\n",
    "\n",
    "        filled_financial_feat['Date'] = pd.to_datetime(filled_financial_feat['Date']) \n",
    "    \n",
    "    return filled_financial_feat"
   ]
  },
  {
   "cell_type": "code",
   "execution_count": null,
   "metadata": {},
   "outputs": [],
   "source": [
    "filled_financial_features = new_features_financial(filled_finances)"
   ]
  },
  {
   "cell_type": "code",
   "execution_count": null,
   "metadata": {},
   "outputs": [],
   "source": [
    "\"\"\"from functions import plot_stock\n",
    "code = 1301\n",
    "\n",
    "plot_stock(filled_financial_features, code,'win_ttm_growth' )\"\"\""
   ]
  },
  {
   "cell_type": "code",
   "execution_count": null,
   "metadata": {},
   "outputs": [],
   "source": [
    "filled_financial_features.head(2)\n"
   ]
  },
  {
   "cell_type": "code",
   "execution_count": null,
   "metadata": {},
   "outputs": [],
   "source": [
    "filled_financial_features.SecuritiesCode = filled_financial_features.SecuritiesCode.astype(int)"
   ]
  },
  {
   "cell_type": "code",
   "execution_count": null,
   "metadata": {},
   "outputs": [],
   "source": [
    "filled_financial_features.head(2)"
   ]
  },
  {
   "cell_type": "code",
   "execution_count": null,
   "metadata": {},
   "outputs": [],
   "source": [
    "adjusted_price.head(2)"
   ]
  },
  {
   "cell_type": "code",
   "execution_count": null,
   "metadata": {},
   "outputs": [],
   "source": []
  },
  {
   "cell_type": "markdown",
   "metadata": {},
   "source": [
    "## - financials + price"
   ]
  },
  {
   "cell_type": "code",
   "execution_count": null,
   "metadata": {},
   "outputs": [],
   "source": [
    "# create key on financial : RowId\n",
    "filled_financial_features['RowId'] = filled_financial_features.Date.dt.strftime('%Y%m%d').astype(str) + '_' + filled_financial_features.SecuritiesCode.astype(str)"
   ]
  },
  {
   "cell_type": "code",
   "execution_count": null,
   "metadata": {},
   "outputs": [],
   "source": [
    "#filled_financial_features.sort_values('Date').head(20)"
   ]
  },
  {
   "cell_type": "code",
   "execution_count": null,
   "metadata": {},
   "outputs": [],
   "source": [
    "filled_financial_features.RowID.info()"
   ]
  },
  {
   "cell_type": "code",
   "execution_count": null,
   "metadata": {},
   "outputs": [],
   "source": [
    "# concat financials and price\n",
    "price_financial = pd.merge(adjusted_price, filled_financial_features, how='left', on='RowId', suffixes=[None, 'f_'])\n",
    "#price_financial = pd.concat([adjusted_price, filled_financial_features], keys='RowID')"
   ]
  },
  {
   "cell_type": "code",
   "execution_count": null,
   "metadata": {},
   "outputs": [],
   "source": [
    "price_financial.shape"
   ]
  },
  {
   "cell_type": "code",
   "execution_count": null,
   "metadata": {},
   "outputs": [],
   "source": [
    "price_financial.head()"
   ]
  },
  {
   "cell_type": "code",
   "execution_count": null,
   "metadata": {},
   "outputs": [],
   "source": [
    "price_financial.query('RowID == \"20180209_1301\"')\n"
   ]
  },
  {
   "cell_type": "code",
   "execution_count": null,
   "metadata": {},
   "outputs": [],
   "source": [
    "price_financial.shape"
   ]
  },
  {
   "cell_type": "code",
   "execution_count": null,
   "metadata": {},
   "outputs": [],
   "source": [
    "from functions import missingValues\n",
    "\n",
    "missingValues(price_financial)"
   ]
  },
  {
   "cell_type": "code",
   "execution_count": null,
   "metadata": {},
   "outputs": [],
   "source": [
    "# ffill and drop \n",
    "\n",
    "def fill_drop_pro_code(df):\n",
    "    sec_codes = df.SecuritiesCode.unique()\n",
    "\n",
    "    df_fill_na = pd.DataFrame(columns=price_financial.columns)\n",
    "\n",
    "    for i in tqdm(sec_codes):\n",
    "\n",
    "        current = df.query('SecuritiesCode == @i')\n",
    "        current.sort_values('Date')\n",
    "        current = current.ffill()\n",
    "        current = current.dropna(axis=0)\n",
    "\n",
    "        df_fill_na  = pd.concat([df_fill_na , current])\n",
    "\n",
    "    df_fill_na['Date'] = pd.to_datetime(df_fill_na['Date'])\n",
    "    \n",
    "    return df_fill_na"
   ]
  },
  {
   "cell_type": "code",
   "execution_count": null,
   "metadata": {},
   "outputs": [],
   "source": [
    "price_financial_fill = fill_drop_pro_code(price_financial)"
   ]
  },
  {
   "cell_type": "code",
   "execution_count": null,
   "metadata": {},
   "outputs": [],
   "source": [
    "# new features\n",
    "#price_financial_fill.drop_duplicates(inplace=True)\n",
    "price_financial_fill.shape"
   ]
  },
  {
   "cell_type": "code",
   "execution_count": null,
   "metadata": {},
   "outputs": [],
   "source": [
    "# save dataframe to csv\n",
    "price_financial_fill.to_csv('data/current.csv')"
   ]
  },
  {
   "cell_type": "markdown",
   "metadata": {},
   "source": [
    "TODOS: "
   ]
  },
  {
   "cell_type": "code",
   "execution_count": null,
   "metadata": {},
   "outputs": [],
   "source": [
    "# TODO encode flag"
   ]
  }
 ],
 "metadata": {
  "interpreter": {
   "hash": "8e59dc4903522b6bd625aac9b906fbe96a3134871878cc11f65b8580a1e47af4"
  },
  "kernelspec": {
   "display_name": "Python 3.9.4 ('.venv': venv)",
   "language": "python",
   "name": "python3"
  },
  "language_info": {
   "codemirror_mode": {
    "name": "ipython",
    "version": 3
   },
   "file_extension": ".py",
   "mimetype": "text/x-python",
   "name": "python",
   "nbconvert_exporter": "python",
   "pygments_lexer": "ipython3",
   "version": "3.9.4"
  },
  "orig_nbformat": 4
 },
 "nbformat": 4,
 "nbformat_minor": 2
}
