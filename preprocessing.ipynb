{
 "cells": [
  {
   "cell_type": "markdown",
   "metadata": {},
   "source": [
    "# Processing data for modelling"
   ]
  },
  {
   "cell_type": "markdown",
   "metadata": {},
   "source": [
    "## - Stock price"
   ]
  },
  {
   "cell_type": "code",
   "execution_count": 1,
   "metadata": {},
   "outputs": [
    {
     "name": "stdout",
     "output_type": "stream",
     "text": [
      "(2332531, 12)\n"
     ]
    },
    {
     "data": {
      "text/html": [
       "<div>\n",
       "<style scoped>\n",
       "    .dataframe tbody tr th:only-of-type {\n",
       "        vertical-align: middle;\n",
       "    }\n",
       "\n",
       "    .dataframe tbody tr th {\n",
       "        vertical-align: top;\n",
       "    }\n",
       "\n",
       "    .dataframe thead th {\n",
       "        text-align: right;\n",
       "    }\n",
       "</style>\n",
       "<table border=\"1\" class=\"dataframe\">\n",
       "  <thead>\n",
       "    <tr style=\"text-align: right;\">\n",
       "      <th></th>\n",
       "      <th>RowId</th>\n",
       "      <th>Date</th>\n",
       "      <th>SecuritiesCode</th>\n",
       "      <th>Open</th>\n",
       "      <th>High</th>\n",
       "      <th>Low</th>\n",
       "      <th>Close</th>\n",
       "      <th>Volume</th>\n",
       "      <th>AdjustmentFactor</th>\n",
       "      <th>ExpectedDividend</th>\n",
       "      <th>SupervisionFlag</th>\n",
       "      <th>Target</th>\n",
       "    </tr>\n",
       "  </thead>\n",
       "  <tbody>\n",
       "    <tr>\n",
       "      <th>0</th>\n",
       "      <td>20170104_1301</td>\n",
       "      <td>2017-01-04</td>\n",
       "      <td>1301</td>\n",
       "      <td>2734.0</td>\n",
       "      <td>2755.0</td>\n",
       "      <td>2730.0</td>\n",
       "      <td>2742.0</td>\n",
       "      <td>31400</td>\n",
       "      <td>1.0</td>\n",
       "      <td>NaN</td>\n",
       "      <td>False</td>\n",
       "      <td>0.000730</td>\n",
       "    </tr>\n",
       "    <tr>\n",
       "      <th>1</th>\n",
       "      <td>20170104_1332</td>\n",
       "      <td>2017-01-04</td>\n",
       "      <td>1332</td>\n",
       "      <td>568.0</td>\n",
       "      <td>576.0</td>\n",
       "      <td>563.0</td>\n",
       "      <td>571.0</td>\n",
       "      <td>2798500</td>\n",
       "      <td>1.0</td>\n",
       "      <td>NaN</td>\n",
       "      <td>False</td>\n",
       "      <td>0.012324</td>\n",
       "    </tr>\n",
       "  </tbody>\n",
       "</table>\n",
       "</div>"
      ],
      "text/plain": [
       "           RowId       Date  SecuritiesCode    Open    High     Low   Close  \\\n",
       "0  20170104_1301 2017-01-04            1301  2734.0  2755.0  2730.0  2742.0   \n",
       "1  20170104_1332 2017-01-04            1332   568.0   576.0   563.0   571.0   \n",
       "\n",
       "    Volume  AdjustmentFactor  ExpectedDividend  SupervisionFlag    Target  \n",
       "0    31400               1.0               NaN            False  0.000730  \n",
       "1  2798500               1.0               NaN            False  0.012324  "
      ]
     },
     "execution_count": 1,
     "metadata": {},
     "output_type": "execute_result"
    }
   ],
   "source": [
    "import pandas as pd\n",
    "# test with feature_engineering.py\n",
    "prices = pd.read_csv('data/train_files/stock_prices.csv', parse_dates=[1])\n",
    "print(prices.shape)\n",
    "prices.head(2)\n"
   ]
  },
  {
   "cell_type": "code",
   "execution_count": 2,
   "metadata": {},
   "outputs": [
    {
     "name": "stderr",
     "output_type": "stream",
     "text": [
      "100%|██████████| 2000/2000 [06:04<00:00,  5.49it/s]\n"
     ]
    },
    {
     "name": "stdout",
     "output_type": "stream",
     "text": [
      "(2332531, 12)\n"
     ]
    },
    {
     "data": {
      "text/html": [
       "<div>\n",
       "<style scoped>\n",
       "    .dataframe tbody tr th:only-of-type {\n",
       "        vertical-align: middle;\n",
       "    }\n",
       "\n",
       "    .dataframe tbody tr th {\n",
       "        vertical-align: top;\n",
       "    }\n",
       "\n",
       "    .dataframe thead th {\n",
       "        text-align: right;\n",
       "    }\n",
       "</style>\n",
       "<table border=\"1\" class=\"dataframe\">\n",
       "  <thead>\n",
       "    <tr style=\"text-align: right;\">\n",
       "      <th></th>\n",
       "      <th>RowId</th>\n",
       "      <th>Date</th>\n",
       "      <th>SecuritiesCode</th>\n",
       "      <th>Open</th>\n",
       "      <th>High</th>\n",
       "      <th>Low</th>\n",
       "      <th>Close</th>\n",
       "      <th>Volume</th>\n",
       "      <th>AdjustmentFactor</th>\n",
       "      <th>ExpectedDividend</th>\n",
       "      <th>SupervisionFlag</th>\n",
       "      <th>Target</th>\n",
       "    </tr>\n",
       "  </thead>\n",
       "  <tbody>\n",
       "    <tr>\n",
       "      <th>0</th>\n",
       "      <td>20170104_1301</td>\n",
       "      <td>2017-01-04</td>\n",
       "      <td>1301</td>\n",
       "      <td>2734.0</td>\n",
       "      <td>2755.0</td>\n",
       "      <td>2730.0</td>\n",
       "      <td>2742.0</td>\n",
       "      <td>31400</td>\n",
       "      <td>1.0</td>\n",
       "      <td>NaN</td>\n",
       "      <td>False</td>\n",
       "      <td>0.00073</td>\n",
       "    </tr>\n",
       "    <tr>\n",
       "      <th>1865</th>\n",
       "      <td>20170105_1301</td>\n",
       "      <td>2017-01-05</td>\n",
       "      <td>1301</td>\n",
       "      <td>2743.0</td>\n",
       "      <td>2747.0</td>\n",
       "      <td>2735.0</td>\n",
       "      <td>2738.0</td>\n",
       "      <td>17900</td>\n",
       "      <td>1.0</td>\n",
       "      <td>NaN</td>\n",
       "      <td>False</td>\n",
       "      <td>0.00292</td>\n",
       "    </tr>\n",
       "  </tbody>\n",
       "</table>\n",
       "</div>"
      ],
      "text/plain": [
       "              RowId       Date SecuritiesCode    Open    High     Low   Close  \\\n",
       "0     20170104_1301 2017-01-04           1301  2734.0  2755.0  2730.0  2742.0   \n",
       "1865  20170105_1301 2017-01-05           1301  2743.0  2747.0  2735.0  2738.0   \n",
       "\n",
       "     Volume AdjustmentFactor ExpectedDividend SupervisionFlag   Target  \n",
       "0     31400              1.0              NaN           False  0.00073  \n",
       "1865  17900              1.0              NaN           False  0.00292  "
      ]
     },
     "execution_count": 2,
     "metadata": {},
     "output_type": "execute_result"
    }
   ],
   "source": [
    "\n",
    "from feature_engineering import fill_and_drop_na_values\n",
    "\n",
    "fill_prices = fill_and_drop_na_values(prices)\n",
    "print(fill_prices.shape)\n",
    "fill_prices.head(2)\n"
   ]
  },
  {
   "cell_type": "code",
   "execution_count": 4,
   "metadata": {},
   "outputs": [],
   "source": [
    "from datetime import datetime\n",
    "#fill_prices['Date'] = fill_prices['Date'].apply(lambda x: datetime.strptime(str(x),'%Y-%m-%d'))\n",
    "#fill_prices['Date'] = pd.to_datetime(fill_prices['Date'])"
   ]
  },
  {
   "cell_type": "code",
   "execution_count": 6,
   "metadata": {},
   "outputs": [
    {
     "name": "stderr",
     "output_type": "stream",
     "text": [
      "100%|██████████| 2000/2000 [19:32<00:00,  1.71it/s]\n"
     ]
    },
    {
     "name": "stdout",
     "output_type": "stream",
     "text": [
      "(2332531, 18)\n"
     ]
    },
    {
     "data": {
      "text/html": [
       "<div>\n",
       "<style scoped>\n",
       "    .dataframe tbody tr th:only-of-type {\n",
       "        vertical-align: middle;\n",
       "    }\n",
       "\n",
       "    .dataframe tbody tr th {\n",
       "        vertical-align: top;\n",
       "    }\n",
       "\n",
       "    .dataframe thead th {\n",
       "        text-align: right;\n",
       "    }\n",
       "</style>\n",
       "<table border=\"1\" class=\"dataframe\">\n",
       "  <thead>\n",
       "    <tr style=\"text-align: right;\">\n",
       "      <th></th>\n",
       "      <th>RowId</th>\n",
       "      <th>Date</th>\n",
       "      <th>SecuritiesCode</th>\n",
       "      <th>Open</th>\n",
       "      <th>High</th>\n",
       "      <th>Low</th>\n",
       "      <th>Close</th>\n",
       "      <th>Volume</th>\n",
       "      <th>AdjustmentFactor</th>\n",
       "      <th>ExpectedDividend</th>\n",
       "      <th>SupervisionFlag</th>\n",
       "      <th>Target</th>\n",
       "      <th>ad_Open</th>\n",
       "      <th>ad_High</th>\n",
       "      <th>ad_Low</th>\n",
       "      <th>ad_Close</th>\n",
       "      <th>ad_Volume</th>\n",
       "      <th>ad_Target</th>\n",
       "    </tr>\n",
       "  </thead>\n",
       "  <tbody>\n",
       "    <tr>\n",
       "      <th>1483</th>\n",
       "      <td>20170104_8194</td>\n",
       "      <td>2017-01-04</td>\n",
       "      <td>8194</td>\n",
       "      <td>3325.0</td>\n",
       "      <td>3390.0</td>\n",
       "      <td>3300.0</td>\n",
       "      <td>3380.0</td>\n",
       "      <td>36100</td>\n",
       "      <td>1.0</td>\n",
       "      <td>NaN</td>\n",
       "      <td>False</td>\n",
       "      <td>-0.002963</td>\n",
       "      <td>3325.0</td>\n",
       "      <td>3390.0</td>\n",
       "      <td>3300.0</td>\n",
       "      <td>3380.0</td>\n",
       "      <td>36100.0</td>\n",
       "      <td>-0.002963</td>\n",
       "    </tr>\n",
       "    <tr>\n",
       "      <th>3348</th>\n",
       "      <td>20170105_8194</td>\n",
       "      <td>2017-01-05</td>\n",
       "      <td>8194</td>\n",
       "      <td>3395.0</td>\n",
       "      <td>3420.0</td>\n",
       "      <td>3360.0</td>\n",
       "      <td>3375.0</td>\n",
       "      <td>19400</td>\n",
       "      <td>1.0</td>\n",
       "      <td>NaN</td>\n",
       "      <td>False</td>\n",
       "      <td>-0.020802</td>\n",
       "      <td>3395.0</td>\n",
       "      <td>3420.0</td>\n",
       "      <td>3360.0</td>\n",
       "      <td>3375.0</td>\n",
       "      <td>19400.0</td>\n",
       "      <td>-0.020802</td>\n",
       "    </tr>\n",
       "  </tbody>\n",
       "</table>\n",
       "</div>"
      ],
      "text/plain": [
       "              RowId       Date SecuritiesCode    Open    High     Low   Close  \\\n",
       "1483  20170104_8194 2017-01-04           8194  3325.0  3390.0  3300.0  3380.0   \n",
       "3348  20170105_8194 2017-01-05           8194  3395.0  3420.0  3360.0  3375.0   \n",
       "\n",
       "     Volume AdjustmentFactor ExpectedDividend SupervisionFlag    Target  \\\n",
       "1483  36100              1.0              NaN           False -0.002963   \n",
       "3348  19400              1.0              NaN           False -0.020802   \n",
       "\n",
       "     ad_Open ad_High  ad_Low ad_Close ad_Volume ad_Target  \n",
       "1483  3325.0  3390.0  3300.0   3380.0   36100.0 -0.002963  \n",
       "3348  3395.0  3420.0  3360.0   3375.0   19400.0 -0.020802  "
      ]
     },
     "execution_count": 6,
     "metadata": {},
     "output_type": "execute_result"
    }
   ],
   "source": [
    "from feature_engineering import adjust_price\n",
    "\n",
    "adjusted_price = adjust_price(fill_prices)\n",
    "print(adjusted_price.shape)\n",
    "adjusted_price.head(2)"
   ]
  },
  {
   "cell_type": "code",
   "execution_count": 7,
   "metadata": {},
   "outputs": [],
   "source": [
    "#adjusted_price['Date'] = pd.to_datetime(adjusted_price['Date'])"
   ]
  },
  {
   "cell_type": "markdown",
   "metadata": {},
   "source": [
    "## - Financials"
   ]
  },
  {
   "cell_type": "code",
   "execution_count": 8,
   "metadata": {},
   "outputs": [
    {
     "data": {
      "text/html": [
       "<div>\n",
       "<style scoped>\n",
       "    .dataframe tbody tr th:only-of-type {\n",
       "        vertical-align: middle;\n",
       "    }\n",
       "\n",
       "    .dataframe tbody tr th {\n",
       "        vertical-align: top;\n",
       "    }\n",
       "\n",
       "    .dataframe thead th {\n",
       "        text-align: right;\n",
       "    }\n",
       "</style>\n",
       "<table border=\"1\" class=\"dataframe\">\n",
       "  <thead>\n",
       "    <tr style=\"text-align: right;\">\n",
       "      <th></th>\n",
       "      <th>DisclosureNumber</th>\n",
       "      <th>DateCode</th>\n",
       "      <th>Date</th>\n",
       "      <th>SecuritiesCode</th>\n",
       "      <th>DisclosedDate</th>\n",
       "      <th>DisclosedTime</th>\n",
       "      <th>DisclosedUnixTime</th>\n",
       "      <th>TypeOfDocument</th>\n",
       "      <th>CurrentPeriodEndDate</th>\n",
       "      <th>TypeOfCurrentPeriod</th>\n",
       "      <th>...</th>\n",
       "      <th>ForecastEarningsPerShare</th>\n",
       "      <th>ApplyingOfSpecificAccountingOfTheQuarterlyFinancialStatements</th>\n",
       "      <th>MaterialChangesInSubsidiaries</th>\n",
       "      <th>ChangesBasedOnRevisionsOfAccountingStandard</th>\n",
       "      <th>ChangesOtherThanOnesBasedOnRevisionsOfAccountingStandard</th>\n",
       "      <th>ChangesInAccountingEstimates</th>\n",
       "      <th>RetrospectiveRestatement</th>\n",
       "      <th>NumberOfIssuedAndOutstandingSharesAtTheEndOfFiscalYearIncludingTreasuryStock</th>\n",
       "      <th>NumberOfTreasuryStockAtTheEndOfFiscalYear</th>\n",
       "      <th>AverageNumberOfShares</th>\n",
       "    </tr>\n",
       "  </thead>\n",
       "  <tbody>\n",
       "    <tr>\n",
       "      <th>0</th>\n",
       "      <td>2.016121e+13</td>\n",
       "      <td>20170104_2753</td>\n",
       "      <td>2017-01-04</td>\n",
       "      <td>2753.0</td>\n",
       "      <td>2017-01-04</td>\n",
       "      <td>07:30:00</td>\n",
       "      <td>1.483483e+09</td>\n",
       "      <td>3QFinancialStatements_Consolidated_JP</td>\n",
       "      <td>2016-12-31</td>\n",
       "      <td>3Q</td>\n",
       "      <td>...</td>\n",
       "      <td>319.76</td>\n",
       "      <td>NaN</td>\n",
       "      <td>False</td>\n",
       "      <td>True</td>\n",
       "      <td>False</td>\n",
       "      <td>False</td>\n",
       "      <td>False</td>\n",
       "      <td>6848800.0</td>\n",
       "      <td>－</td>\n",
       "      <td>6848800.0</td>\n",
       "    </tr>\n",
       "    <tr>\n",
       "      <th>1</th>\n",
       "      <td>2.017010e+13</td>\n",
       "      <td>20170104_3353</td>\n",
       "      <td>2017-01-04</td>\n",
       "      <td>3353.0</td>\n",
       "      <td>2017-01-04</td>\n",
       "      <td>15:00:00</td>\n",
       "      <td>1.483510e+09</td>\n",
       "      <td>3QFinancialStatements_Consolidated_JP</td>\n",
       "      <td>2016-11-30</td>\n",
       "      <td>3Q</td>\n",
       "      <td>...</td>\n",
       "      <td>485.36</td>\n",
       "      <td>NaN</td>\n",
       "      <td>False</td>\n",
       "      <td>True</td>\n",
       "      <td>False</td>\n",
       "      <td>False</td>\n",
       "      <td>False</td>\n",
       "      <td>2035000.0</td>\n",
       "      <td>118917</td>\n",
       "      <td>1916083.0</td>\n",
       "    </tr>\n",
       "  </tbody>\n",
       "</table>\n",
       "<p>2 rows × 45 columns</p>\n",
       "</div>"
      ],
      "text/plain": [
       "   DisclosureNumber       DateCode       Date  SecuritiesCode DisclosedDate  \\\n",
       "0      2.016121e+13  20170104_2753 2017-01-04          2753.0    2017-01-04   \n",
       "1      2.017010e+13  20170104_3353 2017-01-04          3353.0    2017-01-04   \n",
       "\n",
       "  DisclosedTime  DisclosedUnixTime                         TypeOfDocument  \\\n",
       "0      07:30:00       1.483483e+09  3QFinancialStatements_Consolidated_JP   \n",
       "1      15:00:00       1.483510e+09  3QFinancialStatements_Consolidated_JP   \n",
       "\n",
       "  CurrentPeriodEndDate TypeOfCurrentPeriod  ... ForecastEarningsPerShare  \\\n",
       "0           2016-12-31                  3Q  ...                   319.76   \n",
       "1           2016-11-30                  3Q  ...                   485.36   \n",
       "\n",
       "  ApplyingOfSpecificAccountingOfTheQuarterlyFinancialStatements  \\\n",
       "0                                                NaN              \n",
       "1                                                NaN              \n",
       "\n",
       "  MaterialChangesInSubsidiaries ChangesBasedOnRevisionsOfAccountingStandard  \\\n",
       "0                         False                                        True   \n",
       "1                         False                                        True   \n",
       "\n",
       "  ChangesOtherThanOnesBasedOnRevisionsOfAccountingStandard  \\\n",
       "0                                              False         \n",
       "1                                              False         \n",
       "\n",
       "  ChangesInAccountingEstimates RetrospectiveRestatement  \\\n",
       "0                        False                    False   \n",
       "1                        False                    False   \n",
       "\n",
       "  NumberOfIssuedAndOutstandingSharesAtTheEndOfFiscalYearIncludingTreasuryStock  \\\n",
       "0                                          6848800.0                             \n",
       "1                                          2035000.0                             \n",
       "\n",
       "  NumberOfTreasuryStockAtTheEndOfFiscalYear AverageNumberOfShares  \n",
       "0                                         －             6848800.0  \n",
       "1                                    118917             1916083.0  \n",
       "\n",
       "[2 rows x 45 columns]"
      ]
     },
     "execution_count": 8,
     "metadata": {},
     "output_type": "execute_result"
    }
   ],
   "source": [
    "#from feature_engineering import fill_finances\n",
    "\n",
    "financial = financial = pd.read_csv('data/train_files/financials.csv',parse_dates=[2])\n",
    "financial.head(2)"
   ]
  },
  {
   "cell_type": "code",
   "execution_count": 36,
   "metadata": {},
   "outputs": [],
   "source": [
    "#financial = financial.query('TypeOfDocument != \"ForecastRevision\" or TypeOfDocument != \"ForecastRevision_REIT\"')\n",
    "financial = financial.query('TypeOfDocument != [\"ForecastRevision\", \"ForecastRevision_REIT\"]')"
   ]
  },
  {
   "cell_type": "code",
   "execution_count": 9,
   "metadata": {},
   "outputs": [
    {
     "name": "stderr",
     "output_type": "stream",
     "text": [
      "100%|██████████| 2000/2000 [00:07<00:00, 284.00it/s]\n"
     ]
    },
    {
     "data": {
      "text/plain": [
       "(48142, 7)"
      ]
     },
     "execution_count": 9,
     "metadata": {},
     "output_type": "execute_result"
    }
   ],
   "source": [
    "from feature_engineering import fill_finances_knn\n",
    "\n",
    "\n",
    "\n",
    "filled_finances = fill_finances_knn(financial, prices)\n",
    "filled_finances.head()\n",
    "filled_finances.shape"
   ]
  },
  {
   "cell_type": "code",
   "execution_count": 17,
   "metadata": {},
   "outputs": [
    {
     "data": {
      "text/plain": [
       "2000"
      ]
     },
     "execution_count": 17,
     "metadata": {},
     "output_type": "execute_result"
    }
   ],
   "source": [
    "filled_finances.SecuritiesCode.nunique()"
   ]
  },
  {
   "cell_type": "code",
   "execution_count": 24,
   "metadata": {},
   "outputs": [],
   "source": [
    "# ffill and drop \n",
    "\n",
    "def new_features_financial(filled_finances):\n",
    "    sec_codes = filled_finances.SecuritiesCode.unique()\n",
    "\n",
    "    filled_financial_feat = pd.DataFrame(columns=filled_finances.columns)\n",
    "\n",
    "    for i in tqdm(sec_codes):\n",
    "        # select a security code\n",
    "        aktie = filled_finances.query('SecuritiesCode == @i')\n",
    "        aktie.sort_values('Date')\n",
    "        # create new features:\n",
    "        aktie['margin'] = aktie['Profit'] / aktie['NetSales'] * 100\n",
    "        aktie['profit_ttm'] = aktie['Profit'].shift(3) + aktie['Profit'].shift(2) + aktie['Profit'].shift(1) + aktie['Profit']\n",
    "        aktie['rev_ttm'] = aktie['NetSales'].shift(3) + aktie['NetSales'].shift(2) + aktie['NetSales'].shift(1) + aktie['NetSales']\n",
    "        aktie['win_quarter_growth'] = (aktie['Profit'] - aktie['Profit'].shift(1)) / aktie['Profit'].shift(1) * 100\n",
    "        aktie['rev_quarter_growth'] = (aktie['NetSales'] - aktie['NetSales'].shift(1)) / aktie['NetSales'].shift(1) * 100\n",
    "        aktie['win_yoy_growth'] = (aktie['Profit'] - aktie['Profit'].shift(4)) / aktie['Profit'].shift(4) * 100\n",
    "        aktie['rev_yoy_growth'] = (aktie['NetSales'] - aktie['NetSales'].shift(4)) / aktie['NetSales'].shift(4) * 100\n",
    "        aktie['win_ttm_growth'] = (aktie['profit_ttm'] - aktie['profit_ttm'].shift(1)) / aktie['profit_ttm'].shift(1) * 100\n",
    "        aktie['rev_ttm_growth'] = (aktie['rev_ttm'] - aktie['rev_ttm'].shift(1)) / aktie['rev_ttm'].shift(1) * 100\n",
    "\n",
    "        # fill\n",
    "        aktie = aktie.ffill()\n",
    "        aktie = aktie.dropna(axis=0)\n",
    "\n",
    "        filled_financial_feat  = pd.concat([filled_financial_feat , aktie])\n",
    "    \n",
    "    return filled_financial_feat"
   ]
  },
  {
   "cell_type": "code",
   "execution_count": 25,
   "metadata": {},
   "outputs": [
    {
     "name": "stderr",
     "output_type": "stream",
     "text": [
      "100%|██████████| 2000/2000 [01:26<00:00, 23.05it/s]\n"
     ]
    }
   ],
   "source": [
    "filled_financial_features = new_features_financial(filled_finances)"
   ]
  },
  {
   "cell_type": "code",
   "execution_count": 20,
   "metadata": {},
   "outputs": [
    {
     "data": {
      "text/html": [
       "<div>\n",
       "<style scoped>\n",
       "    .dataframe tbody tr th:only-of-type {\n",
       "        vertical-align: middle;\n",
       "    }\n",
       "\n",
       "    .dataframe tbody tr th {\n",
       "        vertical-align: top;\n",
       "    }\n",
       "\n",
       "    .dataframe thead th {\n",
       "        text-align: right;\n",
       "    }\n",
       "</style>\n",
       "<table border=\"1\" class=\"dataframe\">\n",
       "  <thead>\n",
       "    <tr style=\"text-align: right;\">\n",
       "      <th></th>\n",
       "      <th>Date</th>\n",
       "      <th>Day</th>\n",
       "      <th>Month</th>\n",
       "      <th>Year</th>\n",
       "      <th>SecuritiesCode</th>\n",
       "      <th>Profit</th>\n",
       "      <th>NetSales</th>\n",
       "      <th>margin</th>\n",
       "      <th>profit_ttm</th>\n",
       "      <th>rev_ttm</th>\n",
       "      <th>win_quarter_growth</th>\n",
       "      <th>rev_quarter_growth</th>\n",
       "      <th>win_yoy_growth</th>\n",
       "      <th>rev_yoy_growth</th>\n",
       "      <th>win_ttm_growth</th>\n",
       "      <th>rev_ttm_growth</th>\n",
       "    </tr>\n",
       "  </thead>\n",
       "  <tbody>\n",
       "    <tr>\n",
       "      <th>4</th>\n",
       "      <td>2017-11-06 00:00:00</td>\n",
       "      <td>6.0</td>\n",
       "      <td>11.0</td>\n",
       "      <td>2017.0</td>\n",
       "      <td>1301.0</td>\n",
       "      <td>1633000000.0</td>\n",
       "      <td>120458000000.0</td>\n",
       "      <td>1.355659</td>\n",
       "      <td>6.442000e+09</td>\n",
       "      <td>5.343210e+11</td>\n",
       "      <td>116.578249</td>\n",
       "      <td>111.909788</td>\n",
       "      <td>-33.319722</td>\n",
       "      <td>-33.069593</td>\n",
       "      <td>-11.242767</td>\n",
       "      <td>-10.022430</td>\n",
       "    </tr>\n",
       "    <tr>\n",
       "      <th>5</th>\n",
       "      <td>2018-02-09 00:00:00</td>\n",
       "      <td>9.0</td>\n",
       "      <td>2.0</td>\n",
       "      <td>2018.0</td>\n",
       "      <td>1301.0</td>\n",
       "      <td>2784000000.0</td>\n",
       "      <td>198323000000.0</td>\n",
       "      <td>1.403771</td>\n",
       "      <td>7.593000e+09</td>\n",
       "      <td>6.121860e+11</td>\n",
       "      <td>70.483772</td>\n",
       "      <td>64.640788</td>\n",
       "      <td>70.483772</td>\n",
       "      <td>64.640788</td>\n",
       "      <td>17.867122</td>\n",
       "      <td>14.572701</td>\n",
       "    </tr>\n",
       "    <tr>\n",
       "      <th>6</th>\n",
       "      <td>2018-02-09 00:00:00</td>\n",
       "      <td>9.0</td>\n",
       "      <td>2.0</td>\n",
       "      <td>2018.0</td>\n",
       "      <td>1301.0</td>\n",
       "      <td>1633000000.0</td>\n",
       "      <td>120458000000.0</td>\n",
       "      <td>1.355659</td>\n",
       "      <td>6.804000e+09</td>\n",
       "      <td>4.960830e+11</td>\n",
       "      <td>-41.343391</td>\n",
       "      <td>-39.261709</td>\n",
       "      <td>-32.576383</td>\n",
       "      <td>-49.079519</td>\n",
       "      <td>-10.391150</td>\n",
       "      <td>-18.965314</td>\n",
       "    </tr>\n",
       "    <tr>\n",
       "      <th>7</th>\n",
       "      <td>2018-05-10 00:00:00</td>\n",
       "      <td>10.0</td>\n",
       "      <td>5.0</td>\n",
       "      <td>2018.0</td>\n",
       "      <td>1301.0</td>\n",
       "      <td>3211000000.0</td>\n",
       "      <td>254783000000.0</td>\n",
       "      <td>1.260288</td>\n",
       "      <td>9.261000e+09</td>\n",
       "      <td>6.940220e+11</td>\n",
       "      <td>96.631966</td>\n",
       "      <td>111.511896</td>\n",
       "      <td>325.862069</td>\n",
       "      <td>348.214411</td>\n",
       "      <td>36.111111</td>\n",
       "      <td>39.900380</td>\n",
       "    </tr>\n",
       "    <tr>\n",
       "      <th>8</th>\n",
       "      <td>2018-08-03 00:00:00</td>\n",
       "      <td>3.0</td>\n",
       "      <td>8.0</td>\n",
       "      <td>2018.0</td>\n",
       "      <td>1301.0</td>\n",
       "      <td>555000000.0</td>\n",
       "      <td>57957000000.0</td>\n",
       "      <td>0.957607</td>\n",
       "      <td>8.183000e+09</td>\n",
       "      <td>6.315210e+11</td>\n",
       "      <td>-82.715665</td>\n",
       "      <td>-77.252407</td>\n",
       "      <td>-66.013472</td>\n",
       "      <td>-51.886135</td>\n",
       "      <td>-11.640212</td>\n",
       "      <td>-9.005622</td>\n",
       "    </tr>\n",
       "  </tbody>\n",
       "</table>\n",
       "</div>"
      ],
      "text/plain": [
       "                  Date   Day Month    Year SecuritiesCode        Profit  \\\n",
       "4  2017-11-06 00:00:00   6.0  11.0  2017.0         1301.0  1633000000.0   \n",
       "5  2018-02-09 00:00:00   9.0   2.0  2018.0         1301.0  2784000000.0   \n",
       "6  2018-02-09 00:00:00   9.0   2.0  2018.0         1301.0  1633000000.0   \n",
       "7  2018-05-10 00:00:00  10.0   5.0  2018.0         1301.0  3211000000.0   \n",
       "8  2018-08-03 00:00:00   3.0   8.0  2018.0         1301.0   555000000.0   \n",
       "\n",
       "         NetSales    margin    profit_ttm       rev_ttm  win_quarter_growth  \\\n",
       "4  120458000000.0  1.355659  6.442000e+09  5.343210e+11          116.578249   \n",
       "5  198323000000.0  1.403771  7.593000e+09  6.121860e+11           70.483772   \n",
       "6  120458000000.0  1.355659  6.804000e+09  4.960830e+11          -41.343391   \n",
       "7  254783000000.0  1.260288  9.261000e+09  6.940220e+11           96.631966   \n",
       "8   57957000000.0  0.957607  8.183000e+09  6.315210e+11          -82.715665   \n",
       "\n",
       "   rev_quarter_growth  win_yoy_growth  rev_yoy_growth  win_ttm_growth  \\\n",
       "4          111.909788      -33.319722      -33.069593      -11.242767   \n",
       "5           64.640788       70.483772       64.640788       17.867122   \n",
       "6          -39.261709      -32.576383      -49.079519      -10.391150   \n",
       "7          111.511896      325.862069      348.214411       36.111111   \n",
       "8          -77.252407      -66.013472      -51.886135      -11.640212   \n",
       "\n",
       "   rev_ttm_growth  \n",
       "4      -10.022430  \n",
       "5       14.572701  \n",
       "6      -18.965314  \n",
       "7       39.900380  \n",
       "8       -9.005622  "
      ]
     },
     "execution_count": 20,
     "metadata": {},
     "output_type": "execute_result"
    }
   ],
   "source": [
    "#filled_financial_features.head()"
   ]
  },
  {
   "cell_type": "code",
   "execution_count": 26,
   "metadata": {},
   "outputs": [
    {
     "data": {
      "text/html": [
       "<div>\n",
       "<style scoped>\n",
       "    .dataframe tbody tr th:only-of-type {\n",
       "        vertical-align: middle;\n",
       "    }\n",
       "\n",
       "    .dataframe tbody tr th {\n",
       "        vertical-align: top;\n",
       "    }\n",
       "\n",
       "    .dataframe thead th {\n",
       "        text-align: right;\n",
       "    }\n",
       "</style>\n",
       "<table border=\"1\" class=\"dataframe\">\n",
       "  <thead>\n",
       "    <tr style=\"text-align: right;\">\n",
       "      <th></th>\n",
       "      <th>Date</th>\n",
       "      <th>Day</th>\n",
       "      <th>Month</th>\n",
       "      <th>Year</th>\n",
       "      <th>SecuritiesCode</th>\n",
       "      <th>Profit</th>\n",
       "      <th>NetSales</th>\n",
       "      <th>margin</th>\n",
       "      <th>profit_ttm</th>\n",
       "      <th>rev_ttm</th>\n",
       "      <th>win_quarter_growth</th>\n",
       "      <th>rev_quarter_growth</th>\n",
       "      <th>win_yoy_growth</th>\n",
       "      <th>rev_yoy_growth</th>\n",
       "      <th>win_ttm_growth</th>\n",
       "      <th>rev_ttm_growth</th>\n",
       "    </tr>\n",
       "  </thead>\n",
       "  <tbody>\n",
       "    <tr>\n",
       "      <th>4</th>\n",
       "      <td>2017-11-06 00:00:00</td>\n",
       "      <td>6.0</td>\n",
       "      <td>11.0</td>\n",
       "      <td>2017.0</td>\n",
       "      <td>1301.0</td>\n",
       "      <td>1633000000.0</td>\n",
       "      <td>120458000000.0</td>\n",
       "      <td>1.355659</td>\n",
       "      <td>6.442000e+09</td>\n",
       "      <td>5.343210e+11</td>\n",
       "      <td>116.578249</td>\n",
       "      <td>111.909788</td>\n",
       "      <td>-33.319722</td>\n",
       "      <td>-33.069593</td>\n",
       "      <td>-11.242767</td>\n",
       "      <td>-10.022430</td>\n",
       "    </tr>\n",
       "    <tr>\n",
       "      <th>5</th>\n",
       "      <td>2018-02-09 00:00:00</td>\n",
       "      <td>9.0</td>\n",
       "      <td>2.0</td>\n",
       "      <td>2018.0</td>\n",
       "      <td>1301.0</td>\n",
       "      <td>2784000000.0</td>\n",
       "      <td>198323000000.0</td>\n",
       "      <td>1.403771</td>\n",
       "      <td>7.593000e+09</td>\n",
       "      <td>6.121860e+11</td>\n",
       "      <td>70.483772</td>\n",
       "      <td>64.640788</td>\n",
       "      <td>70.483772</td>\n",
       "      <td>64.640788</td>\n",
       "      <td>17.867122</td>\n",
       "      <td>14.572701</td>\n",
       "    </tr>\n",
       "    <tr>\n",
       "      <th>6</th>\n",
       "      <td>2018-02-09 00:00:00</td>\n",
       "      <td>9.0</td>\n",
       "      <td>2.0</td>\n",
       "      <td>2018.0</td>\n",
       "      <td>1301.0</td>\n",
       "      <td>1633000000.0</td>\n",
       "      <td>120458000000.0</td>\n",
       "      <td>1.355659</td>\n",
       "      <td>6.804000e+09</td>\n",
       "      <td>4.960830e+11</td>\n",
       "      <td>-41.343391</td>\n",
       "      <td>-39.261709</td>\n",
       "      <td>-32.576383</td>\n",
       "      <td>-49.079519</td>\n",
       "      <td>-10.391150</td>\n",
       "      <td>-18.965314</td>\n",
       "    </tr>\n",
       "    <tr>\n",
       "      <th>7</th>\n",
       "      <td>2018-05-10 00:00:00</td>\n",
       "      <td>10.0</td>\n",
       "      <td>5.0</td>\n",
       "      <td>2018.0</td>\n",
       "      <td>1301.0</td>\n",
       "      <td>3211000000.0</td>\n",
       "      <td>254783000000.0</td>\n",
       "      <td>1.260288</td>\n",
       "      <td>9.261000e+09</td>\n",
       "      <td>6.940220e+11</td>\n",
       "      <td>96.631966</td>\n",
       "      <td>111.511896</td>\n",
       "      <td>325.862069</td>\n",
       "      <td>348.214411</td>\n",
       "      <td>36.111111</td>\n",
       "      <td>39.900380</td>\n",
       "    </tr>\n",
       "    <tr>\n",
       "      <th>8</th>\n",
       "      <td>2018-08-03 00:00:00</td>\n",
       "      <td>3.0</td>\n",
       "      <td>8.0</td>\n",
       "      <td>2018.0</td>\n",
       "      <td>1301.0</td>\n",
       "      <td>555000000.0</td>\n",
       "      <td>57957000000.0</td>\n",
       "      <td>0.957607</td>\n",
       "      <td>8.183000e+09</td>\n",
       "      <td>6.315210e+11</td>\n",
       "      <td>-82.715665</td>\n",
       "      <td>-77.252407</td>\n",
       "      <td>-66.013472</td>\n",
       "      <td>-51.886135</td>\n",
       "      <td>-11.640212</td>\n",
       "      <td>-9.005622</td>\n",
       "    </tr>\n",
       "  </tbody>\n",
       "</table>\n",
       "</div>"
      ],
      "text/plain": [
       "                  Date   Day Month    Year SecuritiesCode        Profit  \\\n",
       "4  2017-11-06 00:00:00   6.0  11.0  2017.0         1301.0  1633000000.0   \n",
       "5  2018-02-09 00:00:00   9.0   2.0  2018.0         1301.0  2784000000.0   \n",
       "6  2018-02-09 00:00:00   9.0   2.0  2018.0         1301.0  1633000000.0   \n",
       "7  2018-05-10 00:00:00  10.0   5.0  2018.0         1301.0  3211000000.0   \n",
       "8  2018-08-03 00:00:00   3.0   8.0  2018.0         1301.0   555000000.0   \n",
       "\n",
       "         NetSales    margin    profit_ttm       rev_ttm  win_quarter_growth  \\\n",
       "4  120458000000.0  1.355659  6.442000e+09  5.343210e+11          116.578249   \n",
       "5  198323000000.0  1.403771  7.593000e+09  6.121860e+11           70.483772   \n",
       "6  120458000000.0  1.355659  6.804000e+09  4.960830e+11          -41.343391   \n",
       "7  254783000000.0  1.260288  9.261000e+09  6.940220e+11           96.631966   \n",
       "8   57957000000.0  0.957607  8.183000e+09  6.315210e+11          -82.715665   \n",
       "\n",
       "   rev_quarter_growth  win_yoy_growth  rev_yoy_growth  win_ttm_growth  \\\n",
       "4          111.909788      -33.319722      -33.069593      -11.242767   \n",
       "5           64.640788       70.483772       64.640788       17.867122   \n",
       "6          -39.261709      -32.576383      -49.079519      -10.391150   \n",
       "7          111.511896      325.862069      348.214411       36.111111   \n",
       "8          -77.252407      -66.013472      -51.886135      -11.640212   \n",
       "\n",
       "   rev_ttm_growth  \n",
       "4      -10.022430  \n",
       "5       14.572701  \n",
       "6      -18.965314  \n",
       "7       39.900380  \n",
       "8       -9.005622  "
      ]
     },
     "execution_count": 26,
     "metadata": {},
     "output_type": "execute_result"
    }
   ],
   "source": [
    "filled_financial_features.head()"
   ]
  },
  {
   "cell_type": "code",
   "execution_count": 23,
   "metadata": {},
   "outputs": [
    {
     "data": {
      "image/png": "[encoded data removed]",
      "text/plain": [
       "<Figure size 432x288 with 1 Axes>"
      ]
     },
     "metadata": {
      "needs_background": "light"
     },
     "output_type": "display_data"
    }
   ],
   "source": [
    "from functions import plot_stock\n",
    "code = 1301\n",
    "\n",
    "plot_stock(filled_financial_features, code,'win_ttm_growth' )"
   ]
  },
  {
   "cell_type": "code",
   "execution_count": 22,
   "metadata": {},
   "outputs": [
    {
     "data": {
      "text/plain": [
       "<AxesSubplot:xlabel='Date', ylabel='win_ttm_growth'>"
      ]
     },
     "execution_count": 22,
     "metadata": {},
     "output_type": "execute_result"
    },
    {
     "data": {
      "image/png": "[encoded data removed]",
      "text/plain": [
       "<Figure size 432x288 with 1 Axes>"
      ]
     },
     "metadata": {
      "needs_background": "light"
     },
     "output_type": "display_data"
    }
   ],
   "source": [
    "import seaborn as sns\n",
    "sns.lineplot(filled_financial_features.query('SecuritiesCode == 1301').Date, filled_financial_features.query('SecuritiesCode == 1301').win_ttm_growth)"
   ]
  },
  {
   "cell_type": "code",
   "execution_count": null,
   "metadata": {},
   "outputs": [],
   "source": [
    "stocks = pd.DataFrame(columns=fin_and_prices.columns)\n",
    "for i in tqdm(prices.SecuritiesCode.unique()):\n",
    "    # getting financial query for spcific securitiescode\n",
    "    aktie = df_pred.query('SecuritiesCode == @i')\n",
    "    # feature engineering\n",
    "    aktie['margin'] = aktie['Profit'] / aktie['NetSales'] * 100\n",
    "    aktie['profit_ttm'] = aktie['Profit'].shift(3) + aktie['Profit'].shift(2) + aktie['Profit'].shift(1) + aktie['Profit']\n",
    "    aktie['rev_ttm'] = aktie['NetSales'].shift(3) + aktie['NetSales'].shift(2) + aktie['NetSales'].shift(1) + aktie['NetSales']\n",
    "    aktie['win_quarter_growth'] = (aktie['Profit'] - aktie['Profit'].shift(1)) / aktie['Profit'].shift(1) * 100\n",
    "    aktie['rev_quarter_growth'] = (aktie['NetSales'] - aktie['NetSales'].shift(1)) / aktie['NetSales'].shift(1) * 100\n",
    "    aktie['win_yoy_growth'] = (aktie['Profit'] - aktie['Profit'].shift(4)) / aktie['Profit'].shift(4) * 100\n",
    "    aktie['rev_yoy_growth'] = (aktie['NetSales'] - aktie['NetSales'].shift(4)) / aktie['NetSales'].shift(4) * 100\n",
    "    aktie['win_ttm_growth'] = (aktie['profit_ttm'] - aktie['profit_ttm'].shift(1)) / aktie['profit_ttm'].shift(1) * 100\n",
    "    aktie['rev_ttm_growth'] = (aktie['rev_ttm'] - aktie['rev_ttm'].shift(1)) / aktie['rev_ttm'].shift(1) * 100\n",
    "    aktie['RSI'] =\n",
    "    # forward fill and drop for financial query\n",
    "    aktie = aktie.ffill()\n",
    "    aktie = aktie.dropna(axis=0)\n",
    "    # merging financial query and price query of securitiescode\n",
    "    aktie = pd.merge(prices.query('SecuritiesCode == @i'), aktie, how='left', on=['Date', 'SecuritiesCode'])\n",
    "    # doing forward fill and drop on combined query\n",
    "    aktie = aktie.ffill()\n",
    "    aktie = aktie.dropna(axis=0)\n",
    "    # adding combined query of securitiescode to final dataframe\n",
    "    stocks = pd.concat([stocks, aktie])"
   ]
  },
  {
   "cell_type": "markdown",
   "metadata": {},
   "source": [
    "## - financials + price"
   ]
  },
  {
   "cell_type": "code",
   "execution_count": 11,
   "metadata": {},
   "outputs": [],
   "source": [
    "# concat financials and price\n",
    "price_financial = pd.merge(adjusted_price, filled_finances, how='left', on=['SecuritiesCode', 'Date'])"
   ]
  },
  {
   "cell_type": "code",
   "execution_count": 12,
   "metadata": {},
   "outputs": [
    {
     "data": {
      "text/plain": [
       "(2335601, 23)"
      ]
     },
     "execution_count": 12,
     "metadata": {},
     "output_type": "execute_result"
    }
   ],
   "source": [
    "price_financial.shape"
   ]
  },
  {
   "cell_type": "code",
   "execution_count": 13,
   "metadata": {},
   "outputs": [],
   "source": [
    "from tqdm import tqdm"
   ]
  },
  {
   "cell_type": "code",
   "execution_count": 14,
   "metadata": {},
   "outputs": [
    {
     "name": "stderr",
     "output_type": "stream",
     "text": [
      "100%|██████████| 2000/2000 [30:41<00:00,  1.09it/s] \n"
     ]
    }
   ],
   "source": [
    "# ffill and drop \n",
    "\n",
    "\n",
    "sec_codes = price_financial.SecuritiesCode.unique()\n",
    "\n",
    "price_financial_fill = pd.DataFrame(columns=price_financial.columns)\n",
    "\n",
    "for i in tqdm(sec_codes):\n",
    "\n",
    "    current = price_financial.query('SecuritiesCode == @i')\n",
    "    current = current.ffill()\n",
    "    current = current.dropna(axis=0)\n",
    "\n",
    "    price_financial_fill  = pd.concat([price_financial_fill , current])"
   ]
  },
  {
   "cell_type": "code",
   "execution_count": null,
   "metadata": {},
   "outputs": [],
   "source": [
    "stocks = pd.DataFrame(columns=fin_and_prices.columns)\n",
    "for i in tqdm(prices.SecuritiesCode.unique()):\n",
    "    # getting financial query for spcific securitiescode\n",
    "    aktie = df_pred.query('SecuritiesCode == @i')\n",
    "    # feature engineering\n",
    "    aktie['margin'] = aktie['Profit'] / aktie['NetSales'] * 100\n",
    "    aktie['profit_ttm'] = aktie['Profit'].shift(3) + aktie['Profit'].shift(2) + aktie['Profit'].shift(1) + aktie['Profit']\n",
    "    aktie['rev_ttm'] = aktie['NetSales'].shift(3) + aktie['NetSales'].shift(2) + aktie['NetSales'].shift(1) + aktie['NetSales']\n",
    "    aktie['win_quarter_growth'] = (aktie['Profit'] - aktie['Profit'].shift(1)) / aktie['Profit'].shift(1) * 100\n",
    "    aktie['rev_quarter_growth'] = (aktie['NetSales'] - aktie['NetSales'].shift(1)) / aktie['NetSales'].shift(1) * 100\n",
    "    aktie['win_yoy_growth'] = (aktie['Profit'] - aktie['Profit'].shift(4)) / aktie['Profit'].shift(4) * 100\n",
    "    aktie['rev_yoy_growth'] = (aktie['NetSales'] - aktie['NetSales'].shift(4)) / aktie['NetSales'].shift(4) * 100\n",
    "    aktie['win_ttm_growth'] = (aktie['profit_ttm'] - aktie['profit_ttm'].shift(1)) / aktie['profit_ttm'].shift(1) * 100\n",
    "    aktie['rev_ttm_growth'] = (aktie['rev_ttm'] - aktie['rev_ttm'].shift(1)) / aktie['rev_ttm'].shift(1) * 100\n",
    "    aktie['RSI'] =\n",
    "    # forward fill and drop for financial query\n",
    "    aktie = aktie.ffill()\n",
    "    aktie = aktie.dropna(axis=0)\n",
    "    # merging financial query and price query of securitiescode\n",
    "    aktie = pd.merge(prices.query('SecuritiesCode == @i'), aktie, how='left', on=['Date', 'SecuritiesCode'])\n",
    "    # doing forward fill and drop on combined query\n",
    "    aktie = aktie.ffill()\n",
    "    aktie = aktie.dropna(axis=0)\n",
    "    # adding combined query of securitiescode to final dataframe\n",
    "    stocks = pd.concat([stocks, aktie])"
   ]
  },
  {
   "cell_type": "code",
   "execution_count": 15,
   "metadata": {},
   "outputs": [
    {
     "data": {
      "text/plain": [
       "(2205125, 23)"
      ]
     },
     "execution_count": 15,
     "metadata": {},
     "output_type": "execute_result"
    }
   ],
   "source": [
    "# new features\n",
    "#price_financial_fill.drop_duplicates(inplace=True)\n",
    "price_financial_fill.shape"
   ]
  },
  {
   "cell_type": "code",
   "execution_count": 16,
   "metadata": {},
   "outputs": [],
   "source": [
    "# save dataframe to csv\n",
    "price_financial_fill.to_csv('data/current.csv')"
   ]
  },
  {
   "cell_type": "markdown",
   "metadata": {},
   "source": [
    "TODOS: "
   ]
  },
  {
   "cell_type": "code",
   "execution_count": null,
   "metadata": {},
   "outputs": [],
   "source": [
    "# TODO Drop expectedDividend?\n",
    "# TODO encode flag"
   ]
  }
 ],
 "metadata": {
  "interpreter": {
   "hash": "8e59dc4903522b6bd625aac9b906fbe96a3134871878cc11f65b8580a1e47af4"
  },
  "kernelspec": {
   "display_name": "Python 3.9.4 ('.venv': venv)",
   "language": "python",
   "name": "python3"
  },
  "language_info": {
   "codemirror_mode": {
    "name": "ipython",
    "version": 3
   },
   "file_extension": ".py",
   "mimetype": "text/x-python",
   "name": "python",
   "nbconvert_exporter": "python",
   "pygments_lexer": "ipython3",
   "version": "3.9.4"
  },
  "orig_nbformat": 4
 },
 "nbformat": 4,
 "nbformat_minor": 2
}
