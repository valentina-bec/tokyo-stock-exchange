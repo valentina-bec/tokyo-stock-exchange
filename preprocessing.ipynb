{
 "cells": [
  {
   "cell_type": "markdown",
   "metadata": {},
   "source": [
    "# Processing data for modelling"
   ]
  },
  {
   "cell_type": "markdown",
   "metadata": {},
   "source": [
    "## - Stock price"
   ]
  },
  {
   "cell_type": "code",
   "execution_count": 1,
   "metadata": {},
   "outputs": [],
   "source": [
    "import pandas as pd\n",
    "from tqdm import tqdm\n",
    "\n",
    "from functions import print_shape\n",
    "\n",
    "\n",
    "\n"
   ]
  },
  {
   "cell_type": "code",
   "execution_count": 2,
   "metadata": {},
   "outputs": [
    {
     "name": "stdout",
     "output_type": "stream",
     "text": [
      " Shape:\n",
      " ----------------------------------------\n",
      " Observations:   2.33M\n",
      " Features:       12\n",
      " Feature Date:    datetime64[ns]\n"
     ]
    },
    {
     "data": {
      "text/html": [
       "<div>\n",
       "<style scoped>\n",
       "    .dataframe tbody tr th:only-of-type {\n",
       "        vertical-align: middle;\n",
       "    }\n",
       "\n",
       "    .dataframe tbody tr th {\n",
       "        vertical-align: top;\n",
       "    }\n",
       "\n",
       "    .dataframe thead th {\n",
       "        text-align: right;\n",
       "    }\n",
       "</style>\n",
       "<table border=\"1\" class=\"dataframe\">\n",
       "  <thead>\n",
       "    <tr style=\"text-align: right;\">\n",
       "      <th></th>\n",
       "      <th>RowId</th>\n",
       "      <th>Date</th>\n",
       "      <th>SecuritiesCode</th>\n",
       "      <th>Open</th>\n",
       "      <th>High</th>\n",
       "      <th>Low</th>\n",
       "      <th>Close</th>\n",
       "      <th>Volume</th>\n",
       "      <th>AdjustmentFactor</th>\n",
       "      <th>ExpectedDividend</th>\n",
       "      <th>SupervisionFlag</th>\n",
       "      <th>Target</th>\n",
       "    </tr>\n",
       "  </thead>\n",
       "  <tbody>\n",
       "    <tr>\n",
       "      <th>0</th>\n",
       "      <td>20170104_1301</td>\n",
       "      <td>2017-01-04</td>\n",
       "      <td>1301</td>\n",
       "      <td>2734.0</td>\n",
       "      <td>2755.0</td>\n",
       "      <td>2730.0</td>\n",
       "      <td>2742.0</td>\n",
       "      <td>31400</td>\n",
       "      <td>1.0</td>\n",
       "      <td>NaN</td>\n",
       "      <td>False</td>\n",
       "      <td>0.000730</td>\n",
       "    </tr>\n",
       "    <tr>\n",
       "      <th>1</th>\n",
       "      <td>20170104_1332</td>\n",
       "      <td>2017-01-04</td>\n",
       "      <td>1332</td>\n",
       "      <td>568.0</td>\n",
       "      <td>576.0</td>\n",
       "      <td>563.0</td>\n",
       "      <td>571.0</td>\n",
       "      <td>2798500</td>\n",
       "      <td>1.0</td>\n",
       "      <td>NaN</td>\n",
       "      <td>False</td>\n",
       "      <td>0.012324</td>\n",
       "    </tr>\n",
       "  </tbody>\n",
       "</table>\n",
       "</div>"
      ],
      "text/plain": [
       "           RowId       Date  SecuritiesCode    Open    High     Low   Close  \\\n",
       "0  20170104_1301 2017-01-04            1301  2734.0  2755.0  2730.0  2742.0   \n",
       "1  20170104_1332 2017-01-04            1332   568.0   576.0   563.0   571.0   \n",
       "\n",
       "    Volume  AdjustmentFactor  ExpectedDividend  SupervisionFlag    Target  \n",
       "0    31400               1.0               NaN            False  0.000730  \n",
       "1  2798500               1.0               NaN            False  0.012324  "
      ]
     },
     "execution_count": 2,
     "metadata": {},
     "output_type": "execute_result"
    }
   ],
   "source": [
    "# test with feature_engineering.py\n",
    "prices = pd.read_csv('data/train_files/stock_prices.csv', parse_dates=[1])\n",
    "print_shape(prices)\n",
    "prices.head(2)"
   ]
  },
  {
   "cell_type": "code",
   "execution_count": 3,
   "metadata": {},
   "outputs": [
    {
     "name": "stderr",
     "output_type": "stream",
     "text": [
      "100%|██████████| 2000/2000 [08:32<00:00,  3.90it/s]\n"
     ]
    },
    {
     "name": "stdout",
     "output_type": "stream",
     "text": [
      " Shape:\n",
      " ----------------------------------------\n",
      " Observations:   2.33M\n",
      " Features:       12\n",
      " Feature Date:    datetime64[ns]\n"
     ]
    },
    {
     "data": {
      "text/html": [
       "<div>\n",
       "<style scoped>\n",
       "    .dataframe tbody tr th:only-of-type {\n",
       "        vertical-align: middle;\n",
       "    }\n",
       "\n",
       "    .dataframe tbody tr th {\n",
       "        vertical-align: top;\n",
       "    }\n",
       "\n",
       "    .dataframe thead th {\n",
       "        text-align: right;\n",
       "    }\n",
       "</style>\n",
       "<table border=\"1\" class=\"dataframe\">\n",
       "  <thead>\n",
       "    <tr style=\"text-align: right;\">\n",
       "      <th></th>\n",
       "      <th>RowId</th>\n",
       "      <th>Date</th>\n",
       "      <th>SecuritiesCode</th>\n",
       "      <th>Open</th>\n",
       "      <th>High</th>\n",
       "      <th>Low</th>\n",
       "      <th>Close</th>\n",
       "      <th>Volume</th>\n",
       "      <th>AdjustmentFactor</th>\n",
       "      <th>ExpectedDividend</th>\n",
       "      <th>SupervisionFlag</th>\n",
       "      <th>Target</th>\n",
       "    </tr>\n",
       "  </thead>\n",
       "  <tbody>\n",
       "    <tr>\n",
       "      <th>0</th>\n",
       "      <td>20170104_1301</td>\n",
       "      <td>2017-01-04</td>\n",
       "      <td>1301</td>\n",
       "      <td>2734.0</td>\n",
       "      <td>2755.0</td>\n",
       "      <td>2730.0</td>\n",
       "      <td>2742.0</td>\n",
       "      <td>31400</td>\n",
       "      <td>1.0</td>\n",
       "      <td>NaN</td>\n",
       "      <td>False</td>\n",
       "      <td>0.00073</td>\n",
       "    </tr>\n",
       "    <tr>\n",
       "      <th>1865</th>\n",
       "      <td>20170105_1301</td>\n",
       "      <td>2017-01-05</td>\n",
       "      <td>1301</td>\n",
       "      <td>2743.0</td>\n",
       "      <td>2747.0</td>\n",
       "      <td>2735.0</td>\n",
       "      <td>2738.0</td>\n",
       "      <td>17900</td>\n",
       "      <td>1.0</td>\n",
       "      <td>NaN</td>\n",
       "      <td>False</td>\n",
       "      <td>0.00292</td>\n",
       "    </tr>\n",
       "  </tbody>\n",
       "</table>\n",
       "</div>"
      ],
      "text/plain": [
       "              RowId       Date SecuritiesCode    Open    High     Low   Close  \\\n",
       "0     20170104_1301 2017-01-04           1301  2734.0  2755.0  2730.0  2742.0   \n",
       "1865  20170105_1301 2017-01-05           1301  2743.0  2747.0  2735.0  2738.0   \n",
       "\n",
       "     Volume AdjustmentFactor ExpectedDividend SupervisionFlag   Target  \n",
       "0     31400              1.0              NaN           False  0.00073  \n",
       "1865  17900              1.0              NaN           False  0.00292  "
      ]
     },
     "execution_count": 3,
     "metadata": {},
     "output_type": "execute_result"
    }
   ],
   "source": [
    "\n",
    "from feature_engineering import fill_and_drop_na_values\n",
    "\n",
    "fill_prices = fill_and_drop_na_values(prices)\n",
    "print_shape(fill_prices)\n",
    "fill_prices.head(2)\n"
   ]
  },
  {
   "cell_type": "code",
   "execution_count": 4,
   "metadata": {},
   "outputs": [
    {
     "name": "stderr",
     "output_type": "stream",
     "text": [
      "100%|██████████| 2000/2000 [17:50<00:00,  1.87it/s]\n"
     ]
    },
    {
     "name": "stdout",
     "output_type": "stream",
     "text": [
      " Shape:\n",
      " ----------------------------------------\n",
      " Observations:   2.33M\n",
      " Features:       18\n",
      " Feature Date:    datetime64[ns]\n"
     ]
    },
    {
     "data": {
      "text/html": [
       "<div>\n",
       "<style scoped>\n",
       "    .dataframe tbody tr th:only-of-type {\n",
       "        vertical-align: middle;\n",
       "    }\n",
       "\n",
       "    .dataframe tbody tr th {\n",
       "        vertical-align: top;\n",
       "    }\n",
       "\n",
       "    .dataframe thead th {\n",
       "        text-align: right;\n",
       "    }\n",
       "</style>\n",
       "<table border=\"1\" class=\"dataframe\">\n",
       "  <thead>\n",
       "    <tr style=\"text-align: right;\">\n",
       "      <th></th>\n",
       "      <th>RowId</th>\n",
       "      <th>Date</th>\n",
       "      <th>SecuritiesCode</th>\n",
       "      <th>Open</th>\n",
       "      <th>High</th>\n",
       "      <th>Low</th>\n",
       "      <th>Close</th>\n",
       "      <th>Volume</th>\n",
       "      <th>AdjustmentFactor</th>\n",
       "      <th>ExpectedDividend</th>\n",
       "      <th>SupervisionFlag</th>\n",
       "      <th>Target</th>\n",
       "      <th>ad_Open</th>\n",
       "      <th>ad_High</th>\n",
       "      <th>ad_Low</th>\n",
       "      <th>ad_Close</th>\n",
       "      <th>ad_Volume</th>\n",
       "      <th>ad_Target</th>\n",
       "    </tr>\n",
       "  </thead>\n",
       "  <tbody>\n",
       "    <tr>\n",
       "      <th>1483</th>\n",
       "      <td>20170104_8194</td>\n",
       "      <td>2017-01-04</td>\n",
       "      <td>8194</td>\n",
       "      <td>3325.0</td>\n",
       "      <td>3390.0</td>\n",
       "      <td>3300.0</td>\n",
       "      <td>3380.0</td>\n",
       "      <td>36100</td>\n",
       "      <td>1.0</td>\n",
       "      <td>NaN</td>\n",
       "      <td>False</td>\n",
       "      <td>-0.002963</td>\n",
       "      <td>3325.0</td>\n",
       "      <td>3390.0</td>\n",
       "      <td>3300.0</td>\n",
       "      <td>3380.0</td>\n",
       "      <td>36100.0</td>\n",
       "      <td>-0.002963</td>\n",
       "    </tr>\n",
       "    <tr>\n",
       "      <th>3348</th>\n",
       "      <td>20170105_8194</td>\n",
       "      <td>2017-01-05</td>\n",
       "      <td>8194</td>\n",
       "      <td>3395.0</td>\n",
       "      <td>3420.0</td>\n",
       "      <td>3360.0</td>\n",
       "      <td>3375.0</td>\n",
       "      <td>19400</td>\n",
       "      <td>1.0</td>\n",
       "      <td>NaN</td>\n",
       "      <td>False</td>\n",
       "      <td>-0.020802</td>\n",
       "      <td>3395.0</td>\n",
       "      <td>3420.0</td>\n",
       "      <td>3360.0</td>\n",
       "      <td>3375.0</td>\n",
       "      <td>19400.0</td>\n",
       "      <td>-0.020802</td>\n",
       "    </tr>\n",
       "  </tbody>\n",
       "</table>\n",
       "</div>"
      ],
      "text/plain": [
       "              RowId       Date SecuritiesCode    Open    High     Low   Close  \\\n",
       "1483  20170104_8194 2017-01-04           8194  3325.0  3390.0  3300.0  3380.0   \n",
       "3348  20170105_8194 2017-01-05           8194  3395.0  3420.0  3360.0  3375.0   \n",
       "\n",
       "     Volume AdjustmentFactor ExpectedDividend SupervisionFlag    Target  \\\n",
       "1483  36100              1.0              NaN           False -0.002963   \n",
       "3348  19400              1.0              NaN           False -0.020802   \n",
       "\n",
       "     ad_Open ad_High  ad_Low ad_Close ad_Volume ad_Target  \n",
       "1483  3325.0  3390.0  3300.0   3380.0   36100.0 -0.002963  \n",
       "3348  3395.0  3420.0  3360.0   3375.0   19400.0 -0.020802  "
      ]
     },
     "execution_count": 4,
     "metadata": {},
     "output_type": "execute_result"
    }
   ],
   "source": [
    "from feature_engineering import adjust_price\n",
    "\n",
    "ad_price = adjust_price(fill_prices)\n",
    "print_shape(ad_price)\n",
    "ad_price.head(2)"
   ]
  },
  {
   "cell_type": "code",
   "execution_count": 12,
   "metadata": {},
   "outputs": [
    {
     "name": "stderr",
     "output_type": "stream",
     "text": [
      "  0%|          | 0/2000 [00:00<?, ?it/s]\n"
     ]
    },
    {
     "ename": "IndexError",
     "evalue": "index 21 is out of bounds for axis 0 with size 21",
     "output_type": "error",
     "traceback": [
      "\u001b[0;31m---------------------------------------------------------------------------\u001b[0m",
      "\u001b[0;31mIndexError\u001b[0m                                Traceback (most recent call last)",
      "\u001b[1;32m/Users/valentina/ds/tokyo-stock-exchange/preprocessing.ipynb Cell 7'\u001b[0m in \u001b[0;36m<cell line: 5>\u001b[0;34m()\u001b[0m\n\u001b[1;32m      <a href='vscode-notebook-cell:/Users/valentina/ds/tokyo-stock-exchange/preprocessing.ipynb#ch0000040?line=1'>2</a>\u001b[0m \u001b[39mimport\u001b[39;00m \u001b[39mfeature_engineering\u001b[39;00m \u001b[39mas\u001b[39;00m \u001b[39mft\u001b[39;00m\n\u001b[1;32m      <a href='vscode-notebook-cell:/Users/valentina/ds/tokyo-stock-exchange/preprocessing.ipynb#ch0000040?line=3'>4</a>\u001b[0m ft \u001b[39m=\u001b[39m reload(ft)\n\u001b[0;32m----> <a href='vscode-notebook-cell:/Users/valentina/ds/tokyo-stock-exchange/preprocessing.ipynb#ch0000040?line=4'>5</a>\u001b[0m ad_price_feat \u001b[39m=\u001b[39m ft\u001b[39m.\u001b[39;49mprice_new_features(ad_price)\n\u001b[1;32m      <a href='vscode-notebook-cell:/Users/valentina/ds/tokyo-stock-exchange/preprocessing.ipynb#ch0000040?line=5'>6</a>\u001b[0m print_shape(ad_price)\n",
      "File \u001b[0;32m~/ds/tokyo-stock-exchange/feature_engineering.py:181\u001b[0m, in \u001b[0;36mprice_new_features\u001b[0;34m(df)\u001b[0m\n\u001b[1;32m    <a href='file:///Users/valentina/ds/tokyo-stock-exchange/feature_engineering.py?line=178'>179</a>\u001b[0m \u001b[39m# doing for loop for every security\u001b[39;00m\n\u001b[1;32m    <a href='file:///Users/valentina/ds/tokyo-stock-exchange/feature_engineering.py?line=179'>180</a>\u001b[0m \u001b[39mfor\u001b[39;00m i \u001b[39min\u001b[39;00m tqdm(codes):\n\u001b[0;32m--> <a href='file:///Users/valentina/ds/tokyo-stock-exchange/feature_engineering.py?line=180'>181</a>\u001b[0m     df_code \u001b[39m=\u001b[39m df\u001b[39m.\u001b[39;49mquery(\u001b[39m'\u001b[39;49m\u001b[39mSecuritiesCode ==@i\u001b[39;49m\u001b[39m'\u001b[39;49m)\u001b[39m.\u001b[39msort_values(\u001b[39m'\u001b[39m\u001b[39mDate\u001b[39m\u001b[39m'\u001b[39m)\n\u001b[1;32m    <a href='file:///Users/valentina/ds/tokyo-stock-exchange/feature_engineering.py?line=182'>183</a>\u001b[0m     \u001b[39m# features\u001b[39;00m\n\u001b[1;32m    <a href='file:///Users/valentina/ds/tokyo-stock-exchange/feature_engineering.py?line=183'>184</a>\u001b[0m     features \u001b[39m=\u001b[39m [\u001b[39m'\u001b[39m\u001b[39mad_Close\u001b[39m\u001b[39m'\u001b[39m, \u001b[39m'\u001b[39m\u001b[39mad_Open\u001b[39m\u001b[39m'\u001b[39m, \u001b[39m'\u001b[39m\u001b[39mad_High\u001b[39m\u001b[39m'\u001b[39m , \u001b[39m'\u001b[39m\u001b[39mad_Low\u001b[39m\u001b[39m'\u001b[39m, \u001b[39m'\u001b[39m\u001b[39mad_Volume\u001b[39m\u001b[39m'\u001b[39m]\n",
      "File \u001b[0;32m~/ds/tokyo-stock-exchange/.venv/lib/python3.9/site-packages/pandas/core/frame.py:4111\u001b[0m, in \u001b[0;36mDataFrame.query\u001b[0;34m(self, expr, inplace, **kwargs)\u001b[0m\n\u001b[1;32m   <a href='file:///Users/valentina/ds/tokyo-stock-exchange/.venv/lib/python3.9/site-packages/pandas/core/frame.py?line=4108'>4109</a>\u001b[0m kwargs[\u001b[39m\"\u001b[39m\u001b[39mlevel\u001b[39m\u001b[39m\"\u001b[39m] \u001b[39m=\u001b[39m kwargs\u001b[39m.\u001b[39mpop(\u001b[39m\"\u001b[39m\u001b[39mlevel\u001b[39m\u001b[39m\"\u001b[39m, \u001b[39m0\u001b[39m) \u001b[39m+\u001b[39m \u001b[39m1\u001b[39m\n\u001b[1;32m   <a href='file:///Users/valentina/ds/tokyo-stock-exchange/.venv/lib/python3.9/site-packages/pandas/core/frame.py?line=4109'>4110</a>\u001b[0m kwargs[\u001b[39m\"\u001b[39m\u001b[39mtarget\u001b[39m\u001b[39m\"\u001b[39m] \u001b[39m=\u001b[39m \u001b[39mNone\u001b[39;00m\n\u001b[0;32m-> <a href='file:///Users/valentina/ds/tokyo-stock-exchange/.venv/lib/python3.9/site-packages/pandas/core/frame.py?line=4110'>4111</a>\u001b[0m res \u001b[39m=\u001b[39m \u001b[39mself\u001b[39;49m\u001b[39m.\u001b[39;49meval(expr, \u001b[39m*\u001b[39;49m\u001b[39m*\u001b[39;49mkwargs)\n\u001b[1;32m   <a href='file:///Users/valentina/ds/tokyo-stock-exchange/.venv/lib/python3.9/site-packages/pandas/core/frame.py?line=4112'>4113</a>\u001b[0m \u001b[39mtry\u001b[39;00m:\n\u001b[1;32m   <a href='file:///Users/valentina/ds/tokyo-stock-exchange/.venv/lib/python3.9/site-packages/pandas/core/frame.py?line=4113'>4114</a>\u001b[0m     result \u001b[39m=\u001b[39m \u001b[39mself\u001b[39m\u001b[39m.\u001b[39mloc[res]\n",
      "File \u001b[0;32m~/ds/tokyo-stock-exchange/.venv/lib/python3.9/site-packages/pandas/core/frame.py:4234\u001b[0m, in \u001b[0;36mDataFrame.eval\u001b[0;34m(self, expr, inplace, **kwargs)\u001b[0m\n\u001b[1;32m   <a href='file:///Users/valentina/ds/tokyo-stock-exchange/.venv/lib/python3.9/site-packages/pandas/core/frame.py?line=4231'>4232</a>\u001b[0m kwargs[\u001b[39m\"\u001b[39m\u001b[39mlevel\u001b[39m\u001b[39m\"\u001b[39m] \u001b[39m=\u001b[39m kwargs\u001b[39m.\u001b[39mpop(\u001b[39m\"\u001b[39m\u001b[39mlevel\u001b[39m\u001b[39m\"\u001b[39m, \u001b[39m0\u001b[39m) \u001b[39m+\u001b[39m \u001b[39m1\u001b[39m\n\u001b[1;32m   <a href='file:///Users/valentina/ds/tokyo-stock-exchange/.venv/lib/python3.9/site-packages/pandas/core/frame.py?line=4232'>4233</a>\u001b[0m index_resolvers \u001b[39m=\u001b[39m \u001b[39mself\u001b[39m\u001b[39m.\u001b[39m_get_index_resolvers()\n\u001b[0;32m-> <a href='file:///Users/valentina/ds/tokyo-stock-exchange/.venv/lib/python3.9/site-packages/pandas/core/frame.py?line=4233'>4234</a>\u001b[0m column_resolvers \u001b[39m=\u001b[39m \u001b[39mself\u001b[39;49m\u001b[39m.\u001b[39;49m_get_cleaned_column_resolvers()\n\u001b[1;32m   <a href='file:///Users/valentina/ds/tokyo-stock-exchange/.venv/lib/python3.9/site-packages/pandas/core/frame.py?line=4234'>4235</a>\u001b[0m resolvers \u001b[39m=\u001b[39m column_resolvers, index_resolvers\n\u001b[1;32m   <a href='file:///Users/valentina/ds/tokyo-stock-exchange/.venv/lib/python3.9/site-packages/pandas/core/frame.py?line=4235'>4236</a>\u001b[0m \u001b[39mif\u001b[39;00m \u001b[39m\"\u001b[39m\u001b[39mtarget\u001b[39m\u001b[39m\"\u001b[39m \u001b[39mnot\u001b[39;00m \u001b[39min\u001b[39;00m kwargs:\n",
      "File \u001b[0;32m~/ds/tokyo-stock-exchange/.venv/lib/python3.9/site-packages/pandas/core/generic.py:632\u001b[0m, in \u001b[0;36mNDFrame._get_cleaned_column_resolvers\u001b[0;34m(self)\u001b[0m\n\u001b[1;32m    <a href='file:///Users/valentina/ds/tokyo-stock-exchange/.venv/lib/python3.9/site-packages/pandas/core/generic.py?line=628'>629</a>\u001b[0m \u001b[39mif\u001b[39;00m \u001b[39misinstance\u001b[39m(\u001b[39mself\u001b[39m, ABCSeries):\n\u001b[1;32m    <a href='file:///Users/valentina/ds/tokyo-stock-exchange/.venv/lib/python3.9/site-packages/pandas/core/generic.py?line=629'>630</a>\u001b[0m     \u001b[39mreturn\u001b[39;00m {clean_column_name(\u001b[39mself\u001b[39m\u001b[39m.\u001b[39mname): \u001b[39mself\u001b[39m}\n\u001b[0;32m--> <a href='file:///Users/valentina/ds/tokyo-stock-exchange/.venv/lib/python3.9/site-packages/pandas/core/generic.py?line=631'>632</a>\u001b[0m \u001b[39mreturn\u001b[39;00m {\n\u001b[1;32m    <a href='file:///Users/valentina/ds/tokyo-stock-exchange/.venv/lib/python3.9/site-packages/pandas/core/generic.py?line=632'>633</a>\u001b[0m     clean_column_name(k): v \u001b[39mfor\u001b[39;00m k, v \u001b[39min\u001b[39;00m \u001b[39mself\u001b[39m\u001b[39m.\u001b[39mitems() \u001b[39mif\u001b[39;00m \u001b[39mnot\u001b[39;00m \u001b[39misinstance\u001b[39m(k, \u001b[39mint\u001b[39m)\n\u001b[1;32m    <a href='file:///Users/valentina/ds/tokyo-stock-exchange/.venv/lib/python3.9/site-packages/pandas/core/generic.py?line=633'>634</a>\u001b[0m }\n",
      "File \u001b[0;32m~/ds/tokyo-stock-exchange/.venv/lib/python3.9/site-packages/pandas/core/generic.py:632\u001b[0m, in \u001b[0;36m<dictcomp>\u001b[0;34m(.0)\u001b[0m\n\u001b[1;32m    <a href='file:///Users/valentina/ds/tokyo-stock-exchange/.venv/lib/python3.9/site-packages/pandas/core/generic.py?line=628'>629</a>\u001b[0m \u001b[39mif\u001b[39;00m \u001b[39misinstance\u001b[39m(\u001b[39mself\u001b[39m, ABCSeries):\n\u001b[1;32m    <a href='file:///Users/valentina/ds/tokyo-stock-exchange/.venv/lib/python3.9/site-packages/pandas/core/generic.py?line=629'>630</a>\u001b[0m     \u001b[39mreturn\u001b[39;00m {clean_column_name(\u001b[39mself\u001b[39m\u001b[39m.\u001b[39mname): \u001b[39mself\u001b[39m}\n\u001b[0;32m--> <a href='file:///Users/valentina/ds/tokyo-stock-exchange/.venv/lib/python3.9/site-packages/pandas/core/generic.py?line=631'>632</a>\u001b[0m \u001b[39mreturn\u001b[39;00m {\n\u001b[1;32m    <a href='file:///Users/valentina/ds/tokyo-stock-exchange/.venv/lib/python3.9/site-packages/pandas/core/generic.py?line=632'>633</a>\u001b[0m     clean_column_name(k): v \u001b[39mfor\u001b[39;00m k, v \u001b[39min\u001b[39;00m \u001b[39mself\u001b[39m\u001b[39m.\u001b[39mitems() \u001b[39mif\u001b[39;00m \u001b[39mnot\u001b[39;00m \u001b[39misinstance\u001b[39m(k, \u001b[39mint\u001b[39m)\n\u001b[1;32m    <a href='file:///Users/valentina/ds/tokyo-stock-exchange/.venv/lib/python3.9/site-packages/pandas/core/generic.py?line=633'>634</a>\u001b[0m }\n",
      "File \u001b[0;32m~/ds/tokyo-stock-exchange/.venv/lib/python3.9/site-packages/pandas/core/frame.py:1270\u001b[0m, in \u001b[0;36mDataFrame.items\u001b[0;34m(self)\u001b[0m\n\u001b[1;32m   <a href='file:///Users/valentina/ds/tokyo-stock-exchange/.venv/lib/python3.9/site-packages/pandas/core/frame.py?line=1267'>1268</a>\u001b[0m \u001b[39mif\u001b[39;00m \u001b[39mself\u001b[39m\u001b[39m.\u001b[39mcolumns\u001b[39m.\u001b[39mis_unique \u001b[39mand\u001b[39;00m \u001b[39mhasattr\u001b[39m(\u001b[39mself\u001b[39m, \u001b[39m\"\u001b[39m\u001b[39m_item_cache\u001b[39m\u001b[39m\"\u001b[39m):\n\u001b[1;32m   <a href='file:///Users/valentina/ds/tokyo-stock-exchange/.venv/lib/python3.9/site-packages/pandas/core/frame.py?line=1268'>1269</a>\u001b[0m     \u001b[39mfor\u001b[39;00m k \u001b[39min\u001b[39;00m \u001b[39mself\u001b[39m\u001b[39m.\u001b[39mcolumns:\n\u001b[0;32m-> <a href='file:///Users/valentina/ds/tokyo-stock-exchange/.venv/lib/python3.9/site-packages/pandas/core/frame.py?line=1269'>1270</a>\u001b[0m         \u001b[39myield\u001b[39;00m k, \u001b[39mself\u001b[39;49m\u001b[39m.\u001b[39;49m_get_item_cache(k)\n\u001b[1;32m   <a href='file:///Users/valentina/ds/tokyo-stock-exchange/.venv/lib/python3.9/site-packages/pandas/core/frame.py?line=1270'>1271</a>\u001b[0m \u001b[39melse\u001b[39;00m:\n\u001b[1;32m   <a href='file:///Users/valentina/ds/tokyo-stock-exchange/.venv/lib/python3.9/site-packages/pandas/core/frame.py?line=1271'>1272</a>\u001b[0m     \u001b[39mfor\u001b[39;00m i, k \u001b[39min\u001b[39;00m \u001b[39menumerate\u001b[39m(\u001b[39mself\u001b[39m\u001b[39m.\u001b[39mcolumns):\n",
      "File \u001b[0;32m~/ds/tokyo-stock-exchange/.venv/lib/python3.9/site-packages/pandas/core/frame.py:3932\u001b[0m, in \u001b[0;36mDataFrame._get_item_cache\u001b[0;34m(self, item)\u001b[0m\n\u001b[1;32m   <a href='file:///Users/valentina/ds/tokyo-stock-exchange/.venv/lib/python3.9/site-packages/pandas/core/frame.py?line=3926'>3927</a>\u001b[0m \u001b[39mif\u001b[39;00m res \u001b[39mis\u001b[39;00m \u001b[39mNone\u001b[39;00m:\n\u001b[1;32m   <a href='file:///Users/valentina/ds/tokyo-stock-exchange/.venv/lib/python3.9/site-packages/pandas/core/frame.py?line=3927'>3928</a>\u001b[0m     \u001b[39m# All places that call _get_item_cache have unique columns,\u001b[39;00m\n\u001b[1;32m   <a href='file:///Users/valentina/ds/tokyo-stock-exchange/.venv/lib/python3.9/site-packages/pandas/core/frame.py?line=3928'>3929</a>\u001b[0m     \u001b[39m#  pending resolution of GH#33047\u001b[39;00m\n\u001b[1;32m   <a href='file:///Users/valentina/ds/tokyo-stock-exchange/.venv/lib/python3.9/site-packages/pandas/core/frame.py?line=3930'>3931</a>\u001b[0m     loc \u001b[39m=\u001b[39m \u001b[39mself\u001b[39m\u001b[39m.\u001b[39mcolumns\u001b[39m.\u001b[39mget_loc(item)\n\u001b[0;32m-> <a href='file:///Users/valentina/ds/tokyo-stock-exchange/.venv/lib/python3.9/site-packages/pandas/core/frame.py?line=3931'>3932</a>\u001b[0m     res \u001b[39m=\u001b[39m \u001b[39mself\u001b[39;49m\u001b[39m.\u001b[39;49m_ixs(loc, axis\u001b[39m=\u001b[39;49m\u001b[39m1\u001b[39;49m)\n\u001b[1;32m   <a href='file:///Users/valentina/ds/tokyo-stock-exchange/.venv/lib/python3.9/site-packages/pandas/core/frame.py?line=3933'>3934</a>\u001b[0m     cache[item] \u001b[39m=\u001b[39m res\n\u001b[1;32m   <a href='file:///Users/valentina/ds/tokyo-stock-exchange/.venv/lib/python3.9/site-packages/pandas/core/frame.py?line=3935'>3936</a>\u001b[0m     \u001b[39m# for a chain\u001b[39;00m\n",
      "File \u001b[0;32m~/ds/tokyo-stock-exchange/.venv/lib/python3.9/site-packages/pandas/core/frame.py:3441\u001b[0m, in \u001b[0;36mDataFrame._ixs\u001b[0;34m(self, i, axis)\u001b[0m\n\u001b[1;32m   <a href='file:///Users/valentina/ds/tokyo-stock-exchange/.venv/lib/python3.9/site-packages/pandas/core/frame.py?line=3436'>3437</a>\u001b[0m \u001b[39m# icol\u001b[39;00m\n\u001b[1;32m   <a href='file:///Users/valentina/ds/tokyo-stock-exchange/.venv/lib/python3.9/site-packages/pandas/core/frame.py?line=3437'>3438</a>\u001b[0m \u001b[39melse\u001b[39;00m:\n\u001b[1;32m   <a href='file:///Users/valentina/ds/tokyo-stock-exchange/.venv/lib/python3.9/site-packages/pandas/core/frame.py?line=3438'>3439</a>\u001b[0m     label \u001b[39m=\u001b[39m \u001b[39mself\u001b[39m\u001b[39m.\u001b[39mcolumns[i]\n\u001b[0;32m-> <a href='file:///Users/valentina/ds/tokyo-stock-exchange/.venv/lib/python3.9/site-packages/pandas/core/frame.py?line=3440'>3441</a>\u001b[0m     col_mgr \u001b[39m=\u001b[39m \u001b[39mself\u001b[39;49m\u001b[39m.\u001b[39;49m_mgr\u001b[39m.\u001b[39;49miget(i)\n\u001b[1;32m   <a href='file:///Users/valentina/ds/tokyo-stock-exchange/.venv/lib/python3.9/site-packages/pandas/core/frame.py?line=3441'>3442</a>\u001b[0m     result \u001b[39m=\u001b[39m \u001b[39mself\u001b[39m\u001b[39m.\u001b[39m_box_col_values(col_mgr, i)\n\u001b[1;32m   <a href='file:///Users/valentina/ds/tokyo-stock-exchange/.venv/lib/python3.9/site-packages/pandas/core/frame.py?line=3443'>3444</a>\u001b[0m     \u001b[39m# this is a cached value, mark it so\u001b[39;00m\n",
      "File \u001b[0;32m~/ds/tokyo-stock-exchange/.venv/lib/python3.9/site-packages/pandas/core/internals/managers.py:1021\u001b[0m, in \u001b[0;36mBlockManager.iget\u001b[0;34m(self, i)\u001b[0m\n\u001b[1;32m   <a href='file:///Users/valentina/ds/tokyo-stock-exchange/.venv/lib/python3.9/site-packages/pandas/core/internals/managers.py?line=1016'>1017</a>\u001b[0m \u001b[39m\"\"\"\u001b[39;00m\n\u001b[1;32m   <a href='file:///Users/valentina/ds/tokyo-stock-exchange/.venv/lib/python3.9/site-packages/pandas/core/internals/managers.py?line=1017'>1018</a>\u001b[0m \u001b[39mReturn the data as a SingleBlockManager.\u001b[39;00m\n\u001b[1;32m   <a href='file:///Users/valentina/ds/tokyo-stock-exchange/.venv/lib/python3.9/site-packages/pandas/core/internals/managers.py?line=1018'>1019</a>\u001b[0m \u001b[39m\"\"\"\u001b[39;00m\n\u001b[1;32m   <a href='file:///Users/valentina/ds/tokyo-stock-exchange/.venv/lib/python3.9/site-packages/pandas/core/internals/managers.py?line=1019'>1020</a>\u001b[0m block \u001b[39m=\u001b[39m \u001b[39mself\u001b[39m\u001b[39m.\u001b[39mblocks[\u001b[39mself\u001b[39m\u001b[39m.\u001b[39mblknos[i]]\n\u001b[0;32m-> <a href='file:///Users/valentina/ds/tokyo-stock-exchange/.venv/lib/python3.9/site-packages/pandas/core/internals/managers.py?line=1020'>1021</a>\u001b[0m values \u001b[39m=\u001b[39m block\u001b[39m.\u001b[39;49miget(\u001b[39mself\u001b[39;49m\u001b[39m.\u001b[39;49mblklocs[i])\n\u001b[1;32m   <a href='file:///Users/valentina/ds/tokyo-stock-exchange/.venv/lib/python3.9/site-packages/pandas/core/internals/managers.py?line=1022'>1023</a>\u001b[0m \u001b[39m# shortcut for select a single-dim from a 2-dim BM\u001b[39;00m\n\u001b[1;32m   <a href='file:///Users/valentina/ds/tokyo-stock-exchange/.venv/lib/python3.9/site-packages/pandas/core/internals/managers.py?line=1023'>1024</a>\u001b[0m bp \u001b[39m=\u001b[39m BlockPlacement(\u001b[39mslice\u001b[39m(\u001b[39m0\u001b[39m, \u001b[39mlen\u001b[39m(values)))\n",
      "File \u001b[0;32m~/ds/tokyo-stock-exchange/.venv/lib/python3.9/site-packages/pandas/core/internals/blocks.py:365\u001b[0m, in \u001b[0;36mBlock.iget\u001b[0;34m(self, i)\u001b[0m\n\u001b[1;32m    <a href='file:///Users/valentina/ds/tokyo-stock-exchange/.venv/lib/python3.9/site-packages/pandas/core/internals/blocks.py?line=357'>358</a>\u001b[0m \u001b[39mdef\u001b[39;00m \u001b[39miget\u001b[39m(\u001b[39mself\u001b[39m, i: \u001b[39mint\u001b[39m \u001b[39m|\u001b[39m \u001b[39mtuple\u001b[39m[\u001b[39mint\u001b[39m, \u001b[39mint\u001b[39m] \u001b[39m|\u001b[39m \u001b[39mtuple\u001b[39m[\u001b[39mslice\u001b[39m, \u001b[39mint\u001b[39m]):\n\u001b[1;32m    <a href='file:///Users/valentina/ds/tokyo-stock-exchange/.venv/lib/python3.9/site-packages/pandas/core/internals/blocks.py?line=358'>359</a>\u001b[0m     \u001b[39m# In the case where we have a tuple[slice, int], the slice will always\u001b[39;00m\n\u001b[1;32m    <a href='file:///Users/valentina/ds/tokyo-stock-exchange/.venv/lib/python3.9/site-packages/pandas/core/internals/blocks.py?line=359'>360</a>\u001b[0m     \u001b[39m#  be slice(None)\u001b[39;00m\n\u001b[0;32m   (...)\u001b[0m\n\u001b[1;32m    <a href='file:///Users/valentina/ds/tokyo-stock-exchange/.venv/lib/python3.9/site-packages/pandas/core/internals/blocks.py?line=362'>363</a>\u001b[0m     \u001b[39m# for \"Union[ndarray[Any, Any], ExtensionArray]\"; expected type\u001b[39;00m\n\u001b[1;32m    <a href='file:///Users/valentina/ds/tokyo-stock-exchange/.venv/lib/python3.9/site-packages/pandas/core/internals/blocks.py?line=363'>364</a>\u001b[0m     \u001b[39m# \"Union[int, integer[Any]]\"\u001b[39;00m\n\u001b[0;32m--> <a href='file:///Users/valentina/ds/tokyo-stock-exchange/.venv/lib/python3.9/site-packages/pandas/core/internals/blocks.py?line=364'>365</a>\u001b[0m     \u001b[39mreturn\u001b[39;00m \u001b[39mself\u001b[39;49m\u001b[39m.\u001b[39;49mvalues[i]\n",
      "\u001b[0;31mIndexError\u001b[0m: index 21 is out of bounds for axis 0 with size 21"
     ]
    }
   ],
   "source": [
    "from importlib import reload\n",
    "import feature_engineering as ft\n",
    "\n",
    "ft = reload(ft)\n",
    "ad_price_feat = ft.price_new_features(ad_price)\n",
    "print_shape(ad_price)"
   ]
  },
  {
   "cell_type": "code",
   "execution_count": null,
   "metadata": {},
   "outputs": [],
   "source": [
    "from feature_engineering import encode_flag\n",
    "\n",
    "ad_price_feat['SupervisionFlag'] = encode_flag(ad_price_feat)\n",
    "print_shape(ad_price)"
   ]
  },
  {
   "cell_type": "code",
   "execution_count": null,
   "metadata": {},
   "outputs": [],
   "source": [
    "ad_price_feat.columns"
   ]
  },
  {
   "cell_type": "markdown",
   "metadata": {},
   "source": [
    "## - Financials"
   ]
  },
  {
   "cell_type": "code",
   "execution_count": null,
   "metadata": {},
   "outputs": [],
   "source": [
    "#from feature_engineering import fill_finances\n",
    "\n",
    "financial = financial = pd.read_csv('data/train_files/financials.csv',parse_dates=[2])\n",
    "financial.head(2)"
   ]
  },
  {
   "cell_type": "code",
   "execution_count": null,
   "metadata": {},
   "outputs": [],
   "source": [
    "from feature_engineering import fill_finances_knn\n",
    "\n",
    "\n",
    "\n",
    "filled_finances = fill_finances_knn(financial, prices)\n",
    "filled_finances.head()\n",
    "filled_finances.shape"
   ]
  },
  {
   "cell_type": "code",
   "execution_count": null,
   "metadata": {},
   "outputs": [],
   "source": [
    "# ffill and drop \n",
    "\n",
    "\n",
    "def new_features_financial(filled_finances):\n",
    "    sec_codes = filled_finances.SecuritiesCode.unique()\n",
    "\n",
    "    filled_financial_feat = pd.DataFrame(columns=filled_finances.columns)\n",
    "\n",
    "    for i in tqdm(sec_codes):\n",
    "        # select a security code\n",
    "        aktie = filled_finances.query('SecuritiesCode == @i')\n",
    "        aktie.sort_values('Date')\n",
    "        # create new features:\n",
    "        aktie['margin'] = aktie['Profit'] / aktie['NetSales'] * 100\n",
    "        aktie['profit_ttm'] = aktie['Profit'].shift(3) + aktie['Profit'].shift(2) + aktie['Profit'].shift(1) + aktie['Profit']\n",
    "        aktie['rev_ttm'] = aktie['NetSales'].shift(3) + aktie['NetSales'].shift(2) + aktie['NetSales'].shift(1) + aktie['NetSales']\n",
    "        aktie['win_quarter_growth'] = (aktie['Profit'] - aktie['Profit'].shift(1)) / aktie['Profit'].shift(1) * 100\n",
    "        aktie['rev_quarter_growth'] = (aktie['NetSales'] - aktie['NetSales'].shift(1)) / aktie['NetSales'].shift(1) * 100\n",
    "        aktie['win_yoy_growth'] = (aktie['Profit'] - aktie['Profit'].shift(4)) / aktie['Profit'].shift(4) * 100\n",
    "        aktie['rev_yoy_growth'] = (aktie['NetSales'] - aktie['NetSales'].shift(4)) / aktie['NetSales'].shift(4) * 100\n",
    "        aktie['win_ttm_growth'] = (aktie['profit_ttm'] - aktie['profit_ttm'].shift(1)) / aktie['profit_ttm'].shift(1) * 100\n",
    "        aktie['rev_ttm_growth'] = (aktie['rev_ttm'] - aktie['rev_ttm'].shift(1)) / aktie['rev_ttm'].shift(1) * 100\n",
    "\n",
    "        # fill\n",
    "        aktie = aktie.ffill()\n",
    "        aktie = aktie.dropna(axis=0)\n",
    "\n",
    "        filled_financial_feat  = pd.concat([filled_financial_feat , aktie])\n",
    "\n",
    "        filled_financial_feat['Date'] = pd.to_datetime(filled_financial_feat['Date']) \n",
    "    \n",
    "    return filled_financial_feat"
   ]
  },
  {
   "cell_type": "code",
   "execution_count": null,
   "metadata": {},
   "outputs": [],
   "source": [
    "filled_financial_features = new_features_financial(filled_finances)"
   ]
  },
  {
   "cell_type": "code",
   "execution_count": null,
   "metadata": {},
   "outputs": [],
   "source": [
    "\"\"\"from functions import plot_stock\n",
    "code = 1301\n",
    "\n",
    "plot_stock(filled_financial_features, code,'win_ttm_growth' )\"\"\""
   ]
  },
  {
   "cell_type": "code",
   "execution_count": null,
   "metadata": {},
   "outputs": [],
   "source": [
    "filled_financial_features.head(2)\n"
   ]
  },
  {
   "cell_type": "code",
   "execution_count": null,
   "metadata": {},
   "outputs": [],
   "source": [
    "filled_financial_features.SecuritiesCode = filled_financial_features.SecuritiesCode.astype(int)"
   ]
  },
  {
   "cell_type": "code",
   "execution_count": null,
   "metadata": {},
   "outputs": [],
   "source": [
    "filled_financial_features.head(2)"
   ]
  },
  {
   "cell_type": "code",
   "execution_count": null,
   "metadata": {},
   "outputs": [],
   "source": [
    "ad_price.head(2)"
   ]
  },
  {
   "cell_type": "code",
   "execution_count": null,
   "metadata": {},
   "outputs": [],
   "source": []
  },
  {
   "cell_type": "markdown",
   "metadata": {},
   "source": [
    "## - financials + price"
   ]
  },
  {
   "cell_type": "code",
   "execution_count": null,
   "metadata": {},
   "outputs": [],
   "source": [
    "# create key on financial : RowId\n",
    "filled_financial_features['RowId'] = filled_financial_features.Date.dt.strftime('%Y%m%d').astype(str) + '_' + filled_financial_features.SecuritiesCode.astype(str)"
   ]
  },
  {
   "cell_type": "code",
   "execution_count": null,
   "metadata": {},
   "outputs": [],
   "source": [
    "#filled_financial_features.sort_values('Date').head(20)"
   ]
  },
  {
   "cell_type": "code",
   "execution_count": null,
   "metadata": {},
   "outputs": [],
   "source": [
    "filled_financial_features.RowID.info()"
   ]
  },
  {
   "cell_type": "code",
   "execution_count": null,
   "metadata": {},
   "outputs": [],
   "source": [
    "# concat financials and price\n",
    "price_financial = pd.merge(ad_price, filled_financial_features, how='left', on='RowId', suffixes=[None, 'f_'])\n",
    "#price_financial = pd.concat([ad_price, filled_financial_features], keys='RowID')"
   ]
  },
  {
   "cell_type": "code",
   "execution_count": null,
   "metadata": {},
   "outputs": [],
   "source": [
    "price_financial.shape"
   ]
  },
  {
   "cell_type": "code",
   "execution_count": null,
   "metadata": {},
   "outputs": [],
   "source": [
    "price_financial.head()"
   ]
  },
  {
   "cell_type": "code",
   "execution_count": null,
   "metadata": {},
   "outputs": [],
   "source": [
    "price_financial.query('RowID == \"20180209_1301\"')\n"
   ]
  },
  {
   "cell_type": "code",
   "execution_count": null,
   "metadata": {},
   "outputs": [],
   "source": [
    "price_financial.shape"
   ]
  },
  {
   "cell_type": "code",
   "execution_count": null,
   "metadata": {},
   "outputs": [],
   "source": [
    "from functions import missingValues\n",
    "\n",
    "missingValues(price_financial)"
   ]
  },
  {
   "cell_type": "code",
   "execution_count": null,
   "metadata": {},
   "outputs": [],
   "source": [
    "# ffill and drop \n",
    "\n",
    "def fill_drop_pro_code(df):\n",
    "    sec_codes = df.SecuritiesCode.unique()\n",
    "\n",
    "    df_fill_na = pd.DataFrame(columns=price_financial.columns)\n",
    "\n",
    "    for i in tqdm(sec_codes):\n",
    "\n",
    "        current = df.query('SecuritiesCode == @i')\n",
    "        current.sort_values('Date')\n",
    "        current = current.ffill()\n",
    "        current = current.dropna(axis=0)\n",
    "\n",
    "        df_fill_na  = pd.concat([df_fill_na , current])\n",
    "\n",
    "    df_fill_na['Date'] = pd.to_datetime(df_fill_na['Date'])\n",
    "    \n",
    "    return df_fill_na"
   ]
  },
  {
   "cell_type": "code",
   "execution_count": null,
   "metadata": {},
   "outputs": [],
   "source": [
    "price_financial_fill = fill_drop_pro_code(price_financial)"
   ]
  },
  {
   "cell_type": "code",
   "execution_count": null,
   "metadata": {},
   "outputs": [],
   "source": [
    "# new features\n",
    "#price_financial_fill.drop_duplicates(inplace=True)\n",
    "price_financial_fill.shape"
   ]
  },
  {
   "cell_type": "code",
   "execution_count": null,
   "metadata": {},
   "outputs": [],
   "source": [
    "# save dataframe to csv\n",
    "price_financial_fill.to_csv('data/current.csv')"
   ]
  },
  {
   "cell_type": "markdown",
   "metadata": {},
   "source": [
    "TODOS: "
   ]
  },
  {
   "cell_type": "code",
   "execution_count": null,
   "metadata": {},
   "outputs": [],
   "source": [
    "# TODO encode flag"
   ]
  }
 ],
 "metadata": {
  "interpreter": {
   "hash": "8e59dc4903522b6bd625aac9b906fbe96a3134871878cc11f65b8580a1e47af4"
  },
  "kernelspec": {
   "display_name": "Python 3.9.4 ('.venv': venv)",
   "language": "python",
   "name": "python3"
  },
  "language_info": {
   "codemirror_mode": {
    "name": "ipython",
    "version": 3
   },
   "file_extension": ".py",
   "mimetype": "text/x-python",
   "name": "python",
   "nbconvert_exporter": "python",
   "pygments_lexer": "ipython3",
   "version": "3.9.4"
  },
  "orig_nbformat": 4
 },
 "nbformat": 4,
 "nbformat_minor": 2
}
