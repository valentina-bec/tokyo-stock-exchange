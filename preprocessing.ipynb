{
 "cells": [
  {
   "cell_type": "markdown",
   "metadata": {},
   "source": [
    "# Processing data for modelling"
   ]
  },
  {
   "cell_type": "markdown",
   "metadata": {},
   "source": [
    "## - Stock price"
   ]
  },
  {
   "cell_type": "code",
   "execution_count": null,
   "metadata": {},
   "outputs": [],
   "source": [
    "import pandas as pd\n",
    "from tqdm import tqdm\n",
    "\n",
    "from functions import print_shape\n"
   ]
  },
  {
   "cell_type": "code",
   "execution_count": null,
   "metadata": {},
   "outputs": [],
   "source": [
    "# test with feature_engineering.py\n",
    "prices = pd.read_csv('data/train_files/stock_prices.csv', parse_dates=[1])\n",
    "print_shape(prices)\n",
    "prices.head(2)"
   ]
  },
  {
   "cell_type": "code",
   "execution_count": null,
   "metadata": {},
   "outputs": [],
   "source": [
    "\n",
    "from feature_engineering import fill_and_drop_na_values\n",
    "\n",
    "fill_prices = fill_and_drop_na_values(prices)\n",
    "print_shape(fill_prices)\n",
    "fill_prices.head(2)\n"
   ]
  },
  {
   "cell_type": "code",
   "execution_count": null,
   "metadata": {},
   "outputs": [],
   "source": [
    "from feature_engineering import adjust_price\n",
    "\n",
    "ad_price = adjust_price(fill_prices)\n",
    "print_shape(ad_price)\n",
    "ad_price.head(2)"
   ]
  },
  {
   "cell_type": "code",
   "execution_count": null,
   "metadata": {},
   "outputs": [],
   "source": [
    "ad_price.to_csv('data/curr_ad_price.csv') # TODO index column as index"
   ]
  },
  {
   "cell_type": "code",
   "execution_count": 1,
   "metadata": {},
   "outputs": [
    {
     "name": "stdout",
     "output_type": "stream",
     "text": [
      " Shape:\n",
      " ----------------------------------------\n",
      " Observations:   2.33M\n",
      " Features:       19\n",
      " Feature Date:    datetime64[ns]\n"
     ]
    }
   ],
   "source": [
    "import pandas as pd\n",
    "from tqdm import tqdm\n",
    "\n",
    "from functions import print_shape\n",
    "ad_price = pd.read_csv('data/curr_ad_price.csv', parse_dates=['Date'])\n",
    "print_shape(ad_price)"
   ]
  },
  {
   "cell_type": "code",
   "execution_count": null,
   "metadata": {},
   "outputs": [],
   "source": [
    "#from importlib import reload\n",
    "#import feature_engineering as ft\n",
    "\n",
    "from feature_engineering import price_new_features\n",
    "\n",
    "#ft = reload(ft)\n",
    "ad_price_feat = price_new_features(ad_price)\n",
    "print_shape(ad_price_feat)"
   ]
  },
  {
   "cell_type": "code",
   "execution_count": 2,
   "metadata": {},
   "outputs": [
    {
     "name": "stderr",
     "output_type": "stream",
     "text": [
      "  0%|          | 0/1 [00:00<?, ?it/s]DEBUG:root:Features + SMA\n",
      "DEBUG:root: RSI\n",
      "DEBUG:root: Return\n",
      "DEBUG:root: MACD\n",
      "100%|██████████| 1/1 [00:00<00:00,  8.28it/s]"
     ]
    },
    {
     "name": "stdout",
     "output_type": "stream",
     "text": [
      " Shape:\n",
      " ----------------------------------------\n",
      " Observations:   1.2K\n",
      " Features:       36\n",
      " Feature Date:    datetime64[ns]\n"
     ]
    },
    {
     "name": "stderr",
     "output_type": "stream",
     "text": [
      "\n"
     ]
    }
   ],
   "source": [
    "from functions import df_security_code\n",
    "from feature_engineering import price_new_features\n",
    "\n",
    "df = df_security_code(ad_price)\n",
    "df_feat = price_new_features(df)\n",
    "print_shape(df_feat)"
   ]
  },
  {
   "cell_type": "code",
   "execution_count": 4,
   "metadata": {},
   "outputs": [
    {
     "name": "stdout",
     "output_type": "stream",
     "text": [
      "Unnamed: 0 missing Values: 0 (0.0%)\n",
      "RowId missing Values: 0 (0.0%)\n",
      "Date missing Values: 0 (0.0%)\n",
      "SecuritiesCode missing Values: 0 (0.0%)\n",
      "Open missing Values: 0 (0.0%)\n",
      "High missing Values: 0 (0.0%)\n",
      "Low missing Values: 0 (0.0%)\n",
      "Close missing Values: 0 (0.0%)\n",
      "Volume missing Values: 0 (0.0%)\n",
      "AdjustmentFactor missing Values: 0 (0.0%)\n",
      "ExpectedDividend missing Values: 34 (2.8%)\n",
      "SupervisionFlag missing Values: 0 (0.0%)\n",
      "Target missing Values: 0 (0.0%)\n",
      "ad_Open missing Values: 0 (0.0%)\n",
      "ad_High missing Values: 0 (0.0%)\n",
      "ad_Low missing Values: 0 (0.0%)\n",
      "ad_Close missing Values: 0 (0.0%)\n",
      "ad_Volume missing Values: 0 (0.0%)\n",
      "ad_Target missing Values: 2 (0.2%)\n",
      "ad_Close_lag1 missing Values: 1 (0.1%)\n",
      "ad_Close_sma10 missing Values: 9 (0.7%)\n",
      "ad_Open_lag1 missing Values: 1 (0.1%)\n",
      "ad_Open_sma10 missing Values: 9 (0.7%)\n",
      "ad_High_lag1 missing Values: 1 (0.1%)\n",
      "ad_High_sma10 missing Values: 9 (0.7%)\n",
      "ad_Low_lag1 missing Values: 1 (0.1%)\n",
      "ad_Low_sma10 missing Values: 9 (0.7%)\n",
      "ad_Volume_lag1 missing Values: 1 (0.1%)\n",
      "ad_Volume_sma10 missing Values: 9 (0.7%)\n",
      "RSI missing Values: 14 (1.2%)\n",
      "Return missing Values: 1 (0.1%)\n",
      "logreturn missing Values: 1 (0.1%)\n",
      "Log_Return missing Values: 1 (0.1%)\n",
      "MACD missing Values: 25 (2.1%)\n",
      "MACD_h missing Values: 33 (2.7%)\n",
      "MACD_s missing Values: 33 (2.7%)\n"
     ]
    }
   ],
   "source": [
    "from functions import missingValues\n",
    "missingValues(df_feat)"
   ]
  },
  {
   "cell_type": "markdown",
   "metadata": {},
   "source": [
    "ad_Close_lag1 missing Values: 2332531 (100.0%)\n",
    "ad_Close_sma10 missing Values: 2332531 (100.0%)\n",
    "ad_Open_lag1 missing Values: 2332531 (100.0%)\n",
    "ad_Open_sma10 missing Values: 2332531 (100.0%)\n",
    "ad_High_lag1 missing Values: 2332531 (100.0%)\n",
    "ad_High_sma10 missing Values: 2332531 (100.0%)\n",
    "ad_Low_lag1 missing Values: 2332531 (100.0%)\n",
    "ad_Low_sma10 missing Values: 2332531 (100.0%)\n",
    "ad_Volume_lag1 missing Values: 2332531 (100.0%)\n",
    "ad_Volume_sma10 missing Values: 2332531 (100.0%)"
   ]
  },
  {
   "cell_type": "code",
   "execution_count": null,
   "metadata": {},
   "outputs": [],
   "source": [
    "missingValues(ad_price_feat)"
   ]
  },
  {
   "cell_type": "code",
   "execution_count": null,
   "metadata": {},
   "outputs": [],
   "source": [
    "ad_price_feat.ad_Close_lag1.describe()\n"
   ]
  },
  {
   "cell_type": "code",
   "execution_count": null,
   "metadata": {},
   "outputs": [],
   "source": [
    "ad_price_feat.to_csv('data/curr_ad_price_feat.csv')"
   ]
  },
  {
   "cell_type": "code",
   "execution_count": null,
   "metadata": {},
   "outputs": [],
   "source": [
    "from feature_engineering import encode_flag\n",
    "\n",
    "ad_price_feat['SupervisionFlag'] = encode_flag(ad_price_feat)\n",
    "print_shape(ad_price)"
   ]
  },
  {
   "cell_type": "code",
   "execution_count": null,
   "metadata": {},
   "outputs": [],
   "source": [
    "ad_price_feat.columns"
   ]
  },
  {
   "cell_type": "markdown",
   "metadata": {},
   "source": [
    "## - Financials"
   ]
  },
  {
   "cell_type": "code",
   "execution_count": null,
   "metadata": {},
   "outputs": [],
   "source": [
    "#from feature_engineering import fill_finances\n",
    "\n",
    "financial = financial = pd.read_csv('data/train_files/financials.csv',parse_dates=[2])\n",
    "financial.head(2)"
   ]
  },
  {
   "cell_type": "code",
   "execution_count": null,
   "metadata": {},
   "outputs": [],
   "source": [
    "from feature_engineering import fill_finances_knn\n",
    "\n",
    "\n",
    "\n",
    "filled_finances = fill_finances_knn(financial, prices)\n",
    "filled_finances.head()\n",
    "filled_finances.shape"
   ]
  },
  {
   "cell_type": "code",
   "execution_count": null,
   "metadata": {},
   "outputs": [],
   "source": [
    "# ffill and drop \n",
    "\n",
    "\n",
    "def new_features_financial(filled_finances):\n",
    "    sec_codes = filled_finances.SecuritiesCode.unique()\n",
    "\n",
    "    filled_financial_feat = pd.DataFrame(columns=filled_finances.columns)\n",
    "\n",
    "    for i in tqdm(sec_codes):\n",
    "        # select a security code\n",
    "        aktie = filled_finances.query('SecuritiesCode == @i')\n",
    "        aktie.sort_values('Date')\n",
    "        # create new features:\n",
    "        aktie['margin'] = aktie['Profit'] / aktie['NetSales'] * 100\n",
    "        aktie['profit_ttm'] = aktie['Profit'].shift(3) + aktie['Profit'].shift(2) + aktie['Profit'].shift(1) + aktie['Profit']\n",
    "        aktie['rev_ttm'] = aktie['NetSales'].shift(3) + aktie['NetSales'].shift(2) + aktie['NetSales'].shift(1) + aktie['NetSales']\n",
    "        aktie['win_quarter_growth'] = (aktie['Profit'] - aktie['Profit'].shift(1)) / aktie['Profit'].shift(1) * 100\n",
    "        aktie['rev_quarter_growth'] = (aktie['NetSales'] - aktie['NetSales'].shift(1)) / aktie['NetSales'].shift(1) * 100\n",
    "        aktie['win_yoy_growth'] = (aktie['Profit'] - aktie['Profit'].shift(4)) / aktie['Profit'].shift(4) * 100\n",
    "        aktie['rev_yoy_growth'] = (aktie['NetSales'] - aktie['NetSales'].shift(4)) / aktie['NetSales'].shift(4) * 100\n",
    "        aktie['win_ttm_growth'] = (aktie['profit_ttm'] - aktie['profit_ttm'].shift(1)) / aktie['profit_ttm'].shift(1) * 100\n",
    "        aktie['rev_ttm_growth'] = (aktie['rev_ttm'] - aktie['rev_ttm'].shift(1)) / aktie['rev_ttm'].shift(1) * 100\n",
    "        aktie['margin_growth'] = (aktie['margin'] - aktie['margin'].shift()) / aktie['margin'].shift() * 100\n",
    "        \n",
    "        # fill\n",
    "        aktie = aktie.ffill()\n",
    "        aktie = aktie.dropna(axis=0)\n",
    "\n",
    "        filled_financial_feat  = pd.concat([filled_financial_feat , aktie])\n",
    "\n",
    "        filled_financial_feat['Date'] = pd.to_datetime(filled_financial_feat['Date']) \n",
    "    \n",
    "    return filled_financial_feat"
   ]
  },
  {
   "cell_type": "code",
   "execution_count": null,
   "metadata": {},
   "outputs": [],
   "source": [
    "filled_financial_features = new_features_financial(filled_finances)"
   ]
  },
  {
   "cell_type": "code",
   "execution_count": null,
   "metadata": {},
   "outputs": [],
   "source": [
    "\"\"\"from functions import plot_stock\n",
    "code = 1301\n",
    "\n",
    "plot_stock(filled_financial_features, code,'win_ttm_growth' )\"\"\""
   ]
  },
  {
   "cell_type": "code",
   "execution_count": null,
   "metadata": {},
   "outputs": [],
   "source": [
    "filled_financial_features.head(2)\n"
   ]
  },
  {
   "cell_type": "code",
   "execution_count": null,
   "metadata": {},
   "outputs": [],
   "source": [
    "filled_financial_features.SecuritiesCode = filled_financial_features.SecuritiesCode.astype(int)"
   ]
  },
  {
   "cell_type": "code",
   "execution_count": null,
   "metadata": {},
   "outputs": [],
   "source": [
    "filled_financial_features.head(2)"
   ]
  },
  {
   "cell_type": "code",
   "execution_count": null,
   "metadata": {},
   "outputs": [],
   "source": [
    "ad_price.head(2)"
   ]
  },
  {
   "cell_type": "code",
   "execution_count": null,
   "metadata": {},
   "outputs": [],
   "source": []
  },
  {
   "cell_type": "markdown",
   "metadata": {},
   "source": [
    "## - financials + price"
   ]
  },
  {
   "cell_type": "code",
   "execution_count": null,
   "metadata": {},
   "outputs": [],
   "source": [
    "# create key on financial : RowId\n",
    "filled_financial_features['RowId'] = filled_financial_features.Date.dt.strftime('%Y%m%d').astype(str) + '_' + filled_financial_features.SecuritiesCode.astype(str)"
   ]
  },
  {
   "cell_type": "code",
   "execution_count": null,
   "metadata": {},
   "outputs": [],
   "source": [
    "filled_financial_features.sort_values('Date').head(20)"
   ]
  },
  {
   "cell_type": "code",
   "execution_count": null,
   "metadata": {},
   "outputs": [],
   "source": [
    "filled_financial_features.RowId.info()"
   ]
  },
  {
   "cell_type": "code",
   "execution_count": null,
   "metadata": {},
   "outputs": [],
   "source": [
    "# concat financials and price\n",
    "price_financial = pd.merge(ad_price, filled_financial_features, how='left', on='RowId', suffixes=[None, 'f_'])\n",
    "#price_financial = pd.concat([ad_price, filled_financial_features], keys='RowID')"
   ]
  },
  {
   "cell_type": "code",
   "execution_count": null,
   "metadata": {},
   "outputs": [],
   "source": [
    "print_shape(price_financial)"
   ]
  },
  {
   "cell_type": "code",
   "execution_count": null,
   "metadata": {},
   "outputs": [],
   "source": [
    "price_financial.head()"
   ]
  },
  {
   "cell_type": "code",
   "execution_count": null,
   "metadata": {},
   "outputs": [],
   "source": [
    "price_financial.query('RowID == \"20180209_1301\"')\n"
   ]
  },
  {
   "cell_type": "code",
   "execution_count": null,
   "metadata": {},
   "outputs": [],
   "source": [
    "price_financial.shape"
   ]
  },
  {
   "cell_type": "code",
   "execution_count": null,
   "metadata": {},
   "outputs": [],
   "source": [
    "from functions import missingValues\n",
    "\n",
    "missingValues(price_financial)"
   ]
  },
  {
   "cell_type": "code",
   "execution_count": null,
   "metadata": {},
   "outputs": [],
   "source": [
    "price_financial.ad_Volume_sma10.nunique()"
   ]
  },
  {
   "cell_type": "code",
   "execution_count": null,
   "metadata": {},
   "outputs": [],
   "source": [
    "# ffill and drop \n",
    "\n",
    "def fill_drop_pro_code(df):\n",
    "    sec_codes = df.SecuritiesCode.unique()\n",
    "\n",
    "    df_fill_na = pd.DataFrame(columns=price_financial.columns)\n",
    "\n",
    "    for i in tqdm(sec_codes):\n",
    "\n",
    "        current = df.query('SecuritiesCode == @i')\n",
    "        current.sort_values('Date')\n",
    "        current = current.ffill()\n",
    "        current = current.dropna(axis=0)\n",
    "\n",
    "        df_fill_na  = pd.concat([df_fill_na , current])\n",
    "\n",
    "    df_fill_na['Date'] = pd.to_datetime(df_fill_na['Date'])\n",
    "    \n",
    "    return df_fill_na"
   ]
  },
  {
   "cell_type": "code",
   "execution_count": null,
   "metadata": {},
   "outputs": [],
   "source": [
    "price_financial_fill = fill_drop_pro_code(price_financial)"
   ]
  },
  {
   "cell_type": "code",
   "execution_count": null,
   "metadata": {},
   "outputs": [],
   "source": [
    "# new features\n",
    "#price_financial_fill.drop_duplicates(inplace=True)\n",
    "price_financial_fill.shape"
   ]
  },
  {
   "cell_type": "code",
   "execution_count": null,
   "metadata": {},
   "outputs": [],
   "source": [
    "# save dataframe to csv\n",
    "price_financial_fill.to_csv('data/current.csv')"
   ]
  },
  {
   "cell_type": "code",
   "execution_count": null,
   "metadata": {},
   "outputs": [],
   "source": []
  }
 ],
 "metadata": {
  "interpreter": {
   "hash": "8e59dc4903522b6bd625aac9b906fbe96a3134871878cc11f65b8580a1e47af4"
  },
  "kernelspec": {
   "display_name": "Python 3.9.4 ('.venv': venv)",
   "language": "python",
   "name": "python3"
  },
  "language_info": {
   "codemirror_mode": {
    "name": "ipython",
    "version": 3
   },
   "file_extension": ".py",
   "mimetype": "text/x-python",
   "name": "python",
   "nbconvert_exporter": "python",
   "pygments_lexer": "ipython3",
   "version": "3.9.4"
  },
  "orig_nbformat": 4
 },
 "nbformat": 4,
 "nbformat_minor": 2
}
