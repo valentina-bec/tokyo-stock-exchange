{
 "cells": [
  {
   "cell_type": "markdown",
   "metadata": {},
   "source": [
    "# Processing data for modelling"
   ]
  },
  {
   "cell_type": "markdown",
   "metadata": {},
   "source": [
    "## - Stock price"
   ]
  },
  {
   "cell_type": "code",
   "execution_count": 1,
   "metadata": {},
   "outputs": [],
   "source": [
    "import pandas as pd\n",
    "from tqdm import tqdm\n",
    "\n",
    "from functions import print_shape\n"
   ]
  },
  {
   "cell_type": "code",
   "execution_count": 2,
   "metadata": {},
   "outputs": [
    {
     "name": "stdout",
     "output_type": "stream",
     "text": [
      " Shape:\n",
      " ----------------------------------------\n",
      " Observations:   2.33M\n",
      " Features:       12\n",
      " Feature Date:    datetime64[ns]\n",
      "----------------------------------------\n",
      "Index(['RowId', 'Date', 'SecuritiesCode', 'Open', 'High', 'Low', 'Close',\n",
      "       'Volume', 'AdjustmentFactor', 'ExpectedDividend', 'SupervisionFlag',\n",
      "       'Target'],\n",
      "      dtype='object')\n",
      "----------------------------------------\n",
      "RowId missing Values: 0 (0.0%)\n",
      "Date missing Values: 0 (0.0%)\n",
      "SecuritiesCode missing Values: 0 (0.0%)\n",
      "Open missing Values: 7608 (0.3%)\n",
      "High missing Values: 7608 (0.3%)\n",
      "Low missing Values: 7608 (0.3%)\n",
      "Close missing Values: 7608 (0.3%)\n",
      "Volume missing Values: 0 (0.0%)\n",
      "AdjustmentFactor missing Values: 0 (0.0%)\n",
      "ExpectedDividend missing Values: 2313666 (99.2%)\n",
      "SupervisionFlag missing Values: 0 (0.0%)\n",
      "Target missing Values: 238 (0.0%)\n"
     ]
    },
    {
     "data": {
      "text/html": [
       "<div>\n",
       "<style scoped>\n",
       "    .dataframe tbody tr th:only-of-type {\n",
       "        vertical-align: middle;\n",
       "    }\n",
       "\n",
       "    .dataframe tbody tr th {\n",
       "        vertical-align: top;\n",
       "    }\n",
       "\n",
       "    .dataframe thead th {\n",
       "        text-align: right;\n",
       "    }\n",
       "</style>\n",
       "<table border=\"1\" class=\"dataframe\">\n",
       "  <thead>\n",
       "    <tr style=\"text-align: right;\">\n",
       "      <th></th>\n",
       "      <th>RowId</th>\n",
       "      <th>Date</th>\n",
       "      <th>SecuritiesCode</th>\n",
       "      <th>Open</th>\n",
       "      <th>High</th>\n",
       "      <th>Low</th>\n",
       "      <th>Close</th>\n",
       "      <th>Volume</th>\n",
       "      <th>AdjustmentFactor</th>\n",
       "      <th>ExpectedDividend</th>\n",
       "      <th>SupervisionFlag</th>\n",
       "      <th>Target</th>\n",
       "    </tr>\n",
       "  </thead>\n",
       "  <tbody>\n",
       "    <tr>\n",
       "      <th>0</th>\n",
       "      <td>20170104_1301</td>\n",
       "      <td>2017-01-04</td>\n",
       "      <td>1301</td>\n",
       "      <td>2734.0</td>\n",
       "      <td>2755.0</td>\n",
       "      <td>2730.0</td>\n",
       "      <td>2742.0</td>\n",
       "      <td>31400</td>\n",
       "      <td>1.0</td>\n",
       "      <td>NaN</td>\n",
       "      <td>False</td>\n",
       "      <td>0.000730</td>\n",
       "    </tr>\n",
       "    <tr>\n",
       "      <th>1</th>\n",
       "      <td>20170104_1332</td>\n",
       "      <td>2017-01-04</td>\n",
       "      <td>1332</td>\n",
       "      <td>568.0</td>\n",
       "      <td>576.0</td>\n",
       "      <td>563.0</td>\n",
       "      <td>571.0</td>\n",
       "      <td>2798500</td>\n",
       "      <td>1.0</td>\n",
       "      <td>NaN</td>\n",
       "      <td>False</td>\n",
       "      <td>0.012324</td>\n",
       "    </tr>\n",
       "  </tbody>\n",
       "</table>\n",
       "</div>"
      ],
      "text/plain": [
       "           RowId       Date  SecuritiesCode    Open    High     Low   Close  \\\n",
       "0  20170104_1301 2017-01-04            1301  2734.0  2755.0  2730.0  2742.0   \n",
       "1  20170104_1332 2017-01-04            1332   568.0   576.0   563.0   571.0   \n",
       "\n",
       "    Volume  AdjustmentFactor  ExpectedDividend  SupervisionFlag    Target  \n",
       "0    31400               1.0               NaN            False  0.000730  \n",
       "1  2798500               1.0               NaN            False  0.012324  "
      ]
     },
     "execution_count": 2,
     "metadata": {},
     "output_type": "execute_result"
    }
   ],
   "source": [
    "# test with feature_engineering.py\n",
    "prices = pd.read_csv('data/train_files/stock_prices.csv', parse_dates=[1])\n",
    "print_shape(prices)\n",
    "prices.head(2)"
   ]
  },
  {
   "cell_type": "code",
   "execution_count": 3,
   "metadata": {},
   "outputs": [
    {
     "name": "stderr",
     "output_type": "stream",
     "text": [
      "100%|██████████| 2000/2000 [03:29<00:00,  9.52it/s]\n"
     ]
    },
    {
     "name": "stdout",
     "output_type": "stream",
     "text": [
      " Shape:\n",
      " ----------------------------------------\n",
      " Observations:   2.33M\n",
      " Features:       12\n",
      " Feature Date:    datetime64[ns]\n",
      "----------------------------------------\n",
      "Index(['RowId', 'Date', 'SecuritiesCode', 'Open', 'High', 'Low', 'Close',\n",
      "       'Volume', 'AdjustmentFactor', 'ExpectedDividend', 'SupervisionFlag',\n",
      "       'Target'],\n",
      "      dtype='object')\n",
      "----------------------------------------\n",
      "RowId missing Values: 0 (0.0%)\n",
      "Date missing Values: 0 (0.0%)\n",
      "SecuritiesCode missing Values: 0 (0.0%)\n",
      "Open missing Values: 264 (0.0%)\n",
      "High missing Values: 264 (0.0%)\n",
      "Low missing Values: 264 (0.0%)\n",
      "Close missing Values: 264 (0.0%)\n",
      "Volume missing Values: 0 (0.0%)\n",
      "AdjustmentFactor missing Values: 0 (0.0%)\n",
      "ExpectedDividend missing Values: 127359 (5.5%)\n",
      "SupervisionFlag missing Values: 0 (0.0%)\n",
      "Target missing Values: 238 (0.0%)\n"
     ]
    }
   ],
   "source": [
    "\n",
    "from feature_engineering import fill_and_drop_na_values\n",
    "\n",
    "fill_prices = fill_and_drop_na_values(prices, drop=False)\n",
    "fill_prices.to_csv('data/curr_fill_prices.csv')\n",
    "print_shape(fill_prices)\n",
    "fill_prices.head(2)\n",
    "del fill_prices\n"
   ]
  },
  {
   "cell_type": "code",
   "execution_count": 4,
   "metadata": {},
   "outputs": [
    {
     "name": "stdout",
     "output_type": "stream",
     "text": [
      " Shape:\n",
      " ----------------------------------------\n",
      " Observations:   2.33M\n",
      " Features:       12\n",
      " Feature Date:    datetime64[ns]\n",
      "----------------------------------------\n",
      "Index(['RowId', 'Date', 'SecuritiesCode', 'Open', 'High', 'Low', 'Close',\n",
      "       'Volume', 'AdjustmentFactor', 'ExpectedDividend', 'SupervisionFlag',\n",
      "       'Target'],\n",
      "      dtype='object')\n",
      "----------------------------------------\n",
      "RowId missing Values: 0 (0.0%)\n",
      "Date missing Values: 0 (0.0%)\n",
      "SecuritiesCode missing Values: 0 (0.0%)\n",
      "Open missing Values: 264 (0.0%)\n",
      "High missing Values: 264 (0.0%)\n",
      "Low missing Values: 264 (0.0%)\n",
      "Close missing Values: 264 (0.0%)\n",
      "Volume missing Values: 0 (0.0%)\n",
      "AdjustmentFactor missing Values: 0 (0.0%)\n",
      "ExpectedDividend missing Values: 127359 (5.5%)\n",
      "SupervisionFlag missing Values: 0 (0.0%)\n",
      "Target missing Values: 238 (0.0%)\n"
     ]
    }
   ],
   "source": [
    "fill_prices = pd.read_csv('data/curr_fill_prices.csv', parse_dates=['Date'], index_col=[0])\n",
    "print_shape(fill_prices)"
   ]
  },
  {
   "cell_type": "code",
   "execution_count": 5,
   "metadata": {},
   "outputs": [
    {
     "name": "stderr",
     "output_type": "stream",
     "text": [
      "100%|██████████| 2000/2000 [03:52<00:00,  8.61it/s]\n"
     ]
    },
    {
     "name": "stdout",
     "output_type": "stream",
     "text": [
      " Shape:\n",
      " ----------------------------------------\n",
      " Observations:   2.33M\n",
      " Features:       13\n",
      " Feature Date:    datetime64[ns]\n",
      "----------------------------------------\n",
      "Index(['RowId', 'Date', 'SecuritiesCode', 'Open', 'High', 'Low', 'Close',\n",
      "       'Volume', 'AdjustmentFactor', 'ExpectedDividend', 'SupervisionFlag',\n",
      "       'Target', 'ad_Target'],\n",
      "      dtype='object')\n",
      "----------------------------------------\n",
      "RowId missing Values: 0 (0.0%)\n",
      "Date missing Values: 0 (0.0%)\n",
      "SecuritiesCode missing Values: 0 (0.0%)\n",
      "Open missing Values: 264 (0.0%)\n",
      "High missing Values: 264 (0.0%)\n",
      "Low missing Values: 264 (0.0%)\n",
      "Close missing Values: 264 (0.0%)\n",
      "Volume missing Values: 0 (0.0%)\n",
      "AdjustmentFactor missing Values: 0 (0.0%)\n",
      "ExpectedDividend missing Values: 127359 (5.5%)\n",
      "SupervisionFlag missing Values: 0 (0.0%)\n",
      "Target missing Values: 238 (0.0%)\n",
      "ad_Target missing Values: 4238 (0.2%)\n"
     ]
    }
   ],
   "source": [
    "from feature_engineering import adjust_price\n",
    "\n",
    "\n",
    "ad_price = adjust_price(fill_prices)\n",
    "ad_price.to_csv('data/curr_ad_price.csv')\n",
    "print_shape(ad_price)\n",
    "ad_price.head(2)\n",
    "del ad_price"
   ]
  },
  {
   "cell_type": "code",
   "execution_count": 6,
   "metadata": {},
   "outputs": [
    {
     "name": "stdout",
     "output_type": "stream",
     "text": [
      " Shape:\n",
      " ----------------------------------------\n",
      " Observations:   2.33M\n",
      " Features:       13\n",
      " Feature Date:    datetime64[ns]\n",
      "----------------------------------------\n",
      "Index(['RowId', 'Date', 'SecuritiesCode', 'Open', 'High', 'Low', 'Close',\n",
      "       'Volume', 'AdjustmentFactor', 'ExpectedDividend', 'SupervisionFlag',\n",
      "       'Target', 'ad_Target'],\n",
      "      dtype='object')\n",
      "----------------------------------------\n",
      "RowId missing Values: 0 (0.0%)\n",
      "Date missing Values: 0 (0.0%)\n",
      "SecuritiesCode missing Values: 0 (0.0%)\n",
      "Open missing Values: 264 (0.0%)\n",
      "High missing Values: 264 (0.0%)\n",
      "Low missing Values: 264 (0.0%)\n",
      "Close missing Values: 264 (0.0%)\n",
      "Volume missing Values: 0 (0.0%)\n",
      "AdjustmentFactor missing Values: 0 (0.0%)\n",
      "ExpectedDividend missing Values: 127359 (5.5%)\n",
      "SupervisionFlag missing Values: 0 (0.0%)\n",
      "Target missing Values: 238 (0.0%)\n",
      "ad_Target missing Values: 4238 (0.2%)\n"
     ]
    }
   ],
   "source": [
    "ad_price = pd.read_csv('data/curr_ad_price.csv', parse_dates=['Date'], index_col=[0])\n",
    "print_shape(ad_price)"
   ]
  },
  {
   "cell_type": "code",
   "execution_count": 8,
   "metadata": {},
   "outputs": [
    {
     "name": "stderr",
     "output_type": "stream",
     "text": [
      "  0%|          | 0/2000 [00:00<?, ?it/s]\n"
     ]
    },
    {
     "ename": "KeyError",
     "evalue": "'ad_Close'",
     "output_type": "error",
     "traceback": [
      "\u001b[0;31m---------------------------------------------------------------------------\u001b[0m",
      "\u001b[0;31mKeyError\u001b[0m                                  Traceback (most recent call last)",
      "File \u001b[0;32m~/ds/tokyo-stock-exchange/.venv/lib/python3.9/site-packages/pandas/core/indexes/base.py:3621\u001b[0m, in \u001b[0;36mIndex.get_loc\u001b[0;34m(self, key, method, tolerance)\u001b[0m\n\u001b[1;32m   <a href='file:///Users/valentina/ds/tokyo-stock-exchange/.venv/lib/python3.9/site-packages/pandas/core/indexes/base.py?line=3619'>3620</a>\u001b[0m \u001b[39mtry\u001b[39;00m:\n\u001b[0;32m-> <a href='file:///Users/valentina/ds/tokyo-stock-exchange/.venv/lib/python3.9/site-packages/pandas/core/indexes/base.py?line=3620'>3621</a>\u001b[0m     \u001b[39mreturn\u001b[39;00m \u001b[39mself\u001b[39;49m\u001b[39m.\u001b[39;49m_engine\u001b[39m.\u001b[39;49mget_loc(casted_key)\n\u001b[1;32m   <a href='file:///Users/valentina/ds/tokyo-stock-exchange/.venv/lib/python3.9/site-packages/pandas/core/indexes/base.py?line=3621'>3622</a>\u001b[0m \u001b[39mexcept\u001b[39;00m \u001b[39mKeyError\u001b[39;00m \u001b[39mas\u001b[39;00m err:\n",
      "File \u001b[0;32mpandas/_libs/index.pyx:136\u001b[0m, in \u001b[0;36mpandas._libs.index.IndexEngine.get_loc\u001b[0;34m()\u001b[0m\n",
      "File \u001b[0;32mpandas/_libs/index.pyx:163\u001b[0m, in \u001b[0;36mpandas._libs.index.IndexEngine.get_loc\u001b[0;34m()\u001b[0m\n",
      "File \u001b[0;32mpandas/_libs/hashtable_class_helper.pxi:5198\u001b[0m, in \u001b[0;36mpandas._libs.hashtable.PyObjectHashTable.get_item\u001b[0;34m()\u001b[0m\n",
      "File \u001b[0;32mpandas/_libs/hashtable_class_helper.pxi:5206\u001b[0m, in \u001b[0;36mpandas._libs.hashtable.PyObjectHashTable.get_item\u001b[0;34m()\u001b[0m\n",
      "\u001b[0;31mKeyError\u001b[0m: 'ad_Close'",
      "\nThe above exception was the direct cause of the following exception:\n",
      "\u001b[0;31mKeyError\u001b[0m                                  Traceback (most recent call last)",
      "\u001b[1;32m/Users/valentina/ds/tokyo-stock-exchange/preprocessing.ipynb Cell 9'\u001b[0m in \u001b[0;36m<cell line: 3>\u001b[0;34m()\u001b[0m\n\u001b[1;32m      <a href='vscode-notebook-cell:/Users/valentina/ds/tokyo-stock-exchange/preprocessing.ipynb#ch0000006?line=0'>1</a>\u001b[0m \u001b[39mfrom\u001b[39;00m \u001b[39mfeature_engineering\u001b[39;00m \u001b[39mimport\u001b[39;00m price_new_features, encode_flag\n\u001b[0;32m----> <a href='vscode-notebook-cell:/Users/valentina/ds/tokyo-stock-exchange/preprocessing.ipynb#ch0000006?line=2'>3</a>\u001b[0m ad_price_feat \u001b[39m=\u001b[39m price_new_features(ad_price)\n\u001b[1;32m      <a href='vscode-notebook-cell:/Users/valentina/ds/tokyo-stock-exchange/preprocessing.ipynb#ch0000006?line=4'>5</a>\u001b[0m ad_price_feat[\u001b[39m'\u001b[39m\u001b[39mSupervisionFlag\u001b[39m\u001b[39m'\u001b[39m] \u001b[39m=\u001b[39m encode_flag(ad_price_feat)\n\u001b[1;32m      <a href='vscode-notebook-cell:/Users/valentina/ds/tokyo-stock-exchange/preprocessing.ipynb#ch0000006?line=5'>6</a>\u001b[0m ad_price_feat\u001b[39m.\u001b[39mto_csv(\u001b[39m'\u001b[39m\u001b[39mdata/curr_ad_price_feat.csv\u001b[39m\u001b[39m'\u001b[39m)\n",
      "File \u001b[0;32m~/ds/tokyo-stock-exchange/feature_engineering.py:215\u001b[0m, in \u001b[0;36mprice_new_features\u001b[0;34m(df, verbose)\u001b[0m\n\u001b[1;32m    <a href='file:///Users/valentina/ds/tokyo-stock-exchange/feature_engineering.py?line=211'>212</a>\u001b[0m features \u001b[39m=\u001b[39m [\u001b[39m'\u001b[39m\u001b[39mad_Close\u001b[39m\u001b[39m'\u001b[39m, \u001b[39m'\u001b[39m\u001b[39mad_Open\u001b[39m\u001b[39m'\u001b[39m, \u001b[39m'\u001b[39m\u001b[39mad_High\u001b[39m\u001b[39m'\u001b[39m , \u001b[39m'\u001b[39m\u001b[39mad_Low\u001b[39m\u001b[39m'\u001b[39m, \u001b[39m'\u001b[39m\u001b[39mad_Volume\u001b[39m\u001b[39m'\u001b[39m]\n\u001b[1;32m    <a href='file:///Users/valentina/ds/tokyo-stock-exchange/feature_engineering.py?line=212'>213</a>\u001b[0m \u001b[39mfor\u001b[39;00m feat \u001b[39min\u001b[39;00m features:\n\u001b[1;32m    <a href='file:///Users/valentina/ds/tokyo-stock-exchange/feature_engineering.py?line=213'>214</a>\u001b[0m     \u001b[39m# lag 1\u001b[39;00m\n\u001b[0;32m--> <a href='file:///Users/valentina/ds/tokyo-stock-exchange/feature_engineering.py?line=214'>215</a>\u001b[0m     name_l, lag_df \u001b[39m=\u001b[39m  features_lag(df_code, feat)\n\u001b[1;32m    <a href='file:///Users/valentina/ds/tokyo-stock-exchange/feature_engineering.py?line=215'>216</a>\u001b[0m     df_code[name_l] \u001b[39m=\u001b[39m lag_df\n\u001b[1;32m    <a href='file:///Users/valentina/ds/tokyo-stock-exchange/feature_engineering.py?line=217'>218</a>\u001b[0m     \u001b[39m# simple moving average\u001b[39;00m\n",
      "File \u001b[0;32m~/ds/tokyo-stock-exchange/feature_engineering.py:120\u001b[0m, in \u001b[0;36mprice_new_features.<locals>.features_lag\u001b[0;34m(df_code, feat, lag)\u001b[0m\n\u001b[1;32m    <a href='file:///Users/valentina/ds/tokyo-stock-exchange/feature_engineering.py?line=117'>118</a>\u001b[0m \u001b[39mdef\u001b[39;00m \u001b[39mfeatures_lag\u001b[39m(df_code, feat, lag\u001b[39m=\u001b[39m\u001b[39m1\u001b[39m):\n\u001b[1;32m    <a href='file:///Users/valentina/ds/tokyo-stock-exchange/feature_engineering.py?line=118'>119</a>\u001b[0m     name \u001b[39m=\u001b[39m feat \u001b[39m+\u001b[39m \u001b[39m\"\u001b[39m\u001b[39m_lag\u001b[39m\u001b[39m\"\u001b[39m \u001b[39m+\u001b[39m \u001b[39mstr\u001b[39m(lag)\n\u001b[0;32m--> <a href='file:///Users/valentina/ds/tokyo-stock-exchange/feature_engineering.py?line=119'>120</a>\u001b[0m     \u001b[39mreturn\u001b[39;00m name, df_code[\u001b[39mstr\u001b[39;49m(feat)]\u001b[39m.\u001b[39mshift(lag)\n",
      "File \u001b[0;32m~/ds/tokyo-stock-exchange/.venv/lib/python3.9/site-packages/pandas/core/frame.py:3505\u001b[0m, in \u001b[0;36mDataFrame.__getitem__\u001b[0;34m(self, key)\u001b[0m\n\u001b[1;32m   <a href='file:///Users/valentina/ds/tokyo-stock-exchange/.venv/lib/python3.9/site-packages/pandas/core/frame.py?line=3502'>3503</a>\u001b[0m \u001b[39mif\u001b[39;00m \u001b[39mself\u001b[39m\u001b[39m.\u001b[39mcolumns\u001b[39m.\u001b[39mnlevels \u001b[39m>\u001b[39m \u001b[39m1\u001b[39m:\n\u001b[1;32m   <a href='file:///Users/valentina/ds/tokyo-stock-exchange/.venv/lib/python3.9/site-packages/pandas/core/frame.py?line=3503'>3504</a>\u001b[0m     \u001b[39mreturn\u001b[39;00m \u001b[39mself\u001b[39m\u001b[39m.\u001b[39m_getitem_multilevel(key)\n\u001b[0;32m-> <a href='file:///Users/valentina/ds/tokyo-stock-exchange/.venv/lib/python3.9/site-packages/pandas/core/frame.py?line=3504'>3505</a>\u001b[0m indexer \u001b[39m=\u001b[39m \u001b[39mself\u001b[39;49m\u001b[39m.\u001b[39;49mcolumns\u001b[39m.\u001b[39;49mget_loc(key)\n\u001b[1;32m   <a href='file:///Users/valentina/ds/tokyo-stock-exchange/.venv/lib/python3.9/site-packages/pandas/core/frame.py?line=3505'>3506</a>\u001b[0m \u001b[39mif\u001b[39;00m is_integer(indexer):\n\u001b[1;32m   <a href='file:///Users/valentina/ds/tokyo-stock-exchange/.venv/lib/python3.9/site-packages/pandas/core/frame.py?line=3506'>3507</a>\u001b[0m     indexer \u001b[39m=\u001b[39m [indexer]\n",
      "File \u001b[0;32m~/ds/tokyo-stock-exchange/.venv/lib/python3.9/site-packages/pandas/core/indexes/base.py:3623\u001b[0m, in \u001b[0;36mIndex.get_loc\u001b[0;34m(self, key, method, tolerance)\u001b[0m\n\u001b[1;32m   <a href='file:///Users/valentina/ds/tokyo-stock-exchange/.venv/lib/python3.9/site-packages/pandas/core/indexes/base.py?line=3620'>3621</a>\u001b[0m     \u001b[39mreturn\u001b[39;00m \u001b[39mself\u001b[39m\u001b[39m.\u001b[39m_engine\u001b[39m.\u001b[39mget_loc(casted_key)\n\u001b[1;32m   <a href='file:///Users/valentina/ds/tokyo-stock-exchange/.venv/lib/python3.9/site-packages/pandas/core/indexes/base.py?line=3621'>3622</a>\u001b[0m \u001b[39mexcept\u001b[39;00m \u001b[39mKeyError\u001b[39;00m \u001b[39mas\u001b[39;00m err:\n\u001b[0;32m-> <a href='file:///Users/valentina/ds/tokyo-stock-exchange/.venv/lib/python3.9/site-packages/pandas/core/indexes/base.py?line=3622'>3623</a>\u001b[0m     \u001b[39mraise\u001b[39;00m \u001b[39mKeyError\u001b[39;00m(key) \u001b[39mfrom\u001b[39;00m \u001b[39merr\u001b[39;00m\n\u001b[1;32m   <a href='file:///Users/valentina/ds/tokyo-stock-exchange/.venv/lib/python3.9/site-packages/pandas/core/indexes/base.py?line=3623'>3624</a>\u001b[0m \u001b[39mexcept\u001b[39;00m \u001b[39mTypeError\u001b[39;00m:\n\u001b[1;32m   <a href='file:///Users/valentina/ds/tokyo-stock-exchange/.venv/lib/python3.9/site-packages/pandas/core/indexes/base.py?line=3624'>3625</a>\u001b[0m     \u001b[39m# If we have a listlike key, _check_indexing_error will raise\u001b[39;00m\n\u001b[1;32m   <a href='file:///Users/valentina/ds/tokyo-stock-exchange/.venv/lib/python3.9/site-packages/pandas/core/indexes/base.py?line=3625'>3626</a>\u001b[0m     \u001b[39m#  InvalidIndexError. Otherwise we fall through and re-raise\u001b[39;00m\n\u001b[1;32m   <a href='file:///Users/valentina/ds/tokyo-stock-exchange/.venv/lib/python3.9/site-packages/pandas/core/indexes/base.py?line=3626'>3627</a>\u001b[0m     \u001b[39m#  the TypeError.\u001b[39;00m\n\u001b[1;32m   <a href='file:///Users/valentina/ds/tokyo-stock-exchange/.venv/lib/python3.9/site-packages/pandas/core/indexes/base.py?line=3627'>3628</a>\u001b[0m     \u001b[39mself\u001b[39m\u001b[39m.\u001b[39m_check_indexing_error(key)\n",
      "\u001b[0;31mKeyError\u001b[0m: 'ad_Close'"
     ]
    }
   ],
   "source": [
    "from feature_engineering import price_new_features, encode_flag\n",
    "\n",
    "ad_price_feat = price_new_features(ad_price)\n",
    "\n",
    "ad_price_feat['SupervisionFlag'] = encode_flag(ad_price_feat)\n",
    "ad_price_feat.to_csv('data/curr_ad_price_feat.csv')\n",
    "print_shape(ad_price_feat)\n",
    "del ad_price_feat"
   ]
  },
  {
   "cell_type": "code",
   "execution_count": null,
   "metadata": {},
   "outputs": [],
   "source": [
    "ad_price_feat =  pd.read_csv('data/curr_ad_price_feat.csv', parse_dates=['Date'], index_col=[0])\n",
    "print_shape(ad_price_feat)"
   ]
  },
  {
   "cell_type": "code",
   "execution_count": null,
   "metadata": {},
   "outputs": [],
   "source": [
    "ad_price_feat.columns"
   ]
  },
  {
   "cell_type": "markdown",
   "metadata": {},
   "source": [
    "## - Financials"
   ]
  },
  {
   "cell_type": "code",
   "execution_count": null,
   "metadata": {},
   "outputs": [],
   "source": [
    "#from feature_engineering import fill_finances\n",
    "\n",
    "financial = financial = pd.read_csv('data/train_files/financials.csv',parse_dates=['Date'])\n",
    "financial.head(2)"
   ]
  },
  {
   "cell_type": "code",
   "execution_count": null,
   "metadata": {},
   "outputs": [],
   "source": [
    "from feature_engineering import fill_finances_knn\n",
    "\n",
    "\n",
    "\n",
    "filled_finances = fill_finances_knn(financial, prices)\n",
    "filled_finances.to_csv('data/curr_filled_finances.csv')\n",
    "print_shape(filled_finances)\n",
    "filled_finances.head()\n",
    "del filled_finances"
   ]
  },
  {
   "cell_type": "code",
   "execution_count": null,
   "metadata": {},
   "outputs": [],
   "source": [
    "filled_finances = pd.read_csv('data/curr_filled_finances.csv', parse_dates=['Date'], index_col=[0])\n",
    "print_shape(filled_finances)"
   ]
  },
  {
   "cell_type": "code",
   "execution_count": null,
   "metadata": {},
   "outputs": [],
   "source": [
    "# ffill and drop \n",
    "\n",
    "\n",
    "\"\"\"def new_features_financial(filled_finances):\n",
    "    sec_codes = filled_finances.SecuritiesCode.unique()\n",
    "\n",
    "    filled_financial_feat = pd.DataFrame(columns=filled_finances.columns)\n",
    "\n",
    "    for i in tqdm(sec_codes):\n",
    "        # select a security code\n",
    "        aktie = filled_finances.query('SecuritiesCode == @i')\n",
    "        aktie.sort_values('Date')\n",
    "        # create new features:\n",
    "        aktie['margin'] = aktie['Profit'] / aktie['NetSales'] * 100\n",
    "        aktie['profit_ttm'] = aktie['Profit'].shift(3) + aktie['Profit'].shift(2) + aktie['Profit'].shift(1) + aktie['Profit']\n",
    "        aktie['rev_ttm'] = aktie['NetSales'].shift(3) + aktie['NetSales'].shift(2) + aktie['NetSales'].shift(1) + aktie['NetSales']\n",
    "        aktie['win_quarter_growth'] = (aktie['Profit'] - aktie['Profit'].shift(1)) / aktie['Profit'].shift(1) * 100\n",
    "        aktie['rev_quarter_growth'] = (aktie['NetSales'] - aktie['NetSales'].shift(1)) / aktie['NetSales'].shift(1) * 100\n",
    "        aktie['win_yoy_growth'] = (aktie['Profit'] - aktie['Profit'].shift(4)) / aktie['Profit'].shift(4) * 100\n",
    "        aktie['rev_yoy_growth'] = (aktie['NetSales'] - aktie['NetSales'].shift(4)) / aktie['NetSales'].shift(4) * 100\n",
    "        aktie['win_ttm_growth'] = (aktie['profit_ttm'] - aktie['profit_ttm'].shift(1)) / aktie['profit_ttm'].shift(1) * 100\n",
    "        aktie['rev_ttm_growth'] = (aktie['rev_ttm'] - aktie['rev_ttm'].shift(1)) / aktie['rev_ttm'].shift(1) * 100\n",
    "        aktie['margin_growth'] = (aktie['margin'] - aktie['margin'].shift()) / aktie['margin'].shift() * 100\n",
    "        \n",
    "        # fill\n",
    "        aktie = aktie.ffill()\n",
    "        #aktie = aktie.dropna(axis=0)\n",
    "\n",
    "        filled_financial_feat  = pd.concat([filled_financial_feat , aktie])\n",
    "\n",
    "        filled_financial_feat['Date'] = pd.to_datetime(filled_financial_feat['Date']) \n",
    "    \n",
    "    return filled_financial_feat\"\"\""
   ]
  },
  {
   "cell_type": "code",
   "execution_count": null,
   "metadata": {},
   "outputs": [],
   "source": [
    "from feature_engineering import new_features_financial\n",
    "\n",
    "filled_financial_features = new_features_financial(filled_finances)\n",
    "filled_financial_features.to_csv('data/curr_filled_financial_features.csv')\n",
    "print_shape(filled_financial_features)\n",
    "filled_financial_features.head()\n",
    "\n"
   ]
  },
  {
   "cell_type": "code",
   "execution_count": null,
   "metadata": {},
   "outputs": [],
   "source": [
    "missingValues(filled_financial_features)"
   ]
  },
  {
   "cell_type": "code",
   "execution_count": null,
   "metadata": {},
   "outputs": [],
   "source": [
    "filled_financial_features.SecuritiesCode = filled_financial_features.SecuritiesCode.astype(int)"
   ]
  },
  {
   "cell_type": "code",
   "execution_count": null,
   "metadata": {},
   "outputs": [],
   "source": [
    "filled_financial_features.head(2)"
   ]
  },
  {
   "cell_type": "code",
   "execution_count": null,
   "metadata": {},
   "outputs": [],
   "source": [
    "ad_price.head(2)"
   ]
  },
  {
   "cell_type": "markdown",
   "metadata": {},
   "source": [
    "## - financials + price"
   ]
  },
  {
   "cell_type": "code",
   "execution_count": null,
   "metadata": {},
   "outputs": [],
   "source": [
    "# create key on financial : RowId\n",
    "filled_financial_features['RowId'] = filled_financial_features.Date.dt.strftime('%Y%m%d').astype(str) + '_' + filled_financial_features.SecuritiesCode.astype(str)"
   ]
  },
  {
   "cell_type": "code",
   "execution_count": null,
   "metadata": {},
   "outputs": [],
   "source": [
    "filled_financial_features.sort_values('Date').head(20)"
   ]
  },
  {
   "cell_type": "code",
   "execution_count": null,
   "metadata": {},
   "outputs": [],
   "source": [
    "filled_financial_features.RowId.info()"
   ]
  },
  {
   "cell_type": "code",
   "execution_count": null,
   "metadata": {},
   "outputs": [],
   "source": [
    "# concat financials and price\n",
    "price_financial = pd.merge(ad_price, filled_financial_features, how='left', on='RowId', suffixes=[None, 'f_'])\n",
    "#price_financial = pd.concat([ad_price, filled_financial_features], keys='RowID')"
   ]
  },
  {
   "cell_type": "code",
   "execution_count": null,
   "metadata": {},
   "outputs": [],
   "source": [
    "print_shape(price_financial)"
   ]
  },
  {
   "cell_type": "code",
   "execution_count": null,
   "metadata": {},
   "outputs": [],
   "source": [
    "price_financial.head()"
   ]
  },
  {
   "cell_type": "code",
   "execution_count": null,
   "metadata": {},
   "outputs": [],
   "source": [
    "price_financial.columns\n"
   ]
  },
  {
   "cell_type": "code",
   "execution_count": null,
   "metadata": {},
   "outputs": [],
   "source": [
    "from functions import missingValues\n",
    "\n",
    "missingValues(price_financial)"
   ]
  },
  {
   "cell_type": "code",
   "execution_count": null,
   "metadata": {},
   "outputs": [],
   "source": [
    "\n",
    "\n",
    "\"\"\"def ffill_pro_code(df):\n",
    "    sec_codes = df.SecuritiesCode.unique()\n",
    "\n",
    "    df_fill_na = pd.DataFrame(columns=price_financial.columns)\n",
    "\n",
    "    for i in tqdm(sec_codes):\n",
    "\n",
    "        current = df.query('SecuritiesCode == @i').sort_values('Date')\n",
    "\n",
    "        current = current.ffill()\n",
    "        #current = current.dropna(axis=0)\n",
    "\n",
    "        df_fill_na  = pd.concat([df_fill_na , current])\n",
    "\n",
    "    df_fill_na['Date'] = pd.to_datetime(df_fill_na['Date'])\n",
    "    \n",
    "    return df_fill_na\"\"\""
   ]
  },
  {
   "cell_type": "code",
   "execution_count": null,
   "metadata": {},
   "outputs": [],
   "source": [
    "#price_financial_fill = ffill_pro_code(price_financial)\n",
    "price_financial_fill = fill_and_drop_na_values(price_financial, dropna=False)\n"
   ]
  },
  {
   "cell_type": "code",
   "execution_count": null,
   "metadata": {},
   "outputs": [],
   "source": [
    "print_shape(price_financial_fill)"
   ]
  },
  {
   "cell_type": "code",
   "execution_count": null,
   "metadata": {},
   "outputs": [],
   "source": [
    "# new features\n",
    "#price_financial_fill.drop_duplicates(inplace=True)\n",
    "missingValues(filled_financial_features)"
   ]
  },
  {
   "cell_type": "code",
   "execution_count": null,
   "metadata": {},
   "outputs": [],
   "source": [
    "# save dataframe to csv\n",
    "price_financial_fill.to_csv('data/curr_filled_financial_features.csv')"
   ]
  },
  {
   "cell_type": "code",
   "execution_count": null,
   "metadata": {},
   "outputs": [],
   "source": [
    "print_shape(price_financial_fill)"
   ]
  }
 ],
 "metadata": {
  "interpreter": {
   "hash": "8e59dc4903522b6bd625aac9b906fbe96a3134871878cc11f65b8580a1e47af4"
  },
  "kernelspec": {
   "display_name": "Python 3.9.4 ('.venv': venv)",
   "language": "python",
   "name": "python3"
  },
  "language_info": {
   "codemirror_mode": {
    "name": "ipython",
    "version": 3
   },
   "file_extension": ".py",
   "mimetype": "text/x-python",
   "name": "python",
   "nbconvert_exporter": "python",
   "pygments_lexer": "ipython3",
   "version": "3.9.4"
  },
  "orig_nbformat": 4
 },
 "nbformat": 4,
 "nbformat_minor": 2
}
