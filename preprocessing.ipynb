{
 "cells": [
  {
   "cell_type": "markdown",
   "metadata": {},
   "source": [
    "# Processing data for modelling"
   ]
  },
  {
   "cell_type": "code",
   "execution_count": 1,
   "metadata": {},
   "outputs": [],
   "source": [
    "import pandas as pd\n",
    "from tqdm import tqdm\n",
    "\n",
    "from functions import print_shape, df_security_code\n",
    "\n",
    "from feature_engineering import (fill_and_drop_na_values,\n",
    " adjust_price, \n",
    " price_new_features, \n",
    " encode_flag,\n",
    " fill_finances_knn,\n",
    " new_features_financial\n",
    " )\n",
    "\n",
    "MISSINGVALUES = True\n",
    "DATASELECTION = False"
   ]
  },
  {
   "cell_type": "markdown",
   "metadata": {},
   "source": [
    "## import data"
   ]
  },
  {
   "cell_type": "code",
   "execution_count": 2,
   "metadata": {},
   "outputs": [],
   "source": [
    "def data_selection(selection):\n",
    "    if selection:\n",
    "        prices = df_security_code(pd.read_csv('data/train_files/stock_prices.csv', parse_dates=[1]))\n",
    "        financial = df_security_code(pd.read_csv('data/train_files/financials.csv',parse_dates=['Date']))\n",
    "    else: \n",
    "        prices = pd.read_csv('data/train_files/stock_prices.csv', parse_dates=[1])\n",
    "        financial = pd.read_csv('data/train_files/financials.csv',parse_dates=['Date'])\n",
    "    return prices, financial"
   ]
  },
  {
   "cell_type": "code",
   "execution_count": 3,
   "metadata": {},
   "outputs": [],
   "source": [
    "# helper function\n",
    "def save_and_load(df):\n",
    "    df_name = name =[x for x in globals() if globals()[x] is df][0]\n",
    "    name = 'data/curr_' + df_name + '.csv'\n",
    "    df.to_csv(name)\n",
    "    del df\n",
    "    return pd.read_csv(name, parse_dates=['Date'], index_col=[0] )"
   ]
  },
  {
   "cell_type": "code",
   "execution_count": 4,
   "metadata": {},
   "outputs": [],
   "source": [
    "prices, financial = data_selection(DATASELECTION)"
   ]
  },
  {
   "cell_type": "code",
   "execution_count": 5,
   "metadata": {},
   "outputs": [
    {
     "data": {
      "text/html": [
       "<div>\n",
       "<style scoped>\n",
       "    .dataframe tbody tr th:only-of-type {\n",
       "        vertical-align: middle;\n",
       "    }\n",
       "\n",
       "    .dataframe tbody tr th {\n",
       "        vertical-align: top;\n",
       "    }\n",
       "\n",
       "    .dataframe thead th {\n",
       "        text-align: right;\n",
       "    }\n",
       "</style>\n",
       "<table border=\"1\" class=\"dataframe\">\n",
       "  <thead>\n",
       "    <tr style=\"text-align: right;\">\n",
       "      <th></th>\n",
       "      <th>RowId</th>\n",
       "      <th>Date</th>\n",
       "      <th>SecuritiesCode</th>\n",
       "      <th>Open</th>\n",
       "      <th>High</th>\n",
       "      <th>Low</th>\n",
       "      <th>Close</th>\n",
       "      <th>Volume</th>\n",
       "      <th>AdjustmentFactor</th>\n",
       "      <th>ExpectedDividend</th>\n",
       "      <th>SupervisionFlag</th>\n",
       "      <th>Target</th>\n",
       "    </tr>\n",
       "  </thead>\n",
       "  <tbody>\n",
       "    <tr>\n",
       "      <th>0</th>\n",
       "      <td>20170104_1301</td>\n",
       "      <td>2017-01-04</td>\n",
       "      <td>1301</td>\n",
       "      <td>2734.0</td>\n",
       "      <td>2755.0</td>\n",
       "      <td>2730.0</td>\n",
       "      <td>2742.0</td>\n",
       "      <td>31400</td>\n",
       "      <td>1.0</td>\n",
       "      <td>NaN</td>\n",
       "      <td>False</td>\n",
       "      <td>0.000730</td>\n",
       "    </tr>\n",
       "    <tr>\n",
       "      <th>1</th>\n",
       "      <td>20170104_1332</td>\n",
       "      <td>2017-01-04</td>\n",
       "      <td>1332</td>\n",
       "      <td>568.0</td>\n",
       "      <td>576.0</td>\n",
       "      <td>563.0</td>\n",
       "      <td>571.0</td>\n",
       "      <td>2798500</td>\n",
       "      <td>1.0</td>\n",
       "      <td>NaN</td>\n",
       "      <td>False</td>\n",
       "      <td>0.012324</td>\n",
       "    </tr>\n",
       "  </tbody>\n",
       "</table>\n",
       "</div>"
      ],
      "text/plain": [
       "           RowId       Date  SecuritiesCode    Open    High     Low   Close  \\\n",
       "0  20170104_1301 2017-01-04            1301  2734.0  2755.0  2730.0  2742.0   \n",
       "1  20170104_1332 2017-01-04            1332   568.0   576.0   563.0   571.0   \n",
       "\n",
       "    Volume  AdjustmentFactor  ExpectedDividend  SupervisionFlag    Target  \n",
       "0    31400               1.0               NaN            False  0.000730  \n",
       "1  2798500               1.0               NaN            False  0.012324  "
      ]
     },
     "execution_count": 5,
     "metadata": {},
     "output_type": "execute_result"
    }
   ],
   "source": [
    "prices.head(2)"
   ]
  },
  {
   "cell_type": "code",
   "execution_count": 6,
   "metadata": {},
   "outputs": [
    {
     "data": {
      "text/html": [
       "<div>\n",
       "<style scoped>\n",
       "    .dataframe tbody tr th:only-of-type {\n",
       "        vertical-align: middle;\n",
       "    }\n",
       "\n",
       "    .dataframe tbody tr th {\n",
       "        vertical-align: top;\n",
       "    }\n",
       "\n",
       "    .dataframe thead th {\n",
       "        text-align: right;\n",
       "    }\n",
       "</style>\n",
       "<table border=\"1\" class=\"dataframe\">\n",
       "  <thead>\n",
       "    <tr style=\"text-align: right;\">\n",
       "      <th></th>\n",
       "      <th>DisclosureNumber</th>\n",
       "      <th>DateCode</th>\n",
       "      <th>Date</th>\n",
       "      <th>SecuritiesCode</th>\n",
       "      <th>DisclosedDate</th>\n",
       "      <th>DisclosedTime</th>\n",
       "      <th>DisclosedUnixTime</th>\n",
       "      <th>TypeOfDocument</th>\n",
       "      <th>CurrentPeriodEndDate</th>\n",
       "      <th>TypeOfCurrentPeriod</th>\n",
       "      <th>...</th>\n",
       "      <th>ForecastEarningsPerShare</th>\n",
       "      <th>ApplyingOfSpecificAccountingOfTheQuarterlyFinancialStatements</th>\n",
       "      <th>MaterialChangesInSubsidiaries</th>\n",
       "      <th>ChangesBasedOnRevisionsOfAccountingStandard</th>\n",
       "      <th>ChangesOtherThanOnesBasedOnRevisionsOfAccountingStandard</th>\n",
       "      <th>ChangesInAccountingEstimates</th>\n",
       "      <th>RetrospectiveRestatement</th>\n",
       "      <th>NumberOfIssuedAndOutstandingSharesAtTheEndOfFiscalYearIncludingTreasuryStock</th>\n",
       "      <th>NumberOfTreasuryStockAtTheEndOfFiscalYear</th>\n",
       "      <th>AverageNumberOfShares</th>\n",
       "    </tr>\n",
       "  </thead>\n",
       "  <tbody>\n",
       "    <tr>\n",
       "      <th>0</th>\n",
       "      <td>2.016121e+13</td>\n",
       "      <td>20170104_2753</td>\n",
       "      <td>2017-01-04</td>\n",
       "      <td>2753.0</td>\n",
       "      <td>2017-01-04</td>\n",
       "      <td>07:30:00</td>\n",
       "      <td>1.483483e+09</td>\n",
       "      <td>3QFinancialStatements_Consolidated_JP</td>\n",
       "      <td>2016-12-31</td>\n",
       "      <td>3Q</td>\n",
       "      <td>...</td>\n",
       "      <td>319.76</td>\n",
       "      <td>NaN</td>\n",
       "      <td>False</td>\n",
       "      <td>True</td>\n",
       "      <td>False</td>\n",
       "      <td>False</td>\n",
       "      <td>False</td>\n",
       "      <td>6848800.0</td>\n",
       "      <td>－</td>\n",
       "      <td>6848800.0</td>\n",
       "    </tr>\n",
       "    <tr>\n",
       "      <th>1</th>\n",
       "      <td>2.017010e+13</td>\n",
       "      <td>20170104_3353</td>\n",
       "      <td>2017-01-04</td>\n",
       "      <td>3353.0</td>\n",
       "      <td>2017-01-04</td>\n",
       "      <td>15:00:00</td>\n",
       "      <td>1.483510e+09</td>\n",
       "      <td>3QFinancialStatements_Consolidated_JP</td>\n",
       "      <td>2016-11-30</td>\n",
       "      <td>3Q</td>\n",
       "      <td>...</td>\n",
       "      <td>485.36</td>\n",
       "      <td>NaN</td>\n",
       "      <td>False</td>\n",
       "      <td>True</td>\n",
       "      <td>False</td>\n",
       "      <td>False</td>\n",
       "      <td>False</td>\n",
       "      <td>2035000.0</td>\n",
       "      <td>118917</td>\n",
       "      <td>1916083.0</td>\n",
       "    </tr>\n",
       "  </tbody>\n",
       "</table>\n",
       "<p>2 rows × 45 columns</p>\n",
       "</div>"
      ],
      "text/plain": [
       "   DisclosureNumber       DateCode       Date  SecuritiesCode DisclosedDate  \\\n",
       "0      2.016121e+13  20170104_2753 2017-01-04          2753.0    2017-01-04   \n",
       "1      2.017010e+13  20170104_3353 2017-01-04          3353.0    2017-01-04   \n",
       "\n",
       "  DisclosedTime  DisclosedUnixTime                         TypeOfDocument  \\\n",
       "0      07:30:00       1.483483e+09  3QFinancialStatements_Consolidated_JP   \n",
       "1      15:00:00       1.483510e+09  3QFinancialStatements_Consolidated_JP   \n",
       "\n",
       "  CurrentPeriodEndDate TypeOfCurrentPeriod  ... ForecastEarningsPerShare  \\\n",
       "0           2016-12-31                  3Q  ...                   319.76   \n",
       "1           2016-11-30                  3Q  ...                   485.36   \n",
       "\n",
       "  ApplyingOfSpecificAccountingOfTheQuarterlyFinancialStatements  \\\n",
       "0                                                NaN              \n",
       "1                                                NaN              \n",
       "\n",
       "  MaterialChangesInSubsidiaries ChangesBasedOnRevisionsOfAccountingStandard  \\\n",
       "0                         False                                        True   \n",
       "1                         False                                        True   \n",
       "\n",
       "  ChangesOtherThanOnesBasedOnRevisionsOfAccountingStandard  \\\n",
       "0                                              False         \n",
       "1                                              False         \n",
       "\n",
       "  ChangesInAccountingEstimates RetrospectiveRestatement  \\\n",
       "0                        False                    False   \n",
       "1                        False                    False   \n",
       "\n",
       "  NumberOfIssuedAndOutstandingSharesAtTheEndOfFiscalYearIncludingTreasuryStock  \\\n",
       "0                                          6848800.0                             \n",
       "1                                          2035000.0                             \n",
       "\n",
       "  NumberOfTreasuryStockAtTheEndOfFiscalYear AverageNumberOfShares  \n",
       "0                                         －             6848800.0  \n",
       "1                                    118917             1916083.0  \n",
       "\n",
       "[2 rows x 45 columns]"
      ]
     },
     "execution_count": 6,
     "metadata": {},
     "output_type": "execute_result"
    }
   ],
   "source": [
    "financial.head(2)"
   ]
  },
  {
   "cell_type": "markdown",
   "metadata": {},
   "source": [
    "## - Stock price"
   ]
  },
  {
   "cell_type": "code",
   "execution_count": 7,
   "metadata": {},
   "outputs": [
    {
     "name": "stdout",
     "output_type": "stream",
     "text": [
      " Shape:\n",
      " ----------------------------------------\n",
      " Observations:   2.33M\n",
      " Features:       12\n",
      " Feature Date:    datetime64[ns]\n",
      "----------------------------------------\n",
      "Index(['RowId', 'Date', 'SecuritiesCode', 'Open', 'High', 'Low', 'Close',\n",
      "       'Volume', 'AdjustmentFactor', 'ExpectedDividend', 'SupervisionFlag',\n",
      "       'Target'],\n",
      "      dtype='object')\n",
      "----------------------------------------\n"
     ]
    },
    {
     "data": {
      "text/html": [
       "<div>\n",
       "<style scoped>\n",
       "    .dataframe tbody tr th:only-of-type {\n",
       "        vertical-align: middle;\n",
       "    }\n",
       "\n",
       "    .dataframe tbody tr th {\n",
       "        vertical-align: top;\n",
       "    }\n",
       "\n",
       "    .dataframe thead th {\n",
       "        text-align: right;\n",
       "    }\n",
       "</style>\n",
       "<table border=\"1\" class=\"dataframe\">\n",
       "  <thead>\n",
       "    <tr style=\"text-align: right;\">\n",
       "      <th></th>\n",
       "      <th>N_missing</th>\n",
       "      <th>Percentage</th>\n",
       "    </tr>\n",
       "  </thead>\n",
       "  <tbody>\n",
       "    <tr>\n",
       "      <th>ExpectedDividend</th>\n",
       "      <td>2313666.0</td>\n",
       "      <td>99.19</td>\n",
       "    </tr>\n",
       "    <tr>\n",
       "      <th>Open</th>\n",
       "      <td>7608.0</td>\n",
       "      <td>0.33</td>\n",
       "    </tr>\n",
       "    <tr>\n",
       "      <th>High</th>\n",
       "      <td>7608.0</td>\n",
       "      <td>0.33</td>\n",
       "    </tr>\n",
       "    <tr>\n",
       "      <th>Low</th>\n",
       "      <td>7608.0</td>\n",
       "      <td>0.33</td>\n",
       "    </tr>\n",
       "    <tr>\n",
       "      <th>Close</th>\n",
       "      <td>7608.0</td>\n",
       "      <td>0.33</td>\n",
       "    </tr>\n",
       "    <tr>\n",
       "      <th>Target</th>\n",
       "      <td>238.0</td>\n",
       "      <td>0.01</td>\n",
       "    </tr>\n",
       "    <tr>\n",
       "      <th>RowId</th>\n",
       "      <td>0.0</td>\n",
       "      <td>0.00</td>\n",
       "    </tr>\n",
       "    <tr>\n",
       "      <th>Date</th>\n",
       "      <td>0.0</td>\n",
       "      <td>0.00</td>\n",
       "    </tr>\n",
       "    <tr>\n",
       "      <th>SecuritiesCode</th>\n",
       "      <td>0.0</td>\n",
       "      <td>0.00</td>\n",
       "    </tr>\n",
       "    <tr>\n",
       "      <th>Volume</th>\n",
       "      <td>0.0</td>\n",
       "      <td>0.00</td>\n",
       "    </tr>\n",
       "    <tr>\n",
       "      <th>AdjustmentFactor</th>\n",
       "      <td>0.0</td>\n",
       "      <td>0.00</td>\n",
       "    </tr>\n",
       "    <tr>\n",
       "      <th>SupervisionFlag</th>\n",
       "      <td>0.0</td>\n",
       "      <td>0.00</td>\n",
       "    </tr>\n",
       "  </tbody>\n",
       "</table>\n",
       "</div>"
      ],
      "text/plain": [
       "                  N_missing  Percentage\n",
       "ExpectedDividend  2313666.0       99.19\n",
       "Open                 7608.0        0.33\n",
       "High                 7608.0        0.33\n",
       "Low                  7608.0        0.33\n",
       "Close                7608.0        0.33\n",
       "Target                238.0        0.01\n",
       "RowId                   0.0        0.00\n",
       "Date                    0.0        0.00\n",
       "SecuritiesCode          0.0        0.00\n",
       "Volume                  0.0        0.00\n",
       "AdjustmentFactor        0.0        0.00\n",
       "SupervisionFlag         0.0        0.00"
      ]
     },
     "metadata": {},
     "output_type": "display_data"
    }
   ],
   "source": [
    "# test with feature_engineering.py\n",
    "#prices = pd.read_csv('data/train_files/stock_prices.csv', parse_dates=[1])\n",
    "print_shape(prices, MISSINGVALUES)\n",
    "#prices.head(2)"
   ]
  },
  {
   "cell_type": "code",
   "execution_count": 8,
   "metadata": {},
   "outputs": [
    {
     "name": "stderr",
     "output_type": "stream",
     "text": [
      " 42%|████▏     | 837/2000 [00:52<01:12, 15.95it/s]\n"
     ]
    },
    {
     "ename": "KeyboardInterrupt",
     "evalue": "",
     "output_type": "error",
     "traceback": [
      "\u001b[0;31m---------------------------------------------------------------------------\u001b[0m",
      "\u001b[0;31mKeyboardInterrupt\u001b[0m                         Traceback (most recent call last)",
      "\u001b[1;32m/Users/valentina/ds/tokyo-stock-exchange/preprocessing.ipynb Cell 11'\u001b[0m in \u001b[0;36m<cell line: 4>\u001b[0;34m()\u001b[0m\n\u001b[1;32m      <a href='vscode-notebook-cell:/Users/valentina/ds/tokyo-stock-exchange/preprocessing.ipynb#ch0000010?line=0'>1</a>\u001b[0m \u001b[39m#from feature_engineering import fill_and_drop_na_values\u001b[39;00m\n\u001b[1;32m      <a href='vscode-notebook-cell:/Users/valentina/ds/tokyo-stock-exchange/preprocessing.ipynb#ch0000010?line=1'>2</a>\u001b[0m \n\u001b[1;32m      <a href='vscode-notebook-cell:/Users/valentina/ds/tokyo-stock-exchange/preprocessing.ipynb#ch0000010?line=2'>3</a>\u001b[0m \u001b[39m# fill na\u001b[39;00m\n\u001b[0;32m----> <a href='vscode-notebook-cell:/Users/valentina/ds/tokyo-stock-exchange/preprocessing.ipynb#ch0000010?line=3'>4</a>\u001b[0m fill_prices \u001b[39m=\u001b[39m fill_and_drop_na_values(prices, drop\u001b[39m=\u001b[39;49m\u001b[39mFalse\u001b[39;49;00m)\n\u001b[1;32m      <a href='vscode-notebook-cell:/Users/valentina/ds/tokyo-stock-exchange/preprocessing.ipynb#ch0000010?line=5'>6</a>\u001b[0m \u001b[39m# save and load\u001b[39;00m\n\u001b[1;32m      <a href='vscode-notebook-cell:/Users/valentina/ds/tokyo-stock-exchange/preprocessing.ipynb#ch0000010?line=7'>8</a>\u001b[0m fill_prices \u001b[39m=\u001b[39m save_and_load(fill_prices)\n",
      "File \u001b[0;32m~/ds/tokyo-stock-exchange/feature_engineering.py:42\u001b[0m, in \u001b[0;36mfill_and_drop_na_values\u001b[0;34m(df, drop)\u001b[0m\n\u001b[1;32m     <a href='file:///Users/valentina/ds/tokyo-stock-exchange/feature_engineering.py?line=38'>39</a>\u001b[0m     query \u001b[39m=\u001b[39m query\u001b[39m.\u001b[39mffill()\n\u001b[1;32m     <a href='file:///Users/valentina/ds/tokyo-stock-exchange/feature_engineering.py?line=40'>41</a>\u001b[0m     \u001b[39m# updating dataframe, adding filled query\u001b[39;00m\n\u001b[0;32m---> <a href='file:///Users/valentina/ds/tokyo-stock-exchange/feature_engineering.py?line=41'>42</a>\u001b[0m     stocks \u001b[39m=\u001b[39m pd\u001b[39m.\u001b[39;49mconcat([stocks, query], axis\u001b[39m=\u001b[39;49m\u001b[39m0\u001b[39;49m)\n\u001b[1;32m     <a href='file:///Users/valentina/ds/tokyo-stock-exchange/feature_engineering.py?line=43'>44</a>\u001b[0m \u001b[39m# drop remaining na values\u001b[39;00m\n\u001b[1;32m     <a href='file:///Users/valentina/ds/tokyo-stock-exchange/feature_engineering.py?line=44'>45</a>\u001b[0m \u001b[39mif\u001b[39;00m drop: stocks\u001b[39m.\u001b[39mdropna(axis\u001b[39m=\u001b[39m\u001b[39m0\u001b[39m)\n",
      "File \u001b[0;32m~/ds/tokyo-stock-exchange/.venv/lib/python3.9/site-packages/pandas/util/_decorators.py:311\u001b[0m, in \u001b[0;36mdeprecate_nonkeyword_arguments.<locals>.decorate.<locals>.wrapper\u001b[0;34m(*args, **kwargs)\u001b[0m\n\u001b[1;32m    <a href='file:///Users/valentina/ds/tokyo-stock-exchange/.venv/lib/python3.9/site-packages/pandas/util/_decorators.py?line=304'>305</a>\u001b[0m \u001b[39mif\u001b[39;00m \u001b[39mlen\u001b[39m(args) \u001b[39m>\u001b[39m num_allow_args:\n\u001b[1;32m    <a href='file:///Users/valentina/ds/tokyo-stock-exchange/.venv/lib/python3.9/site-packages/pandas/util/_decorators.py?line=305'>306</a>\u001b[0m     warnings\u001b[39m.\u001b[39mwarn(\n\u001b[1;32m    <a href='file:///Users/valentina/ds/tokyo-stock-exchange/.venv/lib/python3.9/site-packages/pandas/util/_decorators.py?line=306'>307</a>\u001b[0m         msg\u001b[39m.\u001b[39mformat(arguments\u001b[39m=\u001b[39marguments),\n\u001b[1;32m    <a href='file:///Users/valentina/ds/tokyo-stock-exchange/.venv/lib/python3.9/site-packages/pandas/util/_decorators.py?line=307'>308</a>\u001b[0m         \u001b[39mFutureWarning\u001b[39;00m,\n\u001b[1;32m    <a href='file:///Users/valentina/ds/tokyo-stock-exchange/.venv/lib/python3.9/site-packages/pandas/util/_decorators.py?line=308'>309</a>\u001b[0m         stacklevel\u001b[39m=\u001b[39mstacklevel,\n\u001b[1;32m    <a href='file:///Users/valentina/ds/tokyo-stock-exchange/.venv/lib/python3.9/site-packages/pandas/util/_decorators.py?line=309'>310</a>\u001b[0m     )\n\u001b[0;32m--> <a href='file:///Users/valentina/ds/tokyo-stock-exchange/.venv/lib/python3.9/site-packages/pandas/util/_decorators.py?line=310'>311</a>\u001b[0m \u001b[39mreturn\u001b[39;00m func(\u001b[39m*\u001b[39;49margs, \u001b[39m*\u001b[39;49m\u001b[39m*\u001b[39;49mkwargs)\n",
      "File \u001b[0;32m~/ds/tokyo-stock-exchange/.venv/lib/python3.9/site-packages/pandas/core/reshape/concat.py:360\u001b[0m, in \u001b[0;36mconcat\u001b[0;34m(objs, axis, join, ignore_index, keys, levels, names, verify_integrity, sort, copy)\u001b[0m\n\u001b[1;32m    <a href='file:///Users/valentina/ds/tokyo-stock-exchange/.venv/lib/python3.9/site-packages/pandas/core/reshape/concat.py?line=155'>156</a>\u001b[0m \u001b[39m\"\"\"\u001b[39;00m\n\u001b[1;32m    <a href='file:///Users/valentina/ds/tokyo-stock-exchange/.venv/lib/python3.9/site-packages/pandas/core/reshape/concat.py?line=156'>157</a>\u001b[0m \u001b[39mConcatenate pandas objects along a particular axis with optional set logic\u001b[39;00m\n\u001b[1;32m    <a href='file:///Users/valentina/ds/tokyo-stock-exchange/.venv/lib/python3.9/site-packages/pandas/core/reshape/concat.py?line=157'>158</a>\u001b[0m \u001b[39malong the other axes.\u001b[39;00m\n\u001b[0;32m   (...)\u001b[0m\n\u001b[1;32m    <a href='file:///Users/valentina/ds/tokyo-stock-exchange/.venv/lib/python3.9/site-packages/pandas/core/reshape/concat.py?line=344'>345</a>\u001b[0m \u001b[39mValueError: Indexes have overlapping values: ['a']\u001b[39;00m\n\u001b[1;32m    <a href='file:///Users/valentina/ds/tokyo-stock-exchange/.venv/lib/python3.9/site-packages/pandas/core/reshape/concat.py?line=345'>346</a>\u001b[0m \u001b[39m\"\"\"\u001b[39;00m\n\u001b[1;32m    <a href='file:///Users/valentina/ds/tokyo-stock-exchange/.venv/lib/python3.9/site-packages/pandas/core/reshape/concat.py?line=346'>347</a>\u001b[0m op \u001b[39m=\u001b[39m _Concatenator(\n\u001b[1;32m    <a href='file:///Users/valentina/ds/tokyo-stock-exchange/.venv/lib/python3.9/site-packages/pandas/core/reshape/concat.py?line=347'>348</a>\u001b[0m     objs,\n\u001b[1;32m    <a href='file:///Users/valentina/ds/tokyo-stock-exchange/.venv/lib/python3.9/site-packages/pandas/core/reshape/concat.py?line=348'>349</a>\u001b[0m     axis\u001b[39m=\u001b[39maxis,\n\u001b[0;32m   (...)\u001b[0m\n\u001b[1;32m    <a href='file:///Users/valentina/ds/tokyo-stock-exchange/.venv/lib/python3.9/site-packages/pandas/core/reshape/concat.py?line=356'>357</a>\u001b[0m     sort\u001b[39m=\u001b[39msort,\n\u001b[1;32m    <a href='file:///Users/valentina/ds/tokyo-stock-exchange/.venv/lib/python3.9/site-packages/pandas/core/reshape/concat.py?line=357'>358</a>\u001b[0m )\n\u001b[0;32m--> <a href='file:///Users/valentina/ds/tokyo-stock-exchange/.venv/lib/python3.9/site-packages/pandas/core/reshape/concat.py?line=359'>360</a>\u001b[0m \u001b[39mreturn\u001b[39;00m op\u001b[39m.\u001b[39;49mget_result()\n",
      "File \u001b[0;32m~/ds/tokyo-stock-exchange/.venv/lib/python3.9/site-packages/pandas/core/reshape/concat.py:595\u001b[0m, in \u001b[0;36m_Concatenator.get_result\u001b[0;34m(self)\u001b[0m\n\u001b[1;32m    <a href='file:///Users/valentina/ds/tokyo-stock-exchange/.venv/lib/python3.9/site-packages/pandas/core/reshape/concat.py?line=590'>591</a>\u001b[0m             indexers[ax] \u001b[39m=\u001b[39m obj_labels\u001b[39m.\u001b[39mget_indexer(new_labels)\n\u001b[1;32m    <a href='file:///Users/valentina/ds/tokyo-stock-exchange/.venv/lib/python3.9/site-packages/pandas/core/reshape/concat.py?line=592'>593</a>\u001b[0m     mgrs_indexers\u001b[39m.\u001b[39mappend((obj\u001b[39m.\u001b[39m_mgr, indexers))\n\u001b[0;32m--> <a href='file:///Users/valentina/ds/tokyo-stock-exchange/.venv/lib/python3.9/site-packages/pandas/core/reshape/concat.py?line=594'>595</a>\u001b[0m new_data \u001b[39m=\u001b[39m concatenate_managers(\n\u001b[1;32m    <a href='file:///Users/valentina/ds/tokyo-stock-exchange/.venv/lib/python3.9/site-packages/pandas/core/reshape/concat.py?line=595'>596</a>\u001b[0m     mgrs_indexers, \u001b[39mself\u001b[39;49m\u001b[39m.\u001b[39;49mnew_axes, concat_axis\u001b[39m=\u001b[39;49m\u001b[39mself\u001b[39;49m\u001b[39m.\u001b[39;49mbm_axis, copy\u001b[39m=\u001b[39;49m\u001b[39mself\u001b[39;49m\u001b[39m.\u001b[39;49mcopy\n\u001b[1;32m    <a href='file:///Users/valentina/ds/tokyo-stock-exchange/.venv/lib/python3.9/site-packages/pandas/core/reshape/concat.py?line=596'>597</a>\u001b[0m )\n\u001b[1;32m    <a href='file:///Users/valentina/ds/tokyo-stock-exchange/.venv/lib/python3.9/site-packages/pandas/core/reshape/concat.py?line=597'>598</a>\u001b[0m \u001b[39mif\u001b[39;00m \u001b[39mnot\u001b[39;00m \u001b[39mself\u001b[39m\u001b[39m.\u001b[39mcopy:\n\u001b[1;32m    <a href='file:///Users/valentina/ds/tokyo-stock-exchange/.venv/lib/python3.9/site-packages/pandas/core/reshape/concat.py?line=598'>599</a>\u001b[0m     new_data\u001b[39m.\u001b[39m_consolidate_inplace()\n",
      "File \u001b[0;32m~/ds/tokyo-stock-exchange/.venv/lib/python3.9/site-packages/pandas/core/internals/concat.py:231\u001b[0m, in \u001b[0;36mconcatenate_managers\u001b[0;34m(mgrs_indexers, axes, concat_axis, copy)\u001b[0m\n\u001b[1;32m    <a href='file:///Users/valentina/ds/tokyo-stock-exchange/.venv/lib/python3.9/site-packages/pandas/core/internals/concat.py?line=224'>225</a>\u001b[0m vals \u001b[39m=\u001b[39m [ju\u001b[39m.\u001b[39mblock\u001b[39m.\u001b[39mvalues \u001b[39mfor\u001b[39;00m ju \u001b[39min\u001b[39;00m join_units]\n\u001b[1;32m    <a href='file:///Users/valentina/ds/tokyo-stock-exchange/.venv/lib/python3.9/site-packages/pandas/core/internals/concat.py?line=226'>227</a>\u001b[0m \u001b[39mif\u001b[39;00m \u001b[39mnot\u001b[39;00m blk\u001b[39m.\u001b[39mis_extension:\n\u001b[1;32m    <a href='file:///Users/valentina/ds/tokyo-stock-exchange/.venv/lib/python3.9/site-packages/pandas/core/internals/concat.py?line=227'>228</a>\u001b[0m     \u001b[39m# _is_uniform_join_units ensures a single dtype, so\u001b[39;00m\n\u001b[1;32m    <a href='file:///Users/valentina/ds/tokyo-stock-exchange/.venv/lib/python3.9/site-packages/pandas/core/internals/concat.py?line=228'>229</a>\u001b[0m     \u001b[39m#  we can use np.concatenate, which is more performant\u001b[39;00m\n\u001b[1;32m    <a href='file:///Users/valentina/ds/tokyo-stock-exchange/.venv/lib/python3.9/site-packages/pandas/core/internals/concat.py?line=229'>230</a>\u001b[0m     \u001b[39m#  than concat_compat\u001b[39;00m\n\u001b[0;32m--> <a href='file:///Users/valentina/ds/tokyo-stock-exchange/.venv/lib/python3.9/site-packages/pandas/core/internals/concat.py?line=230'>231</a>\u001b[0m     values \u001b[39m=\u001b[39m np\u001b[39m.\u001b[39;49mconcatenate(vals, axis\u001b[39m=\u001b[39;49m\u001b[39m1\u001b[39;49m)\n\u001b[1;32m    <a href='file:///Users/valentina/ds/tokyo-stock-exchange/.venv/lib/python3.9/site-packages/pandas/core/internals/concat.py?line=231'>232</a>\u001b[0m \u001b[39melse\u001b[39;00m:\n\u001b[1;32m    <a href='file:///Users/valentina/ds/tokyo-stock-exchange/.venv/lib/python3.9/site-packages/pandas/core/internals/concat.py?line=232'>233</a>\u001b[0m     \u001b[39m# TODO(EA2D): special-casing not needed with 2D EAs\u001b[39;00m\n\u001b[1;32m    <a href='file:///Users/valentina/ds/tokyo-stock-exchange/.venv/lib/python3.9/site-packages/pandas/core/internals/concat.py?line=233'>234</a>\u001b[0m     values \u001b[39m=\u001b[39m concat_compat(vals, axis\u001b[39m=\u001b[39m\u001b[39m1\u001b[39m)\n",
      "File \u001b[0;32m<__array_function__ internals>:180\u001b[0m, in \u001b[0;36mconcatenate\u001b[0;34m(*args, **kwargs)\u001b[0m\n",
      "\u001b[0;31mKeyboardInterrupt\u001b[0m: "
     ]
    }
   ],
   "source": [
    "\n",
    "#from feature_engineering import fill_and_drop_na_values\n",
    "\n",
    "# fill na\n",
    "fill_prices = fill_and_drop_na_values(prices, drop=False)\n",
    "\n",
    "# save and load\n",
    "\n",
    "fill_prices = save_and_load(fill_prices)\n",
    "\n",
    "fill_prices.to_csv('data/curr_fill_prices.csv')\n",
    "print_shape(fill_prices, MISSINGVALUES)\n",
    "fill_prices.head(2)\n",
    "\n"
   ]
  },
  {
   "cell_type": "code",
   "execution_count": null,
   "metadata": {},
   "outputs": [],
   "source": [
    "#fill_prices = pd.read_csv('data/curr_fill_prices.csv', parse_dates=['Date'], index_col=[0])\n",
    "#print_shape(fill_prices)"
   ]
  },
  {
   "cell_type": "code",
   "execution_count": null,
   "metadata": {},
   "outputs": [],
   "source": [
    "\n",
    "\n",
    "\n",
    "ad_price = adjust_price(fill_prices)\n",
    "ad_price = save_and_load(ad_price)\n",
    "print_shape(ad_price, MISSINGVALUES)\n",
    "ad_price.head(2)\n",
    "#del ad_price"
   ]
  },
  {
   "cell_type": "code",
   "execution_count": null,
   "metadata": {},
   "outputs": [],
   "source": [
    "#ad_price = pd.read_csv('data/curr_ad_price.csv', parse_dates=['Date'], index_col=[0])\n",
    "#print_shape(ad_price)"
   ]
  },
  {
   "cell_type": "code",
   "execution_count": null,
   "metadata": {},
   "outputs": [],
   "source": [
    "#from feature_engineering import price_new_features, encode_flag\n",
    "\n",
    "ad_price_feat = price_new_features(ad_price)\n",
    "\n",
    "ad_price_feat['SupervisionFlag'] = encode_flag(ad_price_feat)\n",
    "#ad_price_feat.to_csv('data/curr_ad_price_feat.csv')\n",
    "\n",
    "ad_price_feat = save_and_load(ad_price_feat)\n",
    "\n",
    "print_shape(ad_price_feat, MISSINGVALUES)\n"
   ]
  },
  {
   "cell_type": "code",
   "execution_count": null,
   "metadata": {},
   "outputs": [],
   "source": [
    "dateL = ['Date', 'Year',\n",
    "       'week', 'Day', 'Month' ]"
   ]
  },
  {
   "cell_type": "code",
   "execution_count": null,
   "metadata": {},
   "outputs": [],
   "source": [
    "ad_price_feat[dateL]"
   ]
  },
  {
   "cell_type": "code",
   "execution_count": null,
   "metadata": {},
   "outputs": [],
   "source": [
    "#ad_price_feat =  pd.read_csv('data/curr_ad_price_feat.csv', parse_dates=['Date'], index_col=[0])\n",
    "#print_shape(ad_price_feat)"
   ]
  },
  {
   "cell_type": "markdown",
   "metadata": {},
   "source": [
    "## - Financials"
   ]
  },
  {
   "cell_type": "code",
   "execution_count": null,
   "metadata": {},
   "outputs": [],
   "source": [
    "#from feature_engineering import fill_finances\n",
    "\n",
    "#financial = financial = pd.read_csv('data/train_files/financials.csv',parse_dates=['Date'])\n",
    "#financial.head(2)"
   ]
  },
  {
   "cell_type": "code",
   "execution_count": null,
   "metadata": {},
   "outputs": [],
   "source": [
    "print_shape(financial)"
   ]
  },
  {
   "cell_type": "code",
   "execution_count": null,
   "metadata": {},
   "outputs": [],
   "source": [
    "filled_financial = fill_finances_knn(financial, prices)"
   ]
  },
  {
   "cell_type": "code",
   "execution_count": null,
   "metadata": {},
   "outputs": [],
   "source": [
    "filled_financial.head()"
   ]
  },
  {
   "cell_type": "code",
   "execution_count": null,
   "metadata": {},
   "outputs": [],
   "source": [
    "from feature_engineering import fill_finances_knn\n",
    "\n",
    "\n",
    "\n",
    "filled_financial = fill_finances_knn(financial, prices)\n",
    "#filled_financial.to_csv('data/curr_filled_finances.csv')\n",
    "\n",
    "filled_financial = save_and_load(filled_financial)\n",
    "\n",
    "print_shape(filled_financial, MISSINGVALUES)\n",
    "filled_financial.head(2)\n",
    "#del filled_finances"
   ]
  },
  {
   "cell_type": "code",
   "execution_count": null,
   "metadata": {},
   "outputs": [],
   "source": [
    "#filled_finances = pd.read_csv('data/curr_filled_finances.csv', parse_dates=['Date'], index_col=[0])\n",
    "#print_shape(filled_finances)"
   ]
  },
  {
   "cell_type": "code",
   "execution_count": null,
   "metadata": {},
   "outputs": [],
   "source": [
    "from feature_engineering import new_features_financial\n",
    "\n",
    "filled_financial_features = new_features_financial(filled_financial)\n",
    "\n",
    "#filled_financial_features.to_csv('data/curr_filled_financial_features.csv')\n",
    "filled_financial_features = save_and_load(filled_financial_features)\n",
    "print_shape(filled_financial_features)\n",
    "filled_financial_features.head()\n",
    "\n"
   ]
  },
  {
   "cell_type": "code",
   "execution_count": null,
   "metadata": {},
   "outputs": [],
   "source": [
    "filled_financial_features[['Date', 'Year', 'Day', 'Month' ]]"
   ]
  },
  {
   "cell_type": "code",
   "execution_count": null,
   "metadata": {},
   "outputs": [],
   "source": [
    "#filled_financial_features.SecuritiesCode = filled_financial_features.SecuritiesCode.astype(int)"
   ]
  },
  {
   "cell_type": "code",
   "execution_count": null,
   "metadata": {},
   "outputs": [],
   "source": [
    "filled_financial_features.head(2)"
   ]
  },
  {
   "cell_type": "code",
   "execution_count": null,
   "metadata": {},
   "outputs": [],
   "source": [
    "ad_price_feat.head(2)"
   ]
  },
  {
   "cell_type": "markdown",
   "metadata": {},
   "source": [
    "## - financials + price"
   ]
  },
  {
   "cell_type": "code",
   "execution_count": null,
   "metadata": {},
   "outputs": [],
   "source": [
    "# create key on financial : RowId\n",
    "#filled_financial_features['RowId'] = filled_financial_features.Date.dt.strftime('%Y%m%d').astype(str) + '_' + filled_financial_features.SecuritiesCode.astype(str)"
   ]
  },
  {
   "cell_type": "code",
   "execution_count": null,
   "metadata": {},
   "outputs": [],
   "source": [
    "#filled_financial_features.sort_values('Date').head(20)"
   ]
  },
  {
   "cell_type": "code",
   "execution_count": null,
   "metadata": {},
   "outputs": [],
   "source": [
    "#filled_financial_features.RowId.info()"
   ]
  },
  {
   "cell_type": "code",
   "execution_count": null,
   "metadata": {},
   "outputs": [],
   "source": [
    "from feature_engineering import price_financial_function"
   ]
  },
  {
   "cell_type": "code",
   "execution_count": null,
   "metadata": {},
   "outputs": [],
   "source": [
    "# concat financials and price\n",
    "#price_financial = price_financial_function(ad_price_feat, filled_financial_features)\n",
    "price_financial = pd.merge(ad_price_feat, filled_financial_features, how='left', on='RowId', suffixes=[None, '_f_'])\n",
    "#price_financial = pd.concat([ad_price, filled_financial_features], keys='RowID')\n",
    "\n",
    "fea_to_remove = ['Date_f_', 'Day_f_', 'Month_f_', 'Year_f_', 'SecuritiesCode_f_','Log_Return', 'AdjustmentFactor']\n",
    "price_financial.drop(fea_to_remove, axis=1, inplace=True)\n",
    "\n",
    "price_financial = save_and_load(price_financial)\n",
    "print_shape(price_financial)\n",
    "price_financial.head()"
   ]
  },
  {
   "cell_type": "code",
   "execution_count": null,
   "metadata": {},
   "outputs": [],
   "source": [
    "price_financial[dateL]"
   ]
  },
  {
   "cell_type": "code",
   "execution_count": null,
   "metadata": {},
   "outputs": [],
   "source": [
    "#price_financial_fill = ffill_pro_code(price_financial)\n",
    "price_financial_fill = fill_and_drop_na_values(price_financial, drop=False)\n",
    "\n",
    "price_financial_fill = save_and_load(price_financial_fill)\n",
    "\n",
    "print_shape(price_financial_fill)\n",
    "price_financial_fill.head(2)\n"
   ]
  },
  {
   "cell_type": "code",
   "execution_count": null,
   "metadata": {},
   "outputs": [],
   "source": [
    "print_shape(price_financial_fill, False)"
   ]
  },
  {
   "cell_type": "markdown",
   "metadata": {},
   "source": [
    "train test split\n"
   ]
  },
  {
   "cell_type": "code",
   "execution_count": null,
   "metadata": {},
   "outputs": [],
   "source": [
    "def train_test_split(df, split= 22):\n",
    "    df.dropna(inplace=True)\n",
    "    train_data = pd.DataFrame()\n",
    "    test_data = pd.DataFrame()\n",
    "\n",
    "    for i in tqdm(df.SecuritiesCode.unique()):\n",
    "        df_selected = df.query('SecuritiesCode == @i').sort_values('Date')\n",
    "        df_train, df_test = df_selected[:(len(df_selected)-split)], df_selected[(len(df_selected)-split):]\n",
    "\n",
    "        train_data = pd.concat([train_data, df_train])\n",
    "        test_data = pd.concat([test_data, df_test])\n",
    "\n",
    "    train_data['Date'] = pd.to_datetime(train_data['Date'])\n",
    "    test_data['Date'] = pd.to_datetime(test_data['Date'])\n",
    "\n",
    "    return train_data, test_data"
   ]
  },
  {
   "cell_type": "code",
   "execution_count": null,
   "metadata": {},
   "outputs": [],
   "source": [
    "train_data, test_data = train_test_split(price_financial_fill)\n",
    "\n",
    "train_data = save_and_load(train_data)\n",
    "test_data = save_and_load(test_data)"
   ]
  },
  {
   "cell_type": "code",
   "execution_count": null,
   "metadata": {},
   "outputs": [],
   "source": [
    "print_shape(train_data)\n"
   ]
  },
  {
   "cell_type": "code",
   "execution_count": null,
   "metadata": {},
   "outputs": [],
   "source": [
    "print_shape(test_data)"
   ]
  }
 ],
 "metadata": {
  "interpreter": {
   "hash": "8e59dc4903522b6bd625aac9b906fbe96a3134871878cc11f65b8580a1e47af4"
  },
  "kernelspec": {
   "display_name": "Python 3.9.4 ('.venv': venv)",
   "language": "python",
   "name": "python3"
  },
  "language_info": {
   "codemirror_mode": {
    "name": "ipython",
    "version": 3
   },
   "file_extension": ".py",
   "mimetype": "text/x-python",
   "name": "python",
   "nbconvert_exporter": "python",
   "pygments_lexer": "ipython3",
   "version": "3.9.4"
  },
  "orig_nbformat": 4
 },
 "nbformat": 4,
 "nbformat_minor": 2
}
