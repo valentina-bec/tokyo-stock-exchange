{
 "cells": [
  {
   "cell_type": "code",
   "execution_count": 1,
   "metadata": {},
   "outputs": [],
   "source": [
    "import os\n",
    "import datetime\n",
    "\n",
    "import sys\n",
    "\n",
    "sys.path.append(\"..\")\n",
    "\n",
    "import IPython\n",
    "import IPython.display\n",
    "import matplotlib as mpl\n",
    "import matplotlib.pyplot as plt\n",
    "import numpy as np\n",
    "import pandas as pd\n",
    "import seaborn as sns\n",
    "import tensorflow as tf\n",
    "from tqdm import tqdm\n",
    "\n",
    "from sklearn.preprocessing import StandardScaler\n",
    "from functions import df_security_code, missingValues\n",
    "\n",
    "\n",
    "\n",
    "mpl.rcParams['figure.figsize'] = (8, 6)\n",
    "mpl.rcParams['axes.grid'] = False"
   ]
  },
  {
   "cell_type": "markdown",
   "metadata": {},
   "source": [
    "# Data"
   ]
  },
  {
   "cell_type": "code",
   "execution_count": null,
   "metadata": {},
   "outputs": [],
   "source": [
    "# TODO axis o is time dimension"
   ]
  },
  {
   "cell_type": "markdown",
   "metadata": {},
   "source": []
  },
  {
   "cell_type": "code",
   "execution_count": 2,
   "metadata": {},
   "outputs": [],
   "source": [
    "data_train = pd.read_csv('../data/curr_train_data.csv', parse_dates=['Date'],  index_col=[0])\n",
    "data_test = pd.read_csv('../data/curr_test_data.csv', parse_dates=['Date'],  index_col=[0])\n",
    "df_train = df_security_code(data_train)\n",
    "df_test = df_security_code(data_test)\n",
    "del data_train, data_test"
   ]
  },
  {
   "cell_type": "code",
   "execution_count": 3,
   "metadata": {},
   "outputs": [
    {
     "data": {
      "text/html": [
       "<div>\n",
       "<style scoped>\n",
       "    .dataframe tbody tr th:only-of-type {\n",
       "        vertical-align: middle;\n",
       "    }\n",
       "\n",
       "    .dataframe tbody tr th {\n",
       "        vertical-align: top;\n",
       "    }\n",
       "\n",
       "    .dataframe thead th {\n",
       "        text-align: right;\n",
       "    }\n",
       "</style>\n",
       "<table border=\"1\" class=\"dataframe\">\n",
       "  <thead>\n",
       "    <tr style=\"text-align: right;\">\n",
       "      <th></th>\n",
       "      <th>RowId</th>\n",
       "      <th>Date</th>\n",
       "      <th>SecuritiesCode</th>\n",
       "      <th>ExpectedDividend</th>\n",
       "      <th>SupervisionFlag</th>\n",
       "      <th>ad_Open</th>\n",
       "      <th>ad_High</th>\n",
       "      <th>ad_Low</th>\n",
       "      <th>ad_Close</th>\n",
       "      <th>ad_Volume</th>\n",
       "      <th>...</th>\n",
       "      <th>Month</th>\n",
       "      <th>Year</th>\n",
       "      <th>week</th>\n",
       "      <th>Volatility_week</th>\n",
       "      <th>Profit</th>\n",
       "      <th>NetSales</th>\n",
       "      <th>margin</th>\n",
       "      <th>win_quarter_growth</th>\n",
       "      <th>rev_quarter_growth</th>\n",
       "      <th>margin_growth</th>\n",
       "    </tr>\n",
       "  </thead>\n",
       "  <tbody>\n",
       "    <tr>\n",
       "      <th>1994490</th>\n",
       "      <td>20170510_7203</td>\n",
       "      <td>2017-05-10</td>\n",
       "      <td>7203</td>\n",
       "      <td>0.0</td>\n",
       "      <td>0</td>\n",
       "      <td>6162.0</td>\n",
       "      <td>6171.0</td>\n",
       "      <td>6081.0</td>\n",
       "      <td>6081.0</td>\n",
       "      <td>7823700.0</td>\n",
       "      <td>...</td>\n",
       "      <td>5.0</td>\n",
       "      <td>2017.0</td>\n",
       "      <td>19.0</td>\n",
       "      <td>2.988135</td>\n",
       "      <td>1.831109e+12</td>\n",
       "      <td>2.759719e+13</td>\n",
       "      <td>6.635128</td>\n",
       "      <td>27.807907</td>\n",
       "      <td>36.9267</td>\n",
       "      <td>-6.659616</td>\n",
       "    </tr>\n",
       "    <tr>\n",
       "      <th>1994491</th>\n",
       "      <td>20170511_7203</td>\n",
       "      <td>2017-05-11</td>\n",
       "      <td>7203</td>\n",
       "      <td>0.0</td>\n",
       "      <td>0</td>\n",
       "      <td>6113.0</td>\n",
       "      <td>6124.0</td>\n",
       "      <td>5975.0</td>\n",
       "      <td>6123.0</td>\n",
       "      <td>13511900.0</td>\n",
       "      <td>...</td>\n",
       "      <td>5.0</td>\n",
       "      <td>2017.0</td>\n",
       "      <td>19.0</td>\n",
       "      <td>2.988135</td>\n",
       "      <td>1.831109e+12</td>\n",
       "      <td>2.759719e+13</td>\n",
       "      <td>6.635128</td>\n",
       "      <td>27.807907</td>\n",
       "      <td>36.9267</td>\n",
       "      <td>-6.659616</td>\n",
       "    </tr>\n",
       "  </tbody>\n",
       "</table>\n",
       "<p>2 rows × 57 columns</p>\n",
       "</div>"
      ],
      "text/plain": [
       "                 RowId       Date  SecuritiesCode  ExpectedDividend  \\\n",
       "1994490  20170510_7203 2017-05-10            7203               0.0   \n",
       "1994491  20170511_7203 2017-05-11            7203               0.0   \n",
       "\n",
       "         SupervisionFlag  ad_Open  ad_High  ad_Low  ad_Close   ad_Volume  ...  \\\n",
       "1994490                0   6162.0   6171.0  6081.0    6081.0   7823700.0  ...   \n",
       "1994491                0   6113.0   6124.0  5975.0    6123.0  13511900.0  ...   \n",
       "\n",
       "         Month    Year  week  Volatility_week        Profit      NetSales  \\\n",
       "1994490    5.0  2017.0  19.0         2.988135  1.831109e+12  2.759719e+13   \n",
       "1994491    5.0  2017.0  19.0         2.988135  1.831109e+12  2.759719e+13   \n",
       "\n",
       "           margin  win_quarter_growth  rev_quarter_growth  margin_growth  \n",
       "1994490  6.635128           27.807907             36.9267      -6.659616  \n",
       "1994491  6.635128           27.807907             36.9267      -6.659616  \n",
       "\n",
       "[2 rows x 57 columns]"
      ]
     },
     "execution_count": 3,
     "metadata": {},
     "output_type": "execute_result"
    }
   ],
   "source": [
    "df_train.head(2)"
   ]
  },
  {
   "cell_type": "code",
   "execution_count": 4,
   "metadata": {},
   "outputs": [
    {
     "data": {
      "text/html": [
       "<div>\n",
       "<style scoped>\n",
       "    .dataframe tbody tr th:only-of-type {\n",
       "        vertical-align: middle;\n",
       "    }\n",
       "\n",
       "    .dataframe tbody tr th {\n",
       "        vertical-align: top;\n",
       "    }\n",
       "\n",
       "    .dataframe thead th {\n",
       "        text-align: right;\n",
       "    }\n",
       "</style>\n",
       "<table border=\"1\" class=\"dataframe\">\n",
       "  <thead>\n",
       "    <tr style=\"text-align: right;\">\n",
       "      <th></th>\n",
       "      <th>RowId</th>\n",
       "      <th>Date</th>\n",
       "      <th>SecuritiesCode</th>\n",
       "      <th>ExpectedDividend</th>\n",
       "      <th>SupervisionFlag</th>\n",
       "      <th>ad_Open</th>\n",
       "      <th>ad_High</th>\n",
       "      <th>ad_Low</th>\n",
       "      <th>ad_Close</th>\n",
       "      <th>ad_Volume</th>\n",
       "      <th>...</th>\n",
       "      <th>Month</th>\n",
       "      <th>Year</th>\n",
       "      <th>week</th>\n",
       "      <th>Volatility_week</th>\n",
       "      <th>Profit</th>\n",
       "      <th>NetSales</th>\n",
       "      <th>margin</th>\n",
       "      <th>win_quarter_growth</th>\n",
       "      <th>rev_quarter_growth</th>\n",
       "      <th>margin_growth</th>\n",
       "    </tr>\n",
       "  </thead>\n",
       "  <tbody>\n",
       "    <tr>\n",
       "      <th>1995585</th>\n",
       "      <td>20211102_7203</td>\n",
       "      <td>2021-11-02</td>\n",
       "      <td>7203</td>\n",
       "      <td>0.0</td>\n",
       "      <td>0</td>\n",
       "      <td>10237.5</td>\n",
       "      <td>10295.0</td>\n",
       "      <td>10152.5</td>\n",
       "      <td>10240.0</td>\n",
       "      <td>3533820.0</td>\n",
       "      <td>...</td>\n",
       "      <td>11.0</td>\n",
       "      <td>2021.0</td>\n",
       "      <td>44.0</td>\n",
       "      <td>3.29452</td>\n",
       "      <td>8.978320e+11</td>\n",
       "      <td>7.935558e+12</td>\n",
       "      <td>11.314037</td>\n",
       "      <td>-60.012132</td>\n",
       "      <td>-70.840800</td>\n",
       "      <td>37.136366</td>\n",
       "    </tr>\n",
       "    <tr>\n",
       "      <th>1995586</th>\n",
       "      <td>20211104_7203</td>\n",
       "      <td>2021-11-04</td>\n",
       "      <td>7203</td>\n",
       "      <td>0.0</td>\n",
       "      <td>0</td>\n",
       "      <td>10350.0</td>\n",
       "      <td>10500.0</td>\n",
       "      <td>10137.5</td>\n",
       "      <td>10315.0</td>\n",
       "      <td>7756700.0</td>\n",
       "      <td>...</td>\n",
       "      <td>11.0</td>\n",
       "      <td>2021.0</td>\n",
       "      <td>44.0</td>\n",
       "      <td>3.29452</td>\n",
       "      <td>1.524484e+12</td>\n",
       "      <td>1.548130e+13</td>\n",
       "      <td>9.847262</td>\n",
       "      <td>69.796131</td>\n",
       "      <td>95.087718</td>\n",
       "      <td>-12.964213</td>\n",
       "    </tr>\n",
       "  </tbody>\n",
       "</table>\n",
       "<p>2 rows × 57 columns</p>\n",
       "</div>"
      ],
      "text/plain": [
       "                 RowId       Date  SecuritiesCode  ExpectedDividend  \\\n",
       "1995585  20211102_7203 2021-11-02            7203               0.0   \n",
       "1995586  20211104_7203 2021-11-04            7203               0.0   \n",
       "\n",
       "         SupervisionFlag  ad_Open  ad_High   ad_Low  ad_Close  ad_Volume  ...  \\\n",
       "1995585                0  10237.5  10295.0  10152.5   10240.0  3533820.0  ...   \n",
       "1995586                0  10350.0  10500.0  10137.5   10315.0  7756700.0  ...   \n",
       "\n",
       "         Month    Year  week  Volatility_week        Profit      NetSales  \\\n",
       "1995585   11.0  2021.0  44.0          3.29452  8.978320e+11  7.935558e+12   \n",
       "1995586   11.0  2021.0  44.0          3.29452  1.524484e+12  1.548130e+13   \n",
       "\n",
       "            margin  win_quarter_growth  rev_quarter_growth  margin_growth  \n",
       "1995585  11.314037          -60.012132          -70.840800      37.136366  \n",
       "1995586   9.847262           69.796131           95.087718     -12.964213  \n",
       "\n",
       "[2 rows x 57 columns]"
      ]
     },
     "execution_count": 4,
     "metadata": {},
     "output_type": "execute_result"
    }
   ],
   "source": [
    "df_test.head(2)"
   ]
  },
  {
   "cell_type": "markdown",
   "metadata": {},
   "source": [
    "- transform date"
   ]
  },
  {
   "cell_type": "code",
   "execution_count": 5,
   "metadata": {},
   "outputs": [],
   "source": [
    "def transform_date(df):\n",
    "    date_time = pd.to_datetime(df.pop('Date'), format='%Y-%m.%d')\n",
    "    timestamp_s = date_time.map(pd.Timestamp.timestamp)\n",
    "\n",
    "    day = 24*60*60\n",
    "    week = 7*day\n",
    "    month = 30.4167*day\n",
    "    year = (365.2425)*day\n",
    "\n",
    "    df['Day_sin'] = np.sin(timestamp_s * (2 * np.pi / day))\n",
    "    df['Day_cos'] = np.cos(timestamp_s * (2 * np.pi / day))\n",
    "\n",
    "    df['Month_sin'] = np.sin(timestamp_s * (2 * np.pi / month))\n",
    "    df['Month_cos'] = np.cos(timestamp_s * (2 * np.pi / month))\n",
    "\n",
    "    df['Year_sin'] = np.sin(timestamp_s * (2 * np.pi / year))\n",
    "    df['Year_cos'] = np.cos(timestamp_s * (2 * np.pi / year))"
   ]
  },
  {
   "cell_type": "code",
   "execution_count": 6,
   "metadata": {},
   "outputs": [],
   "source": [
    "transform_date(df_train)\n",
    "transform_date(df_test)"
   ]
  },
  {
   "cell_type": "code",
   "execution_count": 7,
   "metadata": {},
   "outputs": [
    {
     "data": {
      "text/plain": [
       "Text(0.5, 1.0, 'Time of Month signal')"
      ]
     },
     "execution_count": 7,
     "metadata": {},
     "output_type": "execute_result"
    },
    {
     "data": {
      "image/png": "[encoded data removed]",
      "text/plain": [
       "<Figure size 576x432 with 1 Axes>"
      ]
     },
     "metadata": {
      "needs_background": "light"
     },
     "output_type": "display_data"
    }
   ],
   "source": [
    "plt.plot(np.array(df_train['Month_sin'])[:25])\n",
    "plt.plot(np.array(df_train['Month_cos'])[:25])\n",
    "plt.xlabel('Day [d]')\n",
    "plt.title('Time of Month signal')"
   ]
  },
  {
   "cell_type": "code",
   "execution_count": 8,
   "metadata": {},
   "outputs": [
    {
     "data": {
      "text/plain": [
       "Index(['RowId', 'SecuritiesCode', 'ExpectedDividend', 'SupervisionFlag',\n",
       "       'ad_Open', 'ad_High', 'ad_Low', 'ad_Close', 'ad_Volume', 'ad_Target',\n",
       "       'ad_Close_lag1', 'ad_Close_sma10', 'logprice_ad_Close',\n",
       "       'trend_ad_Close', 'detrend_ad_Close', 'season_ad_Close',\n",
       "       'error_ad_Close', 'ad_Open_lag1', 'ad_Open_sma10', 'logprice_ad_Open',\n",
       "       'trend_ad_Open', 'detrend_ad_Open', 'season_ad_Open', 'error_ad_Open',\n",
       "       'ad_High_lag1', 'ad_High_sma10', 'logprice_ad_High', 'trend_ad_High',\n",
       "       'detrend_ad_High', 'season_ad_High', 'error_ad_High', 'ad_Low_lag1',\n",
       "       'ad_Low_sma10', 'logprice_ad_Low', 'trend_ad_Low', 'detrend_ad_Low',\n",
       "       'season_ad_Low', 'error_ad_Low', 'ad_Volume_lag1', 'ad_Volume_sma10',\n",
       "       'RSI', 'Return', 'macd', 'macd_h', 'macd_s', 'Day', 'Month', 'Year',\n",
       "       'week', 'Volatility_week', 'Profit', 'NetSales', 'margin',\n",
       "       'win_quarter_growth', 'rev_quarter_growth', 'margin_growth', 'Day_sin',\n",
       "       'Day_cos', 'Month_sin', 'Month_cos', 'Year_sin', 'Year_cos'],\n",
       "      dtype='object')"
      ]
     },
     "execution_count": 8,
     "metadata": {},
     "output_type": "execute_result"
    }
   ],
   "source": [
    "df_train.columns"
   ]
  },
  {
   "cell_type": "code",
   "execution_count": null,
   "metadata": {},
   "outputs": [],
   "source": []
  },
  {
   "cell_type": "markdown",
   "metadata": {},
   "source": [
    "# Preparation for modelling"
   ]
  },
  {
   "cell_type": "markdown",
   "metadata": {},
   "source": [
    "## - Train Test Split\n"
   ]
  },
  {
   "cell_type": "code",
   "execution_count": 9,
   "metadata": {},
   "outputs": [
    {
     "name": "stdout",
     "output_type": "stream",
     "text": [
      "(1073, 62)\n",
      "(22, 62)\n",
      "(22, 62)\n"
     ]
    }
   ],
   "source": [
    "def split_train_val(df, split=22):\n",
    "    l_train = len(df)\n",
    "    df_train =  df[:l_train - split]\n",
    "    df_val = df[l_train - split : ]\n",
    "    return df_train, df_val\n",
    "\n",
    "df_train, df_val = split_train_val(df_train)\n",
    "\n",
    "print(df_train.shape)\n",
    "print(df_val.shape)\n",
    "print(df_test.shape)"
   ]
  },
  {
   "cell_type": "code",
   "execution_count": 10,
   "metadata": {},
   "outputs": [
    {
     "data": {
      "text/html": [
       "<div>\n",
       "<style scoped>\n",
       "    .dataframe tbody tr th:only-of-type {\n",
       "        vertical-align: middle;\n",
       "    }\n",
       "\n",
       "    .dataframe tbody tr th {\n",
       "        vertical-align: top;\n",
       "    }\n",
       "\n",
       "    .dataframe thead th {\n",
       "        text-align: right;\n",
       "    }\n",
       "</style>\n",
       "<table border=\"1\" class=\"dataframe\">\n",
       "  <thead>\n",
       "    <tr style=\"text-align: right;\">\n",
       "      <th></th>\n",
       "      <th>N_missing</th>\n",
       "      <th>Percentage</th>\n",
       "    </tr>\n",
       "  </thead>\n",
       "  <tbody>\n",
       "  </tbody>\n",
       "</table>\n",
       "</div>"
      ],
      "text/plain": [
       "Empty DataFrame\n",
       "Columns: [N_missing, Percentage]\n",
       "Index: []"
      ]
     },
     "metadata": {},
     "output_type": "display_data"
    }
   ],
   "source": [
    "missingValues(df_train)"
   ]
  },
  {
   "cell_type": "code",
   "execution_count": 11,
   "metadata": {},
   "outputs": [
    {
     "data": {
      "text/html": [
       "<div>\n",
       "<style scoped>\n",
       "    .dataframe tbody tr th:only-of-type {\n",
       "        vertical-align: middle;\n",
       "    }\n",
       "\n",
       "    .dataframe tbody tr th {\n",
       "        vertical-align: top;\n",
       "    }\n",
       "\n",
       "    .dataframe thead th {\n",
       "        text-align: right;\n",
       "    }\n",
       "</style>\n",
       "<table border=\"1\" class=\"dataframe\">\n",
       "  <thead>\n",
       "    <tr style=\"text-align: right;\">\n",
       "      <th></th>\n",
       "      <th>N_missing</th>\n",
       "      <th>Percentage</th>\n",
       "    </tr>\n",
       "  </thead>\n",
       "  <tbody>\n",
       "  </tbody>\n",
       "</table>\n",
       "</div>"
      ],
      "text/plain": [
       "Empty DataFrame\n",
       "Columns: [N_missing, Percentage]\n",
       "Index: []"
      ]
     },
     "metadata": {},
     "output_type": "display_data"
    }
   ],
   "source": [
    "missingValues(df_val)"
   ]
  },
  {
   "cell_type": "code",
   "execution_count": 12,
   "metadata": {},
   "outputs": [
    {
     "data": {
      "text/html": [
       "<div>\n",
       "<style scoped>\n",
       "    .dataframe tbody tr th:only-of-type {\n",
       "        vertical-align: middle;\n",
       "    }\n",
       "\n",
       "    .dataframe tbody tr th {\n",
       "        vertical-align: top;\n",
       "    }\n",
       "\n",
       "    .dataframe thead th {\n",
       "        text-align: right;\n",
       "    }\n",
       "</style>\n",
       "<table border=\"1\" class=\"dataframe\">\n",
       "  <thead>\n",
       "    <tr style=\"text-align: right;\">\n",
       "      <th></th>\n",
       "      <th>N_missing</th>\n",
       "      <th>Percentage</th>\n",
       "    </tr>\n",
       "  </thead>\n",
       "  <tbody>\n",
       "  </tbody>\n",
       "</table>\n",
       "</div>"
      ],
      "text/plain": [
       "Empty DataFrame\n",
       "Columns: [N_missing, Percentage]\n",
       "Index: []"
      ]
     },
     "metadata": {},
     "output_type": "display_data"
    }
   ],
   "source": [
    "missingValues(df_test)"
   ]
  },
  {
   "cell_type": "markdown",
   "metadata": {},
   "source": [
    "## - Scaling"
   ]
  },
  {
   "cell_type": "code",
   "execution_count": 43,
   "metadata": {},
   "outputs": [
    {
     "data": {
      "text/plain": [
       "60"
      ]
     },
     "execution_count": 43,
     "metadata": {},
     "output_type": "execute_result"
    }
   ],
   "source": [
    "feat_not_to_scale = ['RowId', 'SecuritiesCode']\n",
    "feat_to_scale = [col for col in df_train.columns if col not in feat_not_to_scale]\n",
    "len(feat_to_scale)"
   ]
  },
  {
   "cell_type": "code",
   "execution_count": 50,
   "metadata": {},
   "outputs": [],
   "source": [
    "def scaling_df(df, feat_to_scale):\n",
    "    \"\"\"    for col in df.columns:\n",
    "        mean_df = df[col].mean()\n",
    "        std_df = df[col].std()\n",
    "        df[col] = (df[col] - mean_df) / std_df\"\"\"\n",
    "\n",
    "    scaler = StandardScaler()\n",
    "    df_scaled = scaler.fit_transform(df[feat_to_scale])\n",
    "    \n",
    "    df_scaled = pd.DataFrame(df_scaled)\n",
    "    df_scaled.columns = feat_to_scale\n",
    "    return df_scaled\n",
    "        \n"
   ]
  },
  {
   "cell_type": "code",
   "execution_count": 53,
   "metadata": {},
   "outputs": [],
   "source": [
    "df_train_scaled = scaling_df(df_train, feat_to_scale)\n",
    "df_val_scaled = scaling_df(df_val, feat_to_scale)\n",
    "df_test_scaled = scaling_df(df_test, feat_to_scale)"
   ]
  },
  {
   "cell_type": "code",
   "execution_count": 54,
   "metadata": {},
   "outputs": [
    {
     "name": "stdout",
     "output_type": "stream",
     "text": [
      "(1073, 60)\n",
      "(22, 60)\n",
      "(22, 60)\n"
     ]
    }
   ],
   "source": [
    "print(df_train_scaled.shape)\n",
    "print(df_val_scaled.shape)\n",
    "print(df_test_scaled.shape)\n"
   ]
  },
  {
   "cell_type": "code",
   "execution_count": null,
   "metadata": {},
   "outputs": [],
   "source": []
  },
  {
   "cell_type": "markdown",
   "metadata": {},
   "source": [
    "## - Window"
   ]
  },
  {
   "cell_type": "markdown",
   "metadata": {},
   "source": [
    "### - create window"
   ]
  },
  {
   "cell_type": "code",
   "execution_count": 65,
   "metadata": {},
   "outputs": [
    {
     "data": {
      "text/plain": [
       "array([22])"
      ]
     },
     "execution_count": 65,
     "metadata": {},
     "output_type": "execute_result"
    }
   ],
   "source": [
    "input_width=22\n",
    "label_width=1\n",
    "shift=1\n",
    "label_columns=['ad_Close']\n",
    "\n",
    "column_indices = {name: i for i, name in\n",
    "                           enumerate(df_train_scaled.columns)}\n",
    "\n",
    "total_window_size = input_width + shift\n",
    "input_slice = slice(0, input_width) #slice(start, stop, step)\n",
    "\n",
    "input_indices = np.arange(total_window_size)[input_slice]\n",
    "\n",
    "label_start = total_window_size - label_width\n",
    "labels_slice = slice(label_start, None)\n",
    "label_indices = np.arange(total_window_size)[labels_slice]\n",
    "\n",
    "label_indices"
   ]
  },
  {
   "cell_type": "markdown",
   "metadata": {},
   "source": [
    "### - split window"
   ]
  },
  {
   "cell_type": "code",
   "execution_count": 82,
   "metadata": {},
   "outputs": [],
   "source": [
    "def split_window(self, features):\n",
    "  input_width=22\n",
    "  label_width=1\n",
    "  shift=1\n",
    "  label_columns=['ad_Close']\n",
    "  input_slice = slice(0, input_width) #slice(start, stop, step)\n",
    "\n",
    "  column_indices = {name: i for i, name in\n",
    "                           enumerate(df_train_scaled.columns)}\n",
    "\n",
    "                           \n",
    "  inputs = features[:, input_slice, :]\n",
    "  labels = features[:, labels_slice, :]\n",
    "  if label_columns is not None:\n",
    "    labels = tf.stack(\n",
    "        [labels[:, :, column_indices[name]] for name in label_columns],\n",
    "        axis=-1)\n",
    "\n",
    "  # Slicing doesn't preserve static shape information, so set the shapes\n",
    "  # manually. This way the `tf.data.Datasets` are easier to inspect.\n",
    "  inputs.set_shape([None, self.input_width, None])\n",
    "  labels.set_shape([None, self.label_width, None])\n",
    "\n",
    "  return inputs, labels"
   ]
  },
  {
   "cell_type": "code",
   "execution_count": 98,
   "metadata": {},
   "outputs": [
    {
     "data": {
      "text/plain": [
       "tensorflow.python.data.ops.dataset_ops.BatchDataset"
      ]
     },
     "execution_count": 98,
     "metadata": {},
     "output_type": "execute_result"
    }
   ],
   "source": [
    "data = np.array(df_train_scaled, dtype=np.float32)\n",
    "targets = np.array(df_val_scaled, dtype=np.float32)\n",
    "ds = tf.keras.preprocessing.timeseries_dataset_from_array(\n",
    "    data, targets, sequence_length=total_window_size, \n",
    "    sequence_stride=1,\n",
    "      shuffle=True,\n",
    "      batch_size=32,)\n",
    "\n",
    "#ds = ds.map(split_window)\n",
    "type(ds)"
   ]
  },
  {
   "cell_type": "code",
   "execution_count": 99,
   "metadata": {},
   "outputs": [
    {
     "name": "stdout",
     "output_type": "stream",
     "text": [
      "(<tf.Tensor: shape=(22, 23, 60), dtype=float32, numpy=\n",
      "array([[[-0.09163757,  0.        , -1.2304583 , ..., -0.7183358 ,\n",
      "          1.1482608 , -0.77397466],\n",
      "        [-0.09163757,  0.        , -1.2548829 , ..., -0.44987768,\n",
      "          1.1327273 , -0.79276174],\n",
      "        [-0.09163757,  0.        , -1.3610767 , ...,  0.41687155,\n",
      "          1.0841949 , -0.84750175],\n",
      "        ...,\n",
      "        [-0.09163757,  0.        , -1.4640847 , ..., -1.2245601 ,\n",
      "          0.60760385, -1.1830976 ],\n",
      "        [-0.09163757,  0.        , -1.5628451 , ..., -1.0451461 ,\n",
      "          0.58502084, -1.1926435 ],\n",
      "        [-0.09163757,  0.        , -1.5320488 , ..., -0.2840168 ,\n",
      "          0.51632065, -1.218961  ]],\n",
      "\n",
      "       [[-0.09163757,  0.        , -1.4640847 , ..., -1.2245601 ,\n",
      "          0.60760385, -1.1830976 ],\n",
      "        [-0.09163757,  0.        , -1.5628451 , ..., -1.0451461 ,\n",
      "          0.58502084, -1.1926435 ],\n",
      "        [-0.09163757,  0.        , -1.5320488 , ..., -0.2840168 ,\n",
      "          0.51632065, -1.218961  ],\n",
      "        ...,\n",
      "        [-0.09163757,  0.        , -1.1858568 , ..., -1.4360428 ,\n",
      "         -0.06354059, -1.2984252 ],\n",
      "        [-0.09163757,  0.        , -1.2548829 , ..., -1.3894652 ,\n",
      "         -0.08803403, -1.2965575 ],\n",
      "        [-0.09163757,  0.        , -1.1062114 , ..., -0.91973674,\n",
      "         -0.16126843, -1.2884637 ]],\n",
      "\n",
      "       [[-0.09163757,  0.        , -1.3855014 , ...,  0.9679177 ,\n",
      "          0.903008  , -1.0108262 ],\n",
      "        [-0.09163757,  0.        , -1.3663864 , ...,  0.7368196 ,\n",
      "          0.8833833 , -1.0254138 ],\n",
      "        [-0.09163757,  0.        , -1.408864  , ..., -0.10315111,\n",
      "          0.823025  , -1.067147  ],\n",
      "        ...,\n",
      "        [-0.09163757,  0.        , -1.5246153 , ...,  1.338248  ,\n",
      "          0.2791002 , -1.2808447 ],\n",
      "        [-0.09163757,  0.        , -1.4810758 , ...,  1.2216384 ,\n",
      "          0.25486243, -1.2847979 ],\n",
      "        [-0.09163757,  0.        , -1.5097481 , ...,  0.5865268 ,\n",
      "          0.18178603, -1.2941806 ]],\n",
      "\n",
      "       ...,\n",
      "\n",
      "       [[-0.09163757,  0.        , -1.3982446 , ...,  1.2723143 ,\n",
      "          1.0151591 , -0.9165065 ],\n",
      "        [-0.09163757,  0.        , -1.3663864 , ...,  1.3798748 ,\n",
      "          0.9603166 , -0.9650951 ],\n",
      "        [-0.09163757,  0.        , -1.372758  , ...,  1.2964294 ,\n",
      "          0.94148034, -0.98066247],\n",
      "        ...,\n",
      "        [-0.09163757,  0.        , -1.5320488 , ...,  0.8286731 ,\n",
      "          0.42275548, -1.2485441 ],\n",
      "        [-0.09163757,  0.        , -1.5787742 , ...,  1.3348463 ,\n",
      "          0.35135013, -1.2665243 ],\n",
      "        [-0.09163757,  0.        , -1.5203675 , ...,  1.3960816 ,\n",
      "          0.32735118, -1.2717066 ]],\n",
      "\n",
      "       [[-0.09163757,  0.        , -1.1784233 , ..., -0.95697445,\n",
      "          1.1634647 , -0.7549266 ],\n",
      "        [-0.09163757,  0.        , -1.2304583 , ..., -0.7183358 ,\n",
      "          1.1482608 , -0.77397466],\n",
      "        [-0.09163757,  0.        , -1.2548829 , ..., -0.44987768,\n",
      "          1.1327273 , -0.79276174],\n",
      "        ...,\n",
      "        [-0.09163757,  0.        , -1.4566512 , ..., -1.3526303 ,\n",
      "          0.6300172 , -1.1731697 ],\n",
      "        [-0.09163757,  0.        , -1.4640847 , ..., -1.2245601 ,\n",
      "          0.60760385, -1.1830976 ],\n",
      "        [-0.09163757,  0.        , -1.5628451 , ..., -1.0451461 ,\n",
      "          0.58502084, -1.1926435 ]],\n",
      "\n",
      "       [[-0.09163757,  0.        , -1.3366522 , ..., -1.1186899 ,\n",
      "          0.7393083 , -1.1179059 ],\n",
      "        [-0.09163757,  0.        , -1.3493954 , ..., -1.435371  ,\n",
      "          0.67430836, -1.1521795 ],\n",
      "        [-0.09163757,  0.        , -1.3886871 , ..., -1.4239107 ,\n",
      "          0.6522542 , -1.1628627 ],\n",
      "        ...,\n",
      "        [-0.09163757,  0.        , -1.460899  , ..., -0.5543475 ,\n",
      "          0.08377326, -1.3008801 ],\n",
      "        [-0.09163757,  0.        , -1.4640847 , ..., -1.218639  ,\n",
      "          0.01008424, -1.3015292 ],\n",
      "        [-0.09163757,  0.        , -1.3185992 , ..., -1.3487744 ,\n",
      "         -0.01447419, -1.3009113 ]]], dtype=float32)>, <tf.Tensor: shape=(22, 60), dtype=float32, numpy=\n",
      "array([[ 0.        ,  0.        ,  0.2566863 , ..., -1.4034041 ,\n",
      "        -1.0877177 , -1.4222375 ],\n",
      "       [ 0.        ,  0.        ,  1.0448856 , ..., -1.2336705 ,\n",
      "         2.2375386 ,  1.690062  ],\n",
      "       [ 0.        ,  0.        ,  1.0049767 , ...,  1.3838378 ,\n",
      "        -0.10598799,  0.18955007],\n",
      "       ...,\n",
      "       [ 0.        ,  0.        ,  0.3664356 , ...,  0.13303788,\n",
      "        -0.6986437 , -0.49292696],\n",
      "       [ 0.        ,  0.        ,  0.0870738 , ..., -1.1438755 ,\n",
      "        -1.1139346 , -1.7732202 ],\n",
      "       [ 0.        ,  0.        , -0.03265268, ...,  0.24169621,\n",
      "         1.0733666 ,  1.066375  ]], dtype=float32)>)\n",
      "1\n"
     ]
    }
   ],
   "source": [
    "counter = 0 \n",
    "for batch in ds:\n",
    "  counter = counter +1\n",
    "  print (batch)\n",
    "  #print(batch)\n",
    "  print(len(inputs))\n",
    "  inputs, targets = batch\n",
    "  #print(len(inputs))\n",
    "  #assert np.array_equal(inputs[0], data[:10])  # First sequence: steps [0-9]\n",
    "\n"
   ]
  },
  {
   "cell_type": "code",
   "execution_count": null,
   "metadata": {},
   "outputs": [],
   "source": [
    "class WindowGenerator():\n",
    "  def __init__(self, input_width, label_width, shift,\n",
    "               train_df=train_scaled, val_df=val_scaled, test_df=test_scaled,\n",
    "               label_columns=None):\n",
    "    # Store the raw data.\n",
    "    self.train_df = train_df\n",
    "    self.val_df = val_df\n",
    "    self.test_df = test_df\n",
    "\n",
    "    # Work out the label column indices.\n",
    "    self.label_columns = label_columns\n",
    "    if label_columns is not None:\n",
    "      self.label_columns_indices = {name: i for i, name in\n",
    "                                    enumerate(label_columns)}\n",
    "    self.column_indices = {name: i for i, name in\n",
    "                           enumerate(train_df.columns)}\n",
    "\n",
    "    # Work out the window parameters.\n",
    "    self.input_width = input_width\n",
    "    self.label_width = label_width\n",
    "    self.shift = shift\n",
    "\n",
    "    self.total_window_size = input_width + shift\n",
    "\n",
    "    #self.example = \n",
    "\n",
    "    self.input_slice = slice(0, input_width)\n",
    "    self.input_indices = np.arange(self.total_window_size)[self.input_slice]\n",
    "\n",
    "    self.label_start = self.total_window_size - self.label_width\n",
    "    self.labels_slice = slice(self.label_start, None)\n",
    "    self.label_indices = np.arange(self.total_window_size)[self.labels_slice]\n",
    "\n",
    "  def __repr__(self):\n",
    "    return '\\n'.join([\n",
    "        f'Total window size: {self.total_window_size}',\n",
    "        f'Input indices: {self.input_indices}',\n",
    "        f'Label indices: {self.label_indices}',\n",
    "        f'Label column name(s): {self.label_columns}'])"
   ]
  },
  {
   "cell_type": "code",
   "execution_count": null,
   "metadata": {},
   "outputs": [],
   "source": [
    "train_scaled.shape"
   ]
  },
  {
   "cell_type": "code",
   "execution_count": null,
   "metadata": {},
   "outputs": [],
   "source": [
    "w1 = WindowGenerator(input_width=22, label_width=1, shift=1,\n",
    "                     label_columns=['ad_Close'])\n",
    "w1"
   ]
  },
  {
   "cell_type": "code",
   "execution_count": null,
   "metadata": {},
   "outputs": [],
   "source": [
    "def split_window(self, features):\n",
    "  inputs = features[:, self.input_slice, :]\n",
    "  labels = features[:, self.labels_slice, :]\n",
    "  if self.label_columns is not None:\n",
    "    labels = tf.stack(\n",
    "        [labels[:, :, self.column_indices[name]] for name in self.label_columns],\n",
    "        axis=-1)\n",
    "\n",
    "  # Slicing doesn't preserve static shape information, so set the shapes\n",
    "  # manually. This way the `tf.data.Datasets` are easier to inspect.\n",
    "  inputs.set_shape([None, self.input_width, None])\n",
    "  labels.set_shape([None, self.label_width, None])\n",
    "\n",
    "  return inputs, labels\n",
    "\n",
    "WindowGenerator.split_window = split_window"
   ]
  },
  {
   "cell_type": "code",
   "execution_count": null,
   "metadata": {},
   "outputs": [],
   "source": [
    "example_window = tf.stack([np.array(train_scaled[:w1.total_window_size]),\n",
    "                           np.array(train_scaled[100:100+w1.total_window_size]),\n",
    "                           np.array(train_scaled[200:200+w1.total_window_size])])\n",
    "\n",
    "example_inputs, example_labels = w1.split_window(example_window)\n",
    "\n",
    "print('All shapes are: (batch, time, features)')\n",
    "print(f'Window shape: {example_window.shape}')\n",
    "print(f'Inputs shape: {example_inputs.shape}')\n",
    "print(f'Labels shape: {example_labels.shape}')"
   ]
  },
  {
   "cell_type": "code",
   "execution_count": null,
   "metadata": {},
   "outputs": [],
   "source": [
    "type(example_inputs)"
   ]
  },
  {
   "cell_type": "code",
   "execution_count": null,
   "metadata": {},
   "outputs": [],
   "source": [
    "example_labels"
   ]
  },
  {
   "cell_type": "code",
   "execution_count": null,
   "metadata": {},
   "outputs": [],
   "source": [
    "w1.example = example_inputs, example_labels"
   ]
  },
  {
   "cell_type": "code",
   "execution_count": null,
   "metadata": {},
   "outputs": [],
   "source": [
    "def plot(self, model=None, plot_col='ad_Close', max_subplots=3):\n",
    "  inputs, labels = self.example\n",
    "  plt.figure(figsize=(12, 8))\n",
    "  plot_col_index = self.column_indices[plot_col]\n",
    "  max_n = min(max_subplots, len(inputs))\n",
    "  for n in range(max_n):\n",
    "    plt.subplot(max_n, 1, n+1)\n",
    "    plt.ylabel(f'{plot_col} [normed]')\n",
    "    plt.plot(self.input_indices, inputs[n, :, plot_col_index],\n",
    "             label='Inputs', marker='.', zorder=-10)\n",
    "\n",
    "    if self.label_columns:\n",
    "      label_col_index = self.label_columns_indices.get(plot_col, None)\n",
    "    else:\n",
    "      label_col_index = plot_col_index\n",
    "\n",
    "    if label_col_index is None:\n",
    "      continue\n",
    "\n",
    "    plt.scatter(self.label_indices, labels[n, :, label_col_index],\n",
    "                edgecolors='k', label='Labels', c='#2ca02c', s=64)\n",
    "    if model is not None:\n",
    "      predictions = model(inputs)\n",
    "      plt.scatter(self.label_indices, predictions[n, :, label_col_index],\n",
    "                  marker='X', edgecolors='k', label='Predictions',\n",
    "                  c='#ff7f0e', s=64)\n",
    "\n",
    "    if n == 0:\n",
    "      plt.legend()\n",
    "\n",
    "  plt.xlabel('Time [h]')\n",
    "\n",
    "WindowGenerator.plot = plot"
   ]
  },
  {
   "cell_type": "code",
   "execution_count": null,
   "metadata": {},
   "outputs": [],
   "source": [
    "w1.plot()"
   ]
  },
  {
   "cell_type": "code",
   "execution_count": null,
   "metadata": {},
   "outputs": [],
   "source": [
    "w1.plot(plot_col='ad_Target')"
   ]
  },
  {
   "cell_type": "markdown",
   "metadata": {},
   "source": [
    "- ## create dataset"
   ]
  },
  {
   "cell_type": "code",
   "execution_count": null,
   "metadata": {},
   "outputs": [],
   "source": [
    "def make_dataset(self, data):\n",
    "  data = np.array(data, dtype=np.float32)\n",
    "  ds = tf.keras.utils.timeseries_dataset_from_array(\n",
    "      data=data,\n",
    "      targets=None,\n",
    "      sequence_length=self.total_window_size,\n",
    "      sequence_stride=1,\n",
    "      shuffle=True,\n",
    "      batch_size=32,)\n",
    "\n",
    "  ds = ds.map(self.split_window)\n",
    "\n",
    "  return ds\n",
    "\n",
    "WindowGenerator.make_dataset = make_dataset"
   ]
  },
  {
   "cell_type": "markdown",
   "metadata": {},
   "source": [
    "## - train , val , test"
   ]
  },
  {
   "cell_type": "code",
   "execution_count": null,
   "metadata": {},
   "outputs": [],
   "source": [
    "@property\n",
    "def train(self):\n",
    "  return self.make_dataset(self.train_df)\n",
    "\n",
    "@property\n",
    "def val(self):\n",
    "  return self.make_dataset(self.val_df)\n",
    "\n",
    "@property\n",
    "def test(self):\n",
    "  return self.make_dataset(self.test_df)\n",
    "\n",
    "@property\n",
    "def example(self):\n",
    "  \"\"\"Get and cache an example batch of `inputs, labels` for plotting.\"\"\"\n",
    "  result = getattr(self, '_example', None)\n",
    "  if result is None:\n",
    "    # No example batch was found, so get one from the `.train` dataset\n",
    "    result = next(iter(self.train))\n",
    "    # And cache it for next time\n",
    "    self._example = result\n",
    "  return result\n",
    "\n",
    "WindowGenerator.train = train\n",
    "WindowGenerator.val = val\n",
    "WindowGenerator.test = test\n",
    "WindowGenerator.example = example"
   ]
  },
  {
   "cell_type": "code",
   "execution_count": null,
   "metadata": {},
   "outputs": [],
   "source": [
    "# Each element is an (inputs, label) pair.\n",
    "w1.train.element_spec"
   ]
  },
  {
   "cell_type": "code",
   "execution_count": null,
   "metadata": {},
   "outputs": [],
   "source": [
    "for example_inputs, example_labels in w1.train.take(1):\n",
    "  print(f'Inputs shape (batch, time, features): {example_inputs.shape}')\n",
    "  print(f'Labels shape (batch, time, features): {example_labels.shape}')"
   ]
  },
  {
   "cell_type": "markdown",
   "metadata": {},
   "source": [
    "## - single step models:\n",
    "predict a single features value 1 time step into future"
   ]
  },
  {
   "cell_type": "code",
   "execution_count": null,
   "metadata": {},
   "outputs": [],
   "source": [
    "single_step_window = WindowGenerator(\n",
    "    input_width=1, label_width=1, shift=1,\n",
    "    label_columns=['ad_Close'])\n",
    "single_step_window"
   ]
  },
  {
   "cell_type": "code",
   "execution_count": null,
   "metadata": {},
   "outputs": [],
   "source": [
    "for example_inputs, example_labels in single_step_window.train.take(1):\n",
    "  print(f'Inputs shape (batch, time, features): {example_inputs.shape}')\n",
    "  print(f'Labels shape (batch, time, features): {example_labels.shape}')"
   ]
  },
  {
   "cell_type": "markdown",
   "metadata": {},
   "source": [
    "- Baseline"
   ]
  },
  {
   "cell_type": "code",
   "execution_count": null,
   "metadata": {},
   "outputs": [],
   "source": [
    "class Baseline(tf.keras.Model):\n",
    "  def __init__(self, label_index=None):\n",
    "    super().__init__()\n",
    "    self.label_index = label_index\n",
    "\n",
    "  def call(self, inputs):\n",
    "    if self.label_index is None:\n",
    "      return inputs\n",
    "    result = inputs[:, :, self.label_index]\n",
    "    return result[:, :, tf.newaxis]"
   ]
  },
  {
   "cell_type": "code",
   "execution_count": null,
   "metadata": {},
   "outputs": [],
   "source": [
    "baseline = Baseline(label_index=w1.column_indices['ad_Close'])\n",
    "\n",
    "baseline.compile(loss=tf.losses.MeanSquaredError(),\n",
    "                 metrics=[tf.metrics.MeanAbsoluteError()])\n",
    "\n",
    "val_performance = {}\n",
    "performance = {}\n",
    "val_performance['Baseline'] = baseline.evaluate(single_step_window.val)\n",
    "performance['Baseline'] = baseline.evaluate(single_step_window.test, verbose=0)\n",
    "#val_performance['Baseline'] = baseline.evaluate(w1.val_df)\n",
    "#performance['Baseline'] = baseline.evaluate(w1.test_df, verbose=0)"
   ]
  },
  {
   "cell_type": "code",
   "execution_count": null,
   "metadata": {},
   "outputs": [],
   "source": [
    "single_step_window.plot(baseline)"
   ]
  },
  {
   "cell_type": "code",
   "execution_count": null,
   "metadata": {},
   "outputs": [],
   "source": [
    "wide_window = WindowGenerator(\n",
    "    input_width=22, label_width=22, shift=1,\n",
    "    label_columns=['ad_Close'])\n",
    "\n",
    "wide_window"
   ]
  },
  {
   "cell_type": "code",
   "execution_count": null,
   "metadata": {},
   "outputs": [],
   "source": [
    "for example_inputs, example_labels in wide_window.train.take(1):\n",
    "  print(f'Inputs shape (batch, time, features): {example_inputs.shape}')\n",
    "  print(f'Labels shape (batch, time, features): {example_labels.shape}')"
   ]
  },
  {
   "cell_type": "code",
   "execution_count": null,
   "metadata": {},
   "outputs": [],
   "source": [
    "print('Input shape:', wide_window.example[0].shape)\n",
    "print('Output shape:', baseline(wide_window.example[0]).shape)"
   ]
  },
  {
   "cell_type": "code",
   "execution_count": null,
   "metadata": {},
   "outputs": [],
   "source": [
    "wide_window.plot(baseline)"
   ]
  },
  {
   "cell_type": "markdown",
   "metadata": {},
   "source": [
    "## - linear"
   ]
  },
  {
   "cell_type": "code",
   "execution_count": null,
   "metadata": {},
   "outputs": [],
   "source": [
    "linear = tf.keras.Sequential([\n",
    "    tf.keras.layers.Dense(units=1)\n",
    "])"
   ]
  },
  {
   "cell_type": "code",
   "execution_count": null,
   "metadata": {},
   "outputs": [],
   "source": [
    "MAX_EPOCHS = 20\n",
    "\n",
    "def compile_and_fit(model, window, patience=2):\n",
    "  early_stopping = tf.keras.callbacks.EarlyStopping(monitor='val_loss',\n",
    "                                                    patience=patience,\n",
    "                                                    mode='min')\n",
    "\n",
    "  model.compile(loss=tf.losses.MeanSquaredError(),\n",
    "                optimizer=tf.optimizers.Adam(),\n",
    "                metrics=[tf.metrics.MeanAbsoluteError()])\n",
    "\n",
    "  history = model.fit(window.train, epochs=MAX_EPOCHS,\n",
    "                      validation_data=window.val,\n",
    "                      callbacks=[early_stopping])\n",
    "  return history"
   ]
  },
  {
   "cell_type": "code",
   "execution_count": null,
   "metadata": {},
   "outputs": [],
   "source": [
    "history = compile_and_fit(linear, wide_window)\n",
    "\n",
    "#val_performance['Linear'] = linear.evaluate(wide_window.val)\n",
    "performance['Linear'] = linear.evaluate(wide_window.test, verbose=0)"
   ]
  },
  {
   "cell_type": "code",
   "execution_count": null,
   "metadata": {},
   "outputs": [],
   "source": [
    "wide_window.plot(linear)"
   ]
  },
  {
   "cell_type": "code",
   "execution_count": null,
   "metadata": {},
   "outputs": [],
   "source": [
    "plt.bar(x = range(len(train_scaled.columns)),\n",
    "        height=linear.layers[0].kernel[:,0].numpy())\n",
    "axis = plt.gca()\n",
    "axis.set_xticks(range(len(train_scaled.columns)))\n",
    "_ = axis.set_xticklabels(train_scaled.columns, rotation=90)"
   ]
  },
  {
   "cell_type": "code",
   "execution_count": null,
   "metadata": {},
   "outputs": [],
   "source": [
    "\n",
    "#val_performance['Linear'] = linear.evaluate(wide_window.val)\n",
    "performance['Linear'] = linear.evaluate(wide_window.test, verbose=0)"
   ]
  },
  {
   "cell_type": "code",
   "execution_count": null,
   "metadata": {},
   "outputs": [],
   "source": [
    "performance"
   ]
  },
  {
   "cell_type": "code",
   "execution_count": null,
   "metadata": {},
   "outputs": [],
   "source": [
    "x = np.arange(len(performance))\n",
    "width = 0.3\n",
    "metric_name = 'mean_absolute_error'\n",
    "metric_index = linear.metrics_names.index('mean_absolute_error')\n",
    "val_mae = [v[metric_index] for v in val_performance.values()]\n",
    "test_mae = [v[metric_index] for v in performance.values()]\n",
    "\n",
    "plt.ylabel('mean_absolute_error [T (degC), normalized]')\n",
    "plt.bar(x - 0.17, val_mae, width, label='Validation')\n",
    "plt.bar(x + 0.17, test_mae, width, label='Test')\n",
    "plt.xticks(ticks=x, labels=performance.keys(),\n",
    "           rotation=45)\n",
    "_ = plt.legend()"
   ]
  }
 ],
 "metadata": {
  "interpreter": {
   "hash": "8e59dc4903522b6bd625aac9b906fbe96a3134871878cc11f65b8580a1e47af4"
  },
  "kernelspec": {
   "display_name": "Python 3.9.4 ('.venv': venv)",
   "language": "python",
   "name": "python3"
  },
  "language_info": {
   "codemirror_mode": {
    "name": "ipython",
    "version": 3
   },
   "file_extension": ".py",
   "mimetype": "text/x-python",
   "name": "python",
   "nbconvert_exporter": "python",
   "pygments_lexer": "ipython3",
   "version": "3.9.4"
  },
  "orig_nbformat": 4
 },
 "nbformat": 4,
 "nbformat_minor": 2
}
