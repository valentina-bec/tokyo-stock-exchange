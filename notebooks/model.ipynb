{
 "cells": [
  {
   "cell_type": "code",
   "execution_count": 88,
   "metadata": {},
   "outputs": [],
   "source": [
    "import os\n",
    "import datetime\n",
    "\n",
    "import sys\n",
    "\n",
    "sys.path.append(\"..\")\n",
    "\n",
    "import IPython\n",
    "import IPython.display\n",
    "import matplotlib as mpl\n",
    "import matplotlib.pyplot as plt\n",
    "import numpy as np\n",
    "import pandas as pd\n",
    "import seaborn as sns\n",
    "import tensorflow as tf\n",
    "from tqdm import tqdm\n",
    "\n",
    "from sklearn.preprocessing import StandardScaler\n",
    "from functions import df_security_code, missingValues\n",
    "\n",
    "from sklearn.metrics import mean_squared_error\n",
    "\n",
    "\n",
    "mpl.rcParams['figure.figsize'] = (8, 6)\n",
    "mpl.rcParams['axes.grid'] = False"
   ]
  },
  {
   "cell_type": "markdown",
   "metadata": {},
   "source": [
    "# Data"
   ]
  },
  {
   "cell_type": "code",
   "execution_count": 2,
   "metadata": {},
   "outputs": [],
   "source": [
    "# TODO axis o is time dimension"
   ]
  },
  {
   "cell_type": "markdown",
   "metadata": {},
   "source": []
  },
  {
   "cell_type": "code",
   "execution_count": 3,
   "metadata": {},
   "outputs": [],
   "source": [
    "data_train = pd.read_csv('../data/curr_train_data.csv', parse_dates=['Date'],  index_col=[0])\n",
    "data_test = pd.read_csv('../data/curr_test_data.csv', parse_dates=['Date'],  index_col=[0])\n",
    "df_train = df_security_code(data_train, 7616)\n",
    "df_test = df_security_code(data_test, 7616)\n",
    "del data_train, data_test"
   ]
  },
  {
   "cell_type": "code",
   "execution_count": 4,
   "metadata": {},
   "outputs": [],
   "source": [
    "#data_test.query('Date == \"2021-11-02\"').SecuritiesCode.nunique()"
   ]
  },
  {
   "cell_type": "code",
   "execution_count": 5,
   "metadata": {},
   "outputs": [
    {
     "data": {
      "text/html": [
       "<div>\n",
       "<style scoped>\n",
       "    .dataframe tbody tr th:only-of-type {\n",
       "        vertical-align: middle;\n",
       "    }\n",
       "\n",
       "    .dataframe tbody tr th {\n",
       "        vertical-align: top;\n",
       "    }\n",
       "\n",
       "    .dataframe thead th {\n",
       "        text-align: right;\n",
       "    }\n",
       "</style>\n",
       "<table border=\"1\" class=\"dataframe\">\n",
       "  <thead>\n",
       "    <tr style=\"text-align: right;\">\n",
       "      <th></th>\n",
       "      <th>RowId</th>\n",
       "      <th>Date</th>\n",
       "      <th>SecuritiesCode</th>\n",
       "      <th>ExpectedDividend</th>\n",
       "      <th>SupervisionFlag</th>\n",
       "      <th>ad_Open</th>\n",
       "      <th>ad_High</th>\n",
       "      <th>ad_Low</th>\n",
       "      <th>ad_Close</th>\n",
       "      <th>ad_Volume</th>\n",
       "      <th>...</th>\n",
       "      <th>Month</th>\n",
       "      <th>Year</th>\n",
       "      <th>week</th>\n",
       "      <th>Volatility_week</th>\n",
       "      <th>Profit</th>\n",
       "      <th>NetSales</th>\n",
       "      <th>margin</th>\n",
       "      <th>win_quarter_growth</th>\n",
       "      <th>rev_quarter_growth</th>\n",
       "      <th>margin_growth</th>\n",
       "    </tr>\n",
       "  </thead>\n",
       "  <tbody>\n",
       "    <tr>\n",
       "      <th>2112813</th>\n",
       "      <td>20170509_7616</td>\n",
       "      <td>2017-05-09</td>\n",
       "      <td>7616</td>\n",
       "      <td>0.0</td>\n",
       "      <td>0</td>\n",
       "      <td>1868.0</td>\n",
       "      <td>1878.0</td>\n",
       "      <td>1864.0</td>\n",
       "      <td>1872.0</td>\n",
       "      <td>195000.0</td>\n",
       "      <td>...</td>\n",
       "      <td>5.0</td>\n",
       "      <td>2017.0</td>\n",
       "      <td>19.0</td>\n",
       "      <td>3.011912</td>\n",
       "      <td>-1.398000e+09</td>\n",
       "      <td>2.344440e+11</td>\n",
       "      <td>-0.596304</td>\n",
       "      <td>-29.21519</td>\n",
       "      <td>34.976078</td>\n",
       "      <td>-47.557515</td>\n",
       "    </tr>\n",
       "    <tr>\n",
       "      <th>2112814</th>\n",
       "      <td>20170510_7616</td>\n",
       "      <td>2017-05-10</td>\n",
       "      <td>7616</td>\n",
       "      <td>0.0</td>\n",
       "      <td>0</td>\n",
       "      <td>1888.0</td>\n",
       "      <td>1930.0</td>\n",
       "      <td>1881.0</td>\n",
       "      <td>1928.0</td>\n",
       "      <td>733300.0</td>\n",
       "      <td>...</td>\n",
       "      <td>5.0</td>\n",
       "      <td>2017.0</td>\n",
       "      <td>19.0</td>\n",
       "      <td>3.011912</td>\n",
       "      <td>-1.398000e+09</td>\n",
       "      <td>2.344440e+11</td>\n",
       "      <td>-0.596304</td>\n",
       "      <td>-29.21519</td>\n",
       "      <td>34.976078</td>\n",
       "      <td>-47.557515</td>\n",
       "    </tr>\n",
       "  </tbody>\n",
       "</table>\n",
       "<p>2 rows × 57 columns</p>\n",
       "</div>"
      ],
      "text/plain": [
       "                 RowId       Date  SecuritiesCode  ExpectedDividend  \\\n",
       "2112813  20170509_7616 2017-05-09            7616               0.0   \n",
       "2112814  20170510_7616 2017-05-10            7616               0.0   \n",
       "\n",
       "         SupervisionFlag  ad_Open  ad_High  ad_Low  ad_Close  ad_Volume  ...  \\\n",
       "2112813                0   1868.0   1878.0  1864.0    1872.0   195000.0  ...   \n",
       "2112814                0   1888.0   1930.0  1881.0    1928.0   733300.0  ...   \n",
       "\n",
       "         Month    Year  week  Volatility_week        Profit      NetSales  \\\n",
       "2112813    5.0  2017.0  19.0         3.011912 -1.398000e+09  2.344440e+11   \n",
       "2112814    5.0  2017.0  19.0         3.011912 -1.398000e+09  2.344440e+11   \n",
       "\n",
       "           margin  win_quarter_growth  rev_quarter_growth  margin_growth  \n",
       "2112813 -0.596304           -29.21519           34.976078     -47.557515  \n",
       "2112814 -0.596304           -29.21519           34.976078     -47.557515  \n",
       "\n",
       "[2 rows x 57 columns]"
      ]
     },
     "execution_count": 5,
     "metadata": {},
     "output_type": "execute_result"
    }
   ],
   "source": [
    "df_train.head(2)"
   ]
  },
  {
   "cell_type": "code",
   "execution_count": 6,
   "metadata": {},
   "outputs": [
    {
     "data": {
      "text/html": [
       "<div>\n",
       "<style scoped>\n",
       "    .dataframe tbody tr th:only-of-type {\n",
       "        vertical-align: middle;\n",
       "    }\n",
       "\n",
       "    .dataframe tbody tr th {\n",
       "        vertical-align: top;\n",
       "    }\n",
       "\n",
       "    .dataframe thead th {\n",
       "        text-align: right;\n",
       "    }\n",
       "</style>\n",
       "<table border=\"1\" class=\"dataframe\">\n",
       "  <thead>\n",
       "    <tr style=\"text-align: right;\">\n",
       "      <th></th>\n",
       "      <th>RowId</th>\n",
       "      <th>Date</th>\n",
       "      <th>SecuritiesCode</th>\n",
       "      <th>ExpectedDividend</th>\n",
       "      <th>SupervisionFlag</th>\n",
       "      <th>ad_Open</th>\n",
       "      <th>ad_High</th>\n",
       "      <th>ad_Low</th>\n",
       "      <th>ad_Close</th>\n",
       "      <th>ad_Volume</th>\n",
       "      <th>...</th>\n",
       "      <th>Month</th>\n",
       "      <th>Year</th>\n",
       "      <th>week</th>\n",
       "      <th>Volatility_week</th>\n",
       "      <th>Profit</th>\n",
       "      <th>NetSales</th>\n",
       "      <th>margin</th>\n",
       "      <th>win_quarter_growth</th>\n",
       "      <th>rev_quarter_growth</th>\n",
       "      <th>margin_growth</th>\n",
       "    </tr>\n",
       "  </thead>\n",
       "  <tbody>\n",
       "  </tbody>\n",
       "</table>\n",
       "<p>0 rows × 57 columns</p>\n",
       "</div>"
      ],
      "text/plain": [
       "Empty DataFrame\n",
       "Columns: [RowId, Date, SecuritiesCode, ExpectedDividend, SupervisionFlag, ad_Open, ad_High, ad_Low, ad_Close, ad_Volume, ad_Target, ad_Close_lag1, ad_Close_sma10, logprice_ad_Close, trend_ad_Close, detrend_ad_Close, season_ad_Close, error_ad_Close, ad_Open_lag1, ad_Open_sma10, logprice_ad_Open, trend_ad_Open, detrend_ad_Open, season_ad_Open, error_ad_Open, ad_High_lag1, ad_High_sma10, logprice_ad_High, trend_ad_High, detrend_ad_High, season_ad_High, error_ad_High, ad_Low_lag1, ad_Low_sma10, logprice_ad_Low, trend_ad_Low, detrend_ad_Low, season_ad_Low, error_ad_Low, ad_Volume_lag1, ad_Volume_sma10, RSI, Return, macd, macd_h, macd_s, Day, Month, Year, week, Volatility_week, Profit, NetSales, margin, win_quarter_growth, rev_quarter_growth, margin_growth]\n",
       "Index: []\n",
       "\n",
       "[0 rows x 57 columns]"
      ]
     },
     "execution_count": 6,
     "metadata": {},
     "output_type": "execute_result"
    }
   ],
   "source": [
    "#df_train.query('Date == datetime.date(2021, 11, 2)').head()\n",
    "df_test.query('Date == \"2021-11-02\"').head()"
   ]
  },
  {
   "cell_type": "code",
   "execution_count": 7,
   "metadata": {},
   "outputs": [
    {
     "data": {
      "text/html": [
       "<div>\n",
       "<style scoped>\n",
       "    .dataframe tbody tr th:only-of-type {\n",
       "        vertical-align: middle;\n",
       "    }\n",
       "\n",
       "    .dataframe tbody tr th {\n",
       "        vertical-align: top;\n",
       "    }\n",
       "\n",
       "    .dataframe thead th {\n",
       "        text-align: right;\n",
       "    }\n",
       "</style>\n",
       "<table border=\"1\" class=\"dataframe\">\n",
       "  <thead>\n",
       "    <tr style=\"text-align: right;\">\n",
       "      <th></th>\n",
       "      <th>RowId</th>\n",
       "      <th>Date</th>\n",
       "      <th>SecuritiesCode</th>\n",
       "      <th>ExpectedDividend</th>\n",
       "      <th>SupervisionFlag</th>\n",
       "      <th>ad_Open</th>\n",
       "      <th>ad_High</th>\n",
       "      <th>ad_Low</th>\n",
       "      <th>ad_Close</th>\n",
       "      <th>ad_Volume</th>\n",
       "      <th>...</th>\n",
       "      <th>Month</th>\n",
       "      <th>Year</th>\n",
       "      <th>week</th>\n",
       "      <th>Volatility_week</th>\n",
       "      <th>Profit</th>\n",
       "      <th>NetSales</th>\n",
       "      <th>margin</th>\n",
       "      <th>win_quarter_growth</th>\n",
       "      <th>rev_quarter_growth</th>\n",
       "      <th>margin_growth</th>\n",
       "    </tr>\n",
       "  </thead>\n",
       "  <tbody>\n",
       "    <tr>\n",
       "      <th>2113913</th>\n",
       "      <td>20211105_7616</td>\n",
       "      <td>2021-11-05</td>\n",
       "      <td>7616</td>\n",
       "      <td>0.0</td>\n",
       "      <td>0</td>\n",
       "      <td>1663.0</td>\n",
       "      <td>1677.0</td>\n",
       "      <td>1655.0</td>\n",
       "      <td>1676.0</td>\n",
       "      <td>315800.0</td>\n",
       "      <td>...</td>\n",
       "      <td>11.0</td>\n",
       "      <td>2021.0</td>\n",
       "      <td>44.0</td>\n",
       "      <td>1.527375</td>\n",
       "      <td>719000000.0</td>\n",
       "      <td>3.933000e+10</td>\n",
       "      <td>1.828121</td>\n",
       "      <td>0.0</td>\n",
       "      <td>0.0</td>\n",
       "      <td>0.0</td>\n",
       "    </tr>\n",
       "    <tr>\n",
       "      <th>2113914</th>\n",
       "      <td>20211108_7616</td>\n",
       "      <td>2021-11-08</td>\n",
       "      <td>7616</td>\n",
       "      <td>0.0</td>\n",
       "      <td>0</td>\n",
       "      <td>1687.0</td>\n",
       "      <td>1704.0</td>\n",
       "      <td>1681.0</td>\n",
       "      <td>1689.0</td>\n",
       "      <td>480600.0</td>\n",
       "      <td>...</td>\n",
       "      <td>11.0</td>\n",
       "      <td>2021.0</td>\n",
       "      <td>45.0</td>\n",
       "      <td>3.739111</td>\n",
       "      <td>719000000.0</td>\n",
       "      <td>3.933000e+10</td>\n",
       "      <td>1.828121</td>\n",
       "      <td>0.0</td>\n",
       "      <td>0.0</td>\n",
       "      <td>0.0</td>\n",
       "    </tr>\n",
       "  </tbody>\n",
       "</table>\n",
       "<p>2 rows × 57 columns</p>\n",
       "</div>"
      ],
      "text/plain": [
       "                 RowId       Date  SecuritiesCode  ExpectedDividend  \\\n",
       "2113913  20211105_7616 2021-11-05            7616               0.0   \n",
       "2113914  20211108_7616 2021-11-08            7616               0.0   \n",
       "\n",
       "         SupervisionFlag  ad_Open  ad_High  ad_Low  ad_Close  ad_Volume  ...  \\\n",
       "2113913                0   1663.0   1677.0  1655.0    1676.0   315800.0  ...   \n",
       "2113914                0   1687.0   1704.0  1681.0    1689.0   480600.0  ...   \n",
       "\n",
       "         Month    Year  week  Volatility_week       Profit      NetSales  \\\n",
       "2113913   11.0  2021.0  44.0         1.527375  719000000.0  3.933000e+10   \n",
       "2113914   11.0  2021.0  45.0         3.739111  719000000.0  3.933000e+10   \n",
       "\n",
       "           margin  win_quarter_growth  rev_quarter_growth  margin_growth  \n",
       "2113913  1.828121                 0.0                 0.0            0.0  \n",
       "2113914  1.828121                 0.0                 0.0            0.0  \n",
       "\n",
       "[2 rows x 57 columns]"
      ]
     },
     "execution_count": 7,
     "metadata": {},
     "output_type": "execute_result"
    }
   ],
   "source": [
    "df_test.head(2)"
   ]
  },
  {
   "cell_type": "code",
   "execution_count": 8,
   "metadata": {},
   "outputs": [
    {
     "data": {
      "text/html": [
       "<div>\n",
       "<style scoped>\n",
       "    .dataframe tbody tr th:only-of-type {\n",
       "        vertical-align: middle;\n",
       "    }\n",
       "\n",
       "    .dataframe tbody tr th {\n",
       "        vertical-align: top;\n",
       "    }\n",
       "\n",
       "    .dataframe thead th {\n",
       "        text-align: right;\n",
       "    }\n",
       "</style>\n",
       "<table border=\"1\" class=\"dataframe\">\n",
       "  <thead>\n",
       "    <tr style=\"text-align: right;\">\n",
       "      <th></th>\n",
       "      <th>count</th>\n",
       "      <th>mean</th>\n",
       "      <th>std</th>\n",
       "      <th>min</th>\n",
       "      <th>25%</th>\n",
       "      <th>50%</th>\n",
       "      <th>75%</th>\n",
       "      <th>max</th>\n",
       "    </tr>\n",
       "  </thead>\n",
       "  <tbody>\n",
       "    <tr>\n",
       "      <th>SecuritiesCode</th>\n",
       "      <td>1100.0</td>\n",
       "      <td>7616.000000</td>\n",
       "      <td>0.000000</td>\n",
       "      <td>7616.000000</td>\n",
       "      <td>7616.000000</td>\n",
       "      <td>7616.000000</td>\n",
       "      <td>7616.000000</td>\n",
       "      <td>7.616000e+03</td>\n",
       "    </tr>\n",
       "    <tr>\n",
       "      <th>ExpectedDividend</th>\n",
       "      <td>1100.0</td>\n",
       "      <td>0.018182</td>\n",
       "      <td>0.301100</td>\n",
       "      <td>0.000000</td>\n",
       "      <td>0.000000</td>\n",
       "      <td>0.000000</td>\n",
       "      <td>0.000000</td>\n",
       "      <td>5.000000e+00</td>\n",
       "    </tr>\n",
       "    <tr>\n",
       "      <th>SupervisionFlag</th>\n",
       "      <td>1100.0</td>\n",
       "      <td>0.000000</td>\n",
       "      <td>0.000000</td>\n",
       "      <td>0.000000</td>\n",
       "      <td>0.000000</td>\n",
       "      <td>0.000000</td>\n",
       "      <td>0.000000</td>\n",
       "      <td>0.000000e+00</td>\n",
       "    </tr>\n",
       "    <tr>\n",
       "      <th>ad_Open</th>\n",
       "      <td>1100.0</td>\n",
       "      <td>2117.578182</td>\n",
       "      <td>427.272953</td>\n",
       "      <td>1180.000000</td>\n",
       "      <td>1851.750000</td>\n",
       "      <td>2080.000000</td>\n",
       "      <td>2323.500000</td>\n",
       "      <td>3.185000e+03</td>\n",
       "    </tr>\n",
       "    <tr>\n",
       "      <th>ad_High</th>\n",
       "      <td>1100.0</td>\n",
       "      <td>2141.008182</td>\n",
       "      <td>427.363461</td>\n",
       "      <td>1209.000000</td>\n",
       "      <td>1876.750000</td>\n",
       "      <td>2102.000000</td>\n",
       "      <td>2345.500000</td>\n",
       "      <td>3.225000e+03</td>\n",
       "    </tr>\n",
       "    <tr>\n",
       "      <th>ad_Low</th>\n",
       "      <td>1100.0</td>\n",
       "      <td>2094.330000</td>\n",
       "      <td>427.728149</td>\n",
       "      <td>1162.000000</td>\n",
       "      <td>1827.750000</td>\n",
       "      <td>2060.000000</td>\n",
       "      <td>2302.000000</td>\n",
       "      <td>3.150000e+03</td>\n",
       "    </tr>\n",
       "    <tr>\n",
       "      <th>ad_Close</th>\n",
       "      <td>1100.0</td>\n",
       "      <td>2117.138182</td>\n",
       "      <td>427.114628</td>\n",
       "      <td>1179.000000</td>\n",
       "      <td>1853.750000</td>\n",
       "      <td>2083.000000</td>\n",
       "      <td>2324.500000</td>\n",
       "      <td>3.175000e+03</td>\n",
       "    </tr>\n",
       "    <tr>\n",
       "      <th>ad_Volume</th>\n",
       "      <td>1100.0</td>\n",
       "      <td>386650.181818</td>\n",
       "      <td>451013.873566</td>\n",
       "      <td>0.000000</td>\n",
       "      <td>166375.000000</td>\n",
       "      <td>237400.000000</td>\n",
       "      <td>420875.000000</td>\n",
       "      <td>7.485800e+06</td>\n",
       "    </tr>\n",
       "    <tr>\n",
       "      <th>ad_Target</th>\n",
       "      <td>1100.0</td>\n",
       "      <td>0.000103</td>\n",
       "      <td>0.021691</td>\n",
       "      <td>-0.105793</td>\n",
       "      <td>-0.009494</td>\n",
       "      <td>0.000851</td>\n",
       "      <td>0.009825</td>\n",
       "      <td>1.206268e-01</td>\n",
       "    </tr>\n",
       "    <tr>\n",
       "      <th>ad_Close_lag1</th>\n",
       "      <td>1100.0</td>\n",
       "      <td>2117.301818</td>\n",
       "      <td>426.967085</td>\n",
       "      <td>1179.000000</td>\n",
       "      <td>1854.750000</td>\n",
       "      <td>2083.000000</td>\n",
       "      <td>2324.500000</td>\n",
       "      <td>3.175000e+03</td>\n",
       "    </tr>\n",
       "    <tr>\n",
       "      <th>ad_Close_sma10</th>\n",
       "      <td>1100.0</td>\n",
       "      <td>2117.790636</td>\n",
       "      <td>422.653146</td>\n",
       "      <td>1276.200000</td>\n",
       "      <td>1862.925000</td>\n",
       "      <td>2085.200000</td>\n",
       "      <td>2319.700000</td>\n",
       "      <td>3.094500e+03</td>\n",
       "    </tr>\n",
       "    <tr>\n",
       "      <th>logprice_ad_Close</th>\n",
       "      <td>1100.0</td>\n",
       "      <td>7.637813</td>\n",
       "      <td>0.200092</td>\n",
       "      <td>7.072422</td>\n",
       "      <td>7.524966</td>\n",
       "      <td>7.641564</td>\n",
       "      <td>7.751260</td>\n",
       "      <td>8.063063e+00</td>\n",
       "    </tr>\n",
       "    <tr>\n",
       "      <th>trend_ad_Close</th>\n",
       "      <td>1100.0</td>\n",
       "      <td>2118.883333</td>\n",
       "      <td>415.169550</td>\n",
       "      <td>1353.200000</td>\n",
       "      <td>1859.941667</td>\n",
       "      <td>2090.633333</td>\n",
       "      <td>2328.375000</td>\n",
       "      <td>3.065833e+03</td>\n",
       "    </tr>\n",
       "    <tr>\n",
       "      <th>detrend_ad_Close</th>\n",
       "      <td>1100.0</td>\n",
       "      <td>-1.745152</td>\n",
       "      <td>126.405599</td>\n",
       "      <td>-696.666667</td>\n",
       "      <td>-74.083333</td>\n",
       "      <td>6.883333</td>\n",
       "      <td>71.575000</td>\n",
       "      <td>4.440000e+02</td>\n",
       "    </tr>\n",
       "    <tr>\n",
       "      <th>season_ad_Close</th>\n",
       "      <td>1100.0</td>\n",
       "      <td>-1.745152</td>\n",
       "      <td>126.405599</td>\n",
       "      <td>-696.666667</td>\n",
       "      <td>-74.083333</td>\n",
       "      <td>6.883333</td>\n",
       "      <td>71.575000</td>\n",
       "      <td>4.440000e+02</td>\n",
       "    </tr>\n",
       "    <tr>\n",
       "      <th>error_ad_Close</th>\n",
       "      <td>1100.0</td>\n",
       "      <td>0.000000</td>\n",
       "      <td>0.000000</td>\n",
       "      <td>0.000000</td>\n",
       "      <td>0.000000</td>\n",
       "      <td>0.000000</td>\n",
       "      <td>0.000000</td>\n",
       "      <td>0.000000e+00</td>\n",
       "    </tr>\n",
       "    <tr>\n",
       "      <th>ad_Open_lag1</th>\n",
       "      <td>1100.0</td>\n",
       "      <td>2117.680000</td>\n",
       "      <td>427.150070</td>\n",
       "      <td>1180.000000</td>\n",
       "      <td>1851.750000</td>\n",
       "      <td>2080.000000</td>\n",
       "      <td>2323.500000</td>\n",
       "      <td>3.185000e+03</td>\n",
       "    </tr>\n",
       "    <tr>\n",
       "      <th>ad_Open_sma10</th>\n",
       "      <td>1100.0</td>\n",
       "      <td>2118.211909</td>\n",
       "      <td>422.737976</td>\n",
       "      <td>1276.400000</td>\n",
       "      <td>1857.400000</td>\n",
       "      <td>2082.350000</td>\n",
       "      <td>2318.625000</td>\n",
       "      <td>3.091000e+03</td>\n",
       "    </tr>\n",
       "    <tr>\n",
       "      <th>logprice_ad_Open</th>\n",
       "      <td>1100.0</td>\n",
       "      <td>7.638019</td>\n",
       "      <td>0.200094</td>\n",
       "      <td>7.073270</td>\n",
       "      <td>7.523886</td>\n",
       "      <td>7.640123</td>\n",
       "      <td>7.750829</td>\n",
       "      <td>8.066208e+00</td>\n",
       "    </tr>\n",
       "    <tr>\n",
       "      <th>trend_ad_Open</th>\n",
       "      <td>1100.0</td>\n",
       "      <td>2119.247030</td>\n",
       "      <td>415.247940</td>\n",
       "      <td>1354.633333</td>\n",
       "      <td>1858.133333</td>\n",
       "      <td>2088.683333</td>\n",
       "      <td>2327.608333</td>\n",
       "      <td>3.063667e+03</td>\n",
       "    </tr>\n",
       "    <tr>\n",
       "      <th>detrend_ad_Open</th>\n",
       "      <td>1100.0</td>\n",
       "      <td>-1.668848</td>\n",
       "      <td>127.193090</td>\n",
       "      <td>-713.400000</td>\n",
       "      <td>-76.708333</td>\n",
       "      <td>6.833333</td>\n",
       "      <td>72.700000</td>\n",
       "      <td>4.026667e+02</td>\n",
       "    </tr>\n",
       "    <tr>\n",
       "      <th>season_ad_Open</th>\n",
       "      <td>1100.0</td>\n",
       "      <td>-1.668848</td>\n",
       "      <td>127.193090</td>\n",
       "      <td>-713.400000</td>\n",
       "      <td>-76.708333</td>\n",
       "      <td>6.833333</td>\n",
       "      <td>72.700000</td>\n",
       "      <td>4.026667e+02</td>\n",
       "    </tr>\n",
       "    <tr>\n",
       "      <th>error_ad_Open</th>\n",
       "      <td>1100.0</td>\n",
       "      <td>0.000000</td>\n",
       "      <td>0.000000</td>\n",
       "      <td>0.000000</td>\n",
       "      <td>0.000000</td>\n",
       "      <td>0.000000</td>\n",
       "      <td>0.000000</td>\n",
       "      <td>0.000000e+00</td>\n",
       "    </tr>\n",
       "    <tr>\n",
       "      <th>ad_High_lag1</th>\n",
       "      <td>1100.0</td>\n",
       "      <td>2141.160000</td>\n",
       "      <td>427.221316</td>\n",
       "      <td>1209.000000</td>\n",
       "      <td>1876.750000</td>\n",
       "      <td>2102.000000</td>\n",
       "      <td>2345.500000</td>\n",
       "      <td>3.225000e+03</td>\n",
       "    </tr>\n",
       "    <tr>\n",
       "      <th>ad_High_sma10</th>\n",
       "      <td>1100.0</td>\n",
       "      <td>2141.657273</td>\n",
       "      <td>423.124963</td>\n",
       "      <td>1306.400000</td>\n",
       "      <td>1882.450000</td>\n",
       "      <td>2102.000000</td>\n",
       "      <td>2348.350000</td>\n",
       "      <td>3.125500e+03</td>\n",
       "    </tr>\n",
       "    <tr>\n",
       "      <th>logprice_ad_High</th>\n",
       "      <td>1100.0</td>\n",
       "      <td>7.649566</td>\n",
       "      <td>0.197022</td>\n",
       "      <td>7.097549</td>\n",
       "      <td>7.537297</td>\n",
       "      <td>7.650645</td>\n",
       "      <td>7.760254</td>\n",
       "      <td>8.078688e+00</td>\n",
       "    </tr>\n",
       "    <tr>\n",
       "      <th>trend_ad_High</th>\n",
       "      <td>1100.0</td>\n",
       "      <td>2142.676939</td>\n",
       "      <td>415.721201</td>\n",
       "      <td>1382.100000</td>\n",
       "      <td>1879.791667</td>\n",
       "      <td>2106.116667</td>\n",
       "      <td>2351.716667</td>\n",
       "      <td>3.093667e+03</td>\n",
       "    </tr>\n",
       "    <tr>\n",
       "      <th>detrend_ad_High</th>\n",
       "      <td>1100.0</td>\n",
       "      <td>-1.668758</td>\n",
       "      <td>125.309218</td>\n",
       "      <td>-676.633333</td>\n",
       "      <td>-74.416667</td>\n",
       "      <td>5.716667</td>\n",
       "      <td>72.933333</td>\n",
       "      <td>4.452667e+02</td>\n",
       "    </tr>\n",
       "    <tr>\n",
       "      <th>season_ad_High</th>\n",
       "      <td>1100.0</td>\n",
       "      <td>-1.668758</td>\n",
       "      <td>125.309218</td>\n",
       "      <td>-676.633333</td>\n",
       "      <td>-74.416667</td>\n",
       "      <td>5.716667</td>\n",
       "      <td>72.933333</td>\n",
       "      <td>4.452667e+02</td>\n",
       "    </tr>\n",
       "    <tr>\n",
       "      <th>error_ad_High</th>\n",
       "      <td>1100.0</td>\n",
       "      <td>0.000000</td>\n",
       "      <td>0.000000</td>\n",
       "      <td>0.000000</td>\n",
       "      <td>0.000000</td>\n",
       "      <td>0.000000</td>\n",
       "      <td>0.000000</td>\n",
       "      <td>0.000000e+00</td>\n",
       "    </tr>\n",
       "  </tbody>\n",
       "</table>\n",
       "</div>"
      ],
      "text/plain": [
       "                    count           mean            std          min  \\\n",
       "SecuritiesCode     1100.0    7616.000000       0.000000  7616.000000   \n",
       "ExpectedDividend   1100.0       0.018182       0.301100     0.000000   \n",
       "SupervisionFlag    1100.0       0.000000       0.000000     0.000000   \n",
       "ad_Open            1100.0    2117.578182     427.272953  1180.000000   \n",
       "ad_High            1100.0    2141.008182     427.363461  1209.000000   \n",
       "ad_Low             1100.0    2094.330000     427.728149  1162.000000   \n",
       "ad_Close           1100.0    2117.138182     427.114628  1179.000000   \n",
       "ad_Volume          1100.0  386650.181818  451013.873566     0.000000   \n",
       "ad_Target          1100.0       0.000103       0.021691    -0.105793   \n",
       "ad_Close_lag1      1100.0    2117.301818     426.967085  1179.000000   \n",
       "ad_Close_sma10     1100.0    2117.790636     422.653146  1276.200000   \n",
       "logprice_ad_Close  1100.0       7.637813       0.200092     7.072422   \n",
       "trend_ad_Close     1100.0    2118.883333     415.169550  1353.200000   \n",
       "detrend_ad_Close   1100.0      -1.745152     126.405599  -696.666667   \n",
       "season_ad_Close    1100.0      -1.745152     126.405599  -696.666667   \n",
       "error_ad_Close     1100.0       0.000000       0.000000     0.000000   \n",
       "ad_Open_lag1       1100.0    2117.680000     427.150070  1180.000000   \n",
       "ad_Open_sma10      1100.0    2118.211909     422.737976  1276.400000   \n",
       "logprice_ad_Open   1100.0       7.638019       0.200094     7.073270   \n",
       "trend_ad_Open      1100.0    2119.247030     415.247940  1354.633333   \n",
       "detrend_ad_Open    1100.0      -1.668848     127.193090  -713.400000   \n",
       "season_ad_Open     1100.0      -1.668848     127.193090  -713.400000   \n",
       "error_ad_Open      1100.0       0.000000       0.000000     0.000000   \n",
       "ad_High_lag1       1100.0    2141.160000     427.221316  1209.000000   \n",
       "ad_High_sma10      1100.0    2141.657273     423.124963  1306.400000   \n",
       "logprice_ad_High   1100.0       7.649566       0.197022     7.097549   \n",
       "trend_ad_High      1100.0    2142.676939     415.721201  1382.100000   \n",
       "detrend_ad_High    1100.0      -1.668758     125.309218  -676.633333   \n",
       "season_ad_High     1100.0      -1.668758     125.309218  -676.633333   \n",
       "error_ad_High      1100.0       0.000000       0.000000     0.000000   \n",
       "\n",
       "                             25%            50%            75%           max  \n",
       "SecuritiesCode       7616.000000    7616.000000    7616.000000  7.616000e+03  \n",
       "ExpectedDividend        0.000000       0.000000       0.000000  5.000000e+00  \n",
       "SupervisionFlag         0.000000       0.000000       0.000000  0.000000e+00  \n",
       "ad_Open              1851.750000    2080.000000    2323.500000  3.185000e+03  \n",
       "ad_High              1876.750000    2102.000000    2345.500000  3.225000e+03  \n",
       "ad_Low               1827.750000    2060.000000    2302.000000  3.150000e+03  \n",
       "ad_Close             1853.750000    2083.000000    2324.500000  3.175000e+03  \n",
       "ad_Volume          166375.000000  237400.000000  420875.000000  7.485800e+06  \n",
       "ad_Target              -0.009494       0.000851       0.009825  1.206268e-01  \n",
       "ad_Close_lag1        1854.750000    2083.000000    2324.500000  3.175000e+03  \n",
       "ad_Close_sma10       1862.925000    2085.200000    2319.700000  3.094500e+03  \n",
       "logprice_ad_Close       7.524966       7.641564       7.751260  8.063063e+00  \n",
       "trend_ad_Close       1859.941667    2090.633333    2328.375000  3.065833e+03  \n",
       "detrend_ad_Close      -74.083333       6.883333      71.575000  4.440000e+02  \n",
       "season_ad_Close       -74.083333       6.883333      71.575000  4.440000e+02  \n",
       "error_ad_Close          0.000000       0.000000       0.000000  0.000000e+00  \n",
       "ad_Open_lag1         1851.750000    2080.000000    2323.500000  3.185000e+03  \n",
       "ad_Open_sma10        1857.400000    2082.350000    2318.625000  3.091000e+03  \n",
       "logprice_ad_Open        7.523886       7.640123       7.750829  8.066208e+00  \n",
       "trend_ad_Open        1858.133333    2088.683333    2327.608333  3.063667e+03  \n",
       "detrend_ad_Open       -76.708333       6.833333      72.700000  4.026667e+02  \n",
       "season_ad_Open        -76.708333       6.833333      72.700000  4.026667e+02  \n",
       "error_ad_Open           0.000000       0.000000       0.000000  0.000000e+00  \n",
       "ad_High_lag1         1876.750000    2102.000000    2345.500000  3.225000e+03  \n",
       "ad_High_sma10        1882.450000    2102.000000    2348.350000  3.125500e+03  \n",
       "logprice_ad_High        7.537297       7.650645       7.760254  8.078688e+00  \n",
       "trend_ad_High        1879.791667    2106.116667    2351.716667  3.093667e+03  \n",
       "detrend_ad_High       -74.416667       5.716667      72.933333  4.452667e+02  \n",
       "season_ad_High        -74.416667       5.716667      72.933333  4.452667e+02  \n",
       "error_ad_High           0.000000       0.000000       0.000000  0.000000e+00  "
      ]
     },
     "execution_count": 8,
     "metadata": {},
     "output_type": "execute_result"
    }
   ],
   "source": [
    "df_train.describe().T.head(30)"
   ]
  },
  {
   "cell_type": "markdown",
   "metadata": {},
   "source": [
    "- transform date"
   ]
  },
  {
   "cell_type": "code",
   "execution_count": 9,
   "metadata": {},
   "outputs": [],
   "source": [
    "def transform_date(df):\n",
    "    date_time = pd.to_datetime(df.pop('Date'), format='%Y-%m.%d')\n",
    "    timestamp_s = date_time.map(pd.Timestamp.timestamp)\n",
    "\n",
    "    day = 24*60*60\n",
    "    week = 7*day\n",
    "    month = 30.4167*day\n",
    "    year = (365.2425)*day\n",
    "\n",
    "    df['Day_sin'] = np.sin(timestamp_s * (2 * np.pi / day))\n",
    "    df['Day_cos'] = np.cos(timestamp_s * (2 * np.pi / day))\n",
    "\n",
    "    df['Month_sin'] = np.sin(timestamp_s * (2 * np.pi / month))\n",
    "    df['Month_cos'] = np.cos(timestamp_s * (2 * np.pi / month))\n",
    "\n",
    "    df['Year_sin'] = np.sin(timestamp_s * (2 * np.pi / year))\n",
    "    df['Year_cos'] = np.cos(timestamp_s * (2 * np.pi / year))"
   ]
  },
  {
   "cell_type": "code",
   "execution_count": 10,
   "metadata": {},
   "outputs": [],
   "source": [
    "transform_date(df_train)\n",
    "transform_date(df_test)"
   ]
  },
  {
   "cell_type": "code",
   "execution_count": 11,
   "metadata": {},
   "outputs": [
    {
     "data": {
      "text/plain": [
       "Text(0.5, 1.0, 'Time of Month signal')"
      ]
     },
     "execution_count": 11,
     "metadata": {},
     "output_type": "execute_result"
    },
    {
     "data": {
      "image/png": "[encoded data removed]",
      "text/plain": [
       "<Figure size 576x432 with 1 Axes>"
      ]
     },
     "metadata": {
      "needs_background": "light"
     },
     "output_type": "display_data"
    }
   ],
   "source": [
    "plt.plot(np.array(df_train['Month_sin'])[:25])\n",
    "plt.plot(np.array(df_train['Month_cos'])[:25])\n",
    "plt.xlabel('Day [d]')\n",
    "plt.title('Time of Month signal')"
   ]
  },
  {
   "cell_type": "code",
   "execution_count": 12,
   "metadata": {},
   "outputs": [
    {
     "data": {
      "text/plain": [
       "Index(['RowId', 'SecuritiesCode', 'ExpectedDividend', 'SupervisionFlag',\n",
       "       'ad_Open', 'ad_High', 'ad_Low', 'ad_Close', 'ad_Volume', 'ad_Target',\n",
       "       'ad_Close_lag1', 'ad_Close_sma10', 'logprice_ad_Close',\n",
       "       'trend_ad_Close', 'detrend_ad_Close', 'season_ad_Close',\n",
       "       'error_ad_Close', 'ad_Open_lag1', 'ad_Open_sma10', 'logprice_ad_Open',\n",
       "       'trend_ad_Open', 'detrend_ad_Open', 'season_ad_Open', 'error_ad_Open',\n",
       "       'ad_High_lag1', 'ad_High_sma10', 'logprice_ad_High', 'trend_ad_High',\n",
       "       'detrend_ad_High', 'season_ad_High', 'error_ad_High', 'ad_Low_lag1',\n",
       "       'ad_Low_sma10', 'logprice_ad_Low', 'trend_ad_Low', 'detrend_ad_Low',\n",
       "       'season_ad_Low', 'error_ad_Low', 'ad_Volume_lag1', 'ad_Volume_sma10',\n",
       "       'RSI', 'Return', 'macd', 'macd_h', 'macd_s', 'Day', 'Month', 'Year',\n",
       "       'week', 'Volatility_week', 'Profit', 'NetSales', 'margin',\n",
       "       'win_quarter_growth', 'rev_quarter_growth', 'margin_growth', 'Day_sin',\n",
       "       'Day_cos', 'Month_sin', 'Month_cos', 'Year_sin', 'Year_cos'],\n",
       "      dtype='object')"
      ]
     },
     "execution_count": 12,
     "metadata": {},
     "output_type": "execute_result"
    }
   ],
   "source": [
    "df_train.columns"
   ]
  },
  {
   "cell_type": "code",
   "execution_count": null,
   "metadata": {},
   "outputs": [],
   "source": []
  },
  {
   "cell_type": "markdown",
   "metadata": {},
   "source": [
    "# Preparation for modelling"
   ]
  },
  {
   "cell_type": "markdown",
   "metadata": {},
   "source": [
    "## - Train Test Split\n"
   ]
  },
  {
   "cell_type": "code",
   "execution_count": 13,
   "metadata": {},
   "outputs": [
    {
     "name": "stdout",
     "output_type": "stream",
     "text": [
      "(1078, 62)\n",
      "(22, 62)\n",
      "(22, 62)\n"
     ]
    }
   ],
   "source": [
    "def split_train_val(df, split=22):\n",
    "    l_train = len(df)\n",
    "    df_train =  df[:- split]\n",
    "    df_val = df[- split : ]\n",
    "    return df_train, df_val\n",
    "\n",
    "df_train, df_val = split_train_val(df_train)\n",
    "\n",
    "print(df_train.shape)\n",
    "print(df_val.shape)\n",
    "print(df_test.shape)"
   ]
  },
  {
   "cell_type": "code",
   "execution_count": 14,
   "metadata": {},
   "outputs": [
    {
     "data": {
      "text/html": [
       "<div>\n",
       "<style scoped>\n",
       "    .dataframe tbody tr th:only-of-type {\n",
       "        vertical-align: middle;\n",
       "    }\n",
       "\n",
       "    .dataframe tbody tr th {\n",
       "        vertical-align: top;\n",
       "    }\n",
       "\n",
       "    .dataframe thead th {\n",
       "        text-align: right;\n",
       "    }\n",
       "</style>\n",
       "<table border=\"1\" class=\"dataframe\">\n",
       "  <thead>\n",
       "    <tr style=\"text-align: right;\">\n",
       "      <th></th>\n",
       "      <th>RowId</th>\n",
       "      <th>SecuritiesCode</th>\n",
       "      <th>ExpectedDividend</th>\n",
       "      <th>SupervisionFlag</th>\n",
       "      <th>ad_Open</th>\n",
       "      <th>ad_High</th>\n",
       "      <th>ad_Low</th>\n",
       "      <th>ad_Close</th>\n",
       "      <th>ad_Volume</th>\n",
       "      <th>ad_Target</th>\n",
       "      <th>...</th>\n",
       "      <th>margin</th>\n",
       "      <th>win_quarter_growth</th>\n",
       "      <th>rev_quarter_growth</th>\n",
       "      <th>margin_growth</th>\n",
       "      <th>Day_sin</th>\n",
       "      <th>Day_cos</th>\n",
       "      <th>Month_sin</th>\n",
       "      <th>Month_cos</th>\n",
       "      <th>Year_sin</th>\n",
       "      <th>Year_cos</th>\n",
       "    </tr>\n",
       "  </thead>\n",
       "  <tbody>\n",
       "    <tr>\n",
       "      <th>2113886</th>\n",
       "      <td>20210928_7616</td>\n",
       "      <td>7616</td>\n",
       "      <td>0.0</td>\n",
       "      <td>0</td>\n",
       "      <td>1749.0</td>\n",
       "      <td>1751.0</td>\n",
       "      <td>1717.0</td>\n",
       "      <td>1721.0</td>\n",
       "      <td>2057900.0</td>\n",
       "      <td>0.010913</td>\n",
       "      <td>...</td>\n",
       "      <td>1.828121</td>\n",
       "      <td>0.0</td>\n",
       "      <td>0.0</td>\n",
       "      <td>0.0</td>\n",
       "      <td>-9.559842e-12</td>\n",
       "      <td>1.0</td>\n",
       "      <td>0.944179</td>\n",
       "      <td>-0.329433</td>\n",
       "      <td>-0.998390</td>\n",
       "      <td>-0.056728</td>\n",
       "    </tr>\n",
       "    <tr>\n",
       "      <th>2113887</th>\n",
       "      <td>20210929_7616</td>\n",
       "      <td>7616</td>\n",
       "      <td>0.0</td>\n",
       "      <td>0</td>\n",
       "      <td>1704.0</td>\n",
       "      <td>1746.0</td>\n",
       "      <td>1701.0</td>\n",
       "      <td>1741.0</td>\n",
       "      <td>1916800.0</td>\n",
       "      <td>0.003409</td>\n",
       "      <td>...</td>\n",
       "      <td>1.828121</td>\n",
       "      <td>0.0</td>\n",
       "      <td>0.0</td>\n",
       "      <td>0.0</td>\n",
       "      <td>-5.261303e-12</td>\n",
       "      <td>1.0</td>\n",
       "      <td>0.856538</td>\n",
       "      <td>-0.516084</td>\n",
       "      <td>-0.999218</td>\n",
       "      <td>-0.039545</td>\n",
       "    </tr>\n",
       "    <tr>\n",
       "      <th>2113888</th>\n",
       "      <td>20210930_7616</td>\n",
       "      <td>7616</td>\n",
       "      <td>0.0</td>\n",
       "      <td>0</td>\n",
       "      <td>1758.0</td>\n",
       "      <td>1774.0</td>\n",
       "      <td>1744.0</td>\n",
       "      <td>1760.0</td>\n",
       "      <td>998500.0</td>\n",
       "      <td>-0.009060</td>\n",
       "      <td>...</td>\n",
       "      <td>1.828121</td>\n",
       "      <td>0.0</td>\n",
       "      <td>0.0</td>\n",
       "      <td>0.0</td>\n",
       "      <td>-9.627644e-13</td>\n",
       "      <td>1.0</td>\n",
       "      <td>0.732477</td>\n",
       "      <td>-0.680792</td>\n",
       "      <td>-0.999750</td>\n",
       "      <td>-0.022351</td>\n",
       "    </tr>\n",
       "    <tr>\n",
       "      <th>2113889</th>\n",
       "      <td>20211001_7616</td>\n",
       "      <td>7616</td>\n",
       "      <td>0.0</td>\n",
       "      <td>0</td>\n",
       "      <td>1759.0</td>\n",
       "      <td>1766.0</td>\n",
       "      <td>1720.0</td>\n",
       "      <td>1766.0</td>\n",
       "      <td>950700.0</td>\n",
       "      <td>-0.002857</td>\n",
       "      <td>...</td>\n",
       "      <td>1.828121</td>\n",
       "      <td>0.0</td>\n",
       "      <td>0.0</td>\n",
       "      <td>0.0</td>\n",
       "      <td>-1.121614e-11</td>\n",
       "      <td>1.0</td>\n",
       "      <td>0.577271</td>\n",
       "      <td>-0.816552</td>\n",
       "      <td>-0.999987</td>\n",
       "      <td>-0.005150</td>\n",
       "    </tr>\n",
       "    <tr>\n",
       "      <th>2113890</th>\n",
       "      <td>20211004_7616</td>\n",
       "      <td>7616</td>\n",
       "      <td>0.0</td>\n",
       "      <td>0</td>\n",
       "      <td>1782.0</td>\n",
       "      <td>1789.0</td>\n",
       "      <td>1738.0</td>\n",
       "      <td>1750.0</td>\n",
       "      <td>1185600.0</td>\n",
       "      <td>-0.021777</td>\n",
       "      <td>...</td>\n",
       "      <td>1.828121</td>\n",
       "      <td>0.0</td>\n",
       "      <td>0.0</td>\n",
       "      <td>0.0</td>\n",
       "      <td>-1.287244e-11</td>\n",
       "      <td>1.0</td>\n",
       "      <td>-0.004328</td>\n",
       "      <td>-0.999991</td>\n",
       "      <td>-0.998921</td>\n",
       "      <td>0.046442</td>\n",
       "    </tr>\n",
       "  </tbody>\n",
       "</table>\n",
       "<p>5 rows × 62 columns</p>\n",
       "</div>"
      ],
      "text/plain": [
       "                 RowId  SecuritiesCode  ExpectedDividend  SupervisionFlag  \\\n",
       "2113886  20210928_7616            7616               0.0                0   \n",
       "2113887  20210929_7616            7616               0.0                0   \n",
       "2113888  20210930_7616            7616               0.0                0   \n",
       "2113889  20211001_7616            7616               0.0                0   \n",
       "2113890  20211004_7616            7616               0.0                0   \n",
       "\n",
       "         ad_Open  ad_High  ad_Low  ad_Close  ad_Volume  ad_Target  ...  \\\n",
       "2113886   1749.0   1751.0  1717.0    1721.0  2057900.0   0.010913  ...   \n",
       "2113887   1704.0   1746.0  1701.0    1741.0  1916800.0   0.003409  ...   \n",
       "2113888   1758.0   1774.0  1744.0    1760.0   998500.0  -0.009060  ...   \n",
       "2113889   1759.0   1766.0  1720.0    1766.0   950700.0  -0.002857  ...   \n",
       "2113890   1782.0   1789.0  1738.0    1750.0  1185600.0  -0.021777  ...   \n",
       "\n",
       "           margin  win_quarter_growth  rev_quarter_growth  margin_growth  \\\n",
       "2113886  1.828121                 0.0                 0.0            0.0   \n",
       "2113887  1.828121                 0.0                 0.0            0.0   \n",
       "2113888  1.828121                 0.0                 0.0            0.0   \n",
       "2113889  1.828121                 0.0                 0.0            0.0   \n",
       "2113890  1.828121                 0.0                 0.0            0.0   \n",
       "\n",
       "              Day_sin  Day_cos  Month_sin  Month_cos  Year_sin  Year_cos  \n",
       "2113886 -9.559842e-12      1.0   0.944179  -0.329433 -0.998390 -0.056728  \n",
       "2113887 -5.261303e-12      1.0   0.856538  -0.516084 -0.999218 -0.039545  \n",
       "2113888 -9.627644e-13      1.0   0.732477  -0.680792 -0.999750 -0.022351  \n",
       "2113889 -1.121614e-11      1.0   0.577271  -0.816552 -0.999987 -0.005150  \n",
       "2113890 -1.287244e-11      1.0  -0.004328  -0.999991 -0.998921  0.046442  \n",
       "\n",
       "[5 rows x 62 columns]"
      ]
     },
     "execution_count": 14,
     "metadata": {},
     "output_type": "execute_result"
    }
   ],
   "source": [
    "df_train.tail()"
   ]
  },
  {
   "cell_type": "code",
   "execution_count": 15,
   "metadata": {},
   "outputs": [
    {
     "data": {
      "text/html": [
       "<div>\n",
       "<style scoped>\n",
       "    .dataframe tbody tr th:only-of-type {\n",
       "        vertical-align: middle;\n",
       "    }\n",
       "\n",
       "    .dataframe tbody tr th {\n",
       "        vertical-align: top;\n",
       "    }\n",
       "\n",
       "    .dataframe thead th {\n",
       "        text-align: right;\n",
       "    }\n",
       "</style>\n",
       "<table border=\"1\" class=\"dataframe\">\n",
       "  <thead>\n",
       "    <tr style=\"text-align: right;\">\n",
       "      <th></th>\n",
       "      <th>RowId</th>\n",
       "      <th>SecuritiesCode</th>\n",
       "      <th>ExpectedDividend</th>\n",
       "      <th>SupervisionFlag</th>\n",
       "      <th>ad_Open</th>\n",
       "      <th>ad_High</th>\n",
       "      <th>ad_Low</th>\n",
       "      <th>ad_Close</th>\n",
       "      <th>ad_Volume</th>\n",
       "      <th>ad_Target</th>\n",
       "      <th>...</th>\n",
       "      <th>margin</th>\n",
       "      <th>win_quarter_growth</th>\n",
       "      <th>rev_quarter_growth</th>\n",
       "      <th>margin_growth</th>\n",
       "      <th>Day_sin</th>\n",
       "      <th>Day_cos</th>\n",
       "      <th>Month_sin</th>\n",
       "      <th>Month_cos</th>\n",
       "      <th>Year_sin</th>\n",
       "      <th>Year_cos</th>\n",
       "    </tr>\n",
       "  </thead>\n",
       "  <tbody>\n",
       "    <tr>\n",
       "      <th>2113891</th>\n",
       "      <td>20211005_7616</td>\n",
       "      <td>7616</td>\n",
       "      <td>0.0</td>\n",
       "      <td>0</td>\n",
       "      <td>1748.0</td>\n",
       "      <td>1764.0</td>\n",
       "      <td>1728.0</td>\n",
       "      <td>1745.0</td>\n",
       "      <td>811400.0</td>\n",
       "      <td>-0.042179</td>\n",
       "      <td>...</td>\n",
       "      <td>1.828121</td>\n",
       "      <td>0.0</td>\n",
       "      <td>0.0</td>\n",
       "      <td>0.0</td>\n",
       "      <td>-8.573902e-12</td>\n",
       "      <td>1.0</td>\n",
       "      <td>-0.209338</td>\n",
       "      <td>-0.977843</td>\n",
       "      <td>-0.997974</td>\n",
       "      <td>0.063618</td>\n",
       "    </tr>\n",
       "    <tr>\n",
       "      <th>2113892</th>\n",
       "      <td>20211006_7616</td>\n",
       "      <td>7616</td>\n",
       "      <td>0.0</td>\n",
       "      <td>0</td>\n",
       "      <td>1738.0</td>\n",
       "      <td>1748.0</td>\n",
       "      <td>1700.0</td>\n",
       "      <td>1707.0</td>\n",
       "      <td>968600.0</td>\n",
       "      <td>0.032416</td>\n",
       "      <td>...</td>\n",
       "      <td>1.828121</td>\n",
       "      <td>0.0</td>\n",
       "      <td>0.0</td>\n",
       "      <td>0.0</td>\n",
       "      <td>-4.275363e-12</td>\n",
       "      <td>1.0</td>\n",
       "      <td>-0.405447</td>\n",
       "      <td>-0.914118</td>\n",
       "      <td>-0.996732</td>\n",
       "      <td>0.080776</td>\n",
       "    </tr>\n",
       "  </tbody>\n",
       "</table>\n",
       "<p>2 rows × 62 columns</p>\n",
       "</div>"
      ],
      "text/plain": [
       "                 RowId  SecuritiesCode  ExpectedDividend  SupervisionFlag  \\\n",
       "2113891  20211005_7616            7616               0.0                0   \n",
       "2113892  20211006_7616            7616               0.0                0   \n",
       "\n",
       "         ad_Open  ad_High  ad_Low  ad_Close  ad_Volume  ad_Target  ...  \\\n",
       "2113891   1748.0   1764.0  1728.0    1745.0   811400.0  -0.042179  ...   \n",
       "2113892   1738.0   1748.0  1700.0    1707.0   968600.0   0.032416  ...   \n",
       "\n",
       "           margin  win_quarter_growth  rev_quarter_growth  margin_growth  \\\n",
       "2113891  1.828121                 0.0                 0.0            0.0   \n",
       "2113892  1.828121                 0.0                 0.0            0.0   \n",
       "\n",
       "              Day_sin  Day_cos  Month_sin  Month_cos  Year_sin  Year_cos  \n",
       "2113891 -8.573902e-12      1.0  -0.209338  -0.977843 -0.997974  0.063618  \n",
       "2113892 -4.275363e-12      1.0  -0.405447  -0.914118 -0.996732  0.080776  \n",
       "\n",
       "[2 rows x 62 columns]"
      ]
     },
     "execution_count": 15,
     "metadata": {},
     "output_type": "execute_result"
    }
   ],
   "source": [
    "df_val.head(2)"
   ]
  },
  {
   "cell_type": "code",
   "execution_count": 16,
   "metadata": {},
   "outputs": [
    {
     "data": {
      "text/html": [
       "<div>\n",
       "<style scoped>\n",
       "    .dataframe tbody tr th:only-of-type {\n",
       "        vertical-align: middle;\n",
       "    }\n",
       "\n",
       "    .dataframe tbody tr th {\n",
       "        vertical-align: top;\n",
       "    }\n",
       "\n",
       "    .dataframe thead th {\n",
       "        text-align: right;\n",
       "    }\n",
       "</style>\n",
       "<table border=\"1\" class=\"dataframe\">\n",
       "  <thead>\n",
       "    <tr style=\"text-align: right;\">\n",
       "      <th></th>\n",
       "      <th>N_missing</th>\n",
       "      <th>Percentage</th>\n",
       "    </tr>\n",
       "  </thead>\n",
       "  <tbody>\n",
       "  </tbody>\n",
       "</table>\n",
       "</div>"
      ],
      "text/plain": [
       "Empty DataFrame\n",
       "Columns: [N_missing, Percentage]\n",
       "Index: []"
      ]
     },
     "metadata": {},
     "output_type": "display_data"
    }
   ],
   "source": [
    "missingValues(df_train)"
   ]
  },
  {
   "cell_type": "code",
   "execution_count": 17,
   "metadata": {},
   "outputs": [
    {
     "data": {
      "text/html": [
       "<div>\n",
       "<style scoped>\n",
       "    .dataframe tbody tr th:only-of-type {\n",
       "        vertical-align: middle;\n",
       "    }\n",
       "\n",
       "    .dataframe tbody tr th {\n",
       "        vertical-align: top;\n",
       "    }\n",
       "\n",
       "    .dataframe thead th {\n",
       "        text-align: right;\n",
       "    }\n",
       "</style>\n",
       "<table border=\"1\" class=\"dataframe\">\n",
       "  <thead>\n",
       "    <tr style=\"text-align: right;\">\n",
       "      <th></th>\n",
       "      <th>N_missing</th>\n",
       "      <th>Percentage</th>\n",
       "    </tr>\n",
       "  </thead>\n",
       "  <tbody>\n",
       "  </tbody>\n",
       "</table>\n",
       "</div>"
      ],
      "text/plain": [
       "Empty DataFrame\n",
       "Columns: [N_missing, Percentage]\n",
       "Index: []"
      ]
     },
     "metadata": {},
     "output_type": "display_data"
    }
   ],
   "source": [
    "missingValues(df_val)"
   ]
  },
  {
   "cell_type": "code",
   "execution_count": 18,
   "metadata": {},
   "outputs": [
    {
     "data": {
      "text/html": [
       "<div>\n",
       "<style scoped>\n",
       "    .dataframe tbody tr th:only-of-type {\n",
       "        vertical-align: middle;\n",
       "    }\n",
       "\n",
       "    .dataframe tbody tr th {\n",
       "        vertical-align: top;\n",
       "    }\n",
       "\n",
       "    .dataframe thead th {\n",
       "        text-align: right;\n",
       "    }\n",
       "</style>\n",
       "<table border=\"1\" class=\"dataframe\">\n",
       "  <thead>\n",
       "    <tr style=\"text-align: right;\">\n",
       "      <th></th>\n",
       "      <th>N_missing</th>\n",
       "      <th>Percentage</th>\n",
       "    </tr>\n",
       "  </thead>\n",
       "  <tbody>\n",
       "  </tbody>\n",
       "</table>\n",
       "</div>"
      ],
      "text/plain": [
       "Empty DataFrame\n",
       "Columns: [N_missing, Percentage]\n",
       "Index: []"
      ]
     },
     "metadata": {},
     "output_type": "display_data"
    }
   ],
   "source": [
    "missingValues(df_test)"
   ]
  },
  {
   "cell_type": "markdown",
   "metadata": {},
   "source": [
    "## - Scaling"
   ]
  },
  {
   "cell_type": "code",
   "execution_count": 19,
   "metadata": {},
   "outputs": [
    {
     "data": {
      "text/plain": [
       "60"
      ]
     },
     "execution_count": 19,
     "metadata": {},
     "output_type": "execute_result"
    }
   ],
   "source": [
    "feat_not_to_scale = ['RowId', 'SecuritiesCode']\n",
    "feat_to_scale = [col for col in df_train.columns if col not in feat_not_to_scale]\n",
    "len(feat_to_scale)"
   ]
  },
  {
   "cell_type": "code",
   "execution_count": 20,
   "metadata": {},
   "outputs": [],
   "source": [
    "def scaling_df(df, feat_to_scale):\n",
    "    \"\"\"    for col in df.columns:\n",
    "        mean_df = df[col].mean()\n",
    "        std_df = df[col].std()\n",
    "        df[col] = (df[col] - mean_df) / std_df\"\"\"\n",
    "\n",
    "    scaler = StandardScaler()\n",
    "    df_scaled = scaler.fit_transform(df[feat_to_scale])\n",
    "    \n",
    "    df_scaled = pd.DataFrame(df_scaled)\n",
    "    df_scaled.columns = feat_to_scale\n",
    "    return df_scaled\n",
    "        \n"
   ]
  },
  {
   "cell_type": "code",
   "execution_count": 21,
   "metadata": {},
   "outputs": [],
   "source": [
    "df_train_scaled = scaling_df(df_train, feat_to_scale)\n",
    "df_val_scaled = scaling_df(df_val, feat_to_scale)\n",
    "df_test_scaled = scaling_df(df_test, feat_to_scale)"
   ]
  },
  {
   "cell_type": "code",
   "execution_count": 22,
   "metadata": {},
   "outputs": [
    {
     "name": "stdout",
     "output_type": "stream",
     "text": [
      "(1078, 60)\n",
      "(22, 60)\n",
      "(22, 60)\n"
     ]
    }
   ],
   "source": [
    "print(df_train_scaled.shape)\n",
    "print(df_val_scaled.shape)\n",
    "print(df_test_scaled.shape)\n"
   ]
  },
  {
   "cell_type": "code",
   "execution_count": null,
   "metadata": {},
   "outputs": [],
   "source": []
  },
  {
   "cell_type": "markdown",
   "metadata": {},
   "source": [
    "## - Window"
   ]
  },
  {
   "cell_type": "code",
   "execution_count": null,
   "metadata": {},
   "outputs": [],
   "source": []
  },
  {
   "cell_type": "markdown",
   "metadata": {},
   "source": [
    "### - test"
   ]
  },
  {
   "cell_type": "code",
   "execution_count": 23,
   "metadata": {},
   "outputs": [
    {
     "data": {
      "text/plain": [
       "(1078, 5)"
      ]
     },
     "execution_count": 23,
     "metadata": {},
     "output_type": "execute_result"
    }
   ],
   "source": [
    "# Test\n",
    "test_cols = [x for x in df_train_scaled.columns[5:10]]\n",
    "#df_train_scaled\n",
    "train = df_train_scaled.loc[:,test_cols]\n",
    "train.shape"
   ]
  },
  {
   "cell_type": "code",
   "execution_count": 24,
   "metadata": {},
   "outputs": [
    {
     "data": {
      "text/html": [
       "<div>\n",
       "<style scoped>\n",
       "    .dataframe tbody tr th:only-of-type {\n",
       "        vertical-align: middle;\n",
       "    }\n",
       "\n",
       "    .dataframe tbody tr th {\n",
       "        vertical-align: top;\n",
       "    }\n",
       "\n",
       "    .dataframe thead th {\n",
       "        text-align: right;\n",
       "    }\n",
       "</style>\n",
       "<table border=\"1\" class=\"dataframe\">\n",
       "  <thead>\n",
       "    <tr style=\"text-align: right;\">\n",
       "      <th></th>\n",
       "      <th>ad_Close</th>\n",
       "      <th>ad_Volume</th>\n",
       "      <th>ad_Target</th>\n",
       "      <th>ad_Close_lag1</th>\n",
       "      <th>ad_Close_sma10</th>\n",
       "    </tr>\n",
       "  </thead>\n",
       "  <tbody>\n",
       "    <tr>\n",
       "      <th>0</th>\n",
       "      <td>-0.596295</td>\n",
       "      <td>-0.415842</td>\n",
       "      <td>-0.100469</td>\n",
       "      <td>-0.620077</td>\n",
       "      <td>-0.681983</td>\n",
       "    </tr>\n",
       "    <tr>\n",
       "      <th>1</th>\n",
       "      <td>-0.464958</td>\n",
       "      <td>0.773008</td>\n",
       "      <td>0.018740</td>\n",
       "      <td>-0.596619</td>\n",
       "      <td>-0.659956</td>\n",
       "    </tr>\n",
       "    <tr>\n",
       "      <th>2</th>\n",
       "      <td>-0.474340</td>\n",
       "      <td>-0.331256</td>\n",
       "      <td>-0.267702</td>\n",
       "      <td>-0.465259</td>\n",
       "      <td>-0.639824</td>\n",
       "    </tr>\n",
       "  </tbody>\n",
       "</table>\n",
       "</div>"
      ],
      "text/plain": [
       "   ad_Close  ad_Volume  ad_Target  ad_Close_lag1  ad_Close_sma10\n",
       "0 -0.596295  -0.415842  -0.100469      -0.620077       -0.681983\n",
       "1 -0.464958   0.773008   0.018740      -0.596619       -0.659956\n",
       "2 -0.474340  -0.331256  -0.267702      -0.465259       -0.639824"
      ]
     },
     "execution_count": 24,
     "metadata": {},
     "output_type": "execute_result"
    }
   ],
   "source": [
    "train[:3] # slice observations"
   ]
  },
  {
   "cell_type": "code",
   "execution_count": 25,
   "metadata": {},
   "outputs": [
    {
     "data": {
      "text/html": [
       "<div>\n",
       "<style scoped>\n",
       "    .dataframe tbody tr th:only-of-type {\n",
       "        vertical-align: middle;\n",
       "    }\n",
       "\n",
       "    .dataframe tbody tr th {\n",
       "        vertical-align: top;\n",
       "    }\n",
       "\n",
       "    .dataframe thead th {\n",
       "        text-align: right;\n",
       "    }\n",
       "</style>\n",
       "<table border=\"1\" class=\"dataframe\">\n",
       "  <thead>\n",
       "    <tr style=\"text-align: right;\">\n",
       "      <th></th>\n",
       "      <th>ad_Close</th>\n",
       "      <th>ad_Volume</th>\n",
       "      <th>ad_Target</th>\n",
       "      <th>ad_Close_lag1</th>\n",
       "      <th>ad_Close_sma10</th>\n",
       "    </tr>\n",
       "  </thead>\n",
       "  <tbody>\n",
       "    <tr>\n",
       "      <th>1075</th>\n",
       "      <td>-0.858967</td>\n",
       "      <td>1.358710</td>\n",
       "      <td>-0.421432</td>\n",
       "      <td>-0.903909</td>\n",
       "      <td>-0.924986</td>\n",
       "    </tr>\n",
       "    <tr>\n",
       "      <th>1076</th>\n",
       "      <td>-0.844895</td>\n",
       "      <td>1.253142</td>\n",
       "      <td>-0.136422</td>\n",
       "      <td>-0.859341</td>\n",
       "      <td>-0.926407</td>\n",
       "    </tr>\n",
       "    <tr>\n",
       "      <th>1077</th>\n",
       "      <td>-0.882419</td>\n",
       "      <td>1.771925</td>\n",
       "      <td>-1.005730</td>\n",
       "      <td>-0.845266</td>\n",
       "      <td>-0.923802</td>\n",
       "    </tr>\n",
       "  </tbody>\n",
       "</table>\n",
       "</div>"
      ],
      "text/plain": [
       "      ad_Close  ad_Volume  ad_Target  ad_Close_lag1  ad_Close_sma10\n",
       "1075 -0.858967   1.358710  -0.421432      -0.903909       -0.924986\n",
       "1076 -0.844895   1.253142  -0.136422      -0.859341       -0.926407\n",
       "1077 -0.882419   1.771925  -1.005730      -0.845266       -0.923802"
      ]
     },
     "execution_count": 25,
     "metadata": {},
     "output_type": "execute_result"
    }
   ],
   "source": [
    "train[-3:] # slice observations last 3"
   ]
  },
  {
   "cell_type": "code",
   "execution_count": 26,
   "metadata": {},
   "outputs": [],
   "source": [
    "column_indices = {name: i for i, name in\n",
    "                           enumerate(train.columns)}\n",
    "a= column_indices.get(1, 'error name not in dict ')\n"
   ]
  },
  {
   "cell_type": "code",
   "execution_count": 27,
   "metadata": {},
   "outputs": [
    {
     "data": {
      "text/html": [
       "<div>\n",
       "<style scoped>\n",
       "    .dataframe tbody tr th:only-of-type {\n",
       "        vertical-align: middle;\n",
       "    }\n",
       "\n",
       "    .dataframe tbody tr th {\n",
       "        vertical-align: top;\n",
       "    }\n",
       "\n",
       "    .dataframe thead th {\n",
       "        text-align: right;\n",
       "    }\n",
       "</style>\n",
       "<table border=\"1\" class=\"dataframe\">\n",
       "  <thead>\n",
       "    <tr style=\"text-align: right;\">\n",
       "      <th></th>\n",
       "      <th>ad_Close</th>\n",
       "      <th>ad_Volume</th>\n",
       "      <th>ad_Target</th>\n",
       "      <th>ad_Close_lag1</th>\n",
       "      <th>ad_Close_sma10</th>\n",
       "    </tr>\n",
       "  </thead>\n",
       "  <tbody>\n",
       "    <tr>\n",
       "      <th>3</th>\n",
       "      <td>-0.471994</td>\n",
       "      <td>-0.444995</td>\n",
       "      <td>-0.461261</td>\n",
       "      <td>-0.474642</td>\n",
       "      <td>-0.618745</td>\n",
       "    </tr>\n",
       "    <tr>\n",
       "      <th>4</th>\n",
       "      <td>-0.497792</td>\n",
       "      <td>-0.359304</td>\n",
       "      <td>-0.441588</td>\n",
       "      <td>-0.472296</td>\n",
       "      <td>-0.597429</td>\n",
       "    </tr>\n",
       "    <tr>\n",
       "      <th>5</th>\n",
       "      <td>-0.542353</td>\n",
       "      <td>-0.448749</td>\n",
       "      <td>0.117256</td>\n",
       "      <td>-0.498099</td>\n",
       "      <td>-0.586297</td>\n",
       "    </tr>\n",
       "  </tbody>\n",
       "</table>\n",
       "</div>"
      ],
      "text/plain": [
       "   ad_Close  ad_Volume  ad_Target  ad_Close_lag1  ad_Close_sma10\n",
       "3 -0.471994  -0.444995  -0.461261      -0.474642       -0.618745\n",
       "4 -0.497792  -0.359304  -0.441588      -0.472296       -0.597429\n",
       "5 -0.542353  -0.448749   0.117256      -0.498099       -0.586297"
      ]
     },
     "execution_count": 27,
     "metadata": {},
     "output_type": "execute_result"
    }
   ],
   "source": [
    "train.loc[3:5]"
   ]
  },
  {
   "cell_type": "code",
   "execution_count": 28,
   "metadata": {},
   "outputs": [
    {
     "data": {
      "text/html": [
       "<div>\n",
       "<style scoped>\n",
       "    .dataframe tbody tr th:only-of-type {\n",
       "        vertical-align: middle;\n",
       "    }\n",
       "\n",
       "    .dataframe tbody tr th {\n",
       "        vertical-align: top;\n",
       "    }\n",
       "\n",
       "    .dataframe thead th {\n",
       "        text-align: right;\n",
       "    }\n",
       "</style>\n",
       "<table border=\"1\" class=\"dataframe\">\n",
       "  <thead>\n",
       "    <tr style=\"text-align: right;\">\n",
       "      <th></th>\n",
       "      <th>ad_Close</th>\n",
       "      <th>ad_Volume</th>\n",
       "      <th>ad_Target</th>\n",
       "      <th>ad_Close_lag1</th>\n",
       "      <th>ad_Close_sma10</th>\n",
       "    </tr>\n",
       "  </thead>\n",
       "  <tbody>\n",
       "    <tr>\n",
       "      <th>1</th>\n",
       "      <td>-0.464958</td>\n",
       "      <td>0.773008</td>\n",
       "      <td>0.018740</td>\n",
       "      <td>-0.596619</td>\n",
       "      <td>-0.659956</td>\n",
       "    </tr>\n",
       "    <tr>\n",
       "      <th>2</th>\n",
       "      <td>-0.474340</td>\n",
       "      <td>-0.331256</td>\n",
       "      <td>-0.267702</td>\n",
       "      <td>-0.465259</td>\n",
       "      <td>-0.639824</td>\n",
       "    </tr>\n",
       "  </tbody>\n",
       "</table>\n",
       "</div>"
      ],
      "text/plain": [
       "   ad_Close  ad_Volume  ad_Target  ad_Close_lag1  ad_Close_sma10\n",
       "1 -0.464958   0.773008   0.018740      -0.596619       -0.659956\n",
       "2 -0.474340  -0.331256  -0.267702      -0.465259       -0.639824"
      ]
     },
     "execution_count": 28,
     "metadata": {},
     "output_type": "execute_result"
    }
   ],
   "source": [
    "input1 = train.iloc[1:3,0:]  # von 0:22 object   ,   and ab 0: column\n",
    "input1"
   ]
  },
  {
   "cell_type": "code",
   "execution_count": 29,
   "metadata": {},
   "outputs": [
    {
     "data": {
      "text/plain": [
       "ad_Close         -0.471994\n",
       "ad_Volume        -0.444995\n",
       "ad_Target        -0.461261\n",
       "ad_Close_lag1    -0.474642\n",
       "ad_Close_sma10   -0.618745\n",
       "Name: 3, dtype: float64"
      ]
     },
     "execution_count": 29,
     "metadata": {},
     "output_type": "execute_result"
    }
   ],
   "source": [
    "label = train.iloc[3,0:]\n",
    "label"
   ]
  },
  {
   "cell_type": "code",
   "execution_count": 30,
   "metadata": {},
   "outputs": [],
   "source": [
    "windowsize=22\n",
    "inputs = train.iloc[0:windowsize,0:] \n",
    "label = train.iloc[windowsize,0:]"
   ]
  },
  {
   "cell_type": "code",
   "execution_count": 31,
   "metadata": {},
   "outputs": [
    {
     "data": {
      "text/plain": [
       "int"
      ]
     },
     "execution_count": 31,
     "metadata": {},
     "output_type": "execute_result"
    }
   ],
   "source": [
    "type(len(train))"
   ]
  },
  {
   "cell_type": "code",
   "execution_count": 32,
   "metadata": {},
   "outputs": [],
   "source": [
    "def slice_windows(df, windowsize=22):\n",
    "    s_inputs = list()\n",
    "    s_labels = list()\n",
    "    # iterate over observations\n",
    "    for i in range(0, len(df)-windowsize):\n",
    "        # slice inputs\n",
    "        input = df.iloc[i:windowsize + i ,0:]\n",
    "        s_inputs.append(input) \n",
    "        # slice target \n",
    "        label = df.iloc[windowsize + i,0:]\n",
    "        s_labels.append(label)\n",
    "\n",
    "    return s_labels, s_inputs\n"
   ]
  },
  {
   "cell_type": "code",
   "execution_count": 33,
   "metadata": {},
   "outputs": [],
   "source": [
    "label_slices, input_slices = slice_windows(train)"
   ]
  },
  {
   "cell_type": "code",
   "execution_count": 34,
   "metadata": {},
   "outputs": [
    {
     "data": {
      "text/plain": [
       "1056"
      ]
     },
     "execution_count": 34,
     "metadata": {},
     "output_type": "execute_result"
    }
   ],
   "source": [
    "len(label_slices)"
   ]
  },
  {
   "cell_type": "code",
   "execution_count": 35,
   "metadata": {},
   "outputs": [
    {
     "data": {
      "text/plain": [
       "-0.6056756466879805"
      ]
     },
     "execution_count": 35,
     "metadata": {},
     "output_type": "execute_result"
    }
   ],
   "source": [
    "label_slices[0][0] # first label"
   ]
  },
  {
   "cell_type": "code",
   "execution_count": 36,
   "metadata": {},
   "outputs": [
    {
     "data": {
      "text/plain": [
       "-0.5962945011667856"
      ]
     },
     "execution_count": 36,
     "metadata": {},
     "output_type": "execute_result"
    }
   ],
   "source": [
    "input_slices[0].iloc[0][0] # first close"
   ]
  },
  {
   "cell_type": "code",
   "execution_count": 37,
   "metadata": {},
   "outputs": [
    {
     "data": {
      "text/html": [
       "<div>\n",
       "<style scoped>\n",
       "    .dataframe tbody tr th:only-of-type {\n",
       "        vertical-align: middle;\n",
       "    }\n",
       "\n",
       "    .dataframe tbody tr th {\n",
       "        vertical-align: top;\n",
       "    }\n",
       "\n",
       "    .dataframe thead th {\n",
       "        text-align: right;\n",
       "    }\n",
       "</style>\n",
       "<table border=\"1\" class=\"dataframe\">\n",
       "  <thead>\n",
       "    <tr style=\"text-align: right;\">\n",
       "      <th></th>\n",
       "      <th>ad_Close</th>\n",
       "    </tr>\n",
       "  </thead>\n",
       "  <tbody>\n",
       "    <tr>\n",
       "      <th>0</th>\n",
       "      <td>-0.596295</td>\n",
       "    </tr>\n",
       "    <tr>\n",
       "      <th>1</th>\n",
       "      <td>-0.464958</td>\n",
       "    </tr>\n",
       "    <tr>\n",
       "      <th>2</th>\n",
       "      <td>-0.474340</td>\n",
       "    </tr>\n",
       "    <tr>\n",
       "      <th>3</th>\n",
       "      <td>-0.471994</td>\n",
       "    </tr>\n",
       "    <tr>\n",
       "      <th>4</th>\n",
       "      <td>-0.497792</td>\n",
       "    </tr>\n",
       "    <tr>\n",
       "      <th>5</th>\n",
       "      <td>-0.542353</td>\n",
       "    </tr>\n",
       "    <tr>\n",
       "      <th>6</th>\n",
       "      <td>-0.584568</td>\n",
       "    </tr>\n",
       "    <tr>\n",
       "      <th>7</th>\n",
       "      <td>-0.572842</td>\n",
       "    </tr>\n",
       "    <tr>\n",
       "      <th>8</th>\n",
       "      <td>-0.563460</td>\n",
       "    </tr>\n",
       "    <tr>\n",
       "      <th>9</th>\n",
       "      <td>-0.523591</td>\n",
       "    </tr>\n",
       "    <tr>\n",
       "      <th>10</th>\n",
       "      <td>-0.591604</td>\n",
       "    </tr>\n",
       "    <tr>\n",
       "      <th>11</th>\n",
       "      <td>-0.600985</td>\n",
       "    </tr>\n",
       "    <tr>\n",
       "      <th>12</th>\n",
       "      <td>-0.596295</td>\n",
       "    </tr>\n",
       "    <tr>\n",
       "      <th>13</th>\n",
       "      <td>-0.638510</td>\n",
       "    </tr>\n",
       "    <tr>\n",
       "      <th>14</th>\n",
       "      <td>-0.589259</td>\n",
       "    </tr>\n",
       "    <tr>\n",
       "      <th>15</th>\n",
       "      <td>-0.603330</td>\n",
       "    </tr>\n",
       "    <tr>\n",
       "      <th>16</th>\n",
       "      <td>-0.643200</td>\n",
       "    </tr>\n",
       "    <tr>\n",
       "      <th>17</th>\n",
       "      <td>-0.586913</td>\n",
       "    </tr>\n",
       "    <tr>\n",
       "      <th>18</th>\n",
       "      <td>-0.547043</td>\n",
       "    </tr>\n",
       "    <tr>\n",
       "      <th>19</th>\n",
       "      <td>-0.511864</td>\n",
       "    </tr>\n",
       "    <tr>\n",
       "      <th>20</th>\n",
       "      <td>-0.582223</td>\n",
       "    </tr>\n",
       "    <tr>\n",
       "      <th>21</th>\n",
       "      <td>-0.593949</td>\n",
       "    </tr>\n",
       "  </tbody>\n",
       "</table>\n",
       "</div>"
      ],
      "text/plain": [
       "    ad_Close\n",
       "0  -0.596295\n",
       "1  -0.464958\n",
       "2  -0.474340\n",
       "3  -0.471994\n",
       "4  -0.497792\n",
       "5  -0.542353\n",
       "6  -0.584568\n",
       "7  -0.572842\n",
       "8  -0.563460\n",
       "9  -0.523591\n",
       "10 -0.591604\n",
       "11 -0.600985\n",
       "12 -0.596295\n",
       "13 -0.638510\n",
       "14 -0.589259\n",
       "15 -0.603330\n",
       "16 -0.643200\n",
       "17 -0.586913\n",
       "18 -0.547043\n",
       "19 -0.511864\n",
       "20 -0.582223\n",
       "21 -0.593949"
      ]
     },
     "execution_count": 37,
     "metadata": {},
     "output_type": "execute_result"
    }
   ],
   "source": [
    "input_slices[0].iloc[:,0:1] # only ad_close"
   ]
  },
  {
   "cell_type": "code",
   "execution_count": 38,
   "metadata": {},
   "outputs": [],
   "source": [
    "# extract close:\n",
    "close_label_list = list()\n",
    "for i in range(0,len(label_slices)):\n",
    "    close_label_list.append(label_slices[i][0])#\n",
    "\n",
    "close_input_list = list()\n",
    "for i in range(0,len(input_slices)):\n",
    "    close_input_list.append(input_slices[i].iloc[0][0])"
   ]
  },
  {
   "cell_type": "code",
   "execution_count": 39,
   "metadata": {},
   "outputs": [
    {
     "data": {
      "text/plain": [
       "1056"
      ]
     },
     "execution_count": 39,
     "metadata": {},
     "output_type": "execute_result"
    }
   ],
   "source": [
    "len(close_input_list)"
   ]
  },
  {
   "cell_type": "code",
   "execution_count": 40,
   "metadata": {},
   "outputs": [
    {
     "data": {
      "text/plain": [
       "[<matplotlib.lines.Line2D at 0x28b35a130>]"
      ]
     },
     "execution_count": 40,
     "metadata": {},
     "output_type": "execute_result"
    },
    {
     "data": {
      "image/png": "[encoded data removed]",
      "text/plain": [
       "<Figure size 1800x360 with 1 Axes>"
      ]
     },
     "metadata": {
      "needs_background": "light"
     },
     "output_type": "display_data"
    }
   ],
   "source": [
    "plt.figure(figsize=(25,5))\n",
    "plt.plot(close_input_list)\n",
    "plt.plot(close_label_list, color='red')"
   ]
  },
  {
   "cell_type": "code",
   "execution_count": 41,
   "metadata": {},
   "outputs": [
    {
     "data": {
      "text/plain": [
       "-0.6056756466879805"
      ]
     },
     "execution_count": 41,
     "metadata": {},
     "output_type": "execute_result"
    }
   ],
   "source": [
    "label_slices[0][0]"
   ]
  },
  {
   "cell_type": "code",
   "execution_count": 42,
   "metadata": {},
   "outputs": [
    {
     "data": {
      "text/plain": [
       "<matplotlib.collections.PathCollection at 0x28d294880>"
      ]
     },
     "execution_count": 42,
     "metadata": {},
     "output_type": "execute_result"
    },
    {
     "data": {
      "image/png": "[encoded data removed]",
      "text/plain": [
       "<Figure size 1800x360 with 1 Axes>"
      ]
     },
     "metadata": {
      "needs_background": "light"
     },
     "output_type": "display_data"
    }
   ],
   "source": [
    "\n",
    "plt.figure(figsize=(25,5))\n",
    "plt.plot(input_slices[0].iloc[:,0:1])\n",
    "plt.scatter((len(input_slices[0].iloc[:,0:1])+1), label_slices[0][0], color='red',s=64)"
   ]
  },
  {
   "cell_type": "code",
   "execution_count": 43,
   "metadata": {},
   "outputs": [
    {
     "name": "stdout",
     "output_type": "stream",
     "text": [
      "Metal device set to: Apple M1\n",
      "\n",
      "systemMemory: 8.00 GB\n",
      "maxCacheSize: 2.67 GB\n",
      "\n"
     ]
    },
    {
     "name": "stderr",
     "output_type": "stream",
     "text": [
      "2022-04-27 10:26:22.538092: I tensorflow/core/common_runtime/pluggable_device/pluggable_device_factory.cc:305] Could not identify NUMA node of platform GPU ID 0, defaulting to 0. Your kernel may not have been built with NUMA support.\n",
      "2022-04-27 10:26:22.539064: I tensorflow/core/common_runtime/pluggable_device/pluggable_device_factory.cc:271] Created TensorFlow device (/job:localhost/replica:0/task:0/device:GPU:0 with 0 MB memory) -> physical PluggableDevice (device: 0, name: METAL, pci bus id: <undefined>)\n"
     ]
    }
   ],
   "source": [
    "input_stack = tf.stack(input_slices) #example_window\n",
    "label_stack = tf.stack(label_slices) #example_window\n"
   ]
  },
  {
   "cell_type": "code",
   "execution_count": 44,
   "metadata": {},
   "outputs": [
    {
     "data": {
      "text/plain": [
       "<tf.Tensor: shape=(1056, 5), dtype=float64, numpy=\n",
       "array([[-0.60567565, -0.57927325, -0.15131778, -0.59427359, -0.59671822],\n",
       "       [-0.56346049, -0.43461469,  0.0437394 , -0.60600222, -0.58913916],\n",
       "       [-0.57753221, -0.63316133,  0.09251644, -0.56377917, -0.58795493],\n",
       "       ...,\n",
       "       [-0.85896658,  1.35870979, -0.42143207, -0.90390932, -0.92498635],\n",
       "       [-0.84489486,  1.25314217, -0.13642172, -0.85934054, -0.92640743],\n",
       "       [-0.88241944,  1.77192532, -1.00572985, -0.84526619, -0.92380212]])>"
      ]
     },
     "execution_count": 44,
     "metadata": {},
     "output_type": "execute_result"
    }
   ],
   "source": [
    "label_stack"
   ]
  },
  {
   "cell_type": "code",
   "execution_count": 45,
   "metadata": {},
   "outputs": [],
   "source": [
    "#label_slices.shape"
   ]
  },
  {
   "cell_type": "code",
   "execution_count": 57,
   "metadata": {},
   "outputs": [],
   "source": [
    "input_array = np.array(input_slices)\n",
    "label_array = np.array(label_slices)"
   ]
  },
  {
   "cell_type": "code",
   "execution_count": 75,
   "metadata": {},
   "outputs": [
    {
     "data": {
      "text/plain": [
       "array([[-0.60567565, -0.57927325, -0.15131778, -0.59427359, -0.59671822],\n",
       "       [-0.56346049, -0.43461469,  0.0437394 , -0.60600222, -0.58913916]])"
      ]
     },
     "execution_count": 75,
     "metadata": {},
     "output_type": "execute_result"
    }
   ],
   "source": [
    "label_array[0:2]"
   ]
  },
  {
   "cell_type": "code",
   "execution_count": 76,
   "metadata": {},
   "outputs": [
    {
     "data": {
      "text/plain": [
       "array([[-0.92380212, -0.60567565, -0.57927325, -0.15131778, -0.59427359],\n",
       "       [-0.59671822, -0.56346049, -0.43461469,  0.0437394 , -0.60600222]])"
      ]
     },
     "execution_count": 76,
     "metadata": {},
     "output_type": "execute_result"
    }
   ],
   "source": [
    "y_pred = np.roll(label_array,1)\n",
    "y_pred[0:2]"
   ]
  },
  {
   "cell_type": "code",
   "execution_count": 67,
   "metadata": {},
   "outputs": [
    {
     "data": {
      "text/plain": [
       "array([-0.60567565, -0.57927325, -0.15131778, ...,  1.77192532,\n",
       "       -1.00572985, -0.84526619])"
      ]
     },
     "execution_count": 67,
     "metadata": {},
     "output_type": "execute_result"
    }
   ],
   "source": [
    "np.delete(y_pred, 0)"
   ]
  },
  {
   "cell_type": "code",
   "execution_count": 86,
   "metadata": {},
   "outputs": [
    {
     "data": {
      "text/plain": [
       "array([[-0.60567565, -0.57927325, -0.15131778, -0.59427359, -0.59671822],\n",
       "       [-0.56346049, -0.43461469,  0.0437394 , -0.60600222, -0.58913916],\n",
       "       [-0.57753221, -0.63316133,  0.09251644, -0.56377917, -0.58795493]])"
      ]
     },
     "execution_count": 86,
     "metadata": {},
     "output_type": "execute_result"
    }
   ],
   "source": [
    "np.array(pd.DataFrame(label_array).head(3))"
   ]
  },
  {
   "cell_type": "code",
   "execution_count": 87,
   "metadata": {},
   "outputs": [
    {
     "data": {
      "text/plain": [
       "array([[        nan,         nan,         nan,         nan,         nan],\n",
       "       [-0.60567565, -0.57927325, -0.15131778, -0.59427359, -0.59671822],\n",
       "       [-0.56346049, -0.43461469,  0.0437394 , -0.60600222, -0.58913916]])"
      ]
     },
     "execution_count": 87,
     "metadata": {},
     "output_type": "execute_result"
    }
   ],
   "source": [
    "np.array(pd.DataFrame(label_array).shift(1).head(3))"
   ]
  },
  {
   "cell_type": "markdown",
   "metadata": {},
   "source": [
    "# Baseline Model"
   ]
  },
  {
   "cell_type": "code",
   "execution_count": 101,
   "metadata": {},
   "outputs": [],
   "source": [
    "def basline_array(X, y):\n",
    "    assert len(X)== len(y)\n",
    "    \n",
    "    y_pred = np.array(pd.DataFrame(y).shift(1))\n",
    "\n",
    "    #test_base = pd.DataFrame()\n",
    "\n",
    "    #for i in tqdm(test_data.SecuritiesCode.unique()):\n",
    "        #df_selected = test_data.query('SecuritiesCode == @i').sort_values('Date')\n",
    "        #df_selected_train = train_data.query('SecuritiesCode == @i').sort_values('Date')\n",
    "    #df_selected['base_pred'] = df_selected.ad_Target.shift(1)\n",
    "    #df_selected = df_selected.fillna(df_selected_train['ad_Target'].iloc[-1])\n",
    "\n",
    "        #test_base = pd.concat([test_base, df_selected])\n",
    "\n",
    "\n",
    "    return y_pred\n",
    "\n",
    "def RSME_array(y_train, y_pred):\n",
    "    # rsme close\n",
    "    mean = sum(y_train[1:,0]) / (len(y_train[1:,0]))\n",
    "    rsme = mean_squared_error(y_pred=y_pred[1:,0], y_true=y_train[1:,0], squared=False)\n",
    "    return mean, rsme, rsme/mean\n",
    "    \n"
   ]
  },
  {
   "cell_type": "code",
   "execution_count": 102,
   "metadata": {},
   "outputs": [],
   "source": [
    "y_pred = basline_array(input_array, label_array)"
   ]
  },
  {
   "cell_type": "code",
   "execution_count": 103,
   "metadata": {},
   "outputs": [
    {
     "name": "stdout",
     "output_type": "stream",
     "text": [
      "0.012306203010600024\n",
      "0.10138048959178018\n",
      "8.238161641284112\n"
     ]
    }
   ],
   "source": [
    "a, b, c = RSME_array(label_array, y_pred)\n",
    "print(a)\n",
    "print(b)\n",
    "print(c)"
   ]
  },
  {
   "cell_type": "code",
   "execution_count": 77,
   "metadata": {},
   "outputs": [],
   "source": [
    "class Baseline(tf.keras.Model):\n",
    "  def __init__(self, label_index=None):\n",
    "    super().__init__()\n",
    "    self.label_index = label_index\n",
    "\n",
    "  def call(self, inputs):\n",
    "    if self.label_index is None:\n",
    "      return inputs\n",
    "    result = inputs[:, :, self.label_index]\n",
    "    return result[:, :, tf.newaxis]\n"
   ]
  },
  {
   "cell_type": "code",
   "execution_count": 80,
   "metadata": {},
   "outputs": [
    {
     "name": "stdout",
     "output_type": "stream",
     "text": [
      "33/33 [==============================] - 0s 2ms/step - loss: 0.0000e+00 - mean_absolute_error: 0.0000e+00\n"
     ]
    },
    {
     "name": "stderr",
     "output_type": "stream",
     "text": [
      "2022-04-27 11:28:05.105469: W tensorflow/core/platform/profile_utils/cpu_utils.cc:128] Failed to get CPU frequency: 0 Hz\n",
      "2022-04-27 11:28:05.212181: I tensorflow/core/grappler/optimizers/custom_graph_optimizer_registry.cc:113] Plugin optimizer for device_type GPU is enabled.\n"
     ]
    }
   ],
   "source": [
    "baseline = Baseline()\n",
    "baseline.compile(loss=tf.losses.MeanSquaredError(),\n",
    "                 metrics=[tf.metrics.MeanAbsoluteError()])\n",
    "val_performance = {}\n",
    "performance = {}\n",
    "performance['Baseline'] = baseline.evaluate(input_array)"
   ]
  },
  {
   "cell_type": "code",
   "execution_count": 81,
   "metadata": {},
   "outputs": [
    {
     "data": {
      "text/plain": [
       "{'Baseline': [0.0, 0.0]}"
      ]
     },
     "execution_count": 81,
     "metadata": {},
     "output_type": "execute_result"
    }
   ],
   "source": [
    "val_performance"
   ]
  },
  {
   "cell_type": "markdown",
   "metadata": {},
   "source": [
    "# TENSORFLOW"
   ]
  },
  {
   "cell_type": "markdown",
   "metadata": {},
   "source": [
    "### - create window"
   ]
  },
  {
   "cell_type": "markdown",
   "metadata": {},
   "source": [
    "### - split window"
   ]
  },
  {
   "cell_type": "code",
   "execution_count": 47,
   "metadata": {},
   "outputs": [
    {
     "data": {
      "text/html": [
       "<div>\n",
       "<style scoped>\n",
       "    .dataframe tbody tr th:only-of-type {\n",
       "        vertical-align: middle;\n",
       "    }\n",
       "\n",
       "    .dataframe tbody tr th {\n",
       "        vertical-align: top;\n",
       "    }\n",
       "\n",
       "    .dataframe thead th {\n",
       "        text-align: right;\n",
       "    }\n",
       "</style>\n",
       "<table border=\"1\" class=\"dataframe\">\n",
       "  <thead>\n",
       "    <tr style=\"text-align: right;\">\n",
       "      <th></th>\n",
       "      <th>count</th>\n",
       "      <th>mean</th>\n",
       "      <th>std</th>\n",
       "      <th>min</th>\n",
       "      <th>25%</th>\n",
       "      <th>50%</th>\n",
       "      <th>75%</th>\n",
       "      <th>max</th>\n",
       "    </tr>\n",
       "  </thead>\n",
       "  <tbody>\n",
       "    <tr>\n",
       "      <th>ExpectedDividend</th>\n",
       "      <td>1078.0</td>\n",
       "      <td>2.471740e-18</td>\n",
       "      <td>1.000464</td>\n",
       "      <td>-0.061028</td>\n",
       "      <td>-0.061028</td>\n",
       "      <td>-0.061028</td>\n",
       "      <td>-0.061028</td>\n",
       "      <td>16.385970</td>\n",
       "    </tr>\n",
       "    <tr>\n",
       "      <th>SupervisionFlag</th>\n",
       "      <td>1078.0</td>\n",
       "      <td>0.000000e+00</td>\n",
       "      <td>0.000000</td>\n",
       "      <td>0.000000</td>\n",
       "      <td>0.000000</td>\n",
       "      <td>0.000000</td>\n",
       "      <td>0.000000</td>\n",
       "      <td>0.000000</td>\n",
       "    </tr>\n",
       "    <tr>\n",
       "      <th>ad_Open</th>\n",
       "      <td>1078.0</td>\n",
       "      <td>-4.745740e-16</td>\n",
       "      <td>1.000464</td>\n",
       "      <td>-2.218312</td>\n",
       "      <td>-0.600071</td>\n",
       "      <td>-0.085656</td>\n",
       "      <td>0.499653</td>\n",
       "      <td>2.480562</td>\n",
       "    </tr>\n",
       "    <tr>\n",
       "      <th>ad_High</th>\n",
       "      <td>1078.0</td>\n",
       "      <td>-1.581913e-16</td>\n",
       "      <td>1.000464</td>\n",
       "      <td>-2.206193</td>\n",
       "      <td>-0.612193</td>\n",
       "      <td>-0.101175</td>\n",
       "      <td>0.480166</td>\n",
       "      <td>2.519548</td>\n",
       "    </tr>\n",
       "    <tr>\n",
       "      <th>ad_Low</th>\n",
       "      <td>1078.0</td>\n",
       "      <td>-1.054609e-16</td>\n",
       "      <td>1.000464</td>\n",
       "      <td>-2.203597</td>\n",
       "      <td>-0.590058</td>\n",
       "      <td>-0.084986</td>\n",
       "      <td>0.481537</td>\n",
       "      <td>2.450323</td>\n",
       "    </tr>\n",
       "    <tr>\n",
       "      <th>ad_Close</th>\n",
       "      <td>1078.0</td>\n",
       "      <td>5.273044e-17</td>\n",
       "      <td>1.000464</td>\n",
       "      <td>-2.221578</td>\n",
       "      <td>-0.605089</td>\n",
       "      <td>-0.083849</td>\n",
       "      <td>0.484296</td>\n",
       "      <td>2.459614</td>\n",
       "    </tr>\n",
       "    <tr>\n",
       "      <th>ad_Volume</th>\n",
       "      <td>1078.0</td>\n",
       "      <td>2.636522e-17</td>\n",
       "      <td>1.000464</td>\n",
       "      <td>-0.846505</td>\n",
       "      <td>-0.480331</td>\n",
       "      <td>-0.331697</td>\n",
       "      <td>0.064623</td>\n",
       "      <td>15.686091</td>\n",
       "    </tr>\n",
       "    <tr>\n",
       "      <th>ad_Target</th>\n",
       "      <td>1078.0</td>\n",
       "      <td>-1.153478e-17</td>\n",
       "      <td>1.000464</td>\n",
       "      <td>-4.866146</td>\n",
       "      <td>-0.438100</td>\n",
       "      <td>0.033944</td>\n",
       "      <td>0.444420</td>\n",
       "      <td>5.537428</td>\n",
       "    </tr>\n",
       "    <tr>\n",
       "      <th>ad_Close_lag1</th>\n",
       "      <td>1078.0</td>\n",
       "      <td>2.636522e-16</td>\n",
       "      <td>1.000464</td>\n",
       "      <td>-2.222207</td>\n",
       "      <td>-0.605416</td>\n",
       "      <td>-0.084078</td>\n",
       "      <td>0.484174</td>\n",
       "      <td>2.459861</td>\n",
       "    </tr>\n",
       "    <tr>\n",
       "      <th>ad_Close_sma10</th>\n",
       "      <td>1078.0</td>\n",
       "      <td>5.800349e-16</td>\n",
       "      <td>1.000464</td>\n",
       "      <td>-2.014003</td>\n",
       "      <td>-0.592277</td>\n",
       "      <td>-0.085487</td>\n",
       "      <td>0.481936</td>\n",
       "      <td>2.292562</td>\n",
       "    </tr>\n",
       "    <tr>\n",
       "      <th>logprice_ad_Close</th>\n",
       "      <td>1078.0</td>\n",
       "      <td>-1.581913e-16</td>\n",
       "      <td>1.000464</td>\n",
       "      <td>-2.855257</td>\n",
       "      <td>-0.548611</td>\n",
       "      <td>0.014608</td>\n",
       "      <td>0.564014</td>\n",
       "      <td>2.108641</td>\n",
       "    </tr>\n",
       "    <tr>\n",
       "      <th>trend_ad_Close</th>\n",
       "      <td>1078.0</td>\n",
       "      <td>7.382262e-16</td>\n",
       "      <td>1.000464</td>\n",
       "      <td>-1.862906</td>\n",
       "      <td>-0.611909</td>\n",
       "      <td>-0.076261</td>\n",
       "      <td>0.522813</td>\n",
       "      <td>2.260721</td>\n",
       "    </tr>\n",
       "    <tr>\n",
       "      <th>detrend_ad_Close</th>\n",
       "      <td>1078.0</td>\n",
       "      <td>0.000000e+00</td>\n",
       "      <td>1.000464</td>\n",
       "      <td>-5.465660</td>\n",
       "      <td>-0.577283</td>\n",
       "      <td>0.072537</td>\n",
       "      <td>0.578585</td>\n",
       "      <td>3.491783</td>\n",
       "    </tr>\n",
       "    <tr>\n",
       "      <th>season_ad_Close</th>\n",
       "      <td>1078.0</td>\n",
       "      <td>0.000000e+00</td>\n",
       "      <td>1.000464</td>\n",
       "      <td>-5.465660</td>\n",
       "      <td>-0.577283</td>\n",
       "      <td>0.072537</td>\n",
       "      <td>0.578585</td>\n",
       "      <td>3.491783</td>\n",
       "    </tr>\n",
       "    <tr>\n",
       "      <th>error_ad_Close</th>\n",
       "      <td>1078.0</td>\n",
       "      <td>0.000000e+00</td>\n",
       "      <td>0.000000</td>\n",
       "      <td>0.000000</td>\n",
       "      <td>0.000000</td>\n",
       "      <td>0.000000</td>\n",
       "      <td>0.000000</td>\n",
       "      <td>0.000000</td>\n",
       "    </tr>\n",
       "    <tr>\n",
       "      <th>ad_Open_lag1</th>\n",
       "      <td>1078.0</td>\n",
       "      <td>2.636522e-16</td>\n",
       "      <td>1.000464</td>\n",
       "      <td>-2.218570</td>\n",
       "      <td>-0.600163</td>\n",
       "      <td>-0.085695</td>\n",
       "      <td>0.499674</td>\n",
       "      <td>2.480786</td>\n",
       "    </tr>\n",
       "    <tr>\n",
       "      <th>ad_Open_sma10</th>\n",
       "      <td>1078.0</td>\n",
       "      <td>-4.745740e-16</td>\n",
       "      <td>1.000464</td>\n",
       "      <td>-2.013012</td>\n",
       "      <td>-0.595297</td>\n",
       "      <td>-0.091282</td>\n",
       "      <td>0.484930</td>\n",
       "      <td>2.282328</td>\n",
       "    </tr>\n",
       "    <tr>\n",
       "      <th>logprice_ad_Open</th>\n",
       "      <td>1078.0</td>\n",
       "      <td>-2.531061e-15</td>\n",
       "      <td>1.000464</td>\n",
       "      <td>-2.850259</td>\n",
       "      <td>-0.542923</td>\n",
       "      <td>0.012804</td>\n",
       "      <td>0.578155</td>\n",
       "      <td>2.122794</td>\n",
       "    </tr>\n",
       "    <tr>\n",
       "      <th>trend_ad_Open</th>\n",
       "      <td>1078.0</td>\n",
       "      <td>1.054609e-16</td>\n",
       "      <td>1.000464</td>\n",
       "      <td>-1.859246</td>\n",
       "      <td>-0.618852</td>\n",
       "      <td>-0.076241</td>\n",
       "      <td>0.532755</td>\n",
       "      <td>2.253888</td>\n",
       "    </tr>\n",
       "    <tr>\n",
       "      <th>detrend_ad_Open</th>\n",
       "      <td>1078.0</td>\n",
       "      <td>6.591306e-18</td>\n",
       "      <td>1.000464</td>\n",
       "      <td>-5.561509</td>\n",
       "      <td>-0.593864</td>\n",
       "      <td>0.073443</td>\n",
       "      <td>0.584765</td>\n",
       "      <td>3.146580</td>\n",
       "    </tr>\n",
       "    <tr>\n",
       "      <th>season_ad_Open</th>\n",
       "      <td>1078.0</td>\n",
       "      <td>6.591306e-18</td>\n",
       "      <td>1.000464</td>\n",
       "      <td>-5.561509</td>\n",
       "      <td>-0.593864</td>\n",
       "      <td>0.073443</td>\n",
       "      <td>0.584765</td>\n",
       "      <td>3.146580</td>\n",
       "    </tr>\n",
       "    <tr>\n",
       "      <th>error_ad_Open</th>\n",
       "      <td>1078.0</td>\n",
       "      <td>0.000000e+00</td>\n",
       "      <td>0.000000</td>\n",
       "      <td>0.000000</td>\n",
       "      <td>0.000000</td>\n",
       "      <td>0.000000</td>\n",
       "      <td>0.000000</td>\n",
       "      <td>0.000000</td>\n",
       "    </tr>\n",
       "    <tr>\n",
       "      <th>ad_High_lag1</th>\n",
       "      <td>1078.0</td>\n",
       "      <td>-4.745740e-16</td>\n",
       "      <td>1.000464</td>\n",
       "      <td>-2.206615</td>\n",
       "      <td>-0.612409</td>\n",
       "      <td>-0.101325</td>\n",
       "      <td>0.480091</td>\n",
       "      <td>2.519736</td>\n",
       "    </tr>\n",
       "    <tr>\n",
       "      <th>ad_High_sma10</th>\n",
       "      <td>1078.0</td>\n",
       "      <td>-8.436871e-16</td>\n",
       "      <td>1.000464</td>\n",
       "      <td>-1.996852</td>\n",
       "      <td>-0.614535</td>\n",
       "      <td>-0.099545</td>\n",
       "      <td>0.487604</td>\n",
       "      <td>2.306896</td>\n",
       "    </tr>\n",
       "    <tr>\n",
       "      <th>logprice_ad_High</th>\n",
       "      <td>1078.0</td>\n",
       "      <td>-2.741983e-15</td>\n",
       "      <td>1.000464</td>\n",
       "      <td>-2.832228</td>\n",
       "      <td>-0.560759</td>\n",
       "      <td>-0.004832</td>\n",
       "      <td>0.561568</td>\n",
       "      <td>2.161851</td>\n",
       "    </tr>\n",
       "    <tr>\n",
       "      <th>trend_ad_High</th>\n",
       "      <td>1078.0</td>\n",
       "      <td>-3.691131e-16</td>\n",
       "      <td>1.000464</td>\n",
       "      <td>-1.848292</td>\n",
       "      <td>-0.634096</td>\n",
       "      <td>-0.090480</td>\n",
       "      <td>0.529263</td>\n",
       "      <td>2.267457</td>\n",
       "    </tr>\n",
       "    <tr>\n",
       "      <th>detrend_ad_High</th>\n",
       "      <td>1078.0</td>\n",
       "      <td>0.000000e+00</td>\n",
       "      <td>1.000464</td>\n",
       "      <td>-5.354834</td>\n",
       "      <td>-0.586262</td>\n",
       "      <td>0.072596</td>\n",
       "      <td>0.591855</td>\n",
       "      <td>3.531240</td>\n",
       "    </tr>\n",
       "    <tr>\n",
       "      <th>season_ad_High</th>\n",
       "      <td>1078.0</td>\n",
       "      <td>0.000000e+00</td>\n",
       "      <td>1.000464</td>\n",
       "      <td>-5.354834</td>\n",
       "      <td>-0.586262</td>\n",
       "      <td>0.072596</td>\n",
       "      <td>0.591855</td>\n",
       "      <td>3.531240</td>\n",
       "    </tr>\n",
       "    <tr>\n",
       "      <th>error_ad_High</th>\n",
       "      <td>1078.0</td>\n",
       "      <td>0.000000e+00</td>\n",
       "      <td>0.000000</td>\n",
       "      <td>0.000000</td>\n",
       "      <td>0.000000</td>\n",
       "      <td>0.000000</td>\n",
       "      <td>0.000000</td>\n",
       "      <td>0.000000</td>\n",
       "    </tr>\n",
       "    <tr>\n",
       "      <th>ad_Low_lag1</th>\n",
       "      <td>1078.0</td>\n",
       "      <td>-1.581913e-16</td>\n",
       "      <td>1.000464</td>\n",
       "      <td>-2.204108</td>\n",
       "      <td>-0.590294</td>\n",
       "      <td>-0.085136</td>\n",
       "      <td>0.481485</td>\n",
       "      <td>2.450608</td>\n",
       "    </tr>\n",
       "    <tr>\n",
       "      <th>ad_Low_sma10</th>\n",
       "      <td>1078.0</td>\n",
       "      <td>2.636522e-16</td>\n",
       "      <td>1.000464</td>\n",
       "      <td>-2.024020</td>\n",
       "      <td>-0.575257</td>\n",
       "      <td>-0.081739</td>\n",
       "      <td>0.477073</td>\n",
       "      <td>2.275824</td>\n",
       "    </tr>\n",
       "    <tr>\n",
       "      <th>logprice_ad_Low</th>\n",
       "      <td>1078.0</td>\n",
       "      <td>-2.214679e-15</td>\n",
       "      <td>1.000464</td>\n",
       "      <td>-2.822164</td>\n",
       "      <td>-0.527868</td>\n",
       "      <td>0.015201</td>\n",
       "      <td>0.560629</td>\n",
       "      <td>2.090697</td>\n",
       "    </tr>\n",
       "    <tr>\n",
       "      <th>trend_ad_Low</th>\n",
       "      <td>1078.0</td>\n",
       "      <td>-4.218436e-16</td>\n",
       "      <td>1.000464</td>\n",
       "      <td>-1.867476</td>\n",
       "      <td>-0.612612</td>\n",
       "      <td>-0.066211</td>\n",
       "      <td>0.521196</td>\n",
       "      <td>2.242593</td>\n",
       "    </tr>\n",
       "    <tr>\n",
       "      <th>detrend_ad_Low</th>\n",
       "      <td>1078.0</td>\n",
       "      <td>6.591306e-18</td>\n",
       "      <td>1.000464</td>\n",
       "      <td>-5.594134</td>\n",
       "      <td>-0.562832</td>\n",
       "      <td>0.082337</td>\n",
       "      <td>0.577537</td>\n",
       "      <td>3.179431</td>\n",
       "    </tr>\n",
       "    <tr>\n",
       "      <th>season_ad_Low</th>\n",
       "      <td>1078.0</td>\n",
       "      <td>6.591306e-18</td>\n",
       "      <td>1.000464</td>\n",
       "      <td>-5.594134</td>\n",
       "      <td>-0.562832</td>\n",
       "      <td>0.082337</td>\n",
       "      <td>0.577537</td>\n",
       "      <td>3.179431</td>\n",
       "    </tr>\n",
       "    <tr>\n",
       "      <th>error_ad_Low</th>\n",
       "      <td>1078.0</td>\n",
       "      <td>0.000000e+00</td>\n",
       "      <td>0.000000</td>\n",
       "      <td>0.000000</td>\n",
       "      <td>0.000000</td>\n",
       "      <td>0.000000</td>\n",
       "      <td>0.000000</td>\n",
       "      <td>0.000000</td>\n",
       "    </tr>\n",
       "    <tr>\n",
       "      <th>ad_Volume_lag1</th>\n",
       "      <td>1078.0</td>\n",
       "      <td>-5.273044e-17</td>\n",
       "      <td>1.000464</td>\n",
       "      <td>-0.845762</td>\n",
       "      <td>-0.479075</td>\n",
       "      <td>-0.330233</td>\n",
       "      <td>0.064209</td>\n",
       "      <td>15.709975</td>\n",
       "    </tr>\n",
       "    <tr>\n",
       "      <th>ad_Volume_sma10</th>\n",
       "      <td>1078.0</td>\n",
       "      <td>0.000000e+00</td>\n",
       "      <td>1.000464</td>\n",
       "      <td>-0.817969</td>\n",
       "      <td>-0.581260</td>\n",
       "      <td>-0.350934</td>\n",
       "      <td>0.215764</td>\n",
       "      <td>6.591740</td>\n",
       "    </tr>\n",
       "    <tr>\n",
       "      <th>RSI</th>\n",
       "      <td>1078.0</td>\n",
       "      <td>-5.273044e-16</td>\n",
       "      <td>1.000464</td>\n",
       "      <td>-3.053200</td>\n",
       "      <td>-0.702637</td>\n",
       "      <td>-0.031281</td>\n",
       "      <td>0.709249</td>\n",
       "      <td>2.977615</td>\n",
       "    </tr>\n",
       "    <tr>\n",
       "      <th>Return</th>\n",
       "      <td>1078.0</td>\n",
       "      <td>-6.032692e-15</td>\n",
       "      <td>1.000464</td>\n",
       "      <td>-4.867776</td>\n",
       "      <td>-0.436838</td>\n",
       "      <td>0.032748</td>\n",
       "      <td>0.442258</td>\n",
       "      <td>5.532112</td>\n",
       "    </tr>\n",
       "    <tr>\n",
       "      <th>macd</th>\n",
       "      <td>1078.0</td>\n",
       "      <td>2.636522e-17</td>\n",
       "      <td>1.000464</td>\n",
       "      <td>-4.526661</td>\n",
       "      <td>-0.605083</td>\n",
       "      <td>0.108490</td>\n",
       "      <td>0.556910</td>\n",
       "      <td>2.791237</td>\n",
       "    </tr>\n",
       "    <tr>\n",
       "      <th>macd_h</th>\n",
       "      <td>1078.0</td>\n",
       "      <td>-9.886958e-18</td>\n",
       "      <td>1.000464</td>\n",
       "      <td>-3.963117</td>\n",
       "      <td>-0.534961</td>\n",
       "      <td>0.017396</td>\n",
       "      <td>0.614368</td>\n",
       "      <td>2.803035</td>\n",
       "    </tr>\n",
       "    <tr>\n",
       "      <th>macd_s</th>\n",
       "      <td>1078.0</td>\n",
       "      <td>1.318261e-17</td>\n",
       "      <td>1.000464</td>\n",
       "      <td>-3.905723</td>\n",
       "      <td>-0.592333</td>\n",
       "      <td>0.126877</td>\n",
       "      <td>0.550063</td>\n",
       "      <td>2.601274</td>\n",
       "    </tr>\n",
       "    <tr>\n",
       "      <th>Day</th>\n",
       "      <td>1078.0</td>\n",
       "      <td>4.984675e-17</td>\n",
       "      <td>1.000464</td>\n",
       "      <td>-1.707896</td>\n",
       "      <td>-0.905768</td>\n",
       "      <td>0.010949</td>\n",
       "      <td>0.927666</td>\n",
       "      <td>1.729793</td>\n",
       "    </tr>\n",
       "    <tr>\n",
       "      <th>Month</th>\n",
       "      <td>1078.0</td>\n",
       "      <td>-1.021652e-16</td>\n",
       "      <td>1.000464</td>\n",
       "      <td>-1.710129</td>\n",
       "      <td>-0.799149</td>\n",
       "      <td>0.111830</td>\n",
       "      <td>0.719150</td>\n",
       "      <td>1.630129</td>\n",
       "    </tr>\n",
       "    <tr>\n",
       "      <th>Year</th>\n",
       "      <td>1078.0</td>\n",
       "      <td>3.712223e-14</td>\n",
       "      <td>1.000464</td>\n",
       "      <td>-1.538613</td>\n",
       "      <td>-0.781941</td>\n",
       "      <td>-0.025269</td>\n",
       "      <td>0.731403</td>\n",
       "      <td>1.488074</td>\n",
       "    </tr>\n",
       "    <tr>\n",
       "      <th>week</th>\n",
       "      <td>1078.0</td>\n",
       "      <td>-1.054609e-16</td>\n",
       "      <td>1.000464</td>\n",
       "      <td>-1.822153</td>\n",
       "      <td>-0.847358</td>\n",
       "      <td>-0.011820</td>\n",
       "      <td>0.823718</td>\n",
       "      <td>1.798513</td>\n",
       "    </tr>\n",
       "    <tr>\n",
       "      <th>Volatility_week</th>\n",
       "      <td>1078.0</td>\n",
       "      <td>1.054609e-16</td>\n",
       "      <td>1.000464</td>\n",
       "      <td>-1.381671</td>\n",
       "      <td>-0.666743</td>\n",
       "      <td>-0.312923</td>\n",
       "      <td>0.311839</td>\n",
       "      <td>4.845054</td>\n",
       "    </tr>\n",
       "    <tr>\n",
       "      <th>Profit</th>\n",
       "      <td>1078.0</td>\n",
       "      <td>-5.273044e-17</td>\n",
       "      <td>1.000464</td>\n",
       "      <td>-2.476904</td>\n",
       "      <td>-0.852255</td>\n",
       "      <td>0.486416</td>\n",
       "      <td>0.690854</td>\n",
       "      <td>0.996484</td>\n",
       "    </tr>\n",
       "    <tr>\n",
       "      <th>NetSales</th>\n",
       "      <td>1078.0</td>\n",
       "      <td>5.273044e-17</td>\n",
       "      <td>1.000464</td>\n",
       "      <td>-1.530753</td>\n",
       "      <td>-1.125579</td>\n",
       "      <td>-0.209332</td>\n",
       "      <td>0.612646</td>\n",
       "      <td>1.476956</td>\n",
       "    </tr>\n",
       "    <tr>\n",
       "      <th>margin</th>\n",
       "      <td>1078.0</td>\n",
       "      <td>0.000000e+00</td>\n",
       "      <td>1.000464</td>\n",
       "      <td>-3.048335</td>\n",
       "      <td>-0.311981</td>\n",
       "      <td>0.433600</td>\n",
       "      <td>0.555659</td>\n",
       "      <td>0.823901</td>\n",
       "    </tr>\n",
       "    <tr>\n",
       "      <th>win_quarter_growth</th>\n",
       "      <td>1078.0</td>\n",
       "      <td>-1.318261e-17</td>\n",
       "      <td>1.000464</td>\n",
       "      <td>-1.872256</td>\n",
       "      <td>-0.367061</td>\n",
       "      <td>-0.193455</td>\n",
       "      <td>-0.134990</td>\n",
       "      <td>3.037034</td>\n",
       "    </tr>\n",
       "    <tr>\n",
       "      <th>rev_quarter_growth</th>\n",
       "      <td>1078.0</td>\n",
       "      <td>-2.636522e-17</td>\n",
       "      <td>1.000464</td>\n",
       "      <td>-1.565532</td>\n",
       "      <td>-0.990784</td>\n",
       "      <td>0.223182</td>\n",
       "      <td>0.500862</td>\n",
       "      <td>4.096861</td>\n",
       "    </tr>\n",
       "    <tr>\n",
       "      <th>margin_growth</th>\n",
       "      <td>1078.0</td>\n",
       "      <td>-6.591306e-18</td>\n",
       "      <td>1.000464</td>\n",
       "      <td>-1.952247</td>\n",
       "      <td>-0.473839</td>\n",
       "      <td>-0.305201</td>\n",
       "      <td>0.376114</td>\n",
       "      <td>2.448820</td>\n",
       "    </tr>\n",
       "    <tr>\n",
       "      <th>Day_sin</th>\n",
       "      <td>1078.0</td>\n",
       "      <td>-1.845566e-16</td>\n",
       "      <td>1.000464</td>\n",
       "      <td>-1.758384</td>\n",
       "      <td>-0.869660</td>\n",
       "      <td>0.019064</td>\n",
       "      <td>0.868601</td>\n",
       "      <td>1.759769</td>\n",
       "    </tr>\n",
       "    <tr>\n",
       "      <th>Day_cos</th>\n",
       "      <td>1078.0</td>\n",
       "      <td>0.000000e+00</td>\n",
       "      <td>0.000000</td>\n",
       "      <td>0.000000</td>\n",
       "      <td>0.000000</td>\n",
       "      <td>0.000000</td>\n",
       "      <td>0.000000</td>\n",
       "      <td>0.000000</td>\n",
       "    </tr>\n",
       "    <tr>\n",
       "      <th>Month_sin</th>\n",
       "      <td>1078.0</td>\n",
       "      <td>2.389348e-17</td>\n",
       "      <td>1.000464</td>\n",
       "      <td>-1.396657</td>\n",
       "      <td>-0.990249</td>\n",
       "      <td>-0.042139</td>\n",
       "      <td>1.010613</td>\n",
       "      <td>1.420789</td>\n",
       "    </tr>\n",
       "    <tr>\n",
       "      <th>Month_cos</th>\n",
       "      <td>1078.0</td>\n",
       "      <td>-1.936196e-17</td>\n",
       "      <td>1.000464</td>\n",
       "      <td>-1.431478</td>\n",
       "      <td>-0.993847</td>\n",
       "      <td>0.006821</td>\n",
       "      <td>0.999054</td>\n",
       "      <td>1.408384</td>\n",
       "    </tr>\n",
       "    <tr>\n",
       "      <th>Year_sin</th>\n",
       "      <td>1078.0</td>\n",
       "      <td>-1.977392e-17</td>\n",
       "      <td>1.000464</td>\n",
       "      <td>-1.388601</td>\n",
       "      <td>-1.004089</td>\n",
       "      <td>-0.040533</td>\n",
       "      <td>0.977951</td>\n",
       "      <td>1.463966</td>\n",
       "    </tr>\n",
       "    <tr>\n",
       "      <th>Year_cos</th>\n",
       "      <td>1078.0</td>\n",
       "      <td>-3.295653e-17</td>\n",
       "      <td>1.000464</td>\n",
       "      <td>-1.304644</td>\n",
       "      <td>-0.998823</td>\n",
       "      <td>-0.082334</td>\n",
       "      <td>1.002111</td>\n",
       "      <td>1.517724</td>\n",
       "    </tr>\n",
       "  </tbody>\n",
       "</table>\n",
       "</div>"
      ],
      "text/plain": [
       "                     count          mean       std       min       25%  \\\n",
       "ExpectedDividend    1078.0  2.471740e-18  1.000464 -0.061028 -0.061028   \n",
       "SupervisionFlag     1078.0  0.000000e+00  0.000000  0.000000  0.000000   \n",
       "ad_Open             1078.0 -4.745740e-16  1.000464 -2.218312 -0.600071   \n",
       "ad_High             1078.0 -1.581913e-16  1.000464 -2.206193 -0.612193   \n",
       "ad_Low              1078.0 -1.054609e-16  1.000464 -2.203597 -0.590058   \n",
       "ad_Close            1078.0  5.273044e-17  1.000464 -2.221578 -0.605089   \n",
       "ad_Volume           1078.0  2.636522e-17  1.000464 -0.846505 -0.480331   \n",
       "ad_Target           1078.0 -1.153478e-17  1.000464 -4.866146 -0.438100   \n",
       "ad_Close_lag1       1078.0  2.636522e-16  1.000464 -2.222207 -0.605416   \n",
       "ad_Close_sma10      1078.0  5.800349e-16  1.000464 -2.014003 -0.592277   \n",
       "logprice_ad_Close   1078.0 -1.581913e-16  1.000464 -2.855257 -0.548611   \n",
       "trend_ad_Close      1078.0  7.382262e-16  1.000464 -1.862906 -0.611909   \n",
       "detrend_ad_Close    1078.0  0.000000e+00  1.000464 -5.465660 -0.577283   \n",
       "season_ad_Close     1078.0  0.000000e+00  1.000464 -5.465660 -0.577283   \n",
       "error_ad_Close      1078.0  0.000000e+00  0.000000  0.000000  0.000000   \n",
       "ad_Open_lag1        1078.0  2.636522e-16  1.000464 -2.218570 -0.600163   \n",
       "ad_Open_sma10       1078.0 -4.745740e-16  1.000464 -2.013012 -0.595297   \n",
       "logprice_ad_Open    1078.0 -2.531061e-15  1.000464 -2.850259 -0.542923   \n",
       "trend_ad_Open       1078.0  1.054609e-16  1.000464 -1.859246 -0.618852   \n",
       "detrend_ad_Open     1078.0  6.591306e-18  1.000464 -5.561509 -0.593864   \n",
       "season_ad_Open      1078.0  6.591306e-18  1.000464 -5.561509 -0.593864   \n",
       "error_ad_Open       1078.0  0.000000e+00  0.000000  0.000000  0.000000   \n",
       "ad_High_lag1        1078.0 -4.745740e-16  1.000464 -2.206615 -0.612409   \n",
       "ad_High_sma10       1078.0 -8.436871e-16  1.000464 -1.996852 -0.614535   \n",
       "logprice_ad_High    1078.0 -2.741983e-15  1.000464 -2.832228 -0.560759   \n",
       "trend_ad_High       1078.0 -3.691131e-16  1.000464 -1.848292 -0.634096   \n",
       "detrend_ad_High     1078.0  0.000000e+00  1.000464 -5.354834 -0.586262   \n",
       "season_ad_High      1078.0  0.000000e+00  1.000464 -5.354834 -0.586262   \n",
       "error_ad_High       1078.0  0.000000e+00  0.000000  0.000000  0.000000   \n",
       "ad_Low_lag1         1078.0 -1.581913e-16  1.000464 -2.204108 -0.590294   \n",
       "ad_Low_sma10        1078.0  2.636522e-16  1.000464 -2.024020 -0.575257   \n",
       "logprice_ad_Low     1078.0 -2.214679e-15  1.000464 -2.822164 -0.527868   \n",
       "trend_ad_Low        1078.0 -4.218436e-16  1.000464 -1.867476 -0.612612   \n",
       "detrend_ad_Low      1078.0  6.591306e-18  1.000464 -5.594134 -0.562832   \n",
       "season_ad_Low       1078.0  6.591306e-18  1.000464 -5.594134 -0.562832   \n",
       "error_ad_Low        1078.0  0.000000e+00  0.000000  0.000000  0.000000   \n",
       "ad_Volume_lag1      1078.0 -5.273044e-17  1.000464 -0.845762 -0.479075   \n",
       "ad_Volume_sma10     1078.0  0.000000e+00  1.000464 -0.817969 -0.581260   \n",
       "RSI                 1078.0 -5.273044e-16  1.000464 -3.053200 -0.702637   \n",
       "Return              1078.0 -6.032692e-15  1.000464 -4.867776 -0.436838   \n",
       "macd                1078.0  2.636522e-17  1.000464 -4.526661 -0.605083   \n",
       "macd_h              1078.0 -9.886958e-18  1.000464 -3.963117 -0.534961   \n",
       "macd_s              1078.0  1.318261e-17  1.000464 -3.905723 -0.592333   \n",
       "Day                 1078.0  4.984675e-17  1.000464 -1.707896 -0.905768   \n",
       "Month               1078.0 -1.021652e-16  1.000464 -1.710129 -0.799149   \n",
       "Year                1078.0  3.712223e-14  1.000464 -1.538613 -0.781941   \n",
       "week                1078.0 -1.054609e-16  1.000464 -1.822153 -0.847358   \n",
       "Volatility_week     1078.0  1.054609e-16  1.000464 -1.381671 -0.666743   \n",
       "Profit              1078.0 -5.273044e-17  1.000464 -2.476904 -0.852255   \n",
       "NetSales            1078.0  5.273044e-17  1.000464 -1.530753 -1.125579   \n",
       "margin              1078.0  0.000000e+00  1.000464 -3.048335 -0.311981   \n",
       "win_quarter_growth  1078.0 -1.318261e-17  1.000464 -1.872256 -0.367061   \n",
       "rev_quarter_growth  1078.0 -2.636522e-17  1.000464 -1.565532 -0.990784   \n",
       "margin_growth       1078.0 -6.591306e-18  1.000464 -1.952247 -0.473839   \n",
       "Day_sin             1078.0 -1.845566e-16  1.000464 -1.758384 -0.869660   \n",
       "Day_cos             1078.0  0.000000e+00  0.000000  0.000000  0.000000   \n",
       "Month_sin           1078.0  2.389348e-17  1.000464 -1.396657 -0.990249   \n",
       "Month_cos           1078.0 -1.936196e-17  1.000464 -1.431478 -0.993847   \n",
       "Year_sin            1078.0 -1.977392e-17  1.000464 -1.388601 -1.004089   \n",
       "Year_cos            1078.0 -3.295653e-17  1.000464 -1.304644 -0.998823   \n",
       "\n",
       "                         50%       75%        max  \n",
       "ExpectedDividend   -0.061028 -0.061028  16.385970  \n",
       "SupervisionFlag     0.000000  0.000000   0.000000  \n",
       "ad_Open            -0.085656  0.499653   2.480562  \n",
       "ad_High            -0.101175  0.480166   2.519548  \n",
       "ad_Low             -0.084986  0.481537   2.450323  \n",
       "ad_Close           -0.083849  0.484296   2.459614  \n",
       "ad_Volume          -0.331697  0.064623  15.686091  \n",
       "ad_Target           0.033944  0.444420   5.537428  \n",
       "ad_Close_lag1      -0.084078  0.484174   2.459861  \n",
       "ad_Close_sma10     -0.085487  0.481936   2.292562  \n",
       "logprice_ad_Close   0.014608  0.564014   2.108641  \n",
       "trend_ad_Close     -0.076261  0.522813   2.260721  \n",
       "detrend_ad_Close    0.072537  0.578585   3.491783  \n",
       "season_ad_Close     0.072537  0.578585   3.491783  \n",
       "error_ad_Close      0.000000  0.000000   0.000000  \n",
       "ad_Open_lag1       -0.085695  0.499674   2.480786  \n",
       "ad_Open_sma10      -0.091282  0.484930   2.282328  \n",
       "logprice_ad_Open    0.012804  0.578155   2.122794  \n",
       "trend_ad_Open      -0.076241  0.532755   2.253888  \n",
       "detrend_ad_Open     0.073443  0.584765   3.146580  \n",
       "season_ad_Open      0.073443  0.584765   3.146580  \n",
       "error_ad_Open       0.000000  0.000000   0.000000  \n",
       "ad_High_lag1       -0.101325  0.480091   2.519736  \n",
       "ad_High_sma10      -0.099545  0.487604   2.306896  \n",
       "logprice_ad_High   -0.004832  0.561568   2.161851  \n",
       "trend_ad_High      -0.090480  0.529263   2.267457  \n",
       "detrend_ad_High     0.072596  0.591855   3.531240  \n",
       "season_ad_High      0.072596  0.591855   3.531240  \n",
       "error_ad_High       0.000000  0.000000   0.000000  \n",
       "ad_Low_lag1        -0.085136  0.481485   2.450608  \n",
       "ad_Low_sma10       -0.081739  0.477073   2.275824  \n",
       "logprice_ad_Low     0.015201  0.560629   2.090697  \n",
       "trend_ad_Low       -0.066211  0.521196   2.242593  \n",
       "detrend_ad_Low      0.082337  0.577537   3.179431  \n",
       "season_ad_Low       0.082337  0.577537   3.179431  \n",
       "error_ad_Low        0.000000  0.000000   0.000000  \n",
       "ad_Volume_lag1     -0.330233  0.064209  15.709975  \n",
       "ad_Volume_sma10    -0.350934  0.215764   6.591740  \n",
       "RSI                -0.031281  0.709249   2.977615  \n",
       "Return              0.032748  0.442258   5.532112  \n",
       "macd                0.108490  0.556910   2.791237  \n",
       "macd_h              0.017396  0.614368   2.803035  \n",
       "macd_s              0.126877  0.550063   2.601274  \n",
       "Day                 0.010949  0.927666   1.729793  \n",
       "Month               0.111830  0.719150   1.630129  \n",
       "Year               -0.025269  0.731403   1.488074  \n",
       "week               -0.011820  0.823718   1.798513  \n",
       "Volatility_week    -0.312923  0.311839   4.845054  \n",
       "Profit              0.486416  0.690854   0.996484  \n",
       "NetSales           -0.209332  0.612646   1.476956  \n",
       "margin              0.433600  0.555659   0.823901  \n",
       "win_quarter_growth -0.193455 -0.134990   3.037034  \n",
       "rev_quarter_growth  0.223182  0.500862   4.096861  \n",
       "margin_growth      -0.305201  0.376114   2.448820  \n",
       "Day_sin             0.019064  0.868601   1.759769  \n",
       "Day_cos             0.000000  0.000000   0.000000  \n",
       "Month_sin          -0.042139  1.010613   1.420789  \n",
       "Month_cos           0.006821  0.999054   1.408384  \n",
       "Year_sin           -0.040533  0.977951   1.463966  \n",
       "Year_cos           -0.082334  1.002111   1.517724  "
      ]
     },
     "execution_count": 47,
     "metadata": {},
     "output_type": "execute_result"
    }
   ],
   "source": [
    "df_train_scaled.describe().T"
   ]
  },
  {
   "cell_type": "code",
   "execution_count": 48,
   "metadata": {},
   "outputs": [],
   "source": [
    "def split_window(self, features):\n",
    "  input_width=22\n",
    "  label_width=1\n",
    "  shift=1\n",
    "  label_columns=['ad_Close']\n",
    "  input_slice = slice(0, input_width) #slice(start, stop, step)\n",
    "\n",
    "  column_indices = {name: i for i, name in\n",
    "                           enumerate(df_train_scaled.columns)}\n",
    "\n",
    "                           \n",
    "  inputs = features[:, input_slice, :]\n",
    "  labels = features[:, labels_slice, :]\n",
    "  if label_columns is not None:\n",
    "    labels = tf.stack(\n",
    "        [labels[:, :, column_indices[name]] for name in label_columns],\n",
    "        axis=-1)\n",
    "\n",
    "  # Slicing doesn't preserve static shape information, so set the shapes\n",
    "  # manually. This way the `tf.data.Datasets` are easier to inspect.\n",
    "  inputs.set_shape([None, self.input_width, None])\n",
    "  labels.set_shape([None, self.label_width, None])\n",
    "\n",
    "  return inputs, labels"
   ]
  },
  {
   "cell_type": "code",
   "execution_count": 49,
   "metadata": {},
   "outputs": [
    {
     "data": {
      "text/plain": [
       "tensorflow.python.data.ops.dataset_ops.BatchDataset"
      ]
     },
     "execution_count": 49,
     "metadata": {},
     "output_type": "execute_result"
    }
   ],
   "source": [
    "data = np.array(df_train_scaled, dtype=np.float32)\n",
    "targets = np.array(df_val_scaled, dtype=np.float32)\n",
    "ds = tf.keras.preprocessing.timeseries_dataset_from_array(\n",
    "    data, targets, sequence_length=total_window_size, \n",
    "    sequence_stride=1,\n",
    "      shuffle=True,\n",
    "      batch_size=32,)\n",
    "\n",
    "#ds = ds.map(split_window)\n",
    "type(ds)"
   ]
  },
  {
   "cell_type": "code",
   "execution_count": 50,
   "metadata": {},
   "outputs": [
    {
     "data": {
      "text/plain": [
       "'counter = 0 \\nfor batch in ds:\\n  counter = counter +1\\n  print (batch)\\n  #print(batch)\\n  print(len(inputs))\\n  inputs, targets = batch\\n  #print(len(inputs))\\n  #assert np.array_equal(inputs[0], data[:10])  # First sequence: steps [0-9]\\n'"
      ]
     },
     "execution_count": 50,
     "metadata": {},
     "output_type": "execute_result"
    }
   ],
   "source": [
    "\"\"\"counter = 0 \n",
    "for batch in ds:\n",
    "  counter = counter +1\n",
    "  print (batch)\n",
    "  #print(batch)\n",
    "  print(len(inputs))\n",
    "  inputs, targets = batch\n",
    "  #print(len(inputs))\n",
    "  #assert np.array_equal(inputs[0], data[:10])  # First sequence: steps [0-9]\n",
    "\"\"\"\n"
   ]
  },
  {
   "cell_type": "code",
   "execution_count": 51,
   "metadata": {},
   "outputs": [
    {
     "ename": "NameError",
     "evalue": "name 'train_scaled' is not defined",
     "output_type": "error",
     "traceback": [
      "\u001b[0;31m---------------------------------------------------------------------------\u001b[0m",
      "\u001b[0;31mNameError\u001b[0m                                 Traceback (most recent call last)",
      "\u001b[1;32m/Users/valentina/ds/tokyo-stock-exchange/notebooks/model.ipynb Cell 62'\u001b[0m in \u001b[0;36m<cell line: 1>\u001b[0;34m()\u001b[0m\n\u001b[0;32m----> <a href='vscode-notebook-cell:/Users/valentina/ds/tokyo-stock-exchange/notebooks/model.ipynb#ch0000032?line=0'>1</a>\u001b[0m \u001b[39mclass\u001b[39;00m \u001b[39mWindowGenerator\u001b[39;00m():\n\u001b[1;32m      <a href='vscode-notebook-cell:/Users/valentina/ds/tokyo-stock-exchange/notebooks/model.ipynb#ch0000032?line=1'>2</a>\u001b[0m   \u001b[39mdef\u001b[39;00m \u001b[39m__init__\u001b[39m(\u001b[39mself\u001b[39m, input_width, label_width, shift,\n\u001b[1;32m      <a href='vscode-notebook-cell:/Users/valentina/ds/tokyo-stock-exchange/notebooks/model.ipynb#ch0000032?line=2'>3</a>\u001b[0m                train_df\u001b[39m=\u001b[39mtrain_scaled, val_df\u001b[39m=\u001b[39mval_scaled, test_df\u001b[39m=\u001b[39mtest_scaled,\n\u001b[1;32m      <a href='vscode-notebook-cell:/Users/valentina/ds/tokyo-stock-exchange/notebooks/model.ipynb#ch0000032?line=3'>4</a>\u001b[0m                label_columns\u001b[39m=\u001b[39m\u001b[39mNone\u001b[39;00m):\n\u001b[1;32m      <a href='vscode-notebook-cell:/Users/valentina/ds/tokyo-stock-exchange/notebooks/model.ipynb#ch0000032?line=4'>5</a>\u001b[0m     \u001b[39m# Store the raw data.\u001b[39;00m\n\u001b[1;32m      <a href='vscode-notebook-cell:/Users/valentina/ds/tokyo-stock-exchange/notebooks/model.ipynb#ch0000032?line=5'>6</a>\u001b[0m     \u001b[39mself\u001b[39m\u001b[39m.\u001b[39mtrain_df \u001b[39m=\u001b[39m train_df\n",
      "\u001b[1;32m/Users/valentina/ds/tokyo-stock-exchange/notebooks/model.ipynb Cell 62'\u001b[0m in \u001b[0;36mWindowGenerator\u001b[0;34m()\u001b[0m\n\u001b[1;32m      <a href='vscode-notebook-cell:/Users/valentina/ds/tokyo-stock-exchange/notebooks/model.ipynb#ch0000032?line=0'>1</a>\u001b[0m \u001b[39mclass\u001b[39;00m \u001b[39mWindowGenerator\u001b[39;00m():\n\u001b[1;32m      <a href='vscode-notebook-cell:/Users/valentina/ds/tokyo-stock-exchange/notebooks/model.ipynb#ch0000032?line=1'>2</a>\u001b[0m   \u001b[39mdef\u001b[39;00m \u001b[39m__init__\u001b[39m(\u001b[39mself\u001b[39m, input_width, label_width, shift,\n\u001b[0;32m----> <a href='vscode-notebook-cell:/Users/valentina/ds/tokyo-stock-exchange/notebooks/model.ipynb#ch0000032?line=2'>3</a>\u001b[0m                train_df\u001b[39m=\u001b[39mtrain_scaled, val_df\u001b[39m=\u001b[39mval_scaled, test_df\u001b[39m=\u001b[39mtest_scaled,\n\u001b[1;32m      <a href='vscode-notebook-cell:/Users/valentina/ds/tokyo-stock-exchange/notebooks/model.ipynb#ch0000032?line=3'>4</a>\u001b[0m                label_columns\u001b[39m=\u001b[39m\u001b[39mNone\u001b[39;00m):\n\u001b[1;32m      <a href='vscode-notebook-cell:/Users/valentina/ds/tokyo-stock-exchange/notebooks/model.ipynb#ch0000032?line=4'>5</a>\u001b[0m     \u001b[39m# Store the raw data.\u001b[39;00m\n\u001b[1;32m      <a href='vscode-notebook-cell:/Users/valentina/ds/tokyo-stock-exchange/notebooks/model.ipynb#ch0000032?line=5'>6</a>\u001b[0m     \u001b[39mself\u001b[39m\u001b[39m.\u001b[39mtrain_df \u001b[39m=\u001b[39m train_df\n\u001b[1;32m      <a href='vscode-notebook-cell:/Users/valentina/ds/tokyo-stock-exchange/notebooks/model.ipynb#ch0000032?line=6'>7</a>\u001b[0m     \u001b[39mself\u001b[39m\u001b[39m.\u001b[39mval_df \u001b[39m=\u001b[39m val_df\n",
      "\u001b[0;31mNameError\u001b[0m: name 'train_scaled' is not defined"
     ]
    }
   ],
   "source": [
    "class WindowGenerator():\n",
    "  def __init__(self, input_width, label_width, shift,\n",
    "               train_df=train_scaled, val_df=val_scaled, test_df=test_scaled,\n",
    "               label_columns=None):\n",
    "    # Store the raw data.\n",
    "    self.train_df = train_df\n",
    "    self.val_df = val_df\n",
    "    self.test_df = test_df\n",
    "\n",
    "    # Work out the label column indices.\n",
    "    self.label_columns = label_columns\n",
    "    if label_columns is not None:\n",
    "      self.label_columns_indices = {name: i for i, name in\n",
    "                                    enumerate(label_columns)}\n",
    "    self.column_indices = {name: i for i, name in\n",
    "                           enumerate(train_df.columns)}\n",
    "\n",
    "    # Work out the window parameters.\n",
    "    self.input_width = input_width\n",
    "    self.label_width = label_width\n",
    "    self.shift = shift\n",
    "\n",
    "    self.total_window_size = input_width + shift\n",
    "\n",
    "    #self.example = \n",
    "\n",
    "    self.input_slice = slice(0, input_width)\n",
    "    self.input_indices = np.arange(self.total_window_size)[self.input_slice]\n",
    "\n",
    "    self.label_start = self.total_window_size - self.label_width\n",
    "    self.labels_slice = slice(self.label_start, None)\n",
    "    self.label_indices = np.arange(self.total_window_size)[self.labels_slice]\n",
    "\n",
    "  def __repr__(self):\n",
    "    return '\\n'.join([\n",
    "        f'Total window size: {self.total_window_size}',\n",
    "        f'Input indices: {self.input_indices}',\n",
    "        f'Label indices: {self.label_indices}',\n",
    "        f'Label column name(s): {self.label_columns}'])"
   ]
  },
  {
   "cell_type": "code",
   "execution_count": null,
   "metadata": {},
   "outputs": [],
   "source": [
    "train_scaled.shape"
   ]
  },
  {
   "cell_type": "code",
   "execution_count": null,
   "metadata": {},
   "outputs": [],
   "source": [
    "w1 = WindowGenerator(input_width=22, label_width=1, shift=1,\n",
    "                     label_columns=['ad_Close'])\n",
    "w1"
   ]
  },
  {
   "cell_type": "code",
   "execution_count": null,
   "metadata": {},
   "outputs": [],
   "source": [
    "def split_window(self, features):\n",
    "  inputs = features[:, self.input_slice, :]\n",
    "  labels = features[:, self.labels_slice, :]\n",
    "  if self.label_columns is not None:\n",
    "    labels = tf.stack(\n",
    "        [labels[:, :, self.column_indices[name]] for name in self.label_columns],\n",
    "        axis=-1)\n",
    "\n",
    "  # Slicing doesn't preserve static shape information, so set the shapes\n",
    "  # manually. This way the `tf.data.Datasets` are easier to inspect.\n",
    "  inputs.set_shape([None, self.input_width, None])\n",
    "  labels.set_shape([None, self.label_width, None])\n",
    "\n",
    "  return inputs, labels\n",
    "\n",
    "WindowGenerator.split_window = split_window"
   ]
  },
  {
   "cell_type": "code",
   "execution_count": null,
   "metadata": {},
   "outputs": [],
   "source": [
    "example_window = tf.stack([np.array(train_scaled[:w1.total_window_size]),\n",
    "                           np.array(train_scaled[100:100+w1.total_window_size]),\n",
    "                           np.array(train_scaled[200:200+w1.total_window_size])])\n",
    "\n",
    "example_inputs, example_labels = w1.split_window(example_window)\n",
    "\n",
    "print('All shapes are: (batch, time, features)')\n",
    "print(f'Window shape: {example_window.shape}')\n",
    "print(f'Inputs shape: {example_inputs.shape}')\n",
    "print(f'Labels shape: {example_labels.shape}')"
   ]
  },
  {
   "cell_type": "code",
   "execution_count": null,
   "metadata": {},
   "outputs": [],
   "source": [
    "type(example_inputs)"
   ]
  },
  {
   "cell_type": "code",
   "execution_count": null,
   "metadata": {},
   "outputs": [],
   "source": [
    "example_labels"
   ]
  },
  {
   "cell_type": "code",
   "execution_count": null,
   "metadata": {},
   "outputs": [],
   "source": [
    "w1.example = example_inputs, example_labels"
   ]
  },
  {
   "cell_type": "code",
   "execution_count": null,
   "metadata": {},
   "outputs": [],
   "source": [
    "def plot(self, model=None, plot_col='ad_Close', max_subplots=3):\n",
    "  inputs, labels = self.example\n",
    "  plt.figure(figsize=(12, 8))\n",
    "  plot_col_index = self.column_indices[plot_col]\n",
    "  max_n = min(max_subplots, len(inputs))\n",
    "  for n in range(max_n):\n",
    "    plt.subplot(max_n, 1, n+1)\n",
    "    plt.ylabel(f'{plot_col} [normed]')\n",
    "    plt.plot(self.input_indices, inputs[n, :, plot_col_index],\n",
    "             label='Inputs', marker='.', zorder=-10)\n",
    "\n",
    "    if self.label_columns:\n",
    "      label_col_index = self.label_columns_indices.get(plot_col, None)\n",
    "    else:\n",
    "      label_col_index = plot_col_index\n",
    "\n",
    "    if label_col_index is None:\n",
    "      continue\n",
    "\n",
    "    plt.scatter(self.label_indices, labels[n, :, label_col_index],\n",
    "                edgecolors='k', label='Labels', c='#2ca02c', s=64)\n",
    "    if model is not None:\n",
    "      predictions = model(inputs)\n",
    "      plt.scatter(self.label_indices, predictions[n, :, label_col_index],\n",
    "                  marker='X', edgecolors='k', label='Predictions',\n",
    "                  c='#ff7f0e', s=64)\n",
    "\n",
    "    if n == 0:\n",
    "      plt.legend()\n",
    "\n",
    "  plt.xlabel('Time [h]')\n",
    "\n",
    "WindowGenerator.plot = plot"
   ]
  },
  {
   "cell_type": "code",
   "execution_count": null,
   "metadata": {},
   "outputs": [],
   "source": [
    "w1.plot()"
   ]
  },
  {
   "cell_type": "code",
   "execution_count": null,
   "metadata": {},
   "outputs": [],
   "source": [
    "w1.plot(plot_col='ad_Target')"
   ]
  },
  {
   "cell_type": "markdown",
   "metadata": {},
   "source": [
    "- ## create dataset"
   ]
  },
  {
   "cell_type": "code",
   "execution_count": null,
   "metadata": {},
   "outputs": [],
   "source": [
    "def make_dataset(self, data):\n",
    "  data = np.array(data, dtype=np.float32)\n",
    "  ds = tf.keras.utils.timeseries_dataset_from_array(\n",
    "      data=data,\n",
    "      targets=None,\n",
    "      sequence_length=self.total_window_size,\n",
    "      sequence_stride=1,\n",
    "      shuffle=True,\n",
    "      batch_size=32,)\n",
    "\n",
    "  ds = ds.map(self.split_window)\n",
    "\n",
    "  return ds\n",
    "\n",
    "WindowGenerator.make_dataset = make_dataset"
   ]
  },
  {
   "cell_type": "markdown",
   "metadata": {},
   "source": [
    "## - train , val , test"
   ]
  },
  {
   "cell_type": "code",
   "execution_count": null,
   "metadata": {},
   "outputs": [],
   "source": [
    "@property\n",
    "def train(self):\n",
    "  return self.make_dataset(self.train_df)\n",
    "\n",
    "@property\n",
    "def val(self):\n",
    "  return self.make_dataset(self.val_df)\n",
    "\n",
    "@property\n",
    "def test(self):\n",
    "  return self.make_dataset(self.test_df)\n",
    "\n",
    "@property\n",
    "def example(self):\n",
    "  \"\"\"Get and cache an example batch of `inputs, labels` for plotting.\"\"\"\n",
    "  result = getattr(self, '_example', None)\n",
    "  if result is None:\n",
    "    # No example batch was found, so get one from the `.train` dataset\n",
    "    result = next(iter(self.train))\n",
    "    # And cache it for next time\n",
    "    self._example = result\n",
    "  return result\n",
    "\n",
    "WindowGenerator.train = train\n",
    "WindowGenerator.val = val\n",
    "WindowGenerator.test = test\n",
    "WindowGenerator.example = example"
   ]
  },
  {
   "cell_type": "code",
   "execution_count": null,
   "metadata": {},
   "outputs": [],
   "source": [
    "# Each element is an (inputs, label) pair.\n",
    "w1.train.element_spec"
   ]
  },
  {
   "cell_type": "code",
   "execution_count": null,
   "metadata": {},
   "outputs": [],
   "source": [
    "for example_inputs, example_labels in w1.train.take(1):\n",
    "  print(f'Inputs shape (batch, time, features): {example_inputs.shape}')\n",
    "  print(f'Labels shape (batch, time, features): {example_labels.shape}')"
   ]
  },
  {
   "cell_type": "markdown",
   "metadata": {},
   "source": [
    "## - single step models:\n",
    "predict a single features value 1 time step into future"
   ]
  },
  {
   "cell_type": "code",
   "execution_count": null,
   "metadata": {},
   "outputs": [],
   "source": [
    "single_step_window = WindowGenerator(\n",
    "    input_width=1, label_width=1, shift=1,\n",
    "    label_columns=['ad_Close'])\n",
    "single_step_window"
   ]
  },
  {
   "cell_type": "code",
   "execution_count": null,
   "metadata": {},
   "outputs": [],
   "source": [
    "for example_inputs, example_labels in single_step_window.train.take(1):\n",
    "  print(f'Inputs shape (batch, time, features): {example_inputs.shape}')\n",
    "  print(f'Labels shape (batch, time, features): {example_labels.shape}')"
   ]
  },
  {
   "cell_type": "markdown",
   "metadata": {},
   "source": [
    "- Baseline"
   ]
  },
  {
   "cell_type": "code",
   "execution_count": null,
   "metadata": {},
   "outputs": [],
   "source": [
    "class Baseline(tf.keras.Model):\n",
    "  def __init__(self, label_index=None):\n",
    "    super().__init__()\n",
    "    self.label_index = label_index\n",
    "\n",
    "  def call(self, inputs):\n",
    "    if self.label_index is None:\n",
    "      return inputs\n",
    "    result = inputs[:, :, self.label_index]\n",
    "    return result[:, :, tf.newaxis]"
   ]
  },
  {
   "cell_type": "code",
   "execution_count": null,
   "metadata": {},
   "outputs": [],
   "source": [
    "baseline = Baseline(label_index=w1.column_indices['ad_Close'])\n",
    "\n",
    "baseline.compile(loss=tf.losses.MeanSquaredError(),\n",
    "                 metrics=[tf.metrics.MeanAbsoluteError()])\n",
    "\n",
    "val_performance = {}\n",
    "performance = {}\n",
    "val_performance['Baseline'] = baseline.evaluate(single_step_window.val)\n",
    "performance['Baseline'] = baseline.evaluate(single_step_window.test, verbose=0)\n",
    "#val_performance['Baseline'] = baseline.evaluate(w1.val_df)\n",
    "#performance['Baseline'] = baseline.evaluate(w1.test_df, verbose=0)"
   ]
  },
  {
   "cell_type": "code",
   "execution_count": null,
   "metadata": {},
   "outputs": [],
   "source": [
    "single_step_window.plot(baseline)"
   ]
  },
  {
   "cell_type": "code",
   "execution_count": null,
   "metadata": {},
   "outputs": [],
   "source": [
    "wide_window = WindowGenerator(\n",
    "    input_width=22, label_width=22, shift=1,\n",
    "    label_columns=['ad_Close'])\n",
    "\n",
    "wide_window"
   ]
  },
  {
   "cell_type": "code",
   "execution_count": null,
   "metadata": {},
   "outputs": [],
   "source": [
    "for example_inputs, example_labels in wide_window.train.take(1):\n",
    "  print(f'Inputs shape (batch, time, features): {example_inputs.shape}')\n",
    "  print(f'Labels shape (batch, time, features): {example_labels.shape}')"
   ]
  },
  {
   "cell_type": "code",
   "execution_count": null,
   "metadata": {},
   "outputs": [],
   "source": [
    "print('Input shape:', wide_window.example[0].shape)\n",
    "print('Output shape:', baseline(wide_window.example[0]).shape)"
   ]
  },
  {
   "cell_type": "code",
   "execution_count": null,
   "metadata": {},
   "outputs": [],
   "source": [
    "wide_window.plot(baseline)"
   ]
  },
  {
   "cell_type": "markdown",
   "metadata": {},
   "source": [
    "## - linear"
   ]
  },
  {
   "cell_type": "code",
   "execution_count": null,
   "metadata": {},
   "outputs": [],
   "source": [
    "linear = tf.keras.Sequential([\n",
    "    tf.keras.layers.Dense(units=1)\n",
    "])"
   ]
  },
  {
   "cell_type": "code",
   "execution_count": null,
   "metadata": {},
   "outputs": [],
   "source": [
    "MAX_EPOCHS = 20\n",
    "\n",
    "def compile_and_fit(model, window, patience=2):\n",
    "  early_stopping = tf.keras.callbacks.EarlyStopping(monitor='val_loss',\n",
    "                                                    patience=patience,\n",
    "                                                    mode='min')\n",
    "\n",
    "  model.compile(loss=tf.losses.MeanSquaredError(),\n",
    "                optimizer=tf.optimizers.Adam(),\n",
    "                metrics=[tf.metrics.MeanAbsoluteError()])\n",
    "\n",
    "  history = model.fit(window.train, epochs=MAX_EPOCHS,\n",
    "                      validation_data=window.val,\n",
    "                      callbacks=[early_stopping])\n",
    "  return history"
   ]
  },
  {
   "cell_type": "code",
   "execution_count": null,
   "metadata": {},
   "outputs": [],
   "source": [
    "history = compile_and_fit(linear, wide_window)\n",
    "\n",
    "#val_performance['Linear'] = linear.evaluate(wide_window.val)\n",
    "performance['Linear'] = linear.evaluate(wide_window.test, verbose=0)"
   ]
  },
  {
   "cell_type": "code",
   "execution_count": null,
   "metadata": {},
   "outputs": [],
   "source": [
    "wide_window.plot(linear)"
   ]
  },
  {
   "cell_type": "code",
   "execution_count": null,
   "metadata": {},
   "outputs": [],
   "source": [
    "plt.bar(x = range(len(train_scaled.columns)),\n",
    "        height=linear.layers[0].kernel[:,0].numpy())\n",
    "axis = plt.gca()\n",
    "axis.set_xticks(range(len(train_scaled.columns)))\n",
    "_ = axis.set_xticklabels(train_scaled.columns, rotation=90)"
   ]
  },
  {
   "cell_type": "code",
   "execution_count": null,
   "metadata": {},
   "outputs": [],
   "source": [
    "\n",
    "#val_performance['Linear'] = linear.evaluate(wide_window.val)\n",
    "performance['Linear'] = linear.evaluate(wide_window.test, verbose=0)"
   ]
  },
  {
   "cell_type": "code",
   "execution_count": null,
   "metadata": {},
   "outputs": [],
   "source": [
    "performance"
   ]
  },
  {
   "cell_type": "code",
   "execution_count": null,
   "metadata": {},
   "outputs": [],
   "source": [
    "x = np.arange(len(performance))\n",
    "width = 0.3\n",
    "metric_name = 'mean_absolute_error'\n",
    "metric_index = linear.metrics_names.index('mean_absolute_error')\n",
    "val_mae = [v[metric_index] for v in val_performance.values()]\n",
    "test_mae = [v[metric_index] for v in performance.values()]\n",
    "\n",
    "plt.ylabel('mean_absolute_error [T (degC), normalized]')\n",
    "plt.bar(x - 0.17, val_mae, width, label='Validation')\n",
    "plt.bar(x + 0.17, test_mae, width, label='Test')\n",
    "plt.xticks(ticks=x, labels=performance.keys(),\n",
    "           rotation=45)\n",
    "_ = plt.legend()"
   ]
  }
 ],
 "metadata": {
  "interpreter": {
   "hash": "8e59dc4903522b6bd625aac9b906fbe96a3134871878cc11f65b8580a1e47af4"
  },
  "kernelspec": {
   "display_name": "Python 3.9.4 ('.venv': venv)",
   "language": "python",
   "name": "python3"
  },
  "language_info": {
   "codemirror_mode": {
    "name": "ipython",
    "version": 3
   },
   "file_extension": ".py",
   "mimetype": "text/x-python",
   "name": "python",
   "nbconvert_exporter": "python",
   "pygments_lexer": "ipython3",
   "version": "3.9.4"
  },
  "orig_nbformat": 4
 },
 "nbformat": 4,
 "nbformat_minor": 2
}
