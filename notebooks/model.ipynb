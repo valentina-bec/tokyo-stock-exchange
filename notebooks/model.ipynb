{
 "cells": [
  {
   "cell_type": "code",
   "execution_count": 1,
   "metadata": {},
   "outputs": [],
   "source": [
    "import os\n",
    "import datetime\n",
    "\n",
    "import sys\n",
    "\n",
    "sys.path.append(\"..\")\n",
    "\n",
    "import IPython\n",
    "import IPython.display\n",
    "import matplotlib as mpl\n",
    "import matplotlib.pyplot as plt\n",
    "import numpy as np\n",
    "import pandas as pd\n",
    "import seaborn as sns\n",
    "import tensorflow as tf\n",
    "from tqdm import tqdm\n",
    "\n",
    "from sklearn.preprocessing import StandardScaler\n",
    "from functions import df_security_code, missingValues\n",
    "\n",
    "from sklearn.metrics import mean_squared_error\n",
    "\n",
    "import tensorflow as tf\n",
    "\n",
    "from tensorflow import keras\n",
    "from tensorflow.keras import layers\n",
    "from tensorflow.keras.layers.experimental import preprocessing\n",
    "\n",
    "\n",
    "mpl.rcParams['figure.figsize'] = (8, 6)\n",
    "mpl.rcParams['axes.grid'] = False"
   ]
  },
  {
   "cell_type": "markdown",
   "metadata": {},
   "source": [
    "# Data"
   ]
  },
  {
   "cell_type": "code",
   "execution_count": 2,
   "metadata": {},
   "outputs": [],
   "source": [
    "# TODO axis o is time dimension"
   ]
  },
  {
   "cell_type": "markdown",
   "metadata": {},
   "source": []
  },
  {
   "cell_type": "code",
   "execution_count": 3,
   "metadata": {},
   "outputs": [],
   "source": [
    "data_train = pd.read_csv('../data/curr_train_data.csv', parse_dates=['Date'],  index_col=[0])\n",
    "data_test = pd.read_csv('../data/curr_test_data.csv', parse_dates=['Date'],  index_col=[0])\n",
    "df_train = df_security_code(data_train, 7616)\n",
    "df_test = df_security_code(data_test, 7616)\n",
    "del data_train, data_test"
   ]
  },
  {
   "cell_type": "code",
   "execution_count": 4,
   "metadata": {},
   "outputs": [
    {
     "data": {
      "text/html": [
       "<div>\n",
       "<style scoped>\n",
       "    .dataframe tbody tr th:only-of-type {\n",
       "        vertical-align: middle;\n",
       "    }\n",
       "\n",
       "    .dataframe tbody tr th {\n",
       "        vertical-align: top;\n",
       "    }\n",
       "\n",
       "    .dataframe thead th {\n",
       "        text-align: right;\n",
       "    }\n",
       "</style>\n",
       "<table border=\"1\" class=\"dataframe\">\n",
       "  <thead>\n",
       "    <tr style=\"text-align: right;\">\n",
       "      <th></th>\n",
       "      <th>RowId</th>\n",
       "      <th>Date</th>\n",
       "      <th>SecuritiesCode</th>\n",
       "      <th>ExpectedDividend</th>\n",
       "      <th>SupervisionFlag</th>\n",
       "      <th>ad_Open</th>\n",
       "      <th>ad_High</th>\n",
       "      <th>ad_Low</th>\n",
       "      <th>ad_Close</th>\n",
       "      <th>ad_Volume</th>\n",
       "      <th>...</th>\n",
       "      <th>Month</th>\n",
       "      <th>Year</th>\n",
       "      <th>week</th>\n",
       "      <th>Volatility_week</th>\n",
       "      <th>Profit</th>\n",
       "      <th>NetSales</th>\n",
       "      <th>margin</th>\n",
       "      <th>win_quarter_growth</th>\n",
       "      <th>rev_quarter_growth</th>\n",
       "      <th>margin_growth</th>\n",
       "    </tr>\n",
       "  </thead>\n",
       "  <tbody>\n",
       "    <tr>\n",
       "      <th>2112813</th>\n",
       "      <td>20170509_7616</td>\n",
       "      <td>2017-05-09</td>\n",
       "      <td>7616</td>\n",
       "      <td>0.0</td>\n",
       "      <td>0</td>\n",
       "      <td>1868.0</td>\n",
       "      <td>1878.0</td>\n",
       "      <td>1864.0</td>\n",
       "      <td>1872.0</td>\n",
       "      <td>195000.0</td>\n",
       "      <td>...</td>\n",
       "      <td>5.0</td>\n",
       "      <td>2017.0</td>\n",
       "      <td>19.0</td>\n",
       "      <td>3.011912</td>\n",
       "      <td>-1.398000e+09</td>\n",
       "      <td>2.344440e+11</td>\n",
       "      <td>-0.596304</td>\n",
       "      <td>-29.21519</td>\n",
       "      <td>34.976078</td>\n",
       "      <td>-47.557515</td>\n",
       "    </tr>\n",
       "    <tr>\n",
       "      <th>2112814</th>\n",
       "      <td>20170510_7616</td>\n",
       "      <td>2017-05-10</td>\n",
       "      <td>7616</td>\n",
       "      <td>0.0</td>\n",
       "      <td>0</td>\n",
       "      <td>1888.0</td>\n",
       "      <td>1930.0</td>\n",
       "      <td>1881.0</td>\n",
       "      <td>1928.0</td>\n",
       "      <td>733300.0</td>\n",
       "      <td>...</td>\n",
       "      <td>5.0</td>\n",
       "      <td>2017.0</td>\n",
       "      <td>19.0</td>\n",
       "      <td>3.011912</td>\n",
       "      <td>-1.398000e+09</td>\n",
       "      <td>2.344440e+11</td>\n",
       "      <td>-0.596304</td>\n",
       "      <td>-29.21519</td>\n",
       "      <td>34.976078</td>\n",
       "      <td>-47.557515</td>\n",
       "    </tr>\n",
       "  </tbody>\n",
       "</table>\n",
       "<p>2 rows × 57 columns</p>\n",
       "</div>"
      ],
      "text/plain": [
       "                 RowId       Date  SecuritiesCode  ExpectedDividend  \\\n",
       "2112813  20170509_7616 2017-05-09            7616               0.0   \n",
       "2112814  20170510_7616 2017-05-10            7616               0.0   \n",
       "\n",
       "         SupervisionFlag  ad_Open  ad_High  ad_Low  ad_Close  ad_Volume  ...  \\\n",
       "2112813                0   1868.0   1878.0  1864.0    1872.0   195000.0  ...   \n",
       "2112814                0   1888.0   1930.0  1881.0    1928.0   733300.0  ...   \n",
       "\n",
       "         Month    Year  week  Volatility_week        Profit      NetSales  \\\n",
       "2112813    5.0  2017.0  19.0         3.011912 -1.398000e+09  2.344440e+11   \n",
       "2112814    5.0  2017.0  19.0         3.011912 -1.398000e+09  2.344440e+11   \n",
       "\n",
       "           margin  win_quarter_growth  rev_quarter_growth  margin_growth  \n",
       "2112813 -0.596304           -29.21519           34.976078     -47.557515  \n",
       "2112814 -0.596304           -29.21519           34.976078     -47.557515  \n",
       "\n",
       "[2 rows x 57 columns]"
      ]
     },
     "execution_count": 4,
     "metadata": {},
     "output_type": "execute_result"
    }
   ],
   "source": [
    "df_train.head(2)"
   ]
  },
  {
   "cell_type": "code",
   "execution_count": 5,
   "metadata": {},
   "outputs": [
    {
     "data": {
      "text/html": [
       "<div>\n",
       "<style scoped>\n",
       "    .dataframe tbody tr th:only-of-type {\n",
       "        vertical-align: middle;\n",
       "    }\n",
       "\n",
       "    .dataframe tbody tr th {\n",
       "        vertical-align: top;\n",
       "    }\n",
       "\n",
       "    .dataframe thead th {\n",
       "        text-align: right;\n",
       "    }\n",
       "</style>\n",
       "<table border=\"1\" class=\"dataframe\">\n",
       "  <thead>\n",
       "    <tr style=\"text-align: right;\">\n",
       "      <th></th>\n",
       "      <th>RowId</th>\n",
       "      <th>Date</th>\n",
       "      <th>SecuritiesCode</th>\n",
       "      <th>ExpectedDividend</th>\n",
       "      <th>SupervisionFlag</th>\n",
       "      <th>ad_Open</th>\n",
       "      <th>ad_High</th>\n",
       "      <th>ad_Low</th>\n",
       "      <th>ad_Close</th>\n",
       "      <th>ad_Volume</th>\n",
       "      <th>...</th>\n",
       "      <th>Month</th>\n",
       "      <th>Year</th>\n",
       "      <th>week</th>\n",
       "      <th>Volatility_week</th>\n",
       "      <th>Profit</th>\n",
       "      <th>NetSales</th>\n",
       "      <th>margin</th>\n",
       "      <th>win_quarter_growth</th>\n",
       "      <th>rev_quarter_growth</th>\n",
       "      <th>margin_growth</th>\n",
       "    </tr>\n",
       "  </thead>\n",
       "  <tbody>\n",
       "    <tr>\n",
       "      <th>2113913</th>\n",
       "      <td>20211105_7616</td>\n",
       "      <td>2021-11-05</td>\n",
       "      <td>7616</td>\n",
       "      <td>0.0</td>\n",
       "      <td>0</td>\n",
       "      <td>1663.0</td>\n",
       "      <td>1677.0</td>\n",
       "      <td>1655.0</td>\n",
       "      <td>1676.0</td>\n",
       "      <td>315800.0</td>\n",
       "      <td>...</td>\n",
       "      <td>11.0</td>\n",
       "      <td>2021.0</td>\n",
       "      <td>44.0</td>\n",
       "      <td>1.527375</td>\n",
       "      <td>719000000.0</td>\n",
       "      <td>3.933000e+10</td>\n",
       "      <td>1.828121</td>\n",
       "      <td>0.0</td>\n",
       "      <td>0.0</td>\n",
       "      <td>0.0</td>\n",
       "    </tr>\n",
       "    <tr>\n",
       "      <th>2113914</th>\n",
       "      <td>20211108_7616</td>\n",
       "      <td>2021-11-08</td>\n",
       "      <td>7616</td>\n",
       "      <td>0.0</td>\n",
       "      <td>0</td>\n",
       "      <td>1687.0</td>\n",
       "      <td>1704.0</td>\n",
       "      <td>1681.0</td>\n",
       "      <td>1689.0</td>\n",
       "      <td>480600.0</td>\n",
       "      <td>...</td>\n",
       "      <td>11.0</td>\n",
       "      <td>2021.0</td>\n",
       "      <td>45.0</td>\n",
       "      <td>3.739111</td>\n",
       "      <td>719000000.0</td>\n",
       "      <td>3.933000e+10</td>\n",
       "      <td>1.828121</td>\n",
       "      <td>0.0</td>\n",
       "      <td>0.0</td>\n",
       "      <td>0.0</td>\n",
       "    </tr>\n",
       "  </tbody>\n",
       "</table>\n",
       "<p>2 rows × 57 columns</p>\n",
       "</div>"
      ],
      "text/plain": [
       "                 RowId       Date  SecuritiesCode  ExpectedDividend  \\\n",
       "2113913  20211105_7616 2021-11-05            7616               0.0   \n",
       "2113914  20211108_7616 2021-11-08            7616               0.0   \n",
       "\n",
       "         SupervisionFlag  ad_Open  ad_High  ad_Low  ad_Close  ad_Volume  ...  \\\n",
       "2113913                0   1663.0   1677.0  1655.0    1676.0   315800.0  ...   \n",
       "2113914                0   1687.0   1704.0  1681.0    1689.0   480600.0  ...   \n",
       "\n",
       "         Month    Year  week  Volatility_week       Profit      NetSales  \\\n",
       "2113913   11.0  2021.0  44.0         1.527375  719000000.0  3.933000e+10   \n",
       "2113914   11.0  2021.0  45.0         3.739111  719000000.0  3.933000e+10   \n",
       "\n",
       "           margin  win_quarter_growth  rev_quarter_growth  margin_growth  \n",
       "2113913  1.828121                 0.0                 0.0            0.0  \n",
       "2113914  1.828121                 0.0                 0.0            0.0  \n",
       "\n",
       "[2 rows x 57 columns]"
      ]
     },
     "execution_count": 5,
     "metadata": {},
     "output_type": "execute_result"
    }
   ],
   "source": [
    "df_test.head(2)"
   ]
  },
  {
   "cell_type": "code",
   "execution_count": 6,
   "metadata": {},
   "outputs": [
    {
     "data": {
      "text/html": [
       "<div>\n",
       "<style scoped>\n",
       "    .dataframe tbody tr th:only-of-type {\n",
       "        vertical-align: middle;\n",
       "    }\n",
       "\n",
       "    .dataframe tbody tr th {\n",
       "        vertical-align: top;\n",
       "    }\n",
       "\n",
       "    .dataframe thead th {\n",
       "        text-align: right;\n",
       "    }\n",
       "</style>\n",
       "<table border=\"1\" class=\"dataframe\">\n",
       "  <thead>\n",
       "    <tr style=\"text-align: right;\">\n",
       "      <th></th>\n",
       "      <th>count</th>\n",
       "      <th>mean</th>\n",
       "      <th>std</th>\n",
       "      <th>min</th>\n",
       "      <th>25%</th>\n",
       "      <th>50%</th>\n",
       "      <th>75%</th>\n",
       "      <th>max</th>\n",
       "    </tr>\n",
       "  </thead>\n",
       "  <tbody>\n",
       "    <tr>\n",
       "      <th>SecuritiesCode</th>\n",
       "      <td>1100.0</td>\n",
       "      <td>7616.000000</td>\n",
       "      <td>0.000000</td>\n",
       "      <td>7616.000000</td>\n",
       "      <td>7616.000000</td>\n",
       "      <td>7616.000000</td>\n",
       "      <td>7616.000000</td>\n",
       "      <td>7.616000e+03</td>\n",
       "    </tr>\n",
       "    <tr>\n",
       "      <th>ExpectedDividend</th>\n",
       "      <td>1100.0</td>\n",
       "      <td>0.018182</td>\n",
       "      <td>0.301100</td>\n",
       "      <td>0.000000</td>\n",
       "      <td>0.000000</td>\n",
       "      <td>0.000000</td>\n",
       "      <td>0.000000</td>\n",
       "      <td>5.000000e+00</td>\n",
       "    </tr>\n",
       "    <tr>\n",
       "      <th>SupervisionFlag</th>\n",
       "      <td>1100.0</td>\n",
       "      <td>0.000000</td>\n",
       "      <td>0.000000</td>\n",
       "      <td>0.000000</td>\n",
       "      <td>0.000000</td>\n",
       "      <td>0.000000</td>\n",
       "      <td>0.000000</td>\n",
       "      <td>0.000000e+00</td>\n",
       "    </tr>\n",
       "    <tr>\n",
       "      <th>ad_Open</th>\n",
       "      <td>1100.0</td>\n",
       "      <td>2117.578182</td>\n",
       "      <td>427.272953</td>\n",
       "      <td>1180.000000</td>\n",
       "      <td>1851.750000</td>\n",
       "      <td>2080.000000</td>\n",
       "      <td>2323.500000</td>\n",
       "      <td>3.185000e+03</td>\n",
       "    </tr>\n",
       "    <tr>\n",
       "      <th>ad_High</th>\n",
       "      <td>1100.0</td>\n",
       "      <td>2141.008182</td>\n",
       "      <td>427.363461</td>\n",
       "      <td>1209.000000</td>\n",
       "      <td>1876.750000</td>\n",
       "      <td>2102.000000</td>\n",
       "      <td>2345.500000</td>\n",
       "      <td>3.225000e+03</td>\n",
       "    </tr>\n",
       "    <tr>\n",
       "      <th>ad_Low</th>\n",
       "      <td>1100.0</td>\n",
       "      <td>2094.330000</td>\n",
       "      <td>427.728149</td>\n",
       "      <td>1162.000000</td>\n",
       "      <td>1827.750000</td>\n",
       "      <td>2060.000000</td>\n",
       "      <td>2302.000000</td>\n",
       "      <td>3.150000e+03</td>\n",
       "    </tr>\n",
       "    <tr>\n",
       "      <th>ad_Close</th>\n",
       "      <td>1100.0</td>\n",
       "      <td>2117.138182</td>\n",
       "      <td>427.114628</td>\n",
       "      <td>1179.000000</td>\n",
       "      <td>1853.750000</td>\n",
       "      <td>2083.000000</td>\n",
       "      <td>2324.500000</td>\n",
       "      <td>3.175000e+03</td>\n",
       "    </tr>\n",
       "    <tr>\n",
       "      <th>ad_Volume</th>\n",
       "      <td>1100.0</td>\n",
       "      <td>386650.181818</td>\n",
       "      <td>451013.873566</td>\n",
       "      <td>0.000000</td>\n",
       "      <td>166375.000000</td>\n",
       "      <td>237400.000000</td>\n",
       "      <td>420875.000000</td>\n",
       "      <td>7.485800e+06</td>\n",
       "    </tr>\n",
       "    <tr>\n",
       "      <th>ad_Target</th>\n",
       "      <td>1100.0</td>\n",
       "      <td>0.000103</td>\n",
       "      <td>0.021691</td>\n",
       "      <td>-0.105793</td>\n",
       "      <td>-0.009494</td>\n",
       "      <td>0.000851</td>\n",
       "      <td>0.009825</td>\n",
       "      <td>1.206268e-01</td>\n",
       "    </tr>\n",
       "    <tr>\n",
       "      <th>ad_Close_lag1</th>\n",
       "      <td>1100.0</td>\n",
       "      <td>2117.301818</td>\n",
       "      <td>426.967085</td>\n",
       "      <td>1179.000000</td>\n",
       "      <td>1854.750000</td>\n",
       "      <td>2083.000000</td>\n",
       "      <td>2324.500000</td>\n",
       "      <td>3.175000e+03</td>\n",
       "    </tr>\n",
       "    <tr>\n",
       "      <th>ad_Close_sma10</th>\n",
       "      <td>1100.0</td>\n",
       "      <td>2117.790636</td>\n",
       "      <td>422.653146</td>\n",
       "      <td>1276.200000</td>\n",
       "      <td>1862.925000</td>\n",
       "      <td>2085.200000</td>\n",
       "      <td>2319.700000</td>\n",
       "      <td>3.094500e+03</td>\n",
       "    </tr>\n",
       "    <tr>\n",
       "      <th>logprice_ad_Close</th>\n",
       "      <td>1100.0</td>\n",
       "      <td>7.637813</td>\n",
       "      <td>0.200092</td>\n",
       "      <td>7.072422</td>\n",
       "      <td>7.524966</td>\n",
       "      <td>7.641564</td>\n",
       "      <td>7.751260</td>\n",
       "      <td>8.063063e+00</td>\n",
       "    </tr>\n",
       "    <tr>\n",
       "      <th>trend_ad_Close</th>\n",
       "      <td>1100.0</td>\n",
       "      <td>2118.883333</td>\n",
       "      <td>415.169550</td>\n",
       "      <td>1353.200000</td>\n",
       "      <td>1859.941667</td>\n",
       "      <td>2090.633333</td>\n",
       "      <td>2328.375000</td>\n",
       "      <td>3.065833e+03</td>\n",
       "    </tr>\n",
       "    <tr>\n",
       "      <th>detrend_ad_Close</th>\n",
       "      <td>1100.0</td>\n",
       "      <td>-1.745152</td>\n",
       "      <td>126.405599</td>\n",
       "      <td>-696.666667</td>\n",
       "      <td>-74.083333</td>\n",
       "      <td>6.883333</td>\n",
       "      <td>71.575000</td>\n",
       "      <td>4.440000e+02</td>\n",
       "    </tr>\n",
       "    <tr>\n",
       "      <th>season_ad_Close</th>\n",
       "      <td>1100.0</td>\n",
       "      <td>-1.745152</td>\n",
       "      <td>126.405599</td>\n",
       "      <td>-696.666667</td>\n",
       "      <td>-74.083333</td>\n",
       "      <td>6.883333</td>\n",
       "      <td>71.575000</td>\n",
       "      <td>4.440000e+02</td>\n",
       "    </tr>\n",
       "    <tr>\n",
       "      <th>error_ad_Close</th>\n",
       "      <td>1100.0</td>\n",
       "      <td>0.000000</td>\n",
       "      <td>0.000000</td>\n",
       "      <td>0.000000</td>\n",
       "      <td>0.000000</td>\n",
       "      <td>0.000000</td>\n",
       "      <td>0.000000</td>\n",
       "      <td>0.000000e+00</td>\n",
       "    </tr>\n",
       "    <tr>\n",
       "      <th>ad_Open_lag1</th>\n",
       "      <td>1100.0</td>\n",
       "      <td>2117.680000</td>\n",
       "      <td>427.150070</td>\n",
       "      <td>1180.000000</td>\n",
       "      <td>1851.750000</td>\n",
       "      <td>2080.000000</td>\n",
       "      <td>2323.500000</td>\n",
       "      <td>3.185000e+03</td>\n",
       "    </tr>\n",
       "    <tr>\n",
       "      <th>ad_Open_sma10</th>\n",
       "      <td>1100.0</td>\n",
       "      <td>2118.211909</td>\n",
       "      <td>422.737976</td>\n",
       "      <td>1276.400000</td>\n",
       "      <td>1857.400000</td>\n",
       "      <td>2082.350000</td>\n",
       "      <td>2318.625000</td>\n",
       "      <td>3.091000e+03</td>\n",
       "    </tr>\n",
       "    <tr>\n",
       "      <th>logprice_ad_Open</th>\n",
       "      <td>1100.0</td>\n",
       "      <td>7.638019</td>\n",
       "      <td>0.200094</td>\n",
       "      <td>7.073270</td>\n",
       "      <td>7.523886</td>\n",
       "      <td>7.640123</td>\n",
       "      <td>7.750829</td>\n",
       "      <td>8.066208e+00</td>\n",
       "    </tr>\n",
       "    <tr>\n",
       "      <th>trend_ad_Open</th>\n",
       "      <td>1100.0</td>\n",
       "      <td>2119.247030</td>\n",
       "      <td>415.247940</td>\n",
       "      <td>1354.633333</td>\n",
       "      <td>1858.133333</td>\n",
       "      <td>2088.683333</td>\n",
       "      <td>2327.608333</td>\n",
       "      <td>3.063667e+03</td>\n",
       "    </tr>\n",
       "    <tr>\n",
       "      <th>detrend_ad_Open</th>\n",
       "      <td>1100.0</td>\n",
       "      <td>-1.668848</td>\n",
       "      <td>127.193090</td>\n",
       "      <td>-713.400000</td>\n",
       "      <td>-76.708333</td>\n",
       "      <td>6.833333</td>\n",
       "      <td>72.700000</td>\n",
       "      <td>4.026667e+02</td>\n",
       "    </tr>\n",
       "    <tr>\n",
       "      <th>season_ad_Open</th>\n",
       "      <td>1100.0</td>\n",
       "      <td>-1.668848</td>\n",
       "      <td>127.193090</td>\n",
       "      <td>-713.400000</td>\n",
       "      <td>-76.708333</td>\n",
       "      <td>6.833333</td>\n",
       "      <td>72.700000</td>\n",
       "      <td>4.026667e+02</td>\n",
       "    </tr>\n",
       "    <tr>\n",
       "      <th>error_ad_Open</th>\n",
       "      <td>1100.0</td>\n",
       "      <td>0.000000</td>\n",
       "      <td>0.000000</td>\n",
       "      <td>0.000000</td>\n",
       "      <td>0.000000</td>\n",
       "      <td>0.000000</td>\n",
       "      <td>0.000000</td>\n",
       "      <td>0.000000e+00</td>\n",
       "    </tr>\n",
       "    <tr>\n",
       "      <th>ad_High_lag1</th>\n",
       "      <td>1100.0</td>\n",
       "      <td>2141.160000</td>\n",
       "      <td>427.221316</td>\n",
       "      <td>1209.000000</td>\n",
       "      <td>1876.750000</td>\n",
       "      <td>2102.000000</td>\n",
       "      <td>2345.500000</td>\n",
       "      <td>3.225000e+03</td>\n",
       "    </tr>\n",
       "    <tr>\n",
       "      <th>ad_High_sma10</th>\n",
       "      <td>1100.0</td>\n",
       "      <td>2141.657273</td>\n",
       "      <td>423.124963</td>\n",
       "      <td>1306.400000</td>\n",
       "      <td>1882.450000</td>\n",
       "      <td>2102.000000</td>\n",
       "      <td>2348.350000</td>\n",
       "      <td>3.125500e+03</td>\n",
       "    </tr>\n",
       "    <tr>\n",
       "      <th>logprice_ad_High</th>\n",
       "      <td>1100.0</td>\n",
       "      <td>7.649566</td>\n",
       "      <td>0.197022</td>\n",
       "      <td>7.097549</td>\n",
       "      <td>7.537297</td>\n",
       "      <td>7.650645</td>\n",
       "      <td>7.760254</td>\n",
       "      <td>8.078688e+00</td>\n",
       "    </tr>\n",
       "    <tr>\n",
       "      <th>trend_ad_High</th>\n",
       "      <td>1100.0</td>\n",
       "      <td>2142.676939</td>\n",
       "      <td>415.721201</td>\n",
       "      <td>1382.100000</td>\n",
       "      <td>1879.791667</td>\n",
       "      <td>2106.116667</td>\n",
       "      <td>2351.716667</td>\n",
       "      <td>3.093667e+03</td>\n",
       "    </tr>\n",
       "    <tr>\n",
       "      <th>detrend_ad_High</th>\n",
       "      <td>1100.0</td>\n",
       "      <td>-1.668758</td>\n",
       "      <td>125.309218</td>\n",
       "      <td>-676.633333</td>\n",
       "      <td>-74.416667</td>\n",
       "      <td>5.716667</td>\n",
       "      <td>72.933333</td>\n",
       "      <td>4.452667e+02</td>\n",
       "    </tr>\n",
       "    <tr>\n",
       "      <th>season_ad_High</th>\n",
       "      <td>1100.0</td>\n",
       "      <td>-1.668758</td>\n",
       "      <td>125.309218</td>\n",
       "      <td>-676.633333</td>\n",
       "      <td>-74.416667</td>\n",
       "      <td>5.716667</td>\n",
       "      <td>72.933333</td>\n",
       "      <td>4.452667e+02</td>\n",
       "    </tr>\n",
       "    <tr>\n",
       "      <th>error_ad_High</th>\n",
       "      <td>1100.0</td>\n",
       "      <td>0.000000</td>\n",
       "      <td>0.000000</td>\n",
       "      <td>0.000000</td>\n",
       "      <td>0.000000</td>\n",
       "      <td>0.000000</td>\n",
       "      <td>0.000000</td>\n",
       "      <td>0.000000e+00</td>\n",
       "    </tr>\n",
       "  </tbody>\n",
       "</table>\n",
       "</div>"
      ],
      "text/plain": [
       "                    count           mean            std          min  \\\n",
       "SecuritiesCode     1100.0    7616.000000       0.000000  7616.000000   \n",
       "ExpectedDividend   1100.0       0.018182       0.301100     0.000000   \n",
       "SupervisionFlag    1100.0       0.000000       0.000000     0.000000   \n",
       "ad_Open            1100.0    2117.578182     427.272953  1180.000000   \n",
       "ad_High            1100.0    2141.008182     427.363461  1209.000000   \n",
       "ad_Low             1100.0    2094.330000     427.728149  1162.000000   \n",
       "ad_Close           1100.0    2117.138182     427.114628  1179.000000   \n",
       "ad_Volume          1100.0  386650.181818  451013.873566     0.000000   \n",
       "ad_Target          1100.0       0.000103       0.021691    -0.105793   \n",
       "ad_Close_lag1      1100.0    2117.301818     426.967085  1179.000000   \n",
       "ad_Close_sma10     1100.0    2117.790636     422.653146  1276.200000   \n",
       "logprice_ad_Close  1100.0       7.637813       0.200092     7.072422   \n",
       "trend_ad_Close     1100.0    2118.883333     415.169550  1353.200000   \n",
       "detrend_ad_Close   1100.0      -1.745152     126.405599  -696.666667   \n",
       "season_ad_Close    1100.0      -1.745152     126.405599  -696.666667   \n",
       "error_ad_Close     1100.0       0.000000       0.000000     0.000000   \n",
       "ad_Open_lag1       1100.0    2117.680000     427.150070  1180.000000   \n",
       "ad_Open_sma10      1100.0    2118.211909     422.737976  1276.400000   \n",
       "logprice_ad_Open   1100.0       7.638019       0.200094     7.073270   \n",
       "trend_ad_Open      1100.0    2119.247030     415.247940  1354.633333   \n",
       "detrend_ad_Open    1100.0      -1.668848     127.193090  -713.400000   \n",
       "season_ad_Open     1100.0      -1.668848     127.193090  -713.400000   \n",
       "error_ad_Open      1100.0       0.000000       0.000000     0.000000   \n",
       "ad_High_lag1       1100.0    2141.160000     427.221316  1209.000000   \n",
       "ad_High_sma10      1100.0    2141.657273     423.124963  1306.400000   \n",
       "logprice_ad_High   1100.0       7.649566       0.197022     7.097549   \n",
       "trend_ad_High      1100.0    2142.676939     415.721201  1382.100000   \n",
       "detrend_ad_High    1100.0      -1.668758     125.309218  -676.633333   \n",
       "season_ad_High     1100.0      -1.668758     125.309218  -676.633333   \n",
       "error_ad_High      1100.0       0.000000       0.000000     0.000000   \n",
       "\n",
       "                             25%            50%            75%           max  \n",
       "SecuritiesCode       7616.000000    7616.000000    7616.000000  7.616000e+03  \n",
       "ExpectedDividend        0.000000       0.000000       0.000000  5.000000e+00  \n",
       "SupervisionFlag         0.000000       0.000000       0.000000  0.000000e+00  \n",
       "ad_Open              1851.750000    2080.000000    2323.500000  3.185000e+03  \n",
       "ad_High              1876.750000    2102.000000    2345.500000  3.225000e+03  \n",
       "ad_Low               1827.750000    2060.000000    2302.000000  3.150000e+03  \n",
       "ad_Close             1853.750000    2083.000000    2324.500000  3.175000e+03  \n",
       "ad_Volume          166375.000000  237400.000000  420875.000000  7.485800e+06  \n",
       "ad_Target              -0.009494       0.000851       0.009825  1.206268e-01  \n",
       "ad_Close_lag1        1854.750000    2083.000000    2324.500000  3.175000e+03  \n",
       "ad_Close_sma10       1862.925000    2085.200000    2319.700000  3.094500e+03  \n",
       "logprice_ad_Close       7.524966       7.641564       7.751260  8.063063e+00  \n",
       "trend_ad_Close       1859.941667    2090.633333    2328.375000  3.065833e+03  \n",
       "detrend_ad_Close      -74.083333       6.883333      71.575000  4.440000e+02  \n",
       "season_ad_Close       -74.083333       6.883333      71.575000  4.440000e+02  \n",
       "error_ad_Close          0.000000       0.000000       0.000000  0.000000e+00  \n",
       "ad_Open_lag1         1851.750000    2080.000000    2323.500000  3.185000e+03  \n",
       "ad_Open_sma10        1857.400000    2082.350000    2318.625000  3.091000e+03  \n",
       "logprice_ad_Open        7.523886       7.640123       7.750829  8.066208e+00  \n",
       "trend_ad_Open        1858.133333    2088.683333    2327.608333  3.063667e+03  \n",
       "detrend_ad_Open       -76.708333       6.833333      72.700000  4.026667e+02  \n",
       "season_ad_Open        -76.708333       6.833333      72.700000  4.026667e+02  \n",
       "error_ad_Open           0.000000       0.000000       0.000000  0.000000e+00  \n",
       "ad_High_lag1         1876.750000    2102.000000    2345.500000  3.225000e+03  \n",
       "ad_High_sma10        1882.450000    2102.000000    2348.350000  3.125500e+03  \n",
       "logprice_ad_High        7.537297       7.650645       7.760254  8.078688e+00  \n",
       "trend_ad_High        1879.791667    2106.116667    2351.716667  3.093667e+03  \n",
       "detrend_ad_High       -74.416667       5.716667      72.933333  4.452667e+02  \n",
       "season_ad_High        -74.416667       5.716667      72.933333  4.452667e+02  \n",
       "error_ad_High           0.000000       0.000000       0.000000  0.000000e+00  "
      ]
     },
     "execution_count": 6,
     "metadata": {},
     "output_type": "execute_result"
    }
   ],
   "source": [
    "df_train.describe().T.head(30)"
   ]
  },
  {
   "cell_type": "markdown",
   "metadata": {},
   "source": [
    "- transform date"
   ]
  },
  {
   "cell_type": "code",
   "execution_count": 7,
   "metadata": {},
   "outputs": [],
   "source": [
    "def transform_date(df):\n",
    "    date_time = pd.to_datetime(df.pop('Date'), format='%Y-%m.%d')\n",
    "    timestamp_s = date_time.map(pd.Timestamp.timestamp)\n",
    "\n",
    "    day = 24*60*60\n",
    "    week = 7*day\n",
    "    month = 30.4167*day\n",
    "    year = (365.2425)*day\n",
    "\n",
    "    df['Day_sin'] = np.sin(timestamp_s * (2 * np.pi / day))\n",
    "    df['Day_cos'] = np.cos(timestamp_s * (2 * np.pi / day))\n",
    "\n",
    "    df['Month_sin'] = np.sin(timestamp_s * (2 * np.pi / month))\n",
    "    df['Month_cos'] = np.cos(timestamp_s * (2 * np.pi / month))\n",
    "\n",
    "    df['Year_sin'] = np.sin(timestamp_s * (2 * np.pi / year))\n",
    "    df['Year_cos'] = np.cos(timestamp_s * (2 * np.pi / year))"
   ]
  },
  {
   "cell_type": "code",
   "execution_count": 8,
   "metadata": {},
   "outputs": [],
   "source": [
    "transform_date(df_train)\n",
    "transform_date(df_test)"
   ]
  },
  {
   "cell_type": "markdown",
   "metadata": {},
   "source": [
    "# Preparation for modelling"
   ]
  },
  {
   "cell_type": "markdown",
   "metadata": {},
   "source": [
    "## - Train Test Split\n"
   ]
  },
  {
   "cell_type": "code",
   "execution_count": 9,
   "metadata": {},
   "outputs": [
    {
     "name": "stdout",
     "output_type": "stream",
     "text": [
      "(1078, 62)\n",
      "(22, 62)\n",
      "(22, 62)\n"
     ]
    }
   ],
   "source": [
    "def split_train_val(df, split=22):\n",
    "    l_train = len(df)\n",
    "    df_train =  df[:- split]\n",
    "    df_val = df[- split : ]\n",
    "    return df_train, df_val\n",
    "\n",
    "df_train, df_val = split_train_val(df_train)\n",
    "\n",
    "print(df_train.shape)\n",
    "print(df_val.shape)\n",
    "print(df_test.shape)"
   ]
  },
  {
   "cell_type": "code",
   "execution_count": 10,
   "metadata": {},
   "outputs": [
    {
     "data": {
      "text/html": [
       "<div>\n",
       "<style scoped>\n",
       "    .dataframe tbody tr th:only-of-type {\n",
       "        vertical-align: middle;\n",
       "    }\n",
       "\n",
       "    .dataframe tbody tr th {\n",
       "        vertical-align: top;\n",
       "    }\n",
       "\n",
       "    .dataframe thead th {\n",
       "        text-align: right;\n",
       "    }\n",
       "</style>\n",
       "<table border=\"1\" class=\"dataframe\">\n",
       "  <thead>\n",
       "    <tr style=\"text-align: right;\">\n",
       "      <th></th>\n",
       "      <th>RowId</th>\n",
       "      <th>SecuritiesCode</th>\n",
       "      <th>ExpectedDividend</th>\n",
       "      <th>SupervisionFlag</th>\n",
       "      <th>ad_Open</th>\n",
       "      <th>ad_High</th>\n",
       "      <th>ad_Low</th>\n",
       "      <th>ad_Close</th>\n",
       "      <th>ad_Volume</th>\n",
       "      <th>ad_Target</th>\n",
       "      <th>...</th>\n",
       "      <th>margin</th>\n",
       "      <th>win_quarter_growth</th>\n",
       "      <th>rev_quarter_growth</th>\n",
       "      <th>margin_growth</th>\n",
       "      <th>Day_sin</th>\n",
       "      <th>Day_cos</th>\n",
       "      <th>Month_sin</th>\n",
       "      <th>Month_cos</th>\n",
       "      <th>Year_sin</th>\n",
       "      <th>Year_cos</th>\n",
       "    </tr>\n",
       "  </thead>\n",
       "  <tbody>\n",
       "    <tr>\n",
       "      <th>2113889</th>\n",
       "      <td>20211001_7616</td>\n",
       "      <td>7616</td>\n",
       "      <td>0.0</td>\n",
       "      <td>0</td>\n",
       "      <td>1759.0</td>\n",
       "      <td>1766.0</td>\n",
       "      <td>1720.0</td>\n",
       "      <td>1766.0</td>\n",
       "      <td>950700.0</td>\n",
       "      <td>-0.002857</td>\n",
       "      <td>...</td>\n",
       "      <td>1.828121</td>\n",
       "      <td>0.0</td>\n",
       "      <td>0.0</td>\n",
       "      <td>0.0</td>\n",
       "      <td>-1.121614e-11</td>\n",
       "      <td>1.0</td>\n",
       "      <td>0.577271</td>\n",
       "      <td>-0.816552</td>\n",
       "      <td>-0.999987</td>\n",
       "      <td>-0.005150</td>\n",
       "    </tr>\n",
       "    <tr>\n",
       "      <th>2113890</th>\n",
       "      <td>20211004_7616</td>\n",
       "      <td>7616</td>\n",
       "      <td>0.0</td>\n",
       "      <td>0</td>\n",
       "      <td>1782.0</td>\n",
       "      <td>1789.0</td>\n",
       "      <td>1738.0</td>\n",
       "      <td>1750.0</td>\n",
       "      <td>1185600.0</td>\n",
       "      <td>-0.021777</td>\n",
       "      <td>...</td>\n",
       "      <td>1.828121</td>\n",
       "      <td>0.0</td>\n",
       "      <td>0.0</td>\n",
       "      <td>0.0</td>\n",
       "      <td>-1.287244e-11</td>\n",
       "      <td>1.0</td>\n",
       "      <td>-0.004328</td>\n",
       "      <td>-0.999991</td>\n",
       "      <td>-0.998921</td>\n",
       "      <td>0.046442</td>\n",
       "    </tr>\n",
       "  </tbody>\n",
       "</table>\n",
       "<p>2 rows × 62 columns</p>\n",
       "</div>"
      ],
      "text/plain": [
       "                 RowId  SecuritiesCode  ExpectedDividend  SupervisionFlag  \\\n",
       "2113889  20211001_7616            7616               0.0                0   \n",
       "2113890  20211004_7616            7616               0.0                0   \n",
       "\n",
       "         ad_Open  ad_High  ad_Low  ad_Close  ad_Volume  ad_Target  ...  \\\n",
       "2113889   1759.0   1766.0  1720.0    1766.0   950700.0  -0.002857  ...   \n",
       "2113890   1782.0   1789.0  1738.0    1750.0  1185600.0  -0.021777  ...   \n",
       "\n",
       "           margin  win_quarter_growth  rev_quarter_growth  margin_growth  \\\n",
       "2113889  1.828121                 0.0                 0.0            0.0   \n",
       "2113890  1.828121                 0.0                 0.0            0.0   \n",
       "\n",
       "              Day_sin  Day_cos  Month_sin  Month_cos  Year_sin  Year_cos  \n",
       "2113889 -1.121614e-11      1.0   0.577271  -0.816552 -0.999987 -0.005150  \n",
       "2113890 -1.287244e-11      1.0  -0.004328  -0.999991 -0.998921  0.046442  \n",
       "\n",
       "[2 rows x 62 columns]"
      ]
     },
     "execution_count": 10,
     "metadata": {},
     "output_type": "execute_result"
    }
   ],
   "source": [
    "df_train.tail(2)"
   ]
  },
  {
   "cell_type": "code",
   "execution_count": 11,
   "metadata": {},
   "outputs": [
    {
     "data": {
      "text/html": [
       "<div>\n",
       "<style scoped>\n",
       "    .dataframe tbody tr th:only-of-type {\n",
       "        vertical-align: middle;\n",
       "    }\n",
       "\n",
       "    .dataframe tbody tr th {\n",
       "        vertical-align: top;\n",
       "    }\n",
       "\n",
       "    .dataframe thead th {\n",
       "        text-align: right;\n",
       "    }\n",
       "</style>\n",
       "<table border=\"1\" class=\"dataframe\">\n",
       "  <thead>\n",
       "    <tr style=\"text-align: right;\">\n",
       "      <th></th>\n",
       "      <th>RowId</th>\n",
       "      <th>SecuritiesCode</th>\n",
       "      <th>ExpectedDividend</th>\n",
       "      <th>SupervisionFlag</th>\n",
       "      <th>ad_Open</th>\n",
       "      <th>ad_High</th>\n",
       "      <th>ad_Low</th>\n",
       "      <th>ad_Close</th>\n",
       "      <th>ad_Volume</th>\n",
       "      <th>ad_Target</th>\n",
       "      <th>...</th>\n",
       "      <th>margin</th>\n",
       "      <th>win_quarter_growth</th>\n",
       "      <th>rev_quarter_growth</th>\n",
       "      <th>margin_growth</th>\n",
       "      <th>Day_sin</th>\n",
       "      <th>Day_cos</th>\n",
       "      <th>Month_sin</th>\n",
       "      <th>Month_cos</th>\n",
       "      <th>Year_sin</th>\n",
       "      <th>Year_cos</th>\n",
       "    </tr>\n",
       "  </thead>\n",
       "  <tbody>\n",
       "    <tr>\n",
       "      <th>2113891</th>\n",
       "      <td>20211005_7616</td>\n",
       "      <td>7616</td>\n",
       "      <td>0.0</td>\n",
       "      <td>0</td>\n",
       "      <td>1748.0</td>\n",
       "      <td>1764.0</td>\n",
       "      <td>1728.0</td>\n",
       "      <td>1745.0</td>\n",
       "      <td>811400.0</td>\n",
       "      <td>-0.042179</td>\n",
       "      <td>...</td>\n",
       "      <td>1.828121</td>\n",
       "      <td>0.0</td>\n",
       "      <td>0.0</td>\n",
       "      <td>0.0</td>\n",
       "      <td>-8.573902e-12</td>\n",
       "      <td>1.0</td>\n",
       "      <td>-0.209338</td>\n",
       "      <td>-0.977843</td>\n",
       "      <td>-0.997974</td>\n",
       "      <td>0.063618</td>\n",
       "    </tr>\n",
       "    <tr>\n",
       "      <th>2113892</th>\n",
       "      <td>20211006_7616</td>\n",
       "      <td>7616</td>\n",
       "      <td>0.0</td>\n",
       "      <td>0</td>\n",
       "      <td>1738.0</td>\n",
       "      <td>1748.0</td>\n",
       "      <td>1700.0</td>\n",
       "      <td>1707.0</td>\n",
       "      <td>968600.0</td>\n",
       "      <td>0.032416</td>\n",
       "      <td>...</td>\n",
       "      <td>1.828121</td>\n",
       "      <td>0.0</td>\n",
       "      <td>0.0</td>\n",
       "      <td>0.0</td>\n",
       "      <td>-4.275363e-12</td>\n",
       "      <td>1.0</td>\n",
       "      <td>-0.405447</td>\n",
       "      <td>-0.914118</td>\n",
       "      <td>-0.996732</td>\n",
       "      <td>0.080776</td>\n",
       "    </tr>\n",
       "  </tbody>\n",
       "</table>\n",
       "<p>2 rows × 62 columns</p>\n",
       "</div>"
      ],
      "text/plain": [
       "                 RowId  SecuritiesCode  ExpectedDividend  SupervisionFlag  \\\n",
       "2113891  20211005_7616            7616               0.0                0   \n",
       "2113892  20211006_7616            7616               0.0                0   \n",
       "\n",
       "         ad_Open  ad_High  ad_Low  ad_Close  ad_Volume  ad_Target  ...  \\\n",
       "2113891   1748.0   1764.0  1728.0    1745.0   811400.0  -0.042179  ...   \n",
       "2113892   1738.0   1748.0  1700.0    1707.0   968600.0   0.032416  ...   \n",
       "\n",
       "           margin  win_quarter_growth  rev_quarter_growth  margin_growth  \\\n",
       "2113891  1.828121                 0.0                 0.0            0.0   \n",
       "2113892  1.828121                 0.0                 0.0            0.0   \n",
       "\n",
       "              Day_sin  Day_cos  Month_sin  Month_cos  Year_sin  Year_cos  \n",
       "2113891 -8.573902e-12      1.0  -0.209338  -0.977843 -0.997974  0.063618  \n",
       "2113892 -4.275363e-12      1.0  -0.405447  -0.914118 -0.996732  0.080776  \n",
       "\n",
       "[2 rows x 62 columns]"
      ]
     },
     "execution_count": 11,
     "metadata": {},
     "output_type": "execute_result"
    }
   ],
   "source": [
    "df_val.head(2)"
   ]
  },
  {
   "cell_type": "code",
   "execution_count": 12,
   "metadata": {},
   "outputs": [
    {
     "data": {
      "text/html": [
       "<div>\n",
       "<style scoped>\n",
       "    .dataframe tbody tr th:only-of-type {\n",
       "        vertical-align: middle;\n",
       "    }\n",
       "\n",
       "    .dataframe tbody tr th {\n",
       "        vertical-align: top;\n",
       "    }\n",
       "\n",
       "    .dataframe thead th {\n",
       "        text-align: right;\n",
       "    }\n",
       "</style>\n",
       "<table border=\"1\" class=\"dataframe\">\n",
       "  <thead>\n",
       "    <tr style=\"text-align: right;\">\n",
       "      <th></th>\n",
       "      <th>N_missing</th>\n",
       "      <th>Percentage</th>\n",
       "    </tr>\n",
       "  </thead>\n",
       "  <tbody>\n",
       "  </tbody>\n",
       "</table>\n",
       "</div>"
      ],
      "text/plain": [
       "Empty DataFrame\n",
       "Columns: [N_missing, Percentage]\n",
       "Index: []"
      ]
     },
     "metadata": {},
     "output_type": "display_data"
    }
   ],
   "source": [
    "missingValues(df_train)"
   ]
  },
  {
   "cell_type": "code",
   "execution_count": 13,
   "metadata": {},
   "outputs": [
    {
     "data": {
      "text/html": [
       "<div>\n",
       "<style scoped>\n",
       "    .dataframe tbody tr th:only-of-type {\n",
       "        vertical-align: middle;\n",
       "    }\n",
       "\n",
       "    .dataframe tbody tr th {\n",
       "        vertical-align: top;\n",
       "    }\n",
       "\n",
       "    .dataframe thead th {\n",
       "        text-align: right;\n",
       "    }\n",
       "</style>\n",
       "<table border=\"1\" class=\"dataframe\">\n",
       "  <thead>\n",
       "    <tr style=\"text-align: right;\">\n",
       "      <th></th>\n",
       "      <th>N_missing</th>\n",
       "      <th>Percentage</th>\n",
       "    </tr>\n",
       "  </thead>\n",
       "  <tbody>\n",
       "  </tbody>\n",
       "</table>\n",
       "</div>"
      ],
      "text/plain": [
       "Empty DataFrame\n",
       "Columns: [N_missing, Percentage]\n",
       "Index: []"
      ]
     },
     "metadata": {},
     "output_type": "display_data"
    }
   ],
   "source": [
    "missingValues(df_val)"
   ]
  },
  {
   "cell_type": "code",
   "execution_count": 14,
   "metadata": {},
   "outputs": [
    {
     "data": {
      "text/html": [
       "<div>\n",
       "<style scoped>\n",
       "    .dataframe tbody tr th:only-of-type {\n",
       "        vertical-align: middle;\n",
       "    }\n",
       "\n",
       "    .dataframe tbody tr th {\n",
       "        vertical-align: top;\n",
       "    }\n",
       "\n",
       "    .dataframe thead th {\n",
       "        text-align: right;\n",
       "    }\n",
       "</style>\n",
       "<table border=\"1\" class=\"dataframe\">\n",
       "  <thead>\n",
       "    <tr style=\"text-align: right;\">\n",
       "      <th></th>\n",
       "      <th>N_missing</th>\n",
       "      <th>Percentage</th>\n",
       "    </tr>\n",
       "  </thead>\n",
       "  <tbody>\n",
       "  </tbody>\n",
       "</table>\n",
       "</div>"
      ],
      "text/plain": [
       "Empty DataFrame\n",
       "Columns: [N_missing, Percentage]\n",
       "Index: []"
      ]
     },
     "metadata": {},
     "output_type": "display_data"
    }
   ],
   "source": [
    "missingValues(df_test)"
   ]
  },
  {
   "cell_type": "markdown",
   "metadata": {},
   "source": [
    "## - Scaling"
   ]
  },
  {
   "cell_type": "code",
   "execution_count": 15,
   "metadata": {},
   "outputs": [
    {
     "data": {
      "text/plain": [
       "60"
      ]
     },
     "execution_count": 15,
     "metadata": {},
     "output_type": "execute_result"
    }
   ],
   "source": [
    "feat_not_to_scale = ['RowId', 'SecuritiesCode']\n",
    "feat_to_scale = [col for col in df_train.columns if col not in feat_not_to_scale]\n",
    "len(feat_to_scale)"
   ]
  },
  {
   "cell_type": "code",
   "execution_count": 16,
   "metadata": {},
   "outputs": [],
   "source": [
    "def scaling_df(df, feat_to_scale):\n",
    "\n",
    "    scaler = StandardScaler()\n",
    "    df_scaled = scaler.fit_transform(df[feat_to_scale])\n",
    "    \n",
    "    df_scaled = pd.DataFrame(df_scaled)\n",
    "    df_scaled.columns = feat_to_scale\n",
    "    return df_scaled\n",
    "        \n"
   ]
  },
  {
   "cell_type": "code",
   "execution_count": 17,
   "metadata": {},
   "outputs": [],
   "source": [
    "df_train_scaled = scaling_df(df_train, feat_to_scale)\n",
    "df_val_scaled = scaling_df(df_val, feat_to_scale)\n",
    "df_test_scaled = scaling_df(df_test, feat_to_scale)"
   ]
  },
  {
   "cell_type": "code",
   "execution_count": 18,
   "metadata": {},
   "outputs": [
    {
     "name": "stdout",
     "output_type": "stream",
     "text": [
      "(1078, 60)\n",
      "(22, 60)\n",
      "(22, 60)\n"
     ]
    }
   ],
   "source": [
    "print(df_train_scaled.shape)\n",
    "print(df_val_scaled.shape)\n",
    "print(df_test_scaled.shape)\n"
   ]
  },
  {
   "cell_type": "markdown",
   "metadata": {},
   "source": [
    "## - Window"
   ]
  },
  {
   "cell_type": "code",
   "execution_count": 19,
   "metadata": {},
   "outputs": [],
   "source": [
    "\n",
    "# return the index of the column we want to predict\n",
    "def col_index (df, target, test_cols=None):\n",
    "    if test_cols: \n",
    "        df= df.loc[:,test_cols]\n",
    "    column_indices = {name: i for i, name in\n",
    "                           enumerate(df.columns)}\n",
    "    return column_indices[target]"
   ]
  },
  {
   "cell_type": "code",
   "execution_count": 20,
   "metadata": {},
   "outputs": [],
   "source": [
    "# \n",
    "def blocking_split(df, test_cols=None, windowsize=22, target = 'ad_Close'):\n",
    "    \"\"\"create the slices of the data\"\"\"\n",
    "    if test_cols: \n",
    "        df= df.loc[:,test_cols]\n",
    "\n",
    "    # create slices\n",
    "    s_inputs = list()\n",
    "    s_target = list()\n",
    "    # iterate over observations\n",
    "    for i in range(0, len(df)-windowsize):\n",
    "        # slice inputs\n",
    "        input = df.iloc[i:windowsize + i ,0:]\n",
    "        s_inputs.append(input) \n",
    "        # slice target \n",
    "        target = df.iloc[windowsize + i,0:]\n",
    "        s_target.append(target)\n",
    "\n",
    "    return s_target, s_inputs"
   ]
  },
  {
   "cell_type": "code",
   "execution_count": 21,
   "metadata": {},
   "outputs": [],
   "source": [
    "target_slices, input_slices = blocking_split(df_train_scaled)\n",
    "assert len(target_slices) == len(input_slices)"
   ]
  },
  {
   "cell_type": "code",
   "execution_count": 22,
   "metadata": {},
   "outputs": [
    {
     "data": {
      "text/plain": [
       "5"
      ]
     },
     "execution_count": 22,
     "metadata": {},
     "output_type": "execute_result"
    }
   ],
   "source": [
    "target_index = col_index (df_train_scaled, 'ad_Close', test_cols=None)\n",
    "target_index"
   ]
  },
  {
   "cell_type": "code",
   "execution_count": 23,
   "metadata": {},
   "outputs": [],
   "source": [
    "def extract_target(target_slices, input_slices , target_index):\n",
    "    # extract close:\n",
    "    y_one = list()\n",
    "    for i in range(0,len(target_slices)):\n",
    "        # value for column target_index in i target\n",
    "        y_one.append(target_slices[i][target_index])\n",
    "\n",
    "    X_one = list()\n",
    "    for i in range(0,len(input_slices)):\n",
    "        X_one.append(input_slices[i].iloc[:,target_index])#[0])\n",
    "\n",
    "    \n",
    "    return y_one, X_one"
   ]
  },
  {
   "cell_type": "code",
   "execution_count": 24,
   "metadata": {},
   "outputs": [],
   "source": [
    "target_index = col_index (df_train_scaled, 'ad_Close', test_cols=None)\n",
    "y_one, x_one = extract_target(target_slices, input_slices, target_index)\n",
    "assert len(y_one) == len(x_one)"
   ]
  },
  {
   "cell_type": "code",
   "execution_count": 25,
   "metadata": {},
   "outputs": [
    {
     "data": {
      "text/plain": [
       "<matplotlib.collections.PathCollection at 0x280fc0610>"
      ]
     },
     "execution_count": 25,
     "metadata": {},
     "output_type": "execute_result"
    },
    {
     "data": {
      "image/png": "[encoded data removed]",
      "text/plain": [
       "<Figure size 1800x360 with 1 Axes>"
      ]
     },
     "metadata": {
      "needs_background": "light"
     },
     "output_type": "display_data"
    }
   ],
   "source": [
    "\n",
    "plt.figure(figsize=(25,5))\n",
    "plt.plot(x_one[0])\n",
    "plt.scatter((len(x_one[0])+1), y_one[0], color='red',s=64)"
   ]
  },
  {
   "cell_type": "markdown",
   "metadata": {},
   "source": []
  },
  {
   "cell_type": "markdown",
   "metadata": {},
   "source": [
    "## Baseline model"
   ]
  },
  {
   "cell_type": "code",
   "execution_count": 26,
   "metadata": {},
   "outputs": [],
   "source": [
    "X_array = np.array(input_slices)\n",
    "y_array = np.array(target_slices)"
   ]
  },
  {
   "cell_type": "code",
   "execution_count": 27,
   "metadata": {},
   "outputs": [],
   "source": [
    "def basline_array(X, y):\n",
    "    assert len(X)== len(y)\n",
    "    y_pred = np.array(pd.DataFrame(y).shift(1))\n",
    "    return y_pred\n",
    "\n",
    "def RSME_array(y_train, y_pred,target_index ):\n",
    "    # rsme close\n",
    "    mean = sum(y_train[1:,target_index]) / (len(y_train[1:,target_index]))\n",
    "    rsme = mean_squared_error(y_pred=y_pred[1:,target_index], y_true=y_train[1:,target_index], squared=False)\n",
    "    print(f'Mean: {mean:.4f}')\n",
    "    print(f'rsme: {rsme:.4f}')\n",
    "    print(f'rsme%: {rsme/mean*100:.2f}')\n",
    "    return mean, rsme, rsme/mean"
   ]
  },
  {
   "cell_type": "code",
   "execution_count": 28,
   "metadata": {},
   "outputs": [
    {
     "name": "stdout",
     "output_type": "stream",
     "text": [
      "Mean: 0.0123\n",
      "rsme: 0.1014\n",
      "rsme%: 823.82\n"
     ]
    }
   ],
   "source": [
    "y_pred = basline_array(X_array, y_array)\n",
    "\n",
    "a, b, c = RSME_array(y_array, y_pred, target_index)\n"
   ]
  },
  {
   "cell_type": "code",
   "execution_count": 29,
   "metadata": {},
   "outputs": [
    {
     "name": "stdout",
     "output_type": "stream",
     "text": [
      "Metal device set to: Apple M1\n",
      "\n",
      "systemMemory: 8.00 GB\n",
      "maxCacheSize: 2.67 GB\n",
      "\n"
     ]
    },
    {
     "name": "stderr",
     "output_type": "stream",
     "text": [
      "2022-04-27 15:24:38.680208: I tensorflow/core/common_runtime/pluggable_device/pluggable_device_factory.cc:305] Could not identify NUMA node of platform GPU ID 0, defaulting to 0. Your kernel may not have been built with NUMA support.\n",
      "2022-04-27 15:24:38.680504: I tensorflow/core/common_runtime/pluggable_device/pluggable_device_factory.cc:271] Created TensorFlow device (/job:localhost/replica:0/task:0/device:GPU:0 with 0 MB memory) -> physical PluggableDevice (device: 0, name: METAL, pci bus id: <undefined>)\n"
     ]
    }
   ],
   "source": [
    "X_stack = tf.stack(X_array) #example_window\n",
    "y_stack = tf.stack(y_array) #example_window"
   ]
  },
  {
   "cell_type": "markdown",
   "metadata": {},
   "source": [
    "## - linear model"
   ]
  },
  {
   "cell_type": "code",
   "execution_count": 38,
   "metadata": {},
   "outputs": [
    {
     "data": {
      "text/plain": [
       "numpy.ndarray"
      ]
     },
     "execution_count": 38,
     "metadata": {},
     "output_type": "execute_result"
    }
   ],
   "source": [
    "type(X_array)"
   ]
  },
  {
   "cell_type": "code",
   "execution_count": 34,
   "metadata": {},
   "outputs": [],
   "source": [
    "linear = tf.keras.Sequential([\n",
    "    tf.keras.layers.Dense(units=1)\n",
    "])"
   ]
  },
  {
   "cell_type": "code",
   "execution_count": 35,
   "metadata": {},
   "outputs": [],
   "source": [
    "MAX_EPOCHS = 20\n",
    "\n",
    "def compile_and_fit(model, X, y, patience=2):\n",
    "  early_stopping = tf.keras.callbacks.EarlyStopping(monitor='val_loss',\n",
    "                                                    patience=patience,\n",
    "                                                    mode='min')\n",
    "\n",
    "  model.compile(loss=tf.losses.MeanSquaredError(),\n",
    "                optimizer=tf.optimizers.Adam(),\n",
    "                metrics=[tf.metrics.MeanAbsoluteError()])\n",
    "\n",
    "  history = model.fit(X, epochs=MAX_EPOCHS,\n",
    "                      validation_data=y,\n",
    "                      callbacks=[early_stopping])\n",
    "  return history"
   ]
  },
  {
   "cell_type": "code",
   "execution_count": 37,
   "metadata": {},
   "outputs": [
    {
     "ename": "ValueError",
     "evalue": "The truth value of an array with more than one element is ambiguous. Use a.any() or a.all()",
     "output_type": "error",
     "traceback": [
      "\u001b[0;31m---------------------------------------------------------------------------\u001b[0m",
      "\u001b[0;31mValueError\u001b[0m                                Traceback (most recent call last)",
      "\u001b[1;32m/Users/valentina/ds/tokyo-stock-exchange/notebooks/model.ipynb Cell 42'\u001b[0m in \u001b[0;36m<cell line: 1>\u001b[0;34m()\u001b[0m\n\u001b[0;32m----> <a href='vscode-notebook-cell:/Users/valentina/ds/tokyo-stock-exchange/notebooks/model.ipynb#ch0000164?line=0'>1</a>\u001b[0m history \u001b[39m=\u001b[39m compile_and_fit(linear, X_array,y_array)\n",
      "\u001b[1;32m/Users/valentina/ds/tokyo-stock-exchange/notebooks/model.ipynb Cell 41'\u001b[0m in \u001b[0;36mcompile_and_fit\u001b[0;34m(model, X, y, patience)\u001b[0m\n\u001b[1;32m      <a href='vscode-notebook-cell:/Users/valentina/ds/tokyo-stock-exchange/notebooks/model.ipynb#ch0000163?line=3'>4</a>\u001b[0m early_stopping \u001b[39m=\u001b[39m tf\u001b[39m.\u001b[39mkeras\u001b[39m.\u001b[39mcallbacks\u001b[39m.\u001b[39mEarlyStopping(monitor\u001b[39m=\u001b[39m\u001b[39m'\u001b[39m\u001b[39mval_loss\u001b[39m\u001b[39m'\u001b[39m,\n\u001b[1;32m      <a href='vscode-notebook-cell:/Users/valentina/ds/tokyo-stock-exchange/notebooks/model.ipynb#ch0000163?line=4'>5</a>\u001b[0m                                                   patience\u001b[39m=\u001b[39mpatience,\n\u001b[1;32m      <a href='vscode-notebook-cell:/Users/valentina/ds/tokyo-stock-exchange/notebooks/model.ipynb#ch0000163?line=5'>6</a>\u001b[0m                                                   mode\u001b[39m=\u001b[39m\u001b[39m'\u001b[39m\u001b[39mmin\u001b[39m\u001b[39m'\u001b[39m)\n\u001b[1;32m      <a href='vscode-notebook-cell:/Users/valentina/ds/tokyo-stock-exchange/notebooks/model.ipynb#ch0000163?line=7'>8</a>\u001b[0m model\u001b[39m.\u001b[39mcompile(loss\u001b[39m=\u001b[39mtf\u001b[39m.\u001b[39mlosses\u001b[39m.\u001b[39mMeanSquaredError(),\n\u001b[1;32m      <a href='vscode-notebook-cell:/Users/valentina/ds/tokyo-stock-exchange/notebooks/model.ipynb#ch0000163?line=8'>9</a>\u001b[0m               optimizer\u001b[39m=\u001b[39mtf\u001b[39m.\u001b[39moptimizers\u001b[39m.\u001b[39mAdam(),\n\u001b[1;32m     <a href='vscode-notebook-cell:/Users/valentina/ds/tokyo-stock-exchange/notebooks/model.ipynb#ch0000163?line=9'>10</a>\u001b[0m               metrics\u001b[39m=\u001b[39m[tf\u001b[39m.\u001b[39mmetrics\u001b[39m.\u001b[39mMeanAbsoluteError()])\n\u001b[0;32m---> <a href='vscode-notebook-cell:/Users/valentina/ds/tokyo-stock-exchange/notebooks/model.ipynb#ch0000163?line=11'>12</a>\u001b[0m history \u001b[39m=\u001b[39m model\u001b[39m.\u001b[39;49mfit(X, epochs\u001b[39m=\u001b[39;49mMAX_EPOCHS,\n\u001b[1;32m     <a href='vscode-notebook-cell:/Users/valentina/ds/tokyo-stock-exchange/notebooks/model.ipynb#ch0000163?line=12'>13</a>\u001b[0m                     validation_data\u001b[39m=\u001b[39;49my,\n\u001b[1;32m     <a href='vscode-notebook-cell:/Users/valentina/ds/tokyo-stock-exchange/notebooks/model.ipynb#ch0000163?line=13'>14</a>\u001b[0m                     callbacks\u001b[39m=\u001b[39;49m[early_stopping])\n\u001b[1;32m     <a href='vscode-notebook-cell:/Users/valentina/ds/tokyo-stock-exchange/notebooks/model.ipynb#ch0000163?line=14'>15</a>\u001b[0m \u001b[39mreturn\u001b[39;00m history\n",
      "File \u001b[0;32m~/ds/tokyo-stock-exchange/.venv/lib/python3.9/site-packages/keras/utils/traceback_utils.py:67\u001b[0m, in \u001b[0;36mfilter_traceback.<locals>.error_handler\u001b[0;34m(*args, **kwargs)\u001b[0m\n\u001b[1;32m     <a href='file:///Users/valentina/ds/tokyo-stock-exchange/.venv/lib/python3.9/site-packages/keras/utils/traceback_utils.py?line=64'>65</a>\u001b[0m \u001b[39mexcept\u001b[39;00m \u001b[39mException\u001b[39;00m \u001b[39mas\u001b[39;00m e:  \u001b[39m# pylint: disable=broad-except\u001b[39;00m\n\u001b[1;32m     <a href='file:///Users/valentina/ds/tokyo-stock-exchange/.venv/lib/python3.9/site-packages/keras/utils/traceback_utils.py?line=65'>66</a>\u001b[0m   filtered_tb \u001b[39m=\u001b[39m _process_traceback_frames(e\u001b[39m.\u001b[39m__traceback__)\n\u001b[0;32m---> <a href='file:///Users/valentina/ds/tokyo-stock-exchange/.venv/lib/python3.9/site-packages/keras/utils/traceback_utils.py?line=66'>67</a>\u001b[0m   \u001b[39mraise\u001b[39;00m e\u001b[39m.\u001b[39mwith_traceback(filtered_tb) \u001b[39mfrom\u001b[39;00m \u001b[39mNone\u001b[39m\n\u001b[1;32m     <a href='file:///Users/valentina/ds/tokyo-stock-exchange/.venv/lib/python3.9/site-packages/keras/utils/traceback_utils.py?line=67'>68</a>\u001b[0m \u001b[39mfinally\u001b[39;00m:\n\u001b[1;32m     <a href='file:///Users/valentina/ds/tokyo-stock-exchange/.venv/lib/python3.9/site-packages/keras/utils/traceback_utils.py?line=68'>69</a>\u001b[0m   \u001b[39mdel\u001b[39;00m filtered_tb\n",
      "File \u001b[0;32m~/ds/tokyo-stock-exchange/.venv/lib/python3.9/site-packages/keras/engine/training.py:1323\u001b[0m, in \u001b[0;36mModel.fit\u001b[0;34m(self, x, y, batch_size, epochs, verbose, callbacks, validation_split, validation_data, shuffle, class_weight, sample_weight, initial_epoch, steps_per_epoch, validation_steps, validation_batch_size, validation_freq, max_queue_size, workers, use_multiprocessing)\u001b[0m\n\u001b[1;32m   <a href='file:///Users/valentina/ds/tokyo-stock-exchange/.venv/lib/python3.9/site-packages/keras/engine/training.py?line=1315'>1316</a>\u001b[0m \u001b[39mif\u001b[39;00m validation_split:\n\u001b[1;32m   <a href='file:///Users/valentina/ds/tokyo-stock-exchange/.venv/lib/python3.9/site-packages/keras/engine/training.py?line=1316'>1317</a>\u001b[0m   \u001b[39m# Create the validation data using the training data. Only supported for\u001b[39;00m\n\u001b[1;32m   <a href='file:///Users/valentina/ds/tokyo-stock-exchange/.venv/lib/python3.9/site-packages/keras/engine/training.py?line=1317'>1318</a>\u001b[0m   \u001b[39m# `Tensor` and `NumPy` input.\u001b[39;00m\n\u001b[1;32m   <a href='file:///Users/valentina/ds/tokyo-stock-exchange/.venv/lib/python3.9/site-packages/keras/engine/training.py?line=1318'>1319</a>\u001b[0m   (x, y, sample_weight), validation_data \u001b[39m=\u001b[39m (\n\u001b[1;32m   <a href='file:///Users/valentina/ds/tokyo-stock-exchange/.venv/lib/python3.9/site-packages/keras/engine/training.py?line=1319'>1320</a>\u001b[0m       data_adapter\u001b[39m.\u001b[39mtrain_validation_split(\n\u001b[1;32m   <a href='file:///Users/valentina/ds/tokyo-stock-exchange/.venv/lib/python3.9/site-packages/keras/engine/training.py?line=1320'>1321</a>\u001b[0m           (x, y, sample_weight), validation_split\u001b[39m=\u001b[39mvalidation_split))\n\u001b[0;32m-> <a href='file:///Users/valentina/ds/tokyo-stock-exchange/.venv/lib/python3.9/site-packages/keras/engine/training.py?line=1322'>1323</a>\u001b[0m \u001b[39mif\u001b[39;00m validation_data:\n\u001b[1;32m   <a href='file:///Users/valentina/ds/tokyo-stock-exchange/.venv/lib/python3.9/site-packages/keras/engine/training.py?line=1323'>1324</a>\u001b[0m   val_x, val_y, val_sample_weight \u001b[39m=\u001b[39m (\n\u001b[1;32m   <a href='file:///Users/valentina/ds/tokyo-stock-exchange/.venv/lib/python3.9/site-packages/keras/engine/training.py?line=1324'>1325</a>\u001b[0m       data_adapter\u001b[39m.\u001b[39munpack_x_y_sample_weight(validation_data))\n\u001b[1;32m   <a href='file:///Users/valentina/ds/tokyo-stock-exchange/.venv/lib/python3.9/site-packages/keras/engine/training.py?line=1326'>1327</a>\u001b[0m \u001b[39mif\u001b[39;00m \u001b[39mself\u001b[39m\u001b[39m.\u001b[39mdistribute_strategy\u001b[39m.\u001b[39m_should_use_with_coordinator:  \u001b[39m# pylint: disable=protected-access\u001b[39;00m\n",
      "\u001b[0;31mValueError\u001b[0m: The truth value of an array with more than one element is ambiguous. Use a.any() or a.all()"
     ]
    }
   ],
   "source": [
    "history = compile_and_fit(linear, X_array,y_array)"
   ]
  },
  {
   "cell_type": "markdown",
   "metadata": {},
   "source": [
    "# - test"
   ]
  },
  {
   "cell_type": "code",
   "execution_count": 31,
   "metadata": {},
   "outputs": [
    {
     "ename": "NameError",
     "evalue": "name 'total_window_size' is not defined",
     "output_type": "error",
     "traceback": [
      "\u001b[0;31m---------------------------------------------------------------------------\u001b[0m",
      "\u001b[0;31mNameError\u001b[0m                                 Traceback (most recent call last)",
      "\u001b[1;32m/Users/valentina/ds/tokyo-stock-exchange/notebooks/model.ipynb Cell 42'\u001b[0m in \u001b[0;36m<cell line: 3>\u001b[0;34m()\u001b[0m\n\u001b[1;32m      <a href='vscode-notebook-cell:/Users/valentina/ds/tokyo-stock-exchange/notebooks/model.ipynb#ch0000030?line=0'>1</a>\u001b[0m data \u001b[39m=\u001b[39m np\u001b[39m.\u001b[39marray(df_train_scaled, dtype\u001b[39m=\u001b[39mnp\u001b[39m.\u001b[39mfloat32)\n\u001b[1;32m      <a href='vscode-notebook-cell:/Users/valentina/ds/tokyo-stock-exchange/notebooks/model.ipynb#ch0000030?line=1'>2</a>\u001b[0m targets \u001b[39m=\u001b[39m np\u001b[39m.\u001b[39marray(df_val_scaled, dtype\u001b[39m=\u001b[39mnp\u001b[39m.\u001b[39mfloat32)\n\u001b[1;32m      <a href='vscode-notebook-cell:/Users/valentina/ds/tokyo-stock-exchange/notebooks/model.ipynb#ch0000030?line=2'>3</a>\u001b[0m ds \u001b[39m=\u001b[39m tf\u001b[39m.\u001b[39mkeras\u001b[39m.\u001b[39mpreprocessing\u001b[39m.\u001b[39mtimeseries_dataset_from_array(\n\u001b[0;32m----> <a href='vscode-notebook-cell:/Users/valentina/ds/tokyo-stock-exchange/notebooks/model.ipynb#ch0000030?line=3'>4</a>\u001b[0m     data, targets, sequence_length\u001b[39m=\u001b[39mtotal_window_size, \n\u001b[1;32m      <a href='vscode-notebook-cell:/Users/valentina/ds/tokyo-stock-exchange/notebooks/model.ipynb#ch0000030?line=4'>5</a>\u001b[0m     sequence_stride\u001b[39m=\u001b[39m\u001b[39m1\u001b[39m,\n\u001b[1;32m      <a href='vscode-notebook-cell:/Users/valentina/ds/tokyo-stock-exchange/notebooks/model.ipynb#ch0000030?line=5'>6</a>\u001b[0m       shuffle\u001b[39m=\u001b[39m\u001b[39mTrue\u001b[39;00m,\n\u001b[1;32m      <a href='vscode-notebook-cell:/Users/valentina/ds/tokyo-stock-exchange/notebooks/model.ipynb#ch0000030?line=6'>7</a>\u001b[0m       batch_size\u001b[39m=\u001b[39m\u001b[39m32\u001b[39m,)\n\u001b[1;32m      <a href='vscode-notebook-cell:/Users/valentina/ds/tokyo-stock-exchange/notebooks/model.ipynb#ch0000030?line=8'>9</a>\u001b[0m \u001b[39m#ds = ds.map(split_window)\u001b[39;00m\n\u001b[1;32m     <a href='vscode-notebook-cell:/Users/valentina/ds/tokyo-stock-exchange/notebooks/model.ipynb#ch0000030?line=9'>10</a>\u001b[0m \u001b[39mtype\u001b[39m(ds)\n",
      "\u001b[0;31mNameError\u001b[0m: name 'total_window_size' is not defined"
     ]
    }
   ],
   "source": [
    "data = np.array(df_train_scaled, dtype=np.float32)\n",
    "targets = np.array(df_val_scaled, dtype=np.float32)\n",
    "ds = tf.keras.preprocessing.timeseries_dataset_from_array(\n",
    "    data, targets, sequence_length=total_window_size, \n",
    "    sequence_stride=1,\n",
    "      shuffle=True,\n",
    "      batch_size=32,)\n",
    "\n",
    "#ds = ds.map(split_window)\n",
    "type(ds)"
   ]
  },
  {
   "cell_type": "code",
   "execution_count": null,
   "metadata": {},
   "outputs": [],
   "source": [
    "\"\"\"counter = 0 \n",
    "for batch in ds:\n",
    "  counter = counter +1\n",
    "  print (batch)\n",
    "  #print(batch)\n",
    "  print(len(inputs))\n",
    "  inputs, targets = batch\n",
    "  #print(len(inputs))\n",
    "  #assert np.array_equal(inputs[0], data[:10])  # First sequence: steps [0-9]\n",
    "\"\"\"\n"
   ]
  },
  {
   "cell_type": "code",
   "execution_count": null,
   "metadata": {},
   "outputs": [],
   "source": [
    "class WindowGenerator():\n",
    "  def __init__(self, input_width, label_width, shift,\n",
    "               train_df=train_scaled, val_df=val_scaled, test_df=test_scaled,\n",
    "               label_columns=None):\n",
    "    # Store the raw data.\n",
    "    self.train_df = train_df\n",
    "    self.val_df = val_df\n",
    "    self.test_df = test_df\n",
    "\n",
    "    # Work out the label column indices.\n",
    "    self.label_columns = label_columns\n",
    "    if label_columns is not None:\n",
    "      self.label_columns_indices = {name: i for i, name in\n",
    "                                    enumerate(label_columns)}\n",
    "    self.column_indices = {name: i for i, name in\n",
    "                           enumerate(train_df.columns)}\n",
    "\n",
    "    # Work out the window parameters.\n",
    "    self.input_width = input_width\n",
    "    self.label_width = label_width\n",
    "    self.shift = shift\n",
    "\n",
    "    self.total_window_size = input_width + shift\n",
    "\n",
    "    #self.example = \n",
    "\n",
    "    self.input_slice = slice(0, input_width)\n",
    "    self.input_indices = np.arange(self.total_window_size)[self.input_slice]\n",
    "\n",
    "    self.label_start = self.total_window_size - self.label_width\n",
    "    self.labels_slice = slice(self.label_start, None)\n",
    "    self.label_indices = np.arange(self.total_window_size)[self.labels_slice]\n",
    "\n",
    "  def __repr__(self):\n",
    "    return '\\n'.join([\n",
    "        f'Total window size: {self.total_window_size}',\n",
    "        f'Input indices: {self.input_indices}',\n",
    "        f'Label indices: {self.label_indices}',\n",
    "        f'Label column name(s): {self.label_columns}'])"
   ]
  },
  {
   "cell_type": "code",
   "execution_count": null,
   "metadata": {},
   "outputs": [],
   "source": [
    "train_scaled.shape"
   ]
  },
  {
   "cell_type": "code",
   "execution_count": null,
   "metadata": {},
   "outputs": [],
   "source": [
    "w1 = WindowGenerator(input_width=22, label_width=1, shift=1,\n",
    "                     label_columns=['ad_Close'])\n",
    "w1"
   ]
  },
  {
   "cell_type": "code",
   "execution_count": null,
   "metadata": {},
   "outputs": [],
   "source": [
    "def split_window(self, features):\n",
    "  inputs = features[:, self.input_slice, :]\n",
    "  labels = features[:, self.labels_slice, :]\n",
    "  if self.label_columns is not None:\n",
    "    labels = tf.stack(\n",
    "        [labels[:, :, self.column_indices[name]] for name in self.label_columns],\n",
    "        axis=-1)\n",
    "\n",
    "  # Slicing doesn't preserve static shape information, so set the shapes\n",
    "  # manually. This way the `tf.data.Datasets` are easier to inspect.\n",
    "  inputs.set_shape([None, self.input_width, None])\n",
    "  labels.set_shape([None, self.label_width, None])\n",
    "\n",
    "  return inputs, labels\n",
    "\n",
    "WindowGenerator.split_window = split_window"
   ]
  },
  {
   "cell_type": "code",
   "execution_count": null,
   "metadata": {},
   "outputs": [],
   "source": [
    "example_window = tf.stack([np.array(train_scaled[:w1.total_window_size]),\n",
    "                           np.array(train_scaled[100:100+w1.total_window_size]),\n",
    "                           np.array(train_scaled[200:200+w1.total_window_size])])\n",
    "\n",
    "example_inputs, example_labels = w1.split_window(example_window)\n",
    "\n",
    "print('All shapes are: (batch, time, features)')\n",
    "print(f'Window shape: {example_window.shape}')\n",
    "print(f'Inputs shape: {example_inputs.shape}')\n",
    "print(f'Labels shape: {example_labels.shape}')"
   ]
  },
  {
   "cell_type": "code",
   "execution_count": null,
   "metadata": {},
   "outputs": [],
   "source": [
    "type(example_inputs)"
   ]
  },
  {
   "cell_type": "code",
   "execution_count": null,
   "metadata": {},
   "outputs": [],
   "source": [
    "example_labels"
   ]
  },
  {
   "cell_type": "code",
   "execution_count": null,
   "metadata": {},
   "outputs": [],
   "source": [
    "w1.example = example_inputs, example_labels"
   ]
  },
  {
   "cell_type": "code",
   "execution_count": null,
   "metadata": {},
   "outputs": [],
   "source": [
    "def plot(self, model=None, plot_col='ad_Close', max_subplots=3):\n",
    "  inputs, labels = self.example\n",
    "  plt.figure(figsize=(12, 8))\n",
    "  plot_col_index = self.column_indices[plot_col]\n",
    "  max_n = min(max_subplots, len(inputs))\n",
    "  for n in range(max_n):\n",
    "    plt.subplot(max_n, 1, n+1)\n",
    "    plt.ylabel(f'{plot_col} [normed]')\n",
    "    plt.plot(self.input_indices, inputs[n, :, plot_col_index],\n",
    "             label='Inputs', marker='.', zorder=-10)\n",
    "\n",
    "    if self.label_columns:\n",
    "      label_col_index = self.label_columns_indices.get(plot_col, None)\n",
    "    else:\n",
    "      label_col_index = plot_col_index\n",
    "\n",
    "    if label_col_index is None:\n",
    "      continue\n",
    "\n",
    "    plt.scatter(self.label_indices, labels[n, :, label_col_index],\n",
    "                edgecolors='k', label='Labels', c='#2ca02c', s=64)\n",
    "    if model is not None:\n",
    "      predictions = model(inputs)\n",
    "      plt.scatter(self.label_indices, predictions[n, :, label_col_index],\n",
    "                  marker='X', edgecolors='k', label='Predictions',\n",
    "                  c='#ff7f0e', s=64)\n",
    "\n",
    "    if n == 0:\n",
    "      plt.legend()\n",
    "\n",
    "  plt.xlabel('Time [h]')\n",
    "\n",
    "WindowGenerator.plot = plot"
   ]
  },
  {
   "cell_type": "code",
   "execution_count": null,
   "metadata": {},
   "outputs": [],
   "source": [
    "w1.plot()"
   ]
  },
  {
   "cell_type": "code",
   "execution_count": null,
   "metadata": {},
   "outputs": [],
   "source": [
    "w1.plot(plot_col='ad_Target')"
   ]
  },
  {
   "cell_type": "markdown",
   "metadata": {},
   "source": [
    "- ## create dataset"
   ]
  },
  {
   "cell_type": "code",
   "execution_count": null,
   "metadata": {},
   "outputs": [],
   "source": [
    "def make_dataset(self, data):\n",
    "  data = np.array(data, dtype=np.float32)\n",
    "  ds = tf.keras.utils.timeseries_dataset_from_array(\n",
    "      data=data,\n",
    "      targets=None,\n",
    "      sequence_length=self.total_window_size,\n",
    "      sequence_stride=1,\n",
    "      shuffle=True,\n",
    "      batch_size=32,)\n",
    "\n",
    "  ds = ds.map(self.split_window)\n",
    "\n",
    "  return ds\n",
    "\n",
    "WindowGenerator.make_dataset = make_dataset"
   ]
  },
  {
   "cell_type": "markdown",
   "metadata": {},
   "source": [
    "## - train , val , test"
   ]
  },
  {
   "cell_type": "code",
   "execution_count": null,
   "metadata": {},
   "outputs": [],
   "source": [
    "@property\n",
    "def train(self):\n",
    "  return self.make_dataset(self.train_df)\n",
    "\n",
    "@property\n",
    "def val(self):\n",
    "  return self.make_dataset(self.val_df)\n",
    "\n",
    "@property\n",
    "def test(self):\n",
    "  return self.make_dataset(self.test_df)\n",
    "\n",
    "@property\n",
    "def example(self):\n",
    "  \"\"\"Get and cache an example batch of `inputs, labels` for plotting.\"\"\"\n",
    "  result = getattr(self, '_example', None)\n",
    "  if result is None:\n",
    "    # No example batch was found, so get one from the `.train` dataset\n",
    "    result = next(iter(self.train))\n",
    "    # And cache it for next time\n",
    "    self._example = result\n",
    "  return result\n",
    "\n",
    "WindowGenerator.train = train\n",
    "WindowGenerator.val = val\n",
    "WindowGenerator.test = test\n",
    "WindowGenerator.example = example"
   ]
  },
  {
   "cell_type": "code",
   "execution_count": null,
   "metadata": {},
   "outputs": [],
   "source": [
    "# Each element is an (inputs, label) pair.\n",
    "w1.train.element_spec"
   ]
  },
  {
   "cell_type": "code",
   "execution_count": null,
   "metadata": {},
   "outputs": [],
   "source": [
    "for example_inputs, example_labels in w1.train.take(1):\n",
    "  print(f'Inputs shape (batch, time, features): {example_inputs.shape}')\n",
    "  print(f'Labels shape (batch, time, features): {example_labels.shape}')"
   ]
  },
  {
   "cell_type": "markdown",
   "metadata": {},
   "source": [
    "## - single step models:\n",
    "predict a single features value 1 time step into future"
   ]
  },
  {
   "cell_type": "code",
   "execution_count": null,
   "metadata": {},
   "outputs": [],
   "source": [
    "single_step_window = WindowGenerator(\n",
    "    input_width=1, label_width=1, shift=1,\n",
    "    label_columns=['ad_Close'])\n",
    "single_step_window"
   ]
  },
  {
   "cell_type": "code",
   "execution_count": null,
   "metadata": {},
   "outputs": [],
   "source": [
    "for example_inputs, example_labels in single_step_window.train.take(1):\n",
    "  print(f'Inputs shape (batch, time, features): {example_inputs.shape}')\n",
    "  print(f'Labels shape (batch, time, features): {example_labels.shape}')"
   ]
  },
  {
   "cell_type": "markdown",
   "metadata": {},
   "source": [
    "- Baseline"
   ]
  },
  {
   "cell_type": "code",
   "execution_count": null,
   "metadata": {},
   "outputs": [],
   "source": [
    "class Baseline(tf.keras.Model):\n",
    "  def __init__(self, label_index=None):\n",
    "    super().__init__()\n",
    "    self.label_index = label_index\n",
    "\n",
    "  def call(self, inputs):\n",
    "    if self.label_index is None:\n",
    "      return inputs\n",
    "    result = inputs[:, :, self.label_index]\n",
    "    return result[:, :, tf.newaxis]"
   ]
  },
  {
   "cell_type": "code",
   "execution_count": null,
   "metadata": {},
   "outputs": [],
   "source": [
    "baseline = Baseline(label_index=w1.column_indices['ad_Close'])\n",
    "\n",
    "baseline.compile(loss=tf.losses.MeanSquaredError(),\n",
    "                 metrics=[tf.metrics.MeanAbsoluteError()])\n",
    "\n",
    "val_performance = {}\n",
    "performance = {}\n",
    "val_performance['Baseline'] = baseline.evaluate(single_step_window.val)\n",
    "performance['Baseline'] = baseline.evaluate(single_step_window.test, verbose=0)\n",
    "#val_performance['Baseline'] = baseline.evaluate(w1.val_df)\n",
    "#performance['Baseline'] = baseline.evaluate(w1.test_df, verbose=0)"
   ]
  },
  {
   "cell_type": "code",
   "execution_count": null,
   "metadata": {},
   "outputs": [],
   "source": [
    "single_step_window.plot(baseline)"
   ]
  },
  {
   "cell_type": "code",
   "execution_count": null,
   "metadata": {},
   "outputs": [],
   "source": [
    "wide_window = WindowGenerator(\n",
    "    input_width=22, label_width=22, shift=1,\n",
    "    label_columns=['ad_Close'])\n",
    "\n",
    "wide_window"
   ]
  },
  {
   "cell_type": "code",
   "execution_count": null,
   "metadata": {},
   "outputs": [],
   "source": [
    "for example_inputs, example_labels in wide_window.train.take(1):\n",
    "  print(f'Inputs shape (batch, time, features): {example_inputs.shape}')\n",
    "  print(f'Labels shape (batch, time, features): {example_labels.shape}')"
   ]
  },
  {
   "cell_type": "code",
   "execution_count": null,
   "metadata": {},
   "outputs": [],
   "source": [
    "print('Input shape:', wide_window.example[0].shape)\n",
    "print('Output shape:', baseline(wide_window.example[0]).shape)"
   ]
  },
  {
   "cell_type": "code",
   "execution_count": null,
   "metadata": {},
   "outputs": [],
   "source": [
    "wide_window.plot(baseline)"
   ]
  },
  {
   "cell_type": "markdown",
   "metadata": {},
   "source": [
    "## - linear"
   ]
  },
  {
   "cell_type": "code",
   "execution_count": null,
   "metadata": {},
   "outputs": [],
   "source": [
    "linear = tf.keras.Sequential([\n",
    "    tf.keras.layers.Dense(units=1)\n",
    "])"
   ]
  },
  {
   "cell_type": "code",
   "execution_count": null,
   "metadata": {},
   "outputs": [],
   "source": [
    "MAX_EPOCHS = 20\n",
    "\n",
    "def compile_and_fit(model, window, patience=2):\n",
    "  early_stopping = tf.keras.callbacks.EarlyStopping(monitor='val_loss',\n",
    "                                                    patience=patience,\n",
    "                                                    mode='min')\n",
    "\n",
    "  model.compile(loss=tf.losses.MeanSquaredError(),\n",
    "                optimizer=tf.optimizers.Adam(),\n",
    "                metrics=[tf.metrics.MeanAbsoluteError()])\n",
    "\n",
    "  history = model.fit(window.train, epochs=MAX_EPOCHS,\n",
    "                      validation_data=window.val,\n",
    "                      callbacks=[early_stopping])\n",
    "  return history"
   ]
  },
  {
   "cell_type": "code",
   "execution_count": null,
   "metadata": {},
   "outputs": [],
   "source": [
    "history = compile_and_fit(linear, wide_window)\n",
    "\n",
    "#val_performance['Linear'] = linear.evaluate(wide_window.val)\n",
    "performance['Linear'] = linear.evaluate(wide_window.test, verbose=0)"
   ]
  },
  {
   "cell_type": "code",
   "execution_count": null,
   "metadata": {},
   "outputs": [],
   "source": [
    "wide_window.plot(linear)"
   ]
  },
  {
   "cell_type": "code",
   "execution_count": null,
   "metadata": {},
   "outputs": [],
   "source": [
    "plt.bar(x = range(len(train_scaled.columns)),\n",
    "        height=linear.layers[0].kernel[:,0].numpy())\n",
    "axis = plt.gca()\n",
    "axis.set_xticks(range(len(train_scaled.columns)))\n",
    "_ = axis.set_xticklabels(train_scaled.columns, rotation=90)"
   ]
  },
  {
   "cell_type": "code",
   "execution_count": null,
   "metadata": {},
   "outputs": [],
   "source": [
    "\n",
    "#val_performance['Linear'] = linear.evaluate(wide_window.val)\n",
    "performance['Linear'] = linear.evaluate(wide_window.test, verbose=0)"
   ]
  },
  {
   "cell_type": "code",
   "execution_count": null,
   "metadata": {},
   "outputs": [],
   "source": [
    "performance"
   ]
  },
  {
   "cell_type": "code",
   "execution_count": null,
   "metadata": {},
   "outputs": [],
   "source": [
    "x = np.arange(len(performance))\n",
    "width = 0.3\n",
    "metric_name = 'mean_absolute_error'\n",
    "metric_index = linear.metrics_names.index('mean_absolute_error')\n",
    "val_mae = [v[metric_index] for v in val_performance.values()]\n",
    "test_mae = [v[metric_index] for v in performance.values()]\n",
    "\n",
    "plt.ylabel('mean_absolute_error [T (degC), normalized]')\n",
    "plt.bar(x - 0.17, val_mae, width, label='Validation')\n",
    "plt.bar(x + 0.17, test_mae, width, label='Test')\n",
    "plt.xticks(ticks=x, labels=performance.keys(),\n",
    "           rotation=45)\n",
    "_ = plt.legend()"
   ]
  }
 ],
 "metadata": {
  "interpreter": {
   "hash": "8e59dc4903522b6bd625aac9b906fbe96a3134871878cc11f65b8580a1e47af4"
  },
  "kernelspec": {
   "display_name": "Python 3.9.4 ('.venv': venv)",
   "language": "python",
   "name": "python3"
  },
  "language_info": {
   "codemirror_mode": {
    "name": "ipython",
    "version": 3
   },
   "file_extension": ".py",
   "mimetype": "text/x-python",
   "name": "python",
   "nbconvert_exporter": "python",
   "pygments_lexer": "ipython3",
   "version": "3.9.4"
  },
  "orig_nbformat": 4
 },
 "nbformat": 4,
 "nbformat_minor": 2
}
