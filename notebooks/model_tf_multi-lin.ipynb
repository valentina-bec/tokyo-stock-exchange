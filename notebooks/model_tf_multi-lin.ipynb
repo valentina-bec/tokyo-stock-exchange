{
 "cells": [
  {
   "cell_type": "code",
   "execution_count": 1,
   "metadata": {},
   "outputs": [],
   "source": [
    "import os\n",
    "import datetime\n",
    "\n",
    "import sys\n",
    "\n",
    "sys.path.append(\"..\")\n",
    "import datetime, time, os\n",
    "\n",
    "import IPython\n",
    "import IPython.display\n",
    "import matplotlib as mpl\n",
    "import matplotlib.pyplot as plt\n",
    "import numpy as np\n",
    "import pandas as pd\n",
    "import seaborn as sns\n",
    "import tensorflow as tf\n",
    "\n",
    "from sklearn.metrics import mean_squared_error\n",
    "\n",
    "from sklearn.preprocessing import StandardScaler\n",
    "from functions import df_security_code\n",
    "\n",
    "import tensorflow as tf\n",
    "\n",
    "#from tensorflow import keras\n",
    "#from tensorflow.keras import layers\n",
    "#from tensorflow.keras.layers.experimental import preprocessing\n",
    "\n",
    "mpl.rcParams['figure.figsize'] = (5, 5)\n",
    "mpl.rcParams['axes.grid'] = False\n",
    "# Make numpy printouts easier to read.\n",
    "np.set_printoptions(precision=3, suppress=True)\n",
    "\n",
    "\n",
    "tf.keras.backend.set_floatx('float64')\n",
    "\n",
    "# Define random seed for whole notebook\n",
    "RSEED=42"
   ]
  },
  {
   "cell_type": "markdown",
   "metadata": {},
   "source": [
    "# Data"
   ]
  },
  {
   "cell_type": "code",
   "execution_count": 2,
   "metadata": {},
   "outputs": [],
   "source": [
    "data = pd.read_csv('../data/data.csv', parse_dates=['Date'],  index_col=[0])\n",
    "df  = df_security_code(data)\n",
    "del data"
   ]
  },
  {
   "cell_type": "code",
   "execution_count": 3,
   "metadata": {},
   "outputs": [
    {
     "data": {
      "text/plain": [
       "Index(['RowId', 'Date', 'SecuritiesCode', 'ExpectedDividend',\n",
       "       'SupervisionFlag', 'ad_Open', 'ad_High', 'ad_Low', 'ad_Close',\n",
       "       'ad_Volume', 'ad_Target', 'ad_Close_lag1', 'ad_Close_sma10',\n",
       "       'logprice_ad_Close', 'detrend_ad_Close', 'trend_ad_Close',\n",
       "       'season_ad_Close', 'error_ad_Close', 'ad_Open_lag1', 'ad_Open_sma10',\n",
       "       'logprice_ad_Open', 'detrend_ad_Open', 'trend_ad_Open',\n",
       "       'season_ad_Open', 'error_ad_Open', 'ad_High_lag1', 'ad_High_sma10',\n",
       "       'logprice_ad_High', 'detrend_ad_High', 'trend_ad_High',\n",
       "       'season_ad_High', 'error_ad_High', 'ad_Low_lag1', 'ad_Low_sma10',\n",
       "       'logprice_ad_Low', 'detrend_ad_Low', 'trend_ad_Low', 'season_ad_Low',\n",
       "       'error_ad_Low', 'ad_Volume_lag1', 'ad_Volume_sma10', 'RSI', 'Return',\n",
       "       'macd', 'macd_h', 'macd_s', 'Day', 'Month', 'Year', 'week',\n",
       "       'Volatility_week', 'Day_sin', 'Day_cos', 'Month_sin', 'Month_cos',\n",
       "       'Year_sin', 'Year_cos', 'Profit', 'NetSales', 'margin',\n",
       "       'win_quarter_growth', 'rev_quarter_growth', 'margin_growth'],\n",
       "      dtype='object')"
      ]
     },
     "execution_count": 3,
     "metadata": {},
     "output_type": "execute_result"
    }
   ],
   "source": [
    "df.columns"
   ]
  },
  {
   "cell_type": "code",
   "execution_count": 4,
   "metadata": {},
   "outputs": [],
   "source": [
    "df.columns\n",
    "\n",
    "df.drop(['RowId', 'Date', 'SecuritiesCode', 'ExpectedDividend',\n",
    "       'SupervisionFlag', 'margin_growth', 'win_quarter_growth', 'margin', 'NetSales', 'Profit',\n",
    "       'Day_cos', 'Year', 'rev_quarter_growth'], axis = 1, inplace=True)"
   ]
  },
  {
   "cell_type": "code",
   "execution_count": 5,
   "metadata": {},
   "outputs": [
    {
     "data": {
      "text/html": [
       "<div>\n",
       "<style scoped>\n",
       "    .dataframe tbody tr th:only-of-type {\n",
       "        vertical-align: middle;\n",
       "    }\n",
       "\n",
       "    .dataframe tbody tr th {\n",
       "        vertical-align: top;\n",
       "    }\n",
       "\n",
       "    .dataframe thead th {\n",
       "        text-align: right;\n",
       "    }\n",
       "</style>\n",
       "<table border=\"1\" class=\"dataframe\">\n",
       "  <thead>\n",
       "    <tr style=\"text-align: right;\">\n",
       "      <th></th>\n",
       "      <th>ad_Open</th>\n",
       "      <th>ad_High</th>\n",
       "      <th>ad_Low</th>\n",
       "      <th>ad_Close</th>\n",
       "      <th>ad_Volume</th>\n",
       "      <th>ad_Target</th>\n",
       "      <th>ad_Close_lag1</th>\n",
       "      <th>ad_Close_sma10</th>\n",
       "      <th>logprice_ad_Close</th>\n",
       "      <th>detrend_ad_Close</th>\n",
       "      <th>...</th>\n",
       "      <th>macd_s</th>\n",
       "      <th>Day</th>\n",
       "      <th>Month</th>\n",
       "      <th>week</th>\n",
       "      <th>Volatility_week</th>\n",
       "      <th>Day_sin</th>\n",
       "      <th>Month_sin</th>\n",
       "      <th>Month_cos</th>\n",
       "      <th>Year_sin</th>\n",
       "      <th>Year_cos</th>\n",
       "    </tr>\n",
       "  </thead>\n",
       "  <tbody>\n",
       "    <tr>\n",
       "      <th>1990468</th>\n",
       "      <td>7010.0</td>\n",
       "      <td>7103.0</td>\n",
       "      <td>6975.0</td>\n",
       "      <td>7097.0</td>\n",
       "      <td>9547600.0</td>\n",
       "      <td>-0.016882</td>\n",
       "      <td>NaN</td>\n",
       "      <td>NaN</td>\n",
       "      <td>8.867427</td>\n",
       "      <td>7097.0</td>\n",
       "      <td>...</td>\n",
       "      <td>107.299482</td>\n",
       "      <td>4.0</td>\n",
       "      <td>1.0</td>\n",
       "      <td>1.0</td>\n",
       "      <td>1.619015</td>\n",
       "      <td>-1.405899e-12</td>\n",
       "      <td>0.046905</td>\n",
       "      <td>-0.998899</td>\n",
       "      <td>0.061933</td>\n",
       "      <td>0.998080</td>\n",
       "    </tr>\n",
       "    <tr>\n",
       "      <th>1990469</th>\n",
       "      <td>7090.0</td>\n",
       "      <td>7091.0</td>\n",
       "      <td>7023.0</td>\n",
       "      <td>7049.0</td>\n",
       "      <td>7644000.0</td>\n",
       "      <td>-0.009957</td>\n",
       "      <td>7097.0</td>\n",
       "      <td>NaN</td>\n",
       "      <td>8.860641</td>\n",
       "      <td>7049.0</td>\n",
       "      <td>...</td>\n",
       "      <td>241.726765</td>\n",
       "      <td>5.0</td>\n",
       "      <td>1.0</td>\n",
       "      <td>1.0</td>\n",
       "      <td>1.619015</td>\n",
       "      <td>-1.165928e-11</td>\n",
       "      <td>-0.158971</td>\n",
       "      <td>-0.987283</td>\n",
       "      <td>0.079093</td>\n",
       "      <td>0.996867</td>\n",
       "    </tr>\n",
       "  </tbody>\n",
       "</table>\n",
       "<p>2 rows × 50 columns</p>\n",
       "</div>"
      ],
      "text/plain": [
       "         ad_Open  ad_High  ad_Low  ad_Close  ad_Volume  ad_Target  \\\n",
       "1990468   7010.0   7103.0  6975.0    7097.0  9547600.0  -0.016882   \n",
       "1990469   7090.0   7091.0  7023.0    7049.0  7644000.0  -0.009957   \n",
       "\n",
       "         ad_Close_lag1  ad_Close_sma10  logprice_ad_Close  detrend_ad_Close  \\\n",
       "1990468            NaN             NaN           8.867427            7097.0   \n",
       "1990469         7097.0             NaN           8.860641            7049.0   \n",
       "\n",
       "         ...      macd_s  Day  Month  week  Volatility_week       Day_sin  \\\n",
       "1990468  ...  107.299482  4.0    1.0   1.0         1.619015 -1.405899e-12   \n",
       "1990469  ...  241.726765  5.0    1.0   1.0         1.619015 -1.165928e-11   \n",
       "\n",
       "         Month_sin  Month_cos  Year_sin  Year_cos  \n",
       "1990468   0.046905  -0.998899  0.061933  0.998080  \n",
       "1990469  -0.158971  -0.987283  0.079093  0.996867  \n",
       "\n",
       "[2 rows x 50 columns]"
      ]
     },
     "execution_count": 5,
     "metadata": {},
     "output_type": "execute_result"
    }
   ],
   "source": [
    "df.head(2)"
   ]
  },
  {
   "cell_type": "code",
   "execution_count": 6,
   "metadata": {},
   "outputs": [
    {
     "data": {
      "text/plain": [
       "7305.0275"
      ]
     },
     "execution_count": 6,
     "metadata": {},
     "output_type": "execute_result"
    }
   ],
   "source": [
    "df.ad_Close.mean()"
   ]
  },
  {
   "cell_type": "code",
   "execution_count": 7,
   "metadata": {},
   "outputs": [],
   "source": [
    "def split_train_val_test(df, split=22):\n",
    "    df.dropna(inplace=True)\n",
    "    #df_train =  df[:- 4*split]\n",
    "    #df_val = df[- 4*split : - split]\n",
    "    #df_test = df[- split : ]\n",
    "    n = len(df)\n",
    "    df_train = df[0:int(n*0.7)]\n",
    "    df_val = df[int(n*0.7):int(n*0.9)]\n",
    "    df_test = df[int(n*0.9):]\n",
    "\n",
    "\n",
    "    return df_train, df_val, df_test"
   ]
  },
  {
   "cell_type": "code",
   "execution_count": 8,
   "metadata": {},
   "outputs": [
    {
     "name": "stdout",
     "output_type": "stream",
     "text": [
      "(1185, 50)\n",
      "(829, 50)\n",
      "(237, 50)\n",
      "(119, 50)\n"
     ]
    }
   ],
   "source": [
    "train_data, val_data, test_data = split_train_val_test(df=df)\n",
    "print(df.shape)\n",
    "print(train_data.shape)\n",
    "print(val_data.shape)\n",
    "print(test_data.shape)"
   ]
  },
  {
   "cell_type": "code",
   "execution_count": 9,
   "metadata": {},
   "outputs": [],
   "source": [
    "#test_data.columns"
   ]
  },
  {
   "cell_type": "code",
   "execution_count": 10,
   "metadata": {},
   "outputs": [],
   "source": [
    "num_features = train_data.shape[1]"
   ]
  },
  {
   "cell_type": "code",
   "execution_count": 11,
   "metadata": {},
   "outputs": [
    {
     "name": "stdout",
     "output_type": "stream",
     "text": [
      "(829, 50)\n",
      "(237, 50)\n",
      "(119, 50)\n"
     ]
    }
   ],
   "source": [
    "train_df = train_data\n",
    "val_df = val_data\n",
    "test_df = test_data\n",
    "\n",
    "print(train_df.shape)\n",
    "print(val_df.shape)\n",
    "print(test_df.shape)"
   ]
  },
  {
   "cell_type": "code",
   "execution_count": 12,
   "metadata": {},
   "outputs": [],
   "source": [
    "#train_df[:34]"
   ]
  },
  {
   "cell_type": "code",
   "execution_count": 13,
   "metadata": {},
   "outputs": [],
   "source": [
    "#train_df[100:100+34]"
   ]
  },
  {
   "cell_type": "code",
   "execution_count": 14,
   "metadata": {},
   "outputs": [],
   "source": [
    "#train_df[-10:]"
   ]
  },
  {
   "cell_type": "markdown",
   "metadata": {},
   "source": [
    "# Setup Tensorboard"
   ]
  },
  {
   "cell_type": "code",
   "execution_count": 15,
   "metadata": {},
   "outputs": [],
   "source": [
    "!rm -rf my_logs/\n",
    "# Define path for new directory \n",
    "root_logdir = os.path.join(os.curdir, \"my_logs\")\n",
    "\n",
    "# Define function for creating a new folder for each run\n",
    "def get_run_logdir():\n",
    "    run_id = time.strftime('run_%d_%m_%Y-%H_%M_%S')\n",
    "    return os.path.join(root_logdir, run_id)\n",
    "\n",
    "run_logdir = get_run_logdir()\n",
    "\n",
    "# Create function for using callbacks; \"name\" should be the name of the model you use\n",
    "def get_callbacks(name):\n",
    "    return tf.keras.callbacks.TensorBoard(run_logdir+name, histogram_freq=1)\n"
   ]
  },
  {
   "cell_type": "markdown",
   "metadata": {},
   "source": [
    "# Modelling"
   ]
  },
  {
   "cell_type": "code",
   "execution_count": null,
   "metadata": {},
   "outputs": [],
   "source": []
  },
  {
   "cell_type": "code",
   "execution_count": null,
   "metadata": {},
   "outputs": [],
   "source": []
  },
  {
   "cell_type": "code",
   "execution_count": 16,
   "metadata": {},
   "outputs": [
    {
     "data": {
      "text/plain": [
       "StandardScaler()"
      ]
     },
     "execution_count": 16,
     "metadata": {},
     "output_type": "execute_result"
    }
   ],
   "source": [
    "#normalizer = preprocessing.Normalization()\n",
    "#normalizer.adapt(np.array(train_df))\n",
    "\n",
    "scaler = StandardScaler()\n",
    "scaler.fit(train_df)"
   ]
  },
  {
   "cell_type": "code",
   "execution_count": 17,
   "metadata": {},
   "outputs": [
    {
     "data": {
      "text/plain": [
       "array([   6848.294,    6896.901,    6801.714,    6849.499, 6137400.362,\n",
       "             0.   ,    6849.281,    6848.423,       8.829,    6849.499,\n",
       "          6849.913,       0.016,      -0.43 ,    6848.088,    6847.356,\n",
       "             8.829,    6848.294,    6848.816,       0.021,      -0.543,\n",
       "          6896.659,    6895.697,       8.836,    6896.901,    6897.319,\n",
       "             0.017,      -0.435,    6801.514,    6800.885,       8.822,\n",
       "          6801.714,    6802.299,       0.036,      -0.621, 6142694.813,\n",
       "       6152317.37 ,      51.129,       1.   ,      21.202,      -5.55 ,\n",
       "            26.752,      15.932,       6.232,      25.444,       2.575,\n",
       "            -0.   ,      -0.008,       0.01 ,       0.085,      -0.021])"
      ]
     },
     "execution_count": 17,
     "metadata": {},
     "output_type": "execute_result"
    }
   ],
   "source": [
    "scaler.mean_"
   ]
  },
  {
   "cell_type": "code",
   "execution_count": 18,
   "metadata": {},
   "outputs": [],
   "source": [
    "#normalizer(train_df).numpy().std()"
   ]
  },
  {
   "cell_type": "code",
   "execution_count": 19,
   "metadata": {},
   "outputs": [],
   "source": [
    "#normalizer(train_df)"
   ]
  },
  {
   "cell_type": "code",
   "execution_count": 20,
   "metadata": {},
   "outputs": [],
   "source": [
    "# normalize data\n",
    "train_scaled = scaler.transform(train_df)\n",
    "val_scaled = scaler.transform(val_df)\n",
    "test_scaled = scaler.transform(test_df)"
   ]
  },
  {
   "cell_type": "code",
   "execution_count": null,
   "metadata": {},
   "outputs": [],
   "source": []
  },
  {
   "cell_type": "code",
   "execution_count": 21,
   "metadata": {},
   "outputs": [],
   "source": [
    "class WindowGenerator():\n",
    "  def __init__(self, input_width, label_width, shift,\n",
    "               train_df= train_scaled, # normalizer(train_df),#, train_df,#normalizer(train_df), \n",
    "               val_df =  val_scaled, \n",
    "               test_df= test_scaled,\n",
    "               label_columns=None):\n",
    "    # Store the raw data.\n",
    "    self.train_df = train_df\n",
    "    self.val_df = val_df\n",
    "    self.test_df = test_df\n",
    "\n",
    "    # Work out the label column indices.\n",
    "    self.label_columns = label_columns\n",
    "    if label_columns is not None:\n",
    "      self.label_columns_indices = {name: i for i, name in\n",
    "                                    enumerate(label_columns)}\n",
    "    self.column_indices = {name: i for i, name in\n",
    "                           enumerate(train_data.columns)}\n",
    "\n",
    "    # Work out the window parameters.\n",
    "    self.input_width = input_width\n",
    "    self.label_width = label_width\n",
    "    self.shift = shift\n",
    "\n",
    "    self.total_window_size = input_width + shift\n",
    "\n",
    "    #self.example = \n",
    "\n",
    "    self.input_slice = slice(0, input_width)\n",
    "    self.input_indices = np.arange(self.total_window_size)[self.input_slice]\n",
    "\n",
    "    self.label_start = self.total_window_size - self.label_width\n",
    "    self.labels_slice = slice(self.label_start, None)\n",
    "    self.label_indices = np.arange(self.total_window_size)[self.labels_slice]\n",
    "\n",
    "  def __repr__(self):\n",
    "    return '\\n'.join([\n",
    "        f'Total window size: {self.total_window_size}',\n",
    "        f'Input indices: {self.input_indices}',\n",
    "        f'Label indices: {self.label_indices}',\n",
    "        f'Label column name(s): {self.label_columns}'])"
   ]
  },
  {
   "cell_type": "code",
   "execution_count": 22,
   "metadata": {},
   "outputs": [],
   "source": [
    "def split_window(self, features):\n",
    "  inputs = features[:, self.input_slice, :]\n",
    "  labels = features[:, self.labels_slice, :]\n",
    "  if self.label_columns is not None:\n",
    "    labels = tf.stack(\n",
    "        [labels[:, :, self.column_indices[name]] for name in self.label_columns],\n",
    "        axis=-1)\n",
    "\n",
    "  # Slicing doesn't preserve static shape information, so set the shapes\n",
    "  # manually. This way the `tf.data.Datasets` are easier to inspect.\n",
    "  inputs.set_shape([None, self.input_width, None])\n",
    "  labels.set_shape([None, self.label_width, None])\n",
    "\n",
    "  return inputs, labels\n",
    "\n",
    "WindowGenerator.split_window = split_window"
   ]
  },
  {
   "cell_type": "code",
   "execution_count": 23,
   "metadata": {},
   "outputs": [],
   "source": [
    "def plot(self, model=None, plot_col='ad_Close', max_subplots=3):\n",
    "  inputs, labels = self.example\n",
    "  plt.figure(figsize=(12, 8))\n",
    "  plot_col_index = self.column_indices[plot_col]\n",
    "  max_n = min(max_subplots, len(inputs))\n",
    "  for n in range(max_n):\n",
    "    plt.subplot(max_n, 1, n+1)\n",
    "    plt.ylabel(f'{plot_col} [normed]')\n",
    "    plt.plot(self.input_indices, inputs[n, :, plot_col_index],\n",
    "             label='Inputs', marker='.', zorder=-10)\n",
    "\n",
    "    if self.label_columns:\n",
    "      label_col_index = self.label_columns_indices.get(plot_col, None)\n",
    "    else:\n",
    "      label_col_index = plot_col_index\n",
    "\n",
    "    if label_col_index is None:\n",
    "      continue\n",
    "\n",
    "    plt.scatter(self.label_indices, labels[n, :, label_col_index],\n",
    "                edgecolors='k', label='Labels', c='#2ca02c', s=64)\n",
    "    if model is not None:\n",
    "      predictions = model.predict(inputs) # add predict\n",
    "      plt.scatter(self.label_indices, predictions[n, :, label_col_index],\n",
    "                  marker='X', edgecolors='k', label='Predictions',\n",
    "                  c='#ff7f0e', s=64)\n",
    "\n",
    "    if n == 0:\n",
    "      plt.legend()\n",
    "\n",
    "  plt.xlabel('Time [h]')\n",
    "\n",
    "WindowGenerator.plot = plot"
   ]
  },
  {
   "cell_type": "code",
   "execution_count": 24,
   "metadata": {},
   "outputs": [],
   "source": [
    "def make_dataset(self, data):\n",
    "  data = np.array(data, dtype=np.float32)\n",
    "  ds = tf.keras.utils.timeseries_dataset_from_array(\n",
    "      data=data,\n",
    "      targets=None,\n",
    "      sequence_length=self.total_window_size,\n",
    "      sequence_stride=1,\n",
    "      shuffle=True,\n",
    "      batch_size=32,)\n",
    "\n",
    "  ds = ds.map(self.split_window)\n",
    "\n",
    "  return ds\n",
    "\n",
    "WindowGenerator.make_dataset = make_dataset"
   ]
  },
  {
   "cell_type": "code",
   "execution_count": 25,
   "metadata": {},
   "outputs": [],
   "source": [
    "def plot_loss(history):\n",
    "    plt.plot(history.history['loss'], label='loss')\n",
    "    plt.plot(history.history['val_loss'], label='val_loss')\n",
    "    #plt.ylim([0, 10])\n",
    "    plt.xlabel('Epoch')\n",
    "    plt.ylabel('Error')\n",
    "    plt.legend()\n",
    "    plt.grid(True)"
   ]
  },
  {
   "cell_type": "code",
   "execution_count": 26,
   "metadata": {},
   "outputs": [],
   "source": [
    "# Plotting function for MSE\n",
    "def plot_metric(history):\n",
    "    plt.plot(history.history['root_mean_squared_error'])\n",
    "    plt.plot(history.history['val_root_mean_squared_error'])\n",
    "    plt.title('Model RMSE')\n",
    "    plt.ylabel('RMSE')\n",
    "    plt.xlabel('Epoch')\n",
    "    plt.legend(['train', 'validation'], loc='upper right')\n",
    "    plt.show()"
   ]
  },
  {
   "cell_type": "code",
   "execution_count": 27,
   "metadata": {},
   "outputs": [],
   "source": [
    "def error_analysis(self, model, col='ad_Close'):\n",
    "\n",
    "    \n",
    "    # train\n",
    "    pred_train = model.predict(train_)\n",
    "    df_pred_train = pd.DataFrame(scaler.inverse_transform(pred_train[0]))\n",
    "    df_train_true = df_pred_train.columns = train_df.columns\n",
    "    #df_pred_train = pred_train[0][:,label_col_index]\n",
    "\n",
    "\n",
    "    # train _ true\n",
    "    last_inputs_train, last_labels_train = multi_window.split_window(last_window_train)\n",
    "    #df_train_true = last_labels_train[0][:,label_col_index]\n",
    "    df_train_true = pd.DataFrame(last_labels_train[0])\n",
    "    df_train_true.columns = train_df.columns\n",
    "\n",
    "\n",
    "    mean_train = df_train_true[col].mean()\n",
    "    train_rmse = round(np.sqrt(mean_squared_error(df_pred_train[col], df_train_true[col])),3)\n",
    "    print(f\"Train RMSE: {train_rmse}, Mean: {mean_train}  ->  {train_rmse/mean_train*100:.2f}\")\n",
    "\n",
    "    # test - true\n",
    "    \n",
    "    pred_test = model.predict(test_)\n",
    "    df_pred_test = pd.DataFrame(scaler.inverse_transform(pred_test[0]))\n",
    "    df_pred_test.columns = test_df.columns\n",
    "    #df_pred_test = scaler.inverse_transform(pred_test[0])[0][:,label_col_index]\n",
    "\n",
    "    last_inputs_test, last_labels_test = multi_window.split_window(last_window_test)\n",
    "    #df_test_true = last_labels_test[0][:,3]\n",
    "    df_test_true = pd.DataFrame(last_labels_test[0])\n",
    "    df_test_true.columns = test_df.columns\n",
    "\n",
    "    mean_test = df_test_true[col].mean()\n",
    "    test_rmse = round(np.sqrt(mean_squared_error(df_pred_test[col], df_test_true[col])),3)\n",
    "    print(f\"Train RMSE: {test_rmse}, Mean: {mean_test}  ->  {test_rmse/mean_test*100:.2f}\")\n",
    "\n",
    "    return [mean_train, train_rmse , mean_test, test_rmse]\n",
    "\n",
    "\n",
    "WindowGenerator.error_analysis = error_analysis"
   ]
  },
  {
   "cell_type": "code",
   "execution_count": 28,
   "metadata": {},
   "outputs": [],
   "source": [
    "@property\n",
    "def train(self):\n",
    "  return self.make_dataset(self.train_df)\n",
    "\n",
    "@property\n",
    "def val(self):\n",
    "  return self.make_dataset(self.val_df)\n",
    "\n",
    "@property\n",
    "def test(self):\n",
    "  return self.make_dataset(self.test_df)\n",
    "\n",
    "@property\n",
    "def example(self):\n",
    "  \"\"\"Get and cache an example batch of `inputs, labels` for plotting.\"\"\"\n",
    "  result = getattr(self, '_example', None)\n",
    "  if result is None:\n",
    "    # No example batch was found, so get one from the `.train` dataset\n",
    "    result = next(iter(self.train))\n",
    "    # And cache it for next time\n",
    "    self._example = result\n",
    "  return result\n",
    "\n",
    "@property\n",
    "def separe_map_train(self):\n",
    "  \"\"\"Get and cache an example batch of `inputs, labels` for plotting.\"\"\"\n",
    "  result = getattr(self, '_example', None)\n",
    "  if result is None:\n",
    "    # No example batch was found, so get one from the `.train` dataset\n",
    "    result = next(iter(self.train))\n",
    "    # And cache it for next time\n",
    "    self._example = result\n",
    "  return result\n",
    "\n",
    "\n",
    "\n",
    "WindowGenerator.train = train\n",
    "WindowGenerator.val = val\n",
    "WindowGenerator.test = test\n",
    "WindowGenerator.example = example\n",
    "#WindowGenerator.separe_map = separe_map_train\n"
   ]
  },
  {
   "cell_type": "code",
   "execution_count": 29,
   "metadata": {},
   "outputs": [],
   "source": [
    "MAX_EPOCHS = 100\n",
    "\n",
    "def compile_and_fit(model, window, patience=2):\n",
    "  \"\"\"early_stopping = tf.keras.callbacks.EarlyStopping(monitor='val_loss',\n",
    "                                                    patience=patience,\n",
    "                                                    mode='min'\n",
    "                                                    )\"\"\"\n",
    "\n",
    "  model.compile(loss='mae', #tf.losses.MeanSquaredError(),\n",
    "                optimizer=tf.optimizers.Adamax(), # adam\n",
    "                metrics= [tf.keras.metrics.RootMeanSquaredError()]), #'root_mean_squared_error') #'mse' )# [tf.metrics.MeanAbsoluteError()])\n",
    "\n",
    "  history = model.fit(window.train, epochs=MAX_EPOCHS,\n",
    "                      validation_data=window.val,\n",
    "                      callbacks = get_callbacks(f'{model=}'.split('=')[0])\n",
    "                      )\n",
    "  return history"
   ]
  },
  {
   "cell_type": "markdown",
   "metadata": {},
   "source": [
    "# Multisteps"
   ]
  },
  {
   "cell_type": "code",
   "execution_count": 30,
   "metadata": {},
   "outputs": [
    {
     "name": "stdout",
     "output_type": "stream",
     "text": [
      "Metal device set to: Apple M1\n",
      "\n",
      "systemMemory: 8.00 GB\n",
      "maxCacheSize: 2.67 GB\n",
      "\n"
     ]
    },
    {
     "name": "stderr",
     "output_type": "stream",
     "text": [
      "2022-04-29 11:38:36.872643: I tensorflow/core/common_runtime/pluggable_device/pluggable_device_factory.cc:305] Could not identify NUMA node of platform GPU ID 0, defaulting to 0. Your kernel may not have been built with NUMA support.\n",
      "2022-04-29 11:38:36.872789: I tensorflow/core/common_runtime/pluggable_device/pluggable_device_factory.cc:271] Created TensorFlow device (/job:localhost/replica:0/task:0/device:GPU:0 with 0 MB memory) -> physical PluggableDevice (device: 0, name: METAL, pci bus id: <undefined>)\n",
      "2022-04-29 11:38:36.989550: W tensorflow/core/platform/profile_utils/cpu_utils.cc:128] Failed to get CPU frequency: 0 Hz\n"
     ]
    },
    {
     "data": {
      "text/plain": [
       "Total window size: 32\n",
       "Input indices: [ 0  1  2  3  4  5  6  7  8  9 10 11 12 13 14 15 16 17 18 19 20 21]\n",
       "Label indices: [22 23 24 25 26 27 28 29 30 31]\n",
       "Label column name(s): None"
      ]
     },
     "execution_count": 30,
     "metadata": {},
     "output_type": "execute_result"
    },
    {
     "data": {
      "image/png": "[encoded data removed]",
      "text/plain": [
       "<Figure size 864x576 with 3 Axes>"
      ]
     },
     "metadata": {
      "needs_background": "light"
     },
     "output_type": "display_data"
    }
   ],
   "source": [
    "OUT_STEPS = 10 # 1022 # 10\n",
    "multi_window = WindowGenerator(input_width=22, # 2244, # 22\n",
    "                               label_width=OUT_STEPS,\n",
    "                               shift=OUT_STEPS)\n",
    "IPython.display.clear_output()\n",
    "\n",
    "multi_window.plot()\n",
    "multi_window"
   ]
  },
  {
   "cell_type": "code",
   "execution_count": 31,
   "metadata": {},
   "outputs": [],
   "source": [
    "train_ = multi_window.train\n",
    "test_ = multi_window.test\n",
    "val_ = multi_window.val"
   ]
  },
  {
   "cell_type": "code",
   "execution_count": 32,
   "metadata": {},
   "outputs": [],
   "source": [
    "#type(multi_window.train)"
   ]
  },
  {
   "cell_type": "code",
   "execution_count": 33,
   "metadata": {},
   "outputs": [],
   "source": [
    "# Stack three slices, the length of the total window.\n",
    "example_window = tf.stack([np.array(train_df[:multi_window.total_window_size]),\n",
    "                           np.array(train_df[100:100+multi_window.total_window_size]),\n",
    "                           np.array(train_df[200:200+multi_window.total_window_size])])\n"
   ]
  },
  {
   "cell_type": "code",
   "execution_count": 34,
   "metadata": {},
   "outputs": [],
   "source": [
    "last_window_train = tf.stack([np.array(train_df[- multi_window.total_window_size:])])\n",
    "last_window_test = tf.stack([np.array(test_df[- multi_window.total_window_size:])])\n",
    "#last_window_train = tf.stack([np.array(train_df[- multi_window.total_window_size:])])"
   ]
  },
  {
   "cell_type": "markdown",
   "metadata": {},
   "source": [
    "## - baseline"
   ]
  },
  {
   "cell_type": "code",
   "execution_count": 35,
   "metadata": {},
   "outputs": [],
   "source": [
    "model_results = {}"
   ]
  },
  {
   "cell_type": "code",
   "execution_count": 36,
   "metadata": {},
   "outputs": [],
   "source": [
    "#inputs_test.numpy().mean()"
   ]
  },
  {
   "cell_type": "code",
   "execution_count": 37,
   "metadata": {},
   "outputs": [
    {
     "ename": "InvalidArgumentError",
     "evalue": "Cannot assign a device for operation AssignAddVariableOp: Could not satisfy explicit device specification '' because the node {{colocation_node AssignAddVariableOp}} was colocated with a group of nodes that required incompatible device '/job:localhost/replica:0/task:0/device:GPU:0'. All available devices [/job:localhost/replica:0/task:0/device:CPU:0, /job:localhost/replica:0/task:0/device:GPU:0]. \nColocation Debug Info:\nColocation group had the following types and supported devices: \nRoot Member(assigned_device_name_index_=2 requested_device_name_='/job:localhost/replica:0/task:0/device:GPU:0' assigned_device_name_='/job:localhost/replica:0/task:0/device:GPU:0' resource_device_name_='/job:localhost/replica:0/task:0/device:GPU:0' supported_device_types_=[CPU] possible_devices_=[]\nReadVariableOp: GPU CPU \nAssignAddVariableOp: CPU \n_Arg: GPU CPU \n\nColocation members, user-requested devices, and framework assigned devices, if any:\n  assignaddvariableop_resource (_Arg)  framework assigned device=/job:localhost/replica:0/task:0/device:GPU:0\n  AssignAddVariableOp (AssignAddVariableOp) \n  div_no_nan/ReadVariableOp (ReadVariableOp) \n\n\t [[{{node AssignAddVariableOp}}]] [Op:__inference_test_function_678]",
     "output_type": "error",
     "traceback": [
      "\u001b[0;31m---------------------------------------------------------------------------\u001b[0m",
      "\u001b[0;31mInvalidArgumentError\u001b[0m                      Traceback (most recent call last)",
      "\u001b[1;32m/Users/valentina/ds/tokyo-stock-exchange/notebooks/model_tf_multi-lin.ipynb Cell 45'\u001b[0m in \u001b[0;36m<cell line: 11>\u001b[0;34m()\u001b[0m\n\u001b[1;32m     <a href='vscode-notebook-cell:/Users/valentina/ds/tokyo-stock-exchange/notebooks/model_tf_multi-lin.ipynb#ch0000044?line=9'>10</a>\u001b[0m multi_performance \u001b[39m=\u001b[39m {}\n\u001b[1;32m     <a href='vscode-notebook-cell:/Users/valentina/ds/tokyo-stock-exchange/notebooks/model_tf_multi-lin.ipynb#ch0000044?line=10'>11</a>\u001b[0m \u001b[39mwith\u001b[39;00m tf\u001b[39m.\u001b[39mdevice(\u001b[39m'\u001b[39m\u001b[39m/cpu:0\u001b[39m\u001b[39m'\u001b[39m):\n\u001b[1;32m     <a href='vscode-notebook-cell:/Users/valentina/ds/tokyo-stock-exchange/notebooks/model_tf_multi-lin.ipynb#ch0000044?line=11'>12</a>\u001b[0m     \u001b[39m#inputs, labels = separe_map(multi_window)\u001b[39;00m\n\u001b[1;32m     <a href='vscode-notebook-cell:/Users/valentina/ds/tokyo-stock-exchange/notebooks/model_tf_multi-lin.ipynb#ch0000044?line=12'>13</a>\u001b[0m     \u001b[39m#inputs, labels = multi_window.separe_map\u001b[39;00m\n\u001b[0;32m---> <a href='vscode-notebook-cell:/Users/valentina/ds/tokyo-stock-exchange/notebooks/model_tf_multi-lin.ipynb#ch0000044?line=13'>14</a>\u001b[0m     multi_val_performance[\u001b[39m'\u001b[39m\u001b[39mLast\u001b[39m\u001b[39m'\u001b[39m] \u001b[39m=\u001b[39m last_baseline\u001b[39m.\u001b[39;49mevaluate(multi_window\u001b[39m.\u001b[39;49mval)\n\u001b[1;32m     <a href='vscode-notebook-cell:/Users/valentina/ds/tokyo-stock-exchange/notebooks/model_tf_multi-lin.ipynb#ch0000044?line=14'>15</a>\u001b[0m     multi_val_performance[\u001b[39m'\u001b[39m\u001b[39mLast\u001b[39m\u001b[39m'\u001b[39m] \u001b[39m=\u001b[39m last_baseline\u001b[39m.\u001b[39mevaluate(val_)\n\u001b[1;32m     <a href='vscode-notebook-cell:/Users/valentina/ds/tokyo-stock-exchange/notebooks/model_tf_multi-lin.ipynb#ch0000044?line=15'>16</a>\u001b[0m     \u001b[39m#multi_performance['Last'] = last_baseline.evaluate(multi_window.test, verbose=0)\u001b[39;00m\n\u001b[1;32m     <a href='vscode-notebook-cell:/Users/valentina/ds/tokyo-stock-exchange/notebooks/model_tf_multi-lin.ipynb#ch0000044?line=16'>17</a>\u001b[0m     \u001b[39m#multi_performance['Last'] = last_baseline.evaluate(test_, verbose=0)\u001b[39;00m\n",
      "File \u001b[0;32m~/ds/tokyo-stock-exchange/.venv/lib/python3.9/site-packages/keras/utils/traceback_utils.py:67\u001b[0m, in \u001b[0;36mfilter_traceback.<locals>.error_handler\u001b[0;34m(*args, **kwargs)\u001b[0m\n\u001b[1;32m     <a href='file:///Users/valentina/ds/tokyo-stock-exchange/.venv/lib/python3.9/site-packages/keras/utils/traceback_utils.py?line=64'>65</a>\u001b[0m \u001b[39mexcept\u001b[39;00m \u001b[39mException\u001b[39;00m \u001b[39mas\u001b[39;00m e:  \u001b[39m# pylint: disable=broad-except\u001b[39;00m\n\u001b[1;32m     <a href='file:///Users/valentina/ds/tokyo-stock-exchange/.venv/lib/python3.9/site-packages/keras/utils/traceback_utils.py?line=65'>66</a>\u001b[0m   filtered_tb \u001b[39m=\u001b[39m _process_traceback_frames(e\u001b[39m.\u001b[39m__traceback__)\n\u001b[0;32m---> <a href='file:///Users/valentina/ds/tokyo-stock-exchange/.venv/lib/python3.9/site-packages/keras/utils/traceback_utils.py?line=66'>67</a>\u001b[0m   \u001b[39mraise\u001b[39;00m e\u001b[39m.\u001b[39mwith_traceback(filtered_tb) \u001b[39mfrom\u001b[39;00m \u001b[39mNone\u001b[39m\n\u001b[1;32m     <a href='file:///Users/valentina/ds/tokyo-stock-exchange/.venv/lib/python3.9/site-packages/keras/utils/traceback_utils.py?line=67'>68</a>\u001b[0m \u001b[39mfinally\u001b[39;00m:\n\u001b[1;32m     <a href='file:///Users/valentina/ds/tokyo-stock-exchange/.venv/lib/python3.9/site-packages/keras/utils/traceback_utils.py?line=68'>69</a>\u001b[0m   \u001b[39mdel\u001b[39;00m filtered_tb\n",
      "File \u001b[0;32m~/ds/tokyo-stock-exchange/.venv/lib/python3.9/site-packages/tensorflow/python/eager/execute.py:54\u001b[0m, in \u001b[0;36mquick_execute\u001b[0;34m(op_name, num_outputs, inputs, attrs, ctx, name)\u001b[0m\n\u001b[1;32m     <a href='file:///Users/valentina/ds/tokyo-stock-exchange/.venv/lib/python3.9/site-packages/tensorflow/python/eager/execute.py?line=51'>52</a>\u001b[0m \u001b[39mtry\u001b[39;00m:\n\u001b[1;32m     <a href='file:///Users/valentina/ds/tokyo-stock-exchange/.venv/lib/python3.9/site-packages/tensorflow/python/eager/execute.py?line=52'>53</a>\u001b[0m   ctx\u001b[39m.\u001b[39mensure_initialized()\n\u001b[0;32m---> <a href='file:///Users/valentina/ds/tokyo-stock-exchange/.venv/lib/python3.9/site-packages/tensorflow/python/eager/execute.py?line=53'>54</a>\u001b[0m   tensors \u001b[39m=\u001b[39m pywrap_tfe\u001b[39m.\u001b[39mTFE_Py_Execute(ctx\u001b[39m.\u001b[39m_handle, device_name, op_name,\n\u001b[1;32m     <a href='file:///Users/valentina/ds/tokyo-stock-exchange/.venv/lib/python3.9/site-packages/tensorflow/python/eager/execute.py?line=54'>55</a>\u001b[0m                                       inputs, attrs, num_outputs)\n\u001b[1;32m     <a href='file:///Users/valentina/ds/tokyo-stock-exchange/.venv/lib/python3.9/site-packages/tensorflow/python/eager/execute.py?line=55'>56</a>\u001b[0m \u001b[39mexcept\u001b[39;00m core\u001b[39m.\u001b[39m_NotOkStatusException \u001b[39mas\u001b[39;00m e:\n\u001b[1;32m     <a href='file:///Users/valentina/ds/tokyo-stock-exchange/.venv/lib/python3.9/site-packages/tensorflow/python/eager/execute.py?line=56'>57</a>\u001b[0m   \u001b[39mif\u001b[39;00m name \u001b[39mis\u001b[39;00m \u001b[39mnot\u001b[39;00m \u001b[39mNone\u001b[39;00m:\n",
      "\u001b[0;31mInvalidArgumentError\u001b[0m: Cannot assign a device for operation AssignAddVariableOp: Could not satisfy explicit device specification '' because the node {{colocation_node AssignAddVariableOp}} was colocated with a group of nodes that required incompatible device '/job:localhost/replica:0/task:0/device:GPU:0'. All available devices [/job:localhost/replica:0/task:0/device:CPU:0, /job:localhost/replica:0/task:0/device:GPU:0]. \nColocation Debug Info:\nColocation group had the following types and supported devices: \nRoot Member(assigned_device_name_index_=2 requested_device_name_='/job:localhost/replica:0/task:0/device:GPU:0' assigned_device_name_='/job:localhost/replica:0/task:0/device:GPU:0' resource_device_name_='/job:localhost/replica:0/task:0/device:GPU:0' supported_device_types_=[CPU] possible_devices_=[]\nReadVariableOp: GPU CPU \nAssignAddVariableOp: CPU \n_Arg: GPU CPU \n\nColocation members, user-requested devices, and framework assigned devices, if any:\n  assignaddvariableop_resource (_Arg)  framework assigned device=/job:localhost/replica:0/task:0/device:GPU:0\n  AssignAddVariableOp (AssignAddVariableOp) \n  div_no_nan/ReadVariableOp (ReadVariableOp) \n\n\t [[{{node AssignAddVariableOp}}]] [Op:__inference_test_function_678]"
     ]
    }
   ],
   "source": [
    "class MultiStepLastBaseline(tf.keras.Model):\n",
    "  def call(self, inputs):\n",
    "    return tf.tile(inputs[:, -1:, :], [1, OUT_STEPS, 1])\n",
    "\n",
    "last_baseline = MultiStepLastBaseline()\n",
    "last_baseline.compile(loss=tf.losses.MeanSquaredError(),\n",
    "                      metrics=[tf.metrics.MeanAbsoluteError()])\n",
    "\n",
    "multi_val_performance = {}\n",
    "multi_performance = {}\n",
    "with tf.device('/cpu:0'):\n",
    "    #inputs, labels = separe_map(multi_window)\n",
    "    #inputs, labels = multi_window.separe_map\n",
    "    multi_val_performance['Last'] = last_baseline.evaluate(multi_window.val)\n",
    "    multi_val_performance['Last'] = last_baseline.evaluate(val_)\n",
    "    #multi_performance['Last'] = last_baseline.evaluate(multi_window.test, verbose=0)\n",
    "    #multi_performance['Last'] = last_baseline.evaluate(test_, verbose=0)\n",
    "    multi_window.plot(last_baseline)"
   ]
  },
  {
   "cell_type": "markdown",
   "metadata": {},
   "source": []
  },
  {
   "cell_type": "code",
   "execution_count": null,
   "metadata": {},
   "outputs": [],
   "source": [
    "model_results['baseline'] = multi_window.error_analysis(last_baseline)"
   ]
  },
  {
   "cell_type": "code",
   "execution_count": null,
   "metadata": {},
   "outputs": [],
   "source": [
    "# Save the entire small model as a SavedModel.\n",
    "!mkdir -p saved_model\n",
    "\n",
    "last_baseline.save('saved_model/baseline_model')"
   ]
  },
  {
   "cell_type": "markdown",
   "metadata": {},
   "source": [
    "## - linear"
   ]
  },
  {
   "cell_type": "code",
   "execution_count": null,
   "metadata": {},
   "outputs": [],
   "source": [
    "multi_linear_model = tf.keras.Sequential([\n",
    "    # Take the last time-step.\n",
    "    # Shape [batch, time, features] => [batch, 1, features]\n",
    "    #tf.keras.layers.Normalization(mean=1.3008788e-06, variance=0.989949),   # including normalization\n",
    "    tf.keras.layers.Lambda(lambda x: x[:, -1:, :]),\n",
    "    # Shape => [batch, 1, out_steps*features]\n",
    "    #tf.keras.layers.Normalization(),#,mean=1.3008788e-06, variance=0.989949),\n",
    "    tf.keras.layers.Dense(OUT_STEPS*num_features,\n",
    "                          kernel_initializer='uniform'), #tf.initializers.zeros()\n",
    "    #tf.keras.layers.Normalization(),\n",
    "    # Shape => [batch, out_steps, features]\n",
    "    #tf.keras.layers.BatchNormalization(),\n",
    "    tf.keras.layers.Reshape([OUT_STEPS, num_features])\n",
    "])\n",
    "with tf.device('/cpu:0'):\n",
    "    history = compile_and_fit(multi_linear_model, multi_window)\n",
    "    #inputs, labels = multi_window.separe_map\n",
    "\n",
    "    IPython.display.clear_output()\n",
    "    #multi_val_performance['Linear'] = multi_linear_model.evaluate(inputs_example, labels_example)\n",
    "    #multi_val_performance['Linear'] = multi_linear_model.evaluate(val_)\n",
    "    #multi_performance['Linear'] = multi_linear_model.evaluate(test_, verbose=0)\n",
    "    #multi_performance['Linear'] = multi_linear_model.evaluate(inputs_test, labels_test, verbose=0)\n",
    "    multi_window.plot(multi_linear_model)"
   ]
  },
  {
   "cell_type": "code",
   "execution_count": null,
   "metadata": {},
   "outputs": [],
   "source": [
    "#model_results['linear'] = multi_window.error_analysis(last_baseline)"
   ]
  },
  {
   "cell_type": "code",
   "execution_count": null,
   "metadata": {},
   "outputs": [],
   "source": [
    "multi_linear_model.summary()"
   ]
  },
  {
   "cell_type": "code",
   "execution_count": null,
   "metadata": {},
   "outputs": [],
   "source": [
    "#y_train = multi_linear_model.evaluate(multi_window.train)\n",
    "#y_test = multi_linear_model.evaluate(multi_window.val)"
   ]
  },
  {
   "cell_type": "code",
   "execution_count": null,
   "metadata": {},
   "outputs": [],
   "source": [
    "plot_loss(history)"
   ]
  },
  {
   "cell_type": "code",
   "execution_count": null,
   "metadata": {},
   "outputs": [],
   "source": [
    "plot_metric(history)"
   ]
  },
  {
   "cell_type": "code",
   "execution_count": null,
   "metadata": {},
   "outputs": [],
   "source": [
    "hist_lin = pd.DataFrame(history.history)\n",
    "#hist_lin"
   ]
  },
  {
   "cell_type": "code",
   "execution_count": null,
   "metadata": {},
   "outputs": [],
   "source": [
    "train_"
   ]
  },
  {
   "cell_type": "code",
   "execution_count": null,
   "metadata": {},
   "outputs": [],
   "source": [
    "pred_train = multi_linear_model.predict(train_)"
   ]
  },
  {
   "cell_type": "code",
   "execution_count": null,
   "metadata": {},
   "outputs": [],
   "source": [
    "len(pred_train)"
   ]
  },
  {
   "cell_type": "code",
   "execution_count": null,
   "metadata": {},
   "outputs": [],
   "source": [
    "len(pred_train[0])"
   ]
  },
  {
   "cell_type": "code",
   "execution_count": null,
   "metadata": {},
   "outputs": [],
   "source": [
    "#pred_train[0]"
   ]
  },
  {
   "cell_type": "code",
   "execution_count": null,
   "metadata": {},
   "outputs": [],
   "source": [
    "arr = scaler.inverse_transform(pred_train[0])"
   ]
  },
  {
   "cell_type": "code",
   "execution_count": null,
   "metadata": {},
   "outputs": [],
   "source": [
    "arr[:,3].mean()"
   ]
  },
  {
   "cell_type": "code",
   "execution_count": null,
   "metadata": {},
   "outputs": [],
   "source": [
    "df_pred_train = pd.DataFrame(scaler.inverse_transform(pred_train[0]))\n",
    "df_pred_train.columns = train_df.columns\n",
    "#df_pred_train\n"
   ]
  },
  {
   "cell_type": "code",
   "execution_count": null,
   "metadata": {},
   "outputs": [],
   "source": [
    "last_inputs, last_labels = multi_window.split_window(last_window_train)"
   ]
  },
  {
   "cell_type": "code",
   "execution_count": null,
   "metadata": {},
   "outputs": [],
   "source": [
    "len(last_labels)"
   ]
  },
  {
   "cell_type": "code",
   "execution_count": null,
   "metadata": {},
   "outputs": [],
   "source": [
    "#df_train2 = pd.DataFrame(scaler.inverse_transform(last_labels[0]))\n",
    "df_train2 = pd.DataFrame(last_labels[0])\n",
    "df_train2.columns = train_df.columns\n",
    "#df_train2"
   ]
  },
  {
   "cell_type": "code",
   "execution_count": null,
   "metadata": {},
   "outputs": [],
   "source": [
    "# plot\n",
    "#df_pred_train.ad_Close\n",
    "#df_train2.ad_Close\n",
    "plt.scatter(multi_window.label_indices, df_pred_train.ad_Close)\n",
    "plt.scatter(multi_window.label_indices, df_train2.ad_Close, color = 'red')"
   ]
  },
  {
   "cell_type": "code",
   "execution_count": null,
   "metadata": {},
   "outputs": [],
   "source": [
    "multi_window.error_analysis(multi_linear_model)"
   ]
  },
  {
   "cell_type": "code",
   "execution_count": null,
   "metadata": {},
   "outputs": [],
   "source": [
    "multi_linear_model.save('saved_model/linear_model')"
   ]
  },
  {
   "cell_type": "code",
   "execution_count": null,
   "metadata": {},
   "outputs": [],
   "source": [
    "\"\"\"\n",
    "    \n",
    "# train\n",
    "pred_train = multi_linear_model.predict(train_)\n",
    "df_pred_train = pd.DataFrame(scaler.inverse_transform(pred_train[0]))\n",
    "df_pred_train.columns = train_df.columns\n",
    "#display(df_pred_train)\n",
    "\n",
    "    # train _ true\n",
    "last_inputs_train, last_labels_train = multi_window.split_window(last_window_train)\n",
    "df_train_true = pd.DataFrame(last_labels_train[0])\n",
    "df_train_true.columns = train_df.columns\n",
    "#display(df_train_true)\n",
    "    # train\n",
    "\n",
    "train_rmse = round(np.sqrt(mean_squared_error(df_pred_train.ad_Close, df_train_true.ad_Close)),3)\n",
    "print(f\"Train RMSE: {train_rmse}\")\n",
    "\n",
    "    # test - true\n",
    "last_inputs_test, last_labels_test = multi_window.split_window(last_window_test)\"\"\""
   ]
  },
  {
   "cell_type": "markdown",
   "metadata": {},
   "source": [
    "## - lstm"
   ]
  },
  {
   "cell_type": "code",
   "execution_count": null,
   "metadata": {},
   "outputs": [],
   "source": [
    "multi_lstm_model = tf.keras.Sequential([\n",
    "    # Shape [batch, time, features] => [batch, lstm_units].\n",
    "    # Adding more `lstm_units` just overfits more quickly.\n",
    "    #tf.keras.layers.Normalization(axis=None), #added\n",
    "    #tf.keras.layer.\n",
    "    tf.keras.layers.LSTM(32, return_sequences=False),\n",
    "    # Shape => [batch, out_steps*features].\n",
    "    tf.keras.layers.Dense(OUT_STEPS*num_features,\n",
    "                          kernel_initializer='uniform'),\n",
    "    # Shape => [batch, out_steps, features].\n",
    "    tf.keras.layers.Reshape([OUT_STEPS, num_features])\n",
    "])\n",
    "with tf.device('/cpu:0'):\n",
    "    history = compile_and_fit(multi_lstm_model, multi_window)\n",
    "\n",
    "    IPython.display.clear_output()\n",
    "    #inputs, labels = multi_window.separe_map\n",
    "    #multi_val_performance['LSTM'] = multi_lstm_model.evaluate(multi_window.val)\n",
    "    #multi_performance['LSTM'] = multi_lstm_model.evaluate(multi_window.test, verbose=0)\n",
    "    multi_window.plot(multi_lstm_model)"
   ]
  },
  {
   "cell_type": "code",
   "execution_count": null,
   "metadata": {},
   "outputs": [],
   "source": [
    "plot_loss(history)"
   ]
  },
  {
   "cell_type": "code",
   "execution_count": null,
   "metadata": {},
   "outputs": [],
   "source": [
    "plot_metric(history)"
   ]
  },
  {
   "cell_type": "code",
   "execution_count": null,
   "metadata": {},
   "outputs": [],
   "source": [
    "#model_results['LSTM'] = multi_window.error_analysis(multi_lstm_model)"
   ]
  },
  {
   "cell_type": "code",
   "execution_count": null,
   "metadata": {},
   "outputs": [],
   "source": [
    "multi_lstm_model.save('saved_model/lstm_model')"
   ]
  },
  {
   "cell_type": "code",
   "execution_count": null,
   "metadata": {},
   "outputs": [],
   "source": [
    "model_results"
   ]
  },
  {
   "cell_type": "code",
   "execution_count": null,
   "metadata": {},
   "outputs": [],
   "source": [
    "hist_lstm = pd.DataFrame(history.history)\n"
   ]
  },
  {
   "cell_type": "code",
   "execution_count": null,
   "metadata": {},
   "outputs": [],
   "source": [
    "cols = ['mean_train', 'train_rmse' , 'mean_test', 'test_rmse']"
   ]
  },
  {
   "cell_type": "code",
   "execution_count": null,
   "metadata": {},
   "outputs": [],
   "source": [
    "results = pd.DataFrame(model_results).T\n",
    "results.columns = cols\n",
    "results['train%'] = round(results.train_rmse / results.mean_train*100,2)\n",
    "results['test%'] = round(results.test_rmse / results.mean_test*100, 2)\n",
    "results"
   ]
  },
  {
   "cell_type": "code",
   "execution_count": null,
   "metadata": {},
   "outputs": [],
   "source": []
  }
 ],
 "metadata": {
  "interpreter": {
   "hash": "8e59dc4903522b6bd625aac9b906fbe96a3134871878cc11f65b8580a1e47af4"
  },
  "kernelspec": {
   "display_name": "Python 3.9.4 ('.venv': venv)",
   "language": "python",
   "name": "python3"
  },
  "language_info": {
   "codemirror_mode": {
    "name": "ipython",
    "version": 3
   },
   "file_extension": ".py",
   "mimetype": "text/x-python",
   "name": "python",
   "nbconvert_exporter": "python",
   "pygments_lexer": "ipython3",
   "version": "3.9.4"
  },
  "orig_nbformat": 4
 },
 "nbformat": 4,
 "nbformat_minor": 2
}
