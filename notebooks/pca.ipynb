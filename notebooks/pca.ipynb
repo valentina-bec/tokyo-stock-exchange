{
 "cells": [
  {
   "cell_type": "code",
   "execution_count": 50,
   "metadata": {},
   "outputs": [],
   "source": [
    "import pandas as pd\n",
    "import sys\n",
    "\n",
    "sys.path.append(\"..\")\n",
    "\n",
    "from functions import (df_security_code, \n",
    "        print_shape\n",
    ")"
   ]
  },
  {
   "cell_type": "code",
   "execution_count": 53,
   "metadata": {},
   "outputs": [],
   "source": [
    "data = pd.read_csv('../data/a_price_financial_fill.csv', parse_dates=['Date'],  index_col=[0])\n",
    "df = df_security_code(data)\n",
    "del data"
   ]
  },
  {
   "cell_type": "code",
   "execution_count": 55,
   "metadata": {},
   "outputs": [
    {
     "name": "stdout",
     "output_type": "stream",
     "text": [
      " Shape:\n",
      " ----------------------------------------\n",
      " Observations:   1.2K\n",
      " Features:       53\n",
      " Feature Date:    datetime64[ns]\n",
      "----------------------------------------\n",
      "Index(['RowId', 'Date', 'SecuritiesCode', 'AdjustmentFactor',\n",
      "       'ExpectedDividend', 'SupervisionFlag', 'Target', 'ad_Open', 'ad_High',\n",
      "       'ad_Low', 'ad_Close', 'ad_Volume', 'ad_Target', 'ad_Close_lag1',\n",
      "       'ad_Close_sma10', 'ad_Open_lag1', 'ad_Open_sma10', 'ad_High_lag1',\n",
      "       'ad_High_sma10', 'ad_Low_lag1', 'ad_Low_sma10', 'ad_Volume_lag1',\n",
      "       'ad_Volume_sma10', 'RSI', 'Return', 'logreturn', 'Log_Return', 'MACD',\n",
      "       'MACD_h', 'MACD_s', 'Year', 'week', 'Volatility_week', 'macd', 'macd_h',\n",
      "       'macd_s', 'Date_f_', 'Day', 'Month', 'Year_f_', 'SecuritiesCode_f_',\n",
      "       'Profit', 'NetSales', 'margin', 'profit_ttm', 'rev_ttm',\n",
      "       'win_quarter_growth', 'rev_quarter_growth', 'win_yoy_growth',\n",
      "       'rev_yoy_growth', 'win_ttm_growth', 'rev_ttm_growth', 'margin_growth'],\n",
      "      dtype='object')\n",
      "----------------------------------------\n"
     ]
    }
   ],
   "source": [
    "print_shape(df, False)"
   ]
  },
  {
   "cell_type": "code",
   "execution_count": 57,
   "metadata": {},
   "outputs": [
    {
     "data": {
      "text/plain": [
       "38"
      ]
     },
     "execution_count": 57,
     "metadata": {},
     "output_type": "execute_result"
    }
   ],
   "source": [
    "feat_not_to_scale = ['RowId', 'Date', 'SecuritiesCode', 'Target','Log_Return', 'MACD',\n",
    "       'MACD_h', 'MACD_s', 'Year', 'week','Date_f_', 'Day', 'Month', 'Year_f_', 'SecuritiesCode_f_' ]\n",
    "\n",
    "feat_to_scale = [x for x in df.columns if x not in feat_not_to_scale]\n",
    "len(feat_to_scale)"
   ]
  },
  {
   "cell_type": "code",
   "execution_count": null,
   "metadata": {},
   "outputs": [],
   "source": []
  }
 ],
 "metadata": {
  "language_info": {
   "name": "python"
  },
  "orig_nbformat": 4
 },
 "nbformat": 4,
 "nbformat_minor": 2
}
