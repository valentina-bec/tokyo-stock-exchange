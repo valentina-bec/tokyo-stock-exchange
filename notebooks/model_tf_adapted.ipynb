{
 "cells": [
  {
   "cell_type": "code",
   "execution_count": 1,
   "metadata": {},
   "outputs": [],
   "source": [
    "import os\n",
    "import datetime\n",
    "\n",
    "import sys\n",
    "\n",
    "sys.path.append(\"..\")\n",
    "\n",
    "import IPython\n",
    "import IPython.display\n",
    "import matplotlib as mpl\n",
    "import matplotlib.pyplot as plt\n",
    "import numpy as np\n",
    "import pandas as pd\n",
    "import seaborn as sns\n",
    "import tensorflow as tf\n",
    "from tqdm import tqdm\n",
    "\n",
    "from sklearn.preprocessing import StandardScaler, MinMaxScaler\n",
    "from functions import df_security_code, missingValues\n",
    "\n",
    "import tensorflow as tf\n",
    "\n",
    "from tensorflow import keras\n",
    "#from tensorflow.keras import layers\n",
    "#from tensorflow.keras.layers.experimental import preprocessing\n",
    "\n",
    "mpl.rcParams['figure.figsize'] = (8, 6)\n",
    "mpl.rcParams['axes.grid'] = False"
   ]
  },
  {
   "cell_type": "markdown",
   "metadata": {},
   "source": [
    "# Data"
   ]
  },
  {
   "cell_type": "code",
   "execution_count": 2,
   "metadata": {},
   "outputs": [],
   "source": [
    "data = pd.read_csv('../data/curr_price_financial_fill.csv', parse_dates=['Date'],  index_col=[0])\n",
    "df = df_security_code(data)\n",
    "del data"
   ]
  },
  {
   "cell_type": "code",
   "execution_count": 3,
   "metadata": {},
   "outputs": [
    {
     "data": {
      "text/html": [
       "<div>\n",
       "<style scoped>\n",
       "    .dataframe tbody tr th:only-of-type {\n",
       "        vertical-align: middle;\n",
       "    }\n",
       "\n",
       "    .dataframe tbody tr th {\n",
       "        vertical-align: top;\n",
       "    }\n",
       "\n",
       "    .dataframe thead th {\n",
       "        text-align: right;\n",
       "    }\n",
       "</style>\n",
       "<table border=\"1\" class=\"dataframe\">\n",
       "  <thead>\n",
       "    <tr style=\"text-align: right;\">\n",
       "      <th></th>\n",
       "      <th>RowId</th>\n",
       "      <th>Date</th>\n",
       "      <th>SecuritiesCode</th>\n",
       "      <th>ExpectedDividend</th>\n",
       "      <th>SupervisionFlag</th>\n",
       "      <th>ad_Open</th>\n",
       "      <th>ad_High</th>\n",
       "      <th>ad_Low</th>\n",
       "      <th>ad_Close</th>\n",
       "      <th>ad_Volume</th>\n",
       "      <th>...</th>\n",
       "      <th>Month_sin</th>\n",
       "      <th>Month_cos</th>\n",
       "      <th>Year_sin</th>\n",
       "      <th>Year_cos</th>\n",
       "      <th>Profit</th>\n",
       "      <th>NetSales</th>\n",
       "      <th>margin</th>\n",
       "      <th>win_quarter_growth</th>\n",
       "      <th>rev_quarter_growth</th>\n",
       "      <th>margin_growth</th>\n",
       "    </tr>\n",
       "  </thead>\n",
       "  <tbody>\n",
       "    <tr>\n",
       "      <th>0</th>\n",
       "      <td>20170104_7203</td>\n",
       "      <td>2017-01-04</td>\n",
       "      <td>7203</td>\n",
       "      <td>0.0</td>\n",
       "      <td>0</td>\n",
       "      <td>7010.0</td>\n",
       "      <td>7103.0</td>\n",
       "      <td>6975.0</td>\n",
       "      <td>7097.0</td>\n",
       "      <td>9547600.0</td>\n",
       "      <td>...</td>\n",
       "      <td>0.046905</td>\n",
       "      <td>-0.998899</td>\n",
       "      <td>0.061933</td>\n",
       "      <td>0.998080</td>\n",
       "      <td>NaN</td>\n",
       "      <td>NaN</td>\n",
       "      <td>NaN</td>\n",
       "      <td>NaN</td>\n",
       "      <td>NaN</td>\n",
       "      <td>NaN</td>\n",
       "    </tr>\n",
       "    <tr>\n",
       "      <th>1</th>\n",
       "      <td>20170105_7203</td>\n",
       "      <td>2017-01-05</td>\n",
       "      <td>7203</td>\n",
       "      <td>0.0</td>\n",
       "      <td>0</td>\n",
       "      <td>7090.0</td>\n",
       "      <td>7091.0</td>\n",
       "      <td>7023.0</td>\n",
       "      <td>7049.0</td>\n",
       "      <td>7644000.0</td>\n",
       "      <td>...</td>\n",
       "      <td>-0.158971</td>\n",
       "      <td>-0.987283</td>\n",
       "      <td>0.079093</td>\n",
       "      <td>0.996867</td>\n",
       "      <td>NaN</td>\n",
       "      <td>NaN</td>\n",
       "      <td>NaN</td>\n",
       "      <td>NaN</td>\n",
       "      <td>NaN</td>\n",
       "      <td>NaN</td>\n",
       "    </tr>\n",
       "  </tbody>\n",
       "</table>\n",
       "<p>2 rows × 63 columns</p>\n",
       "</div>"
      ],
      "text/plain": [
       "           RowId       Date  SecuritiesCode  ExpectedDividend  \\\n",
       "0  20170104_7203 2017-01-04            7203               0.0   \n",
       "1  20170105_7203 2017-01-05            7203               0.0   \n",
       "\n",
       "   SupervisionFlag  ad_Open  ad_High  ad_Low  ad_Close  ad_Volume  ...  \\\n",
       "0                0   7010.0   7103.0  6975.0    7097.0  9547600.0  ...   \n",
       "1                0   7090.0   7091.0  7023.0    7049.0  7644000.0  ...   \n",
       "\n",
       "   Month_sin  Month_cos  Year_sin  Year_cos  Profit  NetSales  margin  \\\n",
       "0   0.046905  -0.998899  0.061933  0.998080     NaN       NaN     NaN   \n",
       "1  -0.158971  -0.987283  0.079093  0.996867     NaN       NaN     NaN   \n",
       "\n",
       "   win_quarter_growth  rev_quarter_growth  margin_growth  \n",
       "0                 NaN                 NaN            NaN  \n",
       "1                 NaN                 NaN            NaN  \n",
       "\n",
       "[2 rows x 63 columns]"
      ]
     },
     "execution_count": 3,
     "metadata": {},
     "output_type": "execute_result"
    }
   ],
   "source": [
    "df.head(2)"
   ]
  },
  {
   "cell_type": "code",
   "execution_count": 4,
   "metadata": {},
   "outputs": [],
   "source": [
    "df.columns\n",
    "df = df.iloc[:,5:]\n",
    "df.drop(['margin_growth', 'win_quarter_growth', 'margin', 'NetSales', 'Profit',\n",
    "       'Day_cos', 'Year', 'rev_quarter_growth'], axis = 1, inplace=True)"
   ]
  },
  {
   "cell_type": "code",
   "execution_count": 5,
   "metadata": {},
   "outputs": [
    {
     "data": {
      "text/html": [
       "<div>\n",
       "<style scoped>\n",
       "    .dataframe tbody tr th:only-of-type {\n",
       "        vertical-align: middle;\n",
       "    }\n",
       "\n",
       "    .dataframe tbody tr th {\n",
       "        vertical-align: top;\n",
       "    }\n",
       "\n",
       "    .dataframe thead th {\n",
       "        text-align: right;\n",
       "    }\n",
       "</style>\n",
       "<table border=\"1\" class=\"dataframe\">\n",
       "  <thead>\n",
       "    <tr style=\"text-align: right;\">\n",
       "      <th></th>\n",
       "      <th>ad_Open</th>\n",
       "      <th>ad_High</th>\n",
       "      <th>ad_Low</th>\n",
       "      <th>ad_Close</th>\n",
       "      <th>ad_Volume</th>\n",
       "      <th>ad_Target</th>\n",
       "      <th>ad_Close_lag1</th>\n",
       "      <th>ad_Close_sma10</th>\n",
       "      <th>logprice_ad_Close</th>\n",
       "      <th>detrend_ad_Close</th>\n",
       "      <th>...</th>\n",
       "      <th>macd_s</th>\n",
       "      <th>Day</th>\n",
       "      <th>Month</th>\n",
       "      <th>week</th>\n",
       "      <th>Volatility_week</th>\n",
       "      <th>Day_sin</th>\n",
       "      <th>Month_sin</th>\n",
       "      <th>Month_cos</th>\n",
       "      <th>Year_sin</th>\n",
       "      <th>Year_cos</th>\n",
       "    </tr>\n",
       "  </thead>\n",
       "  <tbody>\n",
       "    <tr>\n",
       "      <th>0</th>\n",
       "      <td>7010.0</td>\n",
       "      <td>7103.0</td>\n",
       "      <td>6975.0</td>\n",
       "      <td>7097.0</td>\n",
       "      <td>9547600.0</td>\n",
       "      <td>-0.016882</td>\n",
       "      <td>NaN</td>\n",
       "      <td>NaN</td>\n",
       "      <td>8.867427</td>\n",
       "      <td>7097.0</td>\n",
       "      <td>...</td>\n",
       "      <td>NaN</td>\n",
       "      <td>4.0</td>\n",
       "      <td>1.0</td>\n",
       "      <td>1.0</td>\n",
       "      <td>1.619015</td>\n",
       "      <td>-1.405899e-12</td>\n",
       "      <td>0.046905</td>\n",
       "      <td>-0.998899</td>\n",
       "      <td>0.061933</td>\n",
       "      <td>0.998080</td>\n",
       "    </tr>\n",
       "    <tr>\n",
       "      <th>1</th>\n",
       "      <td>7090.0</td>\n",
       "      <td>7091.0</td>\n",
       "      <td>7023.0</td>\n",
       "      <td>7049.0</td>\n",
       "      <td>7644000.0</td>\n",
       "      <td>-0.009957</td>\n",
       "      <td>7097.0</td>\n",
       "      <td>NaN</td>\n",
       "      <td>8.860641</td>\n",
       "      <td>7049.0</td>\n",
       "      <td>...</td>\n",
       "      <td>NaN</td>\n",
       "      <td>5.0</td>\n",
       "      <td>1.0</td>\n",
       "      <td>1.0</td>\n",
       "      <td>1.619015</td>\n",
       "      <td>-1.165928e-11</td>\n",
       "      <td>-0.158971</td>\n",
       "      <td>-0.987283</td>\n",
       "      <td>0.079093</td>\n",
       "      <td>0.996867</td>\n",
       "    </tr>\n",
       "  </tbody>\n",
       "</table>\n",
       "<p>2 rows × 50 columns</p>\n",
       "</div>"
      ],
      "text/plain": [
       "   ad_Open  ad_High  ad_Low  ad_Close  ad_Volume  ad_Target  ad_Close_lag1  \\\n",
       "0   7010.0   7103.0  6975.0    7097.0  9547600.0  -0.016882            NaN   \n",
       "1   7090.0   7091.0  7023.0    7049.0  7644000.0  -0.009957         7097.0   \n",
       "\n",
       "   ad_Close_sma10  logprice_ad_Close  detrend_ad_Close  ...  macd_s  Day  \\\n",
       "0             NaN           8.867427            7097.0  ...     NaN  4.0   \n",
       "1             NaN           8.860641            7049.0  ...     NaN  5.0   \n",
       "\n",
       "   Month  week  Volatility_week       Day_sin  Month_sin  Month_cos  Year_sin  \\\n",
       "0    1.0   1.0         1.619015 -1.405899e-12   0.046905  -0.998899  0.061933   \n",
       "1    1.0   1.0         1.619015 -1.165928e-11  -0.158971  -0.987283  0.079093   \n",
       "\n",
       "   Year_cos  \n",
       "0  0.998080  \n",
       "1  0.996867  \n",
       "\n",
       "[2 rows x 50 columns]"
      ]
     },
     "execution_count": 5,
     "metadata": {},
     "output_type": "execute_result"
    }
   ],
   "source": [
    "df.head(2)"
   ]
  },
  {
   "cell_type": "markdown",
   "metadata": {},
   "source": [
    "# Preparation for modelling"
   ]
  },
  {
   "cell_type": "markdown",
   "metadata": {},
   "source": [
    "## - Train Test Split\n"
   ]
  },
  {
   "cell_type": "code",
   "execution_count": 6,
   "metadata": {},
   "outputs": [],
   "source": [
    "def split_train_val_test(df, split=22):\n",
    "    df.dropna(inplace=True)\n",
    "    df_train =  df[:- 2*split]\n",
    "    df_val = df[- 2*split : - split]\n",
    "    df_test = df[- split : ]\n",
    "    #\n",
    "\n",
    "    #df_train =  df[:(len(df)-2*split)]\n",
    "    #df_val = df[(len(df)-2*split):(len(df)-split)]\n",
    "    #df_test =  df[(len(df)-split):]\n",
    "\n",
    "\n",
    "\n",
    "\n",
    "    return df_train, df_val, df_test"
   ]
  },
  {
   "cell_type": "code",
   "execution_count": 7,
   "metadata": {},
   "outputs": [
    {
     "name": "stdout",
     "output_type": "stream",
     "text": [
      "(1169, 50)\n",
      "(1125, 50)\n",
      "(22, 50)\n",
      "(22, 50)\n"
     ]
    }
   ],
   "source": [
    "train_data, val_data, test_data = split_train_val_test(df=df)\n",
    "print(df.shape)\n",
    "print(train_data.shape)\n",
    "print(val_data.shape)\n",
    "print(test_data.shape)"
   ]
  },
  {
   "cell_type": "code",
   "execution_count": 8,
   "metadata": {},
   "outputs": [],
   "source": [
    "#val_data.describe().T"
   ]
  },
  {
   "cell_type": "markdown",
   "metadata": {},
   "source": [
    "## - Scaling"
   ]
  },
  {
   "cell_type": "code",
   "execution_count": 9,
   "metadata": {},
   "outputs": [],
   "source": [
    "def scaling_df(df):\n",
    "\n",
    "    scaler = StandardScaler()\n",
    "    scaler2 = MinMaxScaler()\n",
    "    df_scaled = scaler.fit_transform(df)\n",
    "    df_scaled = scaler2.fit_transform(df_scaled)\n",
    "    df_scaled = pd.DataFrame(df_scaled)\n",
    "    df_scaled.columns = df.columns\n",
    "    \n",
    "    #df_mean = df.mean()\n",
    "    #df_std = df.std()\n",
    "\n",
    "    #df_scaled = (df-df_mean) / df_std \n",
    "    \n",
    "    return df_scaled"
   ]
  },
  {
   "cell_type": "code",
   "execution_count": 10,
   "metadata": {},
   "outputs": [
    {
     "name": "stdout",
     "output_type": "stream",
     "text": [
      "(1125, 50)\n",
      "(22, 50)\n",
      "(22, 50)\n"
     ]
    }
   ],
   "source": [
    "train_df = scaling_df(train_data)\n",
    "val_df = scaling_df(val_data)\n",
    "test_df = scaling_df(test_data)\n",
    "\n",
    "print(train_df.shape)\n",
    "print(val_df.shape)\n",
    "print(test_df.shape)"
   ]
  },
  {
   "cell_type": "code",
   "execution_count": 11,
   "metadata": {},
   "outputs": [],
   "source": [
    "num_features = train_df.shape[1]"
   ]
  },
  {
   "cell_type": "code",
   "execution_count": 12,
   "metadata": {},
   "outputs": [
    {
     "data": {
      "text/plain": [
       "count    22.000000\n",
       "mean      0.639177\n",
       "std       0.255075\n",
       "min       0.000000\n",
       "25%       0.531548\n",
       "50%       0.688095\n",
       "75%       0.779167\n",
       "max       1.000000\n",
       "Name: ad_Close, dtype: float64"
      ]
     },
     "execution_count": 12,
     "metadata": {},
     "output_type": "execute_result"
    }
   ],
   "source": [
    "val_df.ad_Close.describe()"
   ]
  },
  {
   "cell_type": "code",
   "execution_count": 13,
   "metadata": {},
   "outputs": [],
   "source": [
    "#sns.histplot(val_df.ad_Close, bins=10)"
   ]
  },
  {
   "cell_type": "code",
   "execution_count": 14,
   "metadata": {},
   "outputs": [
    {
     "data": {
      "text/plain": [
       "0.6391774891774893"
      ]
     },
     "execution_count": 14,
     "metadata": {},
     "output_type": "execute_result"
    }
   ],
   "source": [
    "val_df.ad_Close.mean()"
   ]
  },
  {
   "cell_type": "code",
   "execution_count": 15,
   "metadata": {},
   "outputs": [
    {
     "data": {
      "text/html": [
       "<div>\n",
       "<style scoped>\n",
       "    .dataframe tbody tr th:only-of-type {\n",
       "        vertical-align: middle;\n",
       "    }\n",
       "\n",
       "    .dataframe tbody tr th {\n",
       "        vertical-align: top;\n",
       "    }\n",
       "\n",
       "    .dataframe thead th {\n",
       "        text-align: right;\n",
       "    }\n",
       "</style>\n",
       "<table border=\"1\" class=\"dataframe\">\n",
       "  <thead>\n",
       "    <tr style=\"text-align: right;\">\n",
       "      <th></th>\n",
       "      <th>count</th>\n",
       "      <th>mean</th>\n",
       "      <th>std</th>\n",
       "      <th>min</th>\n",
       "      <th>25%</th>\n",
       "      <th>50%</th>\n",
       "      <th>75%</th>\n",
       "      <th>max</th>\n",
       "    </tr>\n",
       "  </thead>\n",
       "  <tbody>\n",
       "    <tr>\n",
       "      <th>Month</th>\n",
       "      <td>22.0</td>\n",
       "      <td>0.045455</td>\n",
       "      <td>0.213201</td>\n",
       "      <td>0.0</td>\n",
       "      <td>0.000000</td>\n",
       "      <td>0.000000</td>\n",
       "      <td>0.000000</td>\n",
       "      <td>1.0</td>\n",
       "    </tr>\n",
       "    <tr>\n",
       "      <th>ad_High_lag1</th>\n",
       "      <td>22.0</td>\n",
       "      <td>0.565073</td>\n",
       "      <td>0.235605</td>\n",
       "      <td>0.0</td>\n",
       "      <td>0.521226</td>\n",
       "      <td>0.593160</td>\n",
       "      <td>0.668042</td>\n",
       "      <td>1.0</td>\n",
       "    </tr>\n",
       "    <tr>\n",
       "      <th>ad_Open_lag1</th>\n",
       "      <td>22.0</td>\n",
       "      <td>0.535439</td>\n",
       "      <td>0.235689</td>\n",
       "      <td>0.0</td>\n",
       "      <td>0.396186</td>\n",
       "      <td>0.576271</td>\n",
       "      <td>0.683263</td>\n",
       "      <td>1.0</td>\n",
       "    </tr>\n",
       "    <tr>\n",
       "      <th>error_ad_High</th>\n",
       "      <td>22.0</td>\n",
       "      <td>0.592587</td>\n",
       "      <td>0.242696</td>\n",
       "      <td>0.0</td>\n",
       "      <td>0.485026</td>\n",
       "      <td>0.617833</td>\n",
       "      <td>0.753817</td>\n",
       "      <td>1.0</td>\n",
       "    </tr>\n",
       "    <tr>\n",
       "      <th>error_ad_Close</th>\n",
       "      <td>22.0</td>\n",
       "      <td>0.627733</td>\n",
       "      <td>0.247229</td>\n",
       "      <td>0.0</td>\n",
       "      <td>0.530651</td>\n",
       "      <td>0.658764</td>\n",
       "      <td>0.745712</td>\n",
       "      <td>1.0</td>\n",
       "    </tr>\n",
       "    <tr>\n",
       "      <th>logprice_ad_High</th>\n",
       "      <td>22.0</td>\n",
       "      <td>0.642765</td>\n",
       "      <td>0.253299</td>\n",
       "      <td>0.0</td>\n",
       "      <td>0.605412</td>\n",
       "      <td>0.686303</td>\n",
       "      <td>0.769862</td>\n",
       "      <td>1.0</td>\n",
       "    </tr>\n",
       "    <tr>\n",
       "      <th>ad_High</th>\n",
       "      <td>22.0</td>\n",
       "      <td>0.634775</td>\n",
       "      <td>0.253702</td>\n",
       "      <td>0.0</td>\n",
       "      <td>0.594086</td>\n",
       "      <td>0.676075</td>\n",
       "      <td>0.761425</td>\n",
       "      <td>1.0</td>\n",
       "    </tr>\n",
       "    <tr>\n",
       "      <th>detrend_ad_High</th>\n",
       "      <td>22.0</td>\n",
       "      <td>0.634775</td>\n",
       "      <td>0.253702</td>\n",
       "      <td>0.0</td>\n",
       "      <td>0.594086</td>\n",
       "      <td>0.676075</td>\n",
       "      <td>0.761425</td>\n",
       "      <td>1.0</td>\n",
       "    </tr>\n",
       "    <tr>\n",
       "      <th>ad_Volume</th>\n",
       "      <td>22.0</td>\n",
       "      <td>0.292597</td>\n",
       "      <td>0.253905</td>\n",
       "      <td>0.0</td>\n",
       "      <td>0.104625</td>\n",
       "      <td>0.225019</td>\n",
       "      <td>0.420702</td>\n",
       "      <td>1.0</td>\n",
       "    </tr>\n",
       "    <tr>\n",
       "      <th>error_ad_Open</th>\n",
       "      <td>22.0</td>\n",
       "      <td>0.595259</td>\n",
       "      <td>0.254375</td>\n",
       "      <td>0.0</td>\n",
       "      <td>0.431097</td>\n",
       "      <td>0.620798</td>\n",
       "      <td>0.743097</td>\n",
       "      <td>1.0</td>\n",
       "    </tr>\n",
       "    <tr>\n",
       "      <th>logprice_ad_Close</th>\n",
       "      <td>22.0</td>\n",
       "      <td>0.648201</td>\n",
       "      <td>0.254460</td>\n",
       "      <td>0.0</td>\n",
       "      <td>0.544871</td>\n",
       "      <td>0.699531</td>\n",
       "      <td>0.788277</td>\n",
       "      <td>1.0</td>\n",
       "    </tr>\n",
       "    <tr>\n",
       "      <th>detrend_ad_Close</th>\n",
       "      <td>22.0</td>\n",
       "      <td>0.639177</td>\n",
       "      <td>0.255075</td>\n",
       "      <td>0.0</td>\n",
       "      <td>0.531548</td>\n",
       "      <td>0.688095</td>\n",
       "      <td>0.779167</td>\n",
       "      <td>1.0</td>\n",
       "    </tr>\n",
       "    <tr>\n",
       "      <th>ad_Close</th>\n",
       "      <td>22.0</td>\n",
       "      <td>0.639177</td>\n",
       "      <td>0.255075</td>\n",
       "      <td>0.0</td>\n",
       "      <td>0.531548</td>\n",
       "      <td>0.688095</td>\n",
       "      <td>0.779167</td>\n",
       "      <td>1.0</td>\n",
       "    </tr>\n",
       "    <tr>\n",
       "      <th>error_ad_Low</th>\n",
       "      <td>22.0</td>\n",
       "      <td>0.608724</td>\n",
       "      <td>0.255505</td>\n",
       "      <td>0.0</td>\n",
       "      <td>0.525540</td>\n",
       "      <td>0.655668</td>\n",
       "      <td>0.743730</td>\n",
       "      <td>1.0</td>\n",
       "    </tr>\n",
       "    <tr>\n",
       "      <th>ad_Close_lag1</th>\n",
       "      <td>22.0</td>\n",
       "      <td>0.659773</td>\n",
       "      <td>0.256032</td>\n",
       "      <td>0.0</td>\n",
       "      <td>0.558125</td>\n",
       "      <td>0.722500</td>\n",
       "      <td>0.809375</td>\n",
       "      <td>1.0</td>\n",
       "    </tr>\n",
       "    <tr>\n",
       "      <th>ad_Target</th>\n",
       "      <td>22.0</td>\n",
       "      <td>0.542215</td>\n",
       "      <td>0.256845</td>\n",
       "      <td>0.0</td>\n",
       "      <td>0.431427</td>\n",
       "      <td>0.550055</td>\n",
       "      <td>0.720237</td>\n",
       "      <td>1.0</td>\n",
       "    </tr>\n",
       "    <tr>\n",
       "      <th>season_ad_Open</th>\n",
       "      <td>22.0</td>\n",
       "      <td>0.603652</td>\n",
       "      <td>0.262454</td>\n",
       "      <td>0.0</td>\n",
       "      <td>0.438947</td>\n",
       "      <td>0.608728</td>\n",
       "      <td>0.800434</td>\n",
       "      <td>1.0</td>\n",
       "    </tr>\n",
       "    <tr>\n",
       "      <th>logprice_ad_Open</th>\n",
       "      <td>22.0</td>\n",
       "      <td>0.647018</td>\n",
       "      <td>0.264066</td>\n",
       "      <td>0.0</td>\n",
       "      <td>0.495453</td>\n",
       "      <td>0.713078</td>\n",
       "      <td>0.839999</td>\n",
       "      <td>1.0</td>\n",
       "    </tr>\n",
       "    <tr>\n",
       "      <th>RSI</th>\n",
       "      <td>22.0</td>\n",
       "      <td>0.643179</td>\n",
       "      <td>0.264775</td>\n",
       "      <td>0.0</td>\n",
       "      <td>0.491914</td>\n",
       "      <td>0.721260</td>\n",
       "      <td>0.781760</td>\n",
       "      <td>1.0</td>\n",
       "    </tr>\n",
       "    <tr>\n",
       "      <th>ad_Open</th>\n",
       "      <td>22.0</td>\n",
       "      <td>0.638948</td>\n",
       "      <td>0.265083</td>\n",
       "      <td>0.0</td>\n",
       "      <td>0.483204</td>\n",
       "      <td>0.702842</td>\n",
       "      <td>0.833333</td>\n",
       "      <td>1.0</td>\n",
       "    </tr>\n",
       "    <tr>\n",
       "      <th>detrend_ad_Open</th>\n",
       "      <td>22.0</td>\n",
       "      <td>0.638948</td>\n",
       "      <td>0.265083</td>\n",
       "      <td>0.0</td>\n",
       "      <td>0.483204</td>\n",
       "      <td>0.702842</td>\n",
       "      <td>0.833333</td>\n",
       "      <td>1.0</td>\n",
       "    </tr>\n",
       "    <tr>\n",
       "      <th>season_ad_High</th>\n",
       "      <td>22.0</td>\n",
       "      <td>0.633528</td>\n",
       "      <td>0.265221</td>\n",
       "      <td>0.0</td>\n",
       "      <td>0.507835</td>\n",
       "      <td>0.687373</td>\n",
       "      <td>0.819499</td>\n",
       "      <td>1.0</td>\n",
       "    </tr>\n",
       "    <tr>\n",
       "      <th>macd</th>\n",
       "      <td>22.0</td>\n",
       "      <td>0.522256</td>\n",
       "      <td>0.265521</td>\n",
       "      <td>0.0</td>\n",
       "      <td>0.345361</td>\n",
       "      <td>0.587055</td>\n",
       "      <td>0.716947</td>\n",
       "      <td>1.0</td>\n",
       "    </tr>\n",
       "    <tr>\n",
       "      <th>ad_Low_lag1</th>\n",
       "      <td>22.0</td>\n",
       "      <td>0.649148</td>\n",
       "      <td>0.266098</td>\n",
       "      <td>0.0</td>\n",
       "      <td>0.530048</td>\n",
       "      <td>0.729567</td>\n",
       "      <td>0.795673</td>\n",
       "      <td>1.0</td>\n",
       "    </tr>\n",
       "    <tr>\n",
       "      <th>week</th>\n",
       "      <td>22.0</td>\n",
       "      <td>0.500000</td>\n",
       "      <td>0.267261</td>\n",
       "      <td>0.0</td>\n",
       "      <td>0.250000</td>\n",
       "      <td>0.500000</td>\n",
       "      <td>0.750000</td>\n",
       "      <td>1.0</td>\n",
       "    </tr>\n",
       "    <tr>\n",
       "      <th>logprice_ad_Low</th>\n",
       "      <td>22.0</td>\n",
       "      <td>0.662326</td>\n",
       "      <td>0.270511</td>\n",
       "      <td>0.0</td>\n",
       "      <td>0.543504</td>\n",
       "      <td>0.740053</td>\n",
       "      <td>0.804291</td>\n",
       "      <td>1.0</td>\n",
       "    </tr>\n",
       "    <tr>\n",
       "      <th>detrend_ad_Low</th>\n",
       "      <td>22.0</td>\n",
       "      <td>0.653955</td>\n",
       "      <td>0.271278</td>\n",
       "      <td>0.0</td>\n",
       "      <td>0.530048</td>\n",
       "      <td>0.729567</td>\n",
       "      <td>0.795673</td>\n",
       "      <td>1.0</td>\n",
       "    </tr>\n",
       "    <tr>\n",
       "      <th>ad_Low</th>\n",
       "      <td>22.0</td>\n",
       "      <td>0.653955</td>\n",
       "      <td>0.271278</td>\n",
       "      <td>0.0</td>\n",
       "      <td>0.530048</td>\n",
       "      <td>0.729567</td>\n",
       "      <td>0.795673</td>\n",
       "      <td>1.0</td>\n",
       "    </tr>\n",
       "    <tr>\n",
       "      <th>Return</th>\n",
       "      <td>22.0</td>\n",
       "      <td>0.514173</td>\n",
       "      <td>0.271649</td>\n",
       "      <td>0.0</td>\n",
       "      <td>0.267810</td>\n",
       "      <td>0.525083</td>\n",
       "      <td>0.720237</td>\n",
       "      <td>1.0</td>\n",
       "    </tr>\n",
       "    <tr>\n",
       "      <th>season_ad_Close</th>\n",
       "      <td>22.0</td>\n",
       "      <td>0.617796</td>\n",
       "      <td>0.276777</td>\n",
       "      <td>0.0</td>\n",
       "      <td>0.393876</td>\n",
       "      <td>0.606422</td>\n",
       "      <td>0.865694</td>\n",
       "      <td>1.0</td>\n",
       "    </tr>\n",
       "    <tr>\n",
       "      <th>ad_Volume_lag1</th>\n",
       "      <td>22.0</td>\n",
       "      <td>0.310636</td>\n",
       "      <td>0.282491</td>\n",
       "      <td>0.0</td>\n",
       "      <td>0.104625</td>\n",
       "      <td>0.225019</td>\n",
       "      <td>0.420702</td>\n",
       "      <td>1.0</td>\n",
       "    </tr>\n",
       "    <tr>\n",
       "      <th>macd_s</th>\n",
       "      <td>22.0</td>\n",
       "      <td>0.343222</td>\n",
       "      <td>0.282886</td>\n",
       "      <td>0.0</td>\n",
       "      <td>0.122167</td>\n",
       "      <td>0.358622</td>\n",
       "      <td>0.384241</td>\n",
       "      <td>1.0</td>\n",
       "    </tr>\n",
       "    <tr>\n",
       "      <th>trend_ad_Open</th>\n",
       "      <td>22.0</td>\n",
       "      <td>0.272905</td>\n",
       "      <td>0.283283</td>\n",
       "      <td>0.0</td>\n",
       "      <td>0.055437</td>\n",
       "      <td>0.215995</td>\n",
       "      <td>0.288841</td>\n",
       "      <td>1.0</td>\n",
       "    </tr>\n",
       "    <tr>\n",
       "      <th>Day_sin</th>\n",
       "      <td>22.0</td>\n",
       "      <td>0.402090</td>\n",
       "      <td>0.287296</td>\n",
       "      <td>0.0</td>\n",
       "      <td>0.177323</td>\n",
       "      <td>0.353200</td>\n",
       "      <td>0.566139</td>\n",
       "      <td>1.0</td>\n",
       "    </tr>\n",
       "    <tr>\n",
       "      <th>macd_h</th>\n",
       "      <td>22.0</td>\n",
       "      <td>0.622510</td>\n",
       "      <td>0.288169</td>\n",
       "      <td>0.0</td>\n",
       "      <td>0.512077</td>\n",
       "      <td>0.699827</td>\n",
       "      <td>0.803222</td>\n",
       "      <td>1.0</td>\n",
       "    </tr>\n",
       "    <tr>\n",
       "      <th>trend_ad_High</th>\n",
       "      <td>22.0</td>\n",
       "      <td>0.276518</td>\n",
       "      <td>0.289388</td>\n",
       "      <td>0.0</td>\n",
       "      <td>0.055288</td>\n",
       "      <td>0.214456</td>\n",
       "      <td>0.302077</td>\n",
       "      <td>1.0</td>\n",
       "    </tr>\n",
       "    <tr>\n",
       "      <th>season_ad_Low</th>\n",
       "      <td>22.0</td>\n",
       "      <td>0.528075</td>\n",
       "      <td>0.290095</td>\n",
       "      <td>0.0</td>\n",
       "      <td>0.375305</td>\n",
       "      <td>0.580743</td>\n",
       "      <td>0.691645</td>\n",
       "      <td>1.0</td>\n",
       "    </tr>\n",
       "    <tr>\n",
       "      <th>trend_ad_Low</th>\n",
       "      <td>22.0</td>\n",
       "      <td>0.242594</td>\n",
       "      <td>0.294079</td>\n",
       "      <td>0.0</td>\n",
       "      <td>0.041094</td>\n",
       "      <td>0.136251</td>\n",
       "      <td>0.246513</td>\n",
       "      <td>1.0</td>\n",
       "    </tr>\n",
       "    <tr>\n",
       "      <th>Year_cos</th>\n",
       "      <td>22.0</td>\n",
       "      <td>0.512006</td>\n",
       "      <td>0.295538</td>\n",
       "      <td>0.0</td>\n",
       "      <td>0.261134</td>\n",
       "      <td>0.517777</td>\n",
       "      <td>0.765493</td>\n",
       "      <td>1.0</td>\n",
       "    </tr>\n",
       "    <tr>\n",
       "      <th>trend_ad_Close</th>\n",
       "      <td>22.0</td>\n",
       "      <td>0.253521</td>\n",
       "      <td>0.296131</td>\n",
       "      <td>0.0</td>\n",
       "      <td>0.048088</td>\n",
       "      <td>0.144007</td>\n",
       "      <td>0.275255</td>\n",
       "      <td>1.0</td>\n",
       "    </tr>\n",
       "    <tr>\n",
       "      <th>Year_sin</th>\n",
       "      <td>22.0</td>\n",
       "      <td>0.332372</td>\n",
       "      <td>0.305398</td>\n",
       "      <td>0.0</td>\n",
       "      <td>0.061927</td>\n",
       "      <td>0.251787</td>\n",
       "      <td>0.566286</td>\n",
       "      <td>1.0</td>\n",
       "    </tr>\n",
       "    <tr>\n",
       "      <th>ad_High_sma10</th>\n",
       "      <td>22.0</td>\n",
       "      <td>0.560072</td>\n",
       "      <td>0.310771</td>\n",
       "      <td>0.0</td>\n",
       "      <td>0.290382</td>\n",
       "      <td>0.719163</td>\n",
       "      <td>0.764134</td>\n",
       "      <td>1.0</td>\n",
       "    </tr>\n",
       "    <tr>\n",
       "      <th>ad_Open_sma10</th>\n",
       "      <td>22.0</td>\n",
       "      <td>0.565708</td>\n",
       "      <td>0.318488</td>\n",
       "      <td>0.0</td>\n",
       "      <td>0.285547</td>\n",
       "      <td>0.735395</td>\n",
       "      <td>0.780862</td>\n",
       "      <td>1.0</td>\n",
       "    </tr>\n",
       "    <tr>\n",
       "      <th>Day</th>\n",
       "      <td>22.0</td>\n",
       "      <td>0.503247</td>\n",
       "      <td>0.321506</td>\n",
       "      <td>0.0</td>\n",
       "      <td>0.223214</td>\n",
       "      <td>0.482143</td>\n",
       "      <td>0.741071</td>\n",
       "      <td>1.0</td>\n",
       "    </tr>\n",
       "    <tr>\n",
       "      <th>ad_Close_sma10</th>\n",
       "      <td>22.0</td>\n",
       "      <td>0.546638</td>\n",
       "      <td>0.324345</td>\n",
       "      <td>0.0</td>\n",
       "      <td>0.269618</td>\n",
       "      <td>0.672319</td>\n",
       "      <td>0.797943</td>\n",
       "      <td>1.0</td>\n",
       "    </tr>\n",
       "    <tr>\n",
       "      <th>ad_Low_sma10</th>\n",
       "      <td>22.0</td>\n",
       "      <td>0.546181</td>\n",
       "      <td>0.329219</td>\n",
       "      <td>0.0</td>\n",
       "      <td>0.253049</td>\n",
       "      <td>0.671220</td>\n",
       "      <td>0.802744</td>\n",
       "      <td>1.0</td>\n",
       "    </tr>\n",
       "    <tr>\n",
       "      <th>Month_cos</th>\n",
       "      <td>22.0</td>\n",
       "      <td>0.496161</td>\n",
       "      <td>0.361860</td>\n",
       "      <td>0.0</td>\n",
       "      <td>0.111412</td>\n",
       "      <td>0.510926</td>\n",
       "      <td>0.803386</td>\n",
       "      <td>1.0</td>\n",
       "    </tr>\n",
       "    <tr>\n",
       "      <th>Month_sin</th>\n",
       "      <td>22.0</td>\n",
       "      <td>0.501805</td>\n",
       "      <td>0.362831</td>\n",
       "      <td>0.0</td>\n",
       "      <td>0.148574</td>\n",
       "      <td>0.488522</td>\n",
       "      <td>0.785050</td>\n",
       "      <td>1.0</td>\n",
       "    </tr>\n",
       "    <tr>\n",
       "      <th>ad_Volume_sma10</th>\n",
       "      <td>22.0</td>\n",
       "      <td>0.425701</td>\n",
       "      <td>0.377350</td>\n",
       "      <td>0.0</td>\n",
       "      <td>0.062303</td>\n",
       "      <td>0.351246</td>\n",
       "      <td>0.811754</td>\n",
       "      <td>1.0</td>\n",
       "    </tr>\n",
       "    <tr>\n",
       "      <th>Volatility_week</th>\n",
       "      <td>22.0</td>\n",
       "      <td>0.366844</td>\n",
       "      <td>0.382258</td>\n",
       "      <td>0.0</td>\n",
       "      <td>0.105069</td>\n",
       "      <td>0.230050</td>\n",
       "      <td>0.587504</td>\n",
       "      <td>1.0</td>\n",
       "    </tr>\n",
       "  </tbody>\n",
       "</table>\n",
       "</div>"
      ],
      "text/plain": [
       "                   count      mean       std  min       25%       50%  \\\n",
       "Month               22.0  0.045455  0.213201  0.0  0.000000  0.000000   \n",
       "ad_High_lag1        22.0  0.565073  0.235605  0.0  0.521226  0.593160   \n",
       "ad_Open_lag1        22.0  0.535439  0.235689  0.0  0.396186  0.576271   \n",
       "error_ad_High       22.0  0.592587  0.242696  0.0  0.485026  0.617833   \n",
       "error_ad_Close      22.0  0.627733  0.247229  0.0  0.530651  0.658764   \n",
       "logprice_ad_High    22.0  0.642765  0.253299  0.0  0.605412  0.686303   \n",
       "ad_High             22.0  0.634775  0.253702  0.0  0.594086  0.676075   \n",
       "detrend_ad_High     22.0  0.634775  0.253702  0.0  0.594086  0.676075   \n",
       "ad_Volume           22.0  0.292597  0.253905  0.0  0.104625  0.225019   \n",
       "error_ad_Open       22.0  0.595259  0.254375  0.0  0.431097  0.620798   \n",
       "logprice_ad_Close   22.0  0.648201  0.254460  0.0  0.544871  0.699531   \n",
       "detrend_ad_Close    22.0  0.639177  0.255075  0.0  0.531548  0.688095   \n",
       "ad_Close            22.0  0.639177  0.255075  0.0  0.531548  0.688095   \n",
       "error_ad_Low        22.0  0.608724  0.255505  0.0  0.525540  0.655668   \n",
       "ad_Close_lag1       22.0  0.659773  0.256032  0.0  0.558125  0.722500   \n",
       "ad_Target           22.0  0.542215  0.256845  0.0  0.431427  0.550055   \n",
       "season_ad_Open      22.0  0.603652  0.262454  0.0  0.438947  0.608728   \n",
       "logprice_ad_Open    22.0  0.647018  0.264066  0.0  0.495453  0.713078   \n",
       "RSI                 22.0  0.643179  0.264775  0.0  0.491914  0.721260   \n",
       "ad_Open             22.0  0.638948  0.265083  0.0  0.483204  0.702842   \n",
       "detrend_ad_Open     22.0  0.638948  0.265083  0.0  0.483204  0.702842   \n",
       "season_ad_High      22.0  0.633528  0.265221  0.0  0.507835  0.687373   \n",
       "macd                22.0  0.522256  0.265521  0.0  0.345361  0.587055   \n",
       "ad_Low_lag1         22.0  0.649148  0.266098  0.0  0.530048  0.729567   \n",
       "week                22.0  0.500000  0.267261  0.0  0.250000  0.500000   \n",
       "logprice_ad_Low     22.0  0.662326  0.270511  0.0  0.543504  0.740053   \n",
       "detrend_ad_Low      22.0  0.653955  0.271278  0.0  0.530048  0.729567   \n",
       "ad_Low              22.0  0.653955  0.271278  0.0  0.530048  0.729567   \n",
       "Return              22.0  0.514173  0.271649  0.0  0.267810  0.525083   \n",
       "season_ad_Close     22.0  0.617796  0.276777  0.0  0.393876  0.606422   \n",
       "ad_Volume_lag1      22.0  0.310636  0.282491  0.0  0.104625  0.225019   \n",
       "macd_s              22.0  0.343222  0.282886  0.0  0.122167  0.358622   \n",
       "trend_ad_Open       22.0  0.272905  0.283283  0.0  0.055437  0.215995   \n",
       "Day_sin             22.0  0.402090  0.287296  0.0  0.177323  0.353200   \n",
       "macd_h              22.0  0.622510  0.288169  0.0  0.512077  0.699827   \n",
       "trend_ad_High       22.0  0.276518  0.289388  0.0  0.055288  0.214456   \n",
       "season_ad_Low       22.0  0.528075  0.290095  0.0  0.375305  0.580743   \n",
       "trend_ad_Low        22.0  0.242594  0.294079  0.0  0.041094  0.136251   \n",
       "Year_cos            22.0  0.512006  0.295538  0.0  0.261134  0.517777   \n",
       "trend_ad_Close      22.0  0.253521  0.296131  0.0  0.048088  0.144007   \n",
       "Year_sin            22.0  0.332372  0.305398  0.0  0.061927  0.251787   \n",
       "ad_High_sma10       22.0  0.560072  0.310771  0.0  0.290382  0.719163   \n",
       "ad_Open_sma10       22.0  0.565708  0.318488  0.0  0.285547  0.735395   \n",
       "Day                 22.0  0.503247  0.321506  0.0  0.223214  0.482143   \n",
       "ad_Close_sma10      22.0  0.546638  0.324345  0.0  0.269618  0.672319   \n",
       "ad_Low_sma10        22.0  0.546181  0.329219  0.0  0.253049  0.671220   \n",
       "Month_cos           22.0  0.496161  0.361860  0.0  0.111412  0.510926   \n",
       "Month_sin           22.0  0.501805  0.362831  0.0  0.148574  0.488522   \n",
       "ad_Volume_sma10     22.0  0.425701  0.377350  0.0  0.062303  0.351246   \n",
       "Volatility_week     22.0  0.366844  0.382258  0.0  0.105069  0.230050   \n",
       "\n",
       "                        75%  max  \n",
       "Month              0.000000  1.0  \n",
       "ad_High_lag1       0.668042  1.0  \n",
       "ad_Open_lag1       0.683263  1.0  \n",
       "error_ad_High      0.753817  1.0  \n",
       "error_ad_Close     0.745712  1.0  \n",
       "logprice_ad_High   0.769862  1.0  \n",
       "ad_High            0.761425  1.0  \n",
       "detrend_ad_High    0.761425  1.0  \n",
       "ad_Volume          0.420702  1.0  \n",
       "error_ad_Open      0.743097  1.0  \n",
       "logprice_ad_Close  0.788277  1.0  \n",
       "detrend_ad_Close   0.779167  1.0  \n",
       "ad_Close           0.779167  1.0  \n",
       "error_ad_Low       0.743730  1.0  \n",
       "ad_Close_lag1      0.809375  1.0  \n",
       "ad_Target          0.720237  1.0  \n",
       "season_ad_Open     0.800434  1.0  \n",
       "logprice_ad_Open   0.839999  1.0  \n",
       "RSI                0.781760  1.0  \n",
       "ad_Open            0.833333  1.0  \n",
       "detrend_ad_Open    0.833333  1.0  \n",
       "season_ad_High     0.819499  1.0  \n",
       "macd               0.716947  1.0  \n",
       "ad_Low_lag1        0.795673  1.0  \n",
       "week               0.750000  1.0  \n",
       "logprice_ad_Low    0.804291  1.0  \n",
       "detrend_ad_Low     0.795673  1.0  \n",
       "ad_Low             0.795673  1.0  \n",
       "Return             0.720237  1.0  \n",
       "season_ad_Close    0.865694  1.0  \n",
       "ad_Volume_lag1     0.420702  1.0  \n",
       "macd_s             0.384241  1.0  \n",
       "trend_ad_Open      0.288841  1.0  \n",
       "Day_sin            0.566139  1.0  \n",
       "macd_h             0.803222  1.0  \n",
       "trend_ad_High      0.302077  1.0  \n",
       "season_ad_Low      0.691645  1.0  \n",
       "trend_ad_Low       0.246513  1.0  \n",
       "Year_cos           0.765493  1.0  \n",
       "trend_ad_Close     0.275255  1.0  \n",
       "Year_sin           0.566286  1.0  \n",
       "ad_High_sma10      0.764134  1.0  \n",
       "ad_Open_sma10      0.780862  1.0  \n",
       "Day                0.741071  1.0  \n",
       "ad_Close_sma10     0.797943  1.0  \n",
       "ad_Low_sma10       0.802744  1.0  \n",
       "Month_cos          0.803386  1.0  \n",
       "Month_sin          0.785050  1.0  \n",
       "ad_Volume_sma10    0.811754  1.0  \n",
       "Volatility_week    0.587504  1.0  "
      ]
     },
     "execution_count": 15,
     "metadata": {},
     "output_type": "execute_result"
    }
   ],
   "source": [
    "val_df.describe().T.sort_values('std', ascending=True)"
   ]
  },
  {
   "cell_type": "code",
   "execution_count": 16,
   "metadata": {},
   "outputs": [
    {
     "data": {
      "text/html": [
       "<div>\n",
       "<style scoped>\n",
       "    .dataframe tbody tr th:only-of-type {\n",
       "        vertical-align: middle;\n",
       "    }\n",
       "\n",
       "    .dataframe tbody tr th {\n",
       "        vertical-align: top;\n",
       "    }\n",
       "\n",
       "    .dataframe thead th {\n",
       "        text-align: right;\n",
       "    }\n",
       "</style>\n",
       "<table border=\"1\" class=\"dataframe\">\n",
       "  <thead>\n",
       "    <tr style=\"text-align: right;\">\n",
       "      <th></th>\n",
       "      <th>N_missing</th>\n",
       "      <th>Percentage</th>\n",
       "    </tr>\n",
       "  </thead>\n",
       "  <tbody>\n",
       "  </tbody>\n",
       "</table>\n",
       "</div>"
      ],
      "text/plain": [
       "Empty DataFrame\n",
       "Columns: [N_missing, Percentage]\n",
       "Index: []"
      ]
     },
     "metadata": {},
     "output_type": "display_data"
    },
    {
     "data": {
      "text/html": [
       "<div>\n",
       "<style scoped>\n",
       "    .dataframe tbody tr th:only-of-type {\n",
       "        vertical-align: middle;\n",
       "    }\n",
       "\n",
       "    .dataframe tbody tr th {\n",
       "        vertical-align: top;\n",
       "    }\n",
       "\n",
       "    .dataframe thead th {\n",
       "        text-align: right;\n",
       "    }\n",
       "</style>\n",
       "<table border=\"1\" class=\"dataframe\">\n",
       "  <thead>\n",
       "    <tr style=\"text-align: right;\">\n",
       "      <th></th>\n",
       "      <th>N_missing</th>\n",
       "      <th>Percentage</th>\n",
       "    </tr>\n",
       "  </thead>\n",
       "  <tbody>\n",
       "  </tbody>\n",
       "</table>\n",
       "</div>"
      ],
      "text/plain": [
       "Empty DataFrame\n",
       "Columns: [N_missing, Percentage]\n",
       "Index: []"
      ]
     },
     "metadata": {},
     "output_type": "display_data"
    },
    {
     "data": {
      "text/html": [
       "<div>\n",
       "<style scoped>\n",
       "    .dataframe tbody tr th:only-of-type {\n",
       "        vertical-align: middle;\n",
       "    }\n",
       "\n",
       "    .dataframe tbody tr th {\n",
       "        vertical-align: top;\n",
       "    }\n",
       "\n",
       "    .dataframe thead th {\n",
       "        text-align: right;\n",
       "    }\n",
       "</style>\n",
       "<table border=\"1\" class=\"dataframe\">\n",
       "  <thead>\n",
       "    <tr style=\"text-align: right;\">\n",
       "      <th></th>\n",
       "      <th>N_missing</th>\n",
       "      <th>Percentage</th>\n",
       "    </tr>\n",
       "  </thead>\n",
       "  <tbody>\n",
       "  </tbody>\n",
       "</table>\n",
       "</div>"
      ],
      "text/plain": [
       "Empty DataFrame\n",
       "Columns: [N_missing, Percentage]\n",
       "Index: []"
      ]
     },
     "metadata": {},
     "output_type": "display_data"
    }
   ],
   "source": [
    "missingValues(train_df)\n",
    "missingValues(val_df)\n",
    "missingValues(test_df)"
   ]
  },
  {
   "cell_type": "markdown",
   "metadata": {},
   "source": [
    "## - Window"
   ]
  },
  {
   "cell_type": "code",
   "execution_count": 17,
   "metadata": {},
   "outputs": [],
   "source": [
    "class WindowGenerator():\n",
    "  def __init__(self, input_width, label_width, shift,\n",
    "               train_df=train_df, val_df=val_df, test_df=test_df,\n",
    "               label_columns=None):\n",
    "    # Store the raw data.\n",
    "    self.train_df = train_df\n",
    "    self.val_df = val_df\n",
    "    self.test_df = test_df\n",
    "\n",
    "    # Work out the label column indices.\n",
    "    self.label_columns = label_columns\n",
    "    if label_columns is not None:\n",
    "      self.label_columns_indices = {name: i for i, name in\n",
    "                                    enumerate(label_columns)}\n",
    "    self.column_indices = {name: i for i, name in\n",
    "                           enumerate(train_df.columns)}\n",
    "\n",
    "    # Work out the window parameters.\n",
    "    self.input_width = input_width\n",
    "    self.label_width = label_width\n",
    "    self.shift = shift\n",
    "\n",
    "    self.total_window_size = input_width + shift\n",
    "\n",
    "    #self.example = \n",
    "\n",
    "    self.input_slice = slice(0, input_width)\n",
    "    self.input_indices = np.arange(self.total_window_size)[self.input_slice]\n",
    "\n",
    "    self.label_start = self.total_window_size - self.label_width\n",
    "    self.labels_slice = slice(self.label_start, None)\n",
    "    self.label_indices = np.arange(self.total_window_size)[self.labels_slice]\n",
    "\n",
    "  def __repr__(self):\n",
    "    return '\\n'.join([\n",
    "        f'Total window size: {self.total_window_size}',\n",
    "        f'Input indices: {self.input_indices}',\n",
    "        f'Label indices: {self.label_indices}',\n",
    "        f'Label column name(s): {self.label_columns}'])"
   ]
  },
  {
   "cell_type": "code",
   "execution_count": 18,
   "metadata": {},
   "outputs": [],
   "source": [
    "#w1 = WindowGenerator(input_width=22, label_width=1, shift=1,\n",
    "                     #label_columns=['ad_Close'])\n",
    "#w1"
   ]
  },
  {
   "cell_type": "code",
   "execution_count": 19,
   "metadata": {},
   "outputs": [],
   "source": [
    "def split_window(self, features):\n",
    "  inputs = features[:, self.input_slice, :]\n",
    "  labels = features[:, self.labels_slice, :]\n",
    "  if self.label_columns is not None:\n",
    "    labels = tf.stack(\n",
    "        [labels[:, :, self.column_indices[name]] for name in self.label_columns],\n",
    "        axis=-1)\n",
    "\n",
    "  # Slicing doesn't preserve static shape information, so set the shapes\n",
    "  # manually. This way the `tf.data.Datasets` are easier to inspect.\n",
    "  inputs.set_shape([None, self.input_width, None])\n",
    "  labels.set_shape([None, self.label_width, None])\n",
    "\n",
    "  return inputs, labels\n",
    "\n",
    "WindowGenerator.split_window = split_window"
   ]
  },
  {
   "cell_type": "code",
   "execution_count": 20,
   "metadata": {},
   "outputs": [
    {
     "data": {
      "text/plain": [
       "\"example_window = tf.stack([np.array(train_data[:w1.total_window_size]),\\n                           np.array(train_data[100:100+w1.total_window_size]),\\n                           np.array(train_data[200:200+w1.total_window_size])])\\n\\nexample_inputs, example_labels = w1.split_window(example_window)\\n\\nprint('All shapes are: (batch, time, features)')\\nprint(f'Window shape: {example_window.shape}')\\nprint(f'Inputs shape: {example_inputs.shape}')\\nprint(f'Labels shape: {example_labels.shape}')\""
      ]
     },
     "execution_count": 20,
     "metadata": {},
     "output_type": "execute_result"
    }
   ],
   "source": [
    "\"\"\"example_window = tf.stack([np.array(train_data[:w1.total_window_size]),\n",
    "                           np.array(train_data[100:100+w1.total_window_size]),\n",
    "                           np.array(train_data[200:200+w1.total_window_size])])\n",
    "\n",
    "example_inputs, example_labels = w1.split_window(example_window)\n",
    "\n",
    "print('All shapes are: (batch, time, features)')\n",
    "print(f'Window shape: {example_window.shape}')\n",
    "print(f'Inputs shape: {example_inputs.shape}')\n",
    "print(f'Labels shape: {example_labels.shape}')\"\"\""
   ]
  },
  {
   "cell_type": "code",
   "execution_count": 21,
   "metadata": {},
   "outputs": [],
   "source": [
    "#w1.example = example_inputs, example_labels"
   ]
  },
  {
   "cell_type": "code",
   "execution_count": 22,
   "metadata": {},
   "outputs": [],
   "source": [
    "def plot(self, model=None, plot_col='ad_Close', max_subplots=3):\n",
    "  inputs, labels = self.example\n",
    "  plt.figure(figsize=(12, 8))\n",
    "  plot_col_index = self.column_indices[plot_col]\n",
    "  max_n = min(max_subplots, len(inputs))\n",
    "  for n in range(max_n):\n",
    "    plt.subplot(max_n, 1, n+1)\n",
    "    plt.ylabel(f'{plot_col} [normed]')\n",
    "    plt.plot(self.input_indices, inputs[n, :, plot_col_index],\n",
    "             label='Inputs', marker='.', zorder=-10)\n",
    "\n",
    "    if self.label_columns:\n",
    "      label_col_index = self.label_columns_indices.get(plot_col, None)\n",
    "    else:\n",
    "      label_col_index = plot_col_index\n",
    "\n",
    "    if label_col_index is None:\n",
    "      continue\n",
    "\n",
    "    plt.scatter(self.label_indices, labels[n, :, label_col_index],\n",
    "                edgecolors='k', label='Labels', c='#2ca02c', s=64)\n",
    "    if model is not None:\n",
    "      predictions = model(inputs)\n",
    "      plt.scatter(self.label_indices, predictions[n, :, label_col_index],\n",
    "                  marker='X', edgecolors='k', label='Predictions',\n",
    "                  c='#ff7f0e', s=64)\n",
    "\n",
    "    if n == 0:\n",
    "      plt.legend()\n",
    "\n",
    "  plt.xlabel('Time [h]')\n",
    "\n",
    "WindowGenerator.plot = plot"
   ]
  },
  {
   "cell_type": "code",
   "execution_count": 23,
   "metadata": {},
   "outputs": [],
   "source": [
    "#w1.plot()"
   ]
  },
  {
   "cell_type": "code",
   "execution_count": 24,
   "metadata": {},
   "outputs": [],
   "source": [
    "#w1.plot(plot_col='ad_Target')"
   ]
  },
  {
   "cell_type": "markdown",
   "metadata": {},
   "source": [
    "### create dataset"
   ]
  },
  {
   "cell_type": "code",
   "execution_count": 25,
   "metadata": {},
   "outputs": [],
   "source": [
    "def make_dataset(self, data):\n",
    "  data = np.array(data, dtype=np.float32)\n",
    "  ds = tf.keras.utils.timeseries_dataset_from_array(\n",
    "      data=data,\n",
    "      targets=None,\n",
    "      sequence_length=self.total_window_size,\n",
    "      sequence_stride=1,\n",
    "      shuffle=True,\n",
    "      batch_size=32,)\n",
    "\n",
    "  ds = ds.map(self.split_window)\n",
    "\n",
    "  return ds\n",
    "\n",
    "WindowGenerator.make_dataset = make_dataset"
   ]
  },
  {
   "cell_type": "markdown",
   "metadata": {},
   "source": [
    "### train , val , test"
   ]
  },
  {
   "cell_type": "code",
   "execution_count": 26,
   "metadata": {},
   "outputs": [],
   "source": [
    "@property\n",
    "def train(self):\n",
    "  return self.make_dataset(self.train_df)\n",
    "\n",
    "@property\n",
    "def val(self):\n",
    "  return self.make_dataset(self.val_df)\n",
    "\n",
    "@property\n",
    "def test(self):\n",
    "  return self.make_dataset(self.test_df)\n",
    "\n",
    "@property\n",
    "def example(self):\n",
    "  \"\"\"Get and cache an example batch of `inputs, labels` for plotting.\"\"\"\n",
    "  result = getattr(self, '_example', None)\n",
    "  if result is None:\n",
    "    # No example batch was found, so get one from the `.train` dataset\n",
    "    result = next(iter(self.train))\n",
    "    # And cache it for next time\n",
    "    self._example = result\n",
    "  return result\n",
    "\n",
    "WindowGenerator.train = train\n",
    "WindowGenerator.val = val\n",
    "WindowGenerator.test = test\n",
    "WindowGenerator.example = example"
   ]
  },
  {
   "cell_type": "code",
   "execution_count": 27,
   "metadata": {},
   "outputs": [],
   "source": [
    "# Each element is an (inputs, label) pair.\n",
    "#w1.train.element_spec"
   ]
  },
  {
   "cell_type": "code",
   "execution_count": 28,
   "metadata": {},
   "outputs": [
    {
     "data": {
      "text/plain": [
       "\"for example_inputs, example_labels in w1.train.take(1):\\n  print(f'Inputs shape (batch, time, features): {example_inputs.shape}')\\n  print(f'Labels shape (batch, time, features): {example_labels.shape}')\""
      ]
     },
     "execution_count": 28,
     "metadata": {},
     "output_type": "execute_result"
    }
   ],
   "source": [
    "\"\"\"for example_inputs, example_labels in w1.train.take(1):\n",
    "  print(f'Inputs shape (batch, time, features): {example_inputs.shape}')\n",
    "  print(f'Labels shape (batch, time, features): {example_labels.shape}')\"\"\""
   ]
  },
  {
   "cell_type": "markdown",
   "metadata": {},
   "source": [
    "# Modelling"
   ]
  },
  {
   "cell_type": "code",
   "execution_count": 29,
   "metadata": {},
   "outputs": [],
   "source": [
    "train_performance ={}\n",
    "val_performance = {}\n",
    "performance = {}"
   ]
  },
  {
   "cell_type": "markdown",
   "metadata": {},
   "source": [
    "## single step"
   ]
  },
  {
   "cell_type": "code",
   "execution_count": 30,
   "metadata": {},
   "outputs": [
    {
     "data": {
      "text/plain": [
       "Total window size: 2\n",
       "Input indices: [0]\n",
       "Label indices: [1]\n",
       "Label column name(s): ['ad_Close']"
      ]
     },
     "execution_count": 30,
     "metadata": {},
     "output_type": "execute_result"
    }
   ],
   "source": [
    "single_step_window = WindowGenerator(\n",
    "    input_width=1, label_width=1, shift=1,\n",
    "    label_columns=['ad_Close'])\n",
    "single_step_window"
   ]
  },
  {
   "cell_type": "code",
   "execution_count": 31,
   "metadata": {},
   "outputs": [],
   "source": [
    "MAX_EPOCHS = 20\n",
    "\n",
    "def compile_and_fit(model, window, patience=2):\n",
    "  early_stopping = tf.keras.callbacks.EarlyStopping(monitor='val_loss',\n",
    "                                                    patience=patience,\n",
    "                                                    #mode='min'\n",
    "                                                    )\n",
    "\n",
    "  model.compile(loss=tf.losses.MeanSquaredError(),\n",
    "                optimizer=tf.optimizers.Adam(),\n",
    "                metrics=[tf.metrics.MeanAbsoluteError()])\n",
    "\n",
    "  history = model.fit(window.train, epochs=MAX_EPOCHS,\n",
    "                      validation_data=window.val,\n",
    "                      callbacks=[early_stopping]\n",
    "                      )\n",
    "  return history"
   ]
  },
  {
   "cell_type": "markdown",
   "metadata": {},
   "source": [
    "### - Baseline"
   ]
  },
  {
   "cell_type": "code",
   "execution_count": 32,
   "metadata": {},
   "outputs": [],
   "source": [
    "class Baseline(tf.keras.Model):\n",
    "  def __init__(self, label_index=None):\n",
    "    super().__init__()\n",
    "    self.label_index = label_index\n",
    "\n",
    "  def call(self, inputs):\n",
    "    if self.label_index is None:\n",
    "      return inputs\n",
    "    result = inputs[:, :, self.label_index]\n",
    "    return result[:, :, tf.newaxis]"
   ]
  },
  {
   "cell_type": "code",
   "execution_count": 33,
   "metadata": {},
   "outputs": [
    {
     "name": "stdout",
     "output_type": "stream",
     "text": [
      "Metal device set to: Apple M1\n",
      "\n",
      "systemMemory: 8.00 GB\n",
      "maxCacheSize: 2.67 GB\n",
      "\n"
     ]
    },
    {
     "name": "stderr",
     "output_type": "stream",
     "text": [
      "2022-04-27 21:07:54.705667: I tensorflow/core/common_runtime/pluggable_device/pluggable_device_factory.cc:305] Could not identify NUMA node of platform GPU ID 0, defaulting to 0. Your kernel may not have been built with NUMA support.\n",
      "2022-04-27 21:07:54.705786: I tensorflow/core/common_runtime/pluggable_device/pluggable_device_factory.cc:271] Created TensorFlow device (/job:localhost/replica:0/task:0/device:GPU:0 with 0 MB memory) -> physical PluggableDevice (device: 0, name: METAL, pci bus id: <undefined>)\n",
      "2022-04-27 21:07:54.803194: W tensorflow/core/platform/profile_utils/cpu_utils.cc:128] Failed to get CPU frequency: 0 Hz\n",
      "2022-04-27 21:07:54.871111: I tensorflow/core/grappler/optimizers/custom_graph_optimizer_registry.cc:113] Plugin optimizer for device_type GPU is enabled.\n"
     ]
    },
    {
     "name": "stdout",
     "output_type": "stream",
     "text": [
      "36/36 [==============================] - 0s 3ms/step - loss: 4.5874e-04 - mean_absolute_error: 0.0155\n",
      "1/1 [==============================] - 0s 29ms/step - loss: 0.0265 - mean_absolute_error: 0.1333\n"
     ]
    }
   ],
   "source": [
    "baseline = Baseline(label_index=single_step_window.column_indices['ad_Close'])\n",
    "\n",
    "baseline.compile(loss=tf.losses.MeanSquaredError(),\n",
    "                 metrics=[tf.metrics.MeanAbsoluteError()])\n",
    "\n",
    "\n",
    "train_performance['Baseline_S'] = baseline.evaluate(single_step_window.train)\n",
    "val_performance['Baseline_S'] = baseline.evaluate(single_step_window.val)\n",
    "performance['Baseline_S'] = baseline.evaluate(single_step_window.test, verbose=0)"
   ]
  },
  {
   "cell_type": "markdown",
   "metadata": {},
   "source": [
    "### - Linear"
   ]
  },
  {
   "cell_type": "code",
   "execution_count": 34,
   "metadata": {},
   "outputs": [],
   "source": [
    "linear = tf.keras.Sequential([\n",
    "    #tf.keras.layers.Normalization(axis=None), \n",
    "\n",
    "    tf.keras.layers.Dense(units=1)\n",
    "])"
   ]
  },
  {
   "cell_type": "code",
   "execution_count": 35,
   "metadata": {},
   "outputs": [
    {
     "name": "stdout",
     "output_type": "stream",
     "text": [
      "Epoch 1/20\n",
      "12/36 [=========>....................] - ETA: 0s - loss: 0.1573 - mean_absolute_error: 0.3031"
     ]
    },
    {
     "name": "stderr",
     "output_type": "stream",
     "text": [
      "2022-04-27 21:07:55.413068: I tensorflow/core/grappler/optimizers/custom_graph_optimizer_registry.cc:113] Plugin optimizer for device_type GPU is enabled.\n"
     ]
    },
    {
     "name": "stdout",
     "output_type": "stream",
     "text": [
      "36/36 [==============================] - 1s 11ms/step - loss: 0.1054 - mean_absolute_error: 0.2496 - val_loss: 0.1723 - val_mean_absolute_error: 0.3183\n",
      "Epoch 2/20\n",
      "23/36 [==================>...........] - ETA: 0s - loss: 0.0623 - mean_absolute_error: 0.1998"
     ]
    },
    {
     "name": "stderr",
     "output_type": "stream",
     "text": [
      "2022-04-27 21:07:55.815457: I tensorflow/core/grappler/optimizers/custom_graph_optimizer_registry.cc:113] Plugin optimizer for device_type GPU is enabled.\n"
     ]
    },
    {
     "name": "stdout",
     "output_type": "stream",
     "text": [
      "36/36 [==============================] - 0s 6ms/step - loss: 0.0578 - mean_absolute_error: 0.1907 - val_loss: 0.1660 - val_mean_absolute_error: 0.3096\n",
      "Epoch 3/20\n",
      "36/36 [==============================] - 0s 5ms/step - loss: 0.0378 - mean_absolute_error: 0.1545 - val_loss: 0.1838 - val_mean_absolute_error: 0.3272\n",
      "Epoch 4/20\n",
      "36/36 [==============================] - 0s 6ms/step - loss: 0.0274 - mean_absolute_error: 0.1321 - val_loss: 0.1966 - val_mean_absolute_error: 0.3369\n"
     ]
    }
   ],
   "source": [
    "history_l_s = compile_and_fit(linear, single_step_window)"
   ]
  },
  {
   "cell_type": "code",
   "execution_count": 36,
   "metadata": {},
   "outputs": [
    {
     "name": "stdout",
     "output_type": "stream",
     "text": [
      "36/36 [==============================] - 0s 4ms/step - loss: 0.0237 - mean_absolute_error: 0.1239\n",
      "1/1 [==============================] - 0s 25ms/step - loss: 0.1966 - mean_absolute_error: 0.3369\n"
     ]
    }
   ],
   "source": [
    "train_performance['Linear_S'] = linear.evaluate(single_step_window.train)\n",
    "val_performance['Linear_S'] = linear.evaluate(single_step_window.val)\n",
    "performance['Linear_S'] = linear.evaluate(single_step_window.test, verbose=0)"
   ]
  },
  {
   "cell_type": "markdown",
   "metadata": {},
   "source": [
    "### - Dense"
   ]
  },
  {
   "cell_type": "code",
   "execution_count": 37,
   "metadata": {},
   "outputs": [],
   "source": [
    "dense = tf.keras.Sequential([\n",
    "    tf.keras.layers.Dense(units=64, activation='relu'),\n",
    "    tf.keras.layers.Dense(units=64, activation='relu'),\n",
    "    tf.keras.layers.Dense(units=1)\n",
    "])"
   ]
  },
  {
   "cell_type": "code",
   "execution_count": 38,
   "metadata": {},
   "outputs": [
    {
     "name": "stdout",
     "output_type": "stream",
     "text": [
      "Epoch 1/20\n",
      " 7/36 [====>.........................] - ETA: 0s - loss: 0.0940 - mean_absolute_error: 0.2326 "
     ]
    },
    {
     "name": "stderr",
     "output_type": "stream",
     "text": [
      "2022-04-27 21:07:57.286879: I tensorflow/core/grappler/optimizers/custom_graph_optimizer_registry.cc:113] Plugin optimizer for device_type GPU is enabled.\n"
     ]
    },
    {
     "name": "stdout",
     "output_type": "stream",
     "text": [
      "36/36 [==============================] - 1s 12ms/step - loss: 0.0332 - mean_absolute_error: 0.1280 - val_loss: 0.0690 - val_mean_absolute_error: 0.2187\n",
      "Epoch 2/20\n",
      "13/36 [=========>....................] - ETA: 0s - loss: 0.0043 - mean_absolute_error: 0.0530"
     ]
    },
    {
     "name": "stderr",
     "output_type": "stream",
     "text": [
      "2022-04-27 21:07:57.762529: I tensorflow/core/grappler/optimizers/custom_graph_optimizer_registry.cc:113] Plugin optimizer for device_type GPU is enabled.\n"
     ]
    },
    {
     "name": "stdout",
     "output_type": "stream",
     "text": [
      "36/36 [==============================] - 0s 10ms/step - loss: 0.0034 - mean_absolute_error: 0.0455 - val_loss: 0.0612 - val_mean_absolute_error: 0.2020\n",
      "Epoch 3/20\n",
      "36/36 [==============================] - 0s 9ms/step - loss: 0.0018 - mean_absolute_error: 0.0331 - val_loss: 0.0631 - val_mean_absolute_error: 0.2109\n",
      "Epoch 4/20\n",
      "36/36 [==============================] - 0s 9ms/step - loss: 0.0014 - mean_absolute_error: 0.0288 - val_loss: 0.0555 - val_mean_absolute_error: 0.1958\n",
      "Epoch 5/20\n",
      "36/36 [==============================] - 0s 9ms/step - loss: 0.0012 - mean_absolute_error: 0.0268 - val_loss: 0.0577 - val_mean_absolute_error: 0.2038\n",
      "Epoch 6/20\n",
      "36/36 [==============================] - 0s 9ms/step - loss: 0.0011 - mean_absolute_error: 0.0257 - val_loss: 0.0487 - val_mean_absolute_error: 0.1789\n",
      "Epoch 7/20\n",
      "36/36 [==============================] - 0s 9ms/step - loss: 9.8074e-04 - mean_absolute_error: 0.0241 - val_loss: 0.0507 - val_mean_absolute_error: 0.1863\n",
      "Epoch 8/20\n",
      "36/36 [==============================] - 0s 9ms/step - loss: 8.2574e-04 - mean_absolute_error: 0.0219 - val_loss: 0.0483 - val_mean_absolute_error: 0.1806\n",
      "Epoch 9/20\n",
      "36/36 [==============================] - 0s 9ms/step - loss: 7.5502e-04 - mean_absolute_error: 0.0210 - val_loss: 0.0506 - val_mean_absolute_error: 0.1879\n",
      "Epoch 10/20\n",
      "36/36 [==============================] - 0s 9ms/step - loss: 7.1395e-04 - mean_absolute_error: 0.0203 - val_loss: 0.0490 - val_mean_absolute_error: 0.1836\n",
      "36/36 [==============================] - 0s 7ms/step - loss: 6.5203e-04 - mean_absolute_error: 0.0193\n",
      "1/1 [==============================] - 0s 29ms/step - loss: 0.0490 - mean_absolute_error: 0.1836\n"
     ]
    }
   ],
   "source": [
    "history_d_s = compile_and_fit(dense, single_step_window)\n",
    "\n",
    "\n",
    "train_performance['Dense_s'] = dense.evaluate(single_step_window.train)\n",
    "val_performance['Dense_s'] = dense.evaluate(single_step_window.val)\n",
    "performance['Dense_s'] = dense.evaluate(single_step_window.test, verbose=0)"
   ]
  },
  {
   "cell_type": "code",
   "execution_count": 39,
   "metadata": {},
   "outputs": [
    {
     "data": {
      "text/html": [
       "<div>\n",
       "<style scoped>\n",
       "    .dataframe tbody tr th:only-of-type {\n",
       "        vertical-align: middle;\n",
       "    }\n",
       "\n",
       "    .dataframe tbody tr th {\n",
       "        vertical-align: top;\n",
       "    }\n",
       "\n",
       "    .dataframe thead th {\n",
       "        text-align: right;\n",
       "    }\n",
       "</style>\n",
       "<table border=\"1\" class=\"dataframe\">\n",
       "  <thead>\n",
       "    <tr style=\"text-align: right;\">\n",
       "      <th></th>\n",
       "      <th>Mean Squared Error [ad_Close]</th>\n",
       "      <th>Mean Absolute error [ad_Close]</th>\n",
       "    </tr>\n",
       "  </thead>\n",
       "  <tbody>\n",
       "    <tr>\n",
       "      <th>Baseline_S</th>\n",
       "      <td>0.038627</td>\n",
       "      <td>0.163497</td>\n",
       "    </tr>\n",
       "    <tr>\n",
       "      <th>Linear_S</th>\n",
       "      <td>0.134192</td>\n",
       "      <td>0.273088</td>\n",
       "    </tr>\n",
       "    <tr>\n",
       "      <th>Dense_s</th>\n",
       "      <td>0.047820</td>\n",
       "      <td>0.177840</td>\n",
       "    </tr>\n",
       "  </tbody>\n",
       "</table>\n",
       "</div>"
      ],
      "text/plain": [
       "            Mean Squared Error [ad_Close]  Mean Absolute error [ad_Close]\n",
       "Baseline_S                       0.038627                        0.163497\n",
       "Linear_S                         0.134192                        0.273088\n",
       "Dense_s                          0.047820                        0.177840"
      ]
     },
     "execution_count": 39,
     "metadata": {},
     "output_type": "execute_result"
    }
   ],
   "source": [
    "pd.DataFrame(performance, index=['Mean Squared Error [ad_Close]', 'Mean Absolute error [ad_Close]']).T\n"
   ]
  },
  {
   "cell_type": "markdown",
   "metadata": {},
   "source": [
    "### - Multistep dense"
   ]
  },
  {
   "cell_type": "code",
   "execution_count": 40,
   "metadata": {},
   "outputs": [
    {
     "data": {
      "text/plain": [
       "Total window size: 11\n",
       "Input indices: [0 1 2 3 4 5 6 7 8 9]\n",
       "Label indices: [10]\n",
       "Label column name(s): ['ad_Close']"
      ]
     },
     "execution_count": 40,
     "metadata": {},
     "output_type": "execute_result"
    }
   ],
   "source": [
    "CONV_WIDTH = 10 #3\n",
    "conv_window = WindowGenerator(\n",
    "    input_width=CONV_WIDTH,\n",
    "    label_width=1,\n",
    "    shift=1,\n",
    "    label_columns=['ad_Close'])\n",
    "\n",
    "conv_window"
   ]
  },
  {
   "cell_type": "code",
   "execution_count": 41,
   "metadata": {},
   "outputs": [
    {
     "data": {
      "text/plain": [
       "Text(0.5, 1.0, 'Given 3 hours of inputs, predict 1 hour into the future.')"
      ]
     },
     "execution_count": 41,
     "metadata": {},
     "output_type": "execute_result"
    },
    {
     "data": {
      "image/png": "[encoded data removed]",
      "text/plain": [
       "<Figure size 864x576 with 3 Axes>"
      ]
     },
     "metadata": {
      "needs_background": "light"
     },
     "output_type": "display_data"
    }
   ],
   "source": [
    "conv_window.plot()\n",
    "plt.title(\"Given 3 hours of inputs, predict 1 hour into the future.\")"
   ]
  },
  {
   "cell_type": "code",
   "execution_count": 42,
   "metadata": {},
   "outputs": [],
   "source": [
    "multi_step_dense = tf.keras.Sequential([\n",
    "    # Shape: (time, features) => (time*features)\n",
    "    tf.keras.layers.Flatten(),\n",
    "    tf.keras.layers.Dense(units=32, activation='relu'),\n",
    "    tf.keras.layers.Dense(units=32, activation='relu'),\n",
    "    tf.keras.layers.Dense(units=1),\n",
    "    # Add back the time dimension.\n",
    "    # Shape: (outputs) => (1, outputs)\n",
    "    tf.keras.layers.Reshape([1, -1]),\n",
    "])"
   ]
  },
  {
   "cell_type": "code",
   "execution_count": 43,
   "metadata": {},
   "outputs": [
    {
     "name": "stdout",
     "output_type": "stream",
     "text": [
      "Input shape: (32, 10, 50)\n",
      "Output shape: (32, 1, 1)\n"
     ]
    }
   ],
   "source": [
    "print('Input shape:', conv_window.example[0].shape)\n",
    "print('Output shape:', multi_step_dense(conv_window.example[0]).shape)"
   ]
  },
  {
   "cell_type": "code",
   "execution_count": 44,
   "metadata": {},
   "outputs": [
    {
     "name": "stdout",
     "output_type": "stream",
     "text": [
      "1/1 [==============================] - 0s 27ms/step - loss: 0.0441 - mean_absolute_error: 0.1821\n"
     ]
    }
   ],
   "source": [
    "history_msd = compile_and_fit(multi_step_dense, conv_window)\n",
    "\n",
    "IPython.display.clear_output()\n",
    "val_performance['Multi step dense'] = multi_step_dense.evaluate(conv_window.val)\n",
    "performance['Multi step dense'] = multi_step_dense.evaluate(conv_window.test, verbose=0)"
   ]
  },
  {
   "cell_type": "code",
   "execution_count": 45,
   "metadata": {},
   "outputs": [
    {
     "data": {
      "image/png": "[encoded data removed]",
      "text/plain": [
       "<Figure size 864x576 with 3 Axes>"
      ]
     },
     "metadata": {
      "needs_background": "light"
     },
     "output_type": "display_data"
    }
   ],
   "source": [
    "conv_window.plot(multi_step_dense)\n"
   ]
  },
  {
   "cell_type": "markdown",
   "metadata": {},
   "source": [
    "### - Convolutional"
   ]
  },
  {
   "cell_type": "code",
   "execution_count": 46,
   "metadata": {},
   "outputs": [],
   "source": [
    "conv_model = tf.keras.Sequential([\n",
    "    tf.keras.layers.Conv1D(filters=32,\n",
    "                           kernel_size=(CONV_WIDTH,),\n",
    "                           activation='relu'),\n",
    "    tf.keras.layers.Dense(units=32, activation='relu'),\n",
    "    tf.keras.layers.Dense(units=1),\n",
    "])"
   ]
  },
  {
   "cell_type": "code",
   "execution_count": 47,
   "metadata": {},
   "outputs": [
    {
     "name": "stdout",
     "output_type": "stream",
     "text": [
      "Conv model on `conv_window`\n",
      "Input shape: (32, 10, 50)\n",
      "Output shape: (32, 1, 1)\n"
     ]
    }
   ],
   "source": [
    "print(\"Conv model on `conv_window`\")\n",
    "print('Input shape:', conv_window.example[0].shape)\n",
    "print('Output shape:', conv_model(conv_window.example[0]).shape)"
   ]
  },
  {
   "cell_type": "code",
   "execution_count": 48,
   "metadata": {},
   "outputs": [
    {
     "name": "stdout",
     "output_type": "stream",
     "text": [
      "1/1 [==============================] - 0s 28ms/step - loss: 0.0741 - mean_absolute_error: 0.2322\n"
     ]
    }
   ],
   "source": [
    "history_conv = compile_and_fit(conv_model, conv_window)\n",
    "\n",
    "IPython.display.clear_output()\n",
    "val_performance['Conv'] = conv_model.evaluate(conv_window.val)\n",
    "performance['Conv'] = conv_model.evaluate(conv_window.test, verbose=0)"
   ]
  },
  {
   "cell_type": "markdown",
   "metadata": {},
   "source": [
    "### - Conv larger window"
   ]
  },
  {
   "cell_type": "code",
   "execution_count": null,
   "metadata": {},
   "outputs": [],
   "source": []
  },
  {
   "cell_type": "code",
   "execution_count": 49,
   "metadata": {},
   "outputs": [
    {
     "data": {
      "text/plain": [
       "Total window size: 34\n",
       "Input indices: [ 0  1  2  3  4  5  6  7  8  9 10 11 12 13 14 15 16 17 18 19 20 21 22 23\n",
       " 24 25 26 27 28 29 30 31 32]\n",
       "Label indices: [10 11 12 13 14 15 16 17 18 19 20 21 22 23 24 25 26 27 28 29 30 31 32 33]\n",
       "Label column name(s): ['ad_Close']"
      ]
     },
     "execution_count": 49,
     "metadata": {},
     "output_type": "execute_result"
    }
   ],
   "source": [
    "LABEL_WIDTH = 24\n",
    "INPUT_WIDTH = LABEL_WIDTH + (CONV_WIDTH - 1)\n",
    "wide_conv_window = WindowGenerator(\n",
    "    input_width=INPUT_WIDTH,\n",
    "    label_width=LABEL_WIDTH,\n",
    "    shift=1,\n",
    "    label_columns=['ad_Close'])\n",
    "\n",
    "wide_conv_window"
   ]
  },
  {
   "cell_type": "code",
   "execution_count": 50,
   "metadata": {},
   "outputs": [
    {
     "data": {
      "image/png": "[encoded data removed]",
      "text/plain": [
       "<Figure size 864x576 with 3 Axes>"
      ]
     },
     "metadata": {
      "needs_background": "light"
     },
     "output_type": "display_data"
    }
   ],
   "source": [
    "wide_conv_window.plot(conv_model)"
   ]
  },
  {
   "cell_type": "markdown",
   "metadata": {},
   "source": [
    "### - LSTM"
   ]
  },
  {
   "cell_type": "code",
   "execution_count": 51,
   "metadata": {},
   "outputs": [
    {
     "data": {
      "text/plain": [
       "Total window size: 11\n",
       "Input indices: [0 1 2 3 4 5 6 7 8 9]\n",
       "Label indices: [10]\n",
       "Label column name(s): ['ad_Close']"
      ]
     },
     "execution_count": 51,
     "metadata": {},
     "output_type": "execute_result"
    }
   ],
   "source": [
    "wide_window = WindowGenerator(\n",
    "    input_width=10, label_width=1, shift=1,\n",
    "    label_columns=['ad_Close'])\n",
    "\n",
    "wide_window"
   ]
  },
  {
   "cell_type": "code",
   "execution_count": 52,
   "metadata": {},
   "outputs": [],
   "source": [
    "lstm_model = tf.keras.models.Sequential([\n",
    "    # Shape [batch, time, features] => [batch, time, lstm_units]\n",
    "    tf.keras.layers.LSTM(32, return_sequences=True),\n",
    "    # Shape => [batch, time, features]\n",
    "    tf.keras.layers.Dense(units=1)\n",
    "])"
   ]
  },
  {
   "cell_type": "code",
   "execution_count": 53,
   "metadata": {},
   "outputs": [
    {
     "name": "stdout",
     "output_type": "stream",
     "text": [
      "Input shape: (32, 10, 50)\n",
      "Output shape: (32, 10, 1)\n"
     ]
    }
   ],
   "source": [
    "print('Input shape:', wide_window.example[0].shape)\n",
    "print('Output shape:', lstm_model(wide_window.example[0]).shape)"
   ]
  },
  {
   "cell_type": "code",
   "execution_count": 54,
   "metadata": {},
   "outputs": [
    {
     "name": "stdout",
     "output_type": "stream",
     "text": [
      "1/1 [==============================] - 0s 27ms/step - loss: 0.1371 - mean_absolute_error: 0.3189\n"
     ]
    }
   ],
   "source": [
    "history_lstm = compile_and_fit(lstm_model, wide_window)\n",
    "\n",
    "IPython.display.clear_output()\n",
    "val_performance['LSTM'] = lstm_model.evaluate(wide_window.val)\n",
    "performance['LSTM'] = lstm_model.evaluate(wide_window.test, verbose=0)"
   ]
  },
  {
   "cell_type": "markdown",
   "metadata": {},
   "source": [
    "- residual wrapper"
   ]
  },
  {
   "cell_type": "code",
   "execution_count": 55,
   "metadata": {},
   "outputs": [],
   "source": [
    "class ResidualWrapper(tf.keras.Model):\n",
    "  def __init__(self, model):\n",
    "    super().__init__()\n",
    "    self.model = model\n",
    "\n",
    "  def call(self, inputs, *args, **kwargs):\n",
    "    delta = self.model(inputs, *args, **kwargs)\n",
    "\n",
    "    # The prediction for each time step is the input\n",
    "    # from the previous time step plus the delta\n",
    "    # calculated by the model.\n",
    "    return inputs + delta"
   ]
  },
  {
   "cell_type": "code",
   "execution_count": 56,
   "metadata": {},
   "outputs": [
    {
     "name": "stdout",
     "output_type": "stream",
     "text": [
      "1/1 [==============================] - 0s 31ms/step - loss: 0.1664 - mean_absolute_error: 0.3292\n",
      "CPU times: user 7.27 s, sys: 2.51 s, total: 9.79 s\n",
      "Wall time: 7.71 s\n"
     ]
    }
   ],
   "source": [
    "%%time\n",
    "residual_lstm = ResidualWrapper(\n",
    "    tf.keras.Sequential([\n",
    "    tf.keras.layers.LSTM(32, return_sequences=True),\n",
    "    tf.keras.layers.Dense(\n",
    "        num_features,\n",
    "        # The predicted deltas should start small.\n",
    "        # Therefore, initialize the output layer with zeros.\n",
    "        kernel_initializer=tf.initializers.zeros())\n",
    "]))\n",
    "\n",
    "history = compile_and_fit(residual_lstm, wide_window)\n",
    "\n",
    "IPython.display.clear_output()\n",
    "val_performance['Residual LSTM'] = residual_lstm.evaluate(wide_window.val)\n",
    "performance['Residual LSTM'] = residual_lstm.evaluate(wide_window.test, verbose=0)"
   ]
  },
  {
   "cell_type": "code",
   "execution_count": null,
   "metadata": {},
   "outputs": [],
   "source": []
  },
  {
   "cell_type": "code",
   "execution_count": 57,
   "metadata": {},
   "outputs": [
    {
     "data": {
      "text/html": [
       "<div>\n",
       "<style scoped>\n",
       "    .dataframe tbody tr th:only-of-type {\n",
       "        vertical-align: middle;\n",
       "    }\n",
       "\n",
       "    .dataframe tbody tr th {\n",
       "        vertical-align: top;\n",
       "    }\n",
       "\n",
       "    .dataframe thead th {\n",
       "        text-align: right;\n",
       "    }\n",
       "</style>\n",
       "<table border=\"1\" class=\"dataframe\">\n",
       "  <thead>\n",
       "    <tr style=\"text-align: right;\">\n",
       "      <th></th>\n",
       "      <th>Mean Squared Error [ad_Close]</th>\n",
       "      <th>Mean Absolute error [ad_Close]</th>\n",
       "    </tr>\n",
       "  </thead>\n",
       "  <tbody>\n",
       "    <tr>\n",
       "      <th>Baseline_S</th>\n",
       "      <td>0.038627</td>\n",
       "      <td>0.163497</td>\n",
       "    </tr>\n",
       "    <tr>\n",
       "      <th>Linear_S</th>\n",
       "      <td>0.134192</td>\n",
       "      <td>0.273088</td>\n",
       "    </tr>\n",
       "    <tr>\n",
       "      <th>Dense_s</th>\n",
       "      <td>0.047820</td>\n",
       "      <td>0.177840</td>\n",
       "    </tr>\n",
       "    <tr>\n",
       "      <th>Multi step dense</th>\n",
       "      <td>0.113365</td>\n",
       "      <td>0.268474</td>\n",
       "    </tr>\n",
       "    <tr>\n",
       "      <th>Conv</th>\n",
       "      <td>0.132794</td>\n",
       "      <td>0.283665</td>\n",
       "    </tr>\n",
       "    <tr>\n",
       "      <th>LSTM</th>\n",
       "      <td>0.263777</td>\n",
       "      <td>0.433899</td>\n",
       "    </tr>\n",
       "    <tr>\n",
       "      <th>Residual LSTM</th>\n",
       "      <td>0.291899</td>\n",
       "      <td>0.455046</td>\n",
       "    </tr>\n",
       "  </tbody>\n",
       "</table>\n",
       "</div>"
      ],
      "text/plain": [
       "                  Mean Squared Error [ad_Close]  \\\n",
       "Baseline_S                             0.038627   \n",
       "Linear_S                               0.134192   \n",
       "Dense_s                                0.047820   \n",
       "Multi step dense                       0.113365   \n",
       "Conv                                   0.132794   \n",
       "LSTM                                   0.263777   \n",
       "Residual LSTM                          0.291899   \n",
       "\n",
       "                  Mean Absolute error [ad_Close]  \n",
       "Baseline_S                              0.163497  \n",
       "Linear_S                                0.273088  \n",
       "Dense_s                                 0.177840  \n",
       "Multi step dense                        0.268474  \n",
       "Conv                                    0.283665  \n",
       "LSTM                                    0.433899  \n",
       "Residual LSTM                           0.455046  "
      ]
     },
     "execution_count": 57,
     "metadata": {},
     "output_type": "execute_result"
    }
   ],
   "source": [
    "pd.DataFrame(performance, index=['Mean Squared Error [ad_Close]', 'Mean Absolute error [ad_Close]']).T\n"
   ]
  },
  {
   "cell_type": "code",
   "execution_count": 58,
   "metadata": {},
   "outputs": [
    {
     "data": {
      "text/html": [
       "<div>\n",
       "<style scoped>\n",
       "    .dataframe tbody tr th:only-of-type {\n",
       "        vertical-align: middle;\n",
       "    }\n",
       "\n",
       "    .dataframe tbody tr th {\n",
       "        vertical-align: top;\n",
       "    }\n",
       "\n",
       "    .dataframe thead th {\n",
       "        text-align: right;\n",
       "    }\n",
       "</style>\n",
       "<table border=\"1\" class=\"dataframe\">\n",
       "  <thead>\n",
       "    <tr style=\"text-align: right;\">\n",
       "      <th></th>\n",
       "      <th>Mean Squared Error [ad_Close]</th>\n",
       "      <th>Mean Absolute error [ad_Close]</th>\n",
       "    </tr>\n",
       "  </thead>\n",
       "  <tbody>\n",
       "    <tr>\n",
       "      <th>Baseline_S</th>\n",
       "      <td>0.026460</td>\n",
       "      <td>0.133333</td>\n",
       "    </tr>\n",
       "    <tr>\n",
       "      <th>Linear_S</th>\n",
       "      <td>0.196571</td>\n",
       "      <td>0.336888</td>\n",
       "    </tr>\n",
       "    <tr>\n",
       "      <th>Dense_s</th>\n",
       "      <td>0.048983</td>\n",
       "      <td>0.183594</td>\n",
       "    </tr>\n",
       "    <tr>\n",
       "      <th>Multi step dense</th>\n",
       "      <td>0.044142</td>\n",
       "      <td>0.182089</td>\n",
       "    </tr>\n",
       "    <tr>\n",
       "      <th>Conv</th>\n",
       "      <td>0.074120</td>\n",
       "      <td>0.232172</td>\n",
       "    </tr>\n",
       "    <tr>\n",
       "      <th>LSTM</th>\n",
       "      <td>0.137070</td>\n",
       "      <td>0.318853</td>\n",
       "    </tr>\n",
       "    <tr>\n",
       "      <th>Residual LSTM</th>\n",
       "      <td>0.166404</td>\n",
       "      <td>0.329248</td>\n",
       "    </tr>\n",
       "  </tbody>\n",
       "</table>\n",
       "</div>"
      ],
      "text/plain": [
       "                  Mean Squared Error [ad_Close]  \\\n",
       "Baseline_S                             0.026460   \n",
       "Linear_S                               0.196571   \n",
       "Dense_s                                0.048983   \n",
       "Multi step dense                       0.044142   \n",
       "Conv                                   0.074120   \n",
       "LSTM                                   0.137070   \n",
       "Residual LSTM                          0.166404   \n",
       "\n",
       "                  Mean Absolute error [ad_Close]  \n",
       "Baseline_S                              0.133333  \n",
       "Linear_S                                0.336888  \n",
       "Dense_s                                 0.183594  \n",
       "Multi step dense                        0.182089  \n",
       "Conv                                    0.232172  \n",
       "LSTM                                    0.318853  \n",
       "Residual LSTM                           0.329248  "
      ]
     },
     "execution_count": 58,
     "metadata": {},
     "output_type": "execute_result"
    }
   ],
   "source": [
    "pd.DataFrame(val_performance, index=['Mean Squared Error [ad_Close]', 'Mean Absolute error [ad_Close]']).T\n"
   ]
  },
  {
   "cell_type": "markdown",
   "metadata": {},
   "source": [
    "### helper functions\n"
   ]
  },
  {
   "cell_type": "code",
   "execution_count": 59,
   "metadata": {},
   "outputs": [],
   "source": [
    "def plot_loss(history):\n",
    "    plt.plot(history.history['loss'], label='loss')\n",
    "    plt.plot(history.history['val_loss'], label='val_loss')\n",
    "    plt.ylim([0, 1])\n",
    "    plt.xlabel('Epoch')\n",
    "    plt.ylabel('Error')\n",
    "    plt.legend()\n",
    "    plt.grid(True)"
   ]
  },
  {
   "cell_type": "code",
   "execution_count": null,
   "metadata": {},
   "outputs": [],
   "source": []
  },
  {
   "cell_type": "code",
   "execution_count": 60,
   "metadata": {},
   "outputs": [],
   "source": [
    "train_performance ={}\n",
    "val_performance = {}\n",
    "performance = {}"
   ]
  },
  {
   "cell_type": "markdown",
   "metadata": {},
   "source": [
    "# Fit Test\n"
   ]
  },
  {
   "cell_type": "markdown",
   "metadata": {},
   "source": [
    "## - Single step models:\n",
    "\n",
    "predict a single features value 1 time step into future"
   ]
  },
  {
   "cell_type": "code",
   "execution_count": 61,
   "metadata": {},
   "outputs": [
    {
     "data": {
      "text/plain": [
       "Total window size: 2\n",
       "Input indices: [0]\n",
       "Label indices: [1]\n",
       "Label column name(s): ['ad_Close']"
      ]
     },
     "execution_count": 61,
     "metadata": {},
     "output_type": "execute_result"
    }
   ],
   "source": [
    "single_step_window = WindowGenerator(\n",
    "    input_width=1, label_width=1, shift=1,\n",
    "    label_columns=['ad_Close'])\n",
    "single_step_window"
   ]
  },
  {
   "cell_type": "code",
   "execution_count": 62,
   "metadata": {},
   "outputs": [
    {
     "name": "stdout",
     "output_type": "stream",
     "text": [
      "Inputs shape (batch, time, features): (32, 1, 50)\n",
      "Labels shape (batch, time, features): (32, 1, 1)\n"
     ]
    }
   ],
   "source": [
    "for example_inputs, example_labels in single_step_window.train.take(1):\n",
    "  print(f'Inputs shape (batch, time, features): {example_inputs.shape}')\n",
    "  print(f'Labels shape (batch, time, features): {example_labels.shape}')"
   ]
  },
  {
   "cell_type": "markdown",
   "metadata": {},
   "source": [
    "- Baseline"
   ]
  },
  {
   "cell_type": "code",
   "execution_count": 63,
   "metadata": {},
   "outputs": [
    {
     "name": "stdout",
     "output_type": "stream",
     "text": [
      "36/36 [==============================] - 0s 3ms/step - loss: 4.5874e-04 - mean_absolute_error: 0.0155\n",
      "1/1 [==============================] - 0s 28ms/step - loss: 0.0265 - mean_absolute_error: 0.1333\n"
     ]
    },
    {
     "name": "stderr",
     "output_type": "stream",
     "text": [
      "2022-04-27 21:08:20.863982: I tensorflow/core/grappler/optimizers/custom_graph_optimizer_registry.cc:113] Plugin optimizer for device_type GPU is enabled.\n"
     ]
    }
   ],
   "source": [
    "baseline = Baseline(label_index=single_step_window.column_indices['ad_Close'])\n",
    "\n",
    "baseline.compile(loss=tf.losses.MeanSquaredError(),\n",
    "                 metrics=[tf.metrics.MeanAbsoluteError()])\n",
    "\n",
    "\n",
    "train_performance['Baseline_S'] = baseline.evaluate(single_step_window.train)\n",
    "val_performance['Baseline_S'] = baseline.evaluate(single_step_window.val)\n",
    "performance['Baseline_S'] = baseline.evaluate(single_step_window.test, verbose=0)"
   ]
  },
  {
   "cell_type": "markdown",
   "metadata": {},
   "source": [
    "### - linear"
   ]
  },
  {
   "cell_type": "code",
   "execution_count": 64,
   "metadata": {},
   "outputs": [
    {
     "name": "stdout",
     "output_type": "stream",
     "text": [
      "Epoch 1/20\n",
      "17/36 [=============>................] - ETA: 0s - loss: 0.0212 - mean_absolute_error: 0.1172"
     ]
    },
    {
     "name": "stderr",
     "output_type": "stream",
     "text": [
      "2022-04-27 21:08:21.313627: I tensorflow/core/grappler/optimizers/custom_graph_optimizer_registry.cc:113] Plugin optimizer for device_type GPU is enabled.\n"
     ]
    },
    {
     "name": "stdout",
     "output_type": "stream",
     "text": [
      "36/36 [==============================] - 0s 8ms/step - loss: 0.0198 - mean_absolute_error: 0.1132 - val_loss: 0.1917 - val_mean_absolute_error: 0.3278\n",
      "Epoch 2/20\n",
      "21/36 [================>.............] - ETA: 0s - loss: 0.0148 - mean_absolute_error: 0.0976"
     ]
    },
    {
     "name": "stderr",
     "output_type": "stream",
     "text": [
      "2022-04-27 21:08:21.618932: I tensorflow/core/grappler/optimizers/custom_graph_optimizer_registry.cc:113] Plugin optimizer for device_type GPU is enabled.\n"
     ]
    },
    {
     "name": "stdout",
     "output_type": "stream",
     "text": [
      "36/36 [==============================] - 0s 6ms/step - loss: 0.0136 - mean_absolute_error: 0.0935 - val_loss: 0.2132 - val_mean_absolute_error: 0.3502\n",
      "Epoch 3/20\n",
      "36/36 [==============================] - 0s 5ms/step - loss: 0.0097 - mean_absolute_error: 0.0791 - val_loss: 0.2032 - val_mean_absolute_error: 0.3386\n"
     ]
    }
   ],
   "source": [
    "history_l_s = compile_and_fit(linear, single_step_window)\n",
    "\n",
    "##val_performance['Linear'] = linear.evaluate(w1.val)\n",
    "#performance['Linear'] = linear.evaluate(w1.test, verbose=0)"
   ]
  },
  {
   "cell_type": "code",
   "execution_count": 65,
   "metadata": {},
   "outputs": [
    {
     "data": {
      "text/html": [
       "<div>\n",
       "<style scoped>\n",
       "    .dataframe tbody tr th:only-of-type {\n",
       "        vertical-align: middle;\n",
       "    }\n",
       "\n",
       "    .dataframe tbody tr th {\n",
       "        vertical-align: top;\n",
       "    }\n",
       "\n",
       "    .dataframe thead th {\n",
       "        text-align: right;\n",
       "    }\n",
       "</style>\n",
       "<table border=\"1\" class=\"dataframe\">\n",
       "  <thead>\n",
       "    <tr style=\"text-align: right;\">\n",
       "      <th></th>\n",
       "      <th>loss</th>\n",
       "      <th>mean_absolute_error</th>\n",
       "      <th>val_loss</th>\n",
       "      <th>val_mean_absolute_error</th>\n",
       "    </tr>\n",
       "  </thead>\n",
       "  <tbody>\n",
       "    <tr>\n",
       "      <th>0</th>\n",
       "      <td>0.019811</td>\n",
       "      <td>0.113187</td>\n",
       "      <td>0.191749</td>\n",
       "      <td>0.327806</td>\n",
       "    </tr>\n",
       "    <tr>\n",
       "      <th>1</th>\n",
       "      <td>0.013573</td>\n",
       "      <td>0.093487</td>\n",
       "      <td>0.213213</td>\n",
       "      <td>0.350225</td>\n",
       "    </tr>\n",
       "    <tr>\n",
       "      <th>2</th>\n",
       "      <td>0.009672</td>\n",
       "      <td>0.079059</td>\n",
       "      <td>0.203191</td>\n",
       "      <td>0.338648</td>\n",
       "    </tr>\n",
       "  </tbody>\n",
       "</table>\n",
       "</div>"
      ],
      "text/plain": [
       "       loss  mean_absolute_error  val_loss  val_mean_absolute_error\n",
       "0  0.019811             0.113187  0.191749                 0.327806\n",
       "1  0.013573             0.093487  0.213213                 0.350225\n",
       "2  0.009672             0.079059  0.203191                 0.338648"
      ]
     },
     "execution_count": 65,
     "metadata": {},
     "output_type": "execute_result"
    }
   ],
   "source": [
    "pd.DataFrame(history_l_s.history)\n",
    "\n"
   ]
  },
  {
   "cell_type": "code",
   "execution_count": 66,
   "metadata": {},
   "outputs": [
    {
     "data": {
      "image/png": "[encoded data removed]",
      "text/plain": [
       "<Figure size 576x432 with 1 Axes>"
      ]
     },
     "metadata": {
      "needs_background": "light"
     },
     "output_type": "display_data"
    }
   ],
   "source": [
    "plot_loss(history_l_s)"
   ]
  },
  {
   "cell_type": "code",
   "execution_count": 67,
   "metadata": {},
   "outputs": [],
   "source": [
    "#single_step_window.plot(linear)"
   ]
  },
  {
   "cell_type": "code",
   "execution_count": 68,
   "metadata": {},
   "outputs": [
    {
     "data": {
      "text/plain": [
       "'plt.bar(x = range(len(train_df.columns)),\\n        height=linear.layers[0].kernel[:,0].numpy())\\naxis = plt.gca()\\naxis.set_xticks(range(len(train_df.columns)))\\n_ = axis.set_xticklabels(train_df.columns, rotation=90)'"
      ]
     },
     "execution_count": 68,
     "metadata": {},
     "output_type": "execute_result"
    }
   ],
   "source": [
    "\"\"\"plt.bar(x = range(len(train_df.columns)),\n",
    "        height=linear.layers[0].kernel[:,0].numpy())\n",
    "axis = plt.gca()\n",
    "axis.set_xticks(range(len(train_df.columns)))\n",
    "_ = axis.set_xticklabels(train_df.columns, rotation=90)\"\"\""
   ]
  },
  {
   "cell_type": "code",
   "execution_count": 69,
   "metadata": {},
   "outputs": [
    {
     "data": {
      "text/plain": [
       "(TensorSpec(shape=(None, 1, 50), dtype=tf.float32, name=None),\n",
       " TensorSpec(shape=(None, 1, 1), dtype=tf.float32, name=None))"
      ]
     },
     "execution_count": 69,
     "metadata": {},
     "output_type": "execute_result"
    }
   ],
   "source": [
    "single_step_window.train.element_spec"
   ]
  },
  {
   "cell_type": "code",
   "execution_count": 70,
   "metadata": {},
   "outputs": [
    {
     "data": {
      "text/plain": [
       "method"
      ]
     },
     "execution_count": 70,
     "metadata": {},
     "output_type": "execute_result"
    }
   ],
   "source": [
    "type(single_step_window.train.get_single_element)"
   ]
  },
  {
   "cell_type": "code",
   "execution_count": 71,
   "metadata": {},
   "outputs": [
    {
     "data": {
      "text/plain": [
       "tensorflow.python.data.ops.dataset_ops.MapDataset"
      ]
     },
     "execution_count": 71,
     "metadata": {},
     "output_type": "execute_result"
    }
   ],
   "source": [
    "type(single_step_window.train)"
   ]
  },
  {
   "cell_type": "code",
   "execution_count": 72,
   "metadata": {},
   "outputs": [
    {
     "name": "stdout",
     "output_type": "stream",
     "text": [
      "Inputs shape (batch, time, features): (32, 1, 50)\n",
      "<class 'tensorflow.python.framework.ops.EagerTensor'>\n",
      "Labels shape (batch, time, features): (32, 1, 1)\n"
     ]
    }
   ],
   "source": [
    "for example_inputs, example_labels in single_step_window.train.take(1):\n",
    "  print(f'Inputs shape (batch, time, features): {example_inputs.shape}')\n",
    "  print(type(example_inputs))\n",
    "  print(f'Labels shape (batch, time, features): {example_labels.shape}')"
   ]
  },
  {
   "cell_type": "code",
   "execution_count": 73,
   "metadata": {},
   "outputs": [
    {
     "name": "stdout",
     "output_type": "stream",
     "text": [
      "36/36 [==============================] - 0s 5ms/step - loss: 0.0080 - mean_absolute_error: 0.0722\n",
      "1/1 [==============================] - 0s 48ms/step - loss: 0.2032 - mean_absolute_error: 0.3386\n"
     ]
    }
   ],
   "source": [
    "train_performance['Linear_S'] = linear.evaluate(single_step_window.train)\n",
    "val_performance['Linear_S'] = linear.evaluate(single_step_window.val)\n",
    "performance['Linear_S'] = linear.evaluate(single_step_window.test, verbose=0)"
   ]
  },
  {
   "cell_type": "markdown",
   "metadata": {},
   "source": [
    "- Dense"
   ]
  },
  {
   "cell_type": "code",
   "execution_count": 74,
   "metadata": {},
   "outputs": [
    {
     "name": "stdout",
     "output_type": "stream",
     "text": [
      "Epoch 1/20\n",
      " 7/36 [====>.........................] - ETA: 0s - loss: 0.0016 - mean_absolute_error: 0.0315     "
     ]
    },
    {
     "name": "stderr",
     "output_type": "stream",
     "text": [
      "2022-04-27 21:08:23.612391: I tensorflow/core/grappler/optimizers/custom_graph_optimizer_registry.cc:113] Plugin optimizer for device_type GPU is enabled.\n"
     ]
    },
    {
     "name": "stdout",
     "output_type": "stream",
     "text": [
      "36/36 [==============================] - 1s 12ms/step - loss: 0.0011 - mean_absolute_error: 0.0260 - val_loss: 0.0487 - val_mean_absolute_error: 0.1850\n",
      "Epoch 2/20\n",
      "15/36 [===========>..................] - ETA: 0s - loss: 0.0010 - mean_absolute_error: 0.0250    "
     ]
    },
    {
     "name": "stderr",
     "output_type": "stream",
     "text": [
      "2022-04-27 21:08:24.079981: I tensorflow/core/grappler/optimizers/custom_graph_optimizer_registry.cc:113] Plugin optimizer for device_type GPU is enabled.\n"
     ]
    },
    {
     "name": "stdout",
     "output_type": "stream",
     "text": [
      "36/36 [==============================] - 0s 9ms/step - loss: 8.9802e-04 - mean_absolute_error: 0.0234 - val_loss: 0.0458 - val_mean_absolute_error: 0.1750\n",
      "Epoch 3/20\n",
      "36/36 [==============================] - 0s 9ms/step - loss: 6.1369e-04 - mean_absolute_error: 0.0192 - val_loss: 0.0453 - val_mean_absolute_error: 0.1788\n",
      "Epoch 4/20\n",
      "36/36 [==============================] - 0s 9ms/step - loss: 5.6639e-04 - mean_absolute_error: 0.0184 - val_loss: 0.0449 - val_mean_absolute_error: 0.1769\n",
      "Epoch 5/20\n",
      "36/36 [==============================] - 0s 9ms/step - loss: 5.3719e-04 - mean_absolute_error: 0.0178 - val_loss: 0.0481 - val_mean_absolute_error: 0.1873\n",
      "Epoch 6/20\n",
      "36/36 [==============================] - 0s 9ms/step - loss: 5.0088e-04 - mean_absolute_error: 0.0171 - val_loss: 0.0481 - val_mean_absolute_error: 0.1869\n",
      "1/1 [==============================] - 0s 31ms/step - loss: 0.0481 - mean_absolute_error: 0.1869\n"
     ]
    }
   ],
   "source": [
    "history_d_s = compile_and_fit(dense, single_step_window)\n",
    "\n",
    "val_performance['Dense_d_s'] = dense.evaluate(single_step_window.val)\n",
    "performance['Dense_d_s'] = dense.evaluate(single_step_window.test, verbose=0)"
   ]
  },
  {
   "cell_type": "code",
   "execution_count": 75,
   "metadata": {},
   "outputs": [
    {
     "data": {
      "text/plain": [
       "{'Baseline_S': [0.03862706944346428, 0.16349749267101288],\n",
       " 'Linear_S': [0.11213571578264236, 0.2645963132381439],\n",
       " 'Dense_d_s': [0.05072940140962601, 0.1794167459011078]}"
      ]
     },
     "execution_count": 75,
     "metadata": {},
     "output_type": "execute_result"
    }
   ],
   "source": [
    "performance"
   ]
  },
  {
   "cell_type": "code",
   "execution_count": 76,
   "metadata": {},
   "outputs": [
    {
     "data": {
      "text/plain": [
       "\"x = np.arange(len(performance))\\nwidth = 0.3\\nmetric_name = 'mean_absolute_error'\\nmetric_index = linear.metrics_names.index('mean_absolute_error')\\nval_mae = [v[metric_index] for v in val_performance.values()]\\ntest_mae = [v[metric_index] for v in performance.values()]\\n#train_mae = [v[metric_index] for v in train_performance.values()]\\n\\nplt.ylabel('mean_absolute_error [T (degC), normalized]')\\nplt.bar(x - 0.17, val_mae, width, label='Validation')\\nplt.bar(x + 0.17, test_mae, width, label='Test')\\nplt.xticks(ticks=x, labels=performance.keys(),\\n           rotation=45)\\n_ = plt.legend()\""
      ]
     },
     "execution_count": 76,
     "metadata": {},
     "output_type": "execute_result"
    }
   ],
   "source": [
    "\"\"\"x = np.arange(len(performance))\n",
    "width = 0.3\n",
    "metric_name = 'mean_absolute_error'\n",
    "metric_index = linear.metrics_names.index('mean_absolute_error')\n",
    "val_mae = [v[metric_index] for v in val_performance.values()]\n",
    "test_mae = [v[metric_index] for v in performance.values()]\n",
    "#train_mae = [v[metric_index] for v in train_performance.values()]\n",
    "\n",
    "plt.ylabel('mean_absolute_error [T (degC), normalized]')\n",
    "plt.bar(x - 0.17, val_mae, width, label='Validation')\n",
    "plt.bar(x + 0.17, test_mae, width, label='Test')\n",
    "plt.xticks(ticks=x, labels=performance.keys(),\n",
    "           rotation=45)\n",
    "_ = plt.legend()\"\"\""
   ]
  },
  {
   "cell_type": "markdown",
   "metadata": {},
   "source": [
    "## - w1"
   ]
  },
  {
   "cell_type": "code",
   "execution_count": 77,
   "metadata": {},
   "outputs": [],
   "source": [
    "w1 = WindowGenerator(input_width=22, label_width=1, shift=1,\n",
    "                     label_columns=['ad_Close'])"
   ]
  },
  {
   "cell_type": "code",
   "execution_count": 78,
   "metadata": {},
   "outputs": [],
   "source": [
    "example_window = tf.stack([np.array(train_data[:w1.total_window_size]),\n",
    "                           np.array(train_data[100:100+w1.total_window_size]),\n",
    "                           np.array(train_data[200:200+w1.total_window_size])])\n",
    "#example_inputs, example_labels = w1.split_window(example_window)"
   ]
  },
  {
   "cell_type": "code",
   "execution_count": 79,
   "metadata": {},
   "outputs": [
    {
     "data": {
      "text/plain": [
       "\"for example_inputs, example_labels in w1.train.take(1):\\n  print(f'Inputs shape (batch, time, features): {example_inputs.shape}')\\n  print(f'Labels shape (batch, time, features): {example_labels.shape}')\""
      ]
     },
     "execution_count": 79,
     "metadata": {},
     "output_type": "execute_result"
    }
   ],
   "source": [
    "\"\"\"for example_inputs, example_labels in w1.train.take(1):\n",
    "  print(f'Inputs shape (batch, time, features): {example_inputs.shape}')\n",
    "  print(f'Labels shape (batch, time, features): {example_labels.shape}')\"\"\""
   ]
  },
  {
   "cell_type": "code",
   "execution_count": 80,
   "metadata": {},
   "outputs": [],
   "source": [
    "#w1.example = example_inputs, example_labels"
   ]
  },
  {
   "cell_type": "code",
   "execution_count": 81,
   "metadata": {},
   "outputs": [],
   "source": [
    "#w1.plot()"
   ]
  },
  {
   "cell_type": "code",
   "execution_count": 82,
   "metadata": {},
   "outputs": [
    {
     "data": {
      "text/plain": [
       "(TensorSpec(shape=(None, 22, 50), dtype=tf.float32, name=None),\n",
       " TensorSpec(shape=(None, 1, 1), dtype=tf.float32, name=None))"
      ]
     },
     "execution_count": 82,
     "metadata": {},
     "output_type": "execute_result"
    }
   ],
   "source": [
    "w1.train.element_spec"
   ]
  },
  {
   "cell_type": "code",
   "execution_count": 83,
   "metadata": {},
   "outputs": [
    {
     "data": {
      "text/plain": [
       "\"for example_inputs, example_labels in w1.train.take(1):\\n  print(f'Inputs shape (batch, time, features): {example_inputs.shape}')\\n  print(type(example_inputs))\\n  print(f'Labels shape (batch, time, features): {example_labels.shape}')\""
      ]
     },
     "execution_count": 83,
     "metadata": {},
     "output_type": "execute_result"
    }
   ],
   "source": [
    "\"\"\"for example_inputs, example_labels in w1.train.take(1):\n",
    "  print(f'Inputs shape (batch, time, features): {example_inputs.shape}')\n",
    "  print(type(example_inputs))\n",
    "  print(f'Labels shape (batch, time, features): {example_labels.shape}')\"\"\""
   ]
  },
  {
   "cell_type": "code",
   "execution_count": 84,
   "metadata": {},
   "outputs": [
    {
     "data": {
      "text/plain": [
       "32"
      ]
     },
     "execution_count": 84,
     "metadata": {},
     "output_type": "execute_result"
    }
   ],
   "source": [
    "len(example_inputs)"
   ]
  },
  {
   "cell_type": "code",
   "execution_count": 85,
   "metadata": {},
   "outputs": [
    {
     "name": "stdout",
     "output_type": "stream",
     "text": [
      "Epoch 1/20\n",
      "33/35 [===========================>..] - ETA: 0s - loss: 0.0047 - mean_absolute_error: 0.0492WARNING:tensorflow:Early stopping conditioned on metric `val_loss` which is not available. Available metrics are: loss,mean_absolute_error\n",
      "35/35 [==============================] - 0s 4ms/step - loss: 0.0047 - mean_absolute_error: 0.0492\n",
      "Epoch 2/20\n",
      " 1/35 [..............................] - ETA: 0s - loss: 0.0046 - mean_absolute_error: 0.0500"
     ]
    },
    {
     "name": "stderr",
     "output_type": "stream",
     "text": [
      "2022-04-27 21:08:26.592411: I tensorflow/core/grappler/optimizers/custom_graph_optimizer_registry.cc:113] Plugin optimizer for device_type GPU is enabled.\n"
     ]
    },
    {
     "name": "stdout",
     "output_type": "stream",
     "text": [
      "34/35 [============================>.] - ETA: 0s - loss: 0.0047 - mean_absolute_error: 0.0492WARNING:tensorflow:Early stopping conditioned on metric `val_loss` which is not available. Available metrics are: loss,mean_absolute_error\n",
      "35/35 [==============================] - 0s 4ms/step - loss: 0.0047 - mean_absolute_error: 0.0492\n",
      "Epoch 3/20\n",
      "34/35 [============================>.] - ETA: 0s - loss: 0.0047 - mean_absolute_error: 0.0494WARNING:tensorflow:Early stopping conditioned on metric `val_loss` which is not available. Available metrics are: loss,mean_absolute_error\n",
      "35/35 [==============================] - 0s 4ms/step - loss: 0.0047 - mean_absolute_error: 0.0492\n",
      "Epoch 4/20\n",
      "34/35 [============================>.] - ETA: 0s - loss: 0.0047 - mean_absolute_error: 0.0494WARNING:tensorflow:Early stopping conditioned on metric `val_loss` which is not available. Available metrics are: loss,mean_absolute_error\n",
      "35/35 [==============================] - 0s 4ms/step - loss: 0.0047 - mean_absolute_error: 0.0492\n",
      "Epoch 5/20\n",
      "34/35 [============================>.] - ETA: 0s - loss: 0.0046 - mean_absolute_error: 0.0489WARNING:tensorflow:Early stopping conditioned on metric `val_loss` which is not available. Available metrics are: loss,mean_absolute_error\n",
      "35/35 [==============================] - 0s 4ms/step - loss: 0.0047 - mean_absolute_error: 0.0492\n",
      "Epoch 6/20\n",
      "34/35 [============================>.] - ETA: 0s - loss: 0.0047 - mean_absolute_error: 0.0491WARNING:tensorflow:Early stopping conditioned on metric `val_loss` which is not available. Available metrics are: loss,mean_absolute_error\n",
      "35/35 [==============================] - 0s 4ms/step - loss: 0.0047 - mean_absolute_error: 0.0492\n",
      "Epoch 7/20\n",
      "34/35 [============================>.] - ETA: 0s - loss: 0.0047 - mean_absolute_error: 0.0492WARNING:tensorflow:Early stopping conditioned on metric `val_loss` which is not available. Available metrics are: loss,mean_absolute_error\n",
      "35/35 [==============================] - 0s 4ms/step - loss: 0.0047 - mean_absolute_error: 0.0492\n",
      "Epoch 8/20\n",
      "34/35 [============================>.] - ETA: 0s - loss: 0.0047 - mean_absolute_error: 0.0494WARNING:tensorflow:Early stopping conditioned on metric `val_loss` which is not available. Available metrics are: loss,mean_absolute_error\n",
      "35/35 [==============================] - 0s 4ms/step - loss: 0.0047 - mean_absolute_error: 0.0492\n",
      "Epoch 9/20\n",
      "34/35 [============================>.] - ETA: 0s - loss: 0.0047 - mean_absolute_error: 0.0493WARNING:tensorflow:Early stopping conditioned on metric `val_loss` which is not available. Available metrics are: loss,mean_absolute_error\n",
      "35/35 [==============================] - 0s 4ms/step - loss: 0.0047 - mean_absolute_error: 0.0492\n",
      "Epoch 10/20\n",
      "34/35 [============================>.] - ETA: 0s - loss: 0.0047 - mean_absolute_error: 0.0491WARNING:tensorflow:Early stopping conditioned on metric `val_loss` which is not available. Available metrics are: loss,mean_absolute_error\n",
      "35/35 [==============================] - 0s 4ms/step - loss: 0.0047 - mean_absolute_error: 0.0492\n",
      "Epoch 11/20\n",
      "34/35 [============================>.] - ETA: 0s - loss: 0.0047 - mean_absolute_error: 0.0491WARNING:tensorflow:Early stopping conditioned on metric `val_loss` which is not available. Available metrics are: loss,mean_absolute_error\n",
      "35/35 [==============================] - 0s 4ms/step - loss: 0.0047 - mean_absolute_error: 0.0492\n",
      "Epoch 12/20\n",
      "34/35 [============================>.] - ETA: 0s - loss: 0.0047 - mean_absolute_error: 0.0493WARNING:tensorflow:Early stopping conditioned on metric `val_loss` which is not available. Available metrics are: loss,mean_absolute_error\n",
      "35/35 [==============================] - 0s 4ms/step - loss: 0.0047 - mean_absolute_error: 0.0492\n",
      "Epoch 13/20\n",
      "32/35 [==========================>...] - ETA: 0s - loss: 0.0048 - mean_absolute_error: 0.0495WARNING:tensorflow:Early stopping conditioned on metric `val_loss` which is not available. Available metrics are: loss,mean_absolute_error\n",
      "35/35 [==============================] - 0s 4ms/step - loss: 0.0047 - mean_absolute_error: 0.0492\n",
      "Epoch 14/20\n",
      "34/35 [============================>.] - ETA: 0s - loss: 0.0047 - mean_absolute_error: 0.0493WARNING:tensorflow:Early stopping conditioned on metric `val_loss` which is not available. Available metrics are: loss,mean_absolute_error\n",
      "35/35 [==============================] - 0s 4ms/step - loss: 0.0047 - mean_absolute_error: 0.0492\n",
      "Epoch 15/20\n",
      "34/35 [============================>.] - ETA: 0s - loss: 0.0047 - mean_absolute_error: 0.0490WARNING:tensorflow:Early stopping conditioned on metric `val_loss` which is not available. Available metrics are: loss,mean_absolute_error\n",
      "35/35 [==============================] - 0s 4ms/step - loss: 0.0047 - mean_absolute_error: 0.0492\n",
      "Epoch 16/20\n",
      "34/35 [============================>.] - ETA: 0s - loss: 0.0046 - mean_absolute_error: 0.0489WARNING:tensorflow:Early stopping conditioned on metric `val_loss` which is not available. Available metrics are: loss,mean_absolute_error\n",
      "35/35 [==============================] - 0s 4ms/step - loss: 0.0047 - mean_absolute_error: 0.0492\n",
      "Epoch 17/20\n",
      "34/35 [============================>.] - ETA: 0s - loss: 0.0047 - mean_absolute_error: 0.0492WARNING:tensorflow:Early stopping conditioned on metric `val_loss` which is not available. Available metrics are: loss,mean_absolute_error\n",
      "35/35 [==============================] - 0s 4ms/step - loss: 0.0047 - mean_absolute_error: 0.0492\n",
      "Epoch 18/20\n",
      "33/35 [===========================>..] - ETA: 0s - loss: 0.0047 - mean_absolute_error: 0.0491WARNING:tensorflow:Early stopping conditioned on metric `val_loss` which is not available. Available metrics are: loss,mean_absolute_error\n",
      "35/35 [==============================] - 0s 4ms/step - loss: 0.0047 - mean_absolute_error: 0.0492\n",
      "Epoch 19/20\n",
      "33/35 [===========================>..] - ETA: 0s - loss: 0.0047 - mean_absolute_error: 0.0492WARNING:tensorflow:Early stopping conditioned on metric `val_loss` which is not available. Available metrics are: loss,mean_absolute_error\n",
      "35/35 [==============================] - 0s 4ms/step - loss: 0.0047 - mean_absolute_error: 0.0492\n",
      "Epoch 20/20\n",
      "33/35 [===========================>..] - ETA: 0s - loss: 0.0046 - mean_absolute_error: 0.0488WARNING:tensorflow:Early stopping conditioned on metric `val_loss` which is not available. Available metrics are: loss,mean_absolute_error\n",
      "35/35 [==============================] - 0s 7ms/step - loss: 0.0047 - mean_absolute_error: 0.0492\n"
     ]
    }
   ],
   "source": [
    "history_b_w = compile_and_fit(baseline, w1)"
   ]
  },
  {
   "cell_type": "code",
   "execution_count": 86,
   "metadata": {},
   "outputs": [
    {
     "data": {
      "text/html": [
       "<div>\n",
       "<style scoped>\n",
       "    .dataframe tbody tr th:only-of-type {\n",
       "        vertical-align: middle;\n",
       "    }\n",
       "\n",
       "    .dataframe tbody tr th {\n",
       "        vertical-align: top;\n",
       "    }\n",
       "\n",
       "    .dataframe thead th {\n",
       "        text-align: right;\n",
       "    }\n",
       "</style>\n",
       "<table border=\"1\" class=\"dataframe\">\n",
       "  <thead>\n",
       "    <tr style=\"text-align: right;\">\n",
       "      <th></th>\n",
       "      <th>loss</th>\n",
       "      <th>mean_absolute_error</th>\n",
       "    </tr>\n",
       "  </thead>\n",
       "  <tbody>\n",
       "    <tr>\n",
       "      <th>0</th>\n",
       "      <td>0.004709</td>\n",
       "      <td>0.049164</td>\n",
       "    </tr>\n",
       "    <tr>\n",
       "      <th>1</th>\n",
       "      <td>0.004709</td>\n",
       "      <td>0.049164</td>\n",
       "    </tr>\n",
       "    <tr>\n",
       "      <th>2</th>\n",
       "      <td>0.004709</td>\n",
       "      <td>0.049164</td>\n",
       "    </tr>\n",
       "    <tr>\n",
       "      <th>3</th>\n",
       "      <td>0.004709</td>\n",
       "      <td>0.049164</td>\n",
       "    </tr>\n",
       "    <tr>\n",
       "      <th>4</th>\n",
       "      <td>0.004709</td>\n",
       "      <td>0.049164</td>\n",
       "    </tr>\n",
       "    <tr>\n",
       "      <th>5</th>\n",
       "      <td>0.004709</td>\n",
       "      <td>0.049164</td>\n",
       "    </tr>\n",
       "    <tr>\n",
       "      <th>6</th>\n",
       "      <td>0.004709</td>\n",
       "      <td>0.049164</td>\n",
       "    </tr>\n",
       "    <tr>\n",
       "      <th>7</th>\n",
       "      <td>0.004709</td>\n",
       "      <td>0.049164</td>\n",
       "    </tr>\n",
       "    <tr>\n",
       "      <th>8</th>\n",
       "      <td>0.004709</td>\n",
       "      <td>0.049164</td>\n",
       "    </tr>\n",
       "    <tr>\n",
       "      <th>9</th>\n",
       "      <td>0.004709</td>\n",
       "      <td>0.049164</td>\n",
       "    </tr>\n",
       "    <tr>\n",
       "      <th>10</th>\n",
       "      <td>0.004709</td>\n",
       "      <td>0.049164</td>\n",
       "    </tr>\n",
       "    <tr>\n",
       "      <th>11</th>\n",
       "      <td>0.004709</td>\n",
       "      <td>0.049164</td>\n",
       "    </tr>\n",
       "    <tr>\n",
       "      <th>12</th>\n",
       "      <td>0.004709</td>\n",
       "      <td>0.049164</td>\n",
       "    </tr>\n",
       "    <tr>\n",
       "      <th>13</th>\n",
       "      <td>0.004709</td>\n",
       "      <td>0.049164</td>\n",
       "    </tr>\n",
       "    <tr>\n",
       "      <th>14</th>\n",
       "      <td>0.004709</td>\n",
       "      <td>0.049164</td>\n",
       "    </tr>\n",
       "    <tr>\n",
       "      <th>15</th>\n",
       "      <td>0.004709</td>\n",
       "      <td>0.049164</td>\n",
       "    </tr>\n",
       "    <tr>\n",
       "      <th>16</th>\n",
       "      <td>0.004709</td>\n",
       "      <td>0.049164</td>\n",
       "    </tr>\n",
       "    <tr>\n",
       "      <th>17</th>\n",
       "      <td>0.004709</td>\n",
       "      <td>0.049164</td>\n",
       "    </tr>\n",
       "    <tr>\n",
       "      <th>18</th>\n",
       "      <td>0.004709</td>\n",
       "      <td>0.049164</td>\n",
       "    </tr>\n",
       "    <tr>\n",
       "      <th>19</th>\n",
       "      <td>0.004709</td>\n",
       "      <td>0.049164</td>\n",
       "    </tr>\n",
       "  </tbody>\n",
       "</table>\n",
       "</div>"
      ],
      "text/plain": [
       "        loss  mean_absolute_error\n",
       "0   0.004709             0.049164\n",
       "1   0.004709             0.049164\n",
       "2   0.004709             0.049164\n",
       "3   0.004709             0.049164\n",
       "4   0.004709             0.049164\n",
       "5   0.004709             0.049164\n",
       "6   0.004709             0.049164\n",
       "7   0.004709             0.049164\n",
       "8   0.004709             0.049164\n",
       "9   0.004709             0.049164\n",
       "10  0.004709             0.049164\n",
       "11  0.004709             0.049164\n",
       "12  0.004709             0.049164\n",
       "13  0.004709             0.049164\n",
       "14  0.004709             0.049164\n",
       "15  0.004709             0.049164\n",
       "16  0.004709             0.049164\n",
       "17  0.004709             0.049164\n",
       "18  0.004709             0.049164\n",
       "19  0.004709             0.049164"
      ]
     },
     "execution_count": 86,
     "metadata": {},
     "output_type": "execute_result"
    }
   ],
   "source": [
    "pd.DataFrame(history_b_w.history)"
   ]
  },
  {
   "cell_type": "code",
   "execution_count": 87,
   "metadata": {},
   "outputs": [],
   "source": [
    "\n",
    "#val_performance['Baseline'] = baseline.evaluate(w1.val)\n",
    "#performance['Baseline_w'] = baseline.evaluate(example_inputs,example_labels , verbose=0)"
   ]
  },
  {
   "cell_type": "code",
   "execution_count": 88,
   "metadata": {},
   "outputs": [],
   "source": [
    "#baseline.predict(example_inputs)"
   ]
  },
  {
   "cell_type": "code",
   "execution_count": 89,
   "metadata": {},
   "outputs": [
    {
     "data": {
      "text/plain": [
       "<MapDataset element_spec=(TensorSpec(shape=(None, 22, 50), dtype=tf.float32, name=None), TensorSpec(shape=(None, 1, 1), dtype=tf.float32, name=None))>"
      ]
     },
     "execution_count": 89,
     "metadata": {},
     "output_type": "execute_result"
    }
   ],
   "source": [
    "w1.train"
   ]
  },
  {
   "cell_type": "code",
   "execution_count": 90,
   "metadata": {},
   "outputs": [
    {
     "name": "stdout",
     "output_type": "stream",
     "text": [
      "Epoch 1/20\n",
      "20/35 [================>.............] - ETA: 0s - loss: 0.0094 - mean_absolute_error: 0.0772"
     ]
    },
    {
     "name": "stderr",
     "output_type": "stream",
     "text": [
      "2022-04-27 21:08:30.277544: I tensorflow/core/grappler/optimizers/custom_graph_optimizer_registry.cc:113] Plugin optimizer for device_type GPU is enabled.\n"
     ]
    },
    {
     "name": "stdout",
     "output_type": "stream",
     "text": [
      "30/35 [========================>.....] - ETA: 0s - loss: 0.0095 - mean_absolute_error: 0.0771WARNING:tensorflow:Early stopping conditioned on metric `val_loss` which is not available. Available metrics are: loss,mean_absolute_error\n",
      "35/35 [==============================] - 0s 6ms/step - loss: 0.0094 - mean_absolute_error: 0.0765\n",
      "Epoch 2/20\n",
      "30/35 [========================>.....] - ETA: 0s - loss: 0.0076 - mean_absolute_error: 0.0687WARNING:tensorflow:Early stopping conditioned on metric `val_loss` which is not available. Available metrics are: loss,mean_absolute_error\n",
      "35/35 [==============================] - 0s 8ms/step - loss: 0.0076 - mean_absolute_error: 0.0687\n",
      "Epoch 3/20\n",
      "32/35 [==========================>...] - ETA: 0s - loss: 0.0066 - mean_absolute_error: 0.0632WARNING:tensorflow:Early stopping conditioned on metric `val_loss` which is not available. Available metrics are: loss,mean_absolute_error\n",
      "35/35 [==============================] - 0s 6ms/step - loss: 0.0066 - mean_absolute_error: 0.0631\n",
      "Epoch 4/20\n",
      "29/35 [=======================>......] - ETA: 0s - loss: 0.0061 - mean_absolute_error: 0.0606WARNING:tensorflow:Early stopping conditioned on metric `val_loss` which is not available. Available metrics are: loss,mean_absolute_error\n",
      "35/35 [==============================] - 0s 6ms/step - loss: 0.0060 - mean_absolute_error: 0.0599\n",
      "Epoch 5/20\n",
      "32/35 [==========================>...] - ETA: 0s - loss: 0.0053 - mean_absolute_error: 0.0561WARNING:tensorflow:Early stopping conditioned on metric `val_loss` which is not available. Available metrics are: loss,mean_absolute_error\n",
      "35/35 [==============================] - 0s 6ms/step - loss: 0.0053 - mean_absolute_error: 0.0561\n",
      "Epoch 6/20\n",
      "32/35 [==========================>...] - ETA: 0s - loss: 0.0050 - mean_absolute_error: 0.0540WARNING:tensorflow:Early stopping conditioned on metric `val_loss` which is not available. Available metrics are: loss,mean_absolute_error\n",
      "35/35 [==============================] - 0s 6ms/step - loss: 0.0050 - mean_absolute_error: 0.0540\n",
      "Epoch 7/20\n",
      "32/35 [==========================>...] - ETA: 0s - loss: 0.0046 - mean_absolute_error: 0.0517WARNING:tensorflow:Early stopping conditioned on metric `val_loss` which is not available. Available metrics are: loss,mean_absolute_error\n",
      "35/35 [==============================] - 0s 6ms/step - loss: 0.0046 - mean_absolute_error: 0.0516\n",
      "Epoch 8/20\n",
      "33/35 [===========================>..] - ETA: 0s - loss: 0.0043 - mean_absolute_error: 0.0500WARNING:tensorflow:Early stopping conditioned on metric `val_loss` which is not available. Available metrics are: loss,mean_absolute_error\n",
      "35/35 [==============================] - 0s 5ms/step - loss: 0.0044 - mean_absolute_error: 0.0500\n",
      "Epoch 9/20\n",
      "34/35 [============================>.] - ETA: 0s - loss: 0.0041 - mean_absolute_error: 0.0483WARNING:tensorflow:Early stopping conditioned on metric `val_loss` which is not available. Available metrics are: loss,mean_absolute_error\n",
      "35/35 [==============================] - 0s 5ms/step - loss: 0.0041 - mean_absolute_error: 0.0483\n",
      "Epoch 10/20\n",
      "32/35 [==========================>...] - ETA: 0s - loss: 0.0038 - mean_absolute_error: 0.0464WARNING:tensorflow:Early stopping conditioned on metric `val_loss` which is not available. Available metrics are: loss,mean_absolute_error\n",
      "35/35 [==============================] - 0s 5ms/step - loss: 0.0038 - mean_absolute_error: 0.0465\n",
      "Epoch 11/20\n",
      "33/35 [===========================>..] - ETA: 0s - loss: 0.0037 - mean_absolute_error: 0.0454WARNING:tensorflow:Early stopping conditioned on metric `val_loss` which is not available. Available metrics are: loss,mean_absolute_error\n",
      "35/35 [==============================] - 0s 5ms/step - loss: 0.0037 - mean_absolute_error: 0.0458\n",
      "Epoch 12/20\n",
      "34/35 [============================>.] - ETA: 0s - loss: 0.0035 - mean_absolute_error: 0.0442WARNING:tensorflow:Early stopping conditioned on metric `val_loss` which is not available. Available metrics are: loss,mean_absolute_error\n",
      "35/35 [==============================] - 0s 5ms/step - loss: 0.0035 - mean_absolute_error: 0.0443\n",
      "Epoch 13/20\n",
      "34/35 [============================>.] - ETA: 0s - loss: 0.0034 - mean_absolute_error: 0.0431WARNING:tensorflow:Early stopping conditioned on metric `val_loss` which is not available. Available metrics are: loss,mean_absolute_error\n",
      "35/35 [==============================] - 0s 5ms/step - loss: 0.0034 - mean_absolute_error: 0.0431\n",
      "Epoch 14/20\n",
      "34/35 [============================>.] - ETA: 0s - loss: 0.0033 - mean_absolute_error: 0.0423WARNING:tensorflow:Early stopping conditioned on metric `val_loss` which is not available. Available metrics are: loss,mean_absolute_error\n",
      "35/35 [==============================] - 0s 5ms/step - loss: 0.0033 - mean_absolute_error: 0.0423\n",
      "Epoch 15/20\n",
      "33/35 [===========================>..] - ETA: 0s - loss: 0.0032 - mean_absolute_error: 0.0417WARNING:tensorflow:Early stopping conditioned on metric `val_loss` which is not available. Available metrics are: loss,mean_absolute_error\n",
      "35/35 [==============================] - 0s 5ms/step - loss: 0.0032 - mean_absolute_error: 0.0415\n",
      "Epoch 16/20\n",
      "33/35 [===========================>..] - ETA: 0s - loss: 0.0032 - mean_absolute_error: 0.0418WARNING:tensorflow:Early stopping conditioned on metric `val_loss` which is not available. Available metrics are: loss,mean_absolute_error\n",
      "35/35 [==============================] - 0s 6ms/step - loss: 0.0032 - mean_absolute_error: 0.0418\n",
      "Epoch 17/20\n",
      "33/35 [===========================>..] - ETA: 0s - loss: 0.0031 - mean_absolute_error: 0.0407WARNING:tensorflow:Early stopping conditioned on metric `val_loss` which is not available. Available metrics are: loss,mean_absolute_error\n",
      "35/35 [==============================] - 0s 5ms/step - loss: 0.0030 - mean_absolute_error: 0.0407\n",
      "Epoch 18/20\n",
      "33/35 [===========================>..] - ETA: 0s - loss: 0.0029 - mean_absolute_error: 0.0395WARNING:tensorflow:Early stopping conditioned on metric `val_loss` which is not available. Available metrics are: loss,mean_absolute_error\n",
      "35/35 [==============================] - 0s 5ms/step - loss: 0.0029 - mean_absolute_error: 0.0395\n",
      "Epoch 19/20\n",
      "33/35 [===========================>..] - ETA: 0s - loss: 0.0029 - mean_absolute_error: 0.0394WARNING:tensorflow:Early stopping conditioned on metric `val_loss` which is not available. Available metrics are: loss,mean_absolute_error\n",
      "35/35 [==============================] - 0s 5ms/step - loss: 0.0029 - mean_absolute_error: 0.0394\n",
      "Epoch 20/20\n",
      "33/35 [===========================>..] - ETA: 0s - loss: 0.0028 - mean_absolute_error: 0.0387WARNING:tensorflow:Early stopping conditioned on metric `val_loss` which is not available. Available metrics are: loss,mean_absolute_error\n",
      "35/35 [==============================] - 0s 6ms/step - loss: 0.0028 - mean_absolute_error: 0.0389\n"
     ]
    }
   ],
   "source": [
    "history_l_w = compile_and_fit(linear, w1)\n",
    "#performance['Linear_w'] = linear.evaluate(example_inputs,example_labels , verbose=0)"
   ]
  },
  {
   "cell_type": "code",
   "execution_count": 91,
   "metadata": {},
   "outputs": [
    {
     "data": {
      "text/html": [
       "<div>\n",
       "<style scoped>\n",
       "    .dataframe tbody tr th:only-of-type {\n",
       "        vertical-align: middle;\n",
       "    }\n",
       "\n",
       "    .dataframe tbody tr th {\n",
       "        vertical-align: top;\n",
       "    }\n",
       "\n",
       "    .dataframe thead th {\n",
       "        text-align: right;\n",
       "    }\n",
       "</style>\n",
       "<table border=\"1\" class=\"dataframe\">\n",
       "  <thead>\n",
       "    <tr style=\"text-align: right;\">\n",
       "      <th></th>\n",
       "      <th>loss</th>\n",
       "      <th>mean_absolute_error</th>\n",
       "    </tr>\n",
       "  </thead>\n",
       "  <tbody>\n",
       "    <tr>\n",
       "      <th>0</th>\n",
       "      <td>0.009353</td>\n",
       "      <td>0.076471</td>\n",
       "    </tr>\n",
       "    <tr>\n",
       "      <th>1</th>\n",
       "      <td>0.007635</td>\n",
       "      <td>0.068663</td>\n",
       "    </tr>\n",
       "    <tr>\n",
       "      <th>2</th>\n",
       "      <td>0.006577</td>\n",
       "      <td>0.063086</td>\n",
       "    </tr>\n",
       "    <tr>\n",
       "      <th>3</th>\n",
       "      <td>0.006000</td>\n",
       "      <td>0.059933</td>\n",
       "    </tr>\n",
       "    <tr>\n",
       "      <th>4</th>\n",
       "      <td>0.005321</td>\n",
       "      <td>0.056102</td>\n",
       "    </tr>\n",
       "    <tr>\n",
       "      <th>5</th>\n",
       "      <td>0.004996</td>\n",
       "      <td>0.053994</td>\n",
       "    </tr>\n",
       "    <tr>\n",
       "      <th>6</th>\n",
       "      <td>0.004588</td>\n",
       "      <td>0.051552</td>\n",
       "    </tr>\n",
       "    <tr>\n",
       "      <th>7</th>\n",
       "      <td>0.004360</td>\n",
       "      <td>0.050026</td>\n",
       "    </tr>\n",
       "    <tr>\n",
       "      <th>8</th>\n",
       "      <td>0.004113</td>\n",
       "      <td>0.048317</td>\n",
       "    </tr>\n",
       "    <tr>\n",
       "      <th>9</th>\n",
       "      <td>0.003842</td>\n",
       "      <td>0.046549</td>\n",
       "    </tr>\n",
       "    <tr>\n",
       "      <th>10</th>\n",
       "      <td>0.003736</td>\n",
       "      <td>0.045771</td>\n",
       "    </tr>\n",
       "    <tr>\n",
       "      <th>11</th>\n",
       "      <td>0.003525</td>\n",
       "      <td>0.044315</td>\n",
       "    </tr>\n",
       "    <tr>\n",
       "      <th>12</th>\n",
       "      <td>0.003377</td>\n",
       "      <td>0.043141</td>\n",
       "    </tr>\n",
       "    <tr>\n",
       "      <th>13</th>\n",
       "      <td>0.003280</td>\n",
       "      <td>0.042279</td>\n",
       "    </tr>\n",
       "    <tr>\n",
       "      <th>14</th>\n",
       "      <td>0.003170</td>\n",
       "      <td>0.041544</td>\n",
       "    </tr>\n",
       "    <tr>\n",
       "      <th>15</th>\n",
       "      <td>0.003197</td>\n",
       "      <td>0.041770</td>\n",
       "    </tr>\n",
       "    <tr>\n",
       "      <th>16</th>\n",
       "      <td>0.003042</td>\n",
       "      <td>0.040651</td>\n",
       "    </tr>\n",
       "    <tr>\n",
       "      <th>17</th>\n",
       "      <td>0.002927</td>\n",
       "      <td>0.039479</td>\n",
       "    </tr>\n",
       "    <tr>\n",
       "      <th>18</th>\n",
       "      <td>0.002900</td>\n",
       "      <td>0.039407</td>\n",
       "    </tr>\n",
       "    <tr>\n",
       "      <th>19</th>\n",
       "      <td>0.002827</td>\n",
       "      <td>0.038892</td>\n",
       "    </tr>\n",
       "  </tbody>\n",
       "</table>\n",
       "</div>"
      ],
      "text/plain": [
       "        loss  mean_absolute_error\n",
       "0   0.009353             0.076471\n",
       "1   0.007635             0.068663\n",
       "2   0.006577             0.063086\n",
       "3   0.006000             0.059933\n",
       "4   0.005321             0.056102\n",
       "5   0.004996             0.053994\n",
       "6   0.004588             0.051552\n",
       "7   0.004360             0.050026\n",
       "8   0.004113             0.048317\n",
       "9   0.003842             0.046549\n",
       "10  0.003736             0.045771\n",
       "11  0.003525             0.044315\n",
       "12  0.003377             0.043141\n",
       "13  0.003280             0.042279\n",
       "14  0.003170             0.041544\n",
       "15  0.003197             0.041770\n",
       "16  0.003042             0.040651\n",
       "17  0.002927             0.039479\n",
       "18  0.002900             0.039407\n",
       "19  0.002827             0.038892"
      ]
     },
     "execution_count": 91,
     "metadata": {},
     "output_type": "execute_result"
    }
   ],
   "source": [
    "pd.DataFrame(history_l_w.history)"
   ]
  },
  {
   "cell_type": "code",
   "execution_count": 92,
   "metadata": {},
   "outputs": [],
   "source": [
    "#plot_loss(history_l_w)"
   ]
  },
  {
   "cell_type": "code",
   "execution_count": 93,
   "metadata": {},
   "outputs": [],
   "source": [
    "for example_inputs, example_labels in w1.test.take(1):\n",
    "  print(f'Inputs shape (batch, time, features): {example_inputs.shape}')\n",
    "  print(type(example_inputs))\n",
    "  print(f'Labels shape (batch, time, features): {example_labels.shape}')"
   ]
  },
  {
   "cell_type": "code",
   "execution_count": 94,
   "metadata": {},
   "outputs": [
    {
     "name": "stdout",
     "output_type": "stream",
     "text": [
      "35/35 [==============================] - 0s 4ms/step - loss: 0.0029 - mean_absolute_error: 0.0395\n"
     ]
    },
    {
     "name": "stderr",
     "output_type": "stream",
     "text": [
      "2022-04-27 21:08:35.023171: I tensorflow/core/grappler/optimizers/custom_graph_optimizer_registry.cc:113] Plugin optimizer for device_type GPU is enabled.\n"
     ]
    }
   ],
   "source": [
    "train_performance['Linear_w'] = linear.evaluate(w1.train)\n",
    "#val_performance['Linear_w'] = linear.evaluate(w1.val)\n",
    "#performance['Linear_w'] = linear.evaluate(example_inputs,example_labels)\n",
    "#performance['Linear_w'] = linear.evaluate(w1.test)"
   ]
  },
  {
   "cell_type": "code",
   "execution_count": 95,
   "metadata": {},
   "outputs": [
    {
     "data": {
      "text/plain": [
       "{'Baseline_S': [0.03862706944346428, 0.16349749267101288],\n",
       " 'Linear_S': [0.11213571578264236, 0.2645963132381439],\n",
       " 'Dense_d_s': [0.05072940140962601, 0.1794167459011078]}"
      ]
     },
     "execution_count": 95,
     "metadata": {},
     "output_type": "execute_result"
    }
   ],
   "source": [
    "performance"
   ]
  },
  {
   "cell_type": "code",
   "execution_count": 96,
   "metadata": {},
   "outputs": [
    {
     "data": {
      "text/plain": [
       "\"x = np.arange(len(performance))\\nwidth = 0.3\\nmetric_name = 'mean_absolute_error'\\nmetric_index = linear.metrics_names.index('mean_absolute_error')\\nval_mae = [v[metric_index] for v in val_performance.values()]\\ntest_mae = [v[metric_index] for v in performance.values()]\\n\\nplt.ylabel('mean_absolute_error [T (degC), normalized]')\\nplt.bar(x , val_mae, width, label='Validation')\\nplt.bar(x , test_mae, width, label='Test')\\nplt.xticks(ticks=x, labels=performance.keys(),\\n           rotation=45)\\n_ = plt.legend()\""
      ]
     },
     "execution_count": 96,
     "metadata": {},
     "output_type": "execute_result"
    }
   ],
   "source": [
    "'''x = np.arange(len(performance))\n",
    "width = 0.3\n",
    "metric_name = 'mean_absolute_error'\n",
    "metric_index = linear.metrics_names.index('mean_absolute_error')\n",
    "val_mae = [v[metric_index] for v in val_performance.values()]\n",
    "test_mae = [v[metric_index] for v in performance.values()]\n",
    "\n",
    "plt.ylabel('mean_absolute_error [T (degC), normalized]')\n",
    "plt.bar(x , val_mae, width, label='Validation')\n",
    "plt.bar(x , test_mae, width, label='Test')\n",
    "plt.xticks(ticks=x, labels=performance.keys(),\n",
    "           rotation=45)\n",
    "_ = plt.legend()'''"
   ]
  },
  {
   "cell_type": "code",
   "execution_count": 97,
   "metadata": {},
   "outputs": [
    {
     "data": {
      "text/html": [
       "<div>\n",
       "<style scoped>\n",
       "    .dataframe tbody tr th:only-of-type {\n",
       "        vertical-align: middle;\n",
       "    }\n",
       "\n",
       "    .dataframe tbody tr th {\n",
       "        vertical-align: top;\n",
       "    }\n",
       "\n",
       "    .dataframe thead th {\n",
       "        text-align: right;\n",
       "    }\n",
       "</style>\n",
       "<table border=\"1\" class=\"dataframe\">\n",
       "  <thead>\n",
       "    <tr style=\"text-align: right;\">\n",
       "      <th></th>\n",
       "      <th>Mean Squared Error [ad_Close]</th>\n",
       "      <th>Mean Absolute error [ad_Close]</th>\n",
       "    </tr>\n",
       "  </thead>\n",
       "  <tbody>\n",
       "    <tr>\n",
       "      <th>Baseline_S</th>\n",
       "      <td>0.038627</td>\n",
       "      <td>0.163497</td>\n",
       "    </tr>\n",
       "    <tr>\n",
       "      <th>Linear_S</th>\n",
       "      <td>0.112136</td>\n",
       "      <td>0.264596</td>\n",
       "    </tr>\n",
       "    <tr>\n",
       "      <th>Dense_d_s</th>\n",
       "      <td>0.050729</td>\n",
       "      <td>0.179417</td>\n",
       "    </tr>\n",
       "  </tbody>\n",
       "</table>\n",
       "</div>"
      ],
      "text/plain": [
       "            Mean Squared Error [ad_Close]  Mean Absolute error [ad_Close]\n",
       "Baseline_S                       0.038627                        0.163497\n",
       "Linear_S                         0.112136                        0.264596\n",
       "Dense_d_s                        0.050729                        0.179417"
      ]
     },
     "execution_count": 97,
     "metadata": {},
     "output_type": "execute_result"
    }
   ],
   "source": [
    "pd.DataFrame(performance, index=['Mean Squared Error [ad_Close]', 'Mean Absolute error [ad_Close]']).T\n"
   ]
  }
 ],
 "metadata": {
  "interpreter": {
   "hash": "8e59dc4903522b6bd625aac9b906fbe96a3134871878cc11f65b8580a1e47af4"
  },
  "kernelspec": {
   "display_name": "Python 3.9.4 ('.venv': venv)",
   "language": "python",
   "name": "python3"
  },
  "language_info": {
   "codemirror_mode": {
    "name": "ipython",
    "version": 3
   },
   "file_extension": ".py",
   "mimetype": "text/x-python",
   "name": "python",
   "nbconvert_exporter": "python",
   "pygments_lexer": "ipython3",
   "version": "3.9.4"
  },
  "orig_nbformat": 4
 },
 "nbformat": 4,
 "nbformat_minor": 2
}
