{
 "cells": [
  {
   "cell_type": "code",
   "execution_count": 1,
   "metadata": {},
   "outputs": [],
   "source": [
    "import os\n",
    "import datetime\n",
    "\n",
    "import sys\n",
    "\n",
    "sys.path.append(\"..\")\n",
    "\n",
    "import IPython\n",
    "import IPython.display\n",
    "import matplotlib as mpl\n",
    "import matplotlib.pyplot as plt\n",
    "import numpy as np\n",
    "import pandas as pd\n",
    "import seaborn as sns\n",
    "import tensorflow as tf\n",
    "from tqdm import tqdm\n",
    "\n",
    "from sklearn.preprocessing import StandardScaler, MinMaxScaler\n",
    "from functions import df_security_code, missingValues\n",
    "\n",
    "import tensorflow as tf\n",
    "\n",
    "from tensorflow import keras\n",
    "#from tensorflow.keras import layers\n",
    "#from tensorflow.keras.layers.experimental import preprocessing\n",
    "\n",
    "mpl.rcParams['figure.figsize'] = (8, 6)\n",
    "mpl.rcParams['axes.grid'] = False"
   ]
  },
  {
   "cell_type": "markdown",
   "metadata": {},
   "source": [
    "# Data"
   ]
  },
  {
   "cell_type": "code",
   "execution_count": 2,
   "metadata": {},
   "outputs": [],
   "source": [
    "data = pd.read_csv('../data/curr_price_financial_fill.csv', parse_dates=['Date'],  index_col=[0])\n",
    "df = df_security_code(data)\n",
    "del data"
   ]
  },
  {
   "cell_type": "code",
   "execution_count": 3,
   "metadata": {},
   "outputs": [
    {
     "data": {
      "text/html": [
       "<div>\n",
       "<style scoped>\n",
       "    .dataframe tbody tr th:only-of-type {\n",
       "        vertical-align: middle;\n",
       "    }\n",
       "\n",
       "    .dataframe tbody tr th {\n",
       "        vertical-align: top;\n",
       "    }\n",
       "\n",
       "    .dataframe thead th {\n",
       "        text-align: right;\n",
       "    }\n",
       "</style>\n",
       "<table border=\"1\" class=\"dataframe\">\n",
       "  <thead>\n",
       "    <tr style=\"text-align: right;\">\n",
       "      <th></th>\n",
       "      <th>RowId</th>\n",
       "      <th>Date</th>\n",
       "      <th>SecuritiesCode</th>\n",
       "      <th>ExpectedDividend</th>\n",
       "      <th>SupervisionFlag</th>\n",
       "      <th>ad_Open</th>\n",
       "      <th>ad_High</th>\n",
       "      <th>ad_Low</th>\n",
       "      <th>ad_Close</th>\n",
       "      <th>ad_Volume</th>\n",
       "      <th>...</th>\n",
       "      <th>Month_sin</th>\n",
       "      <th>Month_cos</th>\n",
       "      <th>Year_sin</th>\n",
       "      <th>Year_cos</th>\n",
       "      <th>Profit</th>\n",
       "      <th>NetSales</th>\n",
       "      <th>margin</th>\n",
       "      <th>win_quarter_growth</th>\n",
       "      <th>rev_quarter_growth</th>\n",
       "      <th>margin_growth</th>\n",
       "    </tr>\n",
       "  </thead>\n",
       "  <tbody>\n",
       "    <tr>\n",
       "      <th>0</th>\n",
       "      <td>20170104_7203</td>\n",
       "      <td>2017-01-04</td>\n",
       "      <td>7203</td>\n",
       "      <td>0.0</td>\n",
       "      <td>0</td>\n",
       "      <td>7010.0</td>\n",
       "      <td>7103.0</td>\n",
       "      <td>6975.0</td>\n",
       "      <td>7097.0</td>\n",
       "      <td>9547600.0</td>\n",
       "      <td>...</td>\n",
       "      <td>0.046905</td>\n",
       "      <td>-0.998899</td>\n",
       "      <td>0.061933</td>\n",
       "      <td>0.998080</td>\n",
       "      <td>NaN</td>\n",
       "      <td>NaN</td>\n",
       "      <td>NaN</td>\n",
       "      <td>NaN</td>\n",
       "      <td>NaN</td>\n",
       "      <td>NaN</td>\n",
       "    </tr>\n",
       "    <tr>\n",
       "      <th>1</th>\n",
       "      <td>20170105_7203</td>\n",
       "      <td>2017-01-05</td>\n",
       "      <td>7203</td>\n",
       "      <td>0.0</td>\n",
       "      <td>0</td>\n",
       "      <td>7090.0</td>\n",
       "      <td>7091.0</td>\n",
       "      <td>7023.0</td>\n",
       "      <td>7049.0</td>\n",
       "      <td>7644000.0</td>\n",
       "      <td>...</td>\n",
       "      <td>-0.158971</td>\n",
       "      <td>-0.987283</td>\n",
       "      <td>0.079093</td>\n",
       "      <td>0.996867</td>\n",
       "      <td>NaN</td>\n",
       "      <td>NaN</td>\n",
       "      <td>NaN</td>\n",
       "      <td>NaN</td>\n",
       "      <td>NaN</td>\n",
       "      <td>NaN</td>\n",
       "    </tr>\n",
       "  </tbody>\n",
       "</table>\n",
       "<p>2 rows × 63 columns</p>\n",
       "</div>"
      ],
      "text/plain": [
       "           RowId       Date  SecuritiesCode  ExpectedDividend  \\\n",
       "0  20170104_7203 2017-01-04            7203               0.0   \n",
       "1  20170105_7203 2017-01-05            7203               0.0   \n",
       "\n",
       "   SupervisionFlag  ad_Open  ad_High  ad_Low  ad_Close  ad_Volume  ...  \\\n",
       "0                0   7010.0   7103.0  6975.0    7097.0  9547600.0  ...   \n",
       "1                0   7090.0   7091.0  7023.0    7049.0  7644000.0  ...   \n",
       "\n",
       "   Month_sin  Month_cos  Year_sin  Year_cos  Profit  NetSales  margin  \\\n",
       "0   0.046905  -0.998899  0.061933  0.998080     NaN       NaN     NaN   \n",
       "1  -0.158971  -0.987283  0.079093  0.996867     NaN       NaN     NaN   \n",
       "\n",
       "   win_quarter_growth  rev_quarter_growth  margin_growth  \n",
       "0                 NaN                 NaN            NaN  \n",
       "1                 NaN                 NaN            NaN  \n",
       "\n",
       "[2 rows x 63 columns]"
      ]
     },
     "execution_count": 3,
     "metadata": {},
     "output_type": "execute_result"
    }
   ],
   "source": [
    "df.head(2)"
   ]
  },
  {
   "cell_type": "code",
   "execution_count": 4,
   "metadata": {},
   "outputs": [],
   "source": [
    "df.columns\n",
    "df = df.iloc[:,5:]\n",
    "df.drop(['margin_growth', 'win_quarter_growth', 'margin', 'NetSales', 'Profit',\n",
    "       'Day_cos', 'Year', 'rev_quarter_growth'], axis = 1, inplace=True)"
   ]
  },
  {
   "cell_type": "code",
   "execution_count": 5,
   "metadata": {},
   "outputs": [
    {
     "data": {
      "text/html": [
       "<div>\n",
       "<style scoped>\n",
       "    .dataframe tbody tr th:only-of-type {\n",
       "        vertical-align: middle;\n",
       "    }\n",
       "\n",
       "    .dataframe tbody tr th {\n",
       "        vertical-align: top;\n",
       "    }\n",
       "\n",
       "    .dataframe thead th {\n",
       "        text-align: right;\n",
       "    }\n",
       "</style>\n",
       "<table border=\"1\" class=\"dataframe\">\n",
       "  <thead>\n",
       "    <tr style=\"text-align: right;\">\n",
       "      <th></th>\n",
       "      <th>ad_Open</th>\n",
       "      <th>ad_High</th>\n",
       "      <th>ad_Low</th>\n",
       "      <th>ad_Close</th>\n",
       "      <th>ad_Volume</th>\n",
       "      <th>ad_Target</th>\n",
       "      <th>ad_Close_lag1</th>\n",
       "      <th>ad_Close_sma10</th>\n",
       "      <th>logprice_ad_Close</th>\n",
       "      <th>detrend_ad_Close</th>\n",
       "      <th>...</th>\n",
       "      <th>macd_s</th>\n",
       "      <th>Day</th>\n",
       "      <th>Month</th>\n",
       "      <th>week</th>\n",
       "      <th>Volatility_week</th>\n",
       "      <th>Day_sin</th>\n",
       "      <th>Month_sin</th>\n",
       "      <th>Month_cos</th>\n",
       "      <th>Year_sin</th>\n",
       "      <th>Year_cos</th>\n",
       "    </tr>\n",
       "  </thead>\n",
       "  <tbody>\n",
       "    <tr>\n",
       "      <th>0</th>\n",
       "      <td>7010.0</td>\n",
       "      <td>7103.0</td>\n",
       "      <td>6975.0</td>\n",
       "      <td>7097.0</td>\n",
       "      <td>9547600.0</td>\n",
       "      <td>-0.016882</td>\n",
       "      <td>NaN</td>\n",
       "      <td>NaN</td>\n",
       "      <td>8.867427</td>\n",
       "      <td>7097.0</td>\n",
       "      <td>...</td>\n",
       "      <td>NaN</td>\n",
       "      <td>4.0</td>\n",
       "      <td>1.0</td>\n",
       "      <td>1.0</td>\n",
       "      <td>1.619015</td>\n",
       "      <td>-1.405899e-12</td>\n",
       "      <td>0.046905</td>\n",
       "      <td>-0.998899</td>\n",
       "      <td>0.061933</td>\n",
       "      <td>0.998080</td>\n",
       "    </tr>\n",
       "    <tr>\n",
       "      <th>1</th>\n",
       "      <td>7090.0</td>\n",
       "      <td>7091.0</td>\n",
       "      <td>7023.0</td>\n",
       "      <td>7049.0</td>\n",
       "      <td>7644000.0</td>\n",
       "      <td>-0.009957</td>\n",
       "      <td>7097.0</td>\n",
       "      <td>NaN</td>\n",
       "      <td>8.860641</td>\n",
       "      <td>7049.0</td>\n",
       "      <td>...</td>\n",
       "      <td>NaN</td>\n",
       "      <td>5.0</td>\n",
       "      <td>1.0</td>\n",
       "      <td>1.0</td>\n",
       "      <td>1.619015</td>\n",
       "      <td>-1.165928e-11</td>\n",
       "      <td>-0.158971</td>\n",
       "      <td>-0.987283</td>\n",
       "      <td>0.079093</td>\n",
       "      <td>0.996867</td>\n",
       "    </tr>\n",
       "  </tbody>\n",
       "</table>\n",
       "<p>2 rows × 50 columns</p>\n",
       "</div>"
      ],
      "text/plain": [
       "   ad_Open  ad_High  ad_Low  ad_Close  ad_Volume  ad_Target  ad_Close_lag1  \\\n",
       "0   7010.0   7103.0  6975.0    7097.0  9547600.0  -0.016882            NaN   \n",
       "1   7090.0   7091.0  7023.0    7049.0  7644000.0  -0.009957         7097.0   \n",
       "\n",
       "   ad_Close_sma10  logprice_ad_Close  detrend_ad_Close  ...  macd_s  Day  \\\n",
       "0             NaN           8.867427            7097.0  ...     NaN  4.0   \n",
       "1             NaN           8.860641            7049.0  ...     NaN  5.0   \n",
       "\n",
       "   Month  week  Volatility_week       Day_sin  Month_sin  Month_cos  Year_sin  \\\n",
       "0    1.0   1.0         1.619015 -1.405899e-12   0.046905  -0.998899  0.061933   \n",
       "1    1.0   1.0         1.619015 -1.165928e-11  -0.158971  -0.987283  0.079093   \n",
       "\n",
       "   Year_cos  \n",
       "0  0.998080  \n",
       "1  0.996867  \n",
       "\n",
       "[2 rows x 50 columns]"
      ]
     },
     "execution_count": 5,
     "metadata": {},
     "output_type": "execute_result"
    }
   ],
   "source": [
    "df.head(2)"
   ]
  },
  {
   "cell_type": "markdown",
   "metadata": {},
   "source": [
    "# Preparation for modelling"
   ]
  },
  {
   "cell_type": "markdown",
   "metadata": {},
   "source": [
    "## - Train Test Split\n"
   ]
  },
  {
   "cell_type": "code",
   "execution_count": 6,
   "metadata": {},
   "outputs": [],
   "source": [
    "def split_train_val_test(df, split=22):\n",
    "    df.dropna(inplace=True)\n",
    "    df_train =  df[:- 2*split]\n",
    "    df_val = df[- 2*split : - split]\n",
    "    df_test = df[- split : ]\n",
    "    #\n",
    "\n",
    "    #df_train =  df[:(len(df)-2*split)]\n",
    "    #df_val = df[(len(df)-2*split):(len(df)-split)]\n",
    "    #df_test =  df[(len(df)-split):]\n",
    "\n",
    "\n",
    "\n",
    "\n",
    "    return df_train, df_val, df_test"
   ]
  },
  {
   "cell_type": "code",
   "execution_count": 7,
   "metadata": {},
   "outputs": [
    {
     "name": "stdout",
     "output_type": "stream",
     "text": [
      "(1169, 50)\n",
      "(1125, 50)\n",
      "(22, 50)\n",
      "(22, 50)\n"
     ]
    }
   ],
   "source": [
    "train_data, val_data, test_data = split_train_val_test(df=df)\n",
    "print(df.shape)\n",
    "print(train_data.shape)\n",
    "print(val_data.shape)\n",
    "print(test_data.shape)"
   ]
  },
  {
   "cell_type": "code",
   "execution_count": 8,
   "metadata": {},
   "outputs": [],
   "source": [
    "#val_data.describe().T"
   ]
  },
  {
   "cell_type": "markdown",
   "metadata": {},
   "source": [
    "## - Scaling"
   ]
  },
  {
   "cell_type": "code",
   "execution_count": 9,
   "metadata": {},
   "outputs": [],
   "source": [
    "def scaling_df(df):\n",
    "\n",
    "    scaler = StandardScaler()\n",
    "    scaler2 = MinMaxScaler()\n",
    "    df_scaled = scaler.fit_transform(df)\n",
    "    df_scaled = scaler2.fit_transform(df_scaled)\n",
    "    df_scaled = pd.DataFrame(df_scaled)\n",
    "    df_scaled.columns = df.columns\n",
    "    \n",
    "    #df_mean = df.mean()\n",
    "    #df_std = df.std()\n",
    "\n",
    "    #df_scaled = (df-df_mean) / df_std \n",
    "    \n",
    "    return df_scaled"
   ]
  },
  {
   "cell_type": "code",
   "execution_count": 10,
   "metadata": {},
   "outputs": [
    {
     "name": "stdout",
     "output_type": "stream",
     "text": [
      "(1125, 50)\n",
      "(22, 50)\n",
      "(22, 50)\n"
     ]
    }
   ],
   "source": [
    "train_df = scaling_df(train_data)\n",
    "val_df = scaling_df(val_data)\n",
    "test_df = scaling_df(test_data)\n",
    "\n",
    "print(train_df.shape)\n",
    "print(val_df.shape)\n",
    "print(test_df.shape)"
   ]
  },
  {
   "cell_type": "code",
   "execution_count": 11,
   "metadata": {},
   "outputs": [
    {
     "data": {
      "text/plain": [
       "count    22.000000\n",
       "mean      0.639177\n",
       "std       0.255075\n",
       "min       0.000000\n",
       "25%       0.531548\n",
       "50%       0.688095\n",
       "75%       0.779167\n",
       "max       1.000000\n",
       "Name: ad_Close, dtype: float64"
      ]
     },
     "execution_count": 11,
     "metadata": {},
     "output_type": "execute_result"
    }
   ],
   "source": [
    "val_df.ad_Close.describe()"
   ]
  },
  {
   "cell_type": "code",
   "execution_count": 12,
   "metadata": {},
   "outputs": [],
   "source": [
    "#sns.histplot(val_df.ad_Close, bins=10)"
   ]
  },
  {
   "cell_type": "code",
   "execution_count": 13,
   "metadata": {},
   "outputs": [
    {
     "data": {
      "text/plain": [
       "0.6391774891774893"
      ]
     },
     "execution_count": 13,
     "metadata": {},
     "output_type": "execute_result"
    }
   ],
   "source": [
    "val_df.ad_Close.mean()"
   ]
  },
  {
   "cell_type": "code",
   "execution_count": 14,
   "metadata": {},
   "outputs": [
    {
     "data": {
      "text/html": [
       "<div>\n",
       "<style scoped>\n",
       "    .dataframe tbody tr th:only-of-type {\n",
       "        vertical-align: middle;\n",
       "    }\n",
       "\n",
       "    .dataframe tbody tr th {\n",
       "        vertical-align: top;\n",
       "    }\n",
       "\n",
       "    .dataframe thead th {\n",
       "        text-align: right;\n",
       "    }\n",
       "</style>\n",
       "<table border=\"1\" class=\"dataframe\">\n",
       "  <thead>\n",
       "    <tr style=\"text-align: right;\">\n",
       "      <th></th>\n",
       "      <th>count</th>\n",
       "      <th>mean</th>\n",
       "      <th>std</th>\n",
       "      <th>min</th>\n",
       "      <th>25%</th>\n",
       "      <th>50%</th>\n",
       "      <th>75%</th>\n",
       "      <th>max</th>\n",
       "    </tr>\n",
       "  </thead>\n",
       "  <tbody>\n",
       "    <tr>\n",
       "      <th>Month</th>\n",
       "      <td>22.0</td>\n",
       "      <td>0.045455</td>\n",
       "      <td>0.213201</td>\n",
       "      <td>0.0</td>\n",
       "      <td>0.000000</td>\n",
       "      <td>0.000000</td>\n",
       "      <td>0.000000</td>\n",
       "      <td>1.0</td>\n",
       "    </tr>\n",
       "    <tr>\n",
       "      <th>ad_High_lag1</th>\n",
       "      <td>22.0</td>\n",
       "      <td>0.565073</td>\n",
       "      <td>0.235605</td>\n",
       "      <td>0.0</td>\n",
       "      <td>0.521226</td>\n",
       "      <td>0.593160</td>\n",
       "      <td>0.668042</td>\n",
       "      <td>1.0</td>\n",
       "    </tr>\n",
       "    <tr>\n",
       "      <th>ad_Open_lag1</th>\n",
       "      <td>22.0</td>\n",
       "      <td>0.535439</td>\n",
       "      <td>0.235689</td>\n",
       "      <td>0.0</td>\n",
       "      <td>0.396186</td>\n",
       "      <td>0.576271</td>\n",
       "      <td>0.683263</td>\n",
       "      <td>1.0</td>\n",
       "    </tr>\n",
       "    <tr>\n",
       "      <th>error_ad_High</th>\n",
       "      <td>22.0</td>\n",
       "      <td>0.592587</td>\n",
       "      <td>0.242696</td>\n",
       "      <td>0.0</td>\n",
       "      <td>0.485026</td>\n",
       "      <td>0.617833</td>\n",
       "      <td>0.753817</td>\n",
       "      <td>1.0</td>\n",
       "    </tr>\n",
       "    <tr>\n",
       "      <th>error_ad_Close</th>\n",
       "      <td>22.0</td>\n",
       "      <td>0.627733</td>\n",
       "      <td>0.247229</td>\n",
       "      <td>0.0</td>\n",
       "      <td>0.530651</td>\n",
       "      <td>0.658764</td>\n",
       "      <td>0.745712</td>\n",
       "      <td>1.0</td>\n",
       "    </tr>\n",
       "    <tr>\n",
       "      <th>logprice_ad_High</th>\n",
       "      <td>22.0</td>\n",
       "      <td>0.642765</td>\n",
       "      <td>0.253299</td>\n",
       "      <td>0.0</td>\n",
       "      <td>0.605412</td>\n",
       "      <td>0.686303</td>\n",
       "      <td>0.769862</td>\n",
       "      <td>1.0</td>\n",
       "    </tr>\n",
       "    <tr>\n",
       "      <th>ad_High</th>\n",
       "      <td>22.0</td>\n",
       "      <td>0.634775</td>\n",
       "      <td>0.253702</td>\n",
       "      <td>0.0</td>\n",
       "      <td>0.594086</td>\n",
       "      <td>0.676075</td>\n",
       "      <td>0.761425</td>\n",
       "      <td>1.0</td>\n",
       "    </tr>\n",
       "    <tr>\n",
       "      <th>detrend_ad_High</th>\n",
       "      <td>22.0</td>\n",
       "      <td>0.634775</td>\n",
       "      <td>0.253702</td>\n",
       "      <td>0.0</td>\n",
       "      <td>0.594086</td>\n",
       "      <td>0.676075</td>\n",
       "      <td>0.761425</td>\n",
       "      <td>1.0</td>\n",
       "    </tr>\n",
       "    <tr>\n",
       "      <th>ad_Volume</th>\n",
       "      <td>22.0</td>\n",
       "      <td>0.292597</td>\n",
       "      <td>0.253905</td>\n",
       "      <td>0.0</td>\n",
       "      <td>0.104625</td>\n",
       "      <td>0.225019</td>\n",
       "      <td>0.420702</td>\n",
       "      <td>1.0</td>\n",
       "    </tr>\n",
       "    <tr>\n",
       "      <th>error_ad_Open</th>\n",
       "      <td>22.0</td>\n",
       "      <td>0.595259</td>\n",
       "      <td>0.254375</td>\n",
       "      <td>0.0</td>\n",
       "      <td>0.431097</td>\n",
       "      <td>0.620798</td>\n",
       "      <td>0.743097</td>\n",
       "      <td>1.0</td>\n",
       "    </tr>\n",
       "    <tr>\n",
       "      <th>logprice_ad_Close</th>\n",
       "      <td>22.0</td>\n",
       "      <td>0.648201</td>\n",
       "      <td>0.254460</td>\n",
       "      <td>0.0</td>\n",
       "      <td>0.544871</td>\n",
       "      <td>0.699531</td>\n",
       "      <td>0.788277</td>\n",
       "      <td>1.0</td>\n",
       "    </tr>\n",
       "    <tr>\n",
       "      <th>detrend_ad_Close</th>\n",
       "      <td>22.0</td>\n",
       "      <td>0.639177</td>\n",
       "      <td>0.255075</td>\n",
       "      <td>0.0</td>\n",
       "      <td>0.531548</td>\n",
       "      <td>0.688095</td>\n",
       "      <td>0.779167</td>\n",
       "      <td>1.0</td>\n",
       "    </tr>\n",
       "    <tr>\n",
       "      <th>ad_Close</th>\n",
       "      <td>22.0</td>\n",
       "      <td>0.639177</td>\n",
       "      <td>0.255075</td>\n",
       "      <td>0.0</td>\n",
       "      <td>0.531548</td>\n",
       "      <td>0.688095</td>\n",
       "      <td>0.779167</td>\n",
       "      <td>1.0</td>\n",
       "    </tr>\n",
       "    <tr>\n",
       "      <th>error_ad_Low</th>\n",
       "      <td>22.0</td>\n",
       "      <td>0.608724</td>\n",
       "      <td>0.255505</td>\n",
       "      <td>0.0</td>\n",
       "      <td>0.525540</td>\n",
       "      <td>0.655668</td>\n",
       "      <td>0.743730</td>\n",
       "      <td>1.0</td>\n",
       "    </tr>\n",
       "    <tr>\n",
       "      <th>ad_Close_lag1</th>\n",
       "      <td>22.0</td>\n",
       "      <td>0.659773</td>\n",
       "      <td>0.256032</td>\n",
       "      <td>0.0</td>\n",
       "      <td>0.558125</td>\n",
       "      <td>0.722500</td>\n",
       "      <td>0.809375</td>\n",
       "      <td>1.0</td>\n",
       "    </tr>\n",
       "    <tr>\n",
       "      <th>ad_Target</th>\n",
       "      <td>22.0</td>\n",
       "      <td>0.542215</td>\n",
       "      <td>0.256845</td>\n",
       "      <td>0.0</td>\n",
       "      <td>0.431427</td>\n",
       "      <td>0.550055</td>\n",
       "      <td>0.720237</td>\n",
       "      <td>1.0</td>\n",
       "    </tr>\n",
       "    <tr>\n",
       "      <th>season_ad_Open</th>\n",
       "      <td>22.0</td>\n",
       "      <td>0.603652</td>\n",
       "      <td>0.262454</td>\n",
       "      <td>0.0</td>\n",
       "      <td>0.438947</td>\n",
       "      <td>0.608728</td>\n",
       "      <td>0.800434</td>\n",
       "      <td>1.0</td>\n",
       "    </tr>\n",
       "    <tr>\n",
       "      <th>logprice_ad_Open</th>\n",
       "      <td>22.0</td>\n",
       "      <td>0.647018</td>\n",
       "      <td>0.264066</td>\n",
       "      <td>0.0</td>\n",
       "      <td>0.495453</td>\n",
       "      <td>0.713078</td>\n",
       "      <td>0.839999</td>\n",
       "      <td>1.0</td>\n",
       "    </tr>\n",
       "    <tr>\n",
       "      <th>RSI</th>\n",
       "      <td>22.0</td>\n",
       "      <td>0.643179</td>\n",
       "      <td>0.264775</td>\n",
       "      <td>0.0</td>\n",
       "      <td>0.491914</td>\n",
       "      <td>0.721260</td>\n",
       "      <td>0.781760</td>\n",
       "      <td>1.0</td>\n",
       "    </tr>\n",
       "    <tr>\n",
       "      <th>ad_Open</th>\n",
       "      <td>22.0</td>\n",
       "      <td>0.638948</td>\n",
       "      <td>0.265083</td>\n",
       "      <td>0.0</td>\n",
       "      <td>0.483204</td>\n",
       "      <td>0.702842</td>\n",
       "      <td>0.833333</td>\n",
       "      <td>1.0</td>\n",
       "    </tr>\n",
       "    <tr>\n",
       "      <th>detrend_ad_Open</th>\n",
       "      <td>22.0</td>\n",
       "      <td>0.638948</td>\n",
       "      <td>0.265083</td>\n",
       "      <td>0.0</td>\n",
       "      <td>0.483204</td>\n",
       "      <td>0.702842</td>\n",
       "      <td>0.833333</td>\n",
       "      <td>1.0</td>\n",
       "    </tr>\n",
       "    <tr>\n",
       "      <th>season_ad_High</th>\n",
       "      <td>22.0</td>\n",
       "      <td>0.633528</td>\n",
       "      <td>0.265221</td>\n",
       "      <td>0.0</td>\n",
       "      <td>0.507835</td>\n",
       "      <td>0.687373</td>\n",
       "      <td>0.819499</td>\n",
       "      <td>1.0</td>\n",
       "    </tr>\n",
       "    <tr>\n",
       "      <th>macd</th>\n",
       "      <td>22.0</td>\n",
       "      <td>0.522256</td>\n",
       "      <td>0.265521</td>\n",
       "      <td>0.0</td>\n",
       "      <td>0.345361</td>\n",
       "      <td>0.587055</td>\n",
       "      <td>0.716947</td>\n",
       "      <td>1.0</td>\n",
       "    </tr>\n",
       "    <tr>\n",
       "      <th>ad_Low_lag1</th>\n",
       "      <td>22.0</td>\n",
       "      <td>0.649148</td>\n",
       "      <td>0.266098</td>\n",
       "      <td>0.0</td>\n",
       "      <td>0.530048</td>\n",
       "      <td>0.729567</td>\n",
       "      <td>0.795673</td>\n",
       "      <td>1.0</td>\n",
       "    </tr>\n",
       "    <tr>\n",
       "      <th>week</th>\n",
       "      <td>22.0</td>\n",
       "      <td>0.500000</td>\n",
       "      <td>0.267261</td>\n",
       "      <td>0.0</td>\n",
       "      <td>0.250000</td>\n",
       "      <td>0.500000</td>\n",
       "      <td>0.750000</td>\n",
       "      <td>1.0</td>\n",
       "    </tr>\n",
       "    <tr>\n",
       "      <th>logprice_ad_Low</th>\n",
       "      <td>22.0</td>\n",
       "      <td>0.662326</td>\n",
       "      <td>0.270511</td>\n",
       "      <td>0.0</td>\n",
       "      <td>0.543504</td>\n",
       "      <td>0.740053</td>\n",
       "      <td>0.804291</td>\n",
       "      <td>1.0</td>\n",
       "    </tr>\n",
       "    <tr>\n",
       "      <th>detrend_ad_Low</th>\n",
       "      <td>22.0</td>\n",
       "      <td>0.653955</td>\n",
       "      <td>0.271278</td>\n",
       "      <td>0.0</td>\n",
       "      <td>0.530048</td>\n",
       "      <td>0.729567</td>\n",
       "      <td>0.795673</td>\n",
       "      <td>1.0</td>\n",
       "    </tr>\n",
       "    <tr>\n",
       "      <th>ad_Low</th>\n",
       "      <td>22.0</td>\n",
       "      <td>0.653955</td>\n",
       "      <td>0.271278</td>\n",
       "      <td>0.0</td>\n",
       "      <td>0.530048</td>\n",
       "      <td>0.729567</td>\n",
       "      <td>0.795673</td>\n",
       "      <td>1.0</td>\n",
       "    </tr>\n",
       "    <tr>\n",
       "      <th>Return</th>\n",
       "      <td>22.0</td>\n",
       "      <td>0.514173</td>\n",
       "      <td>0.271649</td>\n",
       "      <td>0.0</td>\n",
       "      <td>0.267810</td>\n",
       "      <td>0.525083</td>\n",
       "      <td>0.720237</td>\n",
       "      <td>1.0</td>\n",
       "    </tr>\n",
       "    <tr>\n",
       "      <th>season_ad_Close</th>\n",
       "      <td>22.0</td>\n",
       "      <td>0.617796</td>\n",
       "      <td>0.276777</td>\n",
       "      <td>0.0</td>\n",
       "      <td>0.393876</td>\n",
       "      <td>0.606422</td>\n",
       "      <td>0.865694</td>\n",
       "      <td>1.0</td>\n",
       "    </tr>\n",
       "    <tr>\n",
       "      <th>ad_Volume_lag1</th>\n",
       "      <td>22.0</td>\n",
       "      <td>0.310636</td>\n",
       "      <td>0.282491</td>\n",
       "      <td>0.0</td>\n",
       "      <td>0.104625</td>\n",
       "      <td>0.225019</td>\n",
       "      <td>0.420702</td>\n",
       "      <td>1.0</td>\n",
       "    </tr>\n",
       "    <tr>\n",
       "      <th>macd_s</th>\n",
       "      <td>22.0</td>\n",
       "      <td>0.343222</td>\n",
       "      <td>0.282886</td>\n",
       "      <td>0.0</td>\n",
       "      <td>0.122167</td>\n",
       "      <td>0.358622</td>\n",
       "      <td>0.384241</td>\n",
       "      <td>1.0</td>\n",
       "    </tr>\n",
       "    <tr>\n",
       "      <th>trend_ad_Open</th>\n",
       "      <td>22.0</td>\n",
       "      <td>0.272905</td>\n",
       "      <td>0.283283</td>\n",
       "      <td>0.0</td>\n",
       "      <td>0.055437</td>\n",
       "      <td>0.215995</td>\n",
       "      <td>0.288841</td>\n",
       "      <td>1.0</td>\n",
       "    </tr>\n",
       "    <tr>\n",
       "      <th>Day_sin</th>\n",
       "      <td>22.0</td>\n",
       "      <td>0.402090</td>\n",
       "      <td>0.287296</td>\n",
       "      <td>0.0</td>\n",
       "      <td>0.177323</td>\n",
       "      <td>0.353200</td>\n",
       "      <td>0.566139</td>\n",
       "      <td>1.0</td>\n",
       "    </tr>\n",
       "    <tr>\n",
       "      <th>macd_h</th>\n",
       "      <td>22.0</td>\n",
       "      <td>0.622510</td>\n",
       "      <td>0.288169</td>\n",
       "      <td>0.0</td>\n",
       "      <td>0.512077</td>\n",
       "      <td>0.699827</td>\n",
       "      <td>0.803222</td>\n",
       "      <td>1.0</td>\n",
       "    </tr>\n",
       "    <tr>\n",
       "      <th>trend_ad_High</th>\n",
       "      <td>22.0</td>\n",
       "      <td>0.276518</td>\n",
       "      <td>0.289388</td>\n",
       "      <td>0.0</td>\n",
       "      <td>0.055288</td>\n",
       "      <td>0.214456</td>\n",
       "      <td>0.302077</td>\n",
       "      <td>1.0</td>\n",
       "    </tr>\n",
       "    <tr>\n",
       "      <th>season_ad_Low</th>\n",
       "      <td>22.0</td>\n",
       "      <td>0.528075</td>\n",
       "      <td>0.290095</td>\n",
       "      <td>0.0</td>\n",
       "      <td>0.375305</td>\n",
       "      <td>0.580743</td>\n",
       "      <td>0.691645</td>\n",
       "      <td>1.0</td>\n",
       "    </tr>\n",
       "    <tr>\n",
       "      <th>trend_ad_Low</th>\n",
       "      <td>22.0</td>\n",
       "      <td>0.242594</td>\n",
       "      <td>0.294079</td>\n",
       "      <td>0.0</td>\n",
       "      <td>0.041094</td>\n",
       "      <td>0.136251</td>\n",
       "      <td>0.246513</td>\n",
       "      <td>1.0</td>\n",
       "    </tr>\n",
       "    <tr>\n",
       "      <th>Year_cos</th>\n",
       "      <td>22.0</td>\n",
       "      <td>0.512006</td>\n",
       "      <td>0.295538</td>\n",
       "      <td>0.0</td>\n",
       "      <td>0.261134</td>\n",
       "      <td>0.517777</td>\n",
       "      <td>0.765493</td>\n",
       "      <td>1.0</td>\n",
       "    </tr>\n",
       "    <tr>\n",
       "      <th>trend_ad_Close</th>\n",
       "      <td>22.0</td>\n",
       "      <td>0.253521</td>\n",
       "      <td>0.296131</td>\n",
       "      <td>0.0</td>\n",
       "      <td>0.048088</td>\n",
       "      <td>0.144007</td>\n",
       "      <td>0.275255</td>\n",
       "      <td>1.0</td>\n",
       "    </tr>\n",
       "    <tr>\n",
       "      <th>Year_sin</th>\n",
       "      <td>22.0</td>\n",
       "      <td>0.332372</td>\n",
       "      <td>0.305398</td>\n",
       "      <td>0.0</td>\n",
       "      <td>0.061927</td>\n",
       "      <td>0.251787</td>\n",
       "      <td>0.566286</td>\n",
       "      <td>1.0</td>\n",
       "    </tr>\n",
       "    <tr>\n",
       "      <th>ad_High_sma10</th>\n",
       "      <td>22.0</td>\n",
       "      <td>0.560072</td>\n",
       "      <td>0.310771</td>\n",
       "      <td>0.0</td>\n",
       "      <td>0.290382</td>\n",
       "      <td>0.719163</td>\n",
       "      <td>0.764134</td>\n",
       "      <td>1.0</td>\n",
       "    </tr>\n",
       "    <tr>\n",
       "      <th>ad_Open_sma10</th>\n",
       "      <td>22.0</td>\n",
       "      <td>0.565708</td>\n",
       "      <td>0.318488</td>\n",
       "      <td>0.0</td>\n",
       "      <td>0.285547</td>\n",
       "      <td>0.735395</td>\n",
       "      <td>0.780862</td>\n",
       "      <td>1.0</td>\n",
       "    </tr>\n",
       "    <tr>\n",
       "      <th>Day</th>\n",
       "      <td>22.0</td>\n",
       "      <td>0.503247</td>\n",
       "      <td>0.321506</td>\n",
       "      <td>0.0</td>\n",
       "      <td>0.223214</td>\n",
       "      <td>0.482143</td>\n",
       "      <td>0.741071</td>\n",
       "      <td>1.0</td>\n",
       "    </tr>\n",
       "    <tr>\n",
       "      <th>ad_Close_sma10</th>\n",
       "      <td>22.0</td>\n",
       "      <td>0.546638</td>\n",
       "      <td>0.324345</td>\n",
       "      <td>0.0</td>\n",
       "      <td>0.269618</td>\n",
       "      <td>0.672319</td>\n",
       "      <td>0.797943</td>\n",
       "      <td>1.0</td>\n",
       "    </tr>\n",
       "    <tr>\n",
       "      <th>ad_Low_sma10</th>\n",
       "      <td>22.0</td>\n",
       "      <td>0.546181</td>\n",
       "      <td>0.329219</td>\n",
       "      <td>0.0</td>\n",
       "      <td>0.253049</td>\n",
       "      <td>0.671220</td>\n",
       "      <td>0.802744</td>\n",
       "      <td>1.0</td>\n",
       "    </tr>\n",
       "    <tr>\n",
       "      <th>Month_cos</th>\n",
       "      <td>22.0</td>\n",
       "      <td>0.496161</td>\n",
       "      <td>0.361860</td>\n",
       "      <td>0.0</td>\n",
       "      <td>0.111412</td>\n",
       "      <td>0.510926</td>\n",
       "      <td>0.803386</td>\n",
       "      <td>1.0</td>\n",
       "    </tr>\n",
       "    <tr>\n",
       "      <th>Month_sin</th>\n",
       "      <td>22.0</td>\n",
       "      <td>0.501805</td>\n",
       "      <td>0.362831</td>\n",
       "      <td>0.0</td>\n",
       "      <td>0.148574</td>\n",
       "      <td>0.488522</td>\n",
       "      <td>0.785050</td>\n",
       "      <td>1.0</td>\n",
       "    </tr>\n",
       "    <tr>\n",
       "      <th>ad_Volume_sma10</th>\n",
       "      <td>22.0</td>\n",
       "      <td>0.425701</td>\n",
       "      <td>0.377350</td>\n",
       "      <td>0.0</td>\n",
       "      <td>0.062303</td>\n",
       "      <td>0.351246</td>\n",
       "      <td>0.811754</td>\n",
       "      <td>1.0</td>\n",
       "    </tr>\n",
       "    <tr>\n",
       "      <th>Volatility_week</th>\n",
       "      <td>22.0</td>\n",
       "      <td>0.366844</td>\n",
       "      <td>0.382258</td>\n",
       "      <td>0.0</td>\n",
       "      <td>0.105069</td>\n",
       "      <td>0.230050</td>\n",
       "      <td>0.587504</td>\n",
       "      <td>1.0</td>\n",
       "    </tr>\n",
       "  </tbody>\n",
       "</table>\n",
       "</div>"
      ],
      "text/plain": [
       "                   count      mean       std  min       25%       50%  \\\n",
       "Month               22.0  0.045455  0.213201  0.0  0.000000  0.000000   \n",
       "ad_High_lag1        22.0  0.565073  0.235605  0.0  0.521226  0.593160   \n",
       "ad_Open_lag1        22.0  0.535439  0.235689  0.0  0.396186  0.576271   \n",
       "error_ad_High       22.0  0.592587  0.242696  0.0  0.485026  0.617833   \n",
       "error_ad_Close      22.0  0.627733  0.247229  0.0  0.530651  0.658764   \n",
       "logprice_ad_High    22.0  0.642765  0.253299  0.0  0.605412  0.686303   \n",
       "ad_High             22.0  0.634775  0.253702  0.0  0.594086  0.676075   \n",
       "detrend_ad_High     22.0  0.634775  0.253702  0.0  0.594086  0.676075   \n",
       "ad_Volume           22.0  0.292597  0.253905  0.0  0.104625  0.225019   \n",
       "error_ad_Open       22.0  0.595259  0.254375  0.0  0.431097  0.620798   \n",
       "logprice_ad_Close   22.0  0.648201  0.254460  0.0  0.544871  0.699531   \n",
       "detrend_ad_Close    22.0  0.639177  0.255075  0.0  0.531548  0.688095   \n",
       "ad_Close            22.0  0.639177  0.255075  0.0  0.531548  0.688095   \n",
       "error_ad_Low        22.0  0.608724  0.255505  0.0  0.525540  0.655668   \n",
       "ad_Close_lag1       22.0  0.659773  0.256032  0.0  0.558125  0.722500   \n",
       "ad_Target           22.0  0.542215  0.256845  0.0  0.431427  0.550055   \n",
       "season_ad_Open      22.0  0.603652  0.262454  0.0  0.438947  0.608728   \n",
       "logprice_ad_Open    22.0  0.647018  0.264066  0.0  0.495453  0.713078   \n",
       "RSI                 22.0  0.643179  0.264775  0.0  0.491914  0.721260   \n",
       "ad_Open             22.0  0.638948  0.265083  0.0  0.483204  0.702842   \n",
       "detrend_ad_Open     22.0  0.638948  0.265083  0.0  0.483204  0.702842   \n",
       "season_ad_High      22.0  0.633528  0.265221  0.0  0.507835  0.687373   \n",
       "macd                22.0  0.522256  0.265521  0.0  0.345361  0.587055   \n",
       "ad_Low_lag1         22.0  0.649148  0.266098  0.0  0.530048  0.729567   \n",
       "week                22.0  0.500000  0.267261  0.0  0.250000  0.500000   \n",
       "logprice_ad_Low     22.0  0.662326  0.270511  0.0  0.543504  0.740053   \n",
       "detrend_ad_Low      22.0  0.653955  0.271278  0.0  0.530048  0.729567   \n",
       "ad_Low              22.0  0.653955  0.271278  0.0  0.530048  0.729567   \n",
       "Return              22.0  0.514173  0.271649  0.0  0.267810  0.525083   \n",
       "season_ad_Close     22.0  0.617796  0.276777  0.0  0.393876  0.606422   \n",
       "ad_Volume_lag1      22.0  0.310636  0.282491  0.0  0.104625  0.225019   \n",
       "macd_s              22.0  0.343222  0.282886  0.0  0.122167  0.358622   \n",
       "trend_ad_Open       22.0  0.272905  0.283283  0.0  0.055437  0.215995   \n",
       "Day_sin             22.0  0.402090  0.287296  0.0  0.177323  0.353200   \n",
       "macd_h              22.0  0.622510  0.288169  0.0  0.512077  0.699827   \n",
       "trend_ad_High       22.0  0.276518  0.289388  0.0  0.055288  0.214456   \n",
       "season_ad_Low       22.0  0.528075  0.290095  0.0  0.375305  0.580743   \n",
       "trend_ad_Low        22.0  0.242594  0.294079  0.0  0.041094  0.136251   \n",
       "Year_cos            22.0  0.512006  0.295538  0.0  0.261134  0.517777   \n",
       "trend_ad_Close      22.0  0.253521  0.296131  0.0  0.048088  0.144007   \n",
       "Year_sin            22.0  0.332372  0.305398  0.0  0.061927  0.251787   \n",
       "ad_High_sma10       22.0  0.560072  0.310771  0.0  0.290382  0.719163   \n",
       "ad_Open_sma10       22.0  0.565708  0.318488  0.0  0.285547  0.735395   \n",
       "Day                 22.0  0.503247  0.321506  0.0  0.223214  0.482143   \n",
       "ad_Close_sma10      22.0  0.546638  0.324345  0.0  0.269618  0.672319   \n",
       "ad_Low_sma10        22.0  0.546181  0.329219  0.0  0.253049  0.671220   \n",
       "Month_cos           22.0  0.496161  0.361860  0.0  0.111412  0.510926   \n",
       "Month_sin           22.0  0.501805  0.362831  0.0  0.148574  0.488522   \n",
       "ad_Volume_sma10     22.0  0.425701  0.377350  0.0  0.062303  0.351246   \n",
       "Volatility_week     22.0  0.366844  0.382258  0.0  0.105069  0.230050   \n",
       "\n",
       "                        75%  max  \n",
       "Month              0.000000  1.0  \n",
       "ad_High_lag1       0.668042  1.0  \n",
       "ad_Open_lag1       0.683263  1.0  \n",
       "error_ad_High      0.753817  1.0  \n",
       "error_ad_Close     0.745712  1.0  \n",
       "logprice_ad_High   0.769862  1.0  \n",
       "ad_High            0.761425  1.0  \n",
       "detrend_ad_High    0.761425  1.0  \n",
       "ad_Volume          0.420702  1.0  \n",
       "error_ad_Open      0.743097  1.0  \n",
       "logprice_ad_Close  0.788277  1.0  \n",
       "detrend_ad_Close   0.779167  1.0  \n",
       "ad_Close           0.779167  1.0  \n",
       "error_ad_Low       0.743730  1.0  \n",
       "ad_Close_lag1      0.809375  1.0  \n",
       "ad_Target          0.720237  1.0  \n",
       "season_ad_Open     0.800434  1.0  \n",
       "logprice_ad_Open   0.839999  1.0  \n",
       "RSI                0.781760  1.0  \n",
       "ad_Open            0.833333  1.0  \n",
       "detrend_ad_Open    0.833333  1.0  \n",
       "season_ad_High     0.819499  1.0  \n",
       "macd               0.716947  1.0  \n",
       "ad_Low_lag1        0.795673  1.0  \n",
       "week               0.750000  1.0  \n",
       "logprice_ad_Low    0.804291  1.0  \n",
       "detrend_ad_Low     0.795673  1.0  \n",
       "ad_Low             0.795673  1.0  \n",
       "Return             0.720237  1.0  \n",
       "season_ad_Close    0.865694  1.0  \n",
       "ad_Volume_lag1     0.420702  1.0  \n",
       "macd_s             0.384241  1.0  \n",
       "trend_ad_Open      0.288841  1.0  \n",
       "Day_sin            0.566139  1.0  \n",
       "macd_h             0.803222  1.0  \n",
       "trend_ad_High      0.302077  1.0  \n",
       "season_ad_Low      0.691645  1.0  \n",
       "trend_ad_Low       0.246513  1.0  \n",
       "Year_cos           0.765493  1.0  \n",
       "trend_ad_Close     0.275255  1.0  \n",
       "Year_sin           0.566286  1.0  \n",
       "ad_High_sma10      0.764134  1.0  \n",
       "ad_Open_sma10      0.780862  1.0  \n",
       "Day                0.741071  1.0  \n",
       "ad_Close_sma10     0.797943  1.0  \n",
       "ad_Low_sma10       0.802744  1.0  \n",
       "Month_cos          0.803386  1.0  \n",
       "Month_sin          0.785050  1.0  \n",
       "ad_Volume_sma10    0.811754  1.0  \n",
       "Volatility_week    0.587504  1.0  "
      ]
     },
     "execution_count": 14,
     "metadata": {},
     "output_type": "execute_result"
    }
   ],
   "source": [
    "val_df.describe().T.sort_values('std', ascending=True)"
   ]
  },
  {
   "cell_type": "code",
   "execution_count": 15,
   "metadata": {},
   "outputs": [
    {
     "data": {
      "text/html": [
       "<div>\n",
       "<style scoped>\n",
       "    .dataframe tbody tr th:only-of-type {\n",
       "        vertical-align: middle;\n",
       "    }\n",
       "\n",
       "    .dataframe tbody tr th {\n",
       "        vertical-align: top;\n",
       "    }\n",
       "\n",
       "    .dataframe thead th {\n",
       "        text-align: right;\n",
       "    }\n",
       "</style>\n",
       "<table border=\"1\" class=\"dataframe\">\n",
       "  <thead>\n",
       "    <tr style=\"text-align: right;\">\n",
       "      <th></th>\n",
       "      <th>N_missing</th>\n",
       "      <th>Percentage</th>\n",
       "    </tr>\n",
       "  </thead>\n",
       "  <tbody>\n",
       "  </tbody>\n",
       "</table>\n",
       "</div>"
      ],
      "text/plain": [
       "Empty DataFrame\n",
       "Columns: [N_missing, Percentage]\n",
       "Index: []"
      ]
     },
     "metadata": {},
     "output_type": "display_data"
    },
    {
     "data": {
      "text/html": [
       "<div>\n",
       "<style scoped>\n",
       "    .dataframe tbody tr th:only-of-type {\n",
       "        vertical-align: middle;\n",
       "    }\n",
       "\n",
       "    .dataframe tbody tr th {\n",
       "        vertical-align: top;\n",
       "    }\n",
       "\n",
       "    .dataframe thead th {\n",
       "        text-align: right;\n",
       "    }\n",
       "</style>\n",
       "<table border=\"1\" class=\"dataframe\">\n",
       "  <thead>\n",
       "    <tr style=\"text-align: right;\">\n",
       "      <th></th>\n",
       "      <th>N_missing</th>\n",
       "      <th>Percentage</th>\n",
       "    </tr>\n",
       "  </thead>\n",
       "  <tbody>\n",
       "  </tbody>\n",
       "</table>\n",
       "</div>"
      ],
      "text/plain": [
       "Empty DataFrame\n",
       "Columns: [N_missing, Percentage]\n",
       "Index: []"
      ]
     },
     "metadata": {},
     "output_type": "display_data"
    },
    {
     "data": {
      "text/html": [
       "<div>\n",
       "<style scoped>\n",
       "    .dataframe tbody tr th:only-of-type {\n",
       "        vertical-align: middle;\n",
       "    }\n",
       "\n",
       "    .dataframe tbody tr th {\n",
       "        vertical-align: top;\n",
       "    }\n",
       "\n",
       "    .dataframe thead th {\n",
       "        text-align: right;\n",
       "    }\n",
       "</style>\n",
       "<table border=\"1\" class=\"dataframe\">\n",
       "  <thead>\n",
       "    <tr style=\"text-align: right;\">\n",
       "      <th></th>\n",
       "      <th>N_missing</th>\n",
       "      <th>Percentage</th>\n",
       "    </tr>\n",
       "  </thead>\n",
       "  <tbody>\n",
       "  </tbody>\n",
       "</table>\n",
       "</div>"
      ],
      "text/plain": [
       "Empty DataFrame\n",
       "Columns: [N_missing, Percentage]\n",
       "Index: []"
      ]
     },
     "metadata": {},
     "output_type": "display_data"
    }
   ],
   "source": [
    "missingValues(train_df)\n",
    "missingValues(val_df)\n",
    "missingValues(test_df)"
   ]
  },
  {
   "cell_type": "markdown",
   "metadata": {},
   "source": [
    "## - Window"
   ]
  },
  {
   "cell_type": "code",
   "execution_count": 16,
   "metadata": {},
   "outputs": [],
   "source": [
    "class WindowGenerator():\n",
    "  def __init__(self, input_width, label_width, shift,\n",
    "               train_df=train_df, val_df=val_df, test_df=test_df,\n",
    "               label_columns=None):\n",
    "    # Store the raw data.\n",
    "    self.train_df = train_df\n",
    "    self.val_df = val_df\n",
    "    self.test_df = test_df\n",
    "\n",
    "    # Work out the label column indices.\n",
    "    self.label_columns = label_columns\n",
    "    if label_columns is not None:\n",
    "      self.label_columns_indices = {name: i for i, name in\n",
    "                                    enumerate(label_columns)}\n",
    "    self.column_indices = {name: i for i, name in\n",
    "                           enumerate(train_df.columns)}\n",
    "\n",
    "    # Work out the window parameters.\n",
    "    self.input_width = input_width\n",
    "    self.label_width = label_width\n",
    "    self.shift = shift\n",
    "\n",
    "    self.total_window_size = input_width + shift\n",
    "\n",
    "    #self.example = \n",
    "\n",
    "    self.input_slice = slice(0, input_width)\n",
    "    self.input_indices = np.arange(self.total_window_size)[self.input_slice]\n",
    "\n",
    "    self.label_start = self.total_window_size - self.label_width\n",
    "    self.labels_slice = slice(self.label_start, None)\n",
    "    self.label_indices = np.arange(self.total_window_size)[self.labels_slice]\n",
    "\n",
    "  def __repr__(self):\n",
    "    return '\\n'.join([\n",
    "        f'Total window size: {self.total_window_size}',\n",
    "        f'Input indices: {self.input_indices}',\n",
    "        f'Label indices: {self.label_indices}',\n",
    "        f'Label column name(s): {self.label_columns}'])"
   ]
  },
  {
   "cell_type": "code",
   "execution_count": 17,
   "metadata": {},
   "outputs": [],
   "source": [
    "#w1 = WindowGenerator(input_width=22, label_width=1, shift=1,\n",
    "                     #label_columns=['ad_Close'])\n",
    "#w1"
   ]
  },
  {
   "cell_type": "code",
   "execution_count": 18,
   "metadata": {},
   "outputs": [],
   "source": [
    "def split_window(self, features):\n",
    "  inputs = features[:, self.input_slice, :]\n",
    "  labels = features[:, self.labels_slice, :]\n",
    "  if self.label_columns is not None:\n",
    "    labels = tf.stack(\n",
    "        [labels[:, :, self.column_indices[name]] for name in self.label_columns],\n",
    "        axis=-1)\n",
    "\n",
    "  # Slicing doesn't preserve static shape information, so set the shapes\n",
    "  # manually. This way the `tf.data.Datasets` are easier to inspect.\n",
    "  inputs.set_shape([None, self.input_width, None])\n",
    "  labels.set_shape([None, self.label_width, None])\n",
    "\n",
    "  return inputs, labels\n",
    "\n",
    "WindowGenerator.split_window = split_window"
   ]
  },
  {
   "cell_type": "code",
   "execution_count": 19,
   "metadata": {},
   "outputs": [
    {
     "data": {
      "text/plain": [
       "\"example_window = tf.stack([np.array(train_data[:w1.total_window_size]),\\n                           np.array(train_data[100:100+w1.total_window_size]),\\n                           np.array(train_data[200:200+w1.total_window_size])])\\n\\nexample_inputs, example_labels = w1.split_window(example_window)\\n\\nprint('All shapes are: (batch, time, features)')\\nprint(f'Window shape: {example_window.shape}')\\nprint(f'Inputs shape: {example_inputs.shape}')\\nprint(f'Labels shape: {example_labels.shape}')\""
      ]
     },
     "execution_count": 19,
     "metadata": {},
     "output_type": "execute_result"
    }
   ],
   "source": [
    "\"\"\"example_window = tf.stack([np.array(train_data[:w1.total_window_size]),\n",
    "                           np.array(train_data[100:100+w1.total_window_size]),\n",
    "                           np.array(train_data[200:200+w1.total_window_size])])\n",
    "\n",
    "example_inputs, example_labels = w1.split_window(example_window)\n",
    "\n",
    "print('All shapes are: (batch, time, features)')\n",
    "print(f'Window shape: {example_window.shape}')\n",
    "print(f'Inputs shape: {example_inputs.shape}')\n",
    "print(f'Labels shape: {example_labels.shape}')\"\"\""
   ]
  },
  {
   "cell_type": "code",
   "execution_count": 20,
   "metadata": {},
   "outputs": [],
   "source": [
    "#w1.example = example_inputs, example_labels"
   ]
  },
  {
   "cell_type": "code",
   "execution_count": 21,
   "metadata": {},
   "outputs": [],
   "source": [
    "def plot(self, model=None, plot_col='ad_Close', max_subplots=3):\n",
    "  inputs, labels = self.example\n",
    "  plt.figure(figsize=(12, 8))\n",
    "  plot_col_index = self.column_indices[plot_col]\n",
    "  max_n = min(max_subplots, len(inputs))\n",
    "  for n in range(max_n):\n",
    "    plt.subplot(max_n, 1, n+1)\n",
    "    plt.ylabel(f'{plot_col} [normed]')\n",
    "    plt.plot(self.input_indices, inputs[n, :, plot_col_index],\n",
    "             label='Inputs', marker='.', zorder=-10)\n",
    "\n",
    "    if self.label_columns:\n",
    "      label_col_index = self.label_columns_indices.get(plot_col, None)\n",
    "    else:\n",
    "      label_col_index = plot_col_index\n",
    "\n",
    "    if label_col_index is None:\n",
    "      continue\n",
    "\n",
    "    plt.scatter(self.label_indices, labels[n, :, label_col_index],\n",
    "                edgecolors='k', label='Labels', c='#2ca02c', s=64)\n",
    "    if model is not None:\n",
    "      predictions = model(inputs)\n",
    "      plt.scatter(self.label_indices, predictions[n, :, label_col_index],\n",
    "                  marker='X', edgecolors='k', label='Predictions',\n",
    "                  c='#ff7f0e', s=64)\n",
    "\n",
    "    if n == 0:\n",
    "      plt.legend()\n",
    "\n",
    "  plt.xlabel('Time [h]')\n",
    "\n",
    "WindowGenerator.plot = plot"
   ]
  },
  {
   "cell_type": "code",
   "execution_count": 22,
   "metadata": {},
   "outputs": [],
   "source": [
    "#w1.plot()"
   ]
  },
  {
   "cell_type": "code",
   "execution_count": 23,
   "metadata": {},
   "outputs": [],
   "source": [
    "#w1.plot(plot_col='ad_Target')"
   ]
  },
  {
   "cell_type": "markdown",
   "metadata": {},
   "source": [
    "### create dataset"
   ]
  },
  {
   "cell_type": "code",
   "execution_count": 24,
   "metadata": {},
   "outputs": [],
   "source": [
    "def make_dataset(self, data):\n",
    "  data = np.array(data, dtype=np.float32)\n",
    "  ds = tf.keras.utils.timeseries_dataset_from_array(\n",
    "      data=data,\n",
    "      targets=None,\n",
    "      sequence_length=self.total_window_size,\n",
    "      sequence_stride=1,\n",
    "      shuffle=True,\n",
    "      batch_size=32,)\n",
    "\n",
    "  ds = ds.map(self.split_window)\n",
    "\n",
    "  return ds\n",
    "\n",
    "WindowGenerator.make_dataset = make_dataset"
   ]
  },
  {
   "cell_type": "markdown",
   "metadata": {},
   "source": [
    "### train , val , test"
   ]
  },
  {
   "cell_type": "code",
   "execution_count": 25,
   "metadata": {},
   "outputs": [],
   "source": [
    "@property\n",
    "def train(self):\n",
    "  return self.make_dataset(self.train_df)\n",
    "\n",
    "@property\n",
    "def val(self):\n",
    "  return self.make_dataset(self.val_df)\n",
    "\n",
    "@property\n",
    "def test(self):\n",
    "  return self.make_dataset(self.test_df)\n",
    "\n",
    "@property\n",
    "def example(self):\n",
    "  \"\"\"Get and cache an example batch of `inputs, labels` for plotting.\"\"\"\n",
    "  result = getattr(self, '_example', None)\n",
    "  if result is None:\n",
    "    # No example batch was found, so get one from the `.train` dataset\n",
    "    result = next(iter(self.train))\n",
    "    # And cache it for next time\n",
    "    self._example = result\n",
    "  return result\n",
    "\n",
    "WindowGenerator.train = train\n",
    "WindowGenerator.val = val\n",
    "WindowGenerator.test = test\n",
    "WindowGenerator.example = example"
   ]
  },
  {
   "cell_type": "code",
   "execution_count": 26,
   "metadata": {},
   "outputs": [],
   "source": [
    "# Each element is an (inputs, label) pair.\n",
    "#w1.train.element_spec"
   ]
  },
  {
   "cell_type": "code",
   "execution_count": 27,
   "metadata": {},
   "outputs": [
    {
     "data": {
      "text/plain": [
       "\"for example_inputs, example_labels in w1.train.take(1):\\n  print(f'Inputs shape (batch, time, features): {example_inputs.shape}')\\n  print(f'Labels shape (batch, time, features): {example_labels.shape}')\""
      ]
     },
     "execution_count": 27,
     "metadata": {},
     "output_type": "execute_result"
    }
   ],
   "source": [
    "\"\"\"for example_inputs, example_labels in w1.train.take(1):\n",
    "  print(f'Inputs shape (batch, time, features): {example_inputs.shape}')\n",
    "  print(f'Labels shape (batch, time, features): {example_labels.shape}')\"\"\""
   ]
  },
  {
   "cell_type": "markdown",
   "metadata": {},
   "source": [
    "# Modelling"
   ]
  },
  {
   "cell_type": "markdown",
   "metadata": {},
   "source": [
    "### - Baseline"
   ]
  },
  {
   "cell_type": "code",
   "execution_count": 28,
   "metadata": {},
   "outputs": [],
   "source": [
    "class Baseline(tf.keras.Model):\n",
    "  def __init__(self, label_index=None):\n",
    "    super().__init__()\n",
    "    self.label_index = label_index\n",
    "\n",
    "  def call(self, inputs):\n",
    "    if self.label_index is None:\n",
    "      return inputs\n",
    "    result = inputs[:, :, self.label_index]\n",
    "    return result[:, :, tf.newaxis]"
   ]
  },
  {
   "cell_type": "markdown",
   "metadata": {},
   "source": [
    "### - Linear"
   ]
  },
  {
   "cell_type": "code",
   "execution_count": 29,
   "metadata": {},
   "outputs": [
    {
     "name": "stdout",
     "output_type": "stream",
     "text": [
      "Metal device set to: Apple M1\n",
      "\n",
      "systemMemory: 8.00 GB\n",
      "maxCacheSize: 2.67 GB\n",
      "\n"
     ]
    },
    {
     "name": "stderr",
     "output_type": "stream",
     "text": [
      "2022-04-27 20:26:20.748641: I tensorflow/core/common_runtime/pluggable_device/pluggable_device_factory.cc:305] Could not identify NUMA node of platform GPU ID 0, defaulting to 0. Your kernel may not have been built with NUMA support.\n",
      "2022-04-27 20:26:20.748735: I tensorflow/core/common_runtime/pluggable_device/pluggable_device_factory.cc:271] Created TensorFlow device (/job:localhost/replica:0/task:0/device:GPU:0 with 0 MB memory) -> physical PluggableDevice (device: 0, name: METAL, pci bus id: <undefined>)\n"
     ]
    }
   ],
   "source": [
    "linear = tf.keras.Sequential([\n",
    "    #tf.keras.layers.Normalization(axis=None), \n",
    "\n",
    "    tf.keras.layers.Dense(units=1)\n",
    "])"
   ]
  },
  {
   "cell_type": "markdown",
   "metadata": {},
   "source": [
    "### helper functions\n"
   ]
  },
  {
   "cell_type": "code",
   "execution_count": 30,
   "metadata": {},
   "outputs": [],
   "source": [
    "def plot_loss(history):\n",
    "    plt.plot(history.history['loss'], label='loss')\n",
    "    plt.plot(history.history['val_loss'], label='val_loss')\n",
    "    plt.ylim([0, 1])\n",
    "    plt.xlabel('Epoch')\n",
    "    plt.ylabel('Error')\n",
    "    plt.legend()\n",
    "    plt.grid(True)"
   ]
  },
  {
   "cell_type": "code",
   "execution_count": 31,
   "metadata": {},
   "outputs": [],
   "source": [
    "MAX_EPOCHS = 20\n",
    "\n",
    "def compile_and_fit(model, window, patience=2):\n",
    "  early_stopping = tf.keras.callbacks.EarlyStopping(monitor='val_loss',\n",
    "                                                    patience=patience,\n",
    "                                                    #mode='min'\n",
    "                                                    )\n",
    "\n",
    "  model.compile(loss=tf.losses.MeanSquaredError(),\n",
    "                optimizer=tf.optimizers.Adam(),\n",
    "                metrics=[tf.metrics.MeanAbsoluteError()])\n",
    "\n",
    "  history = model.fit(window.train, epochs=MAX_EPOCHS,\n",
    "                      validation_data=window.val,\n",
    "                      callbacks=[early_stopping]\n",
    "                      )\n",
    "  return history"
   ]
  },
  {
   "cell_type": "code",
   "execution_count": 32,
   "metadata": {},
   "outputs": [],
   "source": [
    "train_performance ={}\n",
    "val_performance = {}\n",
    "performance = {}"
   ]
  },
  {
   "cell_type": "markdown",
   "metadata": {},
   "source": [
    "# Fit Test\n"
   ]
  },
  {
   "cell_type": "markdown",
   "metadata": {},
   "source": [
    "## - Single step models:\n",
    "\n",
    "predict a single features value 1 time step into future"
   ]
  },
  {
   "cell_type": "code",
   "execution_count": 33,
   "metadata": {},
   "outputs": [
    {
     "data": {
      "text/plain": [
       "Total window size: 2\n",
       "Input indices: [0]\n",
       "Label indices: [1]\n",
       "Label column name(s): ['ad_Close']"
      ]
     },
     "execution_count": 33,
     "metadata": {},
     "output_type": "execute_result"
    }
   ],
   "source": [
    "single_step_window = WindowGenerator(\n",
    "    input_width=1, label_width=1, shift=1,\n",
    "    label_columns=['ad_Close'])\n",
    "single_step_window"
   ]
  },
  {
   "cell_type": "code",
   "execution_count": 34,
   "metadata": {},
   "outputs": [
    {
     "name": "stdout",
     "output_type": "stream",
     "text": [
      "Inputs shape (batch, time, features): (32, 1, 50)\n",
      "Labels shape (batch, time, features): (32, 1, 1)\n"
     ]
    },
    {
     "name": "stderr",
     "output_type": "stream",
     "text": [
      "2022-04-27 20:26:21.101808: W tensorflow/core/platform/profile_utils/cpu_utils.cc:128] Failed to get CPU frequency: 0 Hz\n"
     ]
    }
   ],
   "source": [
    "for example_inputs, example_labels in single_step_window.train.take(1):\n",
    "  print(f'Inputs shape (batch, time, features): {example_inputs.shape}')\n",
    "  print(f'Labels shape (batch, time, features): {example_labels.shape}')"
   ]
  },
  {
   "cell_type": "markdown",
   "metadata": {},
   "source": [
    "- Baseline"
   ]
  },
  {
   "cell_type": "code",
   "execution_count": 35,
   "metadata": {},
   "outputs": [
    {
     "data": {
      "text/plain": [
       "'class Baseline(tf.keras.Model):\\n  def __init__(self, label_index=None):\\n    super().__init__()\\n    self.label_index = label_index\\n\\n  def call(self, inputs):\\n    if self.label_index is None:\\n      return inputs\\n    result = inputs[:, :, self.label_index]\\n    return result[:, :, tf.newaxis]'"
      ]
     },
     "execution_count": 35,
     "metadata": {},
     "output_type": "execute_result"
    }
   ],
   "source": [
    "\"\"\"class Baseline(tf.keras.Model):\n",
    "  def __init__(self, label_index=None):\n",
    "    super().__init__()\n",
    "    self.label_index = label_index\n",
    "\n",
    "  def call(self, inputs):\n",
    "    if self.label_index is None:\n",
    "      return inputs\n",
    "    result = inputs[:, :, self.label_index]\n",
    "    return result[:, :, tf.newaxis]\"\"\""
   ]
  },
  {
   "cell_type": "code",
   "execution_count": 36,
   "metadata": {},
   "outputs": [
    {
     "name": "stdout",
     "output_type": "stream",
     "text": [
      "24/36 [===================>..........] - ETA: 0s - loss: 4.9304e-04 - mean_absolute_error: 0.0158"
     ]
    },
    {
     "name": "stderr",
     "output_type": "stream",
     "text": [
      "2022-04-27 20:26:21.348878: I tensorflow/core/grappler/optimizers/custom_graph_optimizer_registry.cc:113] Plugin optimizer for device_type GPU is enabled.\n"
     ]
    },
    {
     "name": "stdout",
     "output_type": "stream",
     "text": [
      "36/36 [==============================] - 0s 4ms/step - loss: 4.5874e-04 - mean_absolute_error: 0.0155\n",
      "1/1 [==============================] - 0s 28ms/step - loss: 0.0265 - mean_absolute_error: 0.1333\n"
     ]
    }
   ],
   "source": [
    "baseline = Baseline(label_index=single_step_window.column_indices['ad_Close'])\n",
    "\n",
    "baseline.compile(loss=tf.losses.MeanSquaredError(),\n",
    "                 metrics=[tf.metrics.MeanAbsoluteError()])\n",
    "\n",
    "\n",
    "train_performance['Baseline_S'] = baseline.evaluate(single_step_window.train)\n",
    "val_performance['Baseline_S'] = baseline.evaluate(single_step_window.val)\n",
    "performance['Baseline_S'] = baseline.evaluate(single_step_window.test, verbose=0)"
   ]
  },
  {
   "cell_type": "code",
   "execution_count": 37,
   "metadata": {},
   "outputs": [
    {
     "data": {
      "text/plain": [
       "\"wide_window = WindowGenerator(\\n    input_width=22, label_width=1, shift=1,\\n    label_columns=['ad_Close'])\\nwide_window\""
      ]
     },
     "execution_count": 37,
     "metadata": {},
     "output_type": "execute_result"
    }
   ],
   "source": [
    "\"\"\"wide_window = WindowGenerator(\n",
    "    input_width=22, label_width=1, shift=1,\n",
    "    label_columns=['ad_Close'])\n",
    "wide_window\"\"\""
   ]
  },
  {
   "cell_type": "code",
   "execution_count": 38,
   "metadata": {},
   "outputs": [
    {
     "data": {
      "text/plain": [
       "\"wide_window = WindowGenerator(\\n    input_width=22, label_width=22, shift=1,\\n    label_columns=['ad_Close'])\\n# baseline wide window\\nbaseline_w = Baseline(label_index=wide_window.column_indices['ad_Close'])\\n\\nbaseline_w.compile(loss=tf.losses.MeanSquaredError(),\\n                 metrics=[tf.metrics.MeanAbsoluteError()])\\n\\nval_performance = {}\\nperformance = {}\\nval_performance['Baseline'] = baseline_w.evaluate(wide_window.val)\\nperformance['Baseline'] = baseline_w.evaluate(wide_window.test, verbose=0)\""
      ]
     },
     "execution_count": 38,
     "metadata": {},
     "output_type": "execute_result"
    }
   ],
   "source": [
    "\"\"\"wide_window = WindowGenerator(\n",
    "    input_width=22, label_width=22, shift=1,\n",
    "    label_columns=['ad_Close'])\n",
    "# baseline wide window\n",
    "baseline_w = Baseline(label_index=wide_window.column_indices['ad_Close'])\n",
    "\n",
    "baseline_w.compile(loss=tf.losses.MeanSquaredError(),\n",
    "                 metrics=[tf.metrics.MeanAbsoluteError()])\n",
    "\n",
    "val_performance = {}\n",
    "performance = {}\n",
    "val_performance['Baseline'] = baseline_w.evaluate(wide_window.val)\n",
    "performance['Baseline'] = baseline_w.evaluate(wide_window.test, verbose=0)\"\"\""
   ]
  },
  {
   "cell_type": "markdown",
   "metadata": {},
   "source": [
    "### - linear"
   ]
  },
  {
   "cell_type": "code",
   "execution_count": 39,
   "metadata": {},
   "outputs": [
    {
     "data": {
      "text/plain": [
       "'linear = tf.keras.Sequential([\\n    tf.keras.layers.Normalization(axis=None), \\n    tf.keras.layers.Dense(units=1)\\n])'"
      ]
     },
     "execution_count": 39,
     "metadata": {},
     "output_type": "execute_result"
    }
   ],
   "source": [
    "\"\"\"linear = tf.keras.Sequential([\n",
    "    tf.keras.layers.Normalization(axis=None), \n",
    "    tf.keras.layers.Dense(units=1)\n",
    "])\"\"\""
   ]
  },
  {
   "cell_type": "code",
   "execution_count": 40,
   "metadata": {},
   "outputs": [
    {
     "data": {
      "text/plain": [
       "\"MAX_EPOCHS = 20\\n\\ndef compile_and_fit(model, window, patience=2):\\n  early_stopping = tf.keras.callbacks.EarlyStopping(monitor='val_loss',\\n                                                    patience=patience,\\n                                                    mode='min')\\n\\n  model.compile(loss=tf.losses.MeanSquaredError(),\\n                optimizer=tf.optimizers.Adam(),\\n                metrics=[tf.metrics.MeanAbsoluteError()])\\n\\n  history = model.fit(window.train, epochs=MAX_EPOCHS,\\n                      validation_data=window.val,\\n                      callbacks=[early_stopping])\\n  return history\""
      ]
     },
     "execution_count": 40,
     "metadata": {},
     "output_type": "execute_result"
    }
   ],
   "source": [
    "\"\"\"MAX_EPOCHS = 20\n",
    "\n",
    "def compile_and_fit(model, window, patience=2):\n",
    "  early_stopping = tf.keras.callbacks.EarlyStopping(monitor='val_loss',\n",
    "                                                    patience=patience,\n",
    "                                                    mode='min')\n",
    "\n",
    "  model.compile(loss=tf.losses.MeanSquaredError(),\n",
    "                optimizer=tf.optimizers.Adam(),\n",
    "                metrics=[tf.metrics.MeanAbsoluteError()])\n",
    "\n",
    "  history = model.fit(window.train, epochs=MAX_EPOCHS,\n",
    "                      validation_data=window.val,\n",
    "                      callbacks=[early_stopping])\n",
    "  return history\"\"\""
   ]
  },
  {
   "cell_type": "code",
   "execution_count": 41,
   "metadata": {},
   "outputs": [
    {
     "name": "stdout",
     "output_type": "stream",
     "text": [
      "Epoch 1/20\n",
      "23/36 [==================>...........] - ETA: 0s - loss: 0.6329 - mean_absolute_error: 0.7045"
     ]
    },
    {
     "name": "stderr",
     "output_type": "stream",
     "text": [
      "2022-04-27 20:26:22.136301: I tensorflow/core/grappler/optimizers/custom_graph_optimizer_registry.cc:113] Plugin optimizer for device_type GPU is enabled.\n"
     ]
    },
    {
     "name": "stdout",
     "output_type": "stream",
     "text": [
      "36/36 [==============================] - 1s 10ms/step - loss: 0.4916 - mean_absolute_error: 0.5979 - val_loss: 0.6172 - val_mean_absolute_error: 0.6742\n",
      "Epoch 2/20\n",
      "22/36 [=================>............] - ETA: 0s - loss: 0.0792 - mean_absolute_error: 0.2266"
     ]
    },
    {
     "name": "stderr",
     "output_type": "stream",
     "text": [
      "2022-04-27 20:26:22.517924: I tensorflow/core/grappler/optimizers/custom_graph_optimizer_registry.cc:113] Plugin optimizer for device_type GPU is enabled.\n"
     ]
    },
    {
     "name": "stdout",
     "output_type": "stream",
     "text": [
      "36/36 [==============================] - 0s 6ms/step - loss: 0.0698 - mean_absolute_error: 0.2107 - val_loss: 0.4272 - val_mean_absolute_error: 0.5024\n",
      "Epoch 3/20\n",
      "36/36 [==============================] - 0s 6ms/step - loss: 0.0475 - mean_absolute_error: 0.1750 - val_loss: 0.4127 - val_mean_absolute_error: 0.4882\n",
      "Epoch 4/20\n",
      "36/36 [==============================] - 0s 6ms/step - loss: 0.0435 - mean_absolute_error: 0.1677 - val_loss: 0.3991 - val_mean_absolute_error: 0.4778\n",
      "Epoch 5/20\n",
      "36/36 [==============================] - 0s 5ms/step - loss: 0.0400 - mean_absolute_error: 0.1609 - val_loss: 0.3843 - val_mean_absolute_error: 0.4649\n",
      "Epoch 6/20\n",
      "36/36 [==============================] - 0s 6ms/step - loss: 0.0367 - mean_absolute_error: 0.1544 - val_loss: 0.3698 - val_mean_absolute_error: 0.4530\n",
      "Epoch 7/20\n",
      "36/36 [==============================] - 0s 6ms/step - loss: 0.0337 - mean_absolute_error: 0.1485 - val_loss: 0.3536 - val_mean_absolute_error: 0.4383\n",
      "Epoch 8/20\n",
      "36/36 [==============================] - 0s 6ms/step - loss: 0.0309 - mean_absolute_error: 0.1419 - val_loss: 0.3393 - val_mean_absolute_error: 0.4295\n",
      "Epoch 9/20\n",
      "36/36 [==============================] - 0s 6ms/step - loss: 0.0285 - mean_absolute_error: 0.1362 - val_loss: 0.3260 - val_mean_absolute_error: 0.4227\n",
      "Epoch 10/20\n",
      "36/36 [==============================] - 0s 6ms/step - loss: 0.0263 - mean_absolute_error: 0.1311 - val_loss: 0.3128 - val_mean_absolute_error: 0.4152\n",
      "Epoch 11/20\n",
      "36/36 [==============================] - 0s 6ms/step - loss: 0.0242 - mean_absolute_error: 0.1252 - val_loss: 0.2995 - val_mean_absolute_error: 0.4076\n",
      "Epoch 12/20\n",
      "36/36 [==============================] - 0s 6ms/step - loss: 0.0222 - mean_absolute_error: 0.1199 - val_loss: 0.2869 - val_mean_absolute_error: 0.4008\n",
      "Epoch 13/20\n",
      "36/36 [==============================] - 0s 6ms/step - loss: 0.0204 - mean_absolute_error: 0.1152 - val_loss: 0.2753 - val_mean_absolute_error: 0.3944\n",
      "Epoch 14/20\n",
      "36/36 [==============================] - 0s 6ms/step - loss: 0.0188 - mean_absolute_error: 0.1102 - val_loss: 0.2636 - val_mean_absolute_error: 0.3874\n",
      "Epoch 15/20\n",
      "36/36 [==============================] - 0s 5ms/step - loss: 0.0173 - mean_absolute_error: 0.1054 - val_loss: 0.2529 - val_mean_absolute_error: 0.3809\n",
      "Epoch 16/20\n",
      "36/36 [==============================] - 0s 6ms/step - loss: 0.0159 - mean_absolute_error: 0.1010 - val_loss: 0.2424 - val_mean_absolute_error: 0.3742\n",
      "Epoch 17/20\n",
      "36/36 [==============================] - 0s 7ms/step - loss: 0.0146 - mean_absolute_error: 0.0967 - val_loss: 0.2325 - val_mean_absolute_error: 0.3685\n",
      "Epoch 18/20\n",
      "36/36 [==============================] - 0s 6ms/step - loss: 0.0134 - mean_absolute_error: 0.0927 - val_loss: 0.2227 - val_mean_absolute_error: 0.3631\n",
      "Epoch 19/20\n",
      "36/36 [==============================] - 0s 6ms/step - loss: 0.0123 - mean_absolute_error: 0.0885 - val_loss: 0.2139 - val_mean_absolute_error: 0.3589\n",
      "Epoch 20/20\n",
      "36/36 [==============================] - 0s 6ms/step - loss: 0.0114 - mean_absolute_error: 0.0850 - val_loss: 0.2053 - val_mean_absolute_error: 0.3543\n"
     ]
    }
   ],
   "source": [
    "history_l_s = compile_and_fit(linear, single_step_window)\n",
    "\n",
    "##val_performance['Linear'] = linear.evaluate(w1.val)\n",
    "#performance['Linear'] = linear.evaluate(w1.test, verbose=0)"
   ]
  },
  {
   "cell_type": "code",
   "execution_count": 42,
   "metadata": {},
   "outputs": [
    {
     "data": {
      "text/html": [
       "<div>\n",
       "<style scoped>\n",
       "    .dataframe tbody tr th:only-of-type {\n",
       "        vertical-align: middle;\n",
       "    }\n",
       "\n",
       "    .dataframe tbody tr th {\n",
       "        vertical-align: top;\n",
       "    }\n",
       "\n",
       "    .dataframe thead th {\n",
       "        text-align: right;\n",
       "    }\n",
       "</style>\n",
       "<table border=\"1\" class=\"dataframe\">\n",
       "  <thead>\n",
       "    <tr style=\"text-align: right;\">\n",
       "      <th></th>\n",
       "      <th>loss</th>\n",
       "      <th>mean_absolute_error</th>\n",
       "      <th>val_loss</th>\n",
       "      <th>val_mean_absolute_error</th>\n",
       "    </tr>\n",
       "  </thead>\n",
       "  <tbody>\n",
       "    <tr>\n",
       "      <th>0</th>\n",
       "      <td>0.491619</td>\n",
       "      <td>0.597891</td>\n",
       "      <td>0.617186</td>\n",
       "      <td>0.674223</td>\n",
       "    </tr>\n",
       "    <tr>\n",
       "      <th>1</th>\n",
       "      <td>0.069792</td>\n",
       "      <td>0.210736</td>\n",
       "      <td>0.427181</td>\n",
       "      <td>0.502434</td>\n",
       "    </tr>\n",
       "    <tr>\n",
       "      <th>2</th>\n",
       "      <td>0.047502</td>\n",
       "      <td>0.174958</td>\n",
       "      <td>0.412652</td>\n",
       "      <td>0.488220</td>\n",
       "    </tr>\n",
       "    <tr>\n",
       "      <th>3</th>\n",
       "      <td>0.043537</td>\n",
       "      <td>0.167661</td>\n",
       "      <td>0.399091</td>\n",
       "      <td>0.477754</td>\n",
       "    </tr>\n",
       "    <tr>\n",
       "      <th>4</th>\n",
       "      <td>0.040002</td>\n",
       "      <td>0.160902</td>\n",
       "      <td>0.384268</td>\n",
       "      <td>0.464946</td>\n",
       "    </tr>\n",
       "    <tr>\n",
       "      <th>5</th>\n",
       "      <td>0.036713</td>\n",
       "      <td>0.154388</td>\n",
       "      <td>0.369776</td>\n",
       "      <td>0.453013</td>\n",
       "    </tr>\n",
       "    <tr>\n",
       "      <th>6</th>\n",
       "      <td>0.033745</td>\n",
       "      <td>0.148480</td>\n",
       "      <td>0.353633</td>\n",
       "      <td>0.438317</td>\n",
       "    </tr>\n",
       "    <tr>\n",
       "      <th>7</th>\n",
       "      <td>0.030913</td>\n",
       "      <td>0.141865</td>\n",
       "      <td>0.339303</td>\n",
       "      <td>0.429455</td>\n",
       "    </tr>\n",
       "    <tr>\n",
       "      <th>8</th>\n",
       "      <td>0.028540</td>\n",
       "      <td>0.136204</td>\n",
       "      <td>0.325968</td>\n",
       "      <td>0.422666</td>\n",
       "    </tr>\n",
       "    <tr>\n",
       "      <th>9</th>\n",
       "      <td>0.026334</td>\n",
       "      <td>0.131117</td>\n",
       "      <td>0.312759</td>\n",
       "      <td>0.415214</td>\n",
       "    </tr>\n",
       "    <tr>\n",
       "      <th>10</th>\n",
       "      <td>0.024155</td>\n",
       "      <td>0.125207</td>\n",
       "      <td>0.299519</td>\n",
       "      <td>0.407647</td>\n",
       "    </tr>\n",
       "    <tr>\n",
       "      <th>11</th>\n",
       "      <td>0.022202</td>\n",
       "      <td>0.119937</td>\n",
       "      <td>0.286860</td>\n",
       "      <td>0.400839</td>\n",
       "    </tr>\n",
       "    <tr>\n",
       "      <th>12</th>\n",
       "      <td>0.020440</td>\n",
       "      <td>0.115194</td>\n",
       "      <td>0.275288</td>\n",
       "      <td>0.394387</td>\n",
       "    </tr>\n",
       "    <tr>\n",
       "      <th>13</th>\n",
       "      <td>0.018816</td>\n",
       "      <td>0.110202</td>\n",
       "      <td>0.263573</td>\n",
       "      <td>0.387433</td>\n",
       "    </tr>\n",
       "    <tr>\n",
       "      <th>14</th>\n",
       "      <td>0.017260</td>\n",
       "      <td>0.105366</td>\n",
       "      <td>0.252878</td>\n",
       "      <td>0.380940</td>\n",
       "    </tr>\n",
       "    <tr>\n",
       "      <th>15</th>\n",
       "      <td>0.015863</td>\n",
       "      <td>0.101040</td>\n",
       "      <td>0.242386</td>\n",
       "      <td>0.374176</td>\n",
       "    </tr>\n",
       "    <tr>\n",
       "      <th>16</th>\n",
       "      <td>0.014594</td>\n",
       "      <td>0.096656</td>\n",
       "      <td>0.232482</td>\n",
       "      <td>0.368470</td>\n",
       "    </tr>\n",
       "    <tr>\n",
       "      <th>17</th>\n",
       "      <td>0.013423</td>\n",
       "      <td>0.092681</td>\n",
       "      <td>0.222729</td>\n",
       "      <td>0.363069</td>\n",
       "    </tr>\n",
       "    <tr>\n",
       "      <th>18</th>\n",
       "      <td>0.012336</td>\n",
       "      <td>0.088517</td>\n",
       "      <td>0.213948</td>\n",
       "      <td>0.358898</td>\n",
       "    </tr>\n",
       "    <tr>\n",
       "      <th>19</th>\n",
       "      <td>0.011385</td>\n",
       "      <td>0.084998</td>\n",
       "      <td>0.205343</td>\n",
       "      <td>0.354289</td>\n",
       "    </tr>\n",
       "  </tbody>\n",
       "</table>\n",
       "</div>"
      ],
      "text/plain": [
       "        loss  mean_absolute_error  val_loss  val_mean_absolute_error\n",
       "0   0.491619             0.597891  0.617186                 0.674223\n",
       "1   0.069792             0.210736  0.427181                 0.502434\n",
       "2   0.047502             0.174958  0.412652                 0.488220\n",
       "3   0.043537             0.167661  0.399091                 0.477754\n",
       "4   0.040002             0.160902  0.384268                 0.464946\n",
       "5   0.036713             0.154388  0.369776                 0.453013\n",
       "6   0.033745             0.148480  0.353633                 0.438317\n",
       "7   0.030913             0.141865  0.339303                 0.429455\n",
       "8   0.028540             0.136204  0.325968                 0.422666\n",
       "9   0.026334             0.131117  0.312759                 0.415214\n",
       "10  0.024155             0.125207  0.299519                 0.407647\n",
       "11  0.022202             0.119937  0.286860                 0.400839\n",
       "12  0.020440             0.115194  0.275288                 0.394387\n",
       "13  0.018816             0.110202  0.263573                 0.387433\n",
       "14  0.017260             0.105366  0.252878                 0.380940\n",
       "15  0.015863             0.101040  0.242386                 0.374176\n",
       "16  0.014594             0.096656  0.232482                 0.368470\n",
       "17  0.013423             0.092681  0.222729                 0.363069\n",
       "18  0.012336             0.088517  0.213948                 0.358898\n",
       "19  0.011385             0.084998  0.205343                 0.354289"
      ]
     },
     "execution_count": 42,
     "metadata": {},
     "output_type": "execute_result"
    }
   ],
   "source": [
    "pd.DataFrame(history_l_s.history)\n",
    "\n"
   ]
  },
  {
   "cell_type": "code",
   "execution_count": 43,
   "metadata": {},
   "outputs": [
    {
     "data": {
      "image/png": "[encoded data removed]",
      "text/plain": [
       "<Figure size 576x432 with 1 Axes>"
      ]
     },
     "metadata": {
      "needs_background": "light"
     },
     "output_type": "display_data"
    }
   ],
   "source": [
    "plot_loss(history_l_s)"
   ]
  },
  {
   "cell_type": "code",
   "execution_count": 44,
   "metadata": {},
   "outputs": [],
   "source": [
    "#single_step_window.plot(linear)"
   ]
  },
  {
   "cell_type": "code",
   "execution_count": 45,
   "metadata": {},
   "outputs": [
    {
     "data": {
      "text/plain": [
       "'plt.bar(x = range(len(train_df.columns)),\\n        height=linear.layers[0].kernel[:,0].numpy())\\naxis = plt.gca()\\naxis.set_xticks(range(len(train_df.columns)))\\n_ = axis.set_xticklabels(train_df.columns, rotation=90)'"
      ]
     },
     "execution_count": 45,
     "metadata": {},
     "output_type": "execute_result"
    }
   ],
   "source": [
    "\"\"\"plt.bar(x = range(len(train_df.columns)),\n",
    "        height=linear.layers[0].kernel[:,0].numpy())\n",
    "axis = plt.gca()\n",
    "axis.set_xticks(range(len(train_df.columns)))\n",
    "_ = axis.set_xticklabels(train_df.columns, rotation=90)\"\"\""
   ]
  },
  {
   "cell_type": "code",
   "execution_count": 46,
   "metadata": {},
   "outputs": [
    {
     "data": {
      "text/plain": [
       "(TensorSpec(shape=(None, 1, 50), dtype=tf.float32, name=None),\n",
       " TensorSpec(shape=(None, 1, 1), dtype=tf.float32, name=None))"
      ]
     },
     "execution_count": 46,
     "metadata": {},
     "output_type": "execute_result"
    }
   ],
   "source": [
    "single_step_window.train.element_spec"
   ]
  },
  {
   "cell_type": "code",
   "execution_count": 47,
   "metadata": {},
   "outputs": [
    {
     "data": {
      "text/plain": [
       "method"
      ]
     },
     "execution_count": 47,
     "metadata": {},
     "output_type": "execute_result"
    }
   ],
   "source": [
    "type(single_step_window.train.get_single_element)"
   ]
  },
  {
   "cell_type": "code",
   "execution_count": 48,
   "metadata": {},
   "outputs": [
    {
     "data": {
      "text/plain": [
       "tensorflow.python.data.ops.dataset_ops.MapDataset"
      ]
     },
     "execution_count": 48,
     "metadata": {},
     "output_type": "execute_result"
    }
   ],
   "source": [
    "type(single_step_window.train)"
   ]
  },
  {
   "cell_type": "code",
   "execution_count": 49,
   "metadata": {},
   "outputs": [
    {
     "name": "stdout",
     "output_type": "stream",
     "text": [
      "Inputs shape (batch, time, features): (32, 1, 50)\n",
      "<class 'tensorflow.python.framework.ops.EagerTensor'>\n",
      "Labels shape (batch, time, features): (32, 1, 1)\n"
     ]
    }
   ],
   "source": [
    "for example_inputs, example_labels in single_step_window.train.take(1):\n",
    "  print(f'Inputs shape (batch, time, features): {example_inputs.shape}')\n",
    "  print(type(example_inputs))\n",
    "  print(f'Labels shape (batch, time, features): {example_labels.shape}')"
   ]
  },
  {
   "cell_type": "code",
   "execution_count": 50,
   "metadata": {},
   "outputs": [
    {
     "name": "stdout",
     "output_type": "stream",
     "text": [
      "36/36 [==============================] - 0s 7ms/step - loss: 0.0108 - mean_absolute_error: 0.0828\n"
     ]
    }
   ],
   "source": [
    "train_performance['Linear_S'] = linear.evaluate(single_step_window.train)"
   ]
  },
  {
   "cell_type": "code",
   "execution_count": 51,
   "metadata": {},
   "outputs": [
    {
     "name": "stdout",
     "output_type": "stream",
     "text": [
      "1/1 [==============================] - 0s 31ms/step - loss: 0.2053 - mean_absolute_error: 0.3543\n"
     ]
    }
   ],
   "source": [
    "val_performance['Linear_S'] = linear.evaluate(single_step_window.val)"
   ]
  },
  {
   "cell_type": "code",
   "execution_count": 52,
   "metadata": {},
   "outputs": [],
   "source": [
    "performance['Linear_S'] = linear.evaluate(single_step_window.test, verbose=0)"
   ]
  },
  {
   "cell_type": "code",
   "execution_count": 53,
   "metadata": {},
   "outputs": [
    {
     "name": "stdout",
     "output_type": "stream",
     "text": [
      "36/36 [==============================] - 0s 4ms/step - loss: 0.0108 - mean_absolute_error: 0.0828\n",
      "1/1 [==============================] - 0s 29ms/step - loss: 0.2053 - mean_absolute_error: 0.3543\n"
     ]
    }
   ],
   "source": [
    "train_performance['Linear_S'] = linear.evaluate(single_step_window.train)\n",
    "val_performance['Linear_S'] = linear.evaluate(single_step_window.val)\n",
    "performance['Linear_S'] = linear.evaluate(single_step_window.test, verbose=0)"
   ]
  },
  {
   "cell_type": "code",
   "execution_count": 54,
   "metadata": {},
   "outputs": [
    {
     "data": {
      "text/plain": [
       "{'Baseline_S': [0.03862707316875458, 0.16349747776985168],\n",
       " 'Linear_S': [0.13398684561252594, 0.3218185305595398]}"
      ]
     },
     "execution_count": 54,
     "metadata": {},
     "output_type": "execute_result"
    }
   ],
   "source": [
    "performance"
   ]
  },
  {
   "cell_type": "code",
   "execution_count": 55,
   "metadata": {},
   "outputs": [
    {
     "data": {
      "image/png": "[encoded data removed]",
      "text/plain": [
       "<Figure size 576x432 with 1 Axes>"
      ]
     },
     "metadata": {
      "needs_background": "light"
     },
     "output_type": "display_data"
    }
   ],
   "source": [
    "x = np.arange(len(performance))\n",
    "width = 0.3\n",
    "metric_name = 'mean_absolute_error'\n",
    "metric_index = linear.metrics_names.index('mean_absolute_error')\n",
    "val_mae = [v[metric_index] for v in val_performance.values()]\n",
    "test_mae = [v[metric_index] for v in performance.values()]\n",
    "train_mae = [v[metric_index] for v in train_performance.values()]\n",
    "\n",
    "plt.ylabel('mean_absolute_error [T (degC), normalized]')\n",
    "plt.bar(x - 0.17, val_mae, width, label='Validation')\n",
    "plt.bar(x + 0.17, test_mae, width, label='Test')\n",
    "plt.xticks(ticks=x, labels=performance.keys(),\n",
    "           rotation=45)\n",
    "_ = plt.legend()"
   ]
  },
  {
   "cell_type": "code",
   "execution_count": null,
   "metadata": {},
   "outputs": [],
   "source": []
  },
  {
   "cell_type": "markdown",
   "metadata": {},
   "source": [
    "## - w1"
   ]
  },
  {
   "cell_type": "code",
   "execution_count": 56,
   "metadata": {},
   "outputs": [],
   "source": [
    "w1 = WindowGenerator(input_width=22, label_width=1, shift=1,\n",
    "                     label_columns=['ad_Close'])"
   ]
  },
  {
   "cell_type": "code",
   "execution_count": 57,
   "metadata": {},
   "outputs": [],
   "source": [
    "example_window = tf.stack([np.array(train_data[:w1.total_window_size]),\n",
    "                           np.array(train_data[100:100+w1.total_window_size]),\n",
    "                           np.array(train_data[200:200+w1.total_window_size])])\n",
    "#example_inputs, example_labels = w1.split_window(example_window)"
   ]
  },
  {
   "cell_type": "code",
   "execution_count": 58,
   "metadata": {},
   "outputs": [
    {
     "name": "stdout",
     "output_type": "stream",
     "text": [
      "Inputs shape (batch, time, features): (32, 22, 50)\n",
      "Labels shape (batch, time, features): (32, 1, 1)\n"
     ]
    }
   ],
   "source": [
    "for example_inputs, example_labels in w1.train.take(1):\n",
    "  print(f'Inputs shape (batch, time, features): {example_inputs.shape}')\n",
    "  print(f'Labels shape (batch, time, features): {example_labels.shape}')"
   ]
  },
  {
   "cell_type": "code",
   "execution_count": 59,
   "metadata": {},
   "outputs": [],
   "source": [
    "#w1.example = example_inputs, example_labels"
   ]
  },
  {
   "cell_type": "code",
   "execution_count": 60,
   "metadata": {},
   "outputs": [
    {
     "data": {
      "image/png": "[encoded data removed]",
      "text/plain": [
       "<Figure size 864x576 with 3 Axes>"
      ]
     },
     "metadata": {
      "needs_background": "light"
     },
     "output_type": "display_data"
    }
   ],
   "source": [
    "w1.plot()"
   ]
  },
  {
   "cell_type": "code",
   "execution_count": 61,
   "metadata": {},
   "outputs": [
    {
     "data": {
      "text/plain": [
       "(TensorSpec(shape=(None, 22, 50), dtype=tf.float32, name=None),\n",
       " TensorSpec(shape=(None, 1, 1), dtype=tf.float32, name=None))"
      ]
     },
     "execution_count": 61,
     "metadata": {},
     "output_type": "execute_result"
    }
   ],
   "source": [
    "w1.train.element_spec"
   ]
  },
  {
   "cell_type": "code",
   "execution_count": 62,
   "metadata": {},
   "outputs": [
    {
     "name": "stdout",
     "output_type": "stream",
     "text": [
      "Inputs shape (batch, time, features): (32, 22, 50)\n",
      "<class 'tensorflow.python.framework.ops.EagerTensor'>\n",
      "Labels shape (batch, time, features): (32, 1, 1)\n"
     ]
    }
   ],
   "source": [
    "for example_inputs, example_labels in w1.train.take(1):\n",
    "  print(f'Inputs shape (batch, time, features): {example_inputs.shape}')\n",
    "  print(type(example_inputs))\n",
    "  print(f'Labels shape (batch, time, features): {example_labels.shape}')"
   ]
  },
  {
   "cell_type": "code",
   "execution_count": 63,
   "metadata": {},
   "outputs": [
    {
     "data": {
      "text/plain": [
       "32"
      ]
     },
     "execution_count": 63,
     "metadata": {},
     "output_type": "execute_result"
    }
   ],
   "source": [
    "len(example_inputs)"
   ]
  },
  {
   "cell_type": "code",
   "execution_count": 64,
   "metadata": {},
   "outputs": [
    {
     "name": "stdout",
     "output_type": "stream",
     "text": [
      "Epoch 1/20\n",
      "34/35 [============================>.] - ETA: 0s - loss: 0.0047 - mean_absolute_error: 0.0490WARNING:tensorflow:Early stopping conditioned on metric `val_loss` which is not available. Available metrics are: loss,mean_absolute_error\n",
      "35/35 [==============================] - 0s 4ms/step - loss: 0.0047 - mean_absolute_error: 0.0492\n",
      "Epoch 2/20\n",
      " 1/35 [..............................] - ETA: 0s - loss: 0.0042 - mean_absolute_error: 0.0444"
     ]
    },
    {
     "name": "stderr",
     "output_type": "stream",
     "text": [
      "2022-04-27 20:26:29.483138: I tensorflow/core/grappler/optimizers/custom_graph_optimizer_registry.cc:113] Plugin optimizer for device_type GPU is enabled.\n"
     ]
    },
    {
     "name": "stdout",
     "output_type": "stream",
     "text": [
      "33/35 [===========================>..] - ETA: 0s - loss: 0.0047 - mean_absolute_error: 0.0492WARNING:tensorflow:Early stopping conditioned on metric `val_loss` which is not available. Available metrics are: loss,mean_absolute_error\n",
      "35/35 [==============================] - 0s 4ms/step - loss: 0.0047 - mean_absolute_error: 0.0492\n",
      "Epoch 3/20\n",
      "34/35 [============================>.] - ETA: 0s - loss: 0.0047 - mean_absolute_error: 0.0493WARNING:tensorflow:Early stopping conditioned on metric `val_loss` which is not available. Available metrics are: loss,mean_absolute_error\n",
      "35/35 [==============================] - 0s 4ms/step - loss: 0.0047 - mean_absolute_error: 0.0492\n",
      "Epoch 4/20\n",
      "34/35 [============================>.] - ETA: 0s - loss: 0.0047 - mean_absolute_error: 0.0491WARNING:tensorflow:Early stopping conditioned on metric `val_loss` which is not available. Available metrics are: loss,mean_absolute_error\n",
      "35/35 [==============================] - 0s 4ms/step - loss: 0.0047 - mean_absolute_error: 0.0492\n",
      "Epoch 5/20\n",
      "34/35 [============================>.] - ETA: 0s - loss: 0.0047 - mean_absolute_error: 0.0492WARNING:tensorflow:Early stopping conditioned on metric `val_loss` which is not available. Available metrics are: loss,mean_absolute_error\n",
      "35/35 [==============================] - 0s 4ms/step - loss: 0.0047 - mean_absolute_error: 0.0492\n",
      "Epoch 6/20\n",
      "31/35 [=========================>....] - ETA: 0s - loss: 0.0047 - mean_absolute_error: 0.0493WARNING:tensorflow:Early stopping conditioned on metric `val_loss` which is not available. Available metrics are: loss,mean_absolute_error\n",
      "35/35 [==============================] - 0s 4ms/step - loss: 0.0047 - mean_absolute_error: 0.0492\n",
      "Epoch 7/20\n",
      "32/35 [==========================>...] - ETA: 0s - loss: 0.0047 - mean_absolute_error: 0.0491WARNING:tensorflow:Early stopping conditioned on metric `val_loss` which is not available. Available metrics are: loss,mean_absolute_error\n",
      "35/35 [==============================] - 0s 4ms/step - loss: 0.0047 - mean_absolute_error: 0.0492\n",
      "Epoch 8/20\n",
      "34/35 [============================>.] - ETA: 0s - loss: 0.0047 - mean_absolute_error: 0.0490WARNING:tensorflow:Early stopping conditioned on metric `val_loss` which is not available. Available metrics are: loss,mean_absolute_error\n",
      "35/35 [==============================] - 0s 4ms/step - loss: 0.0047 - mean_absolute_error: 0.0492\n",
      "Epoch 9/20\n",
      "32/35 [==========================>...] - ETA: 0s - loss: 0.0047 - mean_absolute_error: 0.0491WARNING:tensorflow:Early stopping conditioned on metric `val_loss` which is not available. Available metrics are: loss,mean_absolute_error\n",
      "35/35 [==============================] - 0s 4ms/step - loss: 0.0047 - mean_absolute_error: 0.0492\n",
      "Epoch 10/20\n",
      "34/35 [============================>.] - ETA: 0s - loss: 0.0047 - mean_absolute_error: 0.0491WARNING:tensorflow:Early stopping conditioned on metric `val_loss` which is not available. Available metrics are: loss,mean_absolute_error\n",
      "35/35 [==============================] - 0s 4ms/step - loss: 0.0047 - mean_absolute_error: 0.0492\n",
      "Epoch 11/20\n",
      "34/35 [============================>.] - ETA: 0s - loss: 0.0047 - mean_absolute_error: 0.0492WARNING:tensorflow:Early stopping conditioned on metric `val_loss` which is not available. Available metrics are: loss,mean_absolute_error\n",
      "35/35 [==============================] - 0s 4ms/step - loss: 0.0047 - mean_absolute_error: 0.0492\n",
      "Epoch 12/20\n",
      "33/35 [===========================>..] - ETA: 0s - loss: 0.0048 - mean_absolute_error: 0.0496WARNING:tensorflow:Early stopping conditioned on metric `val_loss` which is not available. Available metrics are: loss,mean_absolute_error\n",
      "35/35 [==============================] - 0s 4ms/step - loss: 0.0047 - mean_absolute_error: 0.0492\n",
      "Epoch 13/20\n",
      "32/35 [==========================>...] - ETA: 0s - loss: 0.0046 - mean_absolute_error: 0.0487WARNING:tensorflow:Early stopping conditioned on metric `val_loss` which is not available. Available metrics are: loss,mean_absolute_error\n",
      "35/35 [==============================] - 0s 4ms/step - loss: 0.0047 - mean_absolute_error: 0.0492\n",
      "Epoch 14/20\n",
      "34/35 [============================>.] - ETA: 0s - loss: 0.0047 - mean_absolute_error: 0.0491WARNING:tensorflow:Early stopping conditioned on metric `val_loss` which is not available. Available metrics are: loss,mean_absolute_error\n",
      "35/35 [==============================] - 0s 4ms/step - loss: 0.0047 - mean_absolute_error: 0.0492\n",
      "Epoch 15/20\n",
      "31/35 [=========================>....] - ETA: 0s - loss: 0.0047 - mean_absolute_error: 0.0492WARNING:tensorflow:Early stopping conditioned on metric `val_loss` which is not available. Available metrics are: loss,mean_absolute_error\n",
      "35/35 [==============================] - 0s 4ms/step - loss: 0.0047 - mean_absolute_error: 0.0492\n",
      "Epoch 16/20\n",
      "34/35 [============================>.] - ETA: 0s - loss: 0.0047 - mean_absolute_error: 0.0493WARNING:tensorflow:Early stopping conditioned on metric `val_loss` which is not available. Available metrics are: loss,mean_absolute_error\n",
      "35/35 [==============================] - 0s 4ms/step - loss: 0.0047 - mean_absolute_error: 0.0492\n",
      "Epoch 17/20\n",
      "34/35 [============================>.] - ETA: 0s - loss: 0.0047 - mean_absolute_error: 0.0493WARNING:tensorflow:Early stopping conditioned on metric `val_loss` which is not available. Available metrics are: loss,mean_absolute_error\n",
      "35/35 [==============================] - 0s 4ms/step - loss: 0.0047 - mean_absolute_error: 0.0492\n",
      "Epoch 18/20\n",
      "34/35 [============================>.] - ETA: 0s - loss: 0.0047 - mean_absolute_error: 0.0489WARNING:tensorflow:Early stopping conditioned on metric `val_loss` which is not available. Available metrics are: loss,mean_absolute_error\n",
      "35/35 [==============================] - 0s 4ms/step - loss: 0.0047 - mean_absolute_error: 0.0492\n",
      "Epoch 19/20\n",
      "33/35 [===========================>..] - ETA: 0s - loss: 0.0047 - mean_absolute_error: 0.0490WARNING:tensorflow:Early stopping conditioned on metric `val_loss` which is not available. Available metrics are: loss,mean_absolute_error\n",
      "35/35 [==============================] - 0s 4ms/step - loss: 0.0047 - mean_absolute_error: 0.0492\n",
      "Epoch 20/20\n",
      "34/35 [============================>.] - ETA: 0s - loss: 0.0047 - mean_absolute_error: 0.0491WARNING:tensorflow:Early stopping conditioned on metric `val_loss` which is not available. Available metrics are: loss,mean_absolute_error\n",
      "35/35 [==============================] - 0s 4ms/step - loss: 0.0047 - mean_absolute_error: 0.0492\n"
     ]
    }
   ],
   "source": [
    "history_b_w = compile_and_fit(baseline, w1)"
   ]
  },
  {
   "cell_type": "code",
   "execution_count": 65,
   "metadata": {},
   "outputs": [
    {
     "data": {
      "text/html": [
       "<div>\n",
       "<style scoped>\n",
       "    .dataframe tbody tr th:only-of-type {\n",
       "        vertical-align: middle;\n",
       "    }\n",
       "\n",
       "    .dataframe tbody tr th {\n",
       "        vertical-align: top;\n",
       "    }\n",
       "\n",
       "    .dataframe thead th {\n",
       "        text-align: right;\n",
       "    }\n",
       "</style>\n",
       "<table border=\"1\" class=\"dataframe\">\n",
       "  <thead>\n",
       "    <tr style=\"text-align: right;\">\n",
       "      <th></th>\n",
       "      <th>loss</th>\n",
       "      <th>mean_absolute_error</th>\n",
       "    </tr>\n",
       "  </thead>\n",
       "  <tbody>\n",
       "    <tr>\n",
       "      <th>0</th>\n",
       "      <td>0.004709</td>\n",
       "      <td>0.049164</td>\n",
       "    </tr>\n",
       "    <tr>\n",
       "      <th>1</th>\n",
       "      <td>0.004709</td>\n",
       "      <td>0.049164</td>\n",
       "    </tr>\n",
       "    <tr>\n",
       "      <th>2</th>\n",
       "      <td>0.004709</td>\n",
       "      <td>0.049164</td>\n",
       "    </tr>\n",
       "    <tr>\n",
       "      <th>3</th>\n",
       "      <td>0.004709</td>\n",
       "      <td>0.049164</td>\n",
       "    </tr>\n",
       "    <tr>\n",
       "      <th>4</th>\n",
       "      <td>0.004709</td>\n",
       "      <td>0.049164</td>\n",
       "    </tr>\n",
       "    <tr>\n",
       "      <th>5</th>\n",
       "      <td>0.004709</td>\n",
       "      <td>0.049164</td>\n",
       "    </tr>\n",
       "    <tr>\n",
       "      <th>6</th>\n",
       "      <td>0.004709</td>\n",
       "      <td>0.049164</td>\n",
       "    </tr>\n",
       "    <tr>\n",
       "      <th>7</th>\n",
       "      <td>0.004709</td>\n",
       "      <td>0.049164</td>\n",
       "    </tr>\n",
       "    <tr>\n",
       "      <th>8</th>\n",
       "      <td>0.004709</td>\n",
       "      <td>0.049164</td>\n",
       "    </tr>\n",
       "    <tr>\n",
       "      <th>9</th>\n",
       "      <td>0.004709</td>\n",
       "      <td>0.049164</td>\n",
       "    </tr>\n",
       "    <tr>\n",
       "      <th>10</th>\n",
       "      <td>0.004709</td>\n",
       "      <td>0.049164</td>\n",
       "    </tr>\n",
       "    <tr>\n",
       "      <th>11</th>\n",
       "      <td>0.004709</td>\n",
       "      <td>0.049164</td>\n",
       "    </tr>\n",
       "    <tr>\n",
       "      <th>12</th>\n",
       "      <td>0.004709</td>\n",
       "      <td>0.049164</td>\n",
       "    </tr>\n",
       "    <tr>\n",
       "      <th>13</th>\n",
       "      <td>0.004709</td>\n",
       "      <td>0.049164</td>\n",
       "    </tr>\n",
       "    <tr>\n",
       "      <th>14</th>\n",
       "      <td>0.004709</td>\n",
       "      <td>0.049164</td>\n",
       "    </tr>\n",
       "    <tr>\n",
       "      <th>15</th>\n",
       "      <td>0.004709</td>\n",
       "      <td>0.049164</td>\n",
       "    </tr>\n",
       "    <tr>\n",
       "      <th>16</th>\n",
       "      <td>0.004709</td>\n",
       "      <td>0.049164</td>\n",
       "    </tr>\n",
       "    <tr>\n",
       "      <th>17</th>\n",
       "      <td>0.004709</td>\n",
       "      <td>0.049164</td>\n",
       "    </tr>\n",
       "    <tr>\n",
       "      <th>18</th>\n",
       "      <td>0.004709</td>\n",
       "      <td>0.049164</td>\n",
       "    </tr>\n",
       "    <tr>\n",
       "      <th>19</th>\n",
       "      <td>0.004709</td>\n",
       "      <td>0.049164</td>\n",
       "    </tr>\n",
       "  </tbody>\n",
       "</table>\n",
       "</div>"
      ],
      "text/plain": [
       "        loss  mean_absolute_error\n",
       "0   0.004709             0.049164\n",
       "1   0.004709             0.049164\n",
       "2   0.004709             0.049164\n",
       "3   0.004709             0.049164\n",
       "4   0.004709             0.049164\n",
       "5   0.004709             0.049164\n",
       "6   0.004709             0.049164\n",
       "7   0.004709             0.049164\n",
       "8   0.004709             0.049164\n",
       "9   0.004709             0.049164\n",
       "10  0.004709             0.049164\n",
       "11  0.004709             0.049164\n",
       "12  0.004709             0.049164\n",
       "13  0.004709             0.049164\n",
       "14  0.004709             0.049164\n",
       "15  0.004709             0.049164\n",
       "16  0.004709             0.049164\n",
       "17  0.004709             0.049164\n",
       "18  0.004709             0.049164\n",
       "19  0.004709             0.049164"
      ]
     },
     "execution_count": 65,
     "metadata": {},
     "output_type": "execute_result"
    }
   ],
   "source": [
    "pd.DataFrame(history_b_w.history)"
   ]
  },
  {
   "cell_type": "code",
   "execution_count": 66,
   "metadata": {},
   "outputs": [
    {
     "name": "stderr",
     "output_type": "stream",
     "text": [
      "2022-04-27 20:26:32.692018: I tensorflow/core/grappler/optimizers/custom_graph_optimizer_registry.cc:113] Plugin optimizer for device_type GPU is enabled.\n"
     ]
    }
   ],
   "source": [
    "\n",
    "#val_performance['Baseline'] = baseline.evaluate(w1.val)\n",
    "performance['Baseline_w'] = baseline.evaluate(example_inputs,example_labels , verbose=0)"
   ]
  },
  {
   "cell_type": "code",
   "execution_count": 67,
   "metadata": {},
   "outputs": [],
   "source": [
    "#baseline.predict(example_inputs)"
   ]
  },
  {
   "cell_type": "code",
   "execution_count": 68,
   "metadata": {},
   "outputs": [
    {
     "data": {
      "text/plain": [
       "<MapDataset element_spec=(TensorSpec(shape=(None, 22, 50), dtype=tf.float32, name=None), TensorSpec(shape=(None, 1, 1), dtype=tf.float32, name=None))>"
      ]
     },
     "execution_count": 68,
     "metadata": {},
     "output_type": "execute_result"
    }
   ],
   "source": [
    "w1.train"
   ]
  },
  {
   "cell_type": "code",
   "execution_count": 77,
   "metadata": {},
   "outputs": [
    {
     "name": "stdout",
     "output_type": "stream",
     "text": [
      "Epoch 1/20\n",
      "21/35 [=================>............] - ETA: 0s - loss: 0.0032 - mean_absolute_error: 0.0424"
     ]
    },
    {
     "name": "stderr",
     "output_type": "stream",
     "text": [
      "2022-04-27 20:28:44.460193: I tensorflow/core/grappler/optimizers/custom_graph_optimizer_registry.cc:113] Plugin optimizer for device_type GPU is enabled.\n"
     ]
    },
    {
     "name": "stdout",
     "output_type": "stream",
     "text": [
      "31/35 [=========================>....] - ETA: 0s - loss: 0.0031 - mean_absolute_error: 0.0417WARNING:tensorflow:Early stopping conditioned on metric `val_loss` which is not available. Available metrics are: loss,mean_absolute_error\n",
      "35/35 [==============================] - 0s 6ms/step - loss: 0.0032 - mean_absolute_error: 0.0420\n",
      "Epoch 2/20\n",
      "34/35 [============================>.] - ETA: 0s - loss: 0.0031 - mean_absolute_error: 0.0414WARNING:tensorflow:Early stopping conditioned on metric `val_loss` which is not available. Available metrics are: loss,mean_absolute_error\n",
      "35/35 [==============================] - 0s 11ms/step - loss: 0.0031 - mean_absolute_error: 0.0414\n",
      "Epoch 3/20\n",
      "32/35 [==========================>...] - ETA: 0s - loss: 0.0031 - mean_absolute_error: 0.0407WARNING:tensorflow:Early stopping conditioned on metric `val_loss` which is not available. Available metrics are: loss,mean_absolute_error\n",
      "35/35 [==============================] - 0s 8ms/step - loss: 0.0030 - mean_absolute_error: 0.0404\n",
      "Epoch 4/20\n",
      "32/35 [==========================>...] - ETA: 0s - loss: 0.0029 - mean_absolute_error: 0.0399WARNING:tensorflow:Early stopping conditioned on metric `val_loss` which is not available. Available metrics are: loss,mean_absolute_error\n",
      "35/35 [==============================] - 0s 8ms/step - loss: 0.0030 - mean_absolute_error: 0.0402\n",
      "Epoch 5/20\n",
      "29/35 [=======================>......] - ETA: 0s - loss: 0.0029 - mean_absolute_error: 0.0395WARNING:tensorflow:Early stopping conditioned on metric `val_loss` which is not available. Available metrics are: loss,mean_absolute_error\n",
      "35/35 [==============================] - 0s 6ms/step - loss: 0.0029 - mean_absolute_error: 0.0392\n",
      "Epoch 6/20\n",
      "34/35 [============================>.] - ETA: 0s - loss: 0.0028 - mean_absolute_error: 0.0391WARNING:tensorflow:Early stopping conditioned on metric `val_loss` which is not available. Available metrics are: loss,mean_absolute_error\n",
      "35/35 [==============================] - 0s 5ms/step - loss: 0.0028 - mean_absolute_error: 0.0392\n",
      "Epoch 7/20\n",
      "33/35 [===========================>..] - ETA: 0s - loss: 0.0028 - mean_absolute_error: 0.0385WARNING:tensorflow:Early stopping conditioned on metric `val_loss` which is not available. Available metrics are: loss,mean_absolute_error\n",
      "35/35 [==============================] - 0s 5ms/step - loss: 0.0027 - mean_absolute_error: 0.0384\n",
      "Epoch 8/20\n",
      "33/35 [===========================>..] - ETA: 0s - loss: 0.0028 - mean_absolute_error: 0.0384WARNING:tensorflow:Early stopping conditioned on metric `val_loss` which is not available. Available metrics are: loss,mean_absolute_error\n",
      "35/35 [==============================] - 0s 5ms/step - loss: 0.0027 - mean_absolute_error: 0.0382\n",
      "Epoch 9/20\n",
      "33/35 [===========================>..] - ETA: 0s - loss: 0.0027 - mean_absolute_error: 0.0379WARNING:tensorflow:Early stopping conditioned on metric `val_loss` which is not available. Available metrics are: loss,mean_absolute_error\n",
      "35/35 [==============================] - 0s 5ms/step - loss: 0.0027 - mean_absolute_error: 0.0382\n",
      "Epoch 10/20\n",
      "33/35 [===========================>..] - ETA: 0s - loss: 0.0027 - mean_absolute_error: 0.0378WARNING:tensorflow:Early stopping conditioned on metric `val_loss` which is not available. Available metrics are: loss,mean_absolute_error\n",
      "35/35 [==============================] - 0s 5ms/step - loss: 0.0027 - mean_absolute_error: 0.0376\n",
      "Epoch 11/20\n",
      "29/35 [=======================>......] - ETA: 0s - loss: 0.0026 - mean_absolute_error: 0.0379WARNING:tensorflow:Early stopping conditioned on metric `val_loss` which is not available. Available metrics are: loss,mean_absolute_error\n",
      "35/35 [==============================] - 0s 6ms/step - loss: 0.0027 - mean_absolute_error: 0.0378\n",
      "Epoch 12/20\n",
      "27/35 [======================>.......] - ETA: 0s - loss: 0.0024 - mean_absolute_error: 0.0364WARNING:tensorflow:Early stopping conditioned on metric `val_loss` which is not available. Available metrics are: loss,mean_absolute_error\n",
      "35/35 [==============================] - 0s 6ms/step - loss: 0.0026 - mean_absolute_error: 0.0371\n",
      "Epoch 13/20\n",
      "34/35 [============================>.] - ETA: 0s - loss: 0.0026 - mean_absolute_error: 0.0372WARNING:tensorflow:Early stopping conditioned on metric `val_loss` which is not available. Available metrics are: loss,mean_absolute_error\n",
      "35/35 [==============================] - 0s 7ms/step - loss: 0.0026 - mean_absolute_error: 0.0373\n",
      "Epoch 14/20\n",
      "32/35 [==========================>...] - ETA: 0s - loss: 0.0026 - mean_absolute_error: 0.0373WARNING:tensorflow:Early stopping conditioned on metric `val_loss` which is not available. Available metrics are: loss,mean_absolute_error\n",
      "35/35 [==============================] - 0s 5ms/step - loss: 0.0026 - mean_absolute_error: 0.0372\n",
      "Epoch 15/20\n",
      "34/35 [============================>.] - ETA: 0s - loss: 0.0025 - mean_absolute_error: 0.0367WARNING:tensorflow:Early stopping conditioned on metric `val_loss` which is not available. Available metrics are: loss,mean_absolute_error\n",
      "35/35 [==============================] - 0s 5ms/step - loss: 0.0025 - mean_absolute_error: 0.0367\n",
      "Epoch 16/20\n",
      "33/35 [===========================>..] - ETA: 0s - loss: 0.0025 - mean_absolute_error: 0.0366WARNING:tensorflow:Early stopping conditioned on metric `val_loss` which is not available. Available metrics are: loss,mean_absolute_error\n",
      "35/35 [==============================] - 0s 5ms/step - loss: 0.0025 - mean_absolute_error: 0.0367\n",
      "Epoch 17/20\n",
      "33/35 [===========================>..] - ETA: 0s - loss: 0.0025 - mean_absolute_error: 0.0364WARNING:tensorflow:Early stopping conditioned on metric `val_loss` which is not available. Available metrics are: loss,mean_absolute_error\n",
      "35/35 [==============================] - 0s 6ms/step - loss: 0.0025 - mean_absolute_error: 0.0363\n",
      "Epoch 18/20\n",
      "33/35 [===========================>..] - ETA: 0s - loss: 0.0025 - mean_absolute_error: 0.0365WARNING:tensorflow:Early stopping conditioned on metric `val_loss` which is not available. Available metrics are: loss,mean_absolute_error\n",
      "35/35 [==============================] - 0s 5ms/step - loss: 0.0025 - mean_absolute_error: 0.0362\n",
      "Epoch 19/20\n",
      "32/35 [==========================>...] - ETA: 0s - loss: 0.0025 - mean_absolute_error: 0.0365WARNING:tensorflow:Early stopping conditioned on metric `val_loss` which is not available. Available metrics are: loss,mean_absolute_error\n",
      "35/35 [==============================] - 0s 6ms/step - loss: 0.0025 - mean_absolute_error: 0.0368\n",
      "Epoch 20/20\n",
      "34/35 [============================>.] - ETA: 0s - loss: 0.0026 - mean_absolute_error: 0.0369WARNING:tensorflow:Early stopping conditioned on metric `val_loss` which is not available. Available metrics are: loss,mean_absolute_error\n",
      "35/35 [==============================] - 0s 5ms/step - loss: 0.0026 - mean_absolute_error: 0.0369\n"
     ]
    }
   ],
   "source": [
    "history_l_w = compile_and_fit(linear, w1)\n",
    "#performance['Linear_w'] = linear.evaluate(example_inputs,example_labels , verbose=0)"
   ]
  },
  {
   "cell_type": "code",
   "execution_count": 70,
   "metadata": {},
   "outputs": [
    {
     "data": {
      "text/html": [
       "<div>\n",
       "<style scoped>\n",
       "    .dataframe tbody tr th:only-of-type {\n",
       "        vertical-align: middle;\n",
       "    }\n",
       "\n",
       "    .dataframe tbody tr th {\n",
       "        vertical-align: top;\n",
       "    }\n",
       "\n",
       "    .dataframe thead th {\n",
       "        text-align: right;\n",
       "    }\n",
       "</style>\n",
       "<table border=\"1\" class=\"dataframe\">\n",
       "  <thead>\n",
       "    <tr style=\"text-align: right;\">\n",
       "      <th></th>\n",
       "      <th>loss</th>\n",
       "      <th>mean_absolute_error</th>\n",
       "    </tr>\n",
       "  </thead>\n",
       "  <tbody>\n",
       "    <tr>\n",
       "      <th>0</th>\n",
       "      <td>0.016328</td>\n",
       "      <td>0.100415</td>\n",
       "    </tr>\n",
       "    <tr>\n",
       "      <th>1</th>\n",
       "      <td>0.012531</td>\n",
       "      <td>0.086853</td>\n",
       "    </tr>\n",
       "    <tr>\n",
       "      <th>2</th>\n",
       "      <td>0.010416</td>\n",
       "      <td>0.078212</td>\n",
       "    </tr>\n",
       "    <tr>\n",
       "      <th>3</th>\n",
       "      <td>0.009007</td>\n",
       "      <td>0.072286</td>\n",
       "    </tr>\n",
       "    <tr>\n",
       "      <th>4</th>\n",
       "      <td>0.007891</td>\n",
       "      <td>0.067265</td>\n",
       "    </tr>\n",
       "    <tr>\n",
       "      <th>5</th>\n",
       "      <td>0.007128</td>\n",
       "      <td>0.063502</td>\n",
       "    </tr>\n",
       "    <tr>\n",
       "      <th>6</th>\n",
       "      <td>0.006414</td>\n",
       "      <td>0.060100</td>\n",
       "    </tr>\n",
       "    <tr>\n",
       "      <th>7</th>\n",
       "      <td>0.005894</td>\n",
       "      <td>0.057315</td>\n",
       "    </tr>\n",
       "    <tr>\n",
       "      <th>8</th>\n",
       "      <td>0.005571</td>\n",
       "      <td>0.055691</td>\n",
       "    </tr>\n",
       "    <tr>\n",
       "      <th>9</th>\n",
       "      <td>0.005090</td>\n",
       "      <td>0.052959</td>\n",
       "    </tr>\n",
       "    <tr>\n",
       "      <th>10</th>\n",
       "      <td>0.004833</td>\n",
       "      <td>0.051812</td>\n",
       "    </tr>\n",
       "    <tr>\n",
       "      <th>11</th>\n",
       "      <td>0.004522</td>\n",
       "      <td>0.049898</td>\n",
       "    </tr>\n",
       "    <tr>\n",
       "      <th>12</th>\n",
       "      <td>0.004294</td>\n",
       "      <td>0.048645</td>\n",
       "    </tr>\n",
       "    <tr>\n",
       "      <th>13</th>\n",
       "      <td>0.004139</td>\n",
       "      <td>0.047790</td>\n",
       "    </tr>\n",
       "    <tr>\n",
       "      <th>14</th>\n",
       "      <td>0.003929</td>\n",
       "      <td>0.046540</td>\n",
       "    </tr>\n",
       "    <tr>\n",
       "      <th>15</th>\n",
       "      <td>0.003882</td>\n",
       "      <td>0.046205</td>\n",
       "    </tr>\n",
       "    <tr>\n",
       "      <th>16</th>\n",
       "      <td>0.003644</td>\n",
       "      <td>0.044605</td>\n",
       "    </tr>\n",
       "    <tr>\n",
       "      <th>17</th>\n",
       "      <td>0.003582</td>\n",
       "      <td>0.044221</td>\n",
       "    </tr>\n",
       "    <tr>\n",
       "      <th>18</th>\n",
       "      <td>0.003399</td>\n",
       "      <td>0.042984</td>\n",
       "    </tr>\n",
       "    <tr>\n",
       "      <th>19</th>\n",
       "      <td>0.003394</td>\n",
       "      <td>0.043040</td>\n",
       "    </tr>\n",
       "  </tbody>\n",
       "</table>\n",
       "</div>"
      ],
      "text/plain": [
       "        loss  mean_absolute_error\n",
       "0   0.016328             0.100415\n",
       "1   0.012531             0.086853\n",
       "2   0.010416             0.078212\n",
       "3   0.009007             0.072286\n",
       "4   0.007891             0.067265\n",
       "5   0.007128             0.063502\n",
       "6   0.006414             0.060100\n",
       "7   0.005894             0.057315\n",
       "8   0.005571             0.055691\n",
       "9   0.005090             0.052959\n",
       "10  0.004833             0.051812\n",
       "11  0.004522             0.049898\n",
       "12  0.004294             0.048645\n",
       "13  0.004139             0.047790\n",
       "14  0.003929             0.046540\n",
       "15  0.003882             0.046205\n",
       "16  0.003644             0.044605\n",
       "17  0.003582             0.044221\n",
       "18  0.003399             0.042984\n",
       "19  0.003394             0.043040"
      ]
     },
     "execution_count": 70,
     "metadata": {},
     "output_type": "execute_result"
    }
   ],
   "source": [
    "pd.DataFrame(history_l_w.history)"
   ]
  },
  {
   "cell_type": "code",
   "execution_count": 71,
   "metadata": {},
   "outputs": [],
   "source": [
    "#plot_loss(history_l_w)"
   ]
  },
  {
   "cell_type": "code",
   "execution_count": 72,
   "metadata": {},
   "outputs": [],
   "source": [
    "for example_inputs, example_labels in w1.test.take(1):\n",
    "  print(f'Inputs shape (batch, time, features): {example_inputs.shape}')\n",
    "  print(type(example_inputs))\n",
    "  print(f'Labels shape (batch, time, features): {example_labels.shape}')"
   ]
  },
  {
   "cell_type": "code",
   "execution_count": null,
   "metadata": {},
   "outputs": [],
   "source": [
    "train_performance['Linear_w'] = linear.evaluate(w1.train)\n",
    "#val_performance['Linear_w'] = linear.evaluate(w1.val)\n",
    "#performance['Linear_w'] = linear.evaluate(example_inputs,example_labels)\n",
    "#performance['Linear_w'] = linear.evaluate(w1.test)"
   ]
  },
  {
   "cell_type": "code",
   "execution_count": 74,
   "metadata": {},
   "outputs": [
    {
     "data": {
      "text/plain": [
       "{'Baseline_S': [0.03862707316875458, 0.16349747776985168],\n",
       " 'Linear_S': [0.13398684561252594, 0.3218185305595398],\n",
       " 'Baseline_w': [0.007081523071974516, 0.05763290449976921]}"
      ]
     },
     "execution_count": 74,
     "metadata": {},
     "output_type": "execute_result"
    }
   ],
   "source": [
    "performance"
   ]
  },
  {
   "cell_type": "code",
   "execution_count": null,
   "metadata": {},
   "outputs": [],
   "source": [
    "'''x = np.arange(len(performance))\n",
    "width = 0.3\n",
    "metric_name = 'mean_absolute_error'\n",
    "metric_index = linear.metrics_names.index('mean_absolute_error')\n",
    "val_mae = [v[metric_index] for v in val_performance.values()]\n",
    "test_mae = [v[metric_index] for v in performance.values()]\n",
    "\n",
    "plt.ylabel('mean_absolute_error [T (degC), normalized]')\n",
    "plt.bar(x , val_mae, width, label='Validation')\n",
    "plt.bar(x , test_mae, width, label='Test')\n",
    "plt.xticks(ticks=x, labels=performance.keys(),\n",
    "           rotation=45)\n",
    "_ = plt.legend()'''"
   ]
  },
  {
   "cell_type": "code",
   "execution_count": null,
   "metadata": {},
   "outputs": [],
   "source": [
    "pd.DataFrame(performance, index=['Mean Squared Error [ad_Close]', 'Mean Absolute error [ad_Close]']).T\n"
   ]
  }
 ],
 "metadata": {
  "interpreter": {
   "hash": "8e59dc4903522b6bd625aac9b906fbe96a3134871878cc11f65b8580a1e47af4"
  },
  "kernelspec": {
   "display_name": "Python 3.9.4 ('.venv': venv)",
   "language": "python",
   "name": "python3"
  },
  "language_info": {
   "codemirror_mode": {
    "name": "ipython",
    "version": 3
   },
   "file_extension": ".py",
   "mimetype": "text/x-python",
   "name": "python",
   "nbconvert_exporter": "python",
   "pygments_lexer": "ipython3",
   "version": "3.9.4"
  },
  "orig_nbformat": 4
 },
 "nbformat": 4,
 "nbformat_minor": 2
}
