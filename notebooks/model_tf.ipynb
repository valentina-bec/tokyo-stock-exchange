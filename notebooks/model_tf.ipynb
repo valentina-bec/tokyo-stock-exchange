{
 "cells": [
  {
   "cell_type": "code",
   "execution_count": 1,
   "metadata": {},
   "outputs": [],
   "source": [
    "import os\n",
    "import datetime\n",
    "\n",
    "import sys\n",
    "\n",
    "sys.path.append(\"..\")\n",
    "\n",
    "import IPython\n",
    "import IPython.display\n",
    "import matplotlib as mpl\n",
    "import matplotlib.pyplot as plt\n",
    "import numpy as np\n",
    "import pandas as pd\n",
    "import seaborn as sns\n",
    "import tensorflow as tf\n",
    "from tqdm import tqdm\n",
    "\n",
    "from sklearn.preprocessing import StandardScaler\n",
    "from functions import df_security_code, missingValues\n",
    "\n",
    "\n",
    "\n",
    "mpl.rcParams['figure.figsize'] = (8, 6)\n",
    "mpl.rcParams['axes.grid'] = False"
   ]
  },
  {
   "cell_type": "markdown",
   "metadata": {},
   "source": [
    "# Data"
   ]
  },
  {
   "cell_type": "code",
   "execution_count": 2,
   "metadata": {},
   "outputs": [],
   "source": [
    "data = pd.read_csv('../data/curr_price_financial_fill.csv', parse_dates=['Date'],  index_col=[0])\n",
    "df = df_security_code(data)\n",
    "del data"
   ]
  },
  {
   "cell_type": "code",
   "execution_count": 3,
   "metadata": {},
   "outputs": [
    {
     "data": {
      "text/html": [
       "<div>\n",
       "<style scoped>\n",
       "    .dataframe tbody tr th:only-of-type {\n",
       "        vertical-align: middle;\n",
       "    }\n",
       "\n",
       "    .dataframe tbody tr th {\n",
       "        vertical-align: top;\n",
       "    }\n",
       "\n",
       "    .dataframe thead th {\n",
       "        text-align: right;\n",
       "    }\n",
       "</style>\n",
       "<table border=\"1\" class=\"dataframe\">\n",
       "  <thead>\n",
       "    <tr style=\"text-align: right;\">\n",
       "      <th></th>\n",
       "      <th>RowId</th>\n",
       "      <th>Date</th>\n",
       "      <th>SecuritiesCode</th>\n",
       "      <th>ExpectedDividend</th>\n",
       "      <th>SupervisionFlag</th>\n",
       "      <th>ad_Open</th>\n",
       "      <th>ad_High</th>\n",
       "      <th>ad_Low</th>\n",
       "      <th>ad_Close</th>\n",
       "      <th>ad_Volume</th>\n",
       "      <th>...</th>\n",
       "      <th>Month_sin</th>\n",
       "      <th>Month_cos</th>\n",
       "      <th>Year_sin</th>\n",
       "      <th>Year_cos</th>\n",
       "      <th>Profit</th>\n",
       "      <th>NetSales</th>\n",
       "      <th>margin</th>\n",
       "      <th>win_quarter_growth</th>\n",
       "      <th>rev_quarter_growth</th>\n",
       "      <th>margin_growth</th>\n",
       "    </tr>\n",
       "  </thead>\n",
       "  <tbody>\n",
       "    <tr>\n",
       "      <th>0</th>\n",
       "      <td>20170104_7203</td>\n",
       "      <td>2017-01-04</td>\n",
       "      <td>7203</td>\n",
       "      <td>0.0</td>\n",
       "      <td>0</td>\n",
       "      <td>7010.0</td>\n",
       "      <td>7103.0</td>\n",
       "      <td>6975.0</td>\n",
       "      <td>7097.0</td>\n",
       "      <td>9547600.0</td>\n",
       "      <td>...</td>\n",
       "      <td>0.046905</td>\n",
       "      <td>-0.998899</td>\n",
       "      <td>0.061933</td>\n",
       "      <td>0.998080</td>\n",
       "      <td>NaN</td>\n",
       "      <td>NaN</td>\n",
       "      <td>NaN</td>\n",
       "      <td>NaN</td>\n",
       "      <td>NaN</td>\n",
       "      <td>NaN</td>\n",
       "    </tr>\n",
       "    <tr>\n",
       "      <th>1</th>\n",
       "      <td>20170105_7203</td>\n",
       "      <td>2017-01-05</td>\n",
       "      <td>7203</td>\n",
       "      <td>0.0</td>\n",
       "      <td>0</td>\n",
       "      <td>7090.0</td>\n",
       "      <td>7091.0</td>\n",
       "      <td>7023.0</td>\n",
       "      <td>7049.0</td>\n",
       "      <td>7644000.0</td>\n",
       "      <td>...</td>\n",
       "      <td>-0.158971</td>\n",
       "      <td>-0.987283</td>\n",
       "      <td>0.079093</td>\n",
       "      <td>0.996867</td>\n",
       "      <td>NaN</td>\n",
       "      <td>NaN</td>\n",
       "      <td>NaN</td>\n",
       "      <td>NaN</td>\n",
       "      <td>NaN</td>\n",
       "      <td>NaN</td>\n",
       "    </tr>\n",
       "  </tbody>\n",
       "</table>\n",
       "<p>2 rows × 63 columns</p>\n",
       "</div>"
      ],
      "text/plain": [
       "           RowId       Date  SecuritiesCode  ExpectedDividend  \\\n",
       "0  20170104_7203 2017-01-04            7203               0.0   \n",
       "1  20170105_7203 2017-01-05            7203               0.0   \n",
       "\n",
       "   SupervisionFlag  ad_Open  ad_High  ad_Low  ad_Close  ad_Volume  ...  \\\n",
       "0                0   7010.0   7103.0  6975.0    7097.0  9547600.0  ...   \n",
       "1                0   7090.0   7091.0  7023.0    7049.0  7644000.0  ...   \n",
       "\n",
       "   Month_sin  Month_cos  Year_sin  Year_cos  Profit  NetSales  margin  \\\n",
       "0   0.046905  -0.998899  0.061933  0.998080     NaN       NaN     NaN   \n",
       "1  -0.158971  -0.987283  0.079093  0.996867     NaN       NaN     NaN   \n",
       "\n",
       "   win_quarter_growth  rev_quarter_growth  margin_growth  \n",
       "0                 NaN                 NaN            NaN  \n",
       "1                 NaN                 NaN            NaN  \n",
       "\n",
       "[2 rows x 63 columns]"
      ]
     },
     "execution_count": 3,
     "metadata": {},
     "output_type": "execute_result"
    }
   ],
   "source": [
    "df.head(2)"
   ]
  },
  {
   "cell_type": "markdown",
   "metadata": {},
   "source": [
    "- transform date"
   ]
  },
  {
   "cell_type": "code",
   "execution_count": 4,
   "metadata": {},
   "outputs": [],
   "source": [
    "date_time = pd.to_datetime(df.pop('Date'), format='%Y-%m.%d')"
   ]
  },
  {
   "cell_type": "code",
   "execution_count": 5,
   "metadata": {},
   "outputs": [],
   "source": [
    "#date_time = pd.to_datetime(df.pop('Date'), format='%Y-%m.%d')\n",
    "timestamp_s = date_time.map(pd.Timestamp.timestamp)\n"
   ]
  },
  {
   "cell_type": "code",
   "execution_count": 6,
   "metadata": {},
   "outputs": [],
   "source": [
    "day = 24*60*60\n",
    "week = 7*day\n",
    "month = 30.4167*day\n",
    "year = (365.2425)*day\n",
    "\n",
    "\n",
    "#df['Day_sin'] = np.sin(timestamp_s * (2 * np.pi / day))\n",
    "#df['Day_cos'] = np.cos(timestamp_s * (2 * np.pi / day))\n",
    "\n",
    "df['Month_sin'] = np.sin(timestamp_s * (2 * np.pi / month))\n",
    "df['Month_cos'] = np.cos(timestamp_s * (2 * np.pi / month))\n",
    "\n",
    "\n",
    "df['Year_sin'] = np.sin(timestamp_s * (2 * np.pi / year))\n",
    "df['Year_cos'] = np.cos(timestamp_s * (2 * np.pi / year))"
   ]
  },
  {
   "cell_type": "code",
   "execution_count": 7,
   "metadata": {},
   "outputs": [
    {
     "data": {
      "text/plain": [
       "Text(0.5, 1.0, 'Time of Month signal')"
      ]
     },
     "execution_count": 7,
     "metadata": {},
     "output_type": "execute_result"
    },
    {
     "data": {
      "image/png": "[encoded data removed]",
      "text/plain": [
       "<Figure size 576x432 with 1 Axes>"
      ]
     },
     "metadata": {
      "needs_background": "light"
     },
     "output_type": "display_data"
    }
   ],
   "source": [
    "plt.plot(np.array(df['Month_sin'])[:25])\n",
    "plt.plot(np.array(df['Month_cos'])[:25])\n",
    "plt.xlabel('Day [d]')\n",
    "plt.title('Time of Month signal')"
   ]
  },
  {
   "cell_type": "code",
   "execution_count": 8,
   "metadata": {},
   "outputs": [],
   "source": [
    "feat_to_scale = [col for col in df.columns if col not in ['RowId', 'SecuritiesCode', 'Date', 'Year',\n",
    " 'week','Date_f_',\n",
    " 'Day',\n",
    " 'Month',\n",
    " 'Year_f_', 'Target','Log_Return',\n",
    " 'MACD',\n",
    " 'MACD_h','macd_s',\n",
    " 'SecuritiesCode_f_',\n",
    " 'SupervisionFlag', 'ExpectedDividend', 'Day_cos','Profit','NetSales', 'win_quarter_growth']]\n",
    "#feat_to_scale"
   ]
  },
  {
   "cell_type": "markdown",
   "metadata": {},
   "source": [
    "# Preparation for modelling"
   ]
  },
  {
   "cell_type": "markdown",
   "metadata": {},
   "source": [
    "## - Train Test Split\n"
   ]
  },
  {
   "cell_type": "code",
   "execution_count": 9,
   "metadata": {},
   "outputs": [],
   "source": [
    "def train_test_split(df, split= 22):\n",
    "    df.dropna(inplace=True)\n",
    "    train_data = pd.DataFrame()\n",
    "    val_data = pd.DataFrame()\n",
    "\n",
    "    test_data = pd.DataFrame()\n",
    "\n",
    "    for i in tqdm(df.SecuritiesCode.unique()):\n",
    "        df_selected = df.query('SecuritiesCode == @i')#.sort_values('Date')\n",
    "        df_train =  df_selected[:(len(df_selected)-2*split)]\n",
    "        df_val = df_selected[(len(df_selected)-2*split):(len(df_selected)-split)]\n",
    "        df_test =  df_selected[(len(df_selected)-split):]\n",
    "\n",
    "        \n",
    "\n",
    "        train_data = pd.concat([train_data, df_train])\n",
    "        val_data = pd.concat([val_data, df_val])\n",
    "        test_data = pd.concat([test_data, df_test])\n",
    "\n",
    "    #train_data['Date'] = pd.to_datetime(train_data['Date'])\n",
    "    #test_data['Date'] = pd.to_datetime(test_data['Date'])\n",
    "\n",
    "    return train_data, val_data, test_data"
   ]
  },
  {
   "cell_type": "code",
   "execution_count": 10,
   "metadata": {},
   "outputs": [
    {
     "name": "stderr",
     "output_type": "stream",
     "text": [
      "100%|██████████| 1/1 [00:00<00:00, 173.76it/s]\n"
     ]
    }
   ],
   "source": [
    "train_data, val_data, test_data = train_test_split(df=df)"
   ]
  },
  {
   "cell_type": "code",
   "execution_count": 11,
   "metadata": {},
   "outputs": [
    {
     "data": {
      "text/html": [
       "<div>\n",
       "<style scoped>\n",
       "    .dataframe tbody tr th:only-of-type {\n",
       "        vertical-align: middle;\n",
       "    }\n",
       "\n",
       "    .dataframe tbody tr th {\n",
       "        vertical-align: top;\n",
       "    }\n",
       "\n",
       "    .dataframe thead th {\n",
       "        text-align: right;\n",
       "    }\n",
       "</style>\n",
       "<table border=\"1\" class=\"dataframe\">\n",
       "  <thead>\n",
       "    <tr style=\"text-align: right;\">\n",
       "      <th></th>\n",
       "      <th>RowId</th>\n",
       "      <th>SecuritiesCode</th>\n",
       "      <th>ExpectedDividend</th>\n",
       "      <th>SupervisionFlag</th>\n",
       "      <th>ad_Open</th>\n",
       "      <th>ad_High</th>\n",
       "      <th>ad_Low</th>\n",
       "      <th>ad_Close</th>\n",
       "      <th>ad_Volume</th>\n",
       "      <th>ad_Target</th>\n",
       "      <th>...</th>\n",
       "      <th>Month_sin</th>\n",
       "      <th>Month_cos</th>\n",
       "      <th>Year_sin</th>\n",
       "      <th>Year_cos</th>\n",
       "      <th>Profit</th>\n",
       "      <th>NetSales</th>\n",
       "      <th>margin</th>\n",
       "      <th>win_quarter_growth</th>\n",
       "      <th>rev_quarter_growth</th>\n",
       "      <th>margin_growth</th>\n",
       "    </tr>\n",
       "  </thead>\n",
       "  <tbody>\n",
       "    <tr>\n",
       "      <th>85</th>\n",
       "      <td>20170510_7203</td>\n",
       "      <td>7203</td>\n",
       "      <td>0.0</td>\n",
       "      <td>0</td>\n",
       "      <td>6162.0</td>\n",
       "      <td>6171.0</td>\n",
       "      <td>6081.0</td>\n",
       "      <td>6081.0</td>\n",
       "      <td>7823700.0</td>\n",
       "      <td>-0.012412</td>\n",
       "      <td>...</td>\n",
       "      <td>-0.750083</td>\n",
       "      <td>-0.661344</td>\n",
       "      <td>0.790772</td>\n",
       "      <td>-0.612110</td>\n",
       "      <td>1.831109e+12</td>\n",
       "      <td>2.759719e+13</td>\n",
       "      <td>6.635128</td>\n",
       "      <td>27.807907</td>\n",
       "      <td>36.9267</td>\n",
       "      <td>-6.659616</td>\n",
       "    </tr>\n",
       "    <tr>\n",
       "      <th>86</th>\n",
       "      <td>20170511_7203</td>\n",
       "      <td>7203</td>\n",
       "      <td>0.0</td>\n",
       "      <td>0</td>\n",
       "      <td>6113.0</td>\n",
       "      <td>6124.0</td>\n",
       "      <td>5975.0</td>\n",
       "      <td>6123.0</td>\n",
       "      <td>13511900.0</td>\n",
       "      <td>-0.006284</td>\n",
       "      <td>...</td>\n",
       "      <td>-0.869781</td>\n",
       "      <td>-0.493438</td>\n",
       "      <td>0.780126</td>\n",
       "      <td>-0.625623</td>\n",
       "      <td>1.831109e+12</td>\n",
       "      <td>2.759719e+13</td>\n",
       "      <td>6.635128</td>\n",
       "      <td>27.807907</td>\n",
       "      <td>36.9267</td>\n",
       "      <td>-6.659616</td>\n",
       "    </tr>\n",
       "  </tbody>\n",
       "</table>\n",
       "<p>2 rows × 62 columns</p>\n",
       "</div>"
      ],
      "text/plain": [
       "            RowId  SecuritiesCode  ExpectedDividend  SupervisionFlag  ad_Open  \\\n",
       "85  20170510_7203            7203               0.0                0   6162.0   \n",
       "86  20170511_7203            7203               0.0                0   6113.0   \n",
       "\n",
       "    ad_High  ad_Low  ad_Close   ad_Volume  ad_Target  ...  Month_sin  \\\n",
       "85   6171.0  6081.0    6081.0   7823700.0  -0.012412  ...  -0.750083   \n",
       "86   6124.0  5975.0    6123.0  13511900.0  -0.006284  ...  -0.869781   \n",
       "\n",
       "    Month_cos  Year_sin  Year_cos        Profit      NetSales    margin  \\\n",
       "85  -0.661344  0.790772 -0.612110  1.831109e+12  2.759719e+13  6.635128   \n",
       "86  -0.493438  0.780126 -0.625623  1.831109e+12  2.759719e+13  6.635128   \n",
       "\n",
       "    win_quarter_growth  rev_quarter_growth  margin_growth  \n",
       "85           27.807907             36.9267      -6.659616  \n",
       "86           27.807907             36.9267      -6.659616  \n",
       "\n",
       "[2 rows x 62 columns]"
      ]
     },
     "execution_count": 11,
     "metadata": {},
     "output_type": "execute_result"
    }
   ],
   "source": [
    "train_data.head(2)"
   ]
  },
  {
   "cell_type": "code",
   "execution_count": null,
   "metadata": {},
   "outputs": [],
   "source": []
  },
  {
   "cell_type": "code",
   "execution_count": 12,
   "metadata": {},
   "outputs": [
    {
     "name": "stdout",
     "output_type": "stream",
     "text": [
      "(1117, 62)\n",
      "(1073, 62)\n",
      "(22, 62)\n",
      "(22, 62)\n"
     ]
    }
   ],
   "source": [
    "print(df.shape)\n",
    "print(train_data.shape)\n",
    "print(val_data.shape)\n",
    "print(test_data.shape)"
   ]
  },
  {
   "cell_type": "code",
   "execution_count": 13,
   "metadata": {},
   "outputs": [
    {
     "data": {
      "text/plain": [
       "'scaler = StandardScaler()\\ntrain_scaled = scaler.fit_transform(train_data[feat_to_scale])\\ntrain_scaled = pd.DataFrame(train_scaled)\\n\\nval_scaled = scaler.fit_transform(val_data[feat_to_scale])\\nval_scaled = pd.DataFrame(val_scaled)\\n\\ntest_scaled = scaler.fit_transform(test_data[feat_to_scale])\\ntest_scaled = pd.DataFrame(test_scaled)'"
      ]
     },
     "execution_count": 13,
     "metadata": {},
     "output_type": "execute_result"
    }
   ],
   "source": [
    "\"\"\"scaler = StandardScaler()\n",
    "train_scaled = scaler.fit_transform(train_data[feat_to_scale])\n",
    "train_scaled = pd.DataFrame(train_scaled)\n",
    "\n",
    "val_scaled = scaler.fit_transform(val_data[feat_to_scale])\n",
    "val_scaled = pd.DataFrame(val_scaled)\n",
    "\n",
    "test_scaled = scaler.fit_transform(test_data[feat_to_scale])\n",
    "test_scaled = pd.DataFrame(test_scaled)\"\"\""
   ]
  },
  {
   "cell_type": "markdown",
   "metadata": {},
   "source": [
    "## - Scaling"
   ]
  },
  {
   "cell_type": "code",
   "execution_count": 14,
   "metadata": {},
   "outputs": [],
   "source": [
    "def scaling_df(df):\n",
    "    \"\"\"    mean_df = df.mean()\n",
    "    std_df = df.std()\n",
    "    return  (df - mean_df) / std_df\"\"\"\n",
    "\n",
    "    scaler = StandardScaler()\n",
    "    df_scaled = scaler.fit_transform(df)#.drop('ad_Close', axis=1))\n",
    "    \n",
    "    df_scaled = pd.DataFrame(df_scaled)\n",
    "    df_scaled.columns = feat_to_scale\n",
    "    #df_scaled = df['ad_Close']\n",
    "    return df_scaled"
   ]
  },
  {
   "cell_type": "code",
   "execution_count": 15,
   "metadata": {},
   "outputs": [],
   "source": [
    "train_df = scaling_df(train_data[feat_to_scale])\n",
    "val_df = scaling_df(val_data[feat_to_scale])\n",
    "test_df = scaling_df(test_data[feat_to_scale])"
   ]
  },
  {
   "cell_type": "code",
   "execution_count": 16,
   "metadata": {},
   "outputs": [
    {
     "data": {
      "text/html": [
       "<div>\n",
       "<style scoped>\n",
       "    .dataframe tbody tr th:only-of-type {\n",
       "        vertical-align: middle;\n",
       "    }\n",
       "\n",
       "    .dataframe tbody tr th {\n",
       "        vertical-align: top;\n",
       "    }\n",
       "\n",
       "    .dataframe thead th {\n",
       "        text-align: right;\n",
       "    }\n",
       "</style>\n",
       "<table border=\"1\" class=\"dataframe\">\n",
       "  <thead>\n",
       "    <tr style=\"text-align: right;\">\n",
       "      <th></th>\n",
       "      <th>ad_Open</th>\n",
       "      <th>ad_High</th>\n",
       "      <th>ad_Low</th>\n",
       "      <th>ad_Close</th>\n",
       "      <th>ad_Volume</th>\n",
       "      <th>ad_Target</th>\n",
       "      <th>ad_Close_lag1</th>\n",
       "      <th>ad_Close_sma10</th>\n",
       "      <th>logprice_ad_Close</th>\n",
       "      <th>detrend_ad_Close</th>\n",
       "      <th>...</th>\n",
       "      <th>macd_h</th>\n",
       "      <th>Volatility_week</th>\n",
       "      <th>Day_sin</th>\n",
       "      <th>Month_sin</th>\n",
       "      <th>Month_cos</th>\n",
       "      <th>Year_sin</th>\n",
       "      <th>Year_cos</th>\n",
       "      <th>margin</th>\n",
       "      <th>rev_quarter_growth</th>\n",
       "      <th>margin_growth</th>\n",
       "    </tr>\n",
       "  </thead>\n",
       "  <tbody>\n",
       "    <tr>\n",
       "      <th>0</th>\n",
       "      <td>-1.178423</td>\n",
       "      <td>-1.219388</td>\n",
       "      <td>-1.219263</td>\n",
       "      <td>-1.266613</td>\n",
       "      <td>0.699597</td>\n",
       "      <td>-0.924201</td>\n",
       "      <td>-1.209263</td>\n",
       "      <td>-1.280996</td>\n",
       "      <td>-1.420925</td>\n",
       "      <td>-1.266613</td>\n",
       "      <td>...</td>\n",
       "      <td>1.324337</td>\n",
       "      <td>0.223268</td>\n",
       "      <td>-1.583430</td>\n",
       "      <td>-1.045445</td>\n",
       "      <td>-0.956974</td>\n",
       "      <td>1.163465</td>\n",
       "      <td>-0.754927</td>\n",
       "      <td>-0.643492</td>\n",
       "      <td>0.137259</td>\n",
       "      <td>-0.466734</td>\n",
       "    </tr>\n",
       "    <tr>\n",
       "      <th>1</th>\n",
       "      <td>-1.230458</td>\n",
       "      <td>-1.269048</td>\n",
       "      <td>-1.332826</td>\n",
       "      <td>-1.221923</td>\n",
       "      <td>2.836993</td>\n",
       "      <td>-0.486338</td>\n",
       "      <td>-1.266909</td>\n",
       "      <td>-1.255191</td>\n",
       "      <td>-1.363793</td>\n",
       "      <td>-1.221923</td>\n",
       "      <td>...</td>\n",
       "      <td>1.163047</td>\n",
       "      <td>0.223268</td>\n",
       "      <td>-0.562205</td>\n",
       "      <td>-1.213924</td>\n",
       "      <td>-0.718336</td>\n",
       "      <td>1.148261</td>\n",
       "      <td>-0.773975</td>\n",
       "      <td>-0.643492</td>\n",
       "      <td>0.137259</td>\n",
       "      <td>-0.466734</td>\n",
       "    </tr>\n",
       "  </tbody>\n",
       "</table>\n",
       "<p>2 rows × 49 columns</p>\n",
       "</div>"
      ],
      "text/plain": [
       "    ad_Open   ad_High    ad_Low  ad_Close  ad_Volume  ad_Target  \\\n",
       "0 -1.178423 -1.219388 -1.219263 -1.266613   0.699597  -0.924201   \n",
       "1 -1.230458 -1.269048 -1.332826 -1.221923   2.836993  -0.486338   \n",
       "\n",
       "   ad_Close_lag1  ad_Close_sma10  logprice_ad_Close  detrend_ad_Close  ...  \\\n",
       "0      -1.209263       -1.280996          -1.420925         -1.266613  ...   \n",
       "1      -1.266909       -1.255191          -1.363793         -1.221923  ...   \n",
       "\n",
       "     macd_h  Volatility_week   Day_sin  Month_sin  Month_cos  Year_sin  \\\n",
       "0  1.324337         0.223268 -1.583430  -1.045445  -0.956974  1.163465   \n",
       "1  1.163047         0.223268 -0.562205  -1.213924  -0.718336  1.148261   \n",
       "\n",
       "   Year_cos    margin  rev_quarter_growth  margin_growth  \n",
       "0 -0.754927 -0.643492            0.137259      -0.466734  \n",
       "1 -0.773975 -0.643492            0.137259      -0.466734  \n",
       "\n",
       "[2 rows x 49 columns]"
      ]
     },
     "execution_count": 16,
     "metadata": {},
     "output_type": "execute_result"
    }
   ],
   "source": [
    "train_df.head(2)"
   ]
  },
  {
   "cell_type": "markdown",
   "metadata": {},
   "source": [
    "? SupervisionFlag NaN ? "
   ]
  },
  {
   "cell_type": "code",
   "execution_count": 17,
   "metadata": {},
   "outputs": [
    {
     "data": {
      "text/html": [
       "<div>\n",
       "<style scoped>\n",
       "    .dataframe tbody tr th:only-of-type {\n",
       "        vertical-align: middle;\n",
       "    }\n",
       "\n",
       "    .dataframe tbody tr th {\n",
       "        vertical-align: top;\n",
       "    }\n",
       "\n",
       "    .dataframe thead th {\n",
       "        text-align: right;\n",
       "    }\n",
       "</style>\n",
       "<table border=\"1\" class=\"dataframe\">\n",
       "  <thead>\n",
       "    <tr style=\"text-align: right;\">\n",
       "      <th></th>\n",
       "      <th>N_missing</th>\n",
       "      <th>Percentage</th>\n",
       "    </tr>\n",
       "  </thead>\n",
       "  <tbody>\n",
       "  </tbody>\n",
       "</table>\n",
       "</div>"
      ],
      "text/plain": [
       "Empty DataFrame\n",
       "Columns: [N_missing, Percentage]\n",
       "Index: []"
      ]
     },
     "metadata": {},
     "output_type": "display_data"
    }
   ],
   "source": [
    "missingValues(train_df)"
   ]
  },
  {
   "cell_type": "code",
   "execution_count": 18,
   "metadata": {},
   "outputs": [
    {
     "data": {
      "text/html": [
       "<div>\n",
       "<style scoped>\n",
       "    .dataframe tbody tr th:only-of-type {\n",
       "        vertical-align: middle;\n",
       "    }\n",
       "\n",
       "    .dataframe tbody tr th {\n",
       "        vertical-align: top;\n",
       "    }\n",
       "\n",
       "    .dataframe thead th {\n",
       "        text-align: right;\n",
       "    }\n",
       "</style>\n",
       "<table border=\"1\" class=\"dataframe\">\n",
       "  <thead>\n",
       "    <tr style=\"text-align: right;\">\n",
       "      <th></th>\n",
       "      <th>N_missing</th>\n",
       "      <th>Percentage</th>\n",
       "    </tr>\n",
       "  </thead>\n",
       "  <tbody>\n",
       "  </tbody>\n",
       "</table>\n",
       "</div>"
      ],
      "text/plain": [
       "Empty DataFrame\n",
       "Columns: [N_missing, Percentage]\n",
       "Index: []"
      ]
     },
     "metadata": {},
     "output_type": "display_data"
    }
   ],
   "source": [
    "missingValues(test_df)"
   ]
  },
  {
   "cell_type": "code",
   "execution_count": 19,
   "metadata": {},
   "outputs": [
    {
     "data": {
      "text/html": [
       "<div>\n",
       "<style scoped>\n",
       "    .dataframe tbody tr th:only-of-type {\n",
       "        vertical-align: middle;\n",
       "    }\n",
       "\n",
       "    .dataframe tbody tr th {\n",
       "        vertical-align: top;\n",
       "    }\n",
       "\n",
       "    .dataframe thead th {\n",
       "        text-align: right;\n",
       "    }\n",
       "</style>\n",
       "<table border=\"1\" class=\"dataframe\">\n",
       "  <thead>\n",
       "    <tr style=\"text-align: right;\">\n",
       "      <th></th>\n",
       "      <th>N_missing</th>\n",
       "      <th>Percentage</th>\n",
       "    </tr>\n",
       "  </thead>\n",
       "  <tbody>\n",
       "  </tbody>\n",
       "</table>\n",
       "</div>"
      ],
      "text/plain": [
       "Empty DataFrame\n",
       "Columns: [N_missing, Percentage]\n",
       "Index: []"
      ]
     },
     "metadata": {},
     "output_type": "display_data"
    }
   ],
   "source": [
    "a= missingValues(val_df)\n"
   ]
  },
  {
   "cell_type": "code",
   "execution_count": 20,
   "metadata": {},
   "outputs": [
    {
     "data": {
      "text/plain": [
       "count    2.200000e+01\n",
       "mean    -1.281803e-15\n",
       "std      1.023533e+00\n",
       "min     -2.564815e+00\n",
       "25%     -4.318843e-01\n",
       "50%      1.962913e-01\n",
       "75%      5.617318e-01\n",
       "max      1.447865e+00\n",
       "Name: ad_Close, dtype: float64"
      ]
     },
     "execution_count": 20,
     "metadata": {},
     "output_type": "execute_result"
    }
   ],
   "source": [
    "val_df.ad_Close.describe()"
   ]
  },
  {
   "cell_type": "code",
   "execution_count": 21,
   "metadata": {},
   "outputs": [
    {
     "data": {
      "text/plain": [
       "'train_scaled.SupervisionFlag.fillna(0, inplace=True)\\nval_scaled.SupervisionFlag.fillna(0, inplace=True)\\ntest_scaled.SupervisionFlag.fillna(0, inplace=True)'"
      ]
     },
     "execution_count": 21,
     "metadata": {},
     "output_type": "execute_result"
    }
   ],
   "source": [
    "\"\"\"train_scaled.SupervisionFlag.fillna(0, inplace=True)\n",
    "val_scaled.SupervisionFlag.fillna(0, inplace=True)\n",
    "test_scaled.SupervisionFlag.fillna(0, inplace=True)\"\"\""
   ]
  },
  {
   "cell_type": "markdown",
   "metadata": {},
   "source": [
    "## - Window"
   ]
  },
  {
   "cell_type": "code",
   "execution_count": 22,
   "metadata": {},
   "outputs": [],
   "source": [
    "class WindowGenerator():\n",
    "  def __init__(self, input_width, label_width, shift,\n",
    "               train_df=train_df, val_df=val_df, test_df=test_df,\n",
    "               label_columns=None):\n",
    "    # Store the raw data.\n",
    "    self.train_df = train_df\n",
    "    self.val_df = val_df\n",
    "    self.test_df = test_df\n",
    "\n",
    "    # Work out the label column indices.\n",
    "    self.label_columns = label_columns\n",
    "    if label_columns is not None:\n",
    "      self.label_columns_indices = {name: i for i, name in\n",
    "                                    enumerate(label_columns)}\n",
    "    self.column_indices = {name: i for i, name in\n",
    "                           enumerate(train_df.columns)}\n",
    "\n",
    "    # Work out the window parameters.\n",
    "    self.input_width = input_width\n",
    "    self.label_width = label_width\n",
    "    self.shift = shift\n",
    "\n",
    "    self.total_window_size = input_width + shift\n",
    "\n",
    "    self.input_slice = slice(0, input_width)\n",
    "    self.input_indices = np.arange(self.total_window_size)[self.input_slice]\n",
    "\n",
    "    self.label_start = self.total_window_size - self.label_width\n",
    "    self.labels_slice = slice(self.label_start, None)\n",
    "    self.label_indices = np.arange(self.total_window_size)[self.labels_slice]\n",
    "\n",
    "  def __repr__(self):\n",
    "    return '\\n'.join([\n",
    "        f'Total window size: {self.total_window_size}',\n",
    "        f'Input indices: {self.input_indices}',\n",
    "        f'Label indices: {self.label_indices}',\n",
    "        f'Label column name(s): {self.label_columns}'])"
   ]
  },
  {
   "cell_type": "code",
   "execution_count": 23,
   "metadata": {},
   "outputs": [
    {
     "data": {
      "text/plain": [
       "Total window size: 23\n",
       "Input indices: [ 0  1  2  3  4  5  6  7  8  9 10 11 12 13 14 15 16 17 18 19 20 21]\n",
       "Label indices: [22]\n",
       "Label column name(s): ['ad_Close']"
      ]
     },
     "execution_count": 23,
     "metadata": {},
     "output_type": "execute_result"
    }
   ],
   "source": [
    "w1 = WindowGenerator(input_width=22, label_width=1, shift=1,\n",
    "                     label_columns=['ad_Close'])\n",
    "w1"
   ]
  },
  {
   "cell_type": "code",
   "execution_count": 24,
   "metadata": {},
   "outputs": [],
   "source": [
    "def split_window(self, features):\n",
    "  inputs = features[:, self.input_slice, :]\n",
    "  labels = features[:, self.labels_slice, :]\n",
    "  if self.label_columns is not None:\n",
    "    labels = tf.stack(\n",
    "        [labels[:, :, self.column_indices[name]] for name in self.label_columns],\n",
    "        axis=-1)\n",
    "\n",
    "  # Slicing doesn't preserve static shape information, so set the shapes\n",
    "  # manually. This way the `tf.data.Datasets` are easier to inspect.\n",
    "  inputs.set_shape([None, self.input_width, None])\n",
    "  labels.set_shape([None, self.label_width, None])\n",
    "\n",
    "  return inputs, labels\n",
    "\n",
    "WindowGenerator.split_window = split_window"
   ]
  },
  {
   "cell_type": "code",
   "execution_count": 25,
   "metadata": {},
   "outputs": [
    {
     "name": "stdout",
     "output_type": "stream",
     "text": [
      "Metal device set to: Apple M1\n",
      "\n",
      "systemMemory: 8.00 GB\n",
      "maxCacheSize: 2.67 GB\n",
      "\n",
      "All shapes are: (batch, time, features)\n",
      "Window shape: (3, 23, 49)\n",
      "Inputs shape: (3, 22, 49)\n",
      "Labels shape: (3, 1, 1)\n"
     ]
    },
    {
     "name": "stderr",
     "output_type": "stream",
     "text": [
      "2022-04-27 16:47:14.688721: I tensorflow/core/common_runtime/pluggable_device/pluggable_device_factory.cc:305] Could not identify NUMA node of platform GPU ID 0, defaulting to 0. Your kernel may not have been built with NUMA support.\n",
      "2022-04-27 16:47:14.688906: I tensorflow/core/common_runtime/pluggable_device/pluggable_device_factory.cc:271] Created TensorFlow device (/job:localhost/replica:0/task:0/device:GPU:0 with 0 MB memory) -> physical PluggableDevice (device: 0, name: METAL, pci bus id: <undefined>)\n"
     ]
    }
   ],
   "source": [
    "example_window = tf.stack([np.array(train_df[:w1.total_window_size]),\n",
    "                           np.array(train_df[100:100+w1.total_window_size]),\n",
    "                           np.array(train_df[200:200+w1.total_window_size])])\n",
    "\n",
    "example_inputs, example_labels = w1.split_window(example_window)\n",
    "\n",
    "print('All shapes are: (batch, time, features)')\n",
    "print(f'Window shape: {example_window.shape}')\n",
    "print(f'Inputs shape: {example_inputs.shape}')\n",
    "print(f'Labels shape: {example_labels.shape}')"
   ]
  },
  {
   "cell_type": "code",
   "execution_count": 26,
   "metadata": {},
   "outputs": [
    {
     "data": {
      "text/plain": [
       "tensorflow.python.framework.ops.EagerTensor"
      ]
     },
     "execution_count": 26,
     "metadata": {},
     "output_type": "execute_result"
    }
   ],
   "source": [
    "type(example_inputs)"
   ]
  },
  {
   "cell_type": "code",
   "execution_count": 27,
   "metadata": {},
   "outputs": [
    {
     "data": {
      "text/plain": [
       "<tf.Tensor: shape=(3, 1, 1), dtype=float64, numpy=\n",
       "array([[[-1.52517512]],\n",
       "\n",
       "       [[-0.12382969]],\n",
       "\n",
       "       [[-0.57604822]]])>"
      ]
     },
     "execution_count": 27,
     "metadata": {},
     "output_type": "execute_result"
    }
   ],
   "source": [
    "example_labels"
   ]
  },
  {
   "cell_type": "code",
   "execution_count": 28,
   "metadata": {},
   "outputs": [],
   "source": [
    "w1.example = example_inputs, example_labels"
   ]
  },
  {
   "cell_type": "code",
   "execution_count": 29,
   "metadata": {},
   "outputs": [],
   "source": [
    "def plot(self, model=None, plot_col='ad_Close', max_subplots=3):\n",
    "  inputs, labels = self.example\n",
    "  plt.figure(figsize=(12, 8))\n",
    "  plot_col_index = self.column_indices[plot_col]\n",
    "  max_n = min(max_subplots, len(inputs))\n",
    "  for n in range(max_n):\n",
    "    plt.subplot(max_n, 1, n+1)\n",
    "    plt.ylabel(f'{plot_col} [normed]')\n",
    "    plt.plot(self.input_indices, inputs[n, :, plot_col_index],\n",
    "             label='Inputs', marker='.', zorder=-10)\n",
    "\n",
    "    if self.label_columns:\n",
    "      label_col_index = self.label_columns_indices.get(plot_col, None)\n",
    "    else:\n",
    "      label_col_index = plot_col_index\n",
    "\n",
    "    if label_col_index is None:\n",
    "      continue\n",
    "\n",
    "    plt.scatter(self.label_indices, labels[n, :, label_col_index],\n",
    "                edgecolors='k', label='Labels', c='#2ca02c', s=64)\n",
    "    if model is not None:\n",
    "      predictions = model(inputs)\n",
    "      plt.scatter(self.label_indices, predictions[n, :, label_col_index],\n",
    "                  marker='X', edgecolors='k', label='Predictions',\n",
    "                  c='#ff7f0e', s=64)\n",
    "\n",
    "    if n == 0:\n",
    "      plt.legend()\n",
    "\n",
    "  plt.xlabel('Time [h]')\n",
    "\n",
    "WindowGenerator.plot = plot"
   ]
  },
  {
   "cell_type": "code",
   "execution_count": 30,
   "metadata": {},
   "outputs": [
    {
     "data": {
      "image/png": "[encoded data removed]",
      "text/plain": [
       "<Figure size 864x576 with 3 Axes>"
      ]
     },
     "metadata": {
      "needs_background": "light"
     },
     "output_type": "display_data"
    }
   ],
   "source": [
    "w1.plot()"
   ]
  },
  {
   "cell_type": "code",
   "execution_count": 31,
   "metadata": {},
   "outputs": [
    {
     "data": {
      "image/png": "[encoded data removed]",
      "text/plain": [
       "<Figure size 864x576 with 3 Axes>"
      ]
     },
     "metadata": {
      "needs_background": "light"
     },
     "output_type": "display_data"
    }
   ],
   "source": [
    "w1.plot(plot_col='ad_Target')"
   ]
  },
  {
   "cell_type": "markdown",
   "metadata": {},
   "source": [
    "- ## create dataset"
   ]
  },
  {
   "cell_type": "code",
   "execution_count": 32,
   "metadata": {},
   "outputs": [],
   "source": [
    "def make_dataset(self, data):\n",
    "  data = np.array(data, dtype=np.float32)\n",
    "  ds = tf.keras.utils.timeseries_dataset_from_array(\n",
    "      data=data,\n",
    "      targets=None,\n",
    "      sequence_length=self.total_window_size,\n",
    "      sequence_stride=1,\n",
    "      shuffle=True,\n",
    "      batch_size=32,)\n",
    "\n",
    "  ds = ds.map(self.split_window)\n",
    "\n",
    "  return ds\n",
    "\n",
    "WindowGenerator.make_dataset = make_dataset"
   ]
  },
  {
   "cell_type": "markdown",
   "metadata": {},
   "source": [
    "## - train , val , test"
   ]
  },
  {
   "cell_type": "code",
   "execution_count": 33,
   "metadata": {},
   "outputs": [],
   "source": [
    "@property\n",
    "def train(self):\n",
    "  return self.make_dataset(self.train_df)\n",
    "\n",
    "@property\n",
    "def val(self):\n",
    "  return self.make_dataset(self.val_df)\n",
    "\n",
    "@property\n",
    "def test(self):\n",
    "  return self.make_dataset(self.test_df)\n",
    "\n",
    "@property\n",
    "def example(self):\n",
    "  \"\"\"Get and cache an example batch of `inputs, labels` for plotting.\"\"\"\n",
    "  result = getattr(self, '_example', None)\n",
    "  if result is None:\n",
    "    # No example batch was found, so get one from the `.train` dataset\n",
    "    result = next(iter(self.train))\n",
    "    # And cache it for next time\n",
    "    self._example = result\n",
    "  return result\n",
    "\n",
    "WindowGenerator.train = train\n",
    "WindowGenerator.val = val\n",
    "WindowGenerator.test = test\n",
    "WindowGenerator.example = example"
   ]
  },
  {
   "cell_type": "code",
   "execution_count": 34,
   "metadata": {},
   "outputs": [
    {
     "data": {
      "text/plain": [
       "(TensorSpec(shape=(None, 22, 49), dtype=tf.float32, name=None),\n",
       " TensorSpec(shape=(None, 1, 1), dtype=tf.float32, name=None))"
      ]
     },
     "execution_count": 34,
     "metadata": {},
     "output_type": "execute_result"
    }
   ],
   "source": [
    "# Each element is an (inputs, label) pair.\n",
    "w1.train.element_spec"
   ]
  },
  {
   "cell_type": "code",
   "execution_count": 35,
   "metadata": {},
   "outputs": [
    {
     "name": "stdout",
     "output_type": "stream",
     "text": [
      "Inputs shape (batch, time, features): (32, 22, 49)\n",
      "Labels shape (batch, time, features): (32, 1, 1)\n"
     ]
    },
    {
     "name": "stderr",
     "output_type": "stream",
     "text": [
      "2022-04-27 16:47:17.115763: W tensorflow/core/platform/profile_utils/cpu_utils.cc:128] Failed to get CPU frequency: 0 Hz\n"
     ]
    }
   ],
   "source": [
    "for example_inputs, example_labels in w1.train.take(1):\n",
    "  print(f'Inputs shape (batch, time, features): {example_inputs.shape}')\n",
    "  print(f'Labels shape (batch, time, features): {example_labels.shape}')"
   ]
  },
  {
   "cell_type": "markdown",
   "metadata": {},
   "source": [
    "## - single step models:\n",
    "predict a single features value 1 time step into future"
   ]
  },
  {
   "cell_type": "code",
   "execution_count": 36,
   "metadata": {},
   "outputs": [
    {
     "data": {
      "text/plain": [
       "Total window size: 2\n",
       "Input indices: [0]\n",
       "Label indices: [1]\n",
       "Label column name(s): ['ad_Close']"
      ]
     },
     "execution_count": 36,
     "metadata": {},
     "output_type": "execute_result"
    }
   ],
   "source": [
    "single_step_window = WindowGenerator(\n",
    "    input_width=1, label_width=1, shift=1,\n",
    "    label_columns=['ad_Close'])\n",
    "single_step_window"
   ]
  },
  {
   "cell_type": "code",
   "execution_count": 37,
   "metadata": {},
   "outputs": [
    {
     "name": "stdout",
     "output_type": "stream",
     "text": [
      "Inputs shape (batch, time, features): (32, 1, 49)\n",
      "Labels shape (batch, time, features): (32, 1, 1)\n"
     ]
    }
   ],
   "source": [
    "for example_inputs, example_labels in single_step_window.train.take(1):\n",
    "  print(f'Inputs shape (batch, time, features): {example_inputs.shape}')\n",
    "  print(f'Labels shape (batch, time, features): {example_labels.shape}')"
   ]
  },
  {
   "cell_type": "markdown",
   "metadata": {},
   "source": [
    "- Baseline"
   ]
  },
  {
   "cell_type": "code",
   "execution_count": 52,
   "metadata": {},
   "outputs": [],
   "source": [
    "class Baseline(tf.keras.Model):\n",
    "  def __init__(self, label_index=None):\n",
    "    super().__init__()\n",
    "    self.label_index = label_index\n",
    "\n",
    "  def call(self, inputs):\n",
    "    if self.label_index is None:\n",
    "      return inputs\n",
    "    result = inputs[:, :, self.label_index]\n",
    "    return result[:, :, tf.newaxis]"
   ]
  },
  {
   "cell_type": "code",
   "execution_count": 53,
   "metadata": {},
   "outputs": [
    {
     "name": "stdout",
     "output_type": "stream",
     "text": [
      "1/1 [==============================] - 0s 77ms/step - loss: 0.4261 - mean_absolute_error: 0.5350\n"
     ]
    },
    {
     "name": "stderr",
     "output_type": "stream",
     "text": [
      "2022-04-27 16:59:09.039287: I tensorflow/core/grappler/optimizers/custom_graph_optimizer_registry.cc:113] Plugin optimizer for device_type GPU is enabled.\n"
     ]
    }
   ],
   "source": [
    "baseline = Baseline(label_index=w1.column_indices['ad_Close'])\n",
    "\n",
    "baseline.compile(loss=tf.losses.MeanSquaredError(),\n",
    "                 metrics=[tf.metrics.MeanAbsoluteError()])\n",
    "\n",
    "val_performance = {}\n",
    "performance = {}\n",
    "val_performance['Baseline'] = baseline.evaluate(single_step_window.val)\n",
    "performance['Baseline'] = baseline.evaluate(single_step_window.test, verbose=0)\n",
    "#val_performance['Baseline'] = baseline.evaluate(w1.val_df)\n",
    "#performance['Baseline'] = baseline.evaluate(w1.test_df, verbose=0)"
   ]
  },
  {
   "cell_type": "code",
   "execution_count": 40,
   "metadata": {},
   "outputs": [
    {
     "data": {
      "image/png": "[encoded data removed]",
      "text/plain": [
       "<Figure size 864x576 with 3 Axes>"
      ]
     },
     "metadata": {
      "needs_background": "light"
     },
     "output_type": "display_data"
    }
   ],
   "source": [
    "single_step_window.plot(baseline)"
   ]
  },
  {
   "cell_type": "code",
   "execution_count": 41,
   "metadata": {},
   "outputs": [
    {
     "data": {
      "text/plain": [
       "Total window size: 23\n",
       "Input indices: [ 0  1  2  3  4  5  6  7  8  9 10 11 12 13 14 15 16 17 18 19 20 21]\n",
       "Label indices: [ 1  2  3  4  5  6  7  8  9 10 11 12 13 14 15 16 17 18 19 20 21 22]\n",
       "Label column name(s): ['ad_Close']"
      ]
     },
     "execution_count": 41,
     "metadata": {},
     "output_type": "execute_result"
    }
   ],
   "source": [
    "wide_window = WindowGenerator(\n",
    "    input_width=22, label_width=22, shift=1,\n",
    "    label_columns=['ad_Close'])\n",
    "\n",
    "wide_window"
   ]
  },
  {
   "cell_type": "code",
   "execution_count": 42,
   "metadata": {},
   "outputs": [
    {
     "name": "stdout",
     "output_type": "stream",
     "text": [
      "Inputs shape (batch, time, features): (32, 22, 49)\n",
      "Labels shape (batch, time, features): (32, 22, 1)\n"
     ]
    }
   ],
   "source": [
    "for example_inputs, example_labels in wide_window.train.take(1):\n",
    "  print(f'Inputs shape (batch, time, features): {example_inputs.shape}')\n",
    "  print(f'Labels shape (batch, time, features): {example_labels.shape}')"
   ]
  },
  {
   "cell_type": "code",
   "execution_count": 43,
   "metadata": {},
   "outputs": [
    {
     "name": "stdout",
     "output_type": "stream",
     "text": [
      "Input shape: (32, 22, 49)\n",
      "Output shape: (32, 22, 1)\n"
     ]
    }
   ],
   "source": [
    "print('Input shape:', wide_window.example[0].shape)\n",
    "print('Output shape:', baseline(wide_window.example[0]).shape)"
   ]
  },
  {
   "cell_type": "code",
   "execution_count": 44,
   "metadata": {},
   "outputs": [
    {
     "data": {
      "image/png": "[encoded data removed]",
      "text/plain": [
       "<Figure size 864x576 with 3 Axes>"
      ]
     },
     "metadata": {
      "needs_background": "light"
     },
     "output_type": "display_data"
    }
   ],
   "source": [
    "wide_window.plot(baseline)"
   ]
  },
  {
   "cell_type": "markdown",
   "metadata": {},
   "source": [
    "## - linear"
   ]
  },
  {
   "cell_type": "code",
   "execution_count": 45,
   "metadata": {},
   "outputs": [],
   "source": [
    "linear = tf.keras.Sequential([\n",
    "    tf.keras.layers.Dense(units=1)\n",
    "])"
   ]
  },
  {
   "cell_type": "code",
   "execution_count": 50,
   "metadata": {},
   "outputs": [],
   "source": [
    "MAX_EPOCHS = 20\n",
    "\n",
    "def compile_and_fit(model, window, patience=2):\n",
    "  early_stopping = tf.keras.callbacks.EarlyStopping(monitor='val_loss',\n",
    "                                                    patience=patience,\n",
    "                                                    mode='min')\n",
    "\n",
    "  model.compile(loss=tf.losses.MeanSquaredError(),\n",
    "                optimizer=tf.optimizers.Adam(),\n",
    "                metrics=[tf.metrics.MeanAbsoluteError()])\n",
    "\n",
    "  history = model.fit(window.train, epochs=MAX_EPOCHS,\n",
    "                      validation_data=window.val,\n",
    "                      callbacks=[early_stopping])\n",
    "  return history"
   ]
  },
  {
   "cell_type": "code",
   "execution_count": 51,
   "metadata": {},
   "outputs": [
    {
     "name": "stdout",
     "output_type": "stream",
     "text": [
      "Epoch 1/20\n",
      "19/33 [================>.............] - ETA: 0s - loss: 0.0276 - mean_absolute_error: 0.1244"
     ]
    },
    {
     "name": "stderr",
     "output_type": "stream",
     "text": [
      "2022-04-27 16:51:48.730379: I tensorflow/core/grappler/optimizers/custom_graph_optimizer_registry.cc:113] Plugin optimizer for device_type GPU is enabled.\n"
     ]
    },
    {
     "name": "stdout",
     "output_type": "stream",
     "text": [
      "29/33 [=========================>....] - ETA: 0s - loss: 0.0264 - mean_absolute_error: 0.1217WARNING:tensorflow:Early stopping conditioned on metric `val_loss` which is not available. Available metrics are: loss,mean_absolute_error\n",
      "33/33 [==============================] - 0s 6ms/step - loss: 0.0259 - mean_absolute_error: 0.1204\n",
      "Epoch 2/20\n",
      "31/33 [===========================>..] - ETA: 0s - loss: 0.0208 - mean_absolute_error: 0.1077WARNING:tensorflow:Early stopping conditioned on metric `val_loss` which is not available. Available metrics are: loss,mean_absolute_error\n",
      "33/33 [==============================] - 0s 6ms/step - loss: 0.0208 - mean_absolute_error: 0.1077\n",
      "Epoch 3/20\n",
      "28/33 [========================>.....] - ETA: 0s - loss: 0.0186 - mean_absolute_error: 0.1027WARNING:tensorflow:Early stopping conditioned on metric `val_loss` which is not available. Available metrics are: loss,mean_absolute_error\n",
      "33/33 [==============================] - 0s 6ms/step - loss: 0.0187 - mean_absolute_error: 0.1026\n",
      "Epoch 4/20\n",
      "31/33 [===========================>..] - ETA: 0s - loss: 0.0173 - mean_absolute_error: 0.0990WARNING:tensorflow:Early stopping conditioned on metric `val_loss` which is not available. Available metrics are: loss,mean_absolute_error\n",
      "33/33 [==============================] - 0s 6ms/step - loss: 0.0173 - mean_absolute_error: 0.0991\n",
      "Epoch 5/20\n",
      "31/33 [===========================>..] - ETA: 0s - loss: 0.0164 - mean_absolute_error: 0.0962WARNING:tensorflow:Early stopping conditioned on metric `val_loss` which is not available. Available metrics are: loss,mean_absolute_error\n",
      "33/33 [==============================] - 0s 6ms/step - loss: 0.0162 - mean_absolute_error: 0.0957\n",
      "Epoch 6/20\n",
      "31/33 [===========================>..] - ETA: 0s - loss: 0.0155 - mean_absolute_error: 0.0934WARNING:tensorflow:Early stopping conditioned on metric `val_loss` which is not available. Available metrics are: loss,mean_absolute_error\n",
      "33/33 [==============================] - 0s 6ms/step - loss: 0.0154 - mean_absolute_error: 0.0931\n",
      "Epoch 7/20\n",
      "31/33 [===========================>..] - ETA: 0s - loss: 0.0146 - mean_absolute_error: 0.0908WARNING:tensorflow:Early stopping conditioned on metric `val_loss` which is not available. Available metrics are: loss,mean_absolute_error\n",
      "33/33 [==============================] - 0s 6ms/step - loss: 0.0146 - mean_absolute_error: 0.0909\n",
      "Epoch 8/20\n",
      "32/33 [============================>.] - ETA: 0s - loss: 0.0140 - mean_absolute_error: 0.0888WARNING:tensorflow:Early stopping conditioned on metric `val_loss` which is not available. Available metrics are: loss,mean_absolute_error\n",
      "33/33 [==============================] - 0s 6ms/step - loss: 0.0140 - mean_absolute_error: 0.0887\n",
      "Epoch 9/20\n",
      "31/33 [===========================>..] - ETA: 0s - loss: 0.0135 - mean_absolute_error: 0.0873WARNING:tensorflow:Early stopping conditioned on metric `val_loss` which is not available. Available metrics are: loss,mean_absolute_error\n",
      "33/33 [==============================] - 0s 6ms/step - loss: 0.0135 - mean_absolute_error: 0.0872\n",
      "Epoch 10/20\n",
      "30/33 [==========================>...] - ETA: 0s - loss: 0.0133 - mean_absolute_error: 0.0864WARNING:tensorflow:Early stopping conditioned on metric `val_loss` which is not available. Available metrics are: loss,mean_absolute_error\n",
      "33/33 [==============================] - 0s 6ms/step - loss: 0.0132 - mean_absolute_error: 0.0862\n",
      "Epoch 11/20\n",
      "31/33 [===========================>..] - ETA: 0s - loss: 0.0129 - mean_absolute_error: 0.0850WARNING:tensorflow:Early stopping conditioned on metric `val_loss` which is not available. Available metrics are: loss,mean_absolute_error\n",
      "33/33 [==============================] - 0s 6ms/step - loss: 0.0128 - mean_absolute_error: 0.0848\n",
      "Epoch 12/20\n",
      "31/33 [===========================>..] - ETA: 0s - loss: 0.0125 - mean_absolute_error: 0.0840WARNING:tensorflow:Early stopping conditioned on metric `val_loss` which is not available. Available metrics are: loss,mean_absolute_error\n",
      "33/33 [==============================] - 0s 10ms/step - loss: 0.0125 - mean_absolute_error: 0.0840\n",
      "Epoch 13/20\n",
      "26/33 [======================>.......] - ETA: 0s - loss: 0.0120 - mean_absolute_error: 0.0824WARNING:tensorflow:Early stopping conditioned on metric `val_loss` which is not available. Available metrics are: loss,mean_absolute_error\n",
      "33/33 [==============================] - 0s 8ms/step - loss: 0.0122 - mean_absolute_error: 0.0828\n",
      "Epoch 14/20\n",
      "29/33 [=========================>....] - ETA: 0s - loss: 0.0118 - mean_absolute_error: 0.0816WARNING:tensorflow:Early stopping conditioned on metric `val_loss` which is not available. Available metrics are: loss,mean_absolute_error\n",
      "33/33 [==============================] - 0s 10ms/step - loss: 0.0119 - mean_absolute_error: 0.0818\n",
      "Epoch 15/20\n",
      "25/33 [=====================>........] - ETA: 0s - loss: 0.0117 - mean_absolute_error: 0.0811WARNING:tensorflow:Early stopping conditioned on metric `val_loss` which is not available. Available metrics are: loss,mean_absolute_error\n",
      "33/33 [==============================] - 0s 7ms/step - loss: 0.0117 - mean_absolute_error: 0.0812\n",
      "Epoch 16/20\n",
      "27/33 [=======================>......] - ETA: 0s - loss: 0.0114 - mean_absolute_error: 0.0804WARNING:tensorflow:Early stopping conditioned on metric `val_loss` which is not available. Available metrics are: loss,mean_absolute_error\n",
      "33/33 [==============================] - 0s 9ms/step - loss: 0.0115 - mean_absolute_error: 0.0804\n",
      "Epoch 17/20\n",
      "29/33 [=========================>....] - ETA: 0s - loss: 0.0115 - mean_absolute_error: 0.0807WARNING:tensorflow:Early stopping conditioned on metric `val_loss` which is not available. Available metrics are: loss,mean_absolute_error\n",
      "33/33 [==============================] - 0s 6ms/step - loss: 0.0114 - mean_absolute_error: 0.0801\n",
      "Epoch 18/20\n",
      "28/33 [========================>.....] - ETA: 0s - loss: 0.0114 - mean_absolute_error: 0.0799WARNING:tensorflow:Early stopping conditioned on metric `val_loss` which is not available. Available metrics are: loss,mean_absolute_error\n",
      "33/33 [==============================] - 0s 7ms/step - loss: 0.0112 - mean_absolute_error: 0.0794\n",
      "Epoch 19/20\n",
      "30/33 [==========================>...] - ETA: 0s - loss: 0.0110 - mean_absolute_error: 0.0786WARNING:tensorflow:Early stopping conditioned on metric `val_loss` which is not available. Available metrics are: loss,mean_absolute_error\n",
      "33/33 [==============================] - 0s 8ms/step - loss: 0.0110 - mean_absolute_error: 0.0788\n",
      "Epoch 20/20\n",
      "29/33 [=========================>....] - ETA: 0s - loss: 0.0108 - mean_absolute_error: 0.0779WARNING:tensorflow:Early stopping conditioned on metric `val_loss` which is not available. Available metrics are: loss,mean_absolute_error\n",
      "33/33 [==============================] - 0s 6ms/step - loss: 0.0109 - mean_absolute_error: 0.0781\n"
     ]
    },
    {
     "name": "stderr",
     "output_type": "stream",
     "text": [
      "/Users/valentina/ds/tokyo-stock-exchange/.venv/lib/python3.9/site-packages/keras/utils/generic_utils.py:923: RuntimeWarning: divide by zero encountered in log10\n",
      "  numdigits = int(np.log10(self.target)) + 1\n"
     ]
    },
    {
     "ename": "OverflowError",
     "evalue": "cannot convert float infinity to integer",
     "output_type": "error",
     "traceback": [
      "\u001b[0;31m---------------------------------------------------------------------------\u001b[0m",
      "\u001b[0;31mOverflowError\u001b[0m                             Traceback (most recent call last)",
      "\u001b[1;32m/Users/valentina/ds/tokyo-stock-exchange/notebooks/model_tf.ipynb Cell 60'\u001b[0m in \u001b[0;36m<cell line: 3>\u001b[0;34m()\u001b[0m\n\u001b[1;32m      <a href='vscode-notebook-cell:/Users/valentina/ds/tokyo-stock-exchange/notebooks/model_tf.ipynb#ch0000059?line=0'>1</a>\u001b[0m history \u001b[39m=\u001b[39m compile_and_fit(linear, wide_window)\n\u001b[0;32m----> <a href='vscode-notebook-cell:/Users/valentina/ds/tokyo-stock-exchange/notebooks/model_tf.ipynb#ch0000059?line=2'>3</a>\u001b[0m val_performance[\u001b[39m'\u001b[39m\u001b[39mLinear\u001b[39m\u001b[39m'\u001b[39m] \u001b[39m=\u001b[39m linear\u001b[39m.\u001b[39;49mevaluate(wide_window\u001b[39m.\u001b[39;49mval)\n\u001b[1;32m      <a href='vscode-notebook-cell:/Users/valentina/ds/tokyo-stock-exchange/notebooks/model_tf.ipynb#ch0000059?line=3'>4</a>\u001b[0m performance[\u001b[39m'\u001b[39m\u001b[39mLinear\u001b[39m\u001b[39m'\u001b[39m] \u001b[39m=\u001b[39m linear\u001b[39m.\u001b[39mevaluate(wide_window\u001b[39m.\u001b[39mtest, verbose\u001b[39m=\u001b[39m\u001b[39m0\u001b[39m)\n",
      "File \u001b[0;32m~/ds/tokyo-stock-exchange/.venv/lib/python3.9/site-packages/keras/utils/traceback_utils.py:67\u001b[0m, in \u001b[0;36mfilter_traceback.<locals>.error_handler\u001b[0;34m(*args, **kwargs)\u001b[0m\n\u001b[1;32m     <a href='file:///Users/valentina/ds/tokyo-stock-exchange/.venv/lib/python3.9/site-packages/keras/utils/traceback_utils.py?line=64'>65</a>\u001b[0m \u001b[39mexcept\u001b[39;00m \u001b[39mException\u001b[39;00m \u001b[39mas\u001b[39;00m e:  \u001b[39m# pylint: disable=broad-except\u001b[39;00m\n\u001b[1;32m     <a href='file:///Users/valentina/ds/tokyo-stock-exchange/.venv/lib/python3.9/site-packages/keras/utils/traceback_utils.py?line=65'>66</a>\u001b[0m   filtered_tb \u001b[39m=\u001b[39m _process_traceback_frames(e\u001b[39m.\u001b[39m__traceback__)\n\u001b[0;32m---> <a href='file:///Users/valentina/ds/tokyo-stock-exchange/.venv/lib/python3.9/site-packages/keras/utils/traceback_utils.py?line=66'>67</a>\u001b[0m   \u001b[39mraise\u001b[39;00m e\u001b[39m.\u001b[39mwith_traceback(filtered_tb) \u001b[39mfrom\u001b[39;00m \u001b[39mNone\u001b[39m\n\u001b[1;32m     <a href='file:///Users/valentina/ds/tokyo-stock-exchange/.venv/lib/python3.9/site-packages/keras/utils/traceback_utils.py?line=67'>68</a>\u001b[0m \u001b[39mfinally\u001b[39;00m:\n\u001b[1;32m     <a href='file:///Users/valentina/ds/tokyo-stock-exchange/.venv/lib/python3.9/site-packages/keras/utils/traceback_utils.py?line=68'>69</a>\u001b[0m   \u001b[39mdel\u001b[39;00m filtered_tb\n",
      "File \u001b[0;32m~/ds/tokyo-stock-exchange/.venv/lib/python3.9/site-packages/keras/utils/generic_utils.py:923\u001b[0m, in \u001b[0;36mProgbar.update\u001b[0;34m(self, current, values, finalize)\u001b[0m\n\u001b[1;32m    <a href='file:///Users/valentina/ds/tokyo-stock-exchange/.venv/lib/python3.9/site-packages/keras/utils/generic_utils.py?line=919'>920</a>\u001b[0m   message \u001b[39m+\u001b[39m\u001b[39m=\u001b[39m \u001b[39m'\u001b[39m\u001b[39m\\n\u001b[39;00m\u001b[39m'\u001b[39m\n\u001b[1;32m    <a href='file:///Users/valentina/ds/tokyo-stock-exchange/.venv/lib/python3.9/site-packages/keras/utils/generic_utils.py?line=921'>922</a>\u001b[0m \u001b[39mif\u001b[39;00m \u001b[39mself\u001b[39m\u001b[39m.\u001b[39mtarget \u001b[39mis\u001b[39;00m \u001b[39mnot\u001b[39;00m \u001b[39mNone\u001b[39;00m:\n\u001b[0;32m--> <a href='file:///Users/valentina/ds/tokyo-stock-exchange/.venv/lib/python3.9/site-packages/keras/utils/generic_utils.py?line=922'>923</a>\u001b[0m   numdigits \u001b[39m=\u001b[39m \u001b[39mint\u001b[39;49m(np\u001b[39m.\u001b[39;49mlog10(\u001b[39mself\u001b[39;49m\u001b[39m.\u001b[39;49mtarget)) \u001b[39m+\u001b[39m \u001b[39m1\u001b[39m\n\u001b[1;32m    <a href='file:///Users/valentina/ds/tokyo-stock-exchange/.venv/lib/python3.9/site-packages/keras/utils/generic_utils.py?line=923'>924</a>\u001b[0m   bar \u001b[39m=\u001b[39m (\u001b[39m'\u001b[39m\u001b[39m%\u001b[39m\u001b[39m'\u001b[39m \u001b[39m+\u001b[39m \u001b[39mstr\u001b[39m(numdigits) \u001b[39m+\u001b[39m \u001b[39m'\u001b[39m\u001b[39md/\u001b[39m\u001b[39m%d\u001b[39;00m\u001b[39m [\u001b[39m\u001b[39m'\u001b[39m) \u001b[39m%\u001b[39m (current, \u001b[39mself\u001b[39m\u001b[39m.\u001b[39mtarget)\n\u001b[1;32m    <a href='file:///Users/valentina/ds/tokyo-stock-exchange/.venv/lib/python3.9/site-packages/keras/utils/generic_utils.py?line=924'>925</a>\u001b[0m   prog \u001b[39m=\u001b[39m \u001b[39mfloat\u001b[39m(current) \u001b[39m/\u001b[39m \u001b[39mself\u001b[39m\u001b[39m.\u001b[39mtarget\n",
      "\u001b[0;31mOverflowError\u001b[0m: cannot convert float infinity to integer"
     ]
    }
   ],
   "source": [
    "history = compile_and_fit(linear, wide_window)\n",
    "\n",
    "val_performance['Linear'] = linear.evaluate(wide_window.val)\n",
    "performance['Linear'] = linear.evaluate(wide_window.test, verbose=0)"
   ]
  },
  {
   "cell_type": "markdown",
   "metadata": {},
   "source": []
  },
  {
   "cell_type": "code",
   "execution_count": null,
   "metadata": {},
   "outputs": [],
   "source": [
    "wide_window.plot(linear)"
   ]
  },
  {
   "cell_type": "code",
   "execution_count": null,
   "metadata": {},
   "outputs": [],
   "source": [
    "plt.bar(x = range(len(train_scaled.columns)),\n",
    "        height=linear.layers[0].kernel[:,0].numpy())\n",
    "axis = plt.gca()\n",
    "axis.set_xticks(range(len(train_scaled.columns)))\n",
    "_ = axis.set_xticklabels(train_scaled.columns, rotation=90)"
   ]
  },
  {
   "cell_type": "code",
   "execution_count": null,
   "metadata": {},
   "outputs": [],
   "source": [
    "\n",
    "#val_performance['Linear'] = linear.evaluate(wide_window.val)\n",
    "performance['Linear'] = linear.evaluate(wide_window.test, verbose=0)"
   ]
  },
  {
   "cell_type": "code",
   "execution_count": null,
   "metadata": {},
   "outputs": [],
   "source": [
    "performance"
   ]
  },
  {
   "cell_type": "code",
   "execution_count": null,
   "metadata": {},
   "outputs": [],
   "source": [
    "x = np.arange(len(performance))\n",
    "width = 0.3\n",
    "metric_name = 'mean_absolute_error'\n",
    "metric_index = linear.metrics_names.index('mean_absolute_error')\n",
    "val_mae = [v[metric_index] for v in val_performance.values()]\n",
    "test_mae = [v[metric_index] for v in performance.values()]\n",
    "\n",
    "plt.ylabel('mean_absolute_error [T (degC), normalized]')\n",
    "plt.bar(x - 0.17, val_mae, width, label='Validation')\n",
    "plt.bar(x + 0.17, test_mae, width, label='Test')\n",
    "plt.xticks(ticks=x, labels=performance.keys(),\n",
    "           rotation=45)\n",
    "_ = plt.legend()"
   ]
  }
 ],
 "metadata": {
  "interpreter": {
   "hash": "8e59dc4903522b6bd625aac9b906fbe96a3134871878cc11f65b8580a1e47af4"
  },
  "kernelspec": {
   "display_name": "Python 3.9.4 ('.venv': venv)",
   "language": "python",
   "name": "python3"
  },
  "language_info": {
   "codemirror_mode": {
    "name": "ipython",
    "version": 3
   },
   "file_extension": ".py",
   "mimetype": "text/x-python",
   "name": "python",
   "nbconvert_exporter": "python",
   "pygments_lexer": "ipython3",
   "version": "3.9.4"
  },
  "orig_nbformat": 4
 },
 "nbformat": 4,
 "nbformat_minor": 2
}
