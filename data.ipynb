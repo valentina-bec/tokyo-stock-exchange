{
 "cells": [
  {
   "cell_type": "code",
   "execution_count": 1,
   "metadata": {},
   "outputs": [],
   "source": [
    "import pandas as pd\n",
    "import matplotlib.pyplot as plt\n",
    "import seaborn as sns\n",
    "import numpy as np\n",
    "\n",
    "from datetime import datetime, timedelta\n",
    "from tqdm import tqdm\n",
    "\n",
    "from matplotlib.dates import DateFormatter\n",
    "import warnings\n",
    "warnings.filterwarnings(\"ignore\")\n",
    "\n",
    "from functions import print_shape"
   ]
  },
  {
   "cell_type": "markdown",
   "metadata": {},
   "source": [
    "#### helper functions"
   ]
  },
  {
   "cell_type": "code",
   "execution_count": 2,
   "metadata": {},
   "outputs": [],
   "source": [
    "from functions import (\n",
    "    missingValues\n",
    ")"
   ]
  },
  {
   "cell_type": "code",
   "execution_count": 3,
   "metadata": {},
   "outputs": [],
   "source": [
    "def date_range(df, date='Date'):\n",
    "    date = df.date\n",
    "    date_desc = date.describe(datetime_is_numeric=True)\n",
    "    date_min = date_desc.loc['min']\n",
    "    date_max = date_desc.loc['max']\n",
    "    print('Data from {:%Y-%m-%d} to {:%Y-%m-%d}'\n",
    "            .format(date_min, date_max))\n",
    "    print('Data observations {} '.format(\n",
    "                    date.nunique()))"
   ]
  },
  {
   "cell_type": "markdown",
   "metadata": {},
   "source": [
    "# Data\n"
   ]
  },
  {
   "cell_type": "markdown",
   "metadata": {},
   "source": [
    "## Stock_list"
   ]
  },
  {
   "cell_type": "code",
   "execution_count": 4,
   "metadata": {},
   "outputs": [],
   "source": [
    "stock_list = pd.read_csv('data/stock_list.csv', parse_dates=['EffectiveDate', 'TradeDate'])"
   ]
  },
  {
   "cell_type": "code",
   "execution_count": 5,
   "metadata": {},
   "outputs": [
    {
     "data": {
      "text/html": [
       "<div>\n",
       "<style scoped>\n",
       "    .dataframe tbody tr th:only-of-type {\n",
       "        vertical-align: middle;\n",
       "    }\n",
       "\n",
       "    .dataframe tbody tr th {\n",
       "        vertical-align: top;\n",
       "    }\n",
       "\n",
       "    .dataframe thead th {\n",
       "        text-align: right;\n",
       "    }\n",
       "</style>\n",
       "<table border=\"1\" class=\"dataframe\">\n",
       "  <thead>\n",
       "    <tr style=\"text-align: right;\">\n",
       "      <th></th>\n",
       "      <th>SecuritiesCode</th>\n",
       "      <th>EffectiveDate</th>\n",
       "      <th>Name</th>\n",
       "      <th>Section/Products</th>\n",
       "      <th>NewMarketSegment</th>\n",
       "      <th>33SectorCode</th>\n",
       "      <th>33SectorName</th>\n",
       "      <th>17SectorCode</th>\n",
       "      <th>17SectorName</th>\n",
       "      <th>NewIndexSeriesSizeCode</th>\n",
       "      <th>NewIndexSeriesSize</th>\n",
       "      <th>TradeDate</th>\n",
       "      <th>Close</th>\n",
       "      <th>IssuedShares</th>\n",
       "      <th>MarketCapitalization</th>\n",
       "      <th>Universe0</th>\n",
       "    </tr>\n",
       "  </thead>\n",
       "  <tbody>\n",
       "    <tr>\n",
       "      <th>0</th>\n",
       "      <td>1301</td>\n",
       "      <td>2021-12-30</td>\n",
       "      <td>KYOKUYO CO.,LTD.</td>\n",
       "      <td>First Section (Domestic)</td>\n",
       "      <td>Prime Market</td>\n",
       "      <td>50</td>\n",
       "      <td>Fishery, Agriculture and Forestry</td>\n",
       "      <td>1</td>\n",
       "      <td>FOODS</td>\n",
       "      <td>7</td>\n",
       "      <td>TOPIX Small 2</td>\n",
       "      <td>20211230.0</td>\n",
       "      <td>3080.0</td>\n",
       "      <td>1.092828e+07</td>\n",
       "      <td>3.365911e+10</td>\n",
       "      <td>True</td>\n",
       "    </tr>\n",
       "    <tr>\n",
       "      <th>1</th>\n",
       "      <td>1305</td>\n",
       "      <td>2021-12-30</td>\n",
       "      <td>Daiwa ETF-TOPIX</td>\n",
       "      <td>ETFs/ ETNs</td>\n",
       "      <td>NaN</td>\n",
       "      <td>-</td>\n",
       "      <td>-</td>\n",
       "      <td>-</td>\n",
       "      <td>-</td>\n",
       "      <td>-</td>\n",
       "      <td>-</td>\n",
       "      <td>20211230.0</td>\n",
       "      <td>2097.0</td>\n",
       "      <td>3.634636e+09</td>\n",
       "      <td>7.621831e+12</td>\n",
       "      <td>False</td>\n",
       "    </tr>\n",
       "  </tbody>\n",
       "</table>\n",
       "</div>"
      ],
      "text/plain": [
       "   SecuritiesCode EffectiveDate              Name          Section/Products  \\\n",
       "0            1301    2021-12-30  KYOKUYO CO.,LTD.  First Section (Domestic)   \n",
       "1            1305    2021-12-30   Daiwa ETF-TOPIX                ETFs/ ETNs   \n",
       "\n",
       "  NewMarketSegment 33SectorCode                       33SectorName  \\\n",
       "0     Prime Market           50  Fishery, Agriculture and Forestry   \n",
       "1              NaN            -                                  -   \n",
       "\n",
       "  17SectorCode 17SectorName NewIndexSeriesSizeCode NewIndexSeriesSize  \\\n",
       "0            1       FOODS                       7      TOPIX Small 2   \n",
       "1            -            -                      -                  -   \n",
       "\n",
       "    TradeDate   Close  IssuedShares  MarketCapitalization  Universe0  \n",
       "0  20211230.0  3080.0  1.092828e+07          3.365911e+10       True  \n",
       "1  20211230.0  2097.0  3.634636e+09          7.621831e+12      False  "
      ]
     },
     "execution_count": 5,
     "metadata": {},
     "output_type": "execute_result"
    }
   ],
   "source": [
    "stock_list.head(2)"
   ]
  },
  {
   "cell_type": "code",
   "execution_count": 6,
   "metadata": {},
   "outputs": [
    {
     "data": {
      "text/plain": [
       "4417"
      ]
     },
     "execution_count": 6,
     "metadata": {},
     "output_type": "execute_result"
    }
   ],
   "source": [
    "stock_list.SecuritiesCode.nunique()"
   ]
  },
  {
   "cell_type": "code",
   "execution_count": 7,
   "metadata": {},
   "outputs": [
    {
     "data": {
      "text/html": [
       "<div>\n",
       "<style scoped>\n",
       "    .dataframe tbody tr th:only-of-type {\n",
       "        vertical-align: middle;\n",
       "    }\n",
       "\n",
       "    .dataframe tbody tr th {\n",
       "        vertical-align: top;\n",
       "    }\n",
       "\n",
       "    .dataframe thead th {\n",
       "        text-align: right;\n",
       "    }\n",
       "</style>\n",
       "<table border=\"1\" class=\"dataframe\">\n",
       "  <thead>\n",
       "    <tr style=\"text-align: right;\">\n",
       "      <th></th>\n",
       "      <th>SecuritiesCode</th>\n",
       "      <th>EffectiveDate</th>\n",
       "      <th>Name</th>\n",
       "      <th>Section/Products</th>\n",
       "      <th>NewMarketSegment</th>\n",
       "      <th>33SectorCode</th>\n",
       "      <th>33SectorName</th>\n",
       "      <th>17SectorCode</th>\n",
       "      <th>17SectorName</th>\n",
       "      <th>NewIndexSeriesSizeCode</th>\n",
       "      <th>NewIndexSeriesSize</th>\n",
       "      <th>TradeDate</th>\n",
       "      <th>Close</th>\n",
       "      <th>IssuedShares</th>\n",
       "      <th>MarketCapitalization</th>\n",
       "      <th>Universe0</th>\n",
       "    </tr>\n",
       "  </thead>\n",
       "  <tbody>\n",
       "    <tr>\n",
       "      <th>137</th>\n",
       "      <td>1557</td>\n",
       "      <td>2021-12-30</td>\n",
       "      <td>SPDR S&amp;P500 ETF Trust</td>\n",
       "      <td>ETFs/ ETNs</td>\n",
       "      <td>NaN</td>\n",
       "      <td>-</td>\n",
       "      <td>-</td>\n",
       "      <td>-</td>\n",
       "      <td>-</td>\n",
       "      <td>-</td>\n",
       "      <td>-</td>\n",
       "      <td>20211230.0</td>\n",
       "      <td>54920.0</td>\n",
       "      <td>9.503321e+08</td>\n",
       "      <td>5.219224e+13</td>\n",
       "      <td>False</td>\n",
       "    </tr>\n",
       "    <tr>\n",
       "      <th>3065</th>\n",
       "      <td>7203</td>\n",
       "      <td>2021-12-30</td>\n",
       "      <td>TOYOTA MOTOR CORPORATION</td>\n",
       "      <td>First Section (Domestic)</td>\n",
       "      <td>Prime Market</td>\n",
       "      <td>3700</td>\n",
       "      <td>Transportation Equipment</td>\n",
       "      <td>6</td>\n",
       "      <td>AUTOMOBILES &amp; TRANSPORTATION EQUIPMENT</td>\n",
       "      <td>1</td>\n",
       "      <td>TOPIX Core30</td>\n",
       "      <td>20211230.0</td>\n",
       "      <td>2105.5</td>\n",
       "      <td>1.631499e+10</td>\n",
       "      <td>3.435121e+13</td>\n",
       "      <td>True</td>\n",
       "    </tr>\n",
       "    <tr>\n",
       "      <th>2804</th>\n",
       "      <td>6758</td>\n",
       "      <td>2021-12-30</td>\n",
       "      <td>SONY GROUP CORPORATION</td>\n",
       "      <td>First Section (Domestic)</td>\n",
       "      <td>Prime Market</td>\n",
       "      <td>3650</td>\n",
       "      <td>Electric Appliances</td>\n",
       "      <td>9</td>\n",
       "      <td>ELECTRIC APPLIANCES &amp; PRECISION INSTRUMENTS</td>\n",
       "      <td>1</td>\n",
       "      <td>TOPIX Core30</td>\n",
       "      <td>20211230.0</td>\n",
       "      <td>14475.0</td>\n",
       "      <td>1.261082e+09</td>\n",
       "      <td>1.825416e+13</td>\n",
       "      <td>True</td>\n",
       "    </tr>\n",
       "    <tr>\n",
       "      <th>2867</th>\n",
       "      <td>6861</td>\n",
       "      <td>2021-12-30</td>\n",
       "      <td>KEYENCE CORPORATION</td>\n",
       "      <td>First Section (Domestic)</td>\n",
       "      <td>Prime Market</td>\n",
       "      <td>3650</td>\n",
       "      <td>Electric Appliances</td>\n",
       "      <td>9</td>\n",
       "      <td>ELECTRIC APPLIANCES &amp; PRECISION INSTRUMENTS</td>\n",
       "      <td>1</td>\n",
       "      <td>TOPIX Core30</td>\n",
       "      <td>20211230.0</td>\n",
       "      <td>72280.0</td>\n",
       "      <td>2.432077e+08</td>\n",
       "      <td>1.757905e+13</td>\n",
       "      <td>True</td>\n",
       "    </tr>\n",
       "    <tr>\n",
       "      <th>2</th>\n",
       "      <td>1306</td>\n",
       "      <td>2021-12-30</td>\n",
       "      <td>NEXT FUNDS TOPIX Exchange Traded Fund</td>\n",
       "      <td>ETFs/ ETNs</td>\n",
       "      <td>NaN</td>\n",
       "      <td>-</td>\n",
       "      <td>-</td>\n",
       "      <td>-</td>\n",
       "      <td>-</td>\n",
       "      <td>-</td>\n",
       "      <td>-</td>\n",
       "      <td>20211230.0</td>\n",
       "      <td>2073.5</td>\n",
       "      <td>7.917718e+09</td>\n",
       "      <td>1.641739e+13</td>\n",
       "      <td>False</td>\n",
       "    </tr>\n",
       "    <tr>\n",
       "      <th>2375</th>\n",
       "      <td>6098</td>\n",
       "      <td>2021-12-30</td>\n",
       "      <td>Recruit Holdings Co.,Ltd.</td>\n",
       "      <td>First Section (Domestic)</td>\n",
       "      <td>Prime Market</td>\n",
       "      <td>9050</td>\n",
       "      <td>Services</td>\n",
       "      <td>10</td>\n",
       "      <td>IT &amp; SERVICES, OTHERS</td>\n",
       "      <td>1</td>\n",
       "      <td>TOPIX Core30</td>\n",
       "      <td>20211230.0</td>\n",
       "      <td>6972.0</td>\n",
       "      <td>1.695960e+09</td>\n",
       "      <td>1.182423e+13</td>\n",
       "      <td>True</td>\n",
       "    </tr>\n",
       "    <tr>\n",
       "      <th>4158</th>\n",
       "      <td>9432</td>\n",
       "      <td>2021-12-30</td>\n",
       "      <td>NIPPON TELEGRAPH AND TELEPHONE CORPORATION</td>\n",
       "      <td>First Section (Domestic)</td>\n",
       "      <td>Prime Market</td>\n",
       "      <td>5250</td>\n",
       "      <td>Information &amp; Communication</td>\n",
       "      <td>10</td>\n",
       "      <td>IT &amp; SERVICES, OTHERS</td>\n",
       "      <td>1</td>\n",
       "      <td>TOPIX Core30</td>\n",
       "      <td>20211230.0</td>\n",
       "      <td>3150.0</td>\n",
       "      <td>3.622013e+09</td>\n",
       "      <td>1.140934e+13</td>\n",
       "      <td>True</td>\n",
       "    </tr>\n",
       "    <tr>\n",
       "      <th>3577</th>\n",
       "      <td>8035</td>\n",
       "      <td>2021-12-30</td>\n",
       "      <td>Tokyo Electron Limited</td>\n",
       "      <td>First Section (Domestic)</td>\n",
       "      <td>Prime Market</td>\n",
       "      <td>3650</td>\n",
       "      <td>Electric Appliances</td>\n",
       "      <td>9</td>\n",
       "      <td>ELECTRIC APPLIANCES &amp; PRECISION INSTRUMENTS</td>\n",
       "      <td>1</td>\n",
       "      <td>TOPIX Core30</td>\n",
       "      <td>20211230.0</td>\n",
       "      <td>66280.0</td>\n",
       "      <td>1.572109e+08</td>\n",
       "      <td>1.041994e+13</td>\n",
       "      <td>True</td>\n",
       "    </tr>\n",
       "    <tr>\n",
       "      <th>4404</th>\n",
       "      <td>9984</td>\n",
       "      <td>2021-12-30</td>\n",
       "      <td>SoftBank Group Corp.</td>\n",
       "      <td>First Section (Domestic)</td>\n",
       "      <td>Prime Market</td>\n",
       "      <td>5250</td>\n",
       "      <td>Information &amp; Communication</td>\n",
       "      <td>10</td>\n",
       "      <td>IT &amp; SERVICES, OTHERS</td>\n",
       "      <td>1</td>\n",
       "      <td>TOPIX Core30</td>\n",
       "      <td>20211230.0</td>\n",
       "      <td>5434.0</td>\n",
       "      <td>1.722954e+09</td>\n",
       "      <td>9.362531e+12</td>\n",
       "      <td>True</td>\n",
       "    </tr>\n",
       "    <tr>\n",
       "      <th>1508</th>\n",
       "      <td>4063</td>\n",
       "      <td>2021-12-30</td>\n",
       "      <td>Shin-Etsu Chemical Co.,Ltd.</td>\n",
       "      <td>First Section (Domestic)</td>\n",
       "      <td>Prime Market</td>\n",
       "      <td>3200</td>\n",
       "      <td>Chemicals</td>\n",
       "      <td>4</td>\n",
       "      <td>RAW MATERIALS &amp; CHEMICALS</td>\n",
       "      <td>1</td>\n",
       "      <td>TOPIX Core30</td>\n",
       "      <td>20211230.0</td>\n",
       "      <td>19920.0</td>\n",
       "      <td>4.166628e+08</td>\n",
       "      <td>8.299923e+12</td>\n",
       "      <td>True</td>\n",
       "    </tr>\n",
       "  </tbody>\n",
       "</table>\n",
       "</div>"
      ],
      "text/plain": [
       "      SecuritiesCode EffectiveDate  \\\n",
       "137             1557    2021-12-30   \n",
       "3065            7203    2021-12-30   \n",
       "2804            6758    2021-12-30   \n",
       "2867            6861    2021-12-30   \n",
       "2               1306    2021-12-30   \n",
       "2375            6098    2021-12-30   \n",
       "4158            9432    2021-12-30   \n",
       "3577            8035    2021-12-30   \n",
       "4404            9984    2021-12-30   \n",
       "1508            4063    2021-12-30   \n",
       "\n",
       "                                            Name          Section/Products  \\\n",
       "137                        SPDR S&P500 ETF Trust                ETFs/ ETNs   \n",
       "3065                    TOYOTA MOTOR CORPORATION  First Section (Domestic)   \n",
       "2804                      SONY GROUP CORPORATION  First Section (Domestic)   \n",
       "2867                         KEYENCE CORPORATION  First Section (Domestic)   \n",
       "2          NEXT FUNDS TOPIX Exchange Traded Fund                ETFs/ ETNs   \n",
       "2375                   Recruit Holdings Co.,Ltd.  First Section (Domestic)   \n",
       "4158  NIPPON TELEGRAPH AND TELEPHONE CORPORATION  First Section (Domestic)   \n",
       "3577                      Tokyo Electron Limited  First Section (Domestic)   \n",
       "4404                        SoftBank Group Corp.  First Section (Domestic)   \n",
       "1508                 Shin-Etsu Chemical Co.,Ltd.  First Section (Domestic)   \n",
       "\n",
       "     NewMarketSegment 33SectorCode                 33SectorName 17SectorCode  \\\n",
       "137               NaN            -                            -            -   \n",
       "3065     Prime Market         3700     Transportation Equipment            6   \n",
       "2804     Prime Market         3650          Electric Appliances            9   \n",
       "2867     Prime Market         3650          Electric Appliances            9   \n",
       "2                 NaN            -                            -            -   \n",
       "2375     Prime Market         9050                     Services           10   \n",
       "4158     Prime Market         5250  Information & Communication           10   \n",
       "3577     Prime Market         3650          Electric Appliances            9   \n",
       "4404     Prime Market         5250  Information & Communication           10   \n",
       "1508     Prime Market         3200                    Chemicals            4   \n",
       "\n",
       "                                      17SectorName NewIndexSeriesSizeCode  \\\n",
       "137                                              -                      -   \n",
       "3065       AUTOMOBILES & TRANSPORTATION EQUIPMENT                       1   \n",
       "2804  ELECTRIC APPLIANCES & PRECISION INSTRUMENTS                       1   \n",
       "2867  ELECTRIC APPLIANCES & PRECISION INSTRUMENTS                       1   \n",
       "2                                                -                      -   \n",
       "2375                        IT & SERVICES, OTHERS                       1   \n",
       "4158                        IT & SERVICES, OTHERS                       1   \n",
       "3577  ELECTRIC APPLIANCES & PRECISION INSTRUMENTS                       1   \n",
       "4404                        IT & SERVICES, OTHERS                       1   \n",
       "1508                    RAW MATERIALS & CHEMICALS                       1   \n",
       "\n",
       "     NewIndexSeriesSize   TradeDate    Close  IssuedShares  \\\n",
       "137                   -  20211230.0  54920.0  9.503321e+08   \n",
       "3065       TOPIX Core30  20211230.0   2105.5  1.631499e+10   \n",
       "2804       TOPIX Core30  20211230.0  14475.0  1.261082e+09   \n",
       "2867       TOPIX Core30  20211230.0  72280.0  2.432077e+08   \n",
       "2                     -  20211230.0   2073.5  7.917718e+09   \n",
       "2375       TOPIX Core30  20211230.0   6972.0  1.695960e+09   \n",
       "4158       TOPIX Core30  20211230.0   3150.0  3.622013e+09   \n",
       "3577       TOPIX Core30  20211230.0  66280.0  1.572109e+08   \n",
       "4404       TOPIX Core30  20211230.0   5434.0  1.722954e+09   \n",
       "1508       TOPIX Core30  20211230.0  19920.0  4.166628e+08   \n",
       "\n",
       "      MarketCapitalization  Universe0  \n",
       "137           5.219224e+13      False  \n",
       "3065          3.435121e+13       True  \n",
       "2804          1.825416e+13       True  \n",
       "2867          1.757905e+13       True  \n",
       "2             1.641739e+13      False  \n",
       "2375          1.182423e+13       True  \n",
       "4158          1.140934e+13       True  \n",
       "3577          1.041994e+13       True  \n",
       "4404          9.362531e+12       True  \n",
       "1508          8.299923e+12       True  "
      ]
     },
     "execution_count": 7,
     "metadata": {},
     "output_type": "execute_result"
    }
   ],
   "source": [
    "stock_list.sort_values('MarketCapitalization', ascending=False).head(10)"
   ]
  },
  {
   "cell_type": "code",
   "execution_count": 8,
   "metadata": {},
   "outputs": [
    {
     "name": "stdout",
     "output_type": "stream",
     "text": [
      "<class 'pandas.core.frame.DataFrame'>\n",
      "RangeIndex: 4417 entries, 0 to 4416\n",
      "Data columns (total 16 columns):\n",
      " #   Column                  Non-Null Count  Dtype         \n",
      "---  ------                  --------------  -----         \n",
      " 0   SecuritiesCode          4417 non-null   int64         \n",
      " 1   EffectiveDate           4417 non-null   datetime64[ns]\n",
      " 2   Name                    4417 non-null   object        \n",
      " 3   Section/Products        4417 non-null   object        \n",
      " 4   NewMarketSegment        3772 non-null   object        \n",
      " 5   33SectorCode            4417 non-null   object        \n",
      " 6   33SectorName            4417 non-null   object        \n",
      " 7   17SectorCode            4417 non-null   object        \n",
      " 8   17SectorName            4417 non-null   object        \n",
      " 9   NewIndexSeriesSizeCode  4417 non-null   object        \n",
      " 10  NewIndexSeriesSize      4417 non-null   object        \n",
      " 11  TradeDate               4121 non-null   object        \n",
      " 12  Close                   4121 non-null   float64       \n",
      " 13  IssuedShares            4121 non-null   float64       \n",
      " 14  MarketCapitalization    4121 non-null   float64       \n",
      " 15  Universe0               4417 non-null   bool          \n",
      "dtypes: bool(1), datetime64[ns](1), float64(3), int64(1), object(10)\n",
      "memory usage: 522.1+ KB\n"
     ]
    }
   ],
   "source": [
    "stock_list.info()"
   ]
  },
  {
   "cell_type": "code",
   "execution_count": 9,
   "metadata": {},
   "outputs": [
    {
     "name": "stdout",
     "output_type": "stream",
     "text": [
      "<class 'pandas.core.frame.DataFrame'>\n",
      "RangeIndex: 4417 entries, 0 to 4416\n",
      "Data columns (total 16 columns):\n",
      " #   Column                  Non-Null Count  Dtype         \n",
      "---  ------                  --------------  -----         \n",
      " 0   SecuritiesCode          4417 non-null   int64         \n",
      " 1   EffectiveDate           4417 non-null   datetime64[ns]\n",
      " 2   Name                    4417 non-null   object        \n",
      " 3   Section/Products        4417 non-null   object        \n",
      " 4   NewMarketSegment        3772 non-null   object        \n",
      " 5   33SectorCode            4417 non-null   object        \n",
      " 6   33SectorName            4417 non-null   object        \n",
      " 7   17SectorCode            4417 non-null   object        \n",
      " 8   17SectorName            4417 non-null   object        \n",
      " 9   NewIndexSeriesSizeCode  4417 non-null   object        \n",
      " 10  NewIndexSeriesSize      4417 non-null   object        \n",
      " 11  TradeDate               4121 non-null   float64       \n",
      " 12  Close                   4121 non-null   float64       \n",
      " 13  IssuedShares            4121 non-null   float64       \n",
      " 14  MarketCapitalization    4121 non-null   float64       \n",
      " 15  Universe0               4417 non-null   bool          \n",
      "dtypes: bool(1), datetime64[ns](1), float64(4), int64(1), object(9)\n",
      "memory usage: 522.1+ KB\n"
     ]
    }
   ],
   "source": [
    "stock_list.TradeDate = stock_list.TradeDate.astype(float)\n",
    "#stock_list.TradeDate = stock_list.TradeDate.astype(int)\n",
    "#stock_list['trade_date'] = pd.to_datetime(stock_list.TradeDate)\n",
    "stock_list.info()"
   ]
  },
  {
   "cell_type": "code",
   "execution_count": 10,
   "metadata": {},
   "outputs": [],
   "source": [
    "prices = pd.read_csv('data/train_files/stock_prices.csv', parse_dates=[1])\n",
    "sec_codes = prices.SecuritiesCode.unique()\n",
    "del prices"
   ]
  },
  {
   "cell_type": "code",
   "execution_count": 11,
   "metadata": {},
   "outputs": [
    {
     "name": "stdout",
     "output_type": "stream",
     "text": [
      "Data from 2000-01-01 to 2022-02-25\n",
      "Data observations 10 \n"
     ]
    }
   ],
   "source": [
    "date = stock_list.EffectiveDate\n",
    "date_desc = date.describe(datetime_is_numeric=True)\n",
    "date_min = date_desc.loc['min']\n",
    "date_max = date_desc.loc['max']\n",
    "print('Data from {:%Y-%m-%d} to {:%Y-%m-%d}'\n",
    "            .format(date_min, date_max))\n",
    "print('Data observations {} '.format(\n",
    "                    date.nunique()))"
   ]
  },
  {
   "cell_type": "code",
   "execution_count": null,
   "metadata": {},
   "outputs": [],
   "source": []
  },
  {
   "cell_type": "code",
   "execution_count": 12,
   "metadata": {},
   "outputs": [],
   "source": [
    "del stock_list"
   ]
  },
  {
   "cell_type": "markdown",
   "metadata": {},
   "source": [
    "## Financials"
   ]
  },
  {
   "cell_type": "code",
   "execution_count": 13,
   "metadata": {},
   "outputs": [],
   "source": [
    "financial = pd.read_csv('data/train_files/financials.csv', parse_dates=['Date'])"
   ]
  },
  {
   "cell_type": "code",
   "execution_count": 14,
   "metadata": {},
   "outputs": [
    {
     "data": {
      "text/html": [
       "<div>\n",
       "<style scoped>\n",
       "    .dataframe tbody tr th:only-of-type {\n",
       "        vertical-align: middle;\n",
       "    }\n",
       "\n",
       "    .dataframe tbody tr th {\n",
       "        vertical-align: top;\n",
       "    }\n",
       "\n",
       "    .dataframe thead th {\n",
       "        text-align: right;\n",
       "    }\n",
       "</style>\n",
       "<table border=\"1\" class=\"dataframe\">\n",
       "  <thead>\n",
       "    <tr style=\"text-align: right;\">\n",
       "      <th></th>\n",
       "      <th>DisclosureNumber</th>\n",
       "      <th>DateCode</th>\n",
       "      <th>Date</th>\n",
       "      <th>SecuritiesCode</th>\n",
       "      <th>DisclosedDate</th>\n",
       "      <th>DisclosedTime</th>\n",
       "      <th>DisclosedUnixTime</th>\n",
       "      <th>TypeOfDocument</th>\n",
       "      <th>CurrentPeriodEndDate</th>\n",
       "      <th>TypeOfCurrentPeriod</th>\n",
       "      <th>...</th>\n",
       "      <th>ForecastEarningsPerShare</th>\n",
       "      <th>ApplyingOfSpecificAccountingOfTheQuarterlyFinancialStatements</th>\n",
       "      <th>MaterialChangesInSubsidiaries</th>\n",
       "      <th>ChangesBasedOnRevisionsOfAccountingStandard</th>\n",
       "      <th>ChangesOtherThanOnesBasedOnRevisionsOfAccountingStandard</th>\n",
       "      <th>ChangesInAccountingEstimates</th>\n",
       "      <th>RetrospectiveRestatement</th>\n",
       "      <th>NumberOfIssuedAndOutstandingSharesAtTheEndOfFiscalYearIncludingTreasuryStock</th>\n",
       "      <th>NumberOfTreasuryStockAtTheEndOfFiscalYear</th>\n",
       "      <th>AverageNumberOfShares</th>\n",
       "    </tr>\n",
       "  </thead>\n",
       "  <tbody>\n",
       "    <tr>\n",
       "      <th>0</th>\n",
       "      <td>2.016121e+13</td>\n",
       "      <td>20170104_2753</td>\n",
       "      <td>2017-01-04</td>\n",
       "      <td>2753.0</td>\n",
       "      <td>2017-01-04</td>\n",
       "      <td>07:30:00</td>\n",
       "      <td>1.483483e+09</td>\n",
       "      <td>3QFinancialStatements_Consolidated_JP</td>\n",
       "      <td>2016-12-31</td>\n",
       "      <td>3Q</td>\n",
       "      <td>...</td>\n",
       "      <td>319.76</td>\n",
       "      <td>NaN</td>\n",
       "      <td>False</td>\n",
       "      <td>True</td>\n",
       "      <td>False</td>\n",
       "      <td>False</td>\n",
       "      <td>False</td>\n",
       "      <td>6848800.0</td>\n",
       "      <td>－</td>\n",
       "      <td>6848800.0</td>\n",
       "    </tr>\n",
       "    <tr>\n",
       "      <th>1</th>\n",
       "      <td>2.017010e+13</td>\n",
       "      <td>20170104_3353</td>\n",
       "      <td>2017-01-04</td>\n",
       "      <td>3353.0</td>\n",
       "      <td>2017-01-04</td>\n",
       "      <td>15:00:00</td>\n",
       "      <td>1.483510e+09</td>\n",
       "      <td>3QFinancialStatements_Consolidated_JP</td>\n",
       "      <td>2016-11-30</td>\n",
       "      <td>3Q</td>\n",
       "      <td>...</td>\n",
       "      <td>485.36</td>\n",
       "      <td>NaN</td>\n",
       "      <td>False</td>\n",
       "      <td>True</td>\n",
       "      <td>False</td>\n",
       "      <td>False</td>\n",
       "      <td>False</td>\n",
       "      <td>2035000.0</td>\n",
       "      <td>118917</td>\n",
       "      <td>1916083.0</td>\n",
       "    </tr>\n",
       "  </tbody>\n",
       "</table>\n",
       "<p>2 rows × 45 columns</p>\n",
       "</div>"
      ],
      "text/plain": [
       "   DisclosureNumber       DateCode       Date  SecuritiesCode DisclosedDate  \\\n",
       "0      2.016121e+13  20170104_2753 2017-01-04          2753.0    2017-01-04   \n",
       "1      2.017010e+13  20170104_3353 2017-01-04          3353.0    2017-01-04   \n",
       "\n",
       "  DisclosedTime  DisclosedUnixTime                         TypeOfDocument  \\\n",
       "0      07:30:00       1.483483e+09  3QFinancialStatements_Consolidated_JP   \n",
       "1      15:00:00       1.483510e+09  3QFinancialStatements_Consolidated_JP   \n",
       "\n",
       "  CurrentPeriodEndDate TypeOfCurrentPeriod  ... ForecastEarningsPerShare  \\\n",
       "0           2016-12-31                  3Q  ...                   319.76   \n",
       "1           2016-11-30                  3Q  ...                   485.36   \n",
       "\n",
       "  ApplyingOfSpecificAccountingOfTheQuarterlyFinancialStatements  \\\n",
       "0                                                NaN              \n",
       "1                                                NaN              \n",
       "\n",
       "  MaterialChangesInSubsidiaries ChangesBasedOnRevisionsOfAccountingStandard  \\\n",
       "0                         False                                        True   \n",
       "1                         False                                        True   \n",
       "\n",
       "  ChangesOtherThanOnesBasedOnRevisionsOfAccountingStandard  \\\n",
       "0                                              False         \n",
       "1                                              False         \n",
       "\n",
       "  ChangesInAccountingEstimates RetrospectiveRestatement  \\\n",
       "0                        False                    False   \n",
       "1                        False                    False   \n",
       "\n",
       "  NumberOfIssuedAndOutstandingSharesAtTheEndOfFiscalYearIncludingTreasuryStock  \\\n",
       "0                                          6848800.0                             \n",
       "1                                          2035000.0                             \n",
       "\n",
       "  NumberOfTreasuryStockAtTheEndOfFiscalYear AverageNumberOfShares  \n",
       "0                                         －             6848800.0  \n",
       "1                                    118917             1916083.0  \n",
       "\n",
       "[2 rows x 45 columns]"
      ]
     },
     "execution_count": 14,
     "metadata": {},
     "output_type": "execute_result"
    }
   ],
   "source": [
    "financial.head(2)"
   ]
  },
  {
   "cell_type": "code",
   "execution_count": 15,
   "metadata": {},
   "outputs": [
    {
     "data": {
      "text/html": [
       "<div>\n",
       "<style scoped>\n",
       "    .dataframe tbody tr th:only-of-type {\n",
       "        vertical-align: middle;\n",
       "    }\n",
       "\n",
       "    .dataframe tbody tr th {\n",
       "        vertical-align: top;\n",
       "    }\n",
       "\n",
       "    .dataframe thead th {\n",
       "        text-align: right;\n",
       "    }\n",
       "</style>\n",
       "<table border=\"1\" class=\"dataframe\">\n",
       "  <thead>\n",
       "    <tr style=\"text-align: right;\">\n",
       "      <th></th>\n",
       "      <th>DisclosureNumber</th>\n",
       "      <th>DateCode</th>\n",
       "      <th>Date</th>\n",
       "      <th>SecuritiesCode</th>\n",
       "      <th>DisclosedDate</th>\n",
       "      <th>DisclosedTime</th>\n",
       "      <th>DisclosedUnixTime</th>\n",
       "      <th>TypeOfDocument</th>\n",
       "      <th>CurrentPeriodEndDate</th>\n",
       "      <th>TypeOfCurrentPeriod</th>\n",
       "      <th>...</th>\n",
       "      <th>ForecastEarningsPerShare</th>\n",
       "      <th>ApplyingOfSpecificAccountingOfTheQuarterlyFinancialStatements</th>\n",
       "      <th>MaterialChangesInSubsidiaries</th>\n",
       "      <th>ChangesBasedOnRevisionsOfAccountingStandard</th>\n",
       "      <th>ChangesOtherThanOnesBasedOnRevisionsOfAccountingStandard</th>\n",
       "      <th>ChangesInAccountingEstimates</th>\n",
       "      <th>RetrospectiveRestatement</th>\n",
       "      <th>NumberOfIssuedAndOutstandingSharesAtTheEndOfFiscalYearIncludingTreasuryStock</th>\n",
       "      <th>NumberOfTreasuryStockAtTheEndOfFiscalYear</th>\n",
       "      <th>AverageNumberOfShares</th>\n",
       "    </tr>\n",
       "  </thead>\n",
       "  <tbody>\n",
       "    <tr>\n",
       "      <th>69236</th>\n",
       "      <td>2.020093e+13</td>\n",
       "      <td>20201002_2761</td>\n",
       "      <td>2020-10-02</td>\n",
       "      <td>2761.0</td>\n",
       "      <td>2020-10-02</td>\n",
       "      <td>11:00:00</td>\n",
       "      <td>1.601604e+09</td>\n",
       "      <td>1QFinancialStatements_Consolidated_JP</td>\n",
       "      <td>2020-08-20</td>\n",
       "      <td>1Q</td>\n",
       "      <td>...</td>\n",
       "      <td>211.22</td>\n",
       "      <td>NaN</td>\n",
       "      <td>False</td>\n",
       "      <td>False</td>\n",
       "      <td>False</td>\n",
       "      <td>False</td>\n",
       "      <td>False</td>\n",
       "      <td>11405400.0</td>\n",
       "      <td>3451825</td>\n",
       "      <td>7953575</td>\n",
       "    </tr>\n",
       "    <tr>\n",
       "      <th>74109</th>\n",
       "      <td>2.020113e+13</td>\n",
       "      <td>20201228_2761</td>\n",
       "      <td>2020-12-28</td>\n",
       "      <td>2761.0</td>\n",
       "      <td>2020-12-28</td>\n",
       "      <td>11:00:00</td>\n",
       "      <td>1.609121e+09</td>\n",
       "      <td>2QFinancialStatements_Consolidated_JP</td>\n",
       "      <td>2020-11-20</td>\n",
       "      <td>2Q</td>\n",
       "      <td>...</td>\n",
       "      <td>211.22</td>\n",
       "      <td>NaN</td>\n",
       "      <td>False</td>\n",
       "      <td>False</td>\n",
       "      <td>False</td>\n",
       "      <td>False</td>\n",
       "      <td>False</td>\n",
       "      <td>11405400.0</td>\n",
       "      <td>3453425</td>\n",
       "      <td>7953018</td>\n",
       "    </tr>\n",
       "    <tr>\n",
       "      <th>79003</th>\n",
       "      <td>2.021031e+13</td>\n",
       "      <td>20210331_2761</td>\n",
       "      <td>2021-03-31</td>\n",
       "      <td>2761.0</td>\n",
       "      <td>2021-03-31</td>\n",
       "      <td>11:00:00</td>\n",
       "      <td>1.617156e+09</td>\n",
       "      <td>3QFinancialStatements_Consolidated_JP</td>\n",
       "      <td>2021-02-20</td>\n",
       "      <td>3Q</td>\n",
       "      <td>...</td>\n",
       "      <td>211.22</td>\n",
       "      <td>NaN</td>\n",
       "      <td>False</td>\n",
       "      <td>False</td>\n",
       "      <td>False</td>\n",
       "      <td>False</td>\n",
       "      <td>False</td>\n",
       "      <td>11405400.0</td>\n",
       "      <td>3453425</td>\n",
       "      <td>7952673</td>\n",
       "    </tr>\n",
       "    <tr>\n",
       "      <th>84011</th>\n",
       "      <td>2.021062e+13</td>\n",
       "      <td>20210702_2761</td>\n",
       "      <td>2021-07-02</td>\n",
       "      <td>2761.0</td>\n",
       "      <td>2021-07-02</td>\n",
       "      <td>11:00:00</td>\n",
       "      <td>1.625191e+09</td>\n",
       "      <td>FYFinancialStatements_Consolidated_JP</td>\n",
       "      <td>2021-05-20</td>\n",
       "      <td>FY</td>\n",
       "      <td>...</td>\n",
       "      <td>193.72</td>\n",
       "      <td>NaN</td>\n",
       "      <td>False</td>\n",
       "      <td>False</td>\n",
       "      <td>False</td>\n",
       "      <td>False</td>\n",
       "      <td>False</td>\n",
       "      <td>11405400.0</td>\n",
       "      <td>3453425</td>\n",
       "      <td>7952501.0</td>\n",
       "    </tr>\n",
       "    <tr>\n",
       "      <th>88535</th>\n",
       "      <td>2.021092e+13</td>\n",
       "      <td>20211001_2761</td>\n",
       "      <td>2021-10-01</td>\n",
       "      <td>2761.0</td>\n",
       "      <td>2021-10-01</td>\n",
       "      <td>11:00:00</td>\n",
       "      <td>1.633054e+09</td>\n",
       "      <td>1QFinancialStatements_Consolidated_JP</td>\n",
       "      <td>2021-08-20</td>\n",
       "      <td>1Q</td>\n",
       "      <td>...</td>\n",
       "      <td>193.72</td>\n",
       "      <td>NaN</td>\n",
       "      <td>False</td>\n",
       "      <td>True</td>\n",
       "      <td>False</td>\n",
       "      <td>False</td>\n",
       "      <td>False</td>\n",
       "      <td>11405400.0</td>\n",
       "      <td>3457125</td>\n",
       "      <td>7950035.0</td>\n",
       "    </tr>\n",
       "  </tbody>\n",
       "</table>\n",
       "<p>5 rows × 45 columns</p>\n",
       "</div>"
      ],
      "text/plain": [
       "       DisclosureNumber       DateCode       Date  SecuritiesCode  \\\n",
       "69236      2.020093e+13  20201002_2761 2020-10-02          2761.0   \n",
       "74109      2.020113e+13  20201228_2761 2020-12-28          2761.0   \n",
       "79003      2.021031e+13  20210331_2761 2021-03-31          2761.0   \n",
       "84011      2.021062e+13  20210702_2761 2021-07-02          2761.0   \n",
       "88535      2.021092e+13  20211001_2761 2021-10-01          2761.0   \n",
       "\n",
       "      DisclosedDate DisclosedTime  DisclosedUnixTime  \\\n",
       "69236    2020-10-02      11:00:00       1.601604e+09   \n",
       "74109    2020-12-28      11:00:00       1.609121e+09   \n",
       "79003    2021-03-31      11:00:00       1.617156e+09   \n",
       "84011    2021-07-02      11:00:00       1.625191e+09   \n",
       "88535    2021-10-01      11:00:00       1.633054e+09   \n",
       "\n",
       "                              TypeOfDocument CurrentPeriodEndDate  \\\n",
       "69236  1QFinancialStatements_Consolidated_JP           2020-08-20   \n",
       "74109  2QFinancialStatements_Consolidated_JP           2020-11-20   \n",
       "79003  3QFinancialStatements_Consolidated_JP           2021-02-20   \n",
       "84011  FYFinancialStatements_Consolidated_JP           2021-05-20   \n",
       "88535  1QFinancialStatements_Consolidated_JP           2021-08-20   \n",
       "\n",
       "      TypeOfCurrentPeriod  ... ForecastEarningsPerShare  \\\n",
       "69236                  1Q  ...                   211.22   \n",
       "74109                  2Q  ...                   211.22   \n",
       "79003                  3Q  ...                   211.22   \n",
       "84011                  FY  ...                   193.72   \n",
       "88535                  1Q  ...                   193.72   \n",
       "\n",
       "      ApplyingOfSpecificAccountingOfTheQuarterlyFinancialStatements  \\\n",
       "69236                                                NaN              \n",
       "74109                                                NaN              \n",
       "79003                                                NaN              \n",
       "84011                                                NaN              \n",
       "88535                                                NaN              \n",
       "\n",
       "      MaterialChangesInSubsidiaries  \\\n",
       "69236                         False   \n",
       "74109                         False   \n",
       "79003                         False   \n",
       "84011                         False   \n",
       "88535                         False   \n",
       "\n",
       "      ChangesBasedOnRevisionsOfAccountingStandard  \\\n",
       "69236                                       False   \n",
       "74109                                       False   \n",
       "79003                                       False   \n",
       "84011                                       False   \n",
       "88535                                        True   \n",
       "\n",
       "      ChangesOtherThanOnesBasedOnRevisionsOfAccountingStandard  \\\n",
       "69236                                              False         \n",
       "74109                                              False         \n",
       "79003                                              False         \n",
       "84011                                              False         \n",
       "88535                                              False         \n",
       "\n",
       "      ChangesInAccountingEstimates RetrospectiveRestatement  \\\n",
       "69236                        False                    False   \n",
       "74109                        False                    False   \n",
       "79003                        False                    False   \n",
       "84011                        False                    False   \n",
       "88535                        False                    False   \n",
       "\n",
       "      NumberOfIssuedAndOutstandingSharesAtTheEndOfFiscalYearIncludingTreasuryStock  \\\n",
       "69236                                         11405400.0                             \n",
       "74109                                         11405400.0                             \n",
       "79003                                         11405400.0                             \n",
       "84011                                         11405400.0                             \n",
       "88535                                         11405400.0                             \n",
       "\n",
       "      NumberOfTreasuryStockAtTheEndOfFiscalYear AverageNumberOfShares  \n",
       "69236                                   3451825               7953575  \n",
       "74109                                   3453425               7953018  \n",
       "79003                                   3453425               7952673  \n",
       "84011                                   3453425             7952501.0  \n",
       "88535                                   3457125             7950035.0  \n",
       "\n",
       "[5 rows x 45 columns]"
      ]
     },
     "execution_count": 15,
     "metadata": {},
     "output_type": "execute_result"
    }
   ],
   "source": [
    "# 2761\n",
    "financial.query('SecuritiesCode == 2761').tail()"
   ]
  },
  {
   "cell_type": "code",
   "execution_count": 16,
   "metadata": {},
   "outputs": [
    {
     "data": {
      "text/plain": [
       "Index(['DisclosureNumber', 'DateCode', 'Date', 'SecuritiesCode',\n",
       "       'DisclosedDate', 'DisclosedTime', 'DisclosedUnixTime', 'TypeOfDocument',\n",
       "       'CurrentPeriodEndDate', 'TypeOfCurrentPeriod',\n",
       "       'CurrentFiscalYearStartDate', 'CurrentFiscalYearEndDate', 'NetSales',\n",
       "       'OperatingProfit', 'OrdinaryProfit', 'Profit', 'EarningsPerShare',\n",
       "       'TotalAssets', 'Equity', 'EquityToAssetRatio', 'BookValuePerShare',\n",
       "       'ResultDividendPerShare1stQuarter', 'ResultDividendPerShare2ndQuarter',\n",
       "       'ResultDividendPerShare3rdQuarter',\n",
       "       'ResultDividendPerShareFiscalYearEnd', 'ResultDividendPerShareAnnual',\n",
       "       'ForecastDividendPerShare1stQuarter',\n",
       "       'ForecastDividendPerShare2ndQuarter',\n",
       "       'ForecastDividendPerShare3rdQuarter',\n",
       "       'ForecastDividendPerShareFiscalYearEnd',\n",
       "       'ForecastDividendPerShareAnnual', 'ForecastNetSales',\n",
       "       'ForecastOperatingProfit', 'ForecastOrdinaryProfit', 'ForecastProfit',\n",
       "       'ForecastEarningsPerShare',\n",
       "       'ApplyingOfSpecificAccountingOfTheQuarterlyFinancialStatements',\n",
       "       'MaterialChangesInSubsidiaries',\n",
       "       'ChangesBasedOnRevisionsOfAccountingStandard',\n",
       "       'ChangesOtherThanOnesBasedOnRevisionsOfAccountingStandard',\n",
       "       'ChangesInAccountingEstimates', 'RetrospectiveRestatement',\n",
       "       'NumberOfIssuedAndOutstandingSharesAtTheEndOfFiscalYearIncludingTreasuryStock',\n",
       "       'NumberOfTreasuryStockAtTheEndOfFiscalYear', 'AverageNumberOfShares'],\n",
       "      dtype='object')"
      ]
     },
     "execution_count": 16,
     "metadata": {},
     "output_type": "execute_result"
    }
   ],
   "source": [
    "financial.columns"
   ]
  },
  {
   "cell_type": "markdown",
   "metadata": {},
   "source": [
    "### starting date"
   ]
  },
  {
   "cell_type": "code",
   "execution_count": 17,
   "metadata": {},
   "outputs": [],
   "source": [
    "# drop \n",
    "financial = financial.query('TypeOfDocument != [\"ForecastRevision\", \"ForecastRevision_REIT\"]')"
   ]
  },
  {
   "cell_type": "code",
   "execution_count": 18,
   "metadata": {},
   "outputs": [
    {
     "data": {
      "text/html": [
       "<div>\n",
       "<style scoped>\n",
       "    .dataframe tbody tr th:only-of-type {\n",
       "        vertical-align: middle;\n",
       "    }\n",
       "\n",
       "    .dataframe tbody tr th {\n",
       "        vertical-align: top;\n",
       "    }\n",
       "\n",
       "    .dataframe thead th {\n",
       "        text-align: right;\n",
       "    }\n",
       "</style>\n",
       "<table border=\"1\" class=\"dataframe\">\n",
       "  <thead>\n",
       "    <tr style=\"text-align: right;\">\n",
       "      <th></th>\n",
       "      <th>DisclosureNumber</th>\n",
       "      <th>DateCode</th>\n",
       "      <th>Date</th>\n",
       "      <th>SecuritiesCode</th>\n",
       "      <th>DisclosedDate</th>\n",
       "      <th>DisclosedTime</th>\n",
       "      <th>DisclosedUnixTime</th>\n",
       "      <th>TypeOfDocument</th>\n",
       "      <th>CurrentPeriodEndDate</th>\n",
       "      <th>TypeOfCurrentPeriod</th>\n",
       "      <th>...</th>\n",
       "      <th>ForecastEarningsPerShare</th>\n",
       "      <th>ApplyingOfSpecificAccountingOfTheQuarterlyFinancialStatements</th>\n",
       "      <th>MaterialChangesInSubsidiaries</th>\n",
       "      <th>ChangesBasedOnRevisionsOfAccountingStandard</th>\n",
       "      <th>ChangesOtherThanOnesBasedOnRevisionsOfAccountingStandard</th>\n",
       "      <th>ChangesInAccountingEstimates</th>\n",
       "      <th>RetrospectiveRestatement</th>\n",
       "      <th>NumberOfIssuedAndOutstandingSharesAtTheEndOfFiscalYearIncludingTreasuryStock</th>\n",
       "      <th>NumberOfTreasuryStockAtTheEndOfFiscalYear</th>\n",
       "      <th>AverageNumberOfShares</th>\n",
       "    </tr>\n",
       "  </thead>\n",
       "  <tbody>\n",
       "    <tr>\n",
       "      <th>0</th>\n",
       "      <td>2.016121e+13</td>\n",
       "      <td>20170104_2753</td>\n",
       "      <td>2017-01-04</td>\n",
       "      <td>2753.0</td>\n",
       "      <td>2017-01-04</td>\n",
       "      <td>07:30:00</td>\n",
       "      <td>1.483483e+09</td>\n",
       "      <td>3QFinancialStatements_Consolidated_JP</td>\n",
       "      <td>2016-12-31</td>\n",
       "      <td>3Q</td>\n",
       "      <td>...</td>\n",
       "      <td>319.76</td>\n",
       "      <td>NaN</td>\n",
       "      <td>False</td>\n",
       "      <td>True</td>\n",
       "      <td>False</td>\n",
       "      <td>False</td>\n",
       "      <td>False</td>\n",
       "      <td>6848800.0</td>\n",
       "      <td>－</td>\n",
       "      <td>6848800.0</td>\n",
       "    </tr>\n",
       "    <tr>\n",
       "      <th>1</th>\n",
       "      <td>2.017010e+13</td>\n",
       "      <td>20170104_3353</td>\n",
       "      <td>2017-01-04</td>\n",
       "      <td>3353.0</td>\n",
       "      <td>2017-01-04</td>\n",
       "      <td>15:00:00</td>\n",
       "      <td>1.483510e+09</td>\n",
       "      <td>3QFinancialStatements_Consolidated_JP</td>\n",
       "      <td>2016-11-30</td>\n",
       "      <td>3Q</td>\n",
       "      <td>...</td>\n",
       "      <td>485.36</td>\n",
       "      <td>NaN</td>\n",
       "      <td>False</td>\n",
       "      <td>True</td>\n",
       "      <td>False</td>\n",
       "      <td>False</td>\n",
       "      <td>False</td>\n",
       "      <td>2035000.0</td>\n",
       "      <td>118917</td>\n",
       "      <td>1916083.0</td>\n",
       "    </tr>\n",
       "    <tr>\n",
       "      <th>3</th>\n",
       "      <td>2.017010e+13</td>\n",
       "      <td>20170105_2659</td>\n",
       "      <td>2017-01-05</td>\n",
       "      <td>2659.0</td>\n",
       "      <td>2017-01-05</td>\n",
       "      <td>15:00:00</td>\n",
       "      <td>1.483596e+09</td>\n",
       "      <td>3QFinancialStatements_Consolidated_JP</td>\n",
       "      <td>2016-11-30</td>\n",
       "      <td>3Q</td>\n",
       "      <td>...</td>\n",
       "      <td>285.05</td>\n",
       "      <td>NaN</td>\n",
       "      <td>False</td>\n",
       "      <td>True</td>\n",
       "      <td>False</td>\n",
       "      <td>False</td>\n",
       "      <td>False</td>\n",
       "      <td>31981654.0</td>\n",
       "      <td>18257</td>\n",
       "      <td>31963405.0</td>\n",
       "    </tr>\n",
       "    <tr>\n",
       "      <th>7</th>\n",
       "      <td>2.017011e+13</td>\n",
       "      <td>20170105_3344</td>\n",
       "      <td>2017-01-05</td>\n",
       "      <td>3344.0</td>\n",
       "      <td>2017-01-05</td>\n",
       "      <td>15:00:00</td>\n",
       "      <td>1.483596e+09</td>\n",
       "      <td>3QFinancialStatements_Consolidated_JP</td>\n",
       "      <td>2016-11-30</td>\n",
       "      <td>3Q</td>\n",
       "      <td>...</td>\n",
       "      <td>47.7</td>\n",
       "      <td>NaN</td>\n",
       "      <td>False</td>\n",
       "      <td>True</td>\n",
       "      <td>False</td>\n",
       "      <td>False</td>\n",
       "      <td>False</td>\n",
       "      <td>5579184.0</td>\n",
       "      <td>1372</td>\n",
       "      <td>5578257.0</td>\n",
       "    </tr>\n",
       "    <tr>\n",
       "      <th>9</th>\n",
       "      <td>2.017010e+13</td>\n",
       "      <td>20170105_7453</td>\n",
       "      <td>2017-01-05</td>\n",
       "      <td>7453.0</td>\n",
       "      <td>2017-01-05</td>\n",
       "      <td>15:00:00</td>\n",
       "      <td>1.483596e+09</td>\n",
       "      <td>3QFinancialStatements_Consolidated_JP</td>\n",
       "      <td>2016-11-30</td>\n",
       "      <td>3Q</td>\n",
       "      <td>...</td>\n",
       "      <td>913.28</td>\n",
       "      <td>NaN</td>\n",
       "      <td>False</td>\n",
       "      <td>True</td>\n",
       "      <td>True</td>\n",
       "      <td>False</td>\n",
       "      <td>False</td>\n",
       "      <td>28078000.0</td>\n",
       "      <td>1702372</td>\n",
       "      <td>26527712.0</td>\n",
       "    </tr>\n",
       "  </tbody>\n",
       "</table>\n",
       "<p>5 rows × 45 columns</p>\n",
       "</div>"
      ],
      "text/plain": [
       "   DisclosureNumber       DateCode       Date  SecuritiesCode DisclosedDate  \\\n",
       "0      2.016121e+13  20170104_2753 2017-01-04          2753.0    2017-01-04   \n",
       "1      2.017010e+13  20170104_3353 2017-01-04          3353.0    2017-01-04   \n",
       "3      2.017010e+13  20170105_2659 2017-01-05          2659.0    2017-01-05   \n",
       "7      2.017011e+13  20170105_3344 2017-01-05          3344.0    2017-01-05   \n",
       "9      2.017010e+13  20170105_7453 2017-01-05          7453.0    2017-01-05   \n",
       "\n",
       "  DisclosedTime  DisclosedUnixTime                         TypeOfDocument  \\\n",
       "0      07:30:00       1.483483e+09  3QFinancialStatements_Consolidated_JP   \n",
       "1      15:00:00       1.483510e+09  3QFinancialStatements_Consolidated_JP   \n",
       "3      15:00:00       1.483596e+09  3QFinancialStatements_Consolidated_JP   \n",
       "7      15:00:00       1.483596e+09  3QFinancialStatements_Consolidated_JP   \n",
       "9      15:00:00       1.483596e+09  3QFinancialStatements_Consolidated_JP   \n",
       "\n",
       "  CurrentPeriodEndDate TypeOfCurrentPeriod  ... ForecastEarningsPerShare  \\\n",
       "0           2016-12-31                  3Q  ...                   319.76   \n",
       "1           2016-11-30                  3Q  ...                   485.36   \n",
       "3           2016-11-30                  3Q  ...                   285.05   \n",
       "7           2016-11-30                  3Q  ...                     47.7   \n",
       "9           2016-11-30                  3Q  ...                   913.28   \n",
       "\n",
       "  ApplyingOfSpecificAccountingOfTheQuarterlyFinancialStatements  \\\n",
       "0                                                NaN              \n",
       "1                                                NaN              \n",
       "3                                                NaN              \n",
       "7                                                NaN              \n",
       "9                                                NaN              \n",
       "\n",
       "  MaterialChangesInSubsidiaries ChangesBasedOnRevisionsOfAccountingStandard  \\\n",
       "0                         False                                        True   \n",
       "1                         False                                        True   \n",
       "3                         False                                        True   \n",
       "7                         False                                        True   \n",
       "9                         False                                        True   \n",
       "\n",
       "  ChangesOtherThanOnesBasedOnRevisionsOfAccountingStandard  \\\n",
       "0                                              False         \n",
       "1                                              False         \n",
       "3                                              False         \n",
       "7                                              False         \n",
       "9                                               True         \n",
       "\n",
       "  ChangesInAccountingEstimates RetrospectiveRestatement  \\\n",
       "0                        False                    False   \n",
       "1                        False                    False   \n",
       "3                        False                    False   \n",
       "7                        False                    False   \n",
       "9                        False                    False   \n",
       "\n",
       "  NumberOfIssuedAndOutstandingSharesAtTheEndOfFiscalYearIncludingTreasuryStock  \\\n",
       "0                                          6848800.0                             \n",
       "1                                          2035000.0                             \n",
       "3                                         31981654.0                             \n",
       "7                                          5579184.0                             \n",
       "9                                         28078000.0                             \n",
       "\n",
       "  NumberOfTreasuryStockAtTheEndOfFiscalYear AverageNumberOfShares  \n",
       "0                                         －             6848800.0  \n",
       "1                                    118917             1916083.0  \n",
       "3                                     18257            31963405.0  \n",
       "7                                      1372             5578257.0  \n",
       "9                                   1702372            26527712.0  \n",
       "\n",
       "[5 rows x 45 columns]"
      ]
     },
     "execution_count": 18,
     "metadata": {},
     "output_type": "execute_result"
    }
   ],
   "source": [
    "financial.head()"
   ]
  },
  {
   "cell_type": "code",
   "execution_count": 19,
   "metadata": {},
   "outputs": [],
   "source": [
    "liste =[ 'Date', 'SecuritiesCode', 'Profit', 'NetSales', 'OperatingProfit', 'BookValuePerShare',\n",
    "        'ForecastDividendPerShareFiscalYearEnd',\n",
    "        'ForecastDividendPerShareAnnual', 'ForecastNetSales',\n",
    "        'ForecastOperatingProfit', 'ForecastOrdinaryProfit', 'ForecastProfit',\n",
    "        'ForecastEarningsPerShare']\n",
    "\n",
    "financial = financial[liste]"
   ]
  },
  {
   "cell_type": "code",
   "execution_count": 20,
   "metadata": {},
   "outputs": [
    {
     "data": {
      "text/html": [
       "<div>\n",
       "<style scoped>\n",
       "    .dataframe tbody tr th:only-of-type {\n",
       "        vertical-align: middle;\n",
       "    }\n",
       "\n",
       "    .dataframe tbody tr th {\n",
       "        vertical-align: top;\n",
       "    }\n",
       "\n",
       "    .dataframe thead th {\n",
       "        text-align: right;\n",
       "    }\n",
       "</style>\n",
       "<table border=\"1\" class=\"dataframe\">\n",
       "  <thead>\n",
       "    <tr style=\"text-align: right;\">\n",
       "      <th></th>\n",
       "      <th>Date</th>\n",
       "      <th>SecuritiesCode</th>\n",
       "      <th>Profit</th>\n",
       "      <th>NetSales</th>\n",
       "      <th>OperatingProfit</th>\n",
       "      <th>BookValuePerShare</th>\n",
       "      <th>ForecastDividendPerShareFiscalYearEnd</th>\n",
       "      <th>ForecastDividendPerShareAnnual</th>\n",
       "      <th>ForecastNetSales</th>\n",
       "      <th>ForecastOperatingProfit</th>\n",
       "      <th>ForecastOrdinaryProfit</th>\n",
       "      <th>ForecastProfit</th>\n",
       "      <th>ForecastEarningsPerShare</th>\n",
       "    </tr>\n",
       "  </thead>\n",
       "  <tbody>\n",
       "    <tr>\n",
       "      <th>0</th>\n",
       "      <td>2017-01-04</td>\n",
       "      <td>2753.0</td>\n",
       "      <td>1494000000</td>\n",
       "      <td>22761000000</td>\n",
       "      <td>2147000000</td>\n",
       "      <td>2671.42</td>\n",
       "      <td>50.0</td>\n",
       "      <td>100.0</td>\n",
       "      <td>31800000000</td>\n",
       "      <td>3255000000</td>\n",
       "      <td>3300000000</td>\n",
       "      <td>2190000000</td>\n",
       "      <td>319.76</td>\n",
       "    </tr>\n",
       "    <tr>\n",
       "      <th>1</th>\n",
       "      <td>2017-01-04</td>\n",
       "      <td>3353.0</td>\n",
       "      <td>629000000</td>\n",
       "      <td>22128000000</td>\n",
       "      <td>820000000</td>\n",
       "      <td>NaN</td>\n",
       "      <td>36.0</td>\n",
       "      <td>72.0</td>\n",
       "      <td>30200000000</td>\n",
       "      <td>1350000000</td>\n",
       "      <td>1300000000</td>\n",
       "      <td>930000000</td>\n",
       "      <td>485.36</td>\n",
       "    </tr>\n",
       "    <tr>\n",
       "      <th>3</th>\n",
       "      <td>2017-01-05</td>\n",
       "      <td>2659.0</td>\n",
       "      <td>7171000000</td>\n",
       "      <td>134781000000</td>\n",
       "      <td>11248000000</td>\n",
       "      <td>3073.12</td>\n",
       "      <td>42.0</td>\n",
       "      <td>42.0</td>\n",
       "      <td>177683000000</td>\n",
       "      <td>14168000000</td>\n",
       "      <td>14473000000</td>\n",
       "      <td>9111000000</td>\n",
       "      <td>285.05</td>\n",
       "    </tr>\n",
       "    <tr>\n",
       "      <th>7</th>\n",
       "      <td>2017-01-05</td>\n",
       "      <td>3344.0</td>\n",
       "      <td>-669000000</td>\n",
       "      <td>54452000000</td>\n",
       "      <td>-541000000</td>\n",
       "      <td>NaN</td>\n",
       "      <td>25.0</td>\n",
       "      <td>25.0</td>\n",
       "      <td>75500000000</td>\n",
       "      <td>500000000</td>\n",
       "      <td>650000000</td>\n",
       "      <td>250000000</td>\n",
       "      <td>47.7</td>\n",
       "    </tr>\n",
       "    <tr>\n",
       "      <th>9</th>\n",
       "      <td>2017-01-05</td>\n",
       "      <td>7453.0</td>\n",
       "      <td>19996000000</td>\n",
       "      <td>247027000000</td>\n",
       "      <td>29651000000</td>\n",
       "      <td>5350.88</td>\n",
       "      <td>137.0</td>\n",
       "      <td>274.0</td>\n",
       "      <td>336500000000</td>\n",
       "      <td>38000000000</td>\n",
       "      <td>38000000000</td>\n",
       "      <td>24300000000</td>\n",
       "      <td>913.28</td>\n",
       "    </tr>\n",
       "  </tbody>\n",
       "</table>\n",
       "</div>"
      ],
      "text/plain": [
       "        Date  SecuritiesCode       Profit      NetSales OperatingProfit  \\\n",
       "0 2017-01-04          2753.0   1494000000   22761000000      2147000000   \n",
       "1 2017-01-04          3353.0    629000000   22128000000       820000000   \n",
       "3 2017-01-05          2659.0   7171000000  134781000000     11248000000   \n",
       "7 2017-01-05          3344.0   -669000000   54452000000      -541000000   \n",
       "9 2017-01-05          7453.0  19996000000  247027000000     29651000000   \n",
       "\n",
       "  BookValuePerShare ForecastDividendPerShareFiscalYearEnd  \\\n",
       "0           2671.42                                  50.0   \n",
       "1               NaN                                  36.0   \n",
       "3           3073.12                                  42.0   \n",
       "7               NaN                                  25.0   \n",
       "9           5350.88                                 137.0   \n",
       "\n",
       "  ForecastDividendPerShareAnnual ForecastNetSales ForecastOperatingProfit  \\\n",
       "0                          100.0      31800000000              3255000000   \n",
       "1                           72.0      30200000000              1350000000   \n",
       "3                           42.0     177683000000             14168000000   \n",
       "7                           25.0      75500000000               500000000   \n",
       "9                          274.0     336500000000             38000000000   \n",
       "\n",
       "  ForecastOrdinaryProfit ForecastProfit ForecastEarningsPerShare  \n",
       "0             3300000000     2190000000                   319.76  \n",
       "1             1300000000      930000000                   485.36  \n",
       "3            14473000000     9111000000                   285.05  \n",
       "7              650000000      250000000                     47.7  \n",
       "9            38000000000    24300000000                   913.28  "
      ]
     },
     "execution_count": 20,
     "metadata": {},
     "output_type": "execute_result"
    }
   ],
   "source": [
    "financial.head()"
   ]
  },
  {
   "cell_type": "code",
   "execution_count": 21,
   "metadata": {},
   "outputs": [],
   "source": [
    "#financial.SecuritiesCode.nunique()\n",
    "# Selecting only matching Codes from financial data\n",
    "prices = pd.read_csv('data/train_files/stock_prices.csv', parse_dates=[1])\n",
    "sec_codes = [x for x in prices.SecuritiesCode.unique() if x in financial.SecuritiesCode.unique()]\n"
   ]
  },
  {
   "cell_type": "code",
   "execution_count": 22,
   "metadata": {},
   "outputs": [
    {
     "name": "stdout",
     "output_type": "stream",
     "text": [
      " Shape:\n",
      " ----------------------------------------\n",
      " Observations:   75.6K\n",
      " Features:       13\n",
      " Feature Date:    datetime64[ns]\n",
      "----------------------------------------\n",
      "Index(['Date', 'SecuritiesCode', 'Profit', 'NetSales', 'OperatingProfit',\n",
      "       'BookValuePerShare', 'ForecastDividendPerShareFiscalYearEnd',\n",
      "       'ForecastDividendPerShareAnnual', 'ForecastNetSales',\n",
      "       'ForecastOperatingProfit', 'ForecastOrdinaryProfit', 'ForecastProfit',\n",
      "       'ForecastEarningsPerShare'],\n",
      "      dtype='object')\n",
      "----------------------------------------\n",
      "Date missing Values: 0 (0.0%)\n",
      "SecuritiesCode missing Values: 2 (0.0%)\n",
      "Profit missing Values: 261 (0.3%)\n",
      "NetSales missing Values: 193 (0.3%)\n",
      "OperatingProfit missing Values: 2195 (2.9%)\n",
      "BookValuePerShare missing Values: 39868 (52.7%)\n",
      "ForecastDividendPerShareFiscalYearEnd missing Values: 1584 (2.1%)\n",
      "ForecastDividendPerShareAnnual missing Values: 1583 (2.1%)\n",
      "ForecastNetSales missing Values: 7045 (9.3%)\n",
      "ForecastOperatingProfit missing Values: 8362 (11.1%)\n",
      "ForecastOrdinaryProfit missing Values: 7164 (9.5%)\n",
      "ForecastProfit missing Values: 6166 (8.2%)\n",
      "ForecastEarningsPerShare missing Values: 6956 (9.2%)\n"
     ]
    }
   ],
   "source": [
    "print_shape(financial)"
   ]
  },
  {
   "cell_type": "code",
   "execution_count": 23,
   "metadata": {},
   "outputs": [],
   "source": [
    "#TODO es funktioniert nicht!"
   ]
  },
  {
   "cell_type": "code",
   "execution_count": 25,
   "metadata": {},
   "outputs": [
    {
     "name": "stderr",
     "output_type": "stream",
     "text": [
      "100%|██████████| 100/100 [00:00<00:00, 115.27it/s]\n"
     ]
    }
   ],
   "source": [
    "droped_days_dict = {}\n",
    "\n",
    "\n",
    "def droped_days (df, except_col = 'ExpectedDividends'):\n",
    "\n",
    "    col_to_drop = [x for x in df.columns if x != except_col]\n",
    "    df_drop = df.dropna(axis=0, subset = col_to_drop)\n",
    "    \n",
    "    first_day = df.Date.iloc[0].date()\n",
    "    #display(df_drop.head())\n",
    "    first_day_drop = df_drop.Date.iloc[0].date()\n",
    "    days_drop =  first_day_drop - first_day \n",
    "\n",
    "    return first_day, first_day_drop, days_drop.days\n",
    "\n",
    "\n",
    "for code in tqdm(sec_codes[:100]):\n",
    "    #print(code)\n",
    "    df_f = financial.query('SecuritiesCode == @code').sort_values('Date')\n",
    "    f_first_day, f_first_day_drop, f_days_drop = droped_days(df_f)\n",
    "\n",
    "    df_p = prices.query('SecuritiesCode == @code').sort_values('Date')    \n",
    "    p_first_day, p_first_day_drop, p_days_drop = droped_days(df_p)\n",
    "    #display(df_p.head())\n",
    "    financial_preis_days_drop = p_first_day_drop - f_first_day_drop\n",
    "\n",
    "    droped_days_dict[code] = (f_first_day, f_first_day_drop, f_days_drop, p_first_day, p_first_day_drop, p_days_drop, financial_preis_days_drop )\n",
    "\n",
    "\n",
    "#droped_df = pd.DataFrame(droped_days).T\n",
    "#droped_df.columns = ['F_first_day', 'F_firest_day_drop', 'F_days', 'P_first_day', 'P_firest_day_drop', 'P_days']"
   ]
  },
  {
   "cell_type": "code",
   "execution_count": 26,
   "metadata": {},
   "outputs": [
    {
     "data": {
      "text/plain": [
       "datetime.date(2017, 3, 27)"
      ]
     },
     "execution_count": 26,
     "metadata": {},
     "output_type": "execute_result"
    }
   ],
   "source": [
    "from functions import df_security_code\n",
    "d2120 = df_security_code(prices, code=2120)\n",
    "d2120.head()\n",
    "df_drop = d2120.dropna(axis=0)\n",
    "df_drop.Date.iloc[0].date()"
   ]
  },
  {
   "cell_type": "code",
   "execution_count": 27,
   "metadata": {},
   "outputs": [
    {
     "name": "stderr",
     "output_type": "stream",
     "text": [
      "100%|██████████| 2000/2000 [00:12<00:00, 156.62it/s]\n"
     ]
    }
   ],
   "source": [
    "for i in tqdm(sec_codes):\n",
    "    d212_ = df_security_code(prices, i)\n",
    "    d212_.head()\n",
    "    df_drop = d212_.dropna(axis=0)\n",
    "    #print(i, '  ', df_drop.Date.iloc[0].date())\n"
   ]
  },
  {
   "cell_type": "code",
   "execution_count": 28,
   "metadata": {},
   "outputs": [
    {
     "data": {
      "text/html": [
       "<div>\n",
       "<style scoped>\n",
       "    .dataframe tbody tr th:only-of-type {\n",
       "        vertical-align: middle;\n",
       "    }\n",
       "\n",
       "    .dataframe tbody tr th {\n",
       "        vertical-align: top;\n",
       "    }\n",
       "\n",
       "    .dataframe thead th {\n",
       "        text-align: right;\n",
       "    }\n",
       "</style>\n",
       "<table border=\"1\" class=\"dataframe\">\n",
       "  <thead>\n",
       "    <tr style=\"text-align: right;\">\n",
       "      <th></th>\n",
       "      <th>F_first_day</th>\n",
       "      <th>F_firest_day_drop</th>\n",
       "      <th>F_days</th>\n",
       "      <th>P_first_day</th>\n",
       "      <th>P_firest_day_drop</th>\n",
       "      <th>P_days</th>\n",
       "      <th>total</th>\n",
       "    </tr>\n",
       "  </thead>\n",
       "  <tbody>\n",
       "    <tr>\n",
       "      <th>1301</th>\n",
       "      <td>2017-02-10</td>\n",
       "      <td>2017-05-11</td>\n",
       "      <td>90</td>\n",
       "      <td>2017-01-04</td>\n",
       "      <td>2017-03-27</td>\n",
       "      <td>82</td>\n",
       "      <td>-45 days</td>\n",
       "    </tr>\n",
       "    <tr>\n",
       "      <th>1332</th>\n",
       "      <td>2017-01-20</td>\n",
       "      <td>2017-01-20</td>\n",
       "      <td>0</td>\n",
       "      <td>2017-01-04</td>\n",
       "      <td>2017-03-27</td>\n",
       "      <td>82</td>\n",
       "      <td>66 days</td>\n",
       "    </tr>\n",
       "    <tr>\n",
       "      <th>1333</th>\n",
       "      <td>2017-02-06</td>\n",
       "      <td>2017-05-08</td>\n",
       "      <td>91</td>\n",
       "      <td>2017-01-04</td>\n",
       "      <td>2017-03-27</td>\n",
       "      <td>82</td>\n",
       "      <td>-42 days</td>\n",
       "    </tr>\n",
       "    <tr>\n",
       "      <th>1376</th>\n",
       "      <td>2017-01-06</td>\n",
       "      <td>2017-01-06</td>\n",
       "      <td>0</td>\n",
       "      <td>2017-01-04</td>\n",
       "      <td>2017-05-25</td>\n",
       "      <td>141</td>\n",
       "      <td>139 days</td>\n",
       "    </tr>\n",
       "    <tr>\n",
       "      <th>1377</th>\n",
       "      <td>2017-01-12</td>\n",
       "      <td>2017-07-13</td>\n",
       "      <td>182</td>\n",
       "      <td>2017-01-04</td>\n",
       "      <td>2017-05-25</td>\n",
       "      <td>141</td>\n",
       "      <td>-49 days</td>\n",
       "    </tr>\n",
       "    <tr>\n",
       "      <th>...</th>\n",
       "      <td>...</td>\n",
       "      <td>...</td>\n",
       "      <td>...</td>\n",
       "      <td>...</td>\n",
       "      <td>...</td>\n",
       "      <td>...</td>\n",
       "      <td>...</td>\n",
       "    </tr>\n",
       "    <tr>\n",
       "      <th>1979</th>\n",
       "      <td>2017-02-10</td>\n",
       "      <td>2017-05-15</td>\n",
       "      <td>94</td>\n",
       "      <td>2017-01-04</td>\n",
       "      <td>2017-03-27</td>\n",
       "      <td>82</td>\n",
       "      <td>-49 days</td>\n",
       "    </tr>\n",
       "    <tr>\n",
       "      <th>1980</th>\n",
       "      <td>2017-02-08</td>\n",
       "      <td>2017-02-08</td>\n",
       "      <td>0</td>\n",
       "      <td>2017-01-04</td>\n",
       "      <td>2017-03-27</td>\n",
       "      <td>82</td>\n",
       "      <td>47 days</td>\n",
       "    </tr>\n",
       "    <tr>\n",
       "      <th>1981</th>\n",
       "      <td>2017-02-08</td>\n",
       "      <td>2017-05-12</td>\n",
       "      <td>93</td>\n",
       "      <td>2017-01-04</td>\n",
       "      <td>2017-03-27</td>\n",
       "      <td>82</td>\n",
       "      <td>-46 days</td>\n",
       "    </tr>\n",
       "    <tr>\n",
       "      <th>1982</th>\n",
       "      <td>2017-02-07</td>\n",
       "      <td>2017-02-07</td>\n",
       "      <td>0</td>\n",
       "      <td>2017-01-04</td>\n",
       "      <td>2017-03-27</td>\n",
       "      <td>82</td>\n",
       "      <td>48 days</td>\n",
       "    </tr>\n",
       "    <tr>\n",
       "      <th>2001</th>\n",
       "      <td>2017-02-06</td>\n",
       "      <td>2017-05-12</td>\n",
       "      <td>95</td>\n",
       "      <td>2017-01-04</td>\n",
       "      <td>2017-03-27</td>\n",
       "      <td>82</td>\n",
       "      <td>-46 days</td>\n",
       "    </tr>\n",
       "  </tbody>\n",
       "</table>\n",
       "<p>100 rows × 7 columns</p>\n",
       "</div>"
      ],
      "text/plain": [
       "     F_first_day F_firest_day_drop F_days P_first_day P_firest_day_drop  \\\n",
       "1301  2017-02-10        2017-05-11     90  2017-01-04        2017-03-27   \n",
       "1332  2017-01-20        2017-01-20      0  2017-01-04        2017-03-27   \n",
       "1333  2017-02-06        2017-05-08     91  2017-01-04        2017-03-27   \n",
       "1376  2017-01-06        2017-01-06      0  2017-01-04        2017-05-25   \n",
       "1377  2017-01-12        2017-07-13    182  2017-01-04        2017-05-25   \n",
       "...          ...               ...    ...         ...               ...   \n",
       "1979  2017-02-10        2017-05-15     94  2017-01-04        2017-03-27   \n",
       "1980  2017-02-08        2017-02-08      0  2017-01-04        2017-03-27   \n",
       "1981  2017-02-08        2017-05-12     93  2017-01-04        2017-03-27   \n",
       "1982  2017-02-07        2017-02-07      0  2017-01-04        2017-03-27   \n",
       "2001  2017-02-06        2017-05-12     95  2017-01-04        2017-03-27   \n",
       "\n",
       "     P_days    total  \n",
       "1301     82 -45 days  \n",
       "1332     82  66 days  \n",
       "1333     82 -42 days  \n",
       "1376    141 139 days  \n",
       "1377    141 -49 days  \n",
       "...     ...      ...  \n",
       "1979     82 -49 days  \n",
       "1980     82  47 days  \n",
       "1981     82 -46 days  \n",
       "1982     82  48 days  \n",
       "2001     82 -46 days  \n",
       "\n",
       "[100 rows x 7 columns]"
      ]
     },
     "execution_count": 28,
     "metadata": {},
     "output_type": "execute_result"
    }
   ],
   "source": [
    "droped_df = pd.DataFrame(droped_days_dict).T\n",
    "droped_df.columns = ['F_first_day', 'F_firest_day_drop', 'F_days', 'P_first_day', 'P_firest_day_drop', 'P_days', 'total']\n",
    "droped_df"
   ]
  },
  {
   "cell_type": "code",
   "execution_count": null,
   "metadata": {},
   "outputs": [],
   "source": [
    "df_1332 = prices.query('SecuritiesCode == @code').sort_values('Date')\n",
    "df_1332.head()"
   ]
  },
  {
   "cell_type": "code",
   "execution_count": null,
   "metadata": {},
   "outputs": [],
   "source": [
    "for code in sec_codes[99:101]:\n",
    "    print(code)\n",
    "    df_f = financial.query('SecuritiesCode == @code').sort_values('Date')\n",
    "    df_p = prices.query('SecuritiesCode == @code').sort_values('Date')\n",
    "    display(df_f.head())\n",
    "    display(df_p.head())\n",
    "    "
   ]
  },
  {
   "cell_type": "code",
   "execution_count": null,
   "metadata": {},
   "outputs": [],
   "source": [
    "prices_droped_day = {}\n",
    "\n",
    "for code in sec_codes[:2]:\n",
    "    df = prices.query('SecuritiesCode == @code').sort_values('Date')\n",
    "    df_drop = df.dropna(axis=0)\n",
    "    print(code)\n",
    "    first_day = df.Date.iloc[0].date()\n",
    "\n",
    "    first_day_drop = df_drop.Date.iloc[0].date()\n",
    "    days_drop =  first_day_drop -first_day \n",
    "    prices_droped_day[code] = [first_day, first_day_drop, days_drop.days]\n",
    "    #print(f'first date before drop: {first_day:%Y-%m-%d}')\n",
    "    #print(f'first date after drop:  {first_day_drop:%Y-%m-%d}')\n",
    "    #print(f'droped days:  {days_drop.days},                 TAKE care NOT working days')"
   ]
  },
  {
   "cell_type": "code",
   "execution_count": null,
   "metadata": {},
   "outputs": [],
   "source": [
    "pd.DataFrame(prices_droped_day).T"
   ]
  },
  {
   "cell_type": "code",
   "execution_count": null,
   "metadata": {},
   "outputs": [],
   "source": [
    "del financial"
   ]
  },
  {
   "cell_type": "markdown",
   "metadata": {},
   "source": [
    "## Options"
   ]
  },
  {
   "cell_type": "code",
   "execution_count": null,
   "metadata": {},
   "outputs": [],
   "source": [
    "options = pd.read_csv('data/train_files/options.csv', parse_dates=[1])"
   ]
  },
  {
   "cell_type": "code",
   "execution_count": null,
   "metadata": {},
   "outputs": [],
   "source": [
    "options.head(2)"
   ]
  },
  {
   "cell_type": "code",
   "execution_count": null,
   "metadata": {},
   "outputs": [],
   "source": [
    "options.columns"
   ]
  },
  {
   "cell_type": "markdown",
   "metadata": {},
   "source": [
    "- Date"
   ]
  },
  {
   "cell_type": "code",
   "execution_count": null,
   "metadata": {},
   "outputs": [],
   "source": [
    "date_range(options)\n"
   ]
  },
  {
   "cell_type": "markdown",
   "metadata": {},
   "source": [
    "- codes : more than securites code"
   ]
  },
  {
   "cell_type": "code",
   "execution_count": null,
   "metadata": {},
   "outputs": [],
   "source": [
    "options.OptionsCode.nunique()"
   ]
  },
  {
   "cell_type": "code",
   "execution_count": null,
   "metadata": {},
   "outputs": [],
   "source": [
    "options.OptionsCode.describe()"
   ]
  },
  {
   "cell_type": "code",
   "execution_count": null,
   "metadata": {},
   "outputs": [],
   "source": [
    "del options"
   ]
  },
  {
   "cell_type": "markdown",
   "metadata": {},
   "source": [
    "## Submission"
   ]
  },
  {
   "cell_type": "code",
   "execution_count": null,
   "metadata": {},
   "outputs": [],
   "source": [
    "submission = pd.read_csv('data/example_test_files/sample_submission.csv', date_parser=[0])\n",
    "submission.shape"
   ]
  },
  {
   "cell_type": "code",
   "execution_count": null,
   "metadata": {},
   "outputs": [],
   "source": [
    "submission.nunique()"
   ]
  },
  {
   "cell_type": "code",
   "execution_count": null,
   "metadata": {},
   "outputs": [],
   "source": [
    "submission.head()"
   ]
  },
  {
   "cell_type": "markdown",
   "metadata": {},
   "source": [
    "Target: calculate the rank for each security code for the next 56 working days"
   ]
  },
  {
   "cell_type": "code",
   "execution_count": null,
   "metadata": {},
   "outputs": [],
   "source": [
    "del submission"
   ]
  },
  {
   "cell_type": "markdown",
   "metadata": {},
   "source": [
    "## Stock prices"
   ]
  },
  {
   "cell_type": "code",
   "execution_count": null,
   "metadata": {},
   "outputs": [],
   "source": [
    "prices = pd.read_csv('data/train_files/stock_prices.csv', parse_dates=[1])\n",
    "prices.shape"
   ]
  },
  {
   "cell_type": "code",
   "execution_count": null,
   "metadata": {},
   "outputs": [],
   "source": [
    "prices.head(2)"
   ]
  },
  {
   "cell_type": "code",
   "execution_count": null,
   "metadata": {},
   "outputs": [],
   "source": []
  },
  {
   "cell_type": "markdown",
   "metadata": {},
   "source": [
    "### - date"
   ]
  },
  {
   "cell_type": "code",
   "execution_count": null,
   "metadata": {},
   "outputs": [],
   "source": [
    "date = prices.Date\n",
    "date_desc = date.describe(datetime_is_numeric=True)\n",
    "date_min = date_desc.loc['min']\n",
    "date_max = date_desc.loc['max']\n",
    "print('Data from {:%Y-%m-%d} to {:%Y-%m-%d}'\n",
    "        .format(date_min, date_max))\n",
    "print('Data observations {} '.format(\n",
    "                 date.nunique()))"
   ]
  },
  {
   "cell_type": "markdown",
   "metadata": {},
   "source": [
    "from https://www.timeanddate.com/date/workdays.html?d1=4&m1=1&y1=2017&d2=3&m2=12&y2=2021&ti=on&\n",
    "\n",
    "1211 days \n",
    "\n",
    "1795 calendar days – 584 days skipped:\n",
    "Excluded 256 Saturdays\n",
    "Excluded 256 Sundays\n",
    "Excluded 72 holidays\n",
    "\n",
    "excluded 2010-10-1 because system failer in jpx\n",
    "\n",
    "remain 1210 days  and 8 left\n",
    "- Which one are missing and why?"
   ]
  },
  {
   "cell_type": "markdown",
   "metadata": {},
   "source": [
    "1202 == 1794 . we miss data, where?\n",
    "- find missing data"
   ]
  },
  {
   "cell_type": "markdown",
   "metadata": {},
   "source": [
    "- generate working days"
   ]
  },
  {
   "cell_type": "code",
   "execution_count": null,
   "metadata": {},
   "outputs": [],
   "source": [
    "# test handel with timeseries in dataframe\n",
    "t = np.arange(date_min, date_max, timedelta(days=1)).astype(datetime)\n",
    "\n",
    "#t_work = [day for day in t if asia.Japan().is_working_day(day)]\n",
    "date_df = pd.DataFrame(date)\n",
    "#time_df = pd.to_datetime(t_work)\n",
    "type(pd.Timestamp(date.unique()[0]))"
   ]
  },
  {
   "cell_type": "markdown",
   "metadata": {},
   "source": [
    "- observations"
   ]
  },
  {
   "cell_type": "code",
   "execution_count": null,
   "metadata": {},
   "outputs": [],
   "source": [
    "prices.info()"
   ]
  },
  {
   "cell_type": "code",
   "execution_count": null,
   "metadata": {},
   "outputs": [],
   "source": [
    "prices.head(2)"
   ]
  },
  {
   "cell_type": "code",
   "execution_count": null,
   "metadata": {},
   "outputs": [],
   "source": [
    "prices.tail(2)"
   ]
  },
  {
   "cell_type": "markdown",
   "metadata": {},
   "source": [
    "- amount of trades each day"
   ]
  },
  {
   "cell_type": "code",
   "execution_count": null,
   "metadata": {},
   "outputs": [],
   "source": [
    "count = pd.DataFrame(prices.Date.value_counts().reset_index())\n",
    "count.head()\n",
    "plt.figure(figsize = (20,5))\n",
    "sns.lineplot(data = count, x= 'index', y ='Date')\n"
   ]
  },
  {
   "cell_type": "markdown",
   "metadata": {},
   "source": [
    "are stocks added during the time? \n",
    "compare the stocks in 1 feb 2017 with the stocks in 1 Feb 2121 "
   ]
  },
  {
   "cell_type": "code",
   "execution_count": null,
   "metadata": {},
   "outputs": [],
   "source": [
    "# stock for each days\n",
    "feb2017 = prices[prices['Date']=='2017-2-1']\n",
    "feb2021 = prices[prices['Date']=='2021-2-1']\n",
    "\n",
    "print('SecuritiesCode for Feb 2017 : {} \\nSecuritiesCode for Feb 2021 : {}'. format(\n",
    "                                    feb2017.SecuritiesCode.nunique(), feb2021.SecuritiesCode.nunique()\n",
    "))"
   ]
  },
  {
   "cell_type": "code",
   "execution_count": null,
   "metadata": {},
   "outputs": [],
   "source": [
    "# new Securites Code in 2021\n",
    "codes_2017 = feb2017.SecuritiesCode.to_list()\n",
    "new_codes = feb2021[~feb2021['SecuritiesCode'].isin(codes_2017)]\n",
    "old_codes = feb2021[~feb2021['SecuritiesCode'].isin(new_codes.SecuritiesCode.to_list())]\n",
    "print(new_codes.SecuritiesCode.count())\n",
    "print(old_codes.SecuritiesCode.count())"
   ]
  },
  {
   "cell_type": "code",
   "execution_count": null,
   "metadata": {},
   "outputs": [],
   "source": [
    "def plot_stock(df, Code, feature='Target'):\n",
    "    df = df.query('SecuritiesCode==@Code')\n",
    "    #plt.figure(figsize=(20,5))\n",
    "    sns.lineplot(data=df, y=feature, x='Date', label=code)"
   ]
  },
  {
   "cell_type": "code",
   "execution_count": null,
   "metadata": {},
   "outputs": [],
   "source": [
    "fig, ax = plt.subplots(figsize=(20,5))\n",
    "for code in [1375, 1301]:\n",
    "    plot_stock(prices, code)\n",
    "\n",
    "    ax.xaxis.set_major_formatter(DateFormatter(\"%m-%Y\"))"
   ]
  },
  {
   "cell_type": "markdown",
   "metadata": {},
   "source": [
    "there are 135 Securities codes not listed in 2017. \n",
    "may be they were launch later. "
   ]
  },
  {
   "cell_type": "markdown",
   "metadata": {},
   "source": [
    "### nan values"
   ]
  },
  {
   "cell_type": "code",
   "execution_count": null,
   "metadata": {},
   "outputs": [],
   "source": [
    "a = prices[(prices['Date']=='2021-12-03')]\n",
    "a.count()"
   ]
  },
  {
   "cell_type": "code",
   "execution_count": null,
   "metadata": {},
   "outputs": [],
   "source": [
    "a.query('Open != Open')"
   ]
  },
  {
   "cell_type": "markdown",
   "metadata": {},
   "source": [
    "a day before"
   ]
  },
  {
   "cell_type": "code",
   "execution_count": null,
   "metadata": {},
   "outputs": [],
   "source": [
    "b = prices[(prices['Date']=='2021-12-02')]\n",
    "b.query('Open != Open')"
   ]
  },
  {
   "cell_type": "markdown",
   "metadata": {},
   "source": [
    "and before"
   ]
  },
  {
   "cell_type": "code",
   "execution_count": null,
   "metadata": {},
   "outputs": [],
   "source": [
    "c = prices[(prices['Date']=='2021-12-01')]\n",
    "c.query('Open != Open')"
   ]
  },
  {
   "cell_type": "code",
   "execution_count": null,
   "metadata": {},
   "outputs": [],
   "source": [
    "d = prices[(prices['Date']=='2021-12-01')]\n",
    "c.query('Open != Open')"
   ]
  },
  {
   "cell_type": "code",
   "execution_count": null,
   "metadata": {},
   "outputs": [],
   "source": [
    "\n",
    "plt.figure(figsize=(25,10))\n",
    "sns.lineplot(data = prices.query('SecuritiesCode == 2761 and Date > \"2021-11-01\"' ), x='Date', y= 'Open')\n",
    "\n",
    "#sns.lineplot(data = prices.query('SecuritiesCode == 9994 and Date > \"2021-11-01\"' ), x='Date', y= 'Open')"
   ]
  },
  {
   "cell_type": "code",
   "execution_count": null,
   "metadata": {},
   "outputs": [],
   "source": [
    "plt.figure(figsize=(16,10))\n",
    "sns.lineplot(data = prices.query('SecuritiesCode == 3540'), x='Date', y= 'Open')\n",
    "sns.lineplot(data = prices.query('SecuritiesCode == 9994'), x='Date', y= 'Open')\n"
   ]
  },
  {
   "cell_type": "code",
   "execution_count": null,
   "metadata": {},
   "outputs": [],
   "source": [
    "prices.isnull().sum().sort_values(ascending=False)"
   ]
  },
  {
   "cell_type": "code",
   "execution_count": null,
   "metadata": {},
   "outputs": [],
   "source": [
    "import matplotlib.pyplot as plt\n",
    "import seaborn as sns\n",
    "\n",
    "plt.figure(figsize=(12, 8))\n",
    "sns.heatmap(prices.isna(), cbar=False, cmap=\"plasma\",yticklabels=False)\n",
    "plt.show()"
   ]
  },
  {
   "cell_type": "code",
   "execution_count": null,
   "metadata": {},
   "outputs": [],
   "source": [
    "prices_nan = prices.query('Open != Open')\n",
    "prices_nan.shape"
   ]
  },
  {
   "cell_type": "code",
   "execution_count": null,
   "metadata": {},
   "outputs": [],
   "source": [
    "prices_nan.Date.value_counts()"
   ]
  },
  {
   "cell_type": "code",
   "execution_count": null,
   "metadata": {},
   "outputs": [],
   "source": [
    "prices_nan[(prices_nan['Date']!='2020-10-01')].Date.value_counts().sort_values(ascending=True)"
   ]
  },
  {
   "cell_type": "code",
   "execution_count": null,
   "metadata": {},
   "outputs": [],
   "source": [
    "plt.figure(figsize=(12, 8))\n",
    "sns.heatmap(prices_nan.isna(), cbar=False, cmap=\"plasma\",yticklabels=False)\n",
    "plt.show()"
   ]
  },
  {
   "cell_type": "markdown",
   "metadata": {},
   "source": [
    "- forward fill for 1-10-2020\n",
    "- / consecutive missing values of trades can be removed. the stock was taken out\n",
    "- forward fill for missing values"
   ]
  },
  {
   "cell_type": "code",
   "execution_count": null,
   "metadata": {},
   "outputs": [],
   "source": [
    "prices_wo_nan = prices.query('Date != \"2020-10-01\" and Open == Open')"
   ]
  },
  {
   "cell_type": "code",
   "execution_count": null,
   "metadata": {},
   "outputs": [],
   "source": [
    "prices_wo_nan.isnull().sum().sort_values(ascending=False)"
   ]
  },
  {
   "cell_type": "markdown",
   "metadata": {},
   "source": [
    "### SupervisionFlag\n",
    "Flag of Securities Under Supervision & Securities to Be Delisted\n",
    "https://www.jpx.co.jp/english/listing/market-alerts/supervision/00-archives/index.html )\n",
    "\n",
    "\n",
    "If a stock is designated as Securities Under Supervision or Securities to Be Delisted during the private period, it will be excluded from investment after the date of designation"
   ]
  },
  {
   "cell_type": "code",
   "execution_count": null,
   "metadata": {},
   "outputs": [],
   "source": [
    "prices.head()"
   ]
  },
  {
   "cell_type": "code",
   "execution_count": null,
   "metadata": {},
   "outputs": [],
   "source": [
    "prices.SupervisionFlag.value_counts()"
   ]
  },
  {
   "cell_type": "code",
   "execution_count": null,
   "metadata": {},
   "outputs": [],
   "source": [
    "from functions import plot_stock\n",
    "w_flag = prices[(prices['SupervisionFlag']==True)]\n",
    "w_flag.shape\n"
   ]
  },
  {
   "cell_type": "code",
   "execution_count": null,
   "metadata": {},
   "outputs": [],
   "source": [
    "w_flag.head()"
   ]
  },
  {
   "cell_type": "code",
   "execution_count": null,
   "metadata": {},
   "outputs": [],
   "source": [
    "print(f'Securities codes with flag: {w_flag.SecuritiesCode.nunique()} ')\n",
    "print(f'Securities codes: {w_flag.SecuritiesCode.unique()} : ')"
   ]
  },
  {
   "cell_type": "code",
   "execution_count": null,
   "metadata": {},
   "outputs": [],
   "source": [
    "codes = w_flag.SecuritiesCode.unique()\n",
    "\n",
    "for code in codes[:3]:\n",
    "    plot_stock(prices, code)\n",
    "    plot_stock(w_flag, code)\n",
    "    plt.show()"
   ]
  },
  {
   "cell_type": "code",
   "execution_count": null,
   "metadata": {},
   "outputs": [],
   "source": [
    "date = w_flag.Date\n",
    "date_desc = date.describe(datetime_is_numeric=True)\n",
    "date_min = date_desc.loc['min']\n",
    "date_max = date_desc.loc['max']\n",
    "print('Data from {:%Y-%m-%d} to {:%Y-%m-%d}'\n",
    "        .format(date_min, date_max))\n",
    "print('Data observations {} '.format(\n",
    "                 date.nunique()))"
   ]
  },
  {
   "cell_type": "markdown",
   "metadata": {},
   "source": [
    "the flags are set for the whole period of time"
   ]
  },
  {
   "cell_type": "markdown",
   "metadata": {},
   "source": [
    "- how long has a stock a flag?"
   ]
  },
  {
   "cell_type": "code",
   "execution_count": null,
   "metadata": {},
   "outputs": [],
   "source": [
    "flag_day = {}\n",
    "for code in codes: \n",
    "    current = w_flag.query('SecuritiesCode == @ code')\n",
    "    date = current.Date\n",
    "    date_desc = date.describe(datetime_is_numeric=True)\n",
    "    date_min = date_desc.loc['min']\n",
    "    date_max = date_desc.loc['max']\n",
    "    flag_day[code] = [date_min, date_max, date.nunique()]\n"
   ]
  },
  {
   "cell_type": "code",
   "execution_count": null,
   "metadata": {},
   "outputs": [],
   "source": [
    "flag_stats = pd.DataFrame(flag_day).T\n",
    "flag_stats.columns = ['start_flag', 'end_flag', 'days_w_flag']\n",
    "flag_stats"
   ]
  },
  {
   "cell_type": "markdown",
   "metadata": {},
   "source": [
    "encode flag: "
   ]
  },
  {
   "cell_type": "code",
   "execution_count": null,
   "metadata": {},
   "outputs": [],
   "source": []
  },
  {
   "cell_type": "code",
   "execution_count": null,
   "metadata": {},
   "outputs": [],
   "source": [
    "from sklearn.preprocessing import LabelEncoder\n",
    "enc = LabelEncoder()\n",
    "enc.fit(prices[\"SupervisionFlag\"])\n",
    "prices[\"SupervisionFlag\"]=enc.transform(prices[\"SupervisionFlag\"])"
   ]
  },
  {
   "cell_type": "code",
   "execution_count": null,
   "metadata": {},
   "outputs": [],
   "source": [
    "prices.SupervisionFlag.value_counts()"
   ]
  },
  {
   "cell_type": "markdown",
   "metadata": {},
   "source": [
    "### Volume"
   ]
  },
  {
   "cell_type": "code",
   "execution_count": null,
   "metadata": {},
   "outputs": [],
   "source": [
    "sns.histplot(data=prices, x = 'Volume')"
   ]
  },
  {
   "cell_type": "code",
   "execution_count": null,
   "metadata": {},
   "outputs": [],
   "source": [
    "missingValues(prices.Volume)"
   ]
  },
  {
   "cell_type": "code",
   "execution_count": null,
   "metadata": {},
   "outputs": [],
   "source": [
    "prices['Vol_Close'] = prices['Volume'] * prices['Close']"
   ]
  },
  {
   "cell_type": "code",
   "execution_count": null,
   "metadata": {},
   "outputs": [],
   "source": [
    "volumen_stock = prices.groupby('SecuritiesCode').sum()"
   ]
  },
  {
   "cell_type": "code",
   "execution_count": null,
   "metadata": {},
   "outputs": [],
   "source": [
    "top10 = volumen_stock.sort_values('Vol_Close', ascending=False).reset_index().head(10)"
   ]
  },
  {
   "cell_type": "code",
   "execution_count": null,
   "metadata": {},
   "outputs": [],
   "source": [
    "top10_codes = top10.SecuritiesCode"
   ]
  },
  {
   "cell_type": "code",
   "execution_count": null,
   "metadata": {},
   "outputs": [],
   "source": [
    "stock_list = pd.read_csv('data/stock_list.csv', parse_dates=['EffectiveDate', 'TradeDate'])\n",
    "stock_list_top10 = stock_list[stock_list['SecuritiesCode'].isin(top10_codes)]\n",
    "#del stock_list\n",
    "stock_list_top10"
   ]
  },
  {
   "cell_type": "code",
   "execution_count": null,
   "metadata": {},
   "outputs": [],
   "source": []
  },
  {
   "cell_type": "code",
   "execution_count": null,
   "metadata": {},
   "outputs": [],
   "source": [
    "stock_list_top10 = stock_list[stock_list['SecuritiesCode'].isin(top10_codes)]\n",
    "stock_list_top10"
   ]
  },
  {
   "cell_type": "code",
   "execution_count": null,
   "metadata": {},
   "outputs": [],
   "source": [
    "stock_list_top10"
   ]
  },
  {
   "cell_type": "markdown",
   "metadata": {},
   "source": [
    "### Target\n",
    "Change ratio of adjusted closing price between t+2 and t+1 where t+0 is TradeDate <br>\n",
    "r(k,t) = C(k, t+2) - C(k, t+1) / C(k, t+1)\n",
    "\n",
    "- adjusted stock price is used"
   ]
  },
  {
   "cell_type": "code",
   "execution_count": null,
   "metadata": {},
   "outputs": [],
   "source": [
    "sns.histplot(prices.Target, bins=800, )\n",
    "plt.xlim([-0.4, 0.4])"
   ]
  },
  {
   "cell_type": "markdown",
   "metadata": {},
   "source": [
    "target for a stock"
   ]
  },
  {
   "cell_type": "code",
   "execution_count": null,
   "metadata": {},
   "outputs": [],
   "source": [
    "def plot_target(df, Code):\n",
    "    single_stock = df.query('SecuritiesCode==@Code')\n",
    "    plt.figure(figsize=(20,5))\n",
    "    sns.lineplot(data=single_stock, y='Close', x='Date')\n",
    "    ax2 = plt.twinx()\n",
    "    sns.lineplot(data=single_stock, y='Target', x='Date', color='red')  "
   ]
  },
  {
   "cell_type": "code",
   "execution_count": null,
   "metadata": {},
   "outputs": [],
   "source": [
    "for i in [8876, 6630, 2761, 2753]:\n",
    "    plot_target(prices, i)"
   ]
  },
  {
   "cell_type": "markdown",
   "metadata": {},
   "source": []
  },
  {
   "cell_type": "code",
   "execution_count": null,
   "metadata": {},
   "outputs": [],
   "source": []
  },
  {
   "cell_type": "markdown",
   "metadata": {},
   "source": [
    "#### - Rank\n",
    "for each day"
   ]
  },
  {
   "cell_type": "code",
   "execution_count": null,
   "metadata": {},
   "outputs": [],
   "source": [
    "prices.Date.nunique()"
   ]
  },
  {
   "cell_type": "code",
   "execution_count": null,
   "metadata": {},
   "outputs": [],
   "source": [
    "prices_rank = pd.DataFrame(columns = prices.columns)"
   ]
  },
  {
   "cell_type": "code",
   "execution_count": null,
   "metadata": {},
   "outputs": [],
   "source": [
    "# only one day\n",
    "def calculate_rank(df, day):\n",
    "    df = prices[(prices['Date']== day)]\n",
    "    df.loc[:, 'Rank'] = df['Target'].rank(ascending=False, method='first') - 1\n",
    "    \n",
    "    return df\n",
    "\n",
    "\n",
    "\n",
    "df = calculate_rank(prices, prices.Date.unique()[0])\n",
    "one_day_rank = pd.concat([prices_rank, df], axis=0)\n",
    "\n"
   ]
  },
  {
   "cell_type": "code",
   "execution_count": null,
   "metadata": {},
   "outputs": [],
   "source": [
    "def daily_spread_return(df, day):\n",
    "    # calculate rank \n",
    "    df = prices[(prices['Date']== day)]\n",
    "    df.loc[:, 'Rank'] = df['Target'].rank(ascending=False, method='first') - 1\n",
    "\n",
    "    # calculate weights and weighted_target\n",
    "    weights = np.linspace(start = 2, stop=1, num=200)\n",
    "\n",
    "    # sum_up\n",
    "    top200 = df.sort_values('Rank').iloc[:200,:]\n",
    "    top200['Weights'] = weights\n",
    "    top200['weigh_Target'] = top200['Target'] * top200['Weights']\n",
    "    sum_up = top200['weigh_Target'].sum()/top200['Weights'].mean()\n",
    "\n",
    "    # sum_down\n",
    "    bottom200 = one_day_rank.sort_values('Rank').iloc[-200:,:].sort_values('Rank', ascending=False)\n",
    "    bottom200['Weights'] = np.linspace(start = 2, stop=1, num=200)\n",
    "    bottom200['weigh_Target'] = bottom200['Target'] * bottom200['Weights']\n",
    "    sum_down = bottom200['weigh_Target'].sum()/bottom200['Weights'].mean()\n",
    "\n",
    "    # return daily_spread return\n",
    "    return  df.SecuritiesCode.nunique(), sum_up - sum_down"
   ]
  },
  {
   "cell_type": "code",
   "execution_count": null,
   "metadata": {},
   "outputs": [],
   "source": [
    "stocks_per_day = {}\n",
    "\n",
    "def calculate_rank(df, day):\n",
    "    df = prices[(prices['Date']== day)]\n",
    "    df.loc[:, 'Rank'] = df['Target'].rank(ascending=False, method='first') - 1\n",
    "    \n",
    "    return df\n",
    "\n",
    "prices_rank = pd.DataFrame(columns = prices.columns)\n",
    "\n",
    "for day in tqdm(prices.Date.unique()):\n",
    "    stocks, dsr = daily_spread_return(prices, day)\n",
    "    stocks_per_day[day] = [stocks, dsr]"
   ]
  },
  {
   "cell_type": "code",
   "execution_count": null,
   "metadata": {},
   "outputs": [],
   "source": [
    "stocks_day = pd.DataFrame(stocks_per_day).T\n",
    "stocks_day.columns = ['SecuritiesCode_s', 'daily_spread_return']\n",
    "stocks_day"
   ]
  },
  {
   "cell_type": "code",
   "execution_count": null,
   "metadata": {},
   "outputs": [],
   "source": [
    "stocks_day.nunique()"
   ]
  },
  {
   "cell_type": "code",
   "execution_count": null,
   "metadata": {},
   "outputs": [],
   "source": []
  },
  {
   "cell_type": "markdown",
   "metadata": {},
   "source": [
    "- best and worst ranks are weighted with 1-2  [link](https://www.kaggle.com/code/smeitoma/jpx-competition-metric-definition)"
   ]
  },
  {
   "cell_type": "code",
   "execution_count": null,
   "metadata": {},
   "outputs": [],
   "source": []
  },
  {
   "cell_type": "markdown",
   "metadata": {},
   "source": [
    "## Trades"
   ]
  },
  {
   "cell_type": "code",
   "execution_count": null,
   "metadata": {},
   "outputs": [],
   "source": [
    "trades = pd.read_csv('data/train_files/trades.csv')\n",
    "trades.shape\n",
    "trades.head(2)"
   ]
  },
  {
   "cell_type": "code",
   "execution_count": null,
   "metadata": {},
   "outputs": [],
   "source": [
    "trades.shape\n"
   ]
  },
  {
   "cell_type": "markdown",
   "metadata": {},
   "source": [
    "only  nan values?"
   ]
  },
  {
   "cell_type": "code",
   "execution_count": null,
   "metadata": {},
   "outputs": [],
   "source": [
    "del trades"
   ]
  },
  {
   "cell_type": "markdown",
   "metadata": {},
   "source": [
    "# Features engineering"
   ]
  },
  {
   "cell_type": "markdown",
   "metadata": {},
   "source": [
    "## 1. fill nan values "
   ]
  },
  {
   "cell_type": "markdown",
   "metadata": {},
   "source": [
    "## 2. Adjusted prices\n",
    "to calculate theoretical price/volume when split/reverse-split happens (NOT including dividend/allotment of shares/)"
   ]
  },
  {
   "cell_type": "code",
   "execution_count": null,
   "metadata": {},
   "outputs": [],
   "source": [
    "prices.AdjustmentFactor.unique()"
   ]
  },
  {
   "cell_type": "markdown",
   "metadata": {},
   "source": [
    "- amount of stocks for each adjustment factor"
   ]
  },
  {
   "cell_type": "code",
   "execution_count": null,
   "metadata": {},
   "outputs": [],
   "source": [
    "\n",
    "for i in sorted(prices.AdjustmentFactor.unique()):\n",
    "    print( 'adjustment factor = {}   \\t:  {} trades'.format(\n",
    "        round(i,2), prices[(prices['AdjustmentFactor']==i)].Date.count()\n",
    "    ))\n",
    "   "
   ]
  },
  {
   "cell_type": "code",
   "execution_count": null,
   "metadata": {},
   "outputs": [],
   "source": [
    "def adjust_price(df):\n",
    "    # cumulative adjustment factor considering the day shift\n",
    "    df.sort_values('Date')\n",
    "    df.loc[:,'CAF'] = df['AdjustmentFactor'].cumprod().shift(1)\n",
    "    # fill nan values\n",
    "    df.CAF.fillna(1, inplace=True)\n",
    "    # prices to be adjusted\n",
    "    prices =[ 'Open', 'High', 'Low', 'Close']\n",
    "\n",
    "    for x in prices:\n",
    "        df.loc[:,'ad_' + str(x)]  = df[x] / df['CAF']\n",
    "    \n",
    "    # adjust volume\n",
    "    df['ad_Volume'] = df['Volume'] * df['CAF']\n",
    "    df.drop('CAF', axis=1, inplace=True)\n",
    "\n",
    "     # adjust target\n",
    "    df.sort_values('Date')\n",
    "    df['ad_Close_1'] = df['ad_Close'].shift(-1)\n",
    "    df['ad_Close_2'] = df['ad_Close'].shift(-2)\n",
    "    df['ad_Target'] = (df['ad_Close_2']-df['ad_Close_1'])/df['ad_Close_1']\n",
    "    df.drop(['ad_Close_1', 'ad_Close_2'], axis=1, inplace=True)\n",
    "\n",
    "    return df"
   ]
  },
  {
   "cell_type": "code",
   "execution_count": null,
   "metadata": {},
   "outputs": [],
   "source": [
    "# create an empty new DataFrame\n",
    "adjusted_data = pd.DataFrame(columns = prices.columns)\n",
    "\n",
    "for i in tqdm([8876, 6630, 7453, 7638]): #tqdm(prices.SecuritiesCode.unique()):\n",
    "    df = prices.query('SecuritiesCode ==@i')\n",
    "    adjusted_df = adjust_price(df)\n",
    "    adjusted_data = pd.concat([adjusted_data, adjusted_df ], axis=0)"
   ]
  },
  {
   "cell_type": "code",
   "execution_count": null,
   "metadata": {},
   "outputs": [],
   "source": [
    "def plot_stock(df, Code):\n",
    "    single_stock = df.query('SecuritiesCode==@Code')\n",
    "    plt.figure(figsize=(20,5))\n",
    "    sns.lineplot(data=single_stock, y='Close', x='Date')\n",
    "    ax2 = plt.twinx()\n",
    "    sns.lineplot(data=single_stock, y='ad_Close', x='Date', color='red')\n"
   ]
  },
  {
   "cell_type": "code",
   "execution_count": null,
   "metadata": {},
   "outputs": [],
   "source": [
    "for i in [8876, 6630, 7453, 7638]:\n",
    "    plot_stock(adjusted_data, i)"
   ]
  },
  {
   "cell_type": "markdown",
   "metadata": {},
   "source": [
    "data/train_files/stock_prices_ad.csvthe adjusted value was calculated with process_adjusted_price.py and save in : "
   ]
  },
  {
   "cell_type": "code",
   "execution_count": null,
   "metadata": {},
   "outputs": [],
   "source": [
    "adjusted_data = pd.read_csv('data/train_files/stock_prices_ad.csv', parse_dates=[2], index_col=0)\n",
    "adjusted_data.head(2)"
   ]
  },
  {
   "cell_type": "code",
   "execution_count": null,
   "metadata": {},
   "outputs": [],
   "source": [
    "def plot_stock(df, Code):\n",
    "    df = df.query('SecuritiesCode==@Code')\n",
    "    plt.figure(figsize=(20,5))\n",
    "    sns.lineplot(data=df, y='Target', x='Date')\n",
    "    sns.lineplot(data=df, y='ad_Target', x='Date', color = 'red')\n",
    "    ax2 = plt.twinx()\n",
    "    sns.lineplot(data=df, y='Close', x='Date')\n",
    "\n"
   ]
  },
  {
   "cell_type": "markdown",
   "metadata": {},
   "source": [
    "## 5. Close, Open, High and Low price lag 1\n"
   ]
  },
  {
   "cell_type": "code",
   "execution_count": null,
   "metadata": {},
   "outputs": [],
   "source": [
    "df.columns"
   ]
  },
  {
   "cell_type": "code",
   "execution_count": null,
   "metadata": {},
   "outputs": [],
   "source": [
    "\n",
    "\n",
    "features = ['ad_Close', 'ad_Open', 'ad_High' , 'ad_Low', 'ad_Volume']\n",
    "new_features = [x + \"_lag1\" for x in features]\n",
    "\n",
    "feat_data = pd.DataFrame(columns = adjusted_data.columns)\n",
    "\n",
    "def feature_lag(df, features, lag=1):\n",
    "    for feat in features:\n",
    "        name = feat + \"_lag\" +str(lag)\n",
    "        df[name] = df[str(feat)].shift(lag)\n",
    "        #new_features.append(name)\n",
    "    return df\n",
    "\n",
    "\n",
    "df = adjusted_data.query('SecuritiesCode ==@i')\n",
    "df = feature_lag(df, features)\n",
    "\n"
   ]
  },
  {
   "cell_type": "code",
   "execution_count": null,
   "metadata": {},
   "outputs": [],
   "source": [
    "df[new_features + features].head()"
   ]
  },
  {
   "cell_type": "markdown",
   "metadata": {},
   "source": [
    "## 3. RSI"
   ]
  },
  {
   "cell_type": "code",
   "execution_count": null,
   "metadata": {},
   "outputs": [],
   "source": [
    "def rsi (df_serie,periods = 14, ema = True): \n",
    "    \"\"\"Relative Strength Index\n",
    "        RSI = 100–(100/1 + RS) ; RS = Av Gain / Av loss\n",
    "    Args:\n",
    "        df_serie (_type_): series of ad_Close\n",
    "        periods (int, optional): 5,7,9,14,21,30 Defaults to 14.\n",
    "        ema (bool, optional): _description_. Defaults to True.\n",
    "\n",
    "    Returns:\n",
    "        pd.Series: _description_\n",
    "    \"\"\"\n",
    "        \n",
    "    close_delta = df_serie.diff() # .dropna()\n",
    "\n",
    "    # Make two series: one for lower closes and one for higher closes\n",
    "    up = close_delta.clip(lower=0)\n",
    "    down = -1 * close_delta.clip(upper=0)\n",
    "\n",
    "    if ema == True: # exponential moving average\n",
    "        ma_up = up.ewm(com= periods - 1, adjust=True, min_periods = periods).mean()\n",
    "        ma_down = down.ewm(com = periods - 1, adjust=True, min_periods = periods).mean()\n",
    "        \n",
    "    else: # using moving average\n",
    "        ma_up = up.rolling(window = periods, adjust=False).mean()\n",
    "        ma_down = down.ewm(window = periods, adjust=False).mean()\n",
    "        \n",
    "    rs = ma_up / ma_down\n",
    "    rsi = 100 - (100 / (1+rs))\n",
    "\n",
    "    return rsi"
   ]
  },
  {
   "cell_type": "code",
   "execution_count": null,
   "metadata": {},
   "outputs": [],
   "source": [
    "from functions import df_security_code\n",
    "\n",
    "df = df_security_code(adjusted_data,8194 )\n",
    "df['RSI'] = rsi(df['ad_Close'])"
   ]
  },
  {
   "cell_type": "code",
   "execution_count": null,
   "metadata": {},
   "outputs": [],
   "source": [
    "from functions import plot_stock\n",
    "\n",
    "plt.figure(figsize=(20,5))\n",
    "plot_stock(df, 8194 ,'RSI')\n",
    "ax2 = plt.twinx()\n",
    "plot_stock(df, 8194 ,'ad_Close', color='red')"
   ]
  },
  {
   "cell_type": "markdown",
   "metadata": {},
   "source": [
    "## 4. Return"
   ]
  },
  {
   "cell_type": "code",
   "execution_count": null,
   "metadata": {},
   "outputs": [],
   "source": [
    "df['Return'] = df['ad_Close'].pct_change()\n",
    "# adjusted_data['Return_m'] = adjusted_data['ad_Close'].resample('M').ffill().pct_change()\n"
   ]
  },
  {
   "cell_type": "code",
   "execution_count": null,
   "metadata": {},
   "outputs": [],
   "source": [
    "plot_stock(df, 8194, 'Return')"
   ]
  },
  {
   "cell_type": "code",
   "execution_count": null,
   "metadata": {},
   "outputs": [],
   "source": [
    "# cumulative\n",
    "df['cum_Return'] = (df['Return'] + 1).cumprod()\n",
    "plot_stock(df, 8194, 'cum_Return')"
   ]
  },
  {
   "cell_type": "markdown",
   "metadata": {},
   "source": [
    "## 5. Simple moving average\n",
    "\n",
    "\n",
    "\n"
   ]
  },
  {
   "cell_type": "code",
   "execution_count": null,
   "metadata": {},
   "outputs": [],
   "source": [
    "# ussualy period 10 or 5\n",
    "# setting for all prices\n",
    "\n",
    "\n",
    "\n",
    "features = ['ad_Close', 'ad_Open', 'ad_High' , 'ad_Low', 'ad_Volume']\n",
    "new_features = [x + \"_sma10\" for x in features]\n",
    "\n",
    "feat_data = pd.DataFrame(columns = adjusted_data.columns)\n",
    "\n",
    "def SMA(df, features, period=10):\n",
    "    for feat in features:\n",
    "        name = feat + \"_sma\" + str(period)\n",
    "        df[name] = df[feat].rolling(window=period).mean()  # only for close or for all values?\n",
    "        #new_features.append(name)\n",
    "    return df\n",
    "\n",
    "\n",
    "df = adjusted_data.query('SecuritiesCode == 8194')\n",
    "df = SMA(df, features)"
   ]
  },
  {
   "cell_type": "code",
   "execution_count": null,
   "metadata": {},
   "outputs": [],
   "source": [
    "df[features +  new_features].head(20)"
   ]
  },
  {
   "cell_type": "markdown",
   "metadata": {},
   "source": [
    "## 6. MACD : The Moving Average Convergence Divergence \n",
    "\n"
   ]
  },
  {
   "cell_type": "code",
   "execution_count": null,
   "metadata": {},
   "outputs": [],
   "source": [
    "\n",
    "def macd(df):\n",
    "    ema26 = df['ad_Close'].ewm(span=26, adjust=False, min_periods=26).mean()\n",
    "    ema12 = df['ad_Close'].ewm(span=12, adjust=False, min_periods=12).mean()\n",
    "\n",
    "    macd = ema12 - ema26\n",
    "\n",
    "    # Get the 9-Day EMA of the MACD for the Trigger line\n",
    "\n",
    "    macd_ema9 = macd.ewm(span=9, adjust=False, min_periods=9).mean()\n",
    "\n",
    "    # calculate the difference\n",
    "    macd_diff = macd - macd_ema9\n",
    "\n",
    "    df['macd'] = df.index.map(macd)\n",
    "    df['macd_h'] = df.index.map(macd_diff)\n",
    "    df['macd_s'] = df.index.map(macd_ema9)\n",
    "\n",
    "    return df"
   ]
  },
  {
   "cell_type": "code",
   "execution_count": null,
   "metadata": {},
   "outputs": [],
   "source": [
    "df = adjusted_data.query('SecuritiesCode == 8194')\n",
    "df = macd(df)"
   ]
  },
  {
   "cell_type": "code",
   "execution_count": null,
   "metadata": {},
   "outputs": [],
   "source": [
    "df.tail()"
   ]
  },
  {
   "cell_type": "code",
   "execution_count": null,
   "metadata": {},
   "outputs": [],
   "source": [
    "\n",
    "plot_stock(df, 8194, 'ad_Close', color='red')\n",
    "plot_stock(df, 8194, 'macd')"
   ]
  },
  {
   "cell_type": "markdown",
   "metadata": {},
   "source": [
    "## 7. Volatility"
   ]
  },
  {
   "cell_type": "markdown",
   "metadata": {},
   "source": [
    "a value for a period of time. \n",
    "ffill\n"
   ]
  },
  {
   "cell_type": "markdown",
   "metadata": {},
   "source": [
    "## 8. SPI ? SPY current daily return "
   ]
  },
  {
   "cell_type": "markdown",
   "metadata": {},
   "source": [
    "# Preprocessing"
   ]
  },
  {
   "cell_type": "markdown",
   "metadata": {},
   "source": [
    "## 1. Normalization"
   ]
  },
  {
   "cell_type": "code",
   "execution_count": null,
   "metadata": {},
   "outputs": [],
   "source": [
    "import logging\n",
    "logging.basicConfig(level=logging.DEBUG)\n",
    "for i in range(10):\n",
    "    if i %2:logging.debug(f'{i}This will get logged')\n",
    "\n"
   ]
  },
  {
   "cell_type": "code",
   "execution_count": null,
   "metadata": {},
   "outputs": [],
   "source": [
    "# TODO include marktcapitalisation from stock list"
   ]
  }
 ],
 "metadata": {
  "interpreter": {
   "hash": "8e59dc4903522b6bd625aac9b906fbe96a3134871878cc11f65b8580a1e47af4"
  },
  "kernelspec": {
   "display_name": "Python 3.9.4 ('.venv': venv)",
   "language": "python",
   "name": "python3"
  },
  "language_info": {
   "codemirror_mode": {
    "name": "ipython",
    "version": 3
   },
   "file_extension": ".py",
   "mimetype": "text/x-python",
   "name": "python",
   "nbconvert_exporter": "python",
   "pygments_lexer": "ipython3",
   "version": "3.9.4"
  },
  "orig_nbformat": 4
 },
 "nbformat": 4,
 "nbformat_minor": 2
}
