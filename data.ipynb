{
 "cells": [
  {
   "cell_type": "code",
   "execution_count": 1,
   "metadata": {},
   "outputs": [],
   "source": [
    "import pandas as pd\n",
    "import matplotlib.pyplot as plt\n",
    "import seaborn as sns\n",
    "import numpy as np\n",
    "\n",
    "from datetime import datetime, timedelta\n",
    "from tqdm import tqdm\n",
    "\n",
    "from matplotlib.dates import DateFormatter\n",
    "import warnings\n",
    "warnings.filterwarnings(\"ignore\")\n",
    "\n",
    "from functions import print_shape"
   ]
  },
  {
   "cell_type": "markdown",
   "metadata": {},
   "source": [
    "# Data\n",
    "## Financials"
   ]
  },
  {
   "cell_type": "code",
   "execution_count": 2,
   "metadata": {},
   "outputs": [],
   "source": [
    "financial = pd.read_csv('data/train_files/financials.csv', parse_dates=['Date'])"
   ]
  },
  {
   "cell_type": "code",
   "execution_count": null,
   "metadata": {},
   "outputs": [],
   "source": [
    "financial.head(2)"
   ]
  },
  {
   "cell_type": "code",
   "execution_count": null,
   "metadata": {},
   "outputs": [],
   "source": [
    "# 2761\n",
    "financial.query('SecuritiesCode == 2761').tail()"
   ]
  },
  {
   "cell_type": "code",
   "execution_count": null,
   "metadata": {},
   "outputs": [],
   "source": [
    "financial.columns"
   ]
  },
  {
   "cell_type": "markdown",
   "metadata": {},
   "source": [
    "### starting date"
   ]
  },
  {
   "cell_type": "code",
   "execution_count": 3,
   "metadata": {},
   "outputs": [],
   "source": [
    "# drop \n",
    "financial = financial.query('TypeOfDocument != [\"ForecastRevision\", \"ForecastRevision_REIT\"]')"
   ]
  },
  {
   "cell_type": "code",
   "execution_count": null,
   "metadata": {},
   "outputs": [],
   "source": [
    "financial.head()"
   ]
  },
  {
   "cell_type": "code",
   "execution_count": 4,
   "metadata": {},
   "outputs": [],
   "source": [
    "liste =[ 'Date', 'SecuritiesCode', 'Profit', 'NetSales', 'OperatingProfit', 'BookValuePerShare',\n",
    "        'ForecastDividendPerShareFiscalYearEnd',\n",
    "        'ForecastDividendPerShareAnnual', 'ForecastNetSales',\n",
    "        'ForecastOperatingProfit', 'ForecastOrdinaryProfit', 'ForecastProfit',\n",
    "        'ForecastEarningsPerShare']\n",
    "\n",
    "financial = financial[liste]"
   ]
  },
  {
   "cell_type": "code",
   "execution_count": null,
   "metadata": {},
   "outputs": [],
   "source": [
    "financial.head()"
   ]
  },
  {
   "cell_type": "code",
   "execution_count": 7,
   "metadata": {},
   "outputs": [],
   "source": [
    "#financial.SecuritiesCode.nunique()\n",
    "# Selecting only matching Codes from financial data\n",
    "prices = pd.read_csv('data/train_files/stock_prices.csv', parse_dates=[1])\n",
    "sec_codes = [x for x in prices.SecuritiesCode.unique() if x in financial.SecuritiesCode.unique()]\n"
   ]
  },
  {
   "cell_type": "code",
   "execution_count": null,
   "metadata": {},
   "outputs": [],
   "source": [
    "print_shape(financial)"
   ]
  },
  {
   "cell_type": "code",
   "execution_count": null,
   "metadata": {},
   "outputs": [],
   "source": [
    "#TODO es funktioniert nicht!"
   ]
  },
  {
   "cell_type": "code",
   "execution_count": 41,
   "metadata": {},
   "outputs": [
    {
     "name": "stderr",
     "output_type": "stream",
     "text": [
      " 22%|██▏       | 110/500 [00:02<00:07, 53.37it/s]\n"
     ]
    },
    {
     "ename": "IndexError",
     "evalue": "single positional indexer is out-of-bounds",
     "output_type": "error",
     "traceback": [
      "\u001b[0;31m---------------------------------------------------------------------------\u001b[0m",
      "\u001b[0;31mIndexError\u001b[0m                                Traceback (most recent call last)",
      "\u001b[1;32m/Users/valentina/ds/tokyo-stock-exchange/data.ipynb Cell 14'\u001b[0m in \u001b[0;36m<cell line: 17>\u001b[0;34m()\u001b[0m\n\u001b[1;32m     <a href='vscode-notebook-cell:/Users/valentina/ds/tokyo-stock-exchange/data.ipynb#ch0000141?line=16'>17</a>\u001b[0m \u001b[39mfor\u001b[39;00m code \u001b[39min\u001b[39;00m tqdm(sec_codes[:\u001b[39m500\u001b[39m]):\n\u001b[1;32m     <a href='vscode-notebook-cell:/Users/valentina/ds/tokyo-stock-exchange/data.ipynb#ch0000141?line=17'>18</a>\u001b[0m     \u001b[39m#print(code)\u001b[39;00m\n\u001b[1;32m     <a href='vscode-notebook-cell:/Users/valentina/ds/tokyo-stock-exchange/data.ipynb#ch0000141?line=18'>19</a>\u001b[0m     df_f \u001b[39m=\u001b[39m financial\u001b[39m.\u001b[39mquery(\u001b[39m'\u001b[39m\u001b[39mSecuritiesCode == @code\u001b[39m\u001b[39m'\u001b[39m)\u001b[39m.\u001b[39msort_values(\u001b[39m'\u001b[39m\u001b[39mDate\u001b[39m\u001b[39m'\u001b[39m)\n\u001b[0;32m---> <a href='vscode-notebook-cell:/Users/valentina/ds/tokyo-stock-exchange/data.ipynb#ch0000141?line=19'>20</a>\u001b[0m     f_first_day, f_first_day_drop, f_days_drop \u001b[39m=\u001b[39m droped_days(df_f)\n\u001b[1;32m     <a href='vscode-notebook-cell:/Users/valentina/ds/tokyo-stock-exchange/data.ipynb#ch0000141?line=21'>22</a>\u001b[0m     df_p \u001b[39m=\u001b[39m prices\u001b[39m.\u001b[39mquery(\u001b[39m'\u001b[39m\u001b[39mSecuritiesCode == @code\u001b[39m\u001b[39m'\u001b[39m)\u001b[39m.\u001b[39msort_values(\u001b[39m'\u001b[39m\u001b[39mDate\u001b[39m\u001b[39m'\u001b[39m)    \n\u001b[1;32m     <a href='vscode-notebook-cell:/Users/valentina/ds/tokyo-stock-exchange/data.ipynb#ch0000141?line=22'>23</a>\u001b[0m     p_first_day, p_first_day_drop, p_days_drop \u001b[39m=\u001b[39m droped_days(df_p)\n",
      "\u001b[1;32m/Users/valentina/ds/tokyo-stock-exchange/data.ipynb Cell 14'\u001b[0m in \u001b[0;36mdroped_days\u001b[0;34m(df, except_col)\u001b[0m\n\u001b[1;32m      <a href='vscode-notebook-cell:/Users/valentina/ds/tokyo-stock-exchange/data.ipynb#ch0000141?line=8'>9</a>\u001b[0m first_day \u001b[39m=\u001b[39m df\u001b[39m.\u001b[39mDate\u001b[39m.\u001b[39miloc[\u001b[39m0\u001b[39m]\u001b[39m.\u001b[39mdate()\n\u001b[1;32m     <a href='vscode-notebook-cell:/Users/valentina/ds/tokyo-stock-exchange/data.ipynb#ch0000141?line=9'>10</a>\u001b[0m \u001b[39m#display(df_drop.head())\u001b[39;00m\n\u001b[0;32m---> <a href='vscode-notebook-cell:/Users/valentina/ds/tokyo-stock-exchange/data.ipynb#ch0000141?line=10'>11</a>\u001b[0m first_day_drop \u001b[39m=\u001b[39m df_drop\u001b[39m.\u001b[39;49mDate\u001b[39m.\u001b[39;49miloc[\u001b[39m0\u001b[39;49m]\u001b[39m.\u001b[39mdate()\n\u001b[1;32m     <a href='vscode-notebook-cell:/Users/valentina/ds/tokyo-stock-exchange/data.ipynb#ch0000141?line=11'>12</a>\u001b[0m days_drop \u001b[39m=\u001b[39m  first_day_drop \u001b[39m-\u001b[39m first_day \n\u001b[1;32m     <a href='vscode-notebook-cell:/Users/valentina/ds/tokyo-stock-exchange/data.ipynb#ch0000141?line=13'>14</a>\u001b[0m \u001b[39mreturn\u001b[39;00m first_day, first_day_drop, days_drop\u001b[39m.\u001b[39mdays\n",
      "File \u001b[0;32m~/ds/tokyo-stock-exchange/.venv/lib/python3.9/site-packages/pandas/core/indexing.py:967\u001b[0m, in \u001b[0;36m_LocationIndexer.__getitem__\u001b[0;34m(self, key)\u001b[0m\n\u001b[1;32m    <a href='file:///Users/valentina/ds/tokyo-stock-exchange/.venv/lib/python3.9/site-packages/pandas/core/indexing.py?line=963'>964</a>\u001b[0m axis \u001b[39m=\u001b[39m \u001b[39mself\u001b[39m\u001b[39m.\u001b[39maxis \u001b[39mor\u001b[39;00m \u001b[39m0\u001b[39m\n\u001b[1;32m    <a href='file:///Users/valentina/ds/tokyo-stock-exchange/.venv/lib/python3.9/site-packages/pandas/core/indexing.py?line=965'>966</a>\u001b[0m maybe_callable \u001b[39m=\u001b[39m com\u001b[39m.\u001b[39mapply_if_callable(key, \u001b[39mself\u001b[39m\u001b[39m.\u001b[39mobj)\n\u001b[0;32m--> <a href='file:///Users/valentina/ds/tokyo-stock-exchange/.venv/lib/python3.9/site-packages/pandas/core/indexing.py?line=966'>967</a>\u001b[0m \u001b[39mreturn\u001b[39;00m \u001b[39mself\u001b[39;49m\u001b[39m.\u001b[39;49m_getitem_axis(maybe_callable, axis\u001b[39m=\u001b[39;49maxis)\n",
      "File \u001b[0;32m~/ds/tokyo-stock-exchange/.venv/lib/python3.9/site-packages/pandas/core/indexing.py:1520\u001b[0m, in \u001b[0;36m_iLocIndexer._getitem_axis\u001b[0;34m(self, key, axis)\u001b[0m\n\u001b[1;32m   <a href='file:///Users/valentina/ds/tokyo-stock-exchange/.venv/lib/python3.9/site-packages/pandas/core/indexing.py?line=1516'>1517</a>\u001b[0m     \u001b[39mraise\u001b[39;00m \u001b[39mTypeError\u001b[39;00m(\u001b[39m\"\u001b[39m\u001b[39mCannot index by location index with a non-integer key\u001b[39m\u001b[39m\"\u001b[39m)\n\u001b[1;32m   <a href='file:///Users/valentina/ds/tokyo-stock-exchange/.venv/lib/python3.9/site-packages/pandas/core/indexing.py?line=1518'>1519</a>\u001b[0m \u001b[39m# validate the location\u001b[39;00m\n\u001b[0;32m-> <a href='file:///Users/valentina/ds/tokyo-stock-exchange/.venv/lib/python3.9/site-packages/pandas/core/indexing.py?line=1519'>1520</a>\u001b[0m \u001b[39mself\u001b[39;49m\u001b[39m.\u001b[39;49m_validate_integer(key, axis)\n\u001b[1;32m   <a href='file:///Users/valentina/ds/tokyo-stock-exchange/.venv/lib/python3.9/site-packages/pandas/core/indexing.py?line=1521'>1522</a>\u001b[0m \u001b[39mreturn\u001b[39;00m \u001b[39mself\u001b[39m\u001b[39m.\u001b[39mobj\u001b[39m.\u001b[39m_ixs(key, axis\u001b[39m=\u001b[39maxis)\n",
      "File \u001b[0;32m~/ds/tokyo-stock-exchange/.venv/lib/python3.9/site-packages/pandas/core/indexing.py:1452\u001b[0m, in \u001b[0;36m_iLocIndexer._validate_integer\u001b[0;34m(self, key, axis)\u001b[0m\n\u001b[1;32m   <a href='file:///Users/valentina/ds/tokyo-stock-exchange/.venv/lib/python3.9/site-packages/pandas/core/indexing.py?line=1449'>1450</a>\u001b[0m len_axis \u001b[39m=\u001b[39m \u001b[39mlen\u001b[39m(\u001b[39mself\u001b[39m\u001b[39m.\u001b[39mobj\u001b[39m.\u001b[39m_get_axis(axis))\n\u001b[1;32m   <a href='file:///Users/valentina/ds/tokyo-stock-exchange/.venv/lib/python3.9/site-packages/pandas/core/indexing.py?line=1450'>1451</a>\u001b[0m \u001b[39mif\u001b[39;00m key \u001b[39m>\u001b[39m\u001b[39m=\u001b[39m len_axis \u001b[39mor\u001b[39;00m key \u001b[39m<\u001b[39m \u001b[39m-\u001b[39mlen_axis:\n\u001b[0;32m-> <a href='file:///Users/valentina/ds/tokyo-stock-exchange/.venv/lib/python3.9/site-packages/pandas/core/indexing.py?line=1451'>1452</a>\u001b[0m     \u001b[39mraise\u001b[39;00m \u001b[39mIndexError\u001b[39;00m(\u001b[39m\"\u001b[39m\u001b[39msingle positional indexer is out-of-bounds\u001b[39m\u001b[39m\"\u001b[39m)\n",
      "\u001b[0;31mIndexError\u001b[0m: single positional indexer is out-of-bounds"
     ]
    }
   ],
   "source": [
    "droped_days_dict = {}\n",
    "\n",
    "\n",
    "def droped_days (df, except_col = 'ExpectedDividends'):\n",
    "\n",
    "    col_to_drop = [x for x in df.columns if x != except_col]\n",
    "    df_drop = df.dropna(axis=0, subset = col_to_drop)\n",
    "    \n",
    "    first_day = df.Date.iloc[0].date()\n",
    "    #display(df_drop.head())\n",
    "    first_day_drop = df_drop.Date.iloc[0].date()\n",
    "    days_drop =  first_day_drop - first_day \n",
    "\n",
    "    return first_day, first_day_drop, days_drop.days\n",
    "\n",
    "\n",
    "for code in tqdm(sec_codes[:500]):\n",
    "    #print(code)\n",
    "    df_f = financial.query('SecuritiesCode == @code').sort_values('Date')\n",
    "    f_first_day, f_first_day_drop, f_days_drop = droped_days(df_f)\n",
    "\n",
    "    df_p = prices.query('SecuritiesCode == @code').sort_values('Date')    \n",
    "    p_first_day, p_first_day_drop, p_days_drop = droped_days(df_p)\n",
    "    #display(df_p.head())\n",
    "    financial_preis_days_drop = p_first_day_drop - f_first_day_drop\n",
    "\n",
    "    droped_days_dict[code] = (f_first_day, f_first_day_drop, f_days_drop, p_first_day, p_first_day_drop, p_days_drop, financial_preis_days_drop )\n",
    "\n",
    "\n",
    "#droped_df = pd.DataFrame(droped_days).T\n",
    "#droped_df.columns = ['F_first_day', 'F_firest_day_drop', 'F_days', 'P_first_day', 'P_firest_day_drop', 'P_days']"
   ]
  },
  {
   "cell_type": "code",
   "execution_count": 30,
   "metadata": {},
   "outputs": [
    {
     "data": {
      "text/plain": [
       "datetime.date(2017, 3, 27)"
      ]
     },
     "execution_count": 30,
     "metadata": {},
     "output_type": "execute_result"
    }
   ],
   "source": [
    "from functions import df_security_code\n",
    "d2120 = df_security_code(prices, code=2120)\n",
    "d2120.head()\n",
    "df_drop = d2120.dropna(axis=0)\n",
    "df_drop.Date.iloc[0].date()"
   ]
  },
  {
   "cell_type": "code",
   "execution_count": 36,
   "metadata": {},
   "outputs": [
    {
     "name": "stderr",
     "output_type": "stream",
     "text": [
      "100%|██████████| 2000/2000 [00:21<00:00, 91.45it/s] \n"
     ]
    }
   ],
   "source": [
    "for i in tqdm(sec_codes):\n",
    "    d212_ = df_security_code(prices, i)\n",
    "    d212_.head()\n",
    "    df_drop = d212_.dropna(axis=0)\n",
    "    #print(i, '  ', df_drop.Date.iloc[0].date())\n"
   ]
  },
  {
   "cell_type": "code",
   "execution_count": 17,
   "metadata": {},
   "outputs": [
    {
     "data": {
      "text/html": [
       "<div>\n",
       "<style scoped>\n",
       "    .dataframe tbody tr th:only-of-type {\n",
       "        vertical-align: middle;\n",
       "    }\n",
       "\n",
       "    .dataframe tbody tr th {\n",
       "        vertical-align: top;\n",
       "    }\n",
       "\n",
       "    .dataframe thead th {\n",
       "        text-align: right;\n",
       "    }\n",
       "</style>\n",
       "<table border=\"1\" class=\"dataframe\">\n",
       "  <thead>\n",
       "    <tr style=\"text-align: right;\">\n",
       "      <th></th>\n",
       "      <th>F_first_day</th>\n",
       "      <th>F_firest_day_drop</th>\n",
       "      <th>F_days</th>\n",
       "      <th>P_first_day</th>\n",
       "      <th>P_firest_day_drop</th>\n",
       "      <th>P_days</th>\n",
       "      <th>total</th>\n",
       "    </tr>\n",
       "  </thead>\n",
       "  <tbody>\n",
       "    <tr>\n",
       "      <th>1968</th>\n",
       "      <td>2017-02-10</td>\n",
       "      <td>2017-05-12</td>\n",
       "      <td>91</td>\n",
       "      <td>2017-01-04</td>\n",
       "      <td>2017-03-27</td>\n",
       "      <td>82</td>\n",
       "      <td>-46 days</td>\n",
       "    </tr>\n",
       "    <tr>\n",
       "      <th>1969</th>\n",
       "      <td>2017-02-09</td>\n",
       "      <td>2017-05-12</td>\n",
       "      <td>92</td>\n",
       "      <td>2017-01-04</td>\n",
       "      <td>2017-03-27</td>\n",
       "      <td>82</td>\n",
       "      <td>-46 days</td>\n",
       "    </tr>\n",
       "    <tr>\n",
       "      <th>1973</th>\n",
       "      <td>2017-01-30</td>\n",
       "      <td>2017-01-30</td>\n",
       "      <td>0</td>\n",
       "      <td>2017-01-04</td>\n",
       "      <td>2017-03-27</td>\n",
       "      <td>82</td>\n",
       "      <td>56 days</td>\n",
       "    </tr>\n",
       "    <tr>\n",
       "      <th>1975</th>\n",
       "      <td>2017-02-10</td>\n",
       "      <td>2017-02-10</td>\n",
       "      <td>0</td>\n",
       "      <td>2017-01-04</td>\n",
       "      <td>2017-03-27</td>\n",
       "      <td>82</td>\n",
       "      <td>45 days</td>\n",
       "    </tr>\n",
       "    <tr>\n",
       "      <th>1976</th>\n",
       "      <td>2017-01-31</td>\n",
       "      <td>2017-01-31</td>\n",
       "      <td>0</td>\n",
       "      <td>2017-01-04</td>\n",
       "      <td>2017-03-27</td>\n",
       "      <td>82</td>\n",
       "      <td>55 days</td>\n",
       "    </tr>\n",
       "    <tr>\n",
       "      <th>1979</th>\n",
       "      <td>2017-02-10</td>\n",
       "      <td>2017-05-15</td>\n",
       "      <td>94</td>\n",
       "      <td>2017-01-04</td>\n",
       "      <td>2017-03-27</td>\n",
       "      <td>82</td>\n",
       "      <td>-49 days</td>\n",
       "    </tr>\n",
       "    <tr>\n",
       "      <th>1980</th>\n",
       "      <td>2017-02-08</td>\n",
       "      <td>2017-02-08</td>\n",
       "      <td>0</td>\n",
       "      <td>2017-01-04</td>\n",
       "      <td>2017-03-27</td>\n",
       "      <td>82</td>\n",
       "      <td>47 days</td>\n",
       "    </tr>\n",
       "    <tr>\n",
       "      <th>1981</th>\n",
       "      <td>2017-02-08</td>\n",
       "      <td>2017-05-12</td>\n",
       "      <td>93</td>\n",
       "      <td>2017-01-04</td>\n",
       "      <td>2017-03-27</td>\n",
       "      <td>82</td>\n",
       "      <td>-46 days</td>\n",
       "    </tr>\n",
       "    <tr>\n",
       "      <th>1982</th>\n",
       "      <td>2017-02-07</td>\n",
       "      <td>2017-02-07</td>\n",
       "      <td>0</td>\n",
       "      <td>2017-01-04</td>\n",
       "      <td>2017-03-27</td>\n",
       "      <td>82</td>\n",
       "      <td>48 days</td>\n",
       "    </tr>\n",
       "    <tr>\n",
       "      <th>2001</th>\n",
       "      <td>2017-02-06</td>\n",
       "      <td>2017-05-12</td>\n",
       "      <td>95</td>\n",
       "      <td>2017-01-04</td>\n",
       "      <td>2017-03-27</td>\n",
       "      <td>82</td>\n",
       "      <td>-46 days</td>\n",
       "    </tr>\n",
       "    <tr>\n",
       "      <th>2002</th>\n",
       "      <td>2017-01-30</td>\n",
       "      <td>2017-05-12</td>\n",
       "      <td>102</td>\n",
       "      <td>2017-01-04</td>\n",
       "      <td>2017-03-27</td>\n",
       "      <td>82</td>\n",
       "      <td>-46 days</td>\n",
       "    </tr>\n",
       "    <tr>\n",
       "      <th>2003</th>\n",
       "      <td>2017-01-31</td>\n",
       "      <td>2017-01-31</td>\n",
       "      <td>0</td>\n",
       "      <td>2017-01-04</td>\n",
       "      <td>2017-03-27</td>\n",
       "      <td>82</td>\n",
       "      <td>55 days</td>\n",
       "    </tr>\n",
       "    <tr>\n",
       "      <th>2004</th>\n",
       "      <td>2017-02-03</td>\n",
       "      <td>2017-05-12</td>\n",
       "      <td>98</td>\n",
       "      <td>2017-01-04</td>\n",
       "      <td>2017-03-27</td>\n",
       "      <td>82</td>\n",
       "      <td>-46 days</td>\n",
       "    </tr>\n",
       "    <tr>\n",
       "      <th>2009</th>\n",
       "      <td>2017-02-09</td>\n",
       "      <td>2017-02-09</td>\n",
       "      <td>0</td>\n",
       "      <td>2017-01-04</td>\n",
       "      <td>2017-12-25</td>\n",
       "      <td>355</td>\n",
       "      <td>319 days</td>\n",
       "    </tr>\n",
       "    <tr>\n",
       "      <th>2053</th>\n",
       "      <td>2017-01-31</td>\n",
       "      <td>2017-05-02</td>\n",
       "      <td>91</td>\n",
       "      <td>2017-01-04</td>\n",
       "      <td>2017-03-27</td>\n",
       "      <td>82</td>\n",
       "      <td>-36 days</td>\n",
       "    </tr>\n",
       "    <tr>\n",
       "      <th>2060</th>\n",
       "      <td>2017-02-09</td>\n",
       "      <td>2017-05-11</td>\n",
       "      <td>91</td>\n",
       "      <td>2017-01-04</td>\n",
       "      <td>2017-03-27</td>\n",
       "      <td>82</td>\n",
       "      <td>-45 days</td>\n",
       "    </tr>\n",
       "    <tr>\n",
       "      <th>2108</th>\n",
       "      <td>2017-02-10</td>\n",
       "      <td>2017-02-10</td>\n",
       "      <td>0</td>\n",
       "      <td>2017-01-04</td>\n",
       "      <td>2017-03-27</td>\n",
       "      <td>82</td>\n",
       "      <td>45 days</td>\n",
       "    </tr>\n",
       "    <tr>\n",
       "      <th>2109</th>\n",
       "      <td>2017-01-31</td>\n",
       "      <td>2017-01-31</td>\n",
       "      <td>0</td>\n",
       "      <td>2017-01-04</td>\n",
       "      <td>2017-03-27</td>\n",
       "      <td>82</td>\n",
       "      <td>55 days</td>\n",
       "    </tr>\n",
       "    <tr>\n",
       "      <th>2114</th>\n",
       "      <td>2017-01-31</td>\n",
       "      <td>2017-04-28</td>\n",
       "      <td>87</td>\n",
       "      <td>2017-01-04</td>\n",
       "      <td>2017-03-27</td>\n",
       "      <td>82</td>\n",
       "      <td>-32 days</td>\n",
       "    </tr>\n",
       "    <tr>\n",
       "      <th>2117</th>\n",
       "      <td>2017-02-02</td>\n",
       "      <td>2017-05-12</td>\n",
       "      <td>99</td>\n",
       "      <td>2017-01-04</td>\n",
       "      <td>2017-03-27</td>\n",
       "      <td>82</td>\n",
       "      <td>-46 days</td>\n",
       "    </tr>\n",
       "  </tbody>\n",
       "</table>\n",
       "</div>"
      ],
      "text/plain": [
       "     F_first_day F_firest_day_drop F_days P_first_day P_firest_day_drop  \\\n",
       "1968  2017-02-10        2017-05-12     91  2017-01-04        2017-03-27   \n",
       "1969  2017-02-09        2017-05-12     92  2017-01-04        2017-03-27   \n",
       "1973  2017-01-30        2017-01-30      0  2017-01-04        2017-03-27   \n",
       "1975  2017-02-10        2017-02-10      0  2017-01-04        2017-03-27   \n",
       "1976  2017-01-31        2017-01-31      0  2017-01-04        2017-03-27   \n",
       "1979  2017-02-10        2017-05-15     94  2017-01-04        2017-03-27   \n",
       "1980  2017-02-08        2017-02-08      0  2017-01-04        2017-03-27   \n",
       "1981  2017-02-08        2017-05-12     93  2017-01-04        2017-03-27   \n",
       "1982  2017-02-07        2017-02-07      0  2017-01-04        2017-03-27   \n",
       "2001  2017-02-06        2017-05-12     95  2017-01-04        2017-03-27   \n",
       "2002  2017-01-30        2017-05-12    102  2017-01-04        2017-03-27   \n",
       "2003  2017-01-31        2017-01-31      0  2017-01-04        2017-03-27   \n",
       "2004  2017-02-03        2017-05-12     98  2017-01-04        2017-03-27   \n",
       "2009  2017-02-09        2017-02-09      0  2017-01-04        2017-12-25   \n",
       "2053  2017-01-31        2017-05-02     91  2017-01-04        2017-03-27   \n",
       "2060  2017-02-09        2017-05-11     91  2017-01-04        2017-03-27   \n",
       "2108  2017-02-10        2017-02-10      0  2017-01-04        2017-03-27   \n",
       "2109  2017-01-31        2017-01-31      0  2017-01-04        2017-03-27   \n",
       "2114  2017-01-31        2017-04-28     87  2017-01-04        2017-03-27   \n",
       "2117  2017-02-02        2017-05-12     99  2017-01-04        2017-03-27   \n",
       "\n",
       "     P_days    total  \n",
       "1968     82 -46 days  \n",
       "1969     82 -46 days  \n",
       "1973     82  56 days  \n",
       "1975     82  45 days  \n",
       "1976     82  55 days  \n",
       "1979     82 -49 days  \n",
       "1980     82  47 days  \n",
       "1981     82 -46 days  \n",
       "1982     82  48 days  \n",
       "2001     82 -46 days  \n",
       "2002     82 -46 days  \n",
       "2003     82  55 days  \n",
       "2004     82 -46 days  \n",
       "2009    355 319 days  \n",
       "2053     82 -36 days  \n",
       "2060     82 -45 days  \n",
       "2108     82  45 days  \n",
       "2109     82  55 days  \n",
       "2114     82 -32 days  \n",
       "2117     82 -46 days  "
      ]
     },
     "execution_count": 17,
     "metadata": {},
     "output_type": "execute_result"
    }
   ],
   "source": [
    "droped_df = pd.DataFrame(droped_days_dict).T\n",
    "droped_df.columns = ['F_first_day', 'F_firest_day_drop', 'F_days', 'P_first_day', 'P_firest_day_drop', 'P_days', 'total']\n",
    "droped_df"
   ]
  },
  {
   "cell_type": "code",
   "execution_count": null,
   "metadata": {},
   "outputs": [],
   "source": [
    "df_1332 = prices.query('SecuritiesCode == @code').sort_values('Date')\n",
    "df_1332.head()"
   ]
  },
  {
   "cell_type": "code",
   "execution_count": 14,
   "metadata": {},
   "outputs": [
    {
     "name": "stdout",
     "output_type": "stream",
     "text": [
      "2001\n"
     ]
    },
    {
     "data": {
      "text/html": [
       "<div>\n",
       "<style scoped>\n",
       "    .dataframe tbody tr th:only-of-type {\n",
       "        vertical-align: middle;\n",
       "    }\n",
       "\n",
       "    .dataframe tbody tr th {\n",
       "        vertical-align: top;\n",
       "    }\n",
       "\n",
       "    .dataframe thead th {\n",
       "        text-align: right;\n",
       "    }\n",
       "</style>\n",
       "<table border=\"1\" class=\"dataframe\">\n",
       "  <thead>\n",
       "    <tr style=\"text-align: right;\">\n",
       "      <th></th>\n",
       "      <th>Date</th>\n",
       "      <th>SecuritiesCode</th>\n",
       "      <th>Profit</th>\n",
       "      <th>NetSales</th>\n",
       "      <th>OperatingProfit</th>\n",
       "      <th>BookValuePerShare</th>\n",
       "      <th>ForecastDividendPerShareFiscalYearEnd</th>\n",
       "      <th>ForecastDividendPerShareAnnual</th>\n",
       "      <th>ForecastNetSales</th>\n",
       "      <th>ForecastOperatingProfit</th>\n",
       "      <th>ForecastOrdinaryProfit</th>\n",
       "      <th>ForecastProfit</th>\n",
       "      <th>ForecastEarningsPerShare</th>\n",
       "    </tr>\n",
       "  </thead>\n",
       "  <tbody>\n",
       "    <tr>\n",
       "      <th>1887</th>\n",
       "      <td>2017-02-06</td>\n",
       "      <td>2001.0</td>\n",
       "      <td>7150000000</td>\n",
       "      <td>237491000000</td>\n",
       "      <td>9045000000</td>\n",
       "      <td>NaN</td>\n",
       "      <td>14.0</td>\n",
       "      <td>－</td>\n",
       "      <td>320000000000</td>\n",
       "      <td>11500000000</td>\n",
       "      <td>13000000000</td>\n",
       "      <td>8500000000</td>\n",
       "      <td>105.99</td>\n",
       "    </tr>\n",
       "    <tr>\n",
       "      <th>7385</th>\n",
       "      <td>2017-05-12</td>\n",
       "      <td>2001.0</td>\n",
       "      <td>8934000000</td>\n",
       "      <td>312932000000</td>\n",
       "      <td>11574000000</td>\n",
       "      <td>1784.44</td>\n",
       "      <td>15.0</td>\n",
       "      <td>30.0</td>\n",
       "      <td>335000000000</td>\n",
       "      <td>12000000000</td>\n",
       "      <td>13500000000</td>\n",
       "      <td>9000000000</td>\n",
       "      <td>112.17</td>\n",
       "    </tr>\n",
       "    <tr>\n",
       "      <th>11296</th>\n",
       "      <td>2017-08-04</td>\n",
       "      <td>2001.0</td>\n",
       "      <td>1777000000</td>\n",
       "      <td>80274000000</td>\n",
       "      <td>2027000000</td>\n",
       "      <td>NaN</td>\n",
       "      <td>15.0</td>\n",
       "      <td>30.0</td>\n",
       "      <td>335000000000</td>\n",
       "      <td>12000000000</td>\n",
       "      <td>13500000000</td>\n",
       "      <td>9000000000</td>\n",
       "      <td>112.17</td>\n",
       "    </tr>\n",
       "    <tr>\n",
       "      <th>16151</th>\n",
       "      <td>2017-11-07</td>\n",
       "      <td>2001.0</td>\n",
       "      <td>3551000000</td>\n",
       "      <td>160760000000</td>\n",
       "      <td>4501000000</td>\n",
       "      <td>NaN</td>\n",
       "      <td>15.0</td>\n",
       "      <td>30.0</td>\n",
       "      <td>335000000000</td>\n",
       "      <td>12000000000</td>\n",
       "      <td>13500000000</td>\n",
       "      <td>9000000000</td>\n",
       "      <td>112.17</td>\n",
       "    </tr>\n",
       "    <tr>\n",
       "      <th>20409</th>\n",
       "      <td>2018-02-06</td>\n",
       "      <td>2001.0</td>\n",
       "      <td>6243000000</td>\n",
       "      <td>245108000000</td>\n",
       "      <td>7622000000</td>\n",
       "      <td>NaN</td>\n",
       "      <td>15.0</td>\n",
       "      <td>30.0</td>\n",
       "      <td>335000000000</td>\n",
       "      <td>12000000000</td>\n",
       "      <td>13500000000</td>\n",
       "      <td>9000000000</td>\n",
       "      <td>112.17</td>\n",
       "    </tr>\n",
       "  </tbody>\n",
       "</table>\n",
       "</div>"
      ],
      "text/plain": [
       "            Date  SecuritiesCode      Profit      NetSales OperatingProfit  \\\n",
       "1887  2017-02-06          2001.0  7150000000  237491000000      9045000000   \n",
       "7385  2017-05-12          2001.0  8934000000  312932000000     11574000000   \n",
       "11296 2017-08-04          2001.0  1777000000   80274000000      2027000000   \n",
       "16151 2017-11-07          2001.0  3551000000  160760000000      4501000000   \n",
       "20409 2018-02-06          2001.0  6243000000  245108000000      7622000000   \n",
       "\n",
       "      BookValuePerShare ForecastDividendPerShareFiscalYearEnd  \\\n",
       "1887                NaN                                  14.0   \n",
       "7385            1784.44                                  15.0   \n",
       "11296               NaN                                  15.0   \n",
       "16151               NaN                                  15.0   \n",
       "20409               NaN                                  15.0   \n",
       "\n",
       "      ForecastDividendPerShareAnnual ForecastNetSales ForecastOperatingProfit  \\\n",
       "1887                               －     320000000000             11500000000   \n",
       "7385                            30.0     335000000000             12000000000   \n",
       "11296                           30.0     335000000000             12000000000   \n",
       "16151                           30.0     335000000000             12000000000   \n",
       "20409                           30.0     335000000000             12000000000   \n",
       "\n",
       "      ForecastOrdinaryProfit ForecastProfit ForecastEarningsPerShare  \n",
       "1887             13000000000     8500000000                   105.99  \n",
       "7385             13500000000     9000000000                   112.17  \n",
       "11296            13500000000     9000000000                   112.17  \n",
       "16151            13500000000     9000000000                   112.17  \n",
       "20409            13500000000     9000000000                   112.17  "
      ]
     },
     "metadata": {},
     "output_type": "display_data"
    },
    {
     "data": {
      "text/html": [
       "<div>\n",
       "<style scoped>\n",
       "    .dataframe tbody tr th:only-of-type {\n",
       "        vertical-align: middle;\n",
       "    }\n",
       "\n",
       "    .dataframe tbody tr th {\n",
       "        vertical-align: top;\n",
       "    }\n",
       "\n",
       "    .dataframe thead th {\n",
       "        text-align: right;\n",
       "    }\n",
       "</style>\n",
       "<table border=\"1\" class=\"dataframe\">\n",
       "  <thead>\n",
       "    <tr style=\"text-align: right;\">\n",
       "      <th></th>\n",
       "      <th>RowId</th>\n",
       "      <th>Date</th>\n",
       "      <th>SecuritiesCode</th>\n",
       "      <th>Open</th>\n",
       "      <th>High</th>\n",
       "      <th>Low</th>\n",
       "      <th>Close</th>\n",
       "      <th>Volume</th>\n",
       "      <th>AdjustmentFactor</th>\n",
       "      <th>ExpectedDividend</th>\n",
       "      <th>SupervisionFlag</th>\n",
       "      <th>Target</th>\n",
       "    </tr>\n",
       "  </thead>\n",
       "  <tbody>\n",
       "    <tr>\n",
       "      <th>99</th>\n",
       "      <td>20170104_2001</td>\n",
       "      <td>2017-01-04</td>\n",
       "      <td>2001</td>\n",
       "      <td>1626.0</td>\n",
       "      <td>1670.0</td>\n",
       "      <td>1623.0</td>\n",
       "      <td>1668.0</td>\n",
       "      <td>160700</td>\n",
       "      <td>1.0</td>\n",
       "      <td>NaN</td>\n",
       "      <td>False</td>\n",
       "      <td>0.016413</td>\n",
       "    </tr>\n",
       "    <tr>\n",
       "      <th>1964</th>\n",
       "      <td>20170105_2001</td>\n",
       "      <td>2017-01-05</td>\n",
       "      <td>2001</td>\n",
       "      <td>1668.0</td>\n",
       "      <td>1668.0</td>\n",
       "      <td>1642.0</td>\n",
       "      <td>1645.0</td>\n",
       "      <td>92700</td>\n",
       "      <td>1.0</td>\n",
       "      <td>NaN</td>\n",
       "      <td>False</td>\n",
       "      <td>-0.001196</td>\n",
       "    </tr>\n",
       "    <tr>\n",
       "      <th>3829</th>\n",
       "      <td>20170106_2001</td>\n",
       "      <td>2017-01-06</td>\n",
       "      <td>2001</td>\n",
       "      <td>1663.0</td>\n",
       "      <td>1699.0</td>\n",
       "      <td>1662.0</td>\n",
       "      <td>1672.0</td>\n",
       "      <td>138800</td>\n",
       "      <td>1.0</td>\n",
       "      <td>NaN</td>\n",
       "      <td>False</td>\n",
       "      <td>-0.004790</td>\n",
       "    </tr>\n",
       "    <tr>\n",
       "      <th>5694</th>\n",
       "      <td>20170110_2001</td>\n",
       "      <td>2017-01-10</td>\n",
       "      <td>2001</td>\n",
       "      <td>1672.0</td>\n",
       "      <td>1676.0</td>\n",
       "      <td>1658.0</td>\n",
       "      <td>1670.0</td>\n",
       "      <td>182500</td>\n",
       "      <td>1.0</td>\n",
       "      <td>NaN</td>\n",
       "      <td>False</td>\n",
       "      <td>-0.016245</td>\n",
       "    </tr>\n",
       "    <tr>\n",
       "      <th>7559</th>\n",
       "      <td>20170111_2001</td>\n",
       "      <td>2017-01-11</td>\n",
       "      <td>2001</td>\n",
       "      <td>1663.0</td>\n",
       "      <td>1669.0</td>\n",
       "      <td>1657.0</td>\n",
       "      <td>1662.0</td>\n",
       "      <td>86000</td>\n",
       "      <td>1.0</td>\n",
       "      <td>NaN</td>\n",
       "      <td>False</td>\n",
       "      <td>0.003670</td>\n",
       "    </tr>\n",
       "  </tbody>\n",
       "</table>\n",
       "</div>"
      ],
      "text/plain": [
       "              RowId       Date  SecuritiesCode    Open    High     Low  \\\n",
       "99    20170104_2001 2017-01-04            2001  1626.0  1670.0  1623.0   \n",
       "1964  20170105_2001 2017-01-05            2001  1668.0  1668.0  1642.0   \n",
       "3829  20170106_2001 2017-01-06            2001  1663.0  1699.0  1662.0   \n",
       "5694  20170110_2001 2017-01-10            2001  1672.0  1676.0  1658.0   \n",
       "7559  20170111_2001 2017-01-11            2001  1663.0  1669.0  1657.0   \n",
       "\n",
       "       Close  Volume  AdjustmentFactor  ExpectedDividend  SupervisionFlag  \\\n",
       "99    1668.0  160700               1.0               NaN            False   \n",
       "1964  1645.0   92700               1.0               NaN            False   \n",
       "3829  1672.0  138800               1.0               NaN            False   \n",
       "5694  1670.0  182500               1.0               NaN            False   \n",
       "7559  1662.0   86000               1.0               NaN            False   \n",
       "\n",
       "        Target  \n",
       "99    0.016413  \n",
       "1964 -0.001196  \n",
       "3829 -0.004790  \n",
       "5694 -0.016245  \n",
       "7559  0.003670  "
      ]
     },
     "metadata": {},
     "output_type": "display_data"
    },
    {
     "name": "stdout",
     "output_type": "stream",
     "text": [
      "2002\n"
     ]
    },
    {
     "data": {
      "text/html": [
       "<div>\n",
       "<style scoped>\n",
       "    .dataframe tbody tr th:only-of-type {\n",
       "        vertical-align: middle;\n",
       "    }\n",
       "\n",
       "    .dataframe tbody tr th {\n",
       "        vertical-align: top;\n",
       "    }\n",
       "\n",
       "    .dataframe thead th {\n",
       "        text-align: right;\n",
       "    }\n",
       "</style>\n",
       "<table border=\"1\" class=\"dataframe\">\n",
       "  <thead>\n",
       "    <tr style=\"text-align: right;\">\n",
       "      <th></th>\n",
       "      <th>Date</th>\n",
       "      <th>SecuritiesCode</th>\n",
       "      <th>Profit</th>\n",
       "      <th>NetSales</th>\n",
       "      <th>OperatingProfit</th>\n",
       "      <th>BookValuePerShare</th>\n",
       "      <th>ForecastDividendPerShareFiscalYearEnd</th>\n",
       "      <th>ForecastDividendPerShareAnnual</th>\n",
       "      <th>ForecastNetSales</th>\n",
       "      <th>ForecastOperatingProfit</th>\n",
       "      <th>ForecastOrdinaryProfit</th>\n",
       "      <th>ForecastProfit</th>\n",
       "      <th>ForecastEarningsPerShare</th>\n",
       "    </tr>\n",
       "  </thead>\n",
       "  <tbody>\n",
       "    <tr>\n",
       "      <th>730</th>\n",
       "      <td>2017-01-30</td>\n",
       "      <td>2002.0</td>\n",
       "      <td>15746000000</td>\n",
       "      <td>406514000000</td>\n",
       "      <td>19635000000</td>\n",
       "      <td>NaN</td>\n",
       "      <td>13.0</td>\n",
       "      <td>26.0</td>\n",
       "      <td>535000000000</td>\n",
       "      <td>24500000000</td>\n",
       "      <td>28800000000</td>\n",
       "      <td>19200000000</td>\n",
       "      <td>63.62</td>\n",
       "    </tr>\n",
       "    <tr>\n",
       "      <th>7386</th>\n",
       "      <td>2017-05-12</td>\n",
       "      <td>2002.0</td>\n",
       "      <td>19466000000</td>\n",
       "      <td>532040000000</td>\n",
       "      <td>25511000000</td>\n",
       "      <td>1303.45</td>\n",
       "      <td>14.0</td>\n",
       "      <td>28.0</td>\n",
       "      <td>535000000000</td>\n",
       "      <td>26000000000</td>\n",
       "      <td>30000000000</td>\n",
       "      <td>20100000000</td>\n",
       "      <td>67.32</td>\n",
       "    </tr>\n",
       "    <tr>\n",
       "      <th>10028</th>\n",
       "      <td>2017-07-27</td>\n",
       "      <td>2002.0</td>\n",
       "      <td>5521000000</td>\n",
       "      <td>130788000000</td>\n",
       "      <td>6185000000</td>\n",
       "      <td>NaN</td>\n",
       "      <td>14.0</td>\n",
       "      <td>28.0</td>\n",
       "      <td>535000000000</td>\n",
       "      <td>26000000000</td>\n",
       "      <td>30000000000</td>\n",
       "      <td>20100000000</td>\n",
       "      <td>67.32</td>\n",
       "    </tr>\n",
       "    <tr>\n",
       "      <th>14478</th>\n",
       "      <td>2017-10-26</td>\n",
       "      <td>2002.0</td>\n",
       "      <td>10553000000</td>\n",
       "      <td>262140000000</td>\n",
       "      <td>13102000000</td>\n",
       "      <td>NaN</td>\n",
       "      <td>14.0</td>\n",
       "      <td>28.0</td>\n",
       "      <td>535000000000</td>\n",
       "      <td>26000000000</td>\n",
       "      <td>30000000000</td>\n",
       "      <td>20100000000</td>\n",
       "      <td>67.32</td>\n",
       "    </tr>\n",
       "    <tr>\n",
       "      <th>19260</th>\n",
       "      <td>2018-01-30</td>\n",
       "      <td>2002.0</td>\n",
       "      <td>18087000000</td>\n",
       "      <td>402550000000</td>\n",
       "      <td>21881000000</td>\n",
       "      <td>NaN</td>\n",
       "      <td>15.0</td>\n",
       "      <td>29.0</td>\n",
       "      <td>540000000000</td>\n",
       "      <td>26700000000</td>\n",
       "      <td>31000000000</td>\n",
       "      <td>21200000000</td>\n",
       "      <td>71.01</td>\n",
       "    </tr>\n",
       "  </tbody>\n",
       "</table>\n",
       "</div>"
      ],
      "text/plain": [
       "            Date  SecuritiesCode       Profit      NetSales OperatingProfit  \\\n",
       "730   2017-01-30          2002.0  15746000000  406514000000     19635000000   \n",
       "7386  2017-05-12          2002.0  19466000000  532040000000     25511000000   \n",
       "10028 2017-07-27          2002.0   5521000000  130788000000      6185000000   \n",
       "14478 2017-10-26          2002.0  10553000000  262140000000     13102000000   \n",
       "19260 2018-01-30          2002.0  18087000000  402550000000     21881000000   \n",
       "\n",
       "      BookValuePerShare ForecastDividendPerShareFiscalYearEnd  \\\n",
       "730                 NaN                                  13.0   \n",
       "7386            1303.45                                  14.0   \n",
       "10028               NaN                                  14.0   \n",
       "14478               NaN                                  14.0   \n",
       "19260               NaN                                  15.0   \n",
       "\n",
       "      ForecastDividendPerShareAnnual ForecastNetSales ForecastOperatingProfit  \\\n",
       "730                             26.0     535000000000             24500000000   \n",
       "7386                            28.0     535000000000             26000000000   \n",
       "10028                           28.0     535000000000             26000000000   \n",
       "14478                           28.0     535000000000             26000000000   \n",
       "19260                           29.0     540000000000             26700000000   \n",
       "\n",
       "      ForecastOrdinaryProfit ForecastProfit ForecastEarningsPerShare  \n",
       "730              28800000000    19200000000                    63.62  \n",
       "7386             30000000000    20100000000                    67.32  \n",
       "10028            30000000000    20100000000                    67.32  \n",
       "14478            30000000000    20100000000                    67.32  \n",
       "19260            31000000000    21200000000                    71.01  "
      ]
     },
     "metadata": {},
     "output_type": "display_data"
    },
    {
     "data": {
      "text/html": [
       "<div>\n",
       "<style scoped>\n",
       "    .dataframe tbody tr th:only-of-type {\n",
       "        vertical-align: middle;\n",
       "    }\n",
       "\n",
       "    .dataframe tbody tr th {\n",
       "        vertical-align: top;\n",
       "    }\n",
       "\n",
       "    .dataframe thead th {\n",
       "        text-align: right;\n",
       "    }\n",
       "</style>\n",
       "<table border=\"1\" class=\"dataframe\">\n",
       "  <thead>\n",
       "    <tr style=\"text-align: right;\">\n",
       "      <th></th>\n",
       "      <th>RowId</th>\n",
       "      <th>Date</th>\n",
       "      <th>SecuritiesCode</th>\n",
       "      <th>Open</th>\n",
       "      <th>High</th>\n",
       "      <th>Low</th>\n",
       "      <th>Close</th>\n",
       "      <th>Volume</th>\n",
       "      <th>AdjustmentFactor</th>\n",
       "      <th>ExpectedDividend</th>\n",
       "      <th>SupervisionFlag</th>\n",
       "      <th>Target</th>\n",
       "    </tr>\n",
       "  </thead>\n",
       "  <tbody>\n",
       "    <tr>\n",
       "      <th>100</th>\n",
       "      <td>20170104_2002</td>\n",
       "      <td>2017-01-04</td>\n",
       "      <td>2002</td>\n",
       "      <td>1750.0</td>\n",
       "      <td>1780.0</td>\n",
       "      <td>1750.0</td>\n",
       "      <td>1777.0</td>\n",
       "      <td>653500</td>\n",
       "      <td>1.0</td>\n",
       "      <td>NaN</td>\n",
       "      <td>False</td>\n",
       "      <td>0.007923</td>\n",
       "    </tr>\n",
       "    <tr>\n",
       "      <th>1965</th>\n",
       "      <td>20170105_2002</td>\n",
       "      <td>2017-01-05</td>\n",
       "      <td>2002</td>\n",
       "      <td>1760.0</td>\n",
       "      <td>1779.0</td>\n",
       "      <td>1760.0</td>\n",
       "      <td>1767.0</td>\n",
       "      <td>565600</td>\n",
       "      <td>1.0</td>\n",
       "      <td>NaN</td>\n",
       "      <td>False</td>\n",
       "      <td>-0.008422</td>\n",
       "    </tr>\n",
       "    <tr>\n",
       "      <th>3830</th>\n",
       "      <td>20170106_2002</td>\n",
       "      <td>2017-01-06</td>\n",
       "      <td>2002</td>\n",
       "      <td>1775.0</td>\n",
       "      <td>1784.0</td>\n",
       "      <td>1762.0</td>\n",
       "      <td>1781.0</td>\n",
       "      <td>544900</td>\n",
       "      <td>1.0</td>\n",
       "      <td>NaN</td>\n",
       "      <td>False</td>\n",
       "      <td>-0.006229</td>\n",
       "    </tr>\n",
       "    <tr>\n",
       "      <th>5695</th>\n",
       "      <td>20170110_2002</td>\n",
       "      <td>2017-01-10</td>\n",
       "      <td>2002</td>\n",
       "      <td>1770.0</td>\n",
       "      <td>1777.0</td>\n",
       "      <td>1753.0</td>\n",
       "      <td>1766.0</td>\n",
       "      <td>795500</td>\n",
       "      <td>1.0</td>\n",
       "      <td>NaN</td>\n",
       "      <td>False</td>\n",
       "      <td>-0.011966</td>\n",
       "    </tr>\n",
       "    <tr>\n",
       "      <th>7560</th>\n",
       "      <td>20170111_2002</td>\n",
       "      <td>2017-01-11</td>\n",
       "      <td>2002</td>\n",
       "      <td>1766.0</td>\n",
       "      <td>1767.0</td>\n",
       "      <td>1752.0</td>\n",
       "      <td>1755.0</td>\n",
       "      <td>430200</td>\n",
       "      <td>1.0</td>\n",
       "      <td>NaN</td>\n",
       "      <td>False</td>\n",
       "      <td>0.007497</td>\n",
       "    </tr>\n",
       "  </tbody>\n",
       "</table>\n",
       "</div>"
      ],
      "text/plain": [
       "              RowId       Date  SecuritiesCode    Open    High     Low  \\\n",
       "100   20170104_2002 2017-01-04            2002  1750.0  1780.0  1750.0   \n",
       "1965  20170105_2002 2017-01-05            2002  1760.0  1779.0  1760.0   \n",
       "3830  20170106_2002 2017-01-06            2002  1775.0  1784.0  1762.0   \n",
       "5695  20170110_2002 2017-01-10            2002  1770.0  1777.0  1753.0   \n",
       "7560  20170111_2002 2017-01-11            2002  1766.0  1767.0  1752.0   \n",
       "\n",
       "       Close  Volume  AdjustmentFactor  ExpectedDividend  SupervisionFlag  \\\n",
       "100   1777.0  653500               1.0               NaN            False   \n",
       "1965  1767.0  565600               1.0               NaN            False   \n",
       "3830  1781.0  544900               1.0               NaN            False   \n",
       "5695  1766.0  795500               1.0               NaN            False   \n",
       "7560  1755.0  430200               1.0               NaN            False   \n",
       "\n",
       "        Target  \n",
       "100   0.007923  \n",
       "1965 -0.008422  \n",
       "3830 -0.006229  \n",
       "5695 -0.011966  \n",
       "7560  0.007497  "
      ]
     },
     "metadata": {},
     "output_type": "display_data"
    }
   ],
   "source": [
    "for code in sec_codes[99:101]:\n",
    "    print(code)\n",
    "    df_f = financial.query('SecuritiesCode == @code').sort_values('Date')\n",
    "    df_p = prices.query('SecuritiesCode == @code').sort_values('Date')\n",
    "    display(df_f.head())\n",
    "    display(df_p.head())\n",
    "    "
   ]
  },
  {
   "cell_type": "code",
   "execution_count": null,
   "metadata": {},
   "outputs": [],
   "source": [
    "prices_droped_day = {}\n",
    "\n",
    "for code in sec_codes[:2]:\n",
    "    df = prices.query('SecuritiesCode == @code').sort_values('Date')\n",
    "    df_drop = df.dropna(axis=0)\n",
    "    print(code)\n",
    "    first_day = df.Date.iloc[0].date()\n",
    "\n",
    "    first_day_drop = df_drop.Date.iloc[0].date()\n",
    "    days_drop =  first_day_drop -first_day \n",
    "    prices_droped_day[code] = [first_day, first_day_drop, days_drop.days]\n",
    "    #print(f'first date before drop: {first_day:%Y-%m-%d}')\n",
    "    #print(f'first date after drop:  {first_day_drop:%Y-%m-%d}')\n",
    "    #print(f'droped days:  {days_drop.days},                 TAKE care NOT working days')"
   ]
  },
  {
   "cell_type": "code",
   "execution_count": null,
   "metadata": {},
   "outputs": [],
   "source": [
    "pd.DataFrame(prices_droped_day).T"
   ]
  },
  {
   "cell_type": "code",
   "execution_count": null,
   "metadata": {},
   "outputs": [],
   "source": [
    "del financial"
   ]
  },
  {
   "cell_type": "markdown",
   "metadata": {},
   "source": [
    "## Options"
   ]
  },
  {
   "cell_type": "code",
   "execution_count": null,
   "metadata": {},
   "outputs": [],
   "source": [
    "options = pd.read_csv('data/train_files/options.csv', parse_dates=[1])"
   ]
  },
  {
   "cell_type": "code",
   "execution_count": null,
   "metadata": {},
   "outputs": [],
   "source": [
    "options.head(2)"
   ]
  },
  {
   "cell_type": "code",
   "execution_count": null,
   "metadata": {},
   "outputs": [],
   "source": [
    "options.columns"
   ]
  },
  {
   "cell_type": "markdown",
   "metadata": {},
   "source": [
    "will not be used"
   ]
  },
  {
   "cell_type": "code",
   "execution_count": null,
   "metadata": {},
   "outputs": [],
   "source": [
    "options.OptionsCode.nunique()"
   ]
  },
  {
   "cell_type": "code",
   "execution_count": null,
   "metadata": {},
   "outputs": [],
   "source": [
    "del options"
   ]
  },
  {
   "cell_type": "markdown",
   "metadata": {},
   "source": [
    "## Submission"
   ]
  },
  {
   "cell_type": "code",
   "execution_count": null,
   "metadata": {},
   "outputs": [],
   "source": [
    "submission = pd.read_csv('data/example_test_files/sample_submission.csv', date_parser=[0])\n",
    "submission.shape"
   ]
  },
  {
   "cell_type": "code",
   "execution_count": null,
   "metadata": {},
   "outputs": [],
   "source": [
    "submission.nunique()"
   ]
  },
  {
   "cell_type": "code",
   "execution_count": null,
   "metadata": {},
   "outputs": [],
   "source": [
    "submission.head()"
   ]
  },
  {
   "cell_type": "markdown",
   "metadata": {},
   "source": [
    "Target: calculate the rank for each security code for the next 56 working days"
   ]
  },
  {
   "cell_type": "code",
   "execution_count": null,
   "metadata": {},
   "outputs": [],
   "source": [
    "del submission"
   ]
  },
  {
   "cell_type": "markdown",
   "metadata": {},
   "source": [
    "## Stock prices"
   ]
  },
  {
   "cell_type": "code",
   "execution_count": null,
   "metadata": {},
   "outputs": [],
   "source": [
    "prices = pd.read_csv('data/train_files/stock_prices.csv', parse_dates=[1])\n",
    "prices.shape"
   ]
  },
  {
   "cell_type": "code",
   "execution_count": null,
   "metadata": {},
   "outputs": [],
   "source": [
    "prices.head(2)"
   ]
  },
  {
   "cell_type": "markdown",
   "metadata": {},
   "source": [
    "### - date"
   ]
  },
  {
   "cell_type": "code",
   "execution_count": null,
   "metadata": {},
   "outputs": [],
   "source": [
    "date = prices.Date\n",
    "date_desc = date.describe(datetime_is_numeric=True)\n",
    "date_min = date_desc.loc['min']\n",
    "date_max = date_desc.loc['max']\n",
    "print('Data from {:%Y-%m-%d} to {:%Y-%m-%d}'\n",
    "        .format(date_min, date_max))\n",
    "print('Data observations {} '.format(\n",
    "                 date.nunique()))"
   ]
  },
  {
   "cell_type": "markdown",
   "metadata": {},
   "source": [
    "from https://www.timeanddate.com/date/workdays.html?d1=4&m1=1&y1=2017&d2=3&m2=12&y2=2021&ti=on&\n",
    "\n",
    "1211 days \n",
    "\n",
    "1795 calendar days – 584 days skipped:\n",
    "Excluded 256 Saturdays\n",
    "Excluded 256 Sundays\n",
    "Excluded 72 holidays\n",
    "\n",
    "excluded 2010-10-1 because system failer in jpx\n",
    "\n",
    "remain 1210 days  and 8 left\n",
    "- Which one are missing and why?"
   ]
  },
  {
   "cell_type": "markdown",
   "metadata": {},
   "source": [
    "1202 == 1794 . we miss data, where?\n",
    "- find missing data"
   ]
  },
  {
   "cell_type": "markdown",
   "metadata": {},
   "source": [
    "- generate working days"
   ]
  },
  {
   "cell_type": "code",
   "execution_count": null,
   "metadata": {},
   "outputs": [],
   "source": [
    "# test handel with timeseries in dataframe\n",
    "t = np.arange(date_min, date_max, timedelta(days=1)).astype(datetime)\n",
    "\n",
    "#t_work = [day for day in t if asia.Japan().is_working_day(day)]\n",
    "date_df = pd.DataFrame(date)\n",
    "#time_df = pd.to_datetime(t_work)\n",
    "type(pd.Timestamp(date.unique()[0]))"
   ]
  },
  {
   "cell_type": "markdown",
   "metadata": {},
   "source": [
    "- observations"
   ]
  },
  {
   "cell_type": "code",
   "execution_count": null,
   "metadata": {},
   "outputs": [],
   "source": [
    "prices.info()"
   ]
  },
  {
   "cell_type": "code",
   "execution_count": null,
   "metadata": {},
   "outputs": [],
   "source": [
    "prices.head(2)"
   ]
  },
  {
   "cell_type": "code",
   "execution_count": null,
   "metadata": {},
   "outputs": [],
   "source": [
    "prices.tail(2)"
   ]
  },
  {
   "cell_type": "markdown",
   "metadata": {},
   "source": [
    "- amount of trades each day"
   ]
  },
  {
   "cell_type": "code",
   "execution_count": null,
   "metadata": {},
   "outputs": [],
   "source": [
    "count = pd.DataFrame(prices.Date.value_counts().reset_index())\n",
    "count.head()\n",
    "plt.figure(figsize = (20,5))\n",
    "sns.lineplot(data = count, x= 'index', y ='Date')\n"
   ]
  },
  {
   "cell_type": "markdown",
   "metadata": {},
   "source": [
    "are stocks added during the time? \n",
    "compare the stocks in 1 feb 2017 with the stocks in 1 Feb 2121 "
   ]
  },
  {
   "cell_type": "code",
   "execution_count": null,
   "metadata": {},
   "outputs": [],
   "source": [
    "# stock for each days\n",
    "feb2017 = prices[prices['Date']=='2017-2-1']\n",
    "feb2021 = prices[prices['Date']=='2021-2-1']\n",
    "\n",
    "print('SecuritiesCode for Feb 2017 : {} \\nSecuritiesCode for Feb 2021 : {}'. format(\n",
    "                                    feb2017.SecuritiesCode.nunique(), feb2021.SecuritiesCode.nunique()\n",
    "))"
   ]
  },
  {
   "cell_type": "code",
   "execution_count": null,
   "metadata": {},
   "outputs": [],
   "source": [
    "# new Securites Code in 2021\n",
    "codes_2017 = feb2017.SecuritiesCode.to_list()\n",
    "new_codes = feb2021[~feb2021['SecuritiesCode'].isin(codes_2017)]\n",
    "old_codes = feb2021[~feb2021['SecuritiesCode'].isin(new_codes.SecuritiesCode.to_list())]\n",
    "print(new_codes.SecuritiesCode.count())\n",
    "print(old_codes.SecuritiesCode.count())"
   ]
  },
  {
   "cell_type": "code",
   "execution_count": null,
   "metadata": {},
   "outputs": [],
   "source": [
    "def plot_stock(df, Code, feature='Target'):\n",
    "    df = df.query('SecuritiesCode==@Code')\n",
    "    #plt.figure(figsize=(20,5))\n",
    "    sns.lineplot(data=df, y=feature, x='Date', label=code)"
   ]
  },
  {
   "cell_type": "code",
   "execution_count": null,
   "metadata": {},
   "outputs": [],
   "source": [
    "fig, ax = plt.subplots(figsize=(20,5))\n",
    "for code in [1375, 1301]:\n",
    "    plot_stock(prices, code)\n",
    "\n",
    "    ax.xaxis.set_major_formatter(DateFormatter(\"%m-%Y\"))"
   ]
  },
  {
   "cell_type": "markdown",
   "metadata": {},
   "source": [
    "there are 135 Securities codes not listed in 2017. \n",
    "may be they were launch later. "
   ]
  },
  {
   "cell_type": "markdown",
   "metadata": {},
   "source": [
    "### nan values"
   ]
  },
  {
   "cell_type": "code",
   "execution_count": null,
   "metadata": {},
   "outputs": [],
   "source": [
    "a = prices[(prices['Date']=='2021-12-03')]\n",
    "a.count()"
   ]
  },
  {
   "cell_type": "code",
   "execution_count": null,
   "metadata": {},
   "outputs": [],
   "source": [
    "a.query('Open != Open')"
   ]
  },
  {
   "cell_type": "markdown",
   "metadata": {},
   "source": [
    "a day before"
   ]
  },
  {
   "cell_type": "code",
   "execution_count": null,
   "metadata": {},
   "outputs": [],
   "source": [
    "b = prices[(prices['Date']=='2021-12-02')]\n",
    "b.query('Open != Open')"
   ]
  },
  {
   "cell_type": "markdown",
   "metadata": {},
   "source": [
    "and before"
   ]
  },
  {
   "cell_type": "code",
   "execution_count": null,
   "metadata": {},
   "outputs": [],
   "source": [
    "c = prices[(prices['Date']=='2021-12-01')]\n",
    "c.query('Open != Open')"
   ]
  },
  {
   "cell_type": "code",
   "execution_count": null,
   "metadata": {},
   "outputs": [],
   "source": [
    "d = prices[(prices['Date']=='2021-12-01')]\n",
    "c.query('Open != Open')"
   ]
  },
  {
   "cell_type": "code",
   "execution_count": null,
   "metadata": {},
   "outputs": [],
   "source": [
    "\n",
    "plt.figure(figsize=(25,10))\n",
    "sns.lineplot(data = prices.query('SecuritiesCode == 2761 and Date > \"2021-11-01\"' ), x='Date', y= 'Open')\n",
    "\n",
    "#sns.lineplot(data = prices.query('SecuritiesCode == 9994 and Date > \"2021-11-01\"' ), x='Date', y= 'Open')"
   ]
  },
  {
   "cell_type": "code",
   "execution_count": null,
   "metadata": {},
   "outputs": [],
   "source": [
    "plt.figure(figsize=(16,10))\n",
    "sns.lineplot(data = prices.query('SecuritiesCode == 3540'), x='Date', y= 'Open')\n",
    "sns.lineplot(data = prices.query('SecuritiesCode == 9994'), x='Date', y= 'Open')\n"
   ]
  },
  {
   "cell_type": "code",
   "execution_count": null,
   "metadata": {},
   "outputs": [],
   "source": [
    "prices.isnull().sum().sort_values(ascending=False)"
   ]
  },
  {
   "cell_type": "code",
   "execution_count": null,
   "metadata": {},
   "outputs": [],
   "source": [
    "import matplotlib.pyplot as plt\n",
    "import seaborn as sns\n",
    "\n",
    "plt.figure(figsize=(12, 8))\n",
    "sns.heatmap(prices.isna(), cbar=False, cmap=\"plasma\",yticklabels=False)\n",
    "plt.show()"
   ]
  },
  {
   "cell_type": "code",
   "execution_count": null,
   "metadata": {},
   "outputs": [],
   "source": [
    "prices_nan = prices.query('Open != Open')\n",
    "prices_nan.shape"
   ]
  },
  {
   "cell_type": "code",
   "execution_count": null,
   "metadata": {},
   "outputs": [],
   "source": [
    "prices_nan.Date.value_counts()"
   ]
  },
  {
   "cell_type": "code",
   "execution_count": null,
   "metadata": {},
   "outputs": [],
   "source": [
    "prices_nan[(prices_nan['Date']!='2020-10-01')].Date.value_counts().sort_values(ascending=True)"
   ]
  },
  {
   "cell_type": "code",
   "execution_count": null,
   "metadata": {},
   "outputs": [],
   "source": [
    "plt.figure(figsize=(12, 8))\n",
    "sns.heatmap(prices_nan.isna(), cbar=False, cmap=\"plasma\",yticklabels=False)\n",
    "plt.show()"
   ]
  },
  {
   "cell_type": "markdown",
   "metadata": {},
   "source": [
    "- forward fill for 1-10-2020\n",
    "- / consecutive missing values of trades can be removed. the stock was taken out\n",
    "- forward fill for missing values"
   ]
  },
  {
   "cell_type": "code",
   "execution_count": null,
   "metadata": {},
   "outputs": [],
   "source": [
    "prices_wo_nan = prices.query('Date != \"2020-10-01\" and Open == Open')"
   ]
  },
  {
   "cell_type": "code",
   "execution_count": null,
   "metadata": {},
   "outputs": [],
   "source": [
    "prices_wo_nan.isnull().sum().sort_values(ascending=False)"
   ]
  },
  {
   "cell_type": "markdown",
   "metadata": {},
   "source": [
    "### SupervisionFlag\n",
    "Flag of Securities Under Supervision & Securities to Be Delisted\n",
    "https://www.jpx.co.jp/english/listing/market-alerts/supervision/00-archives/index.html )\n",
    "\n",
    "\n",
    "If a stock is designated as Securities Under Supervision or Securities to Be Delisted during the private period, it will be excluded from investment after the date of designation"
   ]
  },
  {
   "cell_type": "code",
   "execution_count": null,
   "metadata": {},
   "outputs": [],
   "source": [
    "prices.head()"
   ]
  },
  {
   "cell_type": "code",
   "execution_count": null,
   "metadata": {},
   "outputs": [],
   "source": [
    "prices.SupervisionFlag.value_counts()"
   ]
  },
  {
   "cell_type": "code",
   "execution_count": null,
   "metadata": {},
   "outputs": [],
   "source": [
    "from functions import plot_stock\n",
    "w_flag = prices[(prices['SupervisionFlag']==True)]\n",
    "w_flag.shape\n"
   ]
  },
  {
   "cell_type": "code",
   "execution_count": null,
   "metadata": {},
   "outputs": [],
   "source": [
    "w_flag.head()"
   ]
  },
  {
   "cell_type": "code",
   "execution_count": null,
   "metadata": {},
   "outputs": [],
   "source": [
    "print(f'Securities codes with flag: {w_flag.SecuritiesCode.nunique()} ')\n",
    "print(f'Securities codes: {w_flag.SecuritiesCode.unique()} : ')"
   ]
  },
  {
   "cell_type": "code",
   "execution_count": null,
   "metadata": {},
   "outputs": [],
   "source": [
    "codes = w_flag.SecuritiesCode.unique()\n",
    "\n",
    "for code in codes[:3]:\n",
    "    plot_stock(prices, code)\n",
    "    plot_stock(w_flag, code)\n",
    "    plt.show()"
   ]
  },
  {
   "cell_type": "code",
   "execution_count": null,
   "metadata": {},
   "outputs": [],
   "source": [
    "date = w_flag.Date\n",
    "date_desc = date.describe(datetime_is_numeric=True)\n",
    "date_min = date_desc.loc['min']\n",
    "date_max = date_desc.loc['max']\n",
    "print('Data from {:%Y-%m-%d} to {:%Y-%m-%d}'\n",
    "        .format(date_min, date_max))\n",
    "print('Data observations {} '.format(\n",
    "                 date.nunique()))"
   ]
  },
  {
   "cell_type": "markdown",
   "metadata": {},
   "source": [
    "the flags are set for the whole period of time"
   ]
  },
  {
   "cell_type": "markdown",
   "metadata": {},
   "source": [
    "- how long has a stock a flag?"
   ]
  },
  {
   "cell_type": "code",
   "execution_count": null,
   "metadata": {},
   "outputs": [],
   "source": [
    "flag_day = {}\n",
    "for code in codes: \n",
    "    current = w_flag.query('SecuritiesCode == @ code')\n",
    "    date = current.Date\n",
    "    date_desc = date.describe(datetime_is_numeric=True)\n",
    "    date_min = date_desc.loc['min']\n",
    "    date_max = date_desc.loc['max']\n",
    "    flag_day[code] = [date_min, date_max, date.nunique()]\n"
   ]
  },
  {
   "cell_type": "code",
   "execution_count": null,
   "metadata": {},
   "outputs": [],
   "source": [
    "flag_stats = pd.DataFrame(flag_day).T\n",
    "flag_stats.columns = ['start_flag', 'end_flag', 'days_w_flag']\n",
    "flag_stats"
   ]
  },
  {
   "cell_type": "markdown",
   "metadata": {},
   "source": [
    "encode flag: "
   ]
  },
  {
   "cell_type": "code",
   "execution_count": null,
   "metadata": {},
   "outputs": [],
   "source": [
    "prices.head()"
   ]
  },
  {
   "cell_type": "code",
   "execution_count": null,
   "metadata": {},
   "outputs": [],
   "source": [
    "from sklearn.preprocessing import LabelEncoder\n",
    "enc = LabelEncoder()\n",
    "enc.fit(prices[\"SupervisionFlag\"])\n",
    "prices[\"SupervisionFlag\"]=enc.transform(prices[\"SupervisionFlag\"])"
   ]
  },
  {
   "cell_type": "code",
   "execution_count": null,
   "metadata": {},
   "outputs": [],
   "source": [
    "prices.SupervisionFlag.value_counts()"
   ]
  },
  {
   "cell_type": "markdown",
   "metadata": {},
   "source": [
    "### Target\n",
    "Change ratio of adjusted closing price between t+2 and t+1 where t+0 is TradeDate <br>\n",
    "r(k,t) = C(k, t+2) - C(k, t+1) / C(k, t+1)\n",
    "\n",
    "- adjusted stock price is used"
   ]
  },
  {
   "cell_type": "code",
   "execution_count": null,
   "metadata": {},
   "outputs": [],
   "source": [
    "sns.histplot(prices.Target, bins=800, )\n",
    "plt.xlim([-0.4, 0.4])"
   ]
  },
  {
   "cell_type": "markdown",
   "metadata": {},
   "source": [
    "target for a stock"
   ]
  },
  {
   "cell_type": "code",
   "execution_count": null,
   "metadata": {},
   "outputs": [],
   "source": [
    "def plot_target(df, Code):\n",
    "    single_stock = df.query('SecuritiesCode==@Code')\n",
    "    plt.figure(figsize=(20,5))\n",
    "    sns.lineplot(data=single_stock, y='Close', x='Date')\n",
    "    ax2 = plt.twinx()\n",
    "    sns.lineplot(data=single_stock, y='Target', x='Date', color='red')  "
   ]
  },
  {
   "cell_type": "code",
   "execution_count": null,
   "metadata": {},
   "outputs": [],
   "source": [
    "for i in [8876, 6630, 2761, 2753]:\n",
    "    plot_target(prices, i)"
   ]
  },
  {
   "cell_type": "markdown",
   "metadata": {},
   "source": [
    "#### - Rank\n",
    "for each day"
   ]
  },
  {
   "cell_type": "code",
   "execution_count": null,
   "metadata": {},
   "outputs": [],
   "source": [
    "prices.Date.nunique()"
   ]
  },
  {
   "cell_type": "code",
   "execution_count": null,
   "metadata": {},
   "outputs": [],
   "source": [
    "prices_rank = pd.DataFrame(columns = prices.columns)"
   ]
  },
  {
   "cell_type": "code",
   "execution_count": null,
   "metadata": {},
   "outputs": [],
   "source": [
    "# only one day\n",
    "def calculate_rank(df, day):\n",
    "    df = prices[(prices['Date']== day)]\n",
    "    df.loc[:, 'Rank'] = df['Target'].rank(ascending=False, method='first') - 1\n",
    "    \n",
    "    return df\n",
    "\n",
    "\n",
    "\n",
    "df = calculate_rank(prices, prices.Date.unique()[0])\n",
    "one_day_rank = pd.concat([prices_rank, df], axis=0)\n",
    "\n"
   ]
  },
  {
   "cell_type": "code",
   "execution_count": null,
   "metadata": {},
   "outputs": [],
   "source": [
    "def daily_spread_return(df, day):\n",
    "    # calculate rank \n",
    "    df = prices[(prices['Date']== day)]\n",
    "    df.loc[:, 'Rank'] = df['Target'].rank(ascending=False, method='first') - 1\n",
    "\n",
    "    # calculate weights and weighted_target\n",
    "    weights = np.linspace(start = 2, stop=1, num=200)\n",
    "\n",
    "    # sum_up\n",
    "    top200 = df.sort_values('Rank').iloc[:200,:]\n",
    "    top200['Weights'] = weights\n",
    "    top200['weigh_Target'] = top200['Target'] * top200['Weights']\n",
    "    sum_up = top200['weigh_Target'].sum()/top200['Weights'].mean()\n",
    "\n",
    "    # sum_down\n",
    "    bottom200 = one_day_rank.sort_values('Rank').iloc[-200:,:].sort_values('Rank', ascending=False)\n",
    "    bottom200['Weights'] = np.linspace(start = 2, stop=1, num=200)\n",
    "    bottom200['weigh_Target'] = bottom200['Target'] * bottom200['Weights']\n",
    "    sum_down = bottom200['weigh_Target'].sum()/bottom200['Weights'].mean()\n",
    "\n",
    "    # return daily_spread return\n",
    "    return  df.SecuritiesCode.nunique(), sum_up - sum_down"
   ]
  },
  {
   "cell_type": "code",
   "execution_count": null,
   "metadata": {},
   "outputs": [],
   "source": [
    "stocks_per_day = {}\n",
    "\n",
    "def calculate_rank(df, day):\n",
    "    df = prices[(prices['Date']== day)]\n",
    "    df.loc[:, 'Rank'] = df['Target'].rank(ascending=False, method='first') - 1\n",
    "    \n",
    "    return df\n",
    "\n",
    "prices_rank = pd.DataFrame(columns = prices.columns)\n",
    "\n",
    "for day in tqdm(prices.Date.unique()):\n",
    "    stocks, dsr = daily_spread_return(prices, day)\n",
    "    stocks_per_day[day] = [stocks, dsr]"
   ]
  },
  {
   "cell_type": "code",
   "execution_count": null,
   "metadata": {},
   "outputs": [],
   "source": [
    "stocks_day = pd.DataFrame(stocks_per_day).T\n",
    "stocks_day.columns = ['SecuritiesCode_s', 'daily_spread_return']\n",
    "stocks_day"
   ]
  },
  {
   "cell_type": "code",
   "execution_count": null,
   "metadata": {},
   "outputs": [],
   "source": [
    "stocks_day.nunique()"
   ]
  },
  {
   "cell_type": "code",
   "execution_count": null,
   "metadata": {},
   "outputs": [],
   "source": []
  },
  {
   "cell_type": "markdown",
   "metadata": {},
   "source": [
    "- best and worst ranks are weighted with 1-2  [link](https://www.kaggle.com/code/smeitoma/jpx-competition-metric-definition)"
   ]
  },
  {
   "cell_type": "code",
   "execution_count": null,
   "metadata": {},
   "outputs": [],
   "source": []
  },
  {
   "cell_type": "markdown",
   "metadata": {},
   "source": [
    "## Trades"
   ]
  },
  {
   "cell_type": "code",
   "execution_count": null,
   "metadata": {},
   "outputs": [],
   "source": [
    "trades = pd.read_csv('data/train_files/trades.csv')\n",
    "trades.shape\n",
    "trades.head(2)"
   ]
  },
  {
   "cell_type": "code",
   "execution_count": null,
   "metadata": {},
   "outputs": [],
   "source": [
    "trades.shape"
   ]
  },
  {
   "cell_type": "markdown",
   "metadata": {},
   "source": [
    "only  nan values?"
   ]
  },
  {
   "cell_type": "markdown",
   "metadata": {},
   "source": [
    "# Features engineering"
   ]
  },
  {
   "cell_type": "markdown",
   "metadata": {},
   "source": [
    "## 1. fill nan values "
   ]
  },
  {
   "cell_type": "markdown",
   "metadata": {},
   "source": [
    "## 2. Adjusted prices\n",
    "to calculate theoretical price/volume when split/reverse-split happens (NOT including dividend/allotment of shares/)"
   ]
  },
  {
   "cell_type": "code",
   "execution_count": null,
   "metadata": {},
   "outputs": [],
   "source": [
    "prices.AdjustmentFactor.unique()"
   ]
  },
  {
   "cell_type": "markdown",
   "metadata": {},
   "source": [
    "- amount of stocks for each adjustment factor"
   ]
  },
  {
   "cell_type": "code",
   "execution_count": null,
   "metadata": {},
   "outputs": [],
   "source": [
    "\n",
    "for i in sorted(prices.AdjustmentFactor.unique()):\n",
    "    print( 'adjustment factor = {}   \\t:  {} trades'.format(\n",
    "        round(i,2), prices[(prices['AdjustmentFactor']==i)].Date.count()\n",
    "    ))\n",
    "   "
   ]
  },
  {
   "cell_type": "code",
   "execution_count": null,
   "metadata": {},
   "outputs": [],
   "source": [
    "def adjust_price(df):\n",
    "    # cumulative adjustment factor considering the day shift\n",
    "    df.sort_values('Date')\n",
    "    df.loc[:,'CAF'] = df['AdjustmentFactor'].cumprod().shift(1)\n",
    "    # fill nan values\n",
    "    df.CAF.fillna(1, inplace=True)\n",
    "    # prices to be adjusted\n",
    "    prices =[ 'Open', 'High', 'Low', 'Close']\n",
    "\n",
    "    for x in prices:\n",
    "        df.loc[:,'ad_' + str(x)]  = df[x] / df['CAF']\n",
    "    \n",
    "    # adjust volume\n",
    "    df['ad_Volume'] = df['Volume'] * df['CAF']\n",
    "    df.drop('CAF', axis=1, inplace=True)\n",
    "\n",
    "     # adjust target\n",
    "    df.sort_values('Date')\n",
    "    df['ad_Close_1'] = df['ad_Close'].shift(-1)\n",
    "    df['ad_Close_2'] = df['ad_Close'].shift(-2)\n",
    "    df['ad_Target'] = (df['ad_Close_2']-df['ad_Close_1'])/df['ad_Close_1']\n",
    "    df.drop(['ad_Close_1', 'ad_Close_2'], axis=1, inplace=True)\n",
    "\n",
    "    return df"
   ]
  },
  {
   "cell_type": "code",
   "execution_count": null,
   "metadata": {},
   "outputs": [],
   "source": [
    "# create an empty new DataFrame\n",
    "adjusted_data = pd.DataFrame(columns = prices.columns)\n",
    "\n",
    "for i in tqdm([8876, 6630, 7453, 7638]): #tqdm(prices.SecuritiesCode.unique()):\n",
    "    df = prices.query('SecuritiesCode ==@i')\n",
    "    adjusted_df = adjust_price(df)\n",
    "    adjusted_data = pd.concat([adjusted_data, adjusted_df ], axis=0)"
   ]
  },
  {
   "cell_type": "code",
   "execution_count": null,
   "metadata": {},
   "outputs": [],
   "source": [
    "def plot_stock(df, Code):\n",
    "    single_stock = df.query('SecuritiesCode==@Code')\n",
    "    plt.figure(figsize=(20,5))\n",
    "    sns.lineplot(data=single_stock, y='Close', x='Date')\n",
    "    ax2 = plt.twinx()\n",
    "    sns.lineplot(data=single_stock, y='ad_Close', x='Date', color='red')\n"
   ]
  },
  {
   "cell_type": "code",
   "execution_count": null,
   "metadata": {},
   "outputs": [],
   "source": [
    "for i in [8876, 6630, 7453, 7638]:\n",
    "    plot_stock(adjusted_data, i)"
   ]
  },
  {
   "cell_type": "markdown",
   "metadata": {},
   "source": [
    "data/train_files/stock_prices_ad.csvthe adjusted value was calculated with process_adjusted_price.py and save in : "
   ]
  },
  {
   "cell_type": "code",
   "execution_count": null,
   "metadata": {},
   "outputs": [],
   "source": [
    "adjusted_data = pd.read_csv('data/train_files/stock_prices_ad.csv', parse_dates=[2], index_col=0)\n",
    "adjusted_data.head(2)"
   ]
  },
  {
   "cell_type": "code",
   "execution_count": null,
   "metadata": {},
   "outputs": [],
   "source": [
    "def plot_stock(df, Code):\n",
    "    df = df.query('SecuritiesCode==@Code')\n",
    "    plt.figure(figsize=(20,5))\n",
    "    sns.lineplot(data=df, y='Target', x='Date')\n",
    "    sns.lineplot(data=df, y='ad_Target', x='Date', color = 'red')\n",
    "    ax2 = plt.twinx()\n",
    "    sns.lineplot(data=df, y='Close', x='Date')\n",
    "\n"
   ]
  },
  {
   "cell_type": "markdown",
   "metadata": {},
   "source": [
    "## 5. Close, Open, High and Low price lag 1\n"
   ]
  },
  {
   "cell_type": "code",
   "execution_count": null,
   "metadata": {},
   "outputs": [],
   "source": [
    "df.columns"
   ]
  },
  {
   "cell_type": "code",
   "execution_count": null,
   "metadata": {},
   "outputs": [],
   "source": [
    "\n",
    "\n",
    "features = ['ad_Close', 'ad_Open', 'ad_High' , 'ad_Low', 'ad_Volume']\n",
    "new_features = [x + \"_lag1\" for x in features]\n",
    "\n",
    "feat_data = pd.DataFrame(columns = adjusted_data.columns)\n",
    "\n",
    "def feature_lag(df, features, lag=1):\n",
    "    for feat in features:\n",
    "        name = feat + \"_lag\" +str(lag)\n",
    "        df[name] = df[str(feat)].shift(lag)\n",
    "        #new_features.append(name)\n",
    "    return df\n",
    "\n",
    "\n",
    "df = adjusted_data.query('SecuritiesCode ==@i')\n",
    "df = feature_lag(df, features)\n",
    "\n"
   ]
  },
  {
   "cell_type": "code",
   "execution_count": null,
   "metadata": {},
   "outputs": [],
   "source": [
    "df[new_features + features].head()"
   ]
  },
  {
   "cell_type": "markdown",
   "metadata": {},
   "source": [
    "## 3. RSI"
   ]
  },
  {
   "cell_type": "code",
   "execution_count": null,
   "metadata": {},
   "outputs": [],
   "source": [
    "def rsi (df_serie,periods = 14, ema = True): \n",
    "    \"\"\"Relative Strength Index\n",
    "        RSI = 100–(100/1 + RS) ; RS = Av Gain / Av loss\n",
    "    Args:\n",
    "        df_serie (_type_): series of ad_Close\n",
    "        periods (int, optional): 5,7,9,14,21,30 Defaults to 14.\n",
    "        ema (bool, optional): _description_. Defaults to True.\n",
    "\n",
    "    Returns:\n",
    "        pd.Series: _description_\n",
    "    \"\"\"\n",
    "        \n",
    "    close_delta = df_serie.diff() # .dropna()\n",
    "\n",
    "    # Make two series: one for lower closes and one for higher closes\n",
    "    up = close_delta.clip(lower=0)\n",
    "    down = -1 * close_delta.clip(upper=0)\n",
    "\n",
    "    if ema == True: # exponential moving average\n",
    "        ma_up = up.ewm(com= periods - 1, adjust=True, min_periods = periods).mean()\n",
    "        ma_down = down.ewm(com = periods - 1, adjust=True, min_periods = periods).mean()\n",
    "        \n",
    "    else: # using moving average\n",
    "        ma_up = up.rolling(window = periods, adjust=False).mean()\n",
    "        ma_down = down.ewm(window = periods, adjust=False).mean()\n",
    "        \n",
    "    rs = ma_up / ma_down\n",
    "    rsi = 100 - (100 / (1+rs))\n",
    "\n",
    "    return rsi"
   ]
  },
  {
   "cell_type": "code",
   "execution_count": null,
   "metadata": {},
   "outputs": [],
   "source": [
    "from functions import df_security_code\n",
    "\n",
    "df = df_security_code(adjusted_data,8194 )\n",
    "df['RSI'] = rsi(df['ad_Close'])"
   ]
  },
  {
   "cell_type": "code",
   "execution_count": null,
   "metadata": {},
   "outputs": [],
   "source": [
    "from functions import plot_stock\n",
    "\n",
    "plt.figure(figsize=(20,5))\n",
    "plot_stock(df, 8194 ,'RSI')\n",
    "ax2 = plt.twinx()\n",
    "plot_stock(df, 8194 ,'ad_Close', color='red')"
   ]
  },
  {
   "cell_type": "markdown",
   "metadata": {},
   "source": [
    "## 4. Return"
   ]
  },
  {
   "cell_type": "code",
   "execution_count": null,
   "metadata": {},
   "outputs": [],
   "source": [
    "df['Return'] = df['ad_Close'].pct_change()\n",
    "# adjusted_data['Return_m'] = adjusted_data['ad_Close'].resample('M').ffill().pct_change()\n"
   ]
  },
  {
   "cell_type": "code",
   "execution_count": null,
   "metadata": {},
   "outputs": [],
   "source": [
    "plot_stock(df, 8194, 'Return')"
   ]
  },
  {
   "cell_type": "code",
   "execution_count": null,
   "metadata": {},
   "outputs": [],
   "source": [
    "# cumulative\n",
    "df['cum_Return'] = (df['Return'] + 1).cumprod()\n",
    "plot_stock(df, 8194, 'cum_Return')"
   ]
  },
  {
   "cell_type": "markdown",
   "metadata": {},
   "source": [
    "## 5. Simple moving average\n",
    "\n",
    "\n",
    "\n"
   ]
  },
  {
   "cell_type": "code",
   "execution_count": null,
   "metadata": {},
   "outputs": [],
   "source": [
    "# ussualy period 10 or 5\n",
    "# setting for all prices\n",
    "\n",
    "\n",
    "\n",
    "features = ['ad_Close', 'ad_Open', 'ad_High' , 'ad_Low', 'ad_Volume']\n",
    "new_features = [x + \"_sma10\" for x in features]\n",
    "\n",
    "feat_data = pd.DataFrame(columns = adjusted_data.columns)\n",
    "\n",
    "def SMA(df, features, period=10):\n",
    "    for feat in features:\n",
    "        name = feat + \"_sma\" + str(period)\n",
    "        df[name] = df[feat].rolling(window=period).mean()  # only for close or for all values?\n",
    "        #new_features.append(name)\n",
    "    return df\n",
    "\n",
    "\n",
    "df = adjusted_data.query('SecuritiesCode == 8194')\n",
    "df = SMA(df, features)"
   ]
  },
  {
   "cell_type": "code",
   "execution_count": null,
   "metadata": {},
   "outputs": [],
   "source": [
    "df[features +  new_features].head(20)"
   ]
  },
  {
   "cell_type": "markdown",
   "metadata": {},
   "source": [
    "## 6. MACD : The Moving Average Convergence Divergence \n",
    "\n"
   ]
  },
  {
   "cell_type": "code",
   "execution_count": null,
   "metadata": {},
   "outputs": [],
   "source": [
    "\n",
    "def macd(df):\n",
    "    ema26 = df['ad_Close'].ewm(span=26, adjust=False, min_periods=26).mean()\n",
    "    ema12 = df['ad_Close'].ewm(span=12, adjust=False, min_periods=12).mean()\n",
    "\n",
    "    macd = ema12 - ema26\n",
    "\n",
    "    # Get the 9-Day EMA of the MACD for the Trigger line\n",
    "\n",
    "    macd_ema9 = macd.ewm(span=9, adjust=False, min_periods=9).mean()\n",
    "\n",
    "    # calculate the difference\n",
    "    macd_diff = macd - macd_ema9\n",
    "\n",
    "    df['macd'] = df.index.map(macd)\n",
    "    df['macd_h'] = df.index.map(macd_diff)\n",
    "    df['macd_s'] = df.index.map(macd_ema9)\n",
    "\n",
    "    return df"
   ]
  },
  {
   "cell_type": "code",
   "execution_count": null,
   "metadata": {},
   "outputs": [],
   "source": [
    "df = adjusted_data.query('SecuritiesCode == 8194')\n",
    "df = macd(df)"
   ]
  },
  {
   "cell_type": "code",
   "execution_count": null,
   "metadata": {},
   "outputs": [],
   "source": [
    "df.tail()"
   ]
  },
  {
   "cell_type": "code",
   "execution_count": null,
   "metadata": {},
   "outputs": [],
   "source": [
    "\n",
    "plot_stock(df, 8194, 'ad_Close', color='red')\n",
    "plot_stock(df, 8194, 'macd')"
   ]
  },
  {
   "cell_type": "markdown",
   "metadata": {},
   "source": [
    "## 7. Volatility"
   ]
  },
  {
   "cell_type": "markdown",
   "metadata": {},
   "source": [
    "a value for a period of time. \n",
    "ffill\n"
   ]
  },
  {
   "cell_type": "markdown",
   "metadata": {},
   "source": [
    "## 8. SPI ? SPY current daily return "
   ]
  },
  {
   "cell_type": "markdown",
   "metadata": {},
   "source": [
    "# Preprocessing"
   ]
  },
  {
   "cell_type": "markdown",
   "metadata": {},
   "source": [
    "## 1. Normalization"
   ]
  },
  {
   "cell_type": "code",
   "execution_count": null,
   "metadata": {},
   "outputs": [],
   "source": [
    "import logging\n",
    "logging.basicConfig(level=logging.DEBUG)\n",
    "for i in range(10):\n",
    "    if i %2:logging.debug(f'{i}This will get logged')\n",
    "\n"
   ]
  }
 ],
 "metadata": {
  "interpreter": {
   "hash": "8e59dc4903522b6bd625aac9b906fbe96a3134871878cc11f65b8580a1e47af4"
  },
  "kernelspec": {
   "display_name": "Python 3.9.4 ('.venv': venv)",
   "language": "python",
   "name": "python3"
  },
  "language_info": {
   "codemirror_mode": {
    "name": "ipython",
    "version": 3
   },
   "file_extension": ".py",
   "mimetype": "text/x-python",
   "name": "python",
   "nbconvert_exporter": "python",
   "pygments_lexer": "ipython3",
   "version": "3.9.4"
  },
  "orig_nbformat": 4
 },
 "nbformat": 4,
 "nbformat_minor": 2
}
