{
 "cells": [
  {
   "cell_type": "code",
   "execution_count": 7,
   "metadata": {},
   "outputs": [],
   "source": [
    "import pandas as pd\n",
    "import matplotlib.pyplot as plt\n",
    "import seaborn as sns\n",
    "import numpy as np\n",
    "\n",
    "from datetime import datetime, timedelta\n",
    "from tqdm import tqdm\n",
    "\n",
    "import warnings\n",
    "warnings.filterwarnings(\"ignore\")"
   ]
  },
  {
   "cell_type": "markdown",
   "metadata": {},
   "source": [
    "## Data"
   ]
  },
  {
   "cell_type": "code",
   "execution_count": 8,
   "metadata": {},
   "outputs": [],
   "source": [
    "financial = pd.read_csv('data/train_files/financials.csv')"
   ]
  },
  {
   "cell_type": "code",
   "execution_count": 9,
   "metadata": {},
   "outputs": [
    {
     "data": {
      "text/html": [
       "<div>\n",
       "<style scoped>\n",
       "    .dataframe tbody tr th:only-of-type {\n",
       "        vertical-align: middle;\n",
       "    }\n",
       "\n",
       "    .dataframe tbody tr th {\n",
       "        vertical-align: top;\n",
       "    }\n",
       "\n",
       "    .dataframe thead th {\n",
       "        text-align: right;\n",
       "    }\n",
       "</style>\n",
       "<table border=\"1\" class=\"dataframe\">\n",
       "  <thead>\n",
       "    <tr style=\"text-align: right;\">\n",
       "      <th></th>\n",
       "      <th>DisclosureNumber</th>\n",
       "      <th>DateCode</th>\n",
       "      <th>Date</th>\n",
       "      <th>SecuritiesCode</th>\n",
       "      <th>DisclosedDate</th>\n",
       "      <th>DisclosedTime</th>\n",
       "      <th>DisclosedUnixTime</th>\n",
       "      <th>TypeOfDocument</th>\n",
       "      <th>CurrentPeriodEndDate</th>\n",
       "      <th>TypeOfCurrentPeriod</th>\n",
       "      <th>...</th>\n",
       "      <th>ForecastEarningsPerShare</th>\n",
       "      <th>ApplyingOfSpecificAccountingOfTheQuarterlyFinancialStatements</th>\n",
       "      <th>MaterialChangesInSubsidiaries</th>\n",
       "      <th>ChangesBasedOnRevisionsOfAccountingStandard</th>\n",
       "      <th>ChangesOtherThanOnesBasedOnRevisionsOfAccountingStandard</th>\n",
       "      <th>ChangesInAccountingEstimates</th>\n",
       "      <th>RetrospectiveRestatement</th>\n",
       "      <th>NumberOfIssuedAndOutstandingSharesAtTheEndOfFiscalYearIncludingTreasuryStock</th>\n",
       "      <th>NumberOfTreasuryStockAtTheEndOfFiscalYear</th>\n",
       "      <th>AverageNumberOfShares</th>\n",
       "    </tr>\n",
       "  </thead>\n",
       "  <tbody>\n",
       "    <tr>\n",
       "      <th>0</th>\n",
       "      <td>2.016121e+13</td>\n",
       "      <td>20170104_2753</td>\n",
       "      <td>2017-01-04</td>\n",
       "      <td>2753.0</td>\n",
       "      <td>2017-01-04</td>\n",
       "      <td>07:30:00</td>\n",
       "      <td>1.483483e+09</td>\n",
       "      <td>3QFinancialStatements_Consolidated_JP</td>\n",
       "      <td>2016-12-31</td>\n",
       "      <td>3Q</td>\n",
       "      <td>...</td>\n",
       "      <td>319.76</td>\n",
       "      <td>NaN</td>\n",
       "      <td>False</td>\n",
       "      <td>True</td>\n",
       "      <td>False</td>\n",
       "      <td>False</td>\n",
       "      <td>False</td>\n",
       "      <td>6848800.0</td>\n",
       "      <td>－</td>\n",
       "      <td>6848800.0</td>\n",
       "    </tr>\n",
       "    <tr>\n",
       "      <th>1</th>\n",
       "      <td>2.017010e+13</td>\n",
       "      <td>20170104_3353</td>\n",
       "      <td>2017-01-04</td>\n",
       "      <td>3353.0</td>\n",
       "      <td>2017-01-04</td>\n",
       "      <td>15:00:00</td>\n",
       "      <td>1.483510e+09</td>\n",
       "      <td>3QFinancialStatements_Consolidated_JP</td>\n",
       "      <td>2016-11-30</td>\n",
       "      <td>3Q</td>\n",
       "      <td>...</td>\n",
       "      <td>485.36</td>\n",
       "      <td>NaN</td>\n",
       "      <td>False</td>\n",
       "      <td>True</td>\n",
       "      <td>False</td>\n",
       "      <td>False</td>\n",
       "      <td>False</td>\n",
       "      <td>2035000.0</td>\n",
       "      <td>118917</td>\n",
       "      <td>1916083.0</td>\n",
       "    </tr>\n",
       "  </tbody>\n",
       "</table>\n",
       "<p>2 rows × 45 columns</p>\n",
       "</div>"
      ],
      "text/plain": [
       "   DisclosureNumber       DateCode        Date  SecuritiesCode DisclosedDate  \\\n",
       "0      2.016121e+13  20170104_2753  2017-01-04          2753.0    2017-01-04   \n",
       "1      2.017010e+13  20170104_3353  2017-01-04          3353.0    2017-01-04   \n",
       "\n",
       "  DisclosedTime  DisclosedUnixTime                         TypeOfDocument  \\\n",
       "0      07:30:00       1.483483e+09  3QFinancialStatements_Consolidated_JP   \n",
       "1      15:00:00       1.483510e+09  3QFinancialStatements_Consolidated_JP   \n",
       "\n",
       "  CurrentPeriodEndDate TypeOfCurrentPeriod  ... ForecastEarningsPerShare  \\\n",
       "0           2016-12-31                  3Q  ...                   319.76   \n",
       "1           2016-11-30                  3Q  ...                   485.36   \n",
       "\n",
       "  ApplyingOfSpecificAccountingOfTheQuarterlyFinancialStatements  \\\n",
       "0                                                NaN              \n",
       "1                                                NaN              \n",
       "\n",
       "  MaterialChangesInSubsidiaries ChangesBasedOnRevisionsOfAccountingStandard  \\\n",
       "0                         False                                        True   \n",
       "1                         False                                        True   \n",
       "\n",
       "  ChangesOtherThanOnesBasedOnRevisionsOfAccountingStandard  \\\n",
       "0                                              False         \n",
       "1                                              False         \n",
       "\n",
       "  ChangesInAccountingEstimates RetrospectiveRestatement  \\\n",
       "0                        False                    False   \n",
       "1                        False                    False   \n",
       "\n",
       "  NumberOfIssuedAndOutstandingSharesAtTheEndOfFiscalYearIncludingTreasuryStock  \\\n",
       "0                                          6848800.0                             \n",
       "1                                          2035000.0                             \n",
       "\n",
       "  NumberOfTreasuryStockAtTheEndOfFiscalYear AverageNumberOfShares  \n",
       "0                                         －             6848800.0  \n",
       "1                                    118917             1916083.0  \n",
       "\n",
       "[2 rows x 45 columns]"
      ]
     },
     "execution_count": 9,
     "metadata": {},
     "output_type": "execute_result"
    }
   ],
   "source": [
    "financial.head(2)"
   ]
  },
  {
   "cell_type": "code",
   "execution_count": 10,
   "metadata": {},
   "outputs": [
    {
     "data": {
      "text/html": [
       "<div>\n",
       "<style scoped>\n",
       "    .dataframe tbody tr th:only-of-type {\n",
       "        vertical-align: middle;\n",
       "    }\n",
       "\n",
       "    .dataframe tbody tr th {\n",
       "        vertical-align: top;\n",
       "    }\n",
       "\n",
       "    .dataframe thead th {\n",
       "        text-align: right;\n",
       "    }\n",
       "</style>\n",
       "<table border=\"1\" class=\"dataframe\">\n",
       "  <thead>\n",
       "    <tr style=\"text-align: right;\">\n",
       "      <th></th>\n",
       "      <th>DisclosureNumber</th>\n",
       "      <th>DateCode</th>\n",
       "      <th>Date</th>\n",
       "      <th>SecuritiesCode</th>\n",
       "      <th>DisclosedDate</th>\n",
       "      <th>DisclosedTime</th>\n",
       "      <th>DisclosedUnixTime</th>\n",
       "      <th>TypeOfDocument</th>\n",
       "      <th>CurrentPeriodEndDate</th>\n",
       "      <th>TypeOfCurrentPeriod</th>\n",
       "      <th>...</th>\n",
       "      <th>ForecastEarningsPerShare</th>\n",
       "      <th>ApplyingOfSpecificAccountingOfTheQuarterlyFinancialStatements</th>\n",
       "      <th>MaterialChangesInSubsidiaries</th>\n",
       "      <th>ChangesBasedOnRevisionsOfAccountingStandard</th>\n",
       "      <th>ChangesOtherThanOnesBasedOnRevisionsOfAccountingStandard</th>\n",
       "      <th>ChangesInAccountingEstimates</th>\n",
       "      <th>RetrospectiveRestatement</th>\n",
       "      <th>NumberOfIssuedAndOutstandingSharesAtTheEndOfFiscalYearIncludingTreasuryStock</th>\n",
       "      <th>NumberOfTreasuryStockAtTheEndOfFiscalYear</th>\n",
       "      <th>AverageNumberOfShares</th>\n",
       "    </tr>\n",
       "  </thead>\n",
       "  <tbody>\n",
       "    <tr>\n",
       "      <th>69236</th>\n",
       "      <td>2.020093e+13</td>\n",
       "      <td>20201002_2761</td>\n",
       "      <td>2020-10-02</td>\n",
       "      <td>2761.0</td>\n",
       "      <td>2020-10-02</td>\n",
       "      <td>11:00:00</td>\n",
       "      <td>1.601604e+09</td>\n",
       "      <td>1QFinancialStatements_Consolidated_JP</td>\n",
       "      <td>2020-08-20</td>\n",
       "      <td>1Q</td>\n",
       "      <td>...</td>\n",
       "      <td>211.22</td>\n",
       "      <td>NaN</td>\n",
       "      <td>False</td>\n",
       "      <td>False</td>\n",
       "      <td>False</td>\n",
       "      <td>False</td>\n",
       "      <td>False</td>\n",
       "      <td>11405400.0</td>\n",
       "      <td>3451825</td>\n",
       "      <td>7953575</td>\n",
       "    </tr>\n",
       "    <tr>\n",
       "      <th>74109</th>\n",
       "      <td>2.020113e+13</td>\n",
       "      <td>20201228_2761</td>\n",
       "      <td>2020-12-28</td>\n",
       "      <td>2761.0</td>\n",
       "      <td>2020-12-28</td>\n",
       "      <td>11:00:00</td>\n",
       "      <td>1.609121e+09</td>\n",
       "      <td>2QFinancialStatements_Consolidated_JP</td>\n",
       "      <td>2020-11-20</td>\n",
       "      <td>2Q</td>\n",
       "      <td>...</td>\n",
       "      <td>211.22</td>\n",
       "      <td>NaN</td>\n",
       "      <td>False</td>\n",
       "      <td>False</td>\n",
       "      <td>False</td>\n",
       "      <td>False</td>\n",
       "      <td>False</td>\n",
       "      <td>11405400.0</td>\n",
       "      <td>3453425</td>\n",
       "      <td>7953018</td>\n",
       "    </tr>\n",
       "    <tr>\n",
       "      <th>79003</th>\n",
       "      <td>2.021031e+13</td>\n",
       "      <td>20210331_2761</td>\n",
       "      <td>2021-03-31</td>\n",
       "      <td>2761.0</td>\n",
       "      <td>2021-03-31</td>\n",
       "      <td>11:00:00</td>\n",
       "      <td>1.617156e+09</td>\n",
       "      <td>3QFinancialStatements_Consolidated_JP</td>\n",
       "      <td>2021-02-20</td>\n",
       "      <td>3Q</td>\n",
       "      <td>...</td>\n",
       "      <td>211.22</td>\n",
       "      <td>NaN</td>\n",
       "      <td>False</td>\n",
       "      <td>False</td>\n",
       "      <td>False</td>\n",
       "      <td>False</td>\n",
       "      <td>False</td>\n",
       "      <td>11405400.0</td>\n",
       "      <td>3453425</td>\n",
       "      <td>7952673</td>\n",
       "    </tr>\n",
       "    <tr>\n",
       "      <th>84011</th>\n",
       "      <td>2.021062e+13</td>\n",
       "      <td>20210702_2761</td>\n",
       "      <td>2021-07-02</td>\n",
       "      <td>2761.0</td>\n",
       "      <td>2021-07-02</td>\n",
       "      <td>11:00:00</td>\n",
       "      <td>1.625191e+09</td>\n",
       "      <td>FYFinancialStatements_Consolidated_JP</td>\n",
       "      <td>2021-05-20</td>\n",
       "      <td>FY</td>\n",
       "      <td>...</td>\n",
       "      <td>193.72</td>\n",
       "      <td>NaN</td>\n",
       "      <td>False</td>\n",
       "      <td>False</td>\n",
       "      <td>False</td>\n",
       "      <td>False</td>\n",
       "      <td>False</td>\n",
       "      <td>11405400.0</td>\n",
       "      <td>3453425</td>\n",
       "      <td>7952501.0</td>\n",
       "    </tr>\n",
       "    <tr>\n",
       "      <th>88535</th>\n",
       "      <td>2.021092e+13</td>\n",
       "      <td>20211001_2761</td>\n",
       "      <td>2021-10-01</td>\n",
       "      <td>2761.0</td>\n",
       "      <td>2021-10-01</td>\n",
       "      <td>11:00:00</td>\n",
       "      <td>1.633054e+09</td>\n",
       "      <td>1QFinancialStatements_Consolidated_JP</td>\n",
       "      <td>2021-08-20</td>\n",
       "      <td>1Q</td>\n",
       "      <td>...</td>\n",
       "      <td>193.72</td>\n",
       "      <td>NaN</td>\n",
       "      <td>False</td>\n",
       "      <td>True</td>\n",
       "      <td>False</td>\n",
       "      <td>False</td>\n",
       "      <td>False</td>\n",
       "      <td>11405400.0</td>\n",
       "      <td>3457125</td>\n",
       "      <td>7950035.0</td>\n",
       "    </tr>\n",
       "  </tbody>\n",
       "</table>\n",
       "<p>5 rows × 45 columns</p>\n",
       "</div>"
      ],
      "text/plain": [
       "       DisclosureNumber       DateCode        Date  SecuritiesCode  \\\n",
       "69236      2.020093e+13  20201002_2761  2020-10-02          2761.0   \n",
       "74109      2.020113e+13  20201228_2761  2020-12-28          2761.0   \n",
       "79003      2.021031e+13  20210331_2761  2021-03-31          2761.0   \n",
       "84011      2.021062e+13  20210702_2761  2021-07-02          2761.0   \n",
       "88535      2.021092e+13  20211001_2761  2021-10-01          2761.0   \n",
       "\n",
       "      DisclosedDate DisclosedTime  DisclosedUnixTime  \\\n",
       "69236    2020-10-02      11:00:00       1.601604e+09   \n",
       "74109    2020-12-28      11:00:00       1.609121e+09   \n",
       "79003    2021-03-31      11:00:00       1.617156e+09   \n",
       "84011    2021-07-02      11:00:00       1.625191e+09   \n",
       "88535    2021-10-01      11:00:00       1.633054e+09   \n",
       "\n",
       "                              TypeOfDocument CurrentPeriodEndDate  \\\n",
       "69236  1QFinancialStatements_Consolidated_JP           2020-08-20   \n",
       "74109  2QFinancialStatements_Consolidated_JP           2020-11-20   \n",
       "79003  3QFinancialStatements_Consolidated_JP           2021-02-20   \n",
       "84011  FYFinancialStatements_Consolidated_JP           2021-05-20   \n",
       "88535  1QFinancialStatements_Consolidated_JP           2021-08-20   \n",
       "\n",
       "      TypeOfCurrentPeriod  ... ForecastEarningsPerShare  \\\n",
       "69236                  1Q  ...                   211.22   \n",
       "74109                  2Q  ...                   211.22   \n",
       "79003                  3Q  ...                   211.22   \n",
       "84011                  FY  ...                   193.72   \n",
       "88535                  1Q  ...                   193.72   \n",
       "\n",
       "      ApplyingOfSpecificAccountingOfTheQuarterlyFinancialStatements  \\\n",
       "69236                                                NaN              \n",
       "74109                                                NaN              \n",
       "79003                                                NaN              \n",
       "84011                                                NaN              \n",
       "88535                                                NaN              \n",
       "\n",
       "      MaterialChangesInSubsidiaries  \\\n",
       "69236                         False   \n",
       "74109                         False   \n",
       "79003                         False   \n",
       "84011                         False   \n",
       "88535                         False   \n",
       "\n",
       "      ChangesBasedOnRevisionsOfAccountingStandard  \\\n",
       "69236                                       False   \n",
       "74109                                       False   \n",
       "79003                                       False   \n",
       "84011                                       False   \n",
       "88535                                        True   \n",
       "\n",
       "      ChangesOtherThanOnesBasedOnRevisionsOfAccountingStandard  \\\n",
       "69236                                              False         \n",
       "74109                                              False         \n",
       "79003                                              False         \n",
       "84011                                              False         \n",
       "88535                                              False         \n",
       "\n",
       "      ChangesInAccountingEstimates RetrospectiveRestatement  \\\n",
       "69236                        False                    False   \n",
       "74109                        False                    False   \n",
       "79003                        False                    False   \n",
       "84011                        False                    False   \n",
       "88535                        False                    False   \n",
       "\n",
       "      NumberOfIssuedAndOutstandingSharesAtTheEndOfFiscalYearIncludingTreasuryStock  \\\n",
       "69236                                         11405400.0                             \n",
       "74109                                         11405400.0                             \n",
       "79003                                         11405400.0                             \n",
       "84011                                         11405400.0                             \n",
       "88535                                         11405400.0                             \n",
       "\n",
       "      NumberOfTreasuryStockAtTheEndOfFiscalYear AverageNumberOfShares  \n",
       "69236                                   3451825               7953575  \n",
       "74109                                   3453425               7953018  \n",
       "79003                                   3453425               7952673  \n",
       "84011                                   3453425             7952501.0  \n",
       "88535                                   3457125             7950035.0  \n",
       "\n",
       "[5 rows x 45 columns]"
      ]
     },
     "execution_count": 10,
     "metadata": {},
     "output_type": "execute_result"
    }
   ],
   "source": [
    "# 2761\n",
    "financial.query('SecuritiesCode == 2761').tail()"
   ]
  },
  {
   "cell_type": "code",
   "execution_count": 11,
   "metadata": {},
   "outputs": [
    {
     "data": {
      "text/plain": [
       "Index(['DisclosureNumber', 'DateCode', 'Date', 'SecuritiesCode',\n",
       "       'DisclosedDate', 'DisclosedTime', 'DisclosedUnixTime', 'TypeOfDocument',\n",
       "       'CurrentPeriodEndDate', 'TypeOfCurrentPeriod',\n",
       "       'CurrentFiscalYearStartDate', 'CurrentFiscalYearEndDate', 'NetSales',\n",
       "       'OperatingProfit', 'OrdinaryProfit', 'Profit', 'EarningsPerShare',\n",
       "       'TotalAssets', 'Equity', 'EquityToAssetRatio', 'BookValuePerShare',\n",
       "       'ResultDividendPerShare1stQuarter', 'ResultDividendPerShare2ndQuarter',\n",
       "       'ResultDividendPerShare3rdQuarter',\n",
       "       'ResultDividendPerShareFiscalYearEnd', 'ResultDividendPerShareAnnual',\n",
       "       'ForecastDividendPerShare1stQuarter',\n",
       "       'ForecastDividendPerShare2ndQuarter',\n",
       "       'ForecastDividendPerShare3rdQuarter',\n",
       "       'ForecastDividendPerShareFiscalYearEnd',\n",
       "       'ForecastDividendPerShareAnnual', 'ForecastNetSales',\n",
       "       'ForecastOperatingProfit', 'ForecastOrdinaryProfit', 'ForecastProfit',\n",
       "       'ForecastEarningsPerShare',\n",
       "       'ApplyingOfSpecificAccountingOfTheQuarterlyFinancialStatements',\n",
       "       'MaterialChangesInSubsidiaries',\n",
       "       'ChangesBasedOnRevisionsOfAccountingStandard',\n",
       "       'ChangesOtherThanOnesBasedOnRevisionsOfAccountingStandard',\n",
       "       'ChangesInAccountingEstimates', 'RetrospectiveRestatement',\n",
       "       'NumberOfIssuedAndOutstandingSharesAtTheEndOfFiscalYearIncludingTreasuryStock',\n",
       "       'NumberOfTreasuryStockAtTheEndOfFiscalYear', 'AverageNumberOfShares'],\n",
       "      dtype='object')"
      ]
     },
     "execution_count": 11,
     "metadata": {},
     "output_type": "execute_result"
    }
   ],
   "source": [
    "financial.columns"
   ]
  },
  {
   "cell_type": "code",
   "execution_count": 12,
   "metadata": {},
   "outputs": [],
   "source": [
    "options = pd.read_csv('data/train_files/options.csv')"
   ]
  },
  {
   "cell_type": "code",
   "execution_count": 13,
   "metadata": {},
   "outputs": [
    {
     "data": {
      "text/html": [
       "<div>\n",
       "<style scoped>\n",
       "    .dataframe tbody tr th:only-of-type {\n",
       "        vertical-align: middle;\n",
       "    }\n",
       "\n",
       "    .dataframe tbody tr th {\n",
       "        vertical-align: top;\n",
       "    }\n",
       "\n",
       "    .dataframe thead th {\n",
       "        text-align: right;\n",
       "    }\n",
       "</style>\n",
       "<table border=\"1\" class=\"dataframe\">\n",
       "  <thead>\n",
       "    <tr style=\"text-align: right;\">\n",
       "      <th></th>\n",
       "      <th>DateCode</th>\n",
       "      <th>Date</th>\n",
       "      <th>OptionsCode</th>\n",
       "      <th>WholeDayOpen</th>\n",
       "      <th>WholeDayHigh</th>\n",
       "      <th>WholeDayLow</th>\n",
       "      <th>WholeDayClose</th>\n",
       "      <th>NightSessionOpen</th>\n",
       "      <th>NightSessionHigh</th>\n",
       "      <th>NightSessionLow</th>\n",
       "      <th>...</th>\n",
       "      <th>Putcall</th>\n",
       "      <th>LastTradingDay</th>\n",
       "      <th>SpecialQuotationDay</th>\n",
       "      <th>SettlementPrice</th>\n",
       "      <th>TheoreticalPrice</th>\n",
       "      <th>BaseVolatility</th>\n",
       "      <th>ImpliedVolatility</th>\n",
       "      <th>InterestRate</th>\n",
       "      <th>DividendRate</th>\n",
       "      <th>Dividend</th>\n",
       "    </tr>\n",
       "  </thead>\n",
       "  <tbody>\n",
       "    <tr>\n",
       "      <th>0</th>\n",
       "      <td>20170104_132010018</td>\n",
       "      <td>2017-01-04</td>\n",
       "      <td>132010018</td>\n",
       "      <td>650.0</td>\n",
       "      <td>650.0</td>\n",
       "      <td>480.0</td>\n",
       "      <td>480.0</td>\n",
       "      <td>0.0000</td>\n",
       "      <td>0.0000</td>\n",
       "      <td>0.0000</td>\n",
       "      <td>...</td>\n",
       "      <td>1</td>\n",
       "      <td>20170112</td>\n",
       "      <td>20170113</td>\n",
       "      <td>480.0</td>\n",
       "      <td>478.4587</td>\n",
       "      <td>17.4736</td>\n",
       "      <td>17.5865</td>\n",
       "      <td>0.0091</td>\n",
       "      <td>0.0</td>\n",
       "      <td>0.0</td>\n",
       "    </tr>\n",
       "    <tr>\n",
       "      <th>1</th>\n",
       "      <td>20170104_132010118</td>\n",
       "      <td>2017-01-04</td>\n",
       "      <td>132010118</td>\n",
       "      <td>0.0</td>\n",
       "      <td>0.0</td>\n",
       "      <td>0.0</td>\n",
       "      <td>0.0</td>\n",
       "      <td>0.0000</td>\n",
       "      <td>0.0000</td>\n",
       "      <td>0.0000</td>\n",
       "      <td>...</td>\n",
       "      <td>1</td>\n",
       "      <td>20170112</td>\n",
       "      <td>20170113</td>\n",
       "      <td>575.0</td>\n",
       "      <td>571.1385</td>\n",
       "      <td>17.4736</td>\n",
       "      <td>16.5000</td>\n",
       "      <td>0.0091</td>\n",
       "      <td>0.0</td>\n",
       "      <td>0.0</td>\n",
       "    </tr>\n",
       "    <tr>\n",
       "      <th>2</th>\n",
       "      <td>20170104_132010218</td>\n",
       "      <td>2017-01-04</td>\n",
       "      <td>132010218</td>\n",
       "      <td>0.0</td>\n",
       "      <td>0.0</td>\n",
       "      <td>0.0</td>\n",
       "      <td>0.0</td>\n",
       "      <td>0.0000</td>\n",
       "      <td>0.0000</td>\n",
       "      <td>0.0000</td>\n",
       "      <td>...</td>\n",
       "      <td>1</td>\n",
       "      <td>20170112</td>\n",
       "      <td>20170113</td>\n",
       "      <td>680.0</td>\n",
       "      <td>677.3710</td>\n",
       "      <td>17.4736</td>\n",
       "      <td>15.8644</td>\n",
       "      <td>0.0091</td>\n",
       "      <td>0.0</td>\n",
       "      <td>0.0</td>\n",
       "    </tr>\n",
       "    <tr>\n",
       "      <th>3</th>\n",
       "      <td>20170104_132010318</td>\n",
       "      <td>2017-01-04</td>\n",
       "      <td>132010318</td>\n",
       "      <td>0.0</td>\n",
       "      <td>0.0</td>\n",
       "      <td>0.0</td>\n",
       "      <td>0.0</td>\n",
       "      <td>0.0000</td>\n",
       "      <td>0.0000</td>\n",
       "      <td>0.0000</td>\n",
       "      <td>...</td>\n",
       "      <td>1</td>\n",
       "      <td>20170112</td>\n",
       "      <td>20170113</td>\n",
       "      <td>795.0</td>\n",
       "      <td>791.0383</td>\n",
       "      <td>17.4736</td>\n",
       "      <td>15.2288</td>\n",
       "      <td>0.0091</td>\n",
       "      <td>0.0</td>\n",
       "      <td>0.0</td>\n",
       "    </tr>\n",
       "    <tr>\n",
       "      <th>4</th>\n",
       "      <td>20170104_132010518</td>\n",
       "      <td>2017-01-04</td>\n",
       "      <td>132010518</td>\n",
       "      <td>0.0</td>\n",
       "      <td>0.0</td>\n",
       "      <td>0.0</td>\n",
       "      <td>0.0</td>\n",
       "      <td>0.0000</td>\n",
       "      <td>0.0000</td>\n",
       "      <td>0.0000</td>\n",
       "      <td>...</td>\n",
       "      <td>1</td>\n",
       "      <td>20170112</td>\n",
       "      <td>20170113</td>\n",
       "      <td>910.0</td>\n",
       "      <td>909.9947</td>\n",
       "      <td>17.4736</td>\n",
       "      <td>14.5932</td>\n",
       "      <td>0.0091</td>\n",
       "      <td>0.0</td>\n",
       "      <td>0.0</td>\n",
       "    </tr>\n",
       "  </tbody>\n",
       "</table>\n",
       "<p>5 rows × 31 columns</p>\n",
       "</div>"
      ],
      "text/plain": [
       "             DateCode        Date  OptionsCode  WholeDayOpen  WholeDayHigh  \\\n",
       "0  20170104_132010018  2017-01-04    132010018         650.0         650.0   \n",
       "1  20170104_132010118  2017-01-04    132010118           0.0           0.0   \n",
       "2  20170104_132010218  2017-01-04    132010218           0.0           0.0   \n",
       "3  20170104_132010318  2017-01-04    132010318           0.0           0.0   \n",
       "4  20170104_132010518  2017-01-04    132010518           0.0           0.0   \n",
       "\n",
       "   WholeDayLow  WholeDayClose NightSessionOpen NightSessionHigh  \\\n",
       "0        480.0          480.0           0.0000           0.0000   \n",
       "1          0.0            0.0           0.0000           0.0000   \n",
       "2          0.0            0.0           0.0000           0.0000   \n",
       "3          0.0            0.0           0.0000           0.0000   \n",
       "4          0.0            0.0           0.0000           0.0000   \n",
       "\n",
       "  NightSessionLow  ... Putcall  LastTradingDay  SpecialQuotationDay  \\\n",
       "0          0.0000  ...       1        20170112             20170113   \n",
       "1          0.0000  ...       1        20170112             20170113   \n",
       "2          0.0000  ...       1        20170112             20170113   \n",
       "3          0.0000  ...       1        20170112             20170113   \n",
       "4          0.0000  ...       1        20170112             20170113   \n",
       "\n",
       "   SettlementPrice  TheoreticalPrice  BaseVolatility  ImpliedVolatility  \\\n",
       "0            480.0          478.4587         17.4736            17.5865   \n",
       "1            575.0          571.1385         17.4736            16.5000   \n",
       "2            680.0          677.3710         17.4736            15.8644   \n",
       "3            795.0          791.0383         17.4736            15.2288   \n",
       "4            910.0          909.9947         17.4736            14.5932   \n",
       "\n",
       "   InterestRate  DividendRate  Dividend  \n",
       "0        0.0091           0.0       0.0  \n",
       "1        0.0091           0.0       0.0  \n",
       "2        0.0091           0.0       0.0  \n",
       "3        0.0091           0.0       0.0  \n",
       "4        0.0091           0.0       0.0  \n",
       "\n",
       "[5 rows x 31 columns]"
      ]
     },
     "execution_count": 13,
     "metadata": {},
     "output_type": "execute_result"
    }
   ],
   "source": [
    "options.head(5)"
   ]
  },
  {
   "cell_type": "code",
   "execution_count": 14,
   "metadata": {},
   "outputs": [
    {
     "data": {
      "text/plain": [
       "Index(['DateCode', 'Date', 'OptionsCode', 'WholeDayOpen', 'WholeDayHigh',\n",
       "       'WholeDayLow', 'WholeDayClose', 'NightSessionOpen', 'NightSessionHigh',\n",
       "       'NightSessionLow', 'NightSessionClose', 'DaySessionOpen',\n",
       "       'DaySessionHigh', 'DaySessionLow', 'DaySessionClose', 'TradingVolume',\n",
       "       'OpenInterest', 'TradingValue', 'ContractMonth', 'StrikePrice',\n",
       "       'WholeDayVolume', 'Putcall', 'LastTradingDay', 'SpecialQuotationDay',\n",
       "       'SettlementPrice', 'TheoreticalPrice', 'BaseVolatility',\n",
       "       'ImpliedVolatility', 'InterestRate', 'DividendRate', 'Dividend'],\n",
       "      dtype='object')"
      ]
     },
     "execution_count": 14,
     "metadata": {},
     "output_type": "execute_result"
    }
   ],
   "source": [
    "options.columns"
   ]
  },
  {
   "cell_type": "markdown",
   "metadata": {},
   "source": [
    "## Price"
   ]
  },
  {
   "cell_type": "code",
   "execution_count": 15,
   "metadata": {},
   "outputs": [
    {
     "data": {
      "text/plain": [
       "(2332531, 12)"
      ]
     },
     "execution_count": 15,
     "metadata": {},
     "output_type": "execute_result"
    }
   ],
   "source": [
    "prices = pd.read_csv('data/train_files/stock_prices.csv', parse_dates=[1])\n",
    "prices.shape"
   ]
  },
  {
   "cell_type": "code",
   "execution_count": 16,
   "metadata": {},
   "outputs": [
    {
     "data": {
      "text/html": [
       "<div>\n",
       "<style scoped>\n",
       "    .dataframe tbody tr th:only-of-type {\n",
       "        vertical-align: middle;\n",
       "    }\n",
       "\n",
       "    .dataframe tbody tr th {\n",
       "        vertical-align: top;\n",
       "    }\n",
       "\n",
       "    .dataframe thead th {\n",
       "        text-align: right;\n",
       "    }\n",
       "</style>\n",
       "<table border=\"1\" class=\"dataframe\">\n",
       "  <thead>\n",
       "    <tr style=\"text-align: right;\">\n",
       "      <th></th>\n",
       "      <th>RowId</th>\n",
       "      <th>Date</th>\n",
       "      <th>SecuritiesCode</th>\n",
       "      <th>Open</th>\n",
       "      <th>High</th>\n",
       "      <th>Low</th>\n",
       "      <th>Close</th>\n",
       "      <th>Volume</th>\n",
       "      <th>AdjustmentFactor</th>\n",
       "      <th>ExpectedDividend</th>\n",
       "      <th>SupervisionFlag</th>\n",
       "      <th>Target</th>\n",
       "    </tr>\n",
       "  </thead>\n",
       "  <tbody>\n",
       "    <tr>\n",
       "      <th>0</th>\n",
       "      <td>20170104_1301</td>\n",
       "      <td>2017-01-04</td>\n",
       "      <td>1301</td>\n",
       "      <td>2734.0</td>\n",
       "      <td>2755.0</td>\n",
       "      <td>2730.0</td>\n",
       "      <td>2742.0</td>\n",
       "      <td>31400</td>\n",
       "      <td>1.0</td>\n",
       "      <td>NaN</td>\n",
       "      <td>False</td>\n",
       "      <td>0.000730</td>\n",
       "    </tr>\n",
       "    <tr>\n",
       "      <th>1</th>\n",
       "      <td>20170104_1332</td>\n",
       "      <td>2017-01-04</td>\n",
       "      <td>1332</td>\n",
       "      <td>568.0</td>\n",
       "      <td>576.0</td>\n",
       "      <td>563.0</td>\n",
       "      <td>571.0</td>\n",
       "      <td>2798500</td>\n",
       "      <td>1.0</td>\n",
       "      <td>NaN</td>\n",
       "      <td>False</td>\n",
       "      <td>0.012324</td>\n",
       "    </tr>\n",
       "  </tbody>\n",
       "</table>\n",
       "</div>"
      ],
      "text/plain": [
       "           RowId       Date  SecuritiesCode    Open    High     Low   Close  \\\n",
       "0  20170104_1301 2017-01-04            1301  2734.0  2755.0  2730.0  2742.0   \n",
       "1  20170104_1332 2017-01-04            1332   568.0   576.0   563.0   571.0   \n",
       "\n",
       "    Volume  AdjustmentFactor  ExpectedDividend  SupervisionFlag    Target  \n",
       "0    31400               1.0               NaN            False  0.000730  \n",
       "1  2798500               1.0               NaN            False  0.012324  "
      ]
     },
     "execution_count": 16,
     "metadata": {},
     "output_type": "execute_result"
    }
   ],
   "source": [
    "prices.head(2)"
   ]
  },
  {
   "cell_type": "markdown",
   "metadata": {},
   "source": [
    "- date"
   ]
  },
  {
   "cell_type": "code",
   "execution_count": 17,
   "metadata": {},
   "outputs": [
    {
     "name": "stdout",
     "output_type": "stream",
     "text": [
      "Data from 2017-01-04 to 2021-12-03\n",
      "Data observations 1202 \n"
     ]
    }
   ],
   "source": [
    "date = prices.Date\n",
    "date_desc = date.describe(datetime_is_numeric=True)\n",
    "date_min = date_desc.loc['min']\n",
    "date_max = date_desc.loc['max']\n",
    "print('Data from {:%Y-%m-%d} to {:%Y-%m-%d}'\n",
    "        .format(date_min, date_max))\n",
    "print('Data observations {} '.format(\n",
    "                 date.nunique()))"
   ]
  },
  {
   "cell_type": "markdown",
   "metadata": {},
   "source": [
    "from https://www.timeanddate.com/date/workdays.html?d1=4&m1=1&y1=2017&d2=3&m2=12&y2=2021&ti=on&\n",
    "\n",
    "1211 days \n",
    "\n",
    "1795 calendar days – 584 days skipped:\n",
    "Excluded 256 Saturdays\n",
    "Excluded 256 Sundays\n",
    "Excluded 72 holidays\n",
    "\n",
    "excluded 2010-10-1 because system failer in jpx\n",
    "\n",
    "remain 1210 days  and 8 left\n",
    "- Which one are missing and why?"
   ]
  },
  {
   "cell_type": "markdown",
   "metadata": {},
   "source": [
    "1202 == 1794 . we miss data, where?\n",
    "- find missing data"
   ]
  },
  {
   "cell_type": "markdown",
   "metadata": {},
   "source": [
    "- generate working days"
   ]
  },
  {
   "cell_type": "code",
   "execution_count": 18,
   "metadata": {},
   "outputs": [],
   "source": [
    "t = np.arange(date_min, date_max, timedelta(days=1)).astype(datetime)\n",
    "\n",
    "#t_work = [day for day in t if asia.Japan().is_working_day(day)]"
   ]
  },
  {
   "cell_type": "code",
   "execution_count": 19,
   "metadata": {},
   "outputs": [],
   "source": [
    "date_df = pd.DataFrame(date)\n",
    "#time_df = pd.to_datetime(t_work)"
   ]
  },
  {
   "cell_type": "code",
   "execution_count": 20,
   "metadata": {},
   "outputs": [
    {
     "data": {
      "text/plain": [
       "pandas._libs.tslibs.timestamps.Timestamp"
      ]
     },
     "execution_count": 20,
     "metadata": {},
     "output_type": "execute_result"
    }
   ],
   "source": [
    "type(pd.Timestamp(date.unique()[0]))"
   ]
  },
  {
   "cell_type": "markdown",
   "metadata": {},
   "source": [
    "transactions pro date"
   ]
  },
  {
   "cell_type": "code",
   "execution_count": 21,
   "metadata": {},
   "outputs": [
    {
     "data": {
      "text/plain": [
       "1202"
      ]
     },
     "execution_count": 21,
     "metadata": {},
     "output_type": "execute_result"
    }
   ],
   "source": [
    "date.nunique()"
   ]
  },
  {
   "cell_type": "markdown",
   "metadata": {},
   "source": [
    "- observations"
   ]
  },
  {
   "cell_type": "code",
   "execution_count": 22,
   "metadata": {},
   "outputs": [
    {
     "name": "stdout",
     "output_type": "stream",
     "text": [
      "<class 'pandas.core.frame.DataFrame'>\n",
      "RangeIndex: 2332531 entries, 0 to 2332530\n",
      "Data columns (total 12 columns):\n",
      " #   Column            Dtype         \n",
      "---  ------            -----         \n",
      " 0   RowId             object        \n",
      " 1   Date              datetime64[ns]\n",
      " 2   SecuritiesCode    int64         \n",
      " 3   Open              float64       \n",
      " 4   High              float64       \n",
      " 5   Low               float64       \n",
      " 6   Close             float64       \n",
      " 7   Volume            int64         \n",
      " 8   AdjustmentFactor  float64       \n",
      " 9   ExpectedDividend  float64       \n",
      " 10  SupervisionFlag   bool          \n",
      " 11  Target            float64       \n",
      "dtypes: bool(1), datetime64[ns](1), float64(7), int64(2), object(1)\n",
      "memory usage: 198.0+ MB\n"
     ]
    }
   ],
   "source": [
    "prices.info()"
   ]
  },
  {
   "cell_type": "code",
   "execution_count": 23,
   "metadata": {},
   "outputs": [
    {
     "data": {
      "text/html": [
       "<div>\n",
       "<style scoped>\n",
       "    .dataframe tbody tr th:only-of-type {\n",
       "        vertical-align: middle;\n",
       "    }\n",
       "\n",
       "    .dataframe tbody tr th {\n",
       "        vertical-align: top;\n",
       "    }\n",
       "\n",
       "    .dataframe thead th {\n",
       "        text-align: right;\n",
       "    }\n",
       "</style>\n",
       "<table border=\"1\" class=\"dataframe\">\n",
       "  <thead>\n",
       "    <tr style=\"text-align: right;\">\n",
       "      <th></th>\n",
       "      <th>RowId</th>\n",
       "      <th>Date</th>\n",
       "      <th>SecuritiesCode</th>\n",
       "      <th>Open</th>\n",
       "      <th>High</th>\n",
       "      <th>Low</th>\n",
       "      <th>Close</th>\n",
       "      <th>Volume</th>\n",
       "      <th>AdjustmentFactor</th>\n",
       "      <th>ExpectedDividend</th>\n",
       "      <th>SupervisionFlag</th>\n",
       "      <th>Target</th>\n",
       "    </tr>\n",
       "  </thead>\n",
       "  <tbody>\n",
       "    <tr>\n",
       "      <th>0</th>\n",
       "      <td>20170104_1301</td>\n",
       "      <td>2017-01-04</td>\n",
       "      <td>1301</td>\n",
       "      <td>2734.0</td>\n",
       "      <td>2755.0</td>\n",
       "      <td>2730.0</td>\n",
       "      <td>2742.0</td>\n",
       "      <td>31400</td>\n",
       "      <td>1.0</td>\n",
       "      <td>NaN</td>\n",
       "      <td>False</td>\n",
       "      <td>0.000730</td>\n",
       "    </tr>\n",
       "    <tr>\n",
       "      <th>1</th>\n",
       "      <td>20170104_1332</td>\n",
       "      <td>2017-01-04</td>\n",
       "      <td>1332</td>\n",
       "      <td>568.0</td>\n",
       "      <td>576.0</td>\n",
       "      <td>563.0</td>\n",
       "      <td>571.0</td>\n",
       "      <td>2798500</td>\n",
       "      <td>1.0</td>\n",
       "      <td>NaN</td>\n",
       "      <td>False</td>\n",
       "      <td>0.012324</td>\n",
       "    </tr>\n",
       "  </tbody>\n",
       "</table>\n",
       "</div>"
      ],
      "text/plain": [
       "           RowId       Date  SecuritiesCode    Open    High     Low   Close  \\\n",
       "0  20170104_1301 2017-01-04            1301  2734.0  2755.0  2730.0  2742.0   \n",
       "1  20170104_1332 2017-01-04            1332   568.0   576.0   563.0   571.0   \n",
       "\n",
       "    Volume  AdjustmentFactor  ExpectedDividend  SupervisionFlag    Target  \n",
       "0    31400               1.0               NaN            False  0.000730  \n",
       "1  2798500               1.0               NaN            False  0.012324  "
      ]
     },
     "execution_count": 23,
     "metadata": {},
     "output_type": "execute_result"
    }
   ],
   "source": [
    "prices.head(2)"
   ]
  },
  {
   "cell_type": "code",
   "execution_count": 24,
   "metadata": {},
   "outputs": [
    {
     "data": {
      "text/html": [
       "<div>\n",
       "<style scoped>\n",
       "    .dataframe tbody tr th:only-of-type {\n",
       "        vertical-align: middle;\n",
       "    }\n",
       "\n",
       "    .dataframe tbody tr th {\n",
       "        vertical-align: top;\n",
       "    }\n",
       "\n",
       "    .dataframe thead th {\n",
       "        text-align: right;\n",
       "    }\n",
       "</style>\n",
       "<table border=\"1\" class=\"dataframe\">\n",
       "  <thead>\n",
       "    <tr style=\"text-align: right;\">\n",
       "      <th></th>\n",
       "      <th>RowId</th>\n",
       "      <th>Date</th>\n",
       "      <th>SecuritiesCode</th>\n",
       "      <th>Open</th>\n",
       "      <th>High</th>\n",
       "      <th>Low</th>\n",
       "      <th>Close</th>\n",
       "      <th>Volume</th>\n",
       "      <th>AdjustmentFactor</th>\n",
       "      <th>ExpectedDividend</th>\n",
       "      <th>SupervisionFlag</th>\n",
       "      <th>Target</th>\n",
       "    </tr>\n",
       "  </thead>\n",
       "  <tbody>\n",
       "    <tr>\n",
       "      <th>2332529</th>\n",
       "      <td>20211203_9994</td>\n",
       "      <td>2021-12-03</td>\n",
       "      <td>9994</td>\n",
       "      <td>2388.0</td>\n",
       "      <td>2396.0</td>\n",
       "      <td>2380.0</td>\n",
       "      <td>2389.0</td>\n",
       "      <td>6500</td>\n",
       "      <td>1.0</td>\n",
       "      <td>NaN</td>\n",
       "      <td>False</td>\n",
       "      <td>0.009098</td>\n",
       "    </tr>\n",
       "    <tr>\n",
       "      <th>2332530</th>\n",
       "      <td>20211203_9997</td>\n",
       "      <td>2021-12-03</td>\n",
       "      <td>9997</td>\n",
       "      <td>690.0</td>\n",
       "      <td>711.0</td>\n",
       "      <td>686.0</td>\n",
       "      <td>696.0</td>\n",
       "      <td>381100</td>\n",
       "      <td>1.0</td>\n",
       "      <td>NaN</td>\n",
       "      <td>False</td>\n",
       "      <td>0.018414</td>\n",
       "    </tr>\n",
       "  </tbody>\n",
       "</table>\n",
       "</div>"
      ],
      "text/plain": [
       "                 RowId       Date  SecuritiesCode    Open    High     Low  \\\n",
       "2332529  20211203_9994 2021-12-03            9994  2388.0  2396.0  2380.0   \n",
       "2332530  20211203_9997 2021-12-03            9997   690.0   711.0   686.0   \n",
       "\n",
       "          Close  Volume  AdjustmentFactor  ExpectedDividend  SupervisionFlag  \\\n",
       "2332529  2389.0    6500               1.0               NaN            False   \n",
       "2332530   696.0  381100               1.0               NaN            False   \n",
       "\n",
       "           Target  \n",
       "2332529  0.009098  \n",
       "2332530  0.018414  "
      ]
     },
     "execution_count": 24,
     "metadata": {},
     "output_type": "execute_result"
    }
   ],
   "source": [
    "prices.tail(2)"
   ]
  },
  {
   "cell_type": "markdown",
   "metadata": {},
   "source": [
    "- amount of trades each day"
   ]
  },
  {
   "cell_type": "code",
   "execution_count": 25,
   "metadata": {},
   "outputs": [
    {
     "data": {
      "text/plain": [
       "<AxesSubplot:xlabel='index', ylabel='Date'>"
      ]
     },
     "execution_count": 25,
     "metadata": {},
     "output_type": "execute_result"
    },
    {
     "data": {
      "image/png": "[encoded data removed]",
      "text/plain": [
       "<Figure size 1440x360 with 1 Axes>"
      ]
     },
     "metadata": {
      "needs_background": "light"
     },
     "output_type": "display_data"
    }
   ],
   "source": [
    "count = pd.DataFrame(prices.Date.value_counts().reset_index())\n",
    "count.head()\n",
    "plt.figure(figsize = (20,5))\n",
    "sns.lineplot(data = count, x= 'index', y ='Date')\n"
   ]
  },
  {
   "cell_type": "code",
   "execution_count": 26,
   "metadata": {},
   "outputs": [
    {
     "data": {
      "text/html": [
       "<div>\n",
       "<style scoped>\n",
       "    .dataframe tbody tr th:only-of-type {\n",
       "        vertical-align: middle;\n",
       "    }\n",
       "\n",
       "    .dataframe tbody tr th {\n",
       "        vertical-align: top;\n",
       "    }\n",
       "\n",
       "    .dataframe thead th {\n",
       "        text-align: right;\n",
       "    }\n",
       "</style>\n",
       "<table border=\"1\" class=\"dataframe\">\n",
       "  <thead>\n",
       "    <tr style=\"text-align: right;\">\n",
       "      <th></th>\n",
       "      <th>index</th>\n",
       "      <th>Date</th>\n",
       "    </tr>\n",
       "  </thead>\n",
       "  <tbody>\n",
       "    <tr>\n",
       "      <th>1197</th>\n",
       "      <td>2017-02-08</td>\n",
       "      <td>1865</td>\n",
       "    </tr>\n",
       "    <tr>\n",
       "      <th>1198</th>\n",
       "      <td>2017-02-07</td>\n",
       "      <td>1865</td>\n",
       "    </tr>\n",
       "    <tr>\n",
       "      <th>1199</th>\n",
       "      <td>2017-02-06</td>\n",
       "      <td>1865</td>\n",
       "    </tr>\n",
       "    <tr>\n",
       "      <th>1200</th>\n",
       "      <td>2017-02-03</td>\n",
       "      <td>1865</td>\n",
       "    </tr>\n",
       "    <tr>\n",
       "      <th>1201</th>\n",
       "      <td>2017-01-04</td>\n",
       "      <td>1865</td>\n",
       "    </tr>\n",
       "  </tbody>\n",
       "</table>\n",
       "</div>"
      ],
      "text/plain": [
       "          index  Date\n",
       "1197 2017-02-08  1865\n",
       "1198 2017-02-07  1865\n",
       "1199 2017-02-06  1865\n",
       "1200 2017-02-03  1865\n",
       "1201 2017-01-04  1865"
      ]
     },
     "execution_count": 26,
     "metadata": {},
     "output_type": "execute_result"
    }
   ],
   "source": [
    "count.tail()"
   ]
  },
  {
   "cell_type": "markdown",
   "metadata": {},
   "source": [
    "days with nan = 2021-12-03"
   ]
  },
  {
   "cell_type": "code",
   "execution_count": 27,
   "metadata": {},
   "outputs": [
    {
     "data": {
      "text/plain": [
       "RowId               2000\n",
       "Date                2000\n",
       "SecuritiesCode      2000\n",
       "Open                1995\n",
       "High                1995\n",
       "Low                 1995\n",
       "Close               1995\n",
       "Volume              2000\n",
       "AdjustmentFactor    2000\n",
       "ExpectedDividend       0\n",
       "SupervisionFlag     2000\n",
       "Target              2000\n",
       "dtype: int64"
      ]
     },
     "execution_count": 27,
     "metadata": {},
     "output_type": "execute_result"
    }
   ],
   "source": [
    "a = prices[(prices['Date']=='2021-12-03')]\n",
    "a.count()"
   ]
  },
  {
   "cell_type": "code",
   "execution_count": 28,
   "metadata": {},
   "outputs": [
    {
     "data": {
      "text/html": [
       "<div>\n",
       "<style scoped>\n",
       "    .dataframe tbody tr th:only-of-type {\n",
       "        vertical-align: middle;\n",
       "    }\n",
       "\n",
       "    .dataframe tbody tr th {\n",
       "        vertical-align: top;\n",
       "    }\n",
       "\n",
       "    .dataframe thead th {\n",
       "        text-align: right;\n",
       "    }\n",
       "</style>\n",
       "<table border=\"1\" class=\"dataframe\">\n",
       "  <thead>\n",
       "    <tr style=\"text-align: right;\">\n",
       "      <th></th>\n",
       "      <th>RowId</th>\n",
       "      <th>Date</th>\n",
       "      <th>SecuritiesCode</th>\n",
       "      <th>Open</th>\n",
       "      <th>High</th>\n",
       "      <th>Low</th>\n",
       "      <th>Close</th>\n",
       "      <th>Volume</th>\n",
       "      <th>AdjustmentFactor</th>\n",
       "      <th>ExpectedDividend</th>\n",
       "      <th>SupervisionFlag</th>\n",
       "      <th>Target</th>\n",
       "    </tr>\n",
       "  </thead>\n",
       "  <tbody>\n",
       "    <tr>\n",
       "      <th>2330563</th>\n",
       "      <td>20211203_1787</td>\n",
       "      <td>2021-12-03</td>\n",
       "      <td>1787</td>\n",
       "      <td>NaN</td>\n",
       "      <td>NaN</td>\n",
       "      <td>NaN</td>\n",
       "      <td>NaN</td>\n",
       "      <td>0</td>\n",
       "      <td>1.0</td>\n",
       "      <td>NaN</td>\n",
       "      <td>False</td>\n",
       "      <td>-0.030351</td>\n",
       "    </tr>\n",
       "    <tr>\n",
       "      <th>2330786</th>\n",
       "      <td>20211203_2761</td>\n",
       "      <td>2021-12-03</td>\n",
       "      <td>2761</td>\n",
       "      <td>NaN</td>\n",
       "      <td>NaN</td>\n",
       "      <td>NaN</td>\n",
       "      <td>NaN</td>\n",
       "      <td>0</td>\n",
       "      <td>1.0</td>\n",
       "      <td>NaN</td>\n",
       "      <td>False</td>\n",
       "      <td>0.000000</td>\n",
       "    </tr>\n",
       "    <tr>\n",
       "      <th>2331453</th>\n",
       "      <td>20211203_5918</td>\n",
       "      <td>2021-12-03</td>\n",
       "      <td>5918</td>\n",
       "      <td>NaN</td>\n",
       "      <td>NaN</td>\n",
       "      <td>NaN</td>\n",
       "      <td>NaN</td>\n",
       "      <td>0</td>\n",
       "      <td>1.0</td>\n",
       "      <td>NaN</td>\n",
       "      <td>False</td>\n",
       "      <td>0.015625</td>\n",
       "    </tr>\n",
       "    <tr>\n",
       "      <th>2332336</th>\n",
       "      <td>20211203_9083</td>\n",
       "      <td>2021-12-03</td>\n",
       "      <td>9083</td>\n",
       "      <td>NaN</td>\n",
       "      <td>NaN</td>\n",
       "      <td>NaN</td>\n",
       "      <td>NaN</td>\n",
       "      <td>0</td>\n",
       "      <td>1.0</td>\n",
       "      <td>NaN</td>\n",
       "      <td>False</td>\n",
       "      <td>0.009615</td>\n",
       "    </tr>\n",
       "    <tr>\n",
       "      <th>2332462</th>\n",
       "      <td>20211203_9733</td>\n",
       "      <td>2021-12-03</td>\n",
       "      <td>9733</td>\n",
       "      <td>NaN</td>\n",
       "      <td>NaN</td>\n",
       "      <td>NaN</td>\n",
       "      <td>NaN</td>\n",
       "      <td>0</td>\n",
       "      <td>1.0</td>\n",
       "      <td>NaN</td>\n",
       "      <td>False</td>\n",
       "      <td>0.000000</td>\n",
       "    </tr>\n",
       "  </tbody>\n",
       "</table>\n",
       "</div>"
      ],
      "text/plain": [
       "                 RowId       Date  SecuritiesCode  Open  High  Low  Close  \\\n",
       "2330563  20211203_1787 2021-12-03            1787   NaN   NaN  NaN    NaN   \n",
       "2330786  20211203_2761 2021-12-03            2761   NaN   NaN  NaN    NaN   \n",
       "2331453  20211203_5918 2021-12-03            5918   NaN   NaN  NaN    NaN   \n",
       "2332336  20211203_9083 2021-12-03            9083   NaN   NaN  NaN    NaN   \n",
       "2332462  20211203_9733 2021-12-03            9733   NaN   NaN  NaN    NaN   \n",
       "\n",
       "         Volume  AdjustmentFactor  ExpectedDividend  SupervisionFlag    Target  \n",
       "2330563       0               1.0               NaN            False -0.030351  \n",
       "2330786       0               1.0               NaN            False  0.000000  \n",
       "2331453       0               1.0               NaN            False  0.015625  \n",
       "2332336       0               1.0               NaN            False  0.009615  \n",
       "2332462       0               1.0               NaN            False  0.000000  "
      ]
     },
     "execution_count": 28,
     "metadata": {},
     "output_type": "execute_result"
    }
   ],
   "source": [
    "a.query('Open != Open')"
   ]
  },
  {
   "cell_type": "markdown",
   "metadata": {},
   "source": [
    "a day before"
   ]
  },
  {
   "cell_type": "code",
   "execution_count": 29,
   "metadata": {},
   "outputs": [
    {
     "data": {
      "text/html": [
       "<div>\n",
       "<style scoped>\n",
       "    .dataframe tbody tr th:only-of-type {\n",
       "        vertical-align: middle;\n",
       "    }\n",
       "\n",
       "    .dataframe tbody tr th {\n",
       "        vertical-align: top;\n",
       "    }\n",
       "\n",
       "    .dataframe thead th {\n",
       "        text-align: right;\n",
       "    }\n",
       "</style>\n",
       "<table border=\"1\" class=\"dataframe\">\n",
       "  <thead>\n",
       "    <tr style=\"text-align: right;\">\n",
       "      <th></th>\n",
       "      <th>RowId</th>\n",
       "      <th>Date</th>\n",
       "      <th>SecuritiesCode</th>\n",
       "      <th>Open</th>\n",
       "      <th>High</th>\n",
       "      <th>Low</th>\n",
       "      <th>Close</th>\n",
       "      <th>Volume</th>\n",
       "      <th>AdjustmentFactor</th>\n",
       "      <th>ExpectedDividend</th>\n",
       "      <th>SupervisionFlag</th>\n",
       "      <th>Target</th>\n",
       "    </tr>\n",
       "  </thead>\n",
       "  <tbody>\n",
       "    <tr>\n",
       "      <th>2328632</th>\n",
       "      <td>20211202_1981</td>\n",
       "      <td>2021-12-02</td>\n",
       "      <td>1981</td>\n",
       "      <td>NaN</td>\n",
       "      <td>NaN</td>\n",
       "      <td>NaN</td>\n",
       "      <td>NaN</td>\n",
       "      <td>0</td>\n",
       "      <td>1.0</td>\n",
       "      <td>NaN</td>\n",
       "      <td>False</td>\n",
       "      <td>0.000000</td>\n",
       "    </tr>\n",
       "    <tr>\n",
       "      <th>2328786</th>\n",
       "      <td>20211202_2761</td>\n",
       "      <td>2021-12-02</td>\n",
       "      <td>2761</td>\n",
       "      <td>NaN</td>\n",
       "      <td>NaN</td>\n",
       "      <td>NaN</td>\n",
       "      <td>NaN</td>\n",
       "      <td>0</td>\n",
       "      <td>1.0</td>\n",
       "      <td>NaN</td>\n",
       "      <td>False</td>\n",
       "      <td>-0.015714</td>\n",
       "    </tr>\n",
       "    <tr>\n",
       "      <th>2328823</th>\n",
       "      <td>20211202_2923</td>\n",
       "      <td>2021-12-02</td>\n",
       "      <td>2923</td>\n",
       "      <td>NaN</td>\n",
       "      <td>NaN</td>\n",
       "      <td>NaN</td>\n",
       "      <td>NaN</td>\n",
       "      <td>0</td>\n",
       "      <td>1.0</td>\n",
       "      <td>NaN</td>\n",
       "      <td>False</td>\n",
       "      <td>0.004274</td>\n",
       "    </tr>\n",
       "    <tr>\n",
       "      <th>2330462</th>\n",
       "      <td>20211202_9733</td>\n",
       "      <td>2021-12-02</td>\n",
       "      <td>9733</td>\n",
       "      <td>NaN</td>\n",
       "      <td>NaN</td>\n",
       "      <td>NaN</td>\n",
       "      <td>NaN</td>\n",
       "      <td>0</td>\n",
       "      <td>1.0</td>\n",
       "      <td>NaN</td>\n",
       "      <td>False</td>\n",
       "      <td>0.000000</td>\n",
       "    </tr>\n",
       "  </tbody>\n",
       "</table>\n",
       "</div>"
      ],
      "text/plain": [
       "                 RowId       Date  SecuritiesCode  Open  High  Low  Close  \\\n",
       "2328632  20211202_1981 2021-12-02            1981   NaN   NaN  NaN    NaN   \n",
       "2328786  20211202_2761 2021-12-02            2761   NaN   NaN  NaN    NaN   \n",
       "2328823  20211202_2923 2021-12-02            2923   NaN   NaN  NaN    NaN   \n",
       "2330462  20211202_9733 2021-12-02            9733   NaN   NaN  NaN    NaN   \n",
       "\n",
       "         Volume  AdjustmentFactor  ExpectedDividend  SupervisionFlag    Target  \n",
       "2328632       0               1.0               NaN            False  0.000000  \n",
       "2328786       0               1.0               NaN            False -0.015714  \n",
       "2328823       0               1.0               NaN            False  0.004274  \n",
       "2330462       0               1.0               NaN            False  0.000000  "
      ]
     },
     "execution_count": 29,
     "metadata": {},
     "output_type": "execute_result"
    }
   ],
   "source": [
    "b = prices[(prices['Date']=='2021-12-02')]\n",
    "b.query('Open != Open')"
   ]
  },
  {
   "cell_type": "markdown",
   "metadata": {},
   "source": [
    "and before"
   ]
  },
  {
   "cell_type": "code",
   "execution_count": 30,
   "metadata": {},
   "outputs": [
    {
     "data": {
      "text/html": [
       "<div>\n",
       "<style scoped>\n",
       "    .dataframe tbody tr th:only-of-type {\n",
       "        vertical-align: middle;\n",
       "    }\n",
       "\n",
       "    .dataframe tbody tr th {\n",
       "        vertical-align: top;\n",
       "    }\n",
       "\n",
       "    .dataframe thead th {\n",
       "        text-align: right;\n",
       "    }\n",
       "</style>\n",
       "<table border=\"1\" class=\"dataframe\">\n",
       "  <thead>\n",
       "    <tr style=\"text-align: right;\">\n",
       "      <th></th>\n",
       "      <th>RowId</th>\n",
       "      <th>Date</th>\n",
       "      <th>SecuritiesCode</th>\n",
       "      <th>Open</th>\n",
       "      <th>High</th>\n",
       "      <th>Low</th>\n",
       "      <th>Close</th>\n",
       "      <th>Volume</th>\n",
       "      <th>AdjustmentFactor</th>\n",
       "      <th>ExpectedDividend</th>\n",
       "      <th>SupervisionFlag</th>\n",
       "      <th>Target</th>\n",
       "    </tr>\n",
       "  </thead>\n",
       "  <tbody>\n",
       "    <tr>\n",
       "      <th>2326786</th>\n",
       "      <td>20211201_2761</td>\n",
       "      <td>2021-12-01</td>\n",
       "      <td>2761</td>\n",
       "      <td>NaN</td>\n",
       "      <td>NaN</td>\n",
       "      <td>NaN</td>\n",
       "      <td>NaN</td>\n",
       "      <td>0</td>\n",
       "      <td>1.0</td>\n",
       "      <td>NaN</td>\n",
       "      <td>False</td>\n",
       "      <td>0.000000</td>\n",
       "    </tr>\n",
       "    <tr>\n",
       "      <th>2326804</th>\n",
       "      <td>20211201_2814</td>\n",
       "      <td>2021-12-01</td>\n",
       "      <td>2814</td>\n",
       "      <td>NaN</td>\n",
       "      <td>NaN</td>\n",
       "      <td>NaN</td>\n",
       "      <td>NaN</td>\n",
       "      <td>0</td>\n",
       "      <td>1.0</td>\n",
       "      <td>NaN</td>\n",
       "      <td>False</td>\n",
       "      <td>-0.010481</td>\n",
       "    </tr>\n",
       "    <tr>\n",
       "      <th>2327247</th>\n",
       "      <td>20211201_4628</td>\n",
       "      <td>2021-12-01</td>\n",
       "      <td>4628</td>\n",
       "      <td>NaN</td>\n",
       "      <td>NaN</td>\n",
       "      <td>NaN</td>\n",
       "      <td>NaN</td>\n",
       "      <td>0</td>\n",
       "      <td>1.0</td>\n",
       "      <td>NaN</td>\n",
       "      <td>False</td>\n",
       "      <td>0.011984</td>\n",
       "    </tr>\n",
       "    <tr>\n",
       "      <th>2328419</th>\n",
       "      <td>20211201_9539</td>\n",
       "      <td>2021-12-01</td>\n",
       "      <td>9539</td>\n",
       "      <td>NaN</td>\n",
       "      <td>NaN</td>\n",
       "      <td>NaN</td>\n",
       "      <td>NaN</td>\n",
       "      <td>0</td>\n",
       "      <td>1.0</td>\n",
       "      <td>NaN</td>\n",
       "      <td>False</td>\n",
       "      <td>0.005917</td>\n",
       "    </tr>\n",
       "    <tr>\n",
       "      <th>2328462</th>\n",
       "      <td>20211201_9733</td>\n",
       "      <td>2021-12-01</td>\n",
       "      <td>9733</td>\n",
       "      <td>NaN</td>\n",
       "      <td>NaN</td>\n",
       "      <td>NaN</td>\n",
       "      <td>NaN</td>\n",
       "      <td>0</td>\n",
       "      <td>1.0</td>\n",
       "      <td>NaN</td>\n",
       "      <td>False</td>\n",
       "      <td>0.000000</td>\n",
       "    </tr>\n",
       "  </tbody>\n",
       "</table>\n",
       "</div>"
      ],
      "text/plain": [
       "                 RowId       Date  SecuritiesCode  Open  High  Low  Close  \\\n",
       "2326786  20211201_2761 2021-12-01            2761   NaN   NaN  NaN    NaN   \n",
       "2326804  20211201_2814 2021-12-01            2814   NaN   NaN  NaN    NaN   \n",
       "2327247  20211201_4628 2021-12-01            4628   NaN   NaN  NaN    NaN   \n",
       "2328419  20211201_9539 2021-12-01            9539   NaN   NaN  NaN    NaN   \n",
       "2328462  20211201_9733 2021-12-01            9733   NaN   NaN  NaN    NaN   \n",
       "\n",
       "         Volume  AdjustmentFactor  ExpectedDividend  SupervisionFlag    Target  \n",
       "2326786       0               1.0               NaN            False  0.000000  \n",
       "2326804       0               1.0               NaN            False -0.010481  \n",
       "2327247       0               1.0               NaN            False  0.011984  \n",
       "2328419       0               1.0               NaN            False  0.005917  \n",
       "2328462       0               1.0               NaN            False  0.000000  "
      ]
     },
     "execution_count": 30,
     "metadata": {},
     "output_type": "execute_result"
    }
   ],
   "source": [
    "c = prices[(prices['Date']=='2021-12-01')]\n",
    "c.query('Open != Open')"
   ]
  },
  {
   "cell_type": "code",
   "execution_count": 31,
   "metadata": {},
   "outputs": [
    {
     "data": {
      "text/html": [
       "<div>\n",
       "<style scoped>\n",
       "    .dataframe tbody tr th:only-of-type {\n",
       "        vertical-align: middle;\n",
       "    }\n",
       "\n",
       "    .dataframe tbody tr th {\n",
       "        vertical-align: top;\n",
       "    }\n",
       "\n",
       "    .dataframe thead th {\n",
       "        text-align: right;\n",
       "    }\n",
       "</style>\n",
       "<table border=\"1\" class=\"dataframe\">\n",
       "  <thead>\n",
       "    <tr style=\"text-align: right;\">\n",
       "      <th></th>\n",
       "      <th>RowId</th>\n",
       "      <th>Date</th>\n",
       "      <th>SecuritiesCode</th>\n",
       "      <th>Open</th>\n",
       "      <th>High</th>\n",
       "      <th>Low</th>\n",
       "      <th>Close</th>\n",
       "      <th>Volume</th>\n",
       "      <th>AdjustmentFactor</th>\n",
       "      <th>ExpectedDividend</th>\n",
       "      <th>SupervisionFlag</th>\n",
       "      <th>Target</th>\n",
       "    </tr>\n",
       "  </thead>\n",
       "  <tbody>\n",
       "    <tr>\n",
       "      <th>2326786</th>\n",
       "      <td>20211201_2761</td>\n",
       "      <td>2021-12-01</td>\n",
       "      <td>2761</td>\n",
       "      <td>NaN</td>\n",
       "      <td>NaN</td>\n",
       "      <td>NaN</td>\n",
       "      <td>NaN</td>\n",
       "      <td>0</td>\n",
       "      <td>1.0</td>\n",
       "      <td>NaN</td>\n",
       "      <td>False</td>\n",
       "      <td>0.000000</td>\n",
       "    </tr>\n",
       "    <tr>\n",
       "      <th>2326804</th>\n",
       "      <td>20211201_2814</td>\n",
       "      <td>2021-12-01</td>\n",
       "      <td>2814</td>\n",
       "      <td>NaN</td>\n",
       "      <td>NaN</td>\n",
       "      <td>NaN</td>\n",
       "      <td>NaN</td>\n",
       "      <td>0</td>\n",
       "      <td>1.0</td>\n",
       "      <td>NaN</td>\n",
       "      <td>False</td>\n",
       "      <td>-0.010481</td>\n",
       "    </tr>\n",
       "    <tr>\n",
       "      <th>2327247</th>\n",
       "      <td>20211201_4628</td>\n",
       "      <td>2021-12-01</td>\n",
       "      <td>4628</td>\n",
       "      <td>NaN</td>\n",
       "      <td>NaN</td>\n",
       "      <td>NaN</td>\n",
       "      <td>NaN</td>\n",
       "      <td>0</td>\n",
       "      <td>1.0</td>\n",
       "      <td>NaN</td>\n",
       "      <td>False</td>\n",
       "      <td>0.011984</td>\n",
       "    </tr>\n",
       "    <tr>\n",
       "      <th>2328419</th>\n",
       "      <td>20211201_9539</td>\n",
       "      <td>2021-12-01</td>\n",
       "      <td>9539</td>\n",
       "      <td>NaN</td>\n",
       "      <td>NaN</td>\n",
       "      <td>NaN</td>\n",
       "      <td>NaN</td>\n",
       "      <td>0</td>\n",
       "      <td>1.0</td>\n",
       "      <td>NaN</td>\n",
       "      <td>False</td>\n",
       "      <td>0.005917</td>\n",
       "    </tr>\n",
       "    <tr>\n",
       "      <th>2328462</th>\n",
       "      <td>20211201_9733</td>\n",
       "      <td>2021-12-01</td>\n",
       "      <td>9733</td>\n",
       "      <td>NaN</td>\n",
       "      <td>NaN</td>\n",
       "      <td>NaN</td>\n",
       "      <td>NaN</td>\n",
       "      <td>0</td>\n",
       "      <td>1.0</td>\n",
       "      <td>NaN</td>\n",
       "      <td>False</td>\n",
       "      <td>0.000000</td>\n",
       "    </tr>\n",
       "  </tbody>\n",
       "</table>\n",
       "</div>"
      ],
      "text/plain": [
       "                 RowId       Date  SecuritiesCode  Open  High  Low  Close  \\\n",
       "2326786  20211201_2761 2021-12-01            2761   NaN   NaN  NaN    NaN   \n",
       "2326804  20211201_2814 2021-12-01            2814   NaN   NaN  NaN    NaN   \n",
       "2327247  20211201_4628 2021-12-01            4628   NaN   NaN  NaN    NaN   \n",
       "2328419  20211201_9539 2021-12-01            9539   NaN   NaN  NaN    NaN   \n",
       "2328462  20211201_9733 2021-12-01            9733   NaN   NaN  NaN    NaN   \n",
       "\n",
       "         Volume  AdjustmentFactor  ExpectedDividend  SupervisionFlag    Target  \n",
       "2326786       0               1.0               NaN            False  0.000000  \n",
       "2326804       0               1.0               NaN            False -0.010481  \n",
       "2327247       0               1.0               NaN            False  0.011984  \n",
       "2328419       0               1.0               NaN            False  0.005917  \n",
       "2328462       0               1.0               NaN            False  0.000000  "
      ]
     },
     "execution_count": 31,
     "metadata": {},
     "output_type": "execute_result"
    }
   ],
   "source": [
    "d = prices[(prices['Date']=='2021-12-01')]\n",
    "c.query('Open != Open')"
   ]
  },
  {
   "cell_type": "code",
   "execution_count": null,
   "metadata": {},
   "outputs": [],
   "source": []
  },
  {
   "cell_type": "code",
   "execution_count": 32,
   "metadata": {},
   "outputs": [
    {
     "data": {
      "text/plain": [
       "<AxesSubplot:xlabel='Date', ylabel='Open'>"
      ]
     },
     "execution_count": 32,
     "metadata": {},
     "output_type": "execute_result"
    },
    {
     "data": {
      "image/png": "[encoded data removed]",
      "text/plain": [
       "<Figure size 1800x720 with 1 Axes>"
      ]
     },
     "metadata": {
      "needs_background": "light"
     },
     "output_type": "display_data"
    }
   ],
   "source": [
    "\n",
    "plt.figure(figsize=(25,10))\n",
    "sns.lineplot(data = prices.query('SecuritiesCode == 2761 and Date > \"2021-11-01\"' ), x='Date', y= 'Open')\n",
    "\n",
    "#sns.lineplot(data = prices.query('SecuritiesCode == 9994 and Date > \"2021-11-01\"' ), x='Date', y= 'Open')"
   ]
  },
  {
   "cell_type": "code",
   "execution_count": 33,
   "metadata": {},
   "outputs": [
    {
     "data": {
      "text/plain": [
       "<AxesSubplot:xlabel='Date', ylabel='Open'>"
      ]
     },
     "execution_count": 33,
     "metadata": {},
     "output_type": "execute_result"
    },
    {
     "data": {
      "image/png": "[encoded data removed]",
      "text/plain": [
       "<Figure size 1152x720 with 1 Axes>"
      ]
     },
     "metadata": {
      "needs_background": "light"
     },
     "output_type": "display_data"
    }
   ],
   "source": [
    "plt.figure(figsize=(16,10))\n",
    "sns.lineplot(data = prices.query('SecuritiesCode == 2761'), x='Date', y= 'Open')\n",
    "sns.lineplot(data = prices.query('SecuritiesCode == 9994'), x='Date', y= 'Open')\n"
   ]
  },
  {
   "cell_type": "code",
   "execution_count": 34,
   "metadata": {},
   "outputs": [
    {
     "data": {
      "text/plain": [
       "ExpectedDividend    2313666\n",
       "Open                   7608\n",
       "High                   7608\n",
       "Low                    7608\n",
       "Close                  7608\n",
       "Target                  238\n",
       "RowId                     0\n",
       "Date                      0\n",
       "SecuritiesCode            0\n",
       "Volume                    0\n",
       "AdjustmentFactor          0\n",
       "SupervisionFlag           0\n",
       "dtype: int64"
      ]
     },
     "execution_count": 34,
     "metadata": {},
     "output_type": "execute_result"
    }
   ],
   "source": [
    "prices.isnull().sum().sort_values(ascending=False)"
   ]
  },
  {
   "cell_type": "code",
   "execution_count": 35,
   "metadata": {},
   "outputs": [
    {
     "data": {
      "image/png": "[encoded data removed]",
      "text/plain": [
       "<Figure size 864x576 with 1 Axes>"
      ]
     },
     "metadata": {
      "needs_background": "light"
     },
     "output_type": "display_data"
    }
   ],
   "source": [
    "import matplotlib.pyplot as plt\n",
    "import seaborn as sns\n",
    "\n",
    "plt.figure(figsize=(12, 8))\n",
    "sns.heatmap(prices.isna(), cbar=False, cmap=\"plasma\",yticklabels=False)\n",
    "plt.show()"
   ]
  },
  {
   "cell_type": "code",
   "execution_count": 36,
   "metadata": {},
   "outputs": [
    {
     "data": {
      "text/plain": [
       "2000"
      ]
     },
     "execution_count": 36,
     "metadata": {},
     "output_type": "execute_result"
    }
   ],
   "source": [
    "prices.SecuritiesCode.nunique()"
   ]
  },
  {
   "cell_type": "code",
   "execution_count": 37,
   "metadata": {},
   "outputs": [
    {
     "data": {
      "text/html": [
       "<div>\n",
       "<style scoped>\n",
       "    .dataframe tbody tr th:only-of-type {\n",
       "        vertical-align: middle;\n",
       "    }\n",
       "\n",
       "    .dataframe tbody tr th {\n",
       "        vertical-align: top;\n",
       "    }\n",
       "\n",
       "    .dataframe thead th {\n",
       "        text-align: right;\n",
       "    }\n",
       "</style>\n",
       "<table border=\"1\" class=\"dataframe\">\n",
       "  <thead>\n",
       "    <tr style=\"text-align: right;\">\n",
       "      <th></th>\n",
       "      <th>RowId</th>\n",
       "      <th>Date</th>\n",
       "      <th>SecuritiesCode</th>\n",
       "      <th>Open</th>\n",
       "      <th>High</th>\n",
       "      <th>Low</th>\n",
       "      <th>Close</th>\n",
       "      <th>Volume</th>\n",
       "      <th>AdjustmentFactor</th>\n",
       "      <th>ExpectedDividend</th>\n",
       "      <th>SupervisionFlag</th>\n",
       "      <th>Target</th>\n",
       "    </tr>\n",
       "  </thead>\n",
       "  <tbody>\n",
       "    <tr>\n",
       "      <th>401</th>\n",
       "      <td>20170104_3540</td>\n",
       "      <td>2017-01-04</td>\n",
       "      <td>3540</td>\n",
       "      <td>NaN</td>\n",
       "      <td>NaN</td>\n",
       "      <td>NaN</td>\n",
       "      <td>NaN</td>\n",
       "      <td>0</td>\n",
       "      <td>1.0</td>\n",
       "      <td>NaN</td>\n",
       "      <td>False</td>\n",
       "      <td>NaN</td>\n",
       "    </tr>\n",
       "    <tr>\n",
       "      <th>1753</th>\n",
       "      <td>20170104_9539</td>\n",
       "      <td>2017-01-04</td>\n",
       "      <td>9539</td>\n",
       "      <td>NaN</td>\n",
       "      <td>NaN</td>\n",
       "      <td>NaN</td>\n",
       "      <td>NaN</td>\n",
       "      <td>0</td>\n",
       "      <td>1.0</td>\n",
       "      <td>NaN</td>\n",
       "      <td>False</td>\n",
       "      <td>-0.004149</td>\n",
       "    </tr>\n",
       "    <tr>\n",
       "      <th>2266</th>\n",
       "      <td>20170105_3540</td>\n",
       "      <td>2017-01-05</td>\n",
       "      <td>3540</td>\n",
       "      <td>NaN</td>\n",
       "      <td>NaN</td>\n",
       "      <td>NaN</td>\n",
       "      <td>NaN</td>\n",
       "      <td>0</td>\n",
       "      <td>1.0</td>\n",
       "      <td>NaN</td>\n",
       "      <td>False</td>\n",
       "      <td>NaN</td>\n",
       "    </tr>\n",
       "    <tr>\n",
       "      <th>2511</th>\n",
       "      <td>20170105_4621</td>\n",
       "      <td>2017-01-05</td>\n",
       "      <td>4621</td>\n",
       "      <td>NaN</td>\n",
       "      <td>NaN</td>\n",
       "      <td>NaN</td>\n",
       "      <td>NaN</td>\n",
       "      <td>0</td>\n",
       "      <td>1.0</td>\n",
       "      <td>NaN</td>\n",
       "      <td>False</td>\n",
       "      <td>0.000000</td>\n",
       "    </tr>\n",
       "    <tr>\n",
       "      <th>4131</th>\n",
       "      <td>20170106_3540</td>\n",
       "      <td>2017-01-06</td>\n",
       "      <td>3540</td>\n",
       "      <td>NaN</td>\n",
       "      <td>NaN</td>\n",
       "      <td>NaN</td>\n",
       "      <td>NaN</td>\n",
       "      <td>0</td>\n",
       "      <td>1.0</td>\n",
       "      <td>NaN</td>\n",
       "      <td>False</td>\n",
       "      <td>NaN</td>\n",
       "    </tr>\n",
       "    <tr>\n",
       "      <th>...</th>\n",
       "      <td>...</td>\n",
       "      <td>...</td>\n",
       "      <td>...</td>\n",
       "      <td>...</td>\n",
       "      <td>...</td>\n",
       "      <td>...</td>\n",
       "      <td>...</td>\n",
       "      <td>...</td>\n",
       "      <td>...</td>\n",
       "      <td>...</td>\n",
       "      <td>...</td>\n",
       "      <td>...</td>\n",
       "    </tr>\n",
       "    <tr>\n",
       "      <th>2330563</th>\n",
       "      <td>20211203_1787</td>\n",
       "      <td>2021-12-03</td>\n",
       "      <td>1787</td>\n",
       "      <td>NaN</td>\n",
       "      <td>NaN</td>\n",
       "      <td>NaN</td>\n",
       "      <td>NaN</td>\n",
       "      <td>0</td>\n",
       "      <td>1.0</td>\n",
       "      <td>NaN</td>\n",
       "      <td>False</td>\n",
       "      <td>-0.030351</td>\n",
       "    </tr>\n",
       "    <tr>\n",
       "      <th>2330786</th>\n",
       "      <td>20211203_2761</td>\n",
       "      <td>2021-12-03</td>\n",
       "      <td>2761</td>\n",
       "      <td>NaN</td>\n",
       "      <td>NaN</td>\n",
       "      <td>NaN</td>\n",
       "      <td>NaN</td>\n",
       "      <td>0</td>\n",
       "      <td>1.0</td>\n",
       "      <td>NaN</td>\n",
       "      <td>False</td>\n",
       "      <td>0.000000</td>\n",
       "    </tr>\n",
       "    <tr>\n",
       "      <th>2331453</th>\n",
       "      <td>20211203_5918</td>\n",
       "      <td>2021-12-03</td>\n",
       "      <td>5918</td>\n",
       "      <td>NaN</td>\n",
       "      <td>NaN</td>\n",
       "      <td>NaN</td>\n",
       "      <td>NaN</td>\n",
       "      <td>0</td>\n",
       "      <td>1.0</td>\n",
       "      <td>NaN</td>\n",
       "      <td>False</td>\n",
       "      <td>0.015625</td>\n",
       "    </tr>\n",
       "    <tr>\n",
       "      <th>2332336</th>\n",
       "      <td>20211203_9083</td>\n",
       "      <td>2021-12-03</td>\n",
       "      <td>9083</td>\n",
       "      <td>NaN</td>\n",
       "      <td>NaN</td>\n",
       "      <td>NaN</td>\n",
       "      <td>NaN</td>\n",
       "      <td>0</td>\n",
       "      <td>1.0</td>\n",
       "      <td>NaN</td>\n",
       "      <td>False</td>\n",
       "      <td>0.009615</td>\n",
       "    </tr>\n",
       "    <tr>\n",
       "      <th>2332462</th>\n",
       "      <td>20211203_9733</td>\n",
       "      <td>2021-12-03</td>\n",
       "      <td>9733</td>\n",
       "      <td>NaN</td>\n",
       "      <td>NaN</td>\n",
       "      <td>NaN</td>\n",
       "      <td>NaN</td>\n",
       "      <td>0</td>\n",
       "      <td>1.0</td>\n",
       "      <td>NaN</td>\n",
       "      <td>False</td>\n",
       "      <td>0.000000</td>\n",
       "    </tr>\n",
       "  </tbody>\n",
       "</table>\n",
       "<p>7608 rows × 12 columns</p>\n",
       "</div>"
      ],
      "text/plain": [
       "                 RowId       Date  SecuritiesCode  Open  High  Low  Close  \\\n",
       "401      20170104_3540 2017-01-04            3540   NaN   NaN  NaN    NaN   \n",
       "1753     20170104_9539 2017-01-04            9539   NaN   NaN  NaN    NaN   \n",
       "2266     20170105_3540 2017-01-05            3540   NaN   NaN  NaN    NaN   \n",
       "2511     20170105_4621 2017-01-05            4621   NaN   NaN  NaN    NaN   \n",
       "4131     20170106_3540 2017-01-06            3540   NaN   NaN  NaN    NaN   \n",
       "...                ...        ...             ...   ...   ...  ...    ...   \n",
       "2330563  20211203_1787 2021-12-03            1787   NaN   NaN  NaN    NaN   \n",
       "2330786  20211203_2761 2021-12-03            2761   NaN   NaN  NaN    NaN   \n",
       "2331453  20211203_5918 2021-12-03            5918   NaN   NaN  NaN    NaN   \n",
       "2332336  20211203_9083 2021-12-03            9083   NaN   NaN  NaN    NaN   \n",
       "2332462  20211203_9733 2021-12-03            9733   NaN   NaN  NaN    NaN   \n",
       "\n",
       "         Volume  AdjustmentFactor  ExpectedDividend  SupervisionFlag    Target  \n",
       "401           0               1.0               NaN            False       NaN  \n",
       "1753          0               1.0               NaN            False -0.004149  \n",
       "2266          0               1.0               NaN            False       NaN  \n",
       "2511          0               1.0               NaN            False  0.000000  \n",
       "4131          0               1.0               NaN            False       NaN  \n",
       "...         ...               ...               ...              ...       ...  \n",
       "2330563       0               1.0               NaN            False -0.030351  \n",
       "2330786       0               1.0               NaN            False  0.000000  \n",
       "2331453       0               1.0               NaN            False  0.015625  \n",
       "2332336       0               1.0               NaN            False  0.009615  \n",
       "2332462       0               1.0               NaN            False  0.000000  \n",
       "\n",
       "[7608 rows x 12 columns]"
      ]
     },
     "execution_count": 37,
     "metadata": {},
     "output_type": "execute_result"
    }
   ],
   "source": [
    "prices_nan = prices.query('Open != Open')\n",
    "prices_nan"
   ]
  },
  {
   "cell_type": "code",
   "execution_count": 38,
   "metadata": {},
   "outputs": [
    {
     "data": {
      "text/plain": [
       "1992"
      ]
     },
     "execution_count": 38,
     "metadata": {},
     "output_type": "execute_result"
    }
   ],
   "source": [
    "prices_nan.SecuritiesCode.nunique()"
   ]
  },
  {
   "cell_type": "code",
   "execution_count": 39,
   "metadata": {},
   "outputs": [
    {
     "data": {
      "text/plain": [
       "1175"
      ]
     },
     "execution_count": 39,
     "metadata": {},
     "output_type": "execute_result"
    }
   ],
   "source": [
    "prices_nan.Date.nunique()"
   ]
  },
  {
   "cell_type": "code",
   "execution_count": 40,
   "metadata": {},
   "outputs": [
    {
     "data": {
      "text/plain": [
       "2020-10-01    1988\n",
       "2017-03-16      15\n",
       "2019-10-09      14\n",
       "2019-04-04      14\n",
       "2021-10-29      13\n",
       "              ... \n",
       "2017-12-25       1\n",
       "2017-12-26       1\n",
       "2020-03-13       1\n",
       "2018-01-04       1\n",
       "2018-02-21       1\n",
       "Name: Date, Length: 1175, dtype: int64"
      ]
     },
     "execution_count": 40,
     "metadata": {},
     "output_type": "execute_result"
    }
   ],
   "source": [
    "prices_nan.Date.value_counts()"
   ]
  },
  {
   "cell_type": "code",
   "execution_count": 41,
   "metadata": {},
   "outputs": [
    {
     "data": {
      "text/plain": [
       "2017-11-02     1\n",
       "2017-10-05     1\n",
       "2019-12-06     1\n",
       "2021-05-10     1\n",
       "2017-10-03     1\n",
       "              ..\n",
       "2017-01-20    12\n",
       "2021-10-29    13\n",
       "2019-10-09    14\n",
       "2019-04-04    14\n",
       "2017-03-16    15\n",
       "Name: Date, Length: 1174, dtype: int64"
      ]
     },
     "execution_count": 41,
     "metadata": {},
     "output_type": "execute_result"
    }
   ],
   "source": [
    "prices_nan[(prices_nan['Date']!='2020-10-01')].Date.value_counts().sort_values(ascending=True)"
   ]
  },
  {
   "cell_type": "code",
   "execution_count": null,
   "metadata": {},
   "outputs": [],
   "source": []
  },
  {
   "cell_type": "code",
   "execution_count": 42,
   "metadata": {},
   "outputs": [
    {
     "data": {
      "image/png": "[encoded data removed]",
      "text/plain": [
       "<Figure size 864x576 with 1 Axes>"
      ]
     },
     "metadata": {
      "needs_background": "light"
     },
     "output_type": "display_data"
    }
   ],
   "source": [
    "plt.figure(figsize=(12, 8))\n",
    "sns.heatmap(prices_nan.isna(), cbar=False, cmap=\"plasma\",yticklabels=False)\n",
    "plt.show()"
   ]
  },
  {
   "cell_type": "code",
   "execution_count": 43,
   "metadata": {},
   "outputs": [],
   "source": [
    "trades = pd.read_csv('data/train_files/trades.csv')"
   ]
  },
  {
   "cell_type": "code",
   "execution_count": 44,
   "metadata": {},
   "outputs": [
    {
     "data": {
      "text/plain": [
       "(1712, 56)"
      ]
     },
     "execution_count": 44,
     "metadata": {},
     "output_type": "execute_result"
    }
   ],
   "source": [
    "trades.shape"
   ]
  },
  {
   "cell_type": "markdown",
   "metadata": {},
   "source": [
    "- forward fill for 1-10-2020\n",
    "- / consecutive missing values of trades can be removed. the stock was taken out\n",
    "- forward fill for missing values"
   ]
  },
  {
   "cell_type": "code",
   "execution_count": 45,
   "metadata": {},
   "outputs": [],
   "source": [
    "prices_wo_nan = prices.query('Date != \"2020-10-01\" and Open == Open')\n"
   ]
  },
  {
   "cell_type": "code",
   "execution_count": 46,
   "metadata": {},
   "outputs": [
    {
     "data": {
      "text/plain": [
       "(2332531, 12)"
      ]
     },
     "execution_count": 46,
     "metadata": {},
     "output_type": "execute_result"
    }
   ],
   "source": [
    "prices.shape"
   ]
  },
  {
   "cell_type": "code",
   "execution_count": 47,
   "metadata": {},
   "outputs": [
    {
     "data": {
      "text/plain": [
       "(2324923, 12)"
      ]
     },
     "execution_count": 47,
     "metadata": {},
     "output_type": "execute_result"
    }
   ],
   "source": [
    "prices_wo_nan.shape"
   ]
  },
  {
   "cell_type": "code",
   "execution_count": 48,
   "metadata": {},
   "outputs": [
    {
     "data": {
      "text/plain": [
       "ExpectedDividend    2306082\n",
       "RowId                     0\n",
       "Date                      0\n",
       "SecuritiesCode            0\n",
       "Open                      0\n",
       "High                      0\n",
       "Low                       0\n",
       "Close                     0\n",
       "Volume                    0\n",
       "AdjustmentFactor          0\n",
       "SupervisionFlag           0\n",
       "Target                    0\n",
       "dtype: int64"
      ]
     },
     "execution_count": 48,
     "metadata": {},
     "output_type": "execute_result"
    }
   ],
   "source": [
    "prices_wo_nan.isnull().sum().sort_values(ascending=False)"
   ]
  },
  {
   "cell_type": "markdown",
   "metadata": {},
   "source": [
    "## Stats"
   ]
  },
  {
   "cell_type": "code",
   "execution_count": 49,
   "metadata": {},
   "outputs": [
    {
     "data": {
      "text/html": [
       "<div>\n",
       "<style scoped>\n",
       "    .dataframe tbody tr th:only-of-type {\n",
       "        vertical-align: middle;\n",
       "    }\n",
       "\n",
       "    .dataframe tbody tr th {\n",
       "        vertical-align: top;\n",
       "    }\n",
       "\n",
       "    .dataframe thead th {\n",
       "        text-align: right;\n",
       "    }\n",
       "</style>\n",
       "<table border=\"1\" class=\"dataframe\">\n",
       "  <thead>\n",
       "    <tr style=\"text-align: right;\">\n",
       "      <th></th>\n",
       "      <th>RowId</th>\n",
       "      <th>Date</th>\n",
       "      <th>SecuritiesCode</th>\n",
       "      <th>Open</th>\n",
       "      <th>High</th>\n",
       "      <th>Low</th>\n",
       "      <th>Close</th>\n",
       "      <th>Volume</th>\n",
       "      <th>AdjustmentFactor</th>\n",
       "      <th>ExpectedDividend</th>\n",
       "      <th>SupervisionFlag</th>\n",
       "      <th>Target</th>\n",
       "    </tr>\n",
       "  </thead>\n",
       "  <tbody>\n",
       "    <tr>\n",
       "      <th>0</th>\n",
       "      <td>20170104_1301</td>\n",
       "      <td>2017-01-04</td>\n",
       "      <td>1301</td>\n",
       "      <td>2734.0</td>\n",
       "      <td>2755.0</td>\n",
       "      <td>2730.0</td>\n",
       "      <td>2742.0</td>\n",
       "      <td>31400</td>\n",
       "      <td>1.0</td>\n",
       "      <td>NaN</td>\n",
       "      <td>False</td>\n",
       "      <td>0.000730</td>\n",
       "    </tr>\n",
       "    <tr>\n",
       "      <th>1</th>\n",
       "      <td>20170104_1332</td>\n",
       "      <td>2017-01-04</td>\n",
       "      <td>1332</td>\n",
       "      <td>568.0</td>\n",
       "      <td>576.0</td>\n",
       "      <td>563.0</td>\n",
       "      <td>571.0</td>\n",
       "      <td>2798500</td>\n",
       "      <td>1.0</td>\n",
       "      <td>NaN</td>\n",
       "      <td>False</td>\n",
       "      <td>0.012324</td>\n",
       "    </tr>\n",
       "    <tr>\n",
       "      <th>2</th>\n",
       "      <td>20170104_1333</td>\n",
       "      <td>2017-01-04</td>\n",
       "      <td>1333</td>\n",
       "      <td>3150.0</td>\n",
       "      <td>3210.0</td>\n",
       "      <td>3140.0</td>\n",
       "      <td>3210.0</td>\n",
       "      <td>270800</td>\n",
       "      <td>1.0</td>\n",
       "      <td>NaN</td>\n",
       "      <td>False</td>\n",
       "      <td>0.006154</td>\n",
       "    </tr>\n",
       "    <tr>\n",
       "      <th>3</th>\n",
       "      <td>20170104_1376</td>\n",
       "      <td>2017-01-04</td>\n",
       "      <td>1376</td>\n",
       "      <td>1510.0</td>\n",
       "      <td>1550.0</td>\n",
       "      <td>1510.0</td>\n",
       "      <td>1550.0</td>\n",
       "      <td>11300</td>\n",
       "      <td>1.0</td>\n",
       "      <td>NaN</td>\n",
       "      <td>False</td>\n",
       "      <td>0.011053</td>\n",
       "    </tr>\n",
       "    <tr>\n",
       "      <th>4</th>\n",
       "      <td>20170104_1377</td>\n",
       "      <td>2017-01-04</td>\n",
       "      <td>1377</td>\n",
       "      <td>3270.0</td>\n",
       "      <td>3350.0</td>\n",
       "      <td>3270.0</td>\n",
       "      <td>3330.0</td>\n",
       "      <td>150800</td>\n",
       "      <td>1.0</td>\n",
       "      <td>NaN</td>\n",
       "      <td>False</td>\n",
       "      <td>0.003026</td>\n",
       "    </tr>\n",
       "  </tbody>\n",
       "</table>\n",
       "</div>"
      ],
      "text/plain": [
       "           RowId       Date  SecuritiesCode    Open    High     Low   Close  \\\n",
       "0  20170104_1301 2017-01-04            1301  2734.0  2755.0  2730.0  2742.0   \n",
       "1  20170104_1332 2017-01-04            1332   568.0   576.0   563.0   571.0   \n",
       "2  20170104_1333 2017-01-04            1333  3150.0  3210.0  3140.0  3210.0   \n",
       "3  20170104_1376 2017-01-04            1376  1510.0  1550.0  1510.0  1550.0   \n",
       "4  20170104_1377 2017-01-04            1377  3270.0  3350.0  3270.0  3330.0   \n",
       "\n",
       "    Volume  AdjustmentFactor  ExpectedDividend  SupervisionFlag    Target  \n",
       "0    31400               1.0               NaN            False  0.000730  \n",
       "1  2798500               1.0               NaN            False  0.012324  \n",
       "2   270800               1.0               NaN            False  0.006154  \n",
       "3    11300               1.0               NaN            False  0.011053  \n",
       "4   150800               1.0               NaN            False  0.003026  "
      ]
     },
     "execution_count": 49,
     "metadata": {},
     "output_type": "execute_result"
    }
   ],
   "source": [
    "prices.head()"
   ]
  },
  {
   "cell_type": "markdown",
   "metadata": {},
   "source": [
    "# Features engineering"
   ]
  },
  {
   "cell_type": "markdown",
   "metadata": {},
   "source": [
    "### - Adjusted\n",
    "to calculate theoretical price/volume when split/reverse-split happens (NOT including dividend/allotment of shares/)"
   ]
  },
  {
   "cell_type": "code",
   "execution_count": 50,
   "metadata": {},
   "outputs": [
    {
     "data": {
      "text/plain": [
       "array([ 1.        ,  0.5       ,  5.        ,  0.33333333,  0.83333333,\n",
       "        0.25      ,  0.90909091,  0.1       , 10.        ,  0.2       ,\n",
       "        0.95238095,  2.        ,  0.14285714,  0.66666667,  0.86956522,\n",
       "        0.76923077,  0.8       ,  4.        , 20.        ])"
      ]
     },
     "execution_count": 50,
     "metadata": {},
     "output_type": "execute_result"
    }
   ],
   "source": [
    "prices.AdjustmentFactor.unique()"
   ]
  },
  {
   "cell_type": "markdown",
   "metadata": {},
   "source": [
    "- amount of stocks for each adjustment factor"
   ]
  },
  {
   "cell_type": "code",
   "execution_count": 51,
   "metadata": {},
   "outputs": [
    {
     "name": "stdout",
     "output_type": "stream",
     "text": [
      "adjustment factor = 0.1   \t:  3 trades\n",
      "adjustment factor = 0.14   \t:  1 trades\n",
      "adjustment factor = 0.2   \t:  20 trades\n",
      "adjustment factor = 0.25   \t:  33 trades\n",
      "adjustment factor = 0.33   \t:  59 trades\n",
      "adjustment factor = 0.5   \t:  328 trades\n",
      "adjustment factor = 0.67   \t:  4 trades\n",
      "adjustment factor = 0.77   \t:  6 trades\n",
      "adjustment factor = 0.8   \t:  2 trades\n",
      "adjustment factor = 0.83   \t:  6 trades\n",
      "adjustment factor = 0.87   \t:  1 trades\n",
      "adjustment factor = 0.91   \t:  10 trades\n",
      "adjustment factor = 0.95   \t:  3 trades\n",
      "adjustment factor = 1.0   \t:  2331801 trades\n",
      "adjustment factor = 2.0   \t:  36 trades\n",
      "adjustment factor = 4.0   \t:  1 trades\n",
      "adjustment factor = 5.0   \t:  113 trades\n",
      "adjustment factor = 10.0   \t:  103 trades\n",
      "adjustment factor = 20.0   \t:  1 trades\n"
     ]
    }
   ],
   "source": [
    "\n",
    "for i in sorted(prices.AdjustmentFactor.unique()):\n",
    "    print( 'adjustment factor = {}   \\t:  {} trades'.format(\n",
    "        round(i,2), prices[(prices['AdjustmentFactor']==i)].Date.count()\n",
    "    ))\n",
    "   "
   ]
  },
  {
   "cell_type": "code",
   "execution_count": 52,
   "metadata": {},
   "outputs": [],
   "source": [
    "def adjust_price(df):\n",
    "    # cumulative adjustment factor considering the day shift\n",
    "    df.loc[:,'CAF'] = df['AdjustmentFactor'].cumprod().shift(1)\n",
    "    # fill nan values\n",
    "    df.CAF.fillna(1, inplace=True)\n",
    "    # prices to be adjusted\n",
    "    prices =[ 'Open', 'High', 'Low', 'Close']\n",
    "\n",
    "    for x in prices:\n",
    "        df.loc[:,'ad_' + str(x)]  = df[x] / df['CAF']\n",
    "    \n",
    "    # adjust volume\n",
    "    df['ad_Volume'] = df['Volume'] * df['CAF']\n",
    "    df.drop('CAF', axis=1, inplace=True)\n",
    "\n",
    "    return df"
   ]
  },
  {
   "cell_type": "code",
   "execution_count": 53,
   "metadata": {},
   "outputs": [
    {
     "name": "stderr",
     "output_type": "stream",
     "text": [
      "100%|██████████| 4/4 [00:00<00:00, 19.37it/s]\n"
     ]
    }
   ],
   "source": [
    "# create an empty new DataFrame\n",
    "adjusted_data = pd.DataFrame(columns = prices.columns)\n",
    "\n",
    "for i in tqdm([8876, 6630, 7453, 7638]): #tqdm(prices.SecuritiesCode.unique()):\n",
    "    df = prices.query('SecuritiesCode ==@i')\n",
    "    adjusted_df = adjust_price(df)\n",
    "    adjusted_data = pd.concat([adjusted_data, adjusted_df ], axis=0)"
   ]
  },
  {
   "cell_type": "code",
   "execution_count": 54,
   "metadata": {},
   "outputs": [],
   "source": [
    "def plot_stock(df, Code):\n",
    "    single_stock = df.query('SecuritiesCode==@Code')\n",
    "    plt.figure(figsize=(20,5))\n",
    "    sns.lineplot(data=single_stock, y='Close', x='Date')\n",
    "    ax2 = plt.twinx()\n",
    "    sns.lineplot(data=single_stock, y='ad_Close', x='Date', color='red')\n"
   ]
  },
  {
   "cell_type": "code",
   "execution_count": 55,
   "metadata": {},
   "outputs": [
    {
     "data": {
      "image/png": "[encoded data removed]",
      "text/plain": [
       "<Figure size 1440x360 with 2 Axes>"
      ]
     },
     "metadata": {
      "needs_background": "light"
     },
     "output_type": "display_data"
    },
    {
     "data": {
      "image/png": "[encoded data removed]",
      "text/plain": [
       "<Figure size 1440x360 with 2 Axes>"
      ]
     },
     "metadata": {
      "needs_background": "light"
     },
     "output_type": "display_data"
    },
    {
     "data": {
      "image/png": "[encoded data removed]",
      "text/plain": [
       "<Figure size 1440x360 with 2 Axes>"
      ]
     },
     "metadata": {
      "needs_background": "light"
     },
     "output_type": "display_data"
    },
    {
     "data": {
      "image/png": "[encoded data removed]",
      "text/plain": [
       "<Figure size 1440x360 with 2 Axes>"
      ]
     },
     "metadata": {
      "needs_background": "light"
     },
     "output_type": "display_data"
    }
   ],
   "source": [
    "for i in [8876, 6630, 7453, 7638]:\n",
    "    plot_stock(adjusted_data, i)"
   ]
  }
 ],
 "metadata": {
  "interpreter": {
   "hash": "8e59dc4903522b6bd625aac9b906fbe96a3134871878cc11f65b8580a1e47af4"
  },
  "kernelspec": {
   "display_name": "Python 3.9.4 ('.venv': venv)",
   "language": "python",
   "name": "python3"
  },
  "language_info": {
   "codemirror_mode": {
    "name": "ipython",
    "version": 3
   },
   "file_extension": ".py",
   "mimetype": "text/x-python",
   "name": "python",
   "nbconvert_exporter": "python",
   "pygments_lexer": "ipython3",
   "version": "3.9.4"
  },
  "orig_nbformat": 4
 },
 "nbformat": 4,
 "nbformat_minor": 2
}
