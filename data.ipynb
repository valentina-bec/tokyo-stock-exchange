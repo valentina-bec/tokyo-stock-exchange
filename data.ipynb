{
 "cells": [
  {
   "cell_type": "code",
   "execution_count": null,
   "metadata": {},
   "outputs": [],
   "source": [
    "import pandas as pd\n",
    "import matplotlib.pyplot as plt\n",
    "import seaborn as sns\n",
    "import numpy as np\n",
    "\n",
    "from datetime import datetime, timedelta\n",
    "from tqdm import tqdm\n",
    "\n",
    "from matplotlib.dates import DateFormatter\n",
    "import warnings\n",
    "warnings.filterwarnings(\"ignore\")"
   ]
  },
  {
   "cell_type": "markdown",
   "metadata": {},
   "source": [
    "# Data\n",
    "## Financials"
   ]
  },
  {
   "cell_type": "code",
   "execution_count": null,
   "metadata": {},
   "outputs": [],
   "source": [
    "financial = pd.read_csv('data/train_files/financials.csv')"
   ]
  },
  {
   "cell_type": "code",
   "execution_count": null,
   "metadata": {},
   "outputs": [],
   "source": [
    "financial.head(2)"
   ]
  },
  {
   "cell_type": "code",
   "execution_count": null,
   "metadata": {},
   "outputs": [],
   "source": [
    "# 2761\n",
    "financial.query('SecuritiesCode == 2761').tail()"
   ]
  },
  {
   "cell_type": "code",
   "execution_count": null,
   "metadata": {},
   "outputs": [],
   "source": [
    "financial.columns"
   ]
  },
  {
   "cell_type": "markdown",
   "metadata": {},
   "source": [
    "free storage"
   ]
  },
  {
   "cell_type": "code",
   "execution_count": null,
   "metadata": {},
   "outputs": [],
   "source": [
    "del financial"
   ]
  },
  {
   "cell_type": "markdown",
   "metadata": {},
   "source": [
    "## Options"
   ]
  },
  {
   "cell_type": "code",
   "execution_count": null,
   "metadata": {},
   "outputs": [],
   "source": [
    "options = pd.read_csv('data/train_files/options.csv', parse_dates=[1])"
   ]
  },
  {
   "cell_type": "code",
   "execution_count": null,
   "metadata": {},
   "outputs": [],
   "source": [
    "options.head(2)"
   ]
  },
  {
   "cell_type": "code",
   "execution_count": null,
   "metadata": {},
   "outputs": [],
   "source": [
    "options.columns"
   ]
  },
  {
   "cell_type": "markdown",
   "metadata": {},
   "source": [
    "will not be used"
   ]
  },
  {
   "cell_type": "code",
   "execution_count": null,
   "metadata": {},
   "outputs": [],
   "source": [
    "options.OptionsCode.nunique()"
   ]
  },
  {
   "cell_type": "code",
   "execution_count": null,
   "metadata": {},
   "outputs": [],
   "source": [
    "del options"
   ]
  },
  {
   "cell_type": "markdown",
   "metadata": {},
   "source": [
    "## Submission"
   ]
  },
  {
   "cell_type": "code",
   "execution_count": null,
   "metadata": {},
   "outputs": [],
   "source": [
    "submission = pd.read_csv('data/example_test_files/sample_submission.csv', date_parser=[0])\n",
    "submission.shape"
   ]
  },
  {
   "cell_type": "code",
   "execution_count": null,
   "metadata": {},
   "outputs": [],
   "source": [
    "submission.nunique()"
   ]
  },
  {
   "cell_type": "code",
   "execution_count": null,
   "metadata": {},
   "outputs": [],
   "source": [
    "submission.head()"
   ]
  },
  {
   "cell_type": "markdown",
   "metadata": {},
   "source": [
    "Target: calculate the rank for each security code for the next 56 working days"
   ]
  },
  {
   "cell_type": "code",
   "execution_count": null,
   "metadata": {},
   "outputs": [],
   "source": [
    "del submission"
   ]
  },
  {
   "cell_type": "markdown",
   "metadata": {},
   "source": [
    "## Stock prices"
   ]
  },
  {
   "cell_type": "code",
   "execution_count": null,
   "metadata": {},
   "outputs": [],
   "source": [
    "prices = pd.read_csv('data/train_files/stock_prices.csv', parse_dates=[1])\n",
    "prices.shape"
   ]
  },
  {
   "cell_type": "code",
   "execution_count": null,
   "metadata": {},
   "outputs": [],
   "source": [
    "prices.head(2)"
   ]
  },
  {
   "cell_type": "markdown",
   "metadata": {},
   "source": [
    "### - date"
   ]
  },
  {
   "cell_type": "code",
   "execution_count": null,
   "metadata": {},
   "outputs": [],
   "source": [
    "date = prices.Date\n",
    "date_desc = date.describe(datetime_is_numeric=True)\n",
    "date_min = date_desc.loc['min']\n",
    "date_max = date_desc.loc['max']\n",
    "print('Data from {:%Y-%m-%d} to {:%Y-%m-%d}'\n",
    "        .format(date_min, date_max))\n",
    "print('Data observations {} '.format(\n",
    "                 date.nunique()))"
   ]
  },
  {
   "cell_type": "markdown",
   "metadata": {},
   "source": [
    "from https://www.timeanddate.com/date/workdays.html?d1=4&m1=1&y1=2017&d2=3&m2=12&y2=2021&ti=on&\n",
    "\n",
    "1211 days \n",
    "\n",
    "1795 calendar days – 584 days skipped:\n",
    "Excluded 256 Saturdays\n",
    "Excluded 256 Sundays\n",
    "Excluded 72 holidays\n",
    "\n",
    "excluded 2010-10-1 because system failer in jpx\n",
    "\n",
    "remain 1210 days  and 8 left\n",
    "- Which one are missing and why?"
   ]
  },
  {
   "cell_type": "markdown",
   "metadata": {},
   "source": [
    "1202 == 1794 . we miss data, where?\n",
    "- find missing data"
   ]
  },
  {
   "cell_type": "markdown",
   "metadata": {},
   "source": [
    "- generate working days"
   ]
  },
  {
   "cell_type": "code",
   "execution_count": null,
   "metadata": {},
   "outputs": [],
   "source": [
    "# test handel with timeseries in dataframe\n",
    "t = np.arange(date_min, date_max, timedelta(days=1)).astype(datetime)\n",
    "\n",
    "#t_work = [day for day in t if asia.Japan().is_working_day(day)]\n",
    "date_df = pd.DataFrame(date)\n",
    "#time_df = pd.to_datetime(t_work)\n",
    "type(pd.Timestamp(date.unique()[0]))"
   ]
  },
  {
   "cell_type": "markdown",
   "metadata": {},
   "source": [
    "- observations"
   ]
  },
  {
   "cell_type": "code",
   "execution_count": null,
   "metadata": {},
   "outputs": [],
   "source": [
    "prices.info()"
   ]
  },
  {
   "cell_type": "code",
   "execution_count": null,
   "metadata": {},
   "outputs": [],
   "source": [
    "prices.head(2)"
   ]
  },
  {
   "cell_type": "code",
   "execution_count": null,
   "metadata": {},
   "outputs": [],
   "source": [
    "prices.tail(2)"
   ]
  },
  {
   "cell_type": "markdown",
   "metadata": {},
   "source": [
    "- amount of trades each day"
   ]
  },
  {
   "cell_type": "code",
   "execution_count": null,
   "metadata": {},
   "outputs": [],
   "source": [
    "count = pd.DataFrame(prices.Date.value_counts().reset_index())\n",
    "count.head()\n",
    "plt.figure(figsize = (20,5))\n",
    "sns.lineplot(data = count, x= 'index', y ='Date')\n"
   ]
  },
  {
   "cell_type": "markdown",
   "metadata": {},
   "source": [
    "are stocks added during the time? \n",
    "compare the stocks in 1 feb 2017 with the stocks in 1 Feb 2121 "
   ]
  },
  {
   "cell_type": "code",
   "execution_count": null,
   "metadata": {},
   "outputs": [],
   "source": [
    "# stock for each days\n",
    "feb2017 = prices[prices['Date']=='2017-2-1']\n",
    "feb2021 = prices[prices['Date']=='2021-2-1']\n",
    "\n",
    "print('SecuritiesCode for Feb 2017 : {} \\nSecuritiesCode for Feb 2021 : {}'. format(\n",
    "                                    feb2017.SecuritiesCode.nunique(), feb2021.SecuritiesCode.nunique()\n",
    "))"
   ]
  },
  {
   "cell_type": "code",
   "execution_count": null,
   "metadata": {},
   "outputs": [],
   "source": [
    "# new Securites Code in 2021\n",
    "codes_2017 = feb2017.SecuritiesCode.to_list()\n",
    "new_codes = feb2021[~feb2021['SecuritiesCode'].isin(codes_2017)]\n",
    "old_codes = feb2021[~feb2021['SecuritiesCode'].isin(new_codes.SecuritiesCode.to_list())]\n",
    "print(new_codes.SecuritiesCode.count())\n",
    "print(old_codes.SecuritiesCode.count())"
   ]
  },
  {
   "cell_type": "code",
   "execution_count": null,
   "metadata": {},
   "outputs": [],
   "source": [
    "def plot_stock(df, Code, feature='Target'):\n",
    "    df = df.query('SecuritiesCode==@Code')\n",
    "    #plt.figure(figsize=(20,5))\n",
    "    sns.lineplot(data=df, y=feature, x='Date', label=code)"
   ]
  },
  {
   "cell_type": "code",
   "execution_count": null,
   "metadata": {},
   "outputs": [],
   "source": [
    "fig, ax = plt.subplots(figsize=(20,5))\n",
    "for code in [1375, 1301]:\n",
    "    plot_stock(prices, code)\n",
    "\n",
    "    ax.xaxis.set_major_formatter(DateFormatter(\"%m-%Y\"))"
   ]
  },
  {
   "cell_type": "markdown",
   "metadata": {},
   "source": [
    "there are 135 Securities codes not listed in 2017. \n",
    "may be they were launch later. "
   ]
  },
  {
   "cell_type": "markdown",
   "metadata": {},
   "source": [
    "### nan values"
   ]
  },
  {
   "cell_type": "code",
   "execution_count": null,
   "metadata": {},
   "outputs": [],
   "source": [
    "a = prices[(prices['Date']=='2021-12-03')]\n",
    "a.count()"
   ]
  },
  {
   "cell_type": "code",
   "execution_count": null,
   "metadata": {},
   "outputs": [],
   "source": [
    "a.query('Open != Open')"
   ]
  },
  {
   "cell_type": "markdown",
   "metadata": {},
   "source": [
    "a day before"
   ]
  },
  {
   "cell_type": "code",
   "execution_count": null,
   "metadata": {},
   "outputs": [],
   "source": [
    "b = prices[(prices['Date']=='2021-12-02')]\n",
    "b.query('Open != Open')"
   ]
  },
  {
   "cell_type": "markdown",
   "metadata": {},
   "source": [
    "and before"
   ]
  },
  {
   "cell_type": "code",
   "execution_count": null,
   "metadata": {},
   "outputs": [],
   "source": [
    "c = prices[(prices['Date']=='2021-12-01')]\n",
    "c.query('Open != Open')"
   ]
  },
  {
   "cell_type": "code",
   "execution_count": null,
   "metadata": {},
   "outputs": [],
   "source": [
    "d = prices[(prices['Date']=='2021-12-01')]\n",
    "c.query('Open != Open')"
   ]
  },
  {
   "cell_type": "code",
   "execution_count": null,
   "metadata": {},
   "outputs": [],
   "source": []
  },
  {
   "cell_type": "code",
   "execution_count": null,
   "metadata": {},
   "outputs": [],
   "source": [
    "\n",
    "plt.figure(figsize=(25,10))\n",
    "sns.lineplot(data = prices.query('SecuritiesCode == 2761 and Date > \"2021-11-01\"' ), x='Date', y= 'Open')\n",
    "\n",
    "#sns.lineplot(data = prices.query('SecuritiesCode == 9994 and Date > \"2021-11-01\"' ), x='Date', y= 'Open')"
   ]
  },
  {
   "cell_type": "code",
   "execution_count": null,
   "metadata": {},
   "outputs": [],
   "source": [
    "plt.figure(figsize=(16,10))\n",
    "sns.lineplot(data = prices.query('SecuritiesCode == 3540'), x='Date', y= 'Open')\n",
    "sns.lineplot(data = prices.query('SecuritiesCode == 9994'), x='Date', y= 'Open')\n"
   ]
  },
  {
   "cell_type": "code",
   "execution_count": null,
   "metadata": {},
   "outputs": [],
   "source": [
    "prices.isnull().sum().sort_values(ascending=False)"
   ]
  },
  {
   "cell_type": "code",
   "execution_count": null,
   "metadata": {},
   "outputs": [],
   "source": [
    "import matplotlib.pyplot as plt\n",
    "import seaborn as sns\n",
    "\n",
    "plt.figure(figsize=(12, 8))\n",
    "sns.heatmap(prices.isna(), cbar=False, cmap=\"plasma\",yticklabels=False)\n",
    "plt.show()"
   ]
  },
  {
   "cell_type": "code",
   "execution_count": null,
   "metadata": {},
   "outputs": [],
   "source": [
    "prices_nan = prices.query('Open != Open')\n",
    "prices_nan.shape"
   ]
  },
  {
   "cell_type": "code",
   "execution_count": null,
   "metadata": {},
   "outputs": [],
   "source": [
    "prices_nan.Date.value_counts()"
   ]
  },
  {
   "cell_type": "code",
   "execution_count": null,
   "metadata": {},
   "outputs": [],
   "source": [
    "prices_nan[(prices_nan['Date']!='2020-10-01')].Date.value_counts().sort_values(ascending=True)"
   ]
  },
  {
   "cell_type": "code",
   "execution_count": null,
   "metadata": {},
   "outputs": [],
   "source": [
    "plt.figure(figsize=(12, 8))\n",
    "sns.heatmap(prices_nan.isna(), cbar=False, cmap=\"plasma\",yticklabels=False)\n",
    "plt.show()"
   ]
  },
  {
   "cell_type": "markdown",
   "metadata": {},
   "source": [
    "- forward fill for 1-10-2020\n",
    "- / consecutive missing values of trades can be removed. the stock was taken out\n",
    "- forward fill for missing values"
   ]
  },
  {
   "cell_type": "code",
   "execution_count": null,
   "metadata": {},
   "outputs": [],
   "source": [
    "prices_wo_nan = prices.query('Date != \"2020-10-01\" and Open == Open')"
   ]
  },
  {
   "cell_type": "code",
   "execution_count": null,
   "metadata": {},
   "outputs": [],
   "source": [
    "prices_wo_nan.isnull().sum().sort_values(ascending=False)"
   ]
  },
  {
   "cell_type": "markdown",
   "metadata": {},
   "source": [
    "### SupervisionFlag\n",
    "Flag of Securities Under Supervision & Securities to Be Delisted\n",
    "https://www.jpx.co.jp/english/listing/market-alerts/supervision/00-archives/index.html )\n",
    "\n",
    "\n",
    "If a stock is designated as Securities Under Supervision or Securities to Be Delisted during the private period, it will be excluded from investment after the date of designation"
   ]
  },
  {
   "cell_type": "code",
   "execution_count": null,
   "metadata": {},
   "outputs": [],
   "source": [
    "prices.head()"
   ]
  },
  {
   "cell_type": "code",
   "execution_count": null,
   "metadata": {},
   "outputs": [],
   "source": [
    "prices.SupervisionFlag.value_counts()"
   ]
  },
  {
   "cell_type": "code",
   "execution_count": null,
   "metadata": {},
   "outputs": [],
   "source": [
    "from functions import plot_stock\n",
    "w_flag = prices[(prices['SupervisionFlag']==True)]\n",
    "w_flag.shape\n"
   ]
  },
  {
   "cell_type": "code",
   "execution_count": null,
   "metadata": {},
   "outputs": [],
   "source": [
    "w_flag.head()"
   ]
  },
  {
   "cell_type": "code",
   "execution_count": null,
   "metadata": {},
   "outputs": [],
   "source": [
    "print(f'Securities codes with flag: {w_flag.SecuritiesCode.nunique()} ')\n",
    "print(f'Securities codes: {w_flag.SecuritiesCode.unique()} : ')"
   ]
  },
  {
   "cell_type": "code",
   "execution_count": null,
   "metadata": {},
   "outputs": [],
   "source": [
    "codes = w_flag.SecuritiesCode.unique()\n",
    "\n",
    "for code in codes[:3]:\n",
    "    plot_stock(prices, code)\n",
    "    plot_stock(w_flag, code)\n",
    "    plt.show()"
   ]
  },
  {
   "cell_type": "code",
   "execution_count": null,
   "metadata": {},
   "outputs": [],
   "source": [
    "date = w_flag.Date\n",
    "date_desc = date.describe(datetime_is_numeric=True)\n",
    "date_min = date_desc.loc['min']\n",
    "date_max = date_desc.loc['max']\n",
    "print('Data from {:%Y-%m-%d} to {:%Y-%m-%d}'\n",
    "        .format(date_min, date_max))\n",
    "print('Data observations {} '.format(\n",
    "                 date.nunique()))"
   ]
  },
  {
   "cell_type": "markdown",
   "metadata": {},
   "source": [
    "the flags are set for the whole period of time"
   ]
  },
  {
   "cell_type": "markdown",
   "metadata": {},
   "source": [
    "- how long has a stock a flag?"
   ]
  },
  {
   "cell_type": "code",
   "execution_count": null,
   "metadata": {},
   "outputs": [],
   "source": [
    "flag_day = {}\n",
    "for code in codes: \n",
    "    current = w_flag.query('SecuritiesCode == @ code')\n",
    "    date = current.Date\n",
    "    date_desc = date.describe(datetime_is_numeric=True)\n",
    "    date_min = date_desc.loc['min']\n",
    "    date_max = date_desc.loc['max']\n",
    "    flag_day[code] = [date_min, date_max, date.nunique()]\n"
   ]
  },
  {
   "cell_type": "code",
   "execution_count": null,
   "metadata": {},
   "outputs": [],
   "source": [
    "flag_stats = pd.DataFrame(flag_day).T\n",
    "flag_stats.columns = ['start_flag', 'end_flag', 'days_w_flag']\n",
    "flag_stats"
   ]
  },
  {
   "cell_type": "markdown",
   "metadata": {},
   "source": [
    "encode flag: "
   ]
  },
  {
   "cell_type": "code",
   "execution_count": null,
   "metadata": {},
   "outputs": [],
   "source": [
    "prices.head()"
   ]
  },
  {
   "cell_type": "code",
   "execution_count": null,
   "metadata": {},
   "outputs": [],
   "source": [
    "from sklearn.preprocessing import LabelEncoder\n",
    "enc = LabelEncoder()\n",
    "enc.fit(prices[\"SupervisionFlag\"])\n",
    "prices[\"SupervisionFlag\"]=enc.transform(prices[\"SupervisionFlag\"])"
   ]
  },
  {
   "cell_type": "code",
   "execution_count": null,
   "metadata": {},
   "outputs": [],
   "source": [
    "prices.SupervisionFlag.value_counts()"
   ]
  },
  {
   "cell_type": "markdown",
   "metadata": {},
   "source": [
    "### Target\n",
    "Change ratio of adjusted closing price between t+2 and t+1 where t+0 is TradeDate <br>\n",
    "r(k,t) = C(k, t+2) - C(k, t+1) / C(k, t+1)\n",
    "\n",
    "- adjusted stock price is used"
   ]
  },
  {
   "cell_type": "code",
   "execution_count": null,
   "metadata": {},
   "outputs": [],
   "source": [
    "sns.histplot(prices.Target, bins=800, )\n",
    "plt.xlim([-0.4, 0.4])"
   ]
  },
  {
   "cell_type": "markdown",
   "metadata": {},
   "source": [
    "target for a stock"
   ]
  },
  {
   "cell_type": "code",
   "execution_count": null,
   "metadata": {},
   "outputs": [],
   "source": [
    "def plot_target(df, Code):\n",
    "    single_stock = df.query('SecuritiesCode==@Code')\n",
    "    plt.figure(figsize=(20,5))\n",
    "    sns.lineplot(data=single_stock, y='Close', x='Date')\n",
    "    ax2 = plt.twinx()\n",
    "    sns.lineplot(data=single_stock, y='Target', x='Date', color='red')  "
   ]
  },
  {
   "cell_type": "code",
   "execution_count": null,
   "metadata": {},
   "outputs": [],
   "source": [
    "for i in [8876, 6630, 2761, 2753]:\n",
    "    plot_target(prices, i)"
   ]
  },
  {
   "cell_type": "markdown",
   "metadata": {},
   "source": [
    "- target"
   ]
  },
  {
   "cell_type": "code",
   "execution_count": null,
   "metadata": {},
   "outputs": [],
   "source": []
  },
  {
   "cell_type": "code",
   "execution_count": null,
   "metadata": {},
   "outputs": [],
   "source": []
  },
  {
   "cell_type": "markdown",
   "metadata": {},
   "source": [
    "#### - Rank\n",
    "for each day"
   ]
  },
  {
   "cell_type": "code",
   "execution_count": null,
   "metadata": {},
   "outputs": [],
   "source": [
    "prices.Date.nunique()"
   ]
  },
  {
   "cell_type": "code",
   "execution_count": null,
   "metadata": {},
   "outputs": [],
   "source": [
    "prices_rank = pd.DataFrame(columns = prices.columns)"
   ]
  },
  {
   "cell_type": "code",
   "execution_count": null,
   "metadata": {},
   "outputs": [],
   "source": [
    "# only one day\n",
    "def calculate_rank(df, day):\n",
    "    df = prices[(prices['Date']== day)]\n",
    "    df.loc[:, 'Rank'] = df['Target'].rank(ascending=False, method='first') - 1\n",
    "    \n",
    "    return df\n",
    "\n",
    "\n",
    "\n",
    "df = calculate_rank(prices, prices.Date.unique()[0])\n",
    "one_day_rank = pd.concat([prices_rank, df], axis=0)\n",
    "\n"
   ]
  },
  {
   "cell_type": "code",
   "execution_count": null,
   "metadata": {},
   "outputs": [],
   "source": [
    "def daily_spread_return(df, day):\n",
    "    # calculate rank \n",
    "    df = prices[(prices['Date']== day)]\n",
    "    df.loc[:, 'Rank'] = df['Target'].rank(ascending=False, method='first') - 1\n",
    "\n",
    "    # calculate weights and weighted_target\n",
    "    weights = np.linspace(start = 2, stop=1, num=200)\n",
    "\n",
    "    # sum_up\n",
    "    top200 = df.sort_values('Rank').iloc[:200,:]\n",
    "    top200['Weights'] = weights\n",
    "    top200['weigh_Target'] = top200['Target'] * top200['Weights']\n",
    "    sum_up = top200['weigh_Target'].sum()/top200['Weights'].mean()\n",
    "\n",
    "    # sum_down\n",
    "    bottom200 = one_day_rank.sort_values('Rank').iloc[-200:,:].sort_values('Rank', ascending=False)\n",
    "    bottom200['Weights'] = np.linspace(start = 2, stop=1, num=200)\n",
    "    bottom200['weigh_Target'] = bottom200['Target'] * bottom200['Weights']\n",
    "    sum_down = bottom200['weigh_Target'].sum()/bottom200['Weights'].mean()\n",
    "\n",
    "    # return daily_spread return\n",
    "    return  df.SecuritiesCode.nunique(), sum_up - sum_down"
   ]
  },
  {
   "cell_type": "code",
   "execution_count": null,
   "metadata": {},
   "outputs": [],
   "source": [
    "stocks_per_day = {}\n",
    "\n",
    "def calculate_rank(df, day):\n",
    "    df = prices[(prices['Date']== day)]\n",
    "    df.loc[:, 'Rank'] = df['Target'].rank(ascending=False, method='first') - 1\n",
    "    \n",
    "    return df\n",
    "\n",
    "prices_rank = pd.DataFrame(columns = prices.columns)\n",
    "\n",
    "for day in tqdm(prices.Date.unique()):\n",
    "    stocks, dsr = daily_spread_return(prices, day)\n",
    "    stocks_per_day[day] = [stocks, dsr]"
   ]
  },
  {
   "cell_type": "code",
   "execution_count": null,
   "metadata": {},
   "outputs": [],
   "source": [
    "stocks_day = pd.DataFrame(stocks_per_day).T\n",
    "stocks_day.columns = ['SecuritiesCode_s', 'daily_spread_return']\n",
    "stocks_day"
   ]
  },
  {
   "cell_type": "code",
   "execution_count": null,
   "metadata": {},
   "outputs": [],
   "source": [
    "stocks_day.nunique()"
   ]
  },
  {
   "cell_type": "code",
   "execution_count": null,
   "metadata": {},
   "outputs": [],
   "source": []
  },
  {
   "cell_type": "markdown",
   "metadata": {},
   "source": [
    "- best and worst ranks are weighted with 1-2  [link](https://www.kaggle.com/code/smeitoma/jpx-competition-metric-definition)"
   ]
  },
  {
   "cell_type": "code",
   "execution_count": null,
   "metadata": {},
   "outputs": [],
   "source": []
  },
  {
   "cell_type": "markdown",
   "metadata": {},
   "source": [
    "## Trades"
   ]
  },
  {
   "cell_type": "code",
   "execution_count": null,
   "metadata": {},
   "outputs": [],
   "source": [
    "trades = pd.read_csv('data/train_files/trades.csv')\n",
    "trades.shape\n",
    "trades.head(2)"
   ]
  },
  {
   "cell_type": "code",
   "execution_count": null,
   "metadata": {},
   "outputs": [],
   "source": [
    "trades.shape"
   ]
  },
  {
   "cell_type": "markdown",
   "metadata": {},
   "source": [
    "only  nan values?"
   ]
  },
  {
   "cell_type": "markdown",
   "metadata": {},
   "source": [
    "# Features engineering"
   ]
  },
  {
   "cell_type": "markdown",
   "metadata": {},
   "source": [
    "## 1. fill nan values "
   ]
  },
  {
   "cell_type": "markdown",
   "metadata": {},
   "source": [
    "## 2. Adjusted prices\n",
    "to calculate theoretical price/volume when split/reverse-split happens (NOT including dividend/allotment of shares/)"
   ]
  },
  {
   "cell_type": "code",
   "execution_count": null,
   "metadata": {},
   "outputs": [],
   "source": [
    "prices.AdjustmentFactor.unique()"
   ]
  },
  {
   "cell_type": "markdown",
   "metadata": {},
   "source": [
    "- amount of stocks for each adjustment factor"
   ]
  },
  {
   "cell_type": "code",
   "execution_count": null,
   "metadata": {},
   "outputs": [],
   "source": [
    "\n",
    "for i in sorted(prices.AdjustmentFactor.unique()):\n",
    "    print( 'adjustment factor = {}   \\t:  {} trades'.format(\n",
    "        round(i,2), prices[(prices['AdjustmentFactor']==i)].Date.count()\n",
    "    ))\n",
    "   "
   ]
  },
  {
   "cell_type": "code",
   "execution_count": null,
   "metadata": {},
   "outputs": [],
   "source": [
    "def adjust_price(df):\n",
    "    # cumulative adjustment factor considering the day shift\n",
    "    df.sort_values('Date')\n",
    "    df.loc[:,'CAF'] = df['AdjustmentFactor'].cumprod().shift(1)\n",
    "    # fill nan values\n",
    "    df.CAF.fillna(1, inplace=True)\n",
    "    # prices to be adjusted\n",
    "    prices =[ 'Open', 'High', 'Low', 'Close']\n",
    "\n",
    "    for x in prices:\n",
    "        df.loc[:,'ad_' + str(x)]  = df[x] / df['CAF']\n",
    "    \n",
    "    # adjust volume\n",
    "    df['ad_Volume'] = df['Volume'] * df['CAF']\n",
    "    df.drop('CAF', axis=1, inplace=True)\n",
    "\n",
    "     # adjust target\n",
    "    df.sort_values('Date')\n",
    "    df['ad_Close_1'] = df['ad_Close'].shift(-1)\n",
    "    df['ad_Close_2'] = df['ad_Close'].shift(-2)\n",
    "    df['ad_Target'] = (df['ad_Close_2']-df['ad_Close_1'])/df['ad_Close_1']\n",
    "    df.drop(['ad_Close_1', 'ad_Close_2'], axis=1, inplace=True)\n",
    "\n",
    "    return df"
   ]
  },
  {
   "cell_type": "code",
   "execution_count": null,
   "metadata": {},
   "outputs": [],
   "source": [
    "# create an empty new DataFrame\n",
    "adjusted_data = pd.DataFrame(columns = prices.columns)\n",
    "\n",
    "for i in tqdm([8876, 6630, 7453, 7638]): #tqdm(prices.SecuritiesCode.unique()):\n",
    "    df = prices.query('SecuritiesCode ==@i')\n",
    "    adjusted_df = adjust_price(df)\n",
    "    adjusted_data = pd.concat([adjusted_data, adjusted_df ], axis=0)"
   ]
  },
  {
   "cell_type": "code",
   "execution_count": null,
   "metadata": {},
   "outputs": [],
   "source": [
    "def plot_stock(df, Code):\n",
    "    single_stock = df.query('SecuritiesCode==@Code')\n",
    "    plt.figure(figsize=(20,5))\n",
    "    sns.lineplot(data=single_stock, y='Close', x='Date')\n",
    "    ax2 = plt.twinx()\n",
    "    sns.lineplot(data=single_stock, y='ad_Close', x='Date', color='red')\n"
   ]
  },
  {
   "cell_type": "code",
   "execution_count": null,
   "metadata": {},
   "outputs": [],
   "source": [
    "for i in [8876, 6630, 7453, 7638]:\n",
    "    plot_stock(adjusted_data, i)"
   ]
  },
  {
   "cell_type": "markdown",
   "metadata": {},
   "source": [
    "data/train_files/stock_prices_ad.csvthe adjusted value was calculated with process_adjusted_price.py and save in : "
   ]
  },
  {
   "cell_type": "code",
   "execution_count": null,
   "metadata": {},
   "outputs": [],
   "source": [
    "adjusted_data = pd.read_csv('data/train_files/stock_prices_ad.csv', parse_dates=[2], index_col=0)\n",
    "adjusted_data.head(2)"
   ]
  },
  {
   "cell_type": "code",
   "execution_count": null,
   "metadata": {},
   "outputs": [],
   "source": [
    "def plot_stock(df, Code):\n",
    "    df = df.query('SecuritiesCode==@Code')\n",
    "    plt.figure(figsize=(20,5))\n",
    "    sns.lineplot(data=df, y='Target', x='Date')\n",
    "    sns.lineplot(data=df, y='ad_Target', x='Date', color = 'red')\n",
    "    ax2 = plt.twinx()\n",
    "    sns.lineplot(data=df, y='Close', x='Date')\n",
    "\n",
    "for i in [8876, 6630, 7453, 7638]:\n",
    "    plot_stock(new_df, i)"
   ]
  },
  {
   "cell_type": "markdown",
   "metadata": {},
   "source": [
    "## 5. Close, Open, High and Low price lag 1\n"
   ]
  },
  {
   "cell_type": "code",
   "execution_count": null,
   "metadata": {},
   "outputs": [],
   "source": [
    "df.columns"
   ]
  },
  {
   "cell_type": "code",
   "execution_count": null,
   "metadata": {},
   "outputs": [],
   "source": [
    "\n",
    "\n",
    "features = ['ad_Close', 'ad_Open', 'ad_High' , 'ad_Low', 'ad_Volume']\n",
    "new_features = [x + \"_lag1\" for x in features]\n",
    "\n",
    "feat_data = pd.DataFrame(columns = adjusted_data.columns)\n",
    "\n",
    "def feature_lag(df, features, lag=1):\n",
    "    for feat in features:\n",
    "        df[name] = df[str(feat)].shift(lag)\n",
    "        #new_features.append(name)\n",
    "    return df\n",
    "\n",
    "\n",
    "df = adjusted_data.query('SecuritiesCode ==@i')\n",
    "df = feature_lag(df, features)\n",
    "\n"
   ]
  },
  {
   "cell_type": "code",
   "execution_count": null,
   "metadata": {},
   "outputs": [],
   "source": [
    "df[new_features + features].head()"
   ]
  },
  {
   "cell_type": "markdown",
   "metadata": {},
   "source": [
    "## 3. RSI"
   ]
  },
  {
   "cell_type": "code",
   "execution_count": null,
   "metadata": {},
   "outputs": [],
   "source": [
    "def rsi (df_serie,periods = 14, ema = True): \n",
    "    \"\"\"Relative Strength Index\n",
    "        RSI = 100–(100/1 + RS) ; RS = Av Gain / Av loss\n",
    "    Args:\n",
    "        df_serie (_type_): series of ad_Close\n",
    "        periods (int, optional): 5,7,9,14,21,30 Defaults to 14.\n",
    "        ema (bool, optional): _description_. Defaults to True.\n",
    "\n",
    "    Returns:\n",
    "        pd.Series: _description_\n",
    "    \"\"\"\n",
    "        \n",
    "    close_delta = df_serie.diff() # .dropna()\n",
    "\n",
    "    # Make two series: one for lower closes and one for higher closes\n",
    "    up = close_delta.clip(lower=0)\n",
    "    down = -1 * close_delta.clip(upper=0)\n",
    "\n",
    "    if ema == True: # exponential moving average\n",
    "        ma_up = up.ewm(com= periods - 1, adjust=True, min_periods = periods).mean()\n",
    "        ma_down = down.ewm(com = periods - 1, adjust=True, min_periods = periods).mean()\n",
    "        \n",
    "    else: # using moving average\n",
    "        ma_up = up.rolling(window = periods, adjust=False).mean()\n",
    "        ma_down = down.ewm(window = periods, adjust=False).mean()\n",
    "        \n",
    "    rs = ma_up / ma_down\n",
    "    rsi = 100 - (100 / (1+rs))\n",
    "\n",
    "    return rsi"
   ]
  },
  {
   "cell_type": "code",
   "execution_count": null,
   "metadata": {},
   "outputs": [],
   "source": [
    "from functions import df_security_code\n",
    "\n",
    "df = df_security_code(adjusted_data,8194 )\n",
    "df['RSI'] = rsi(df['ad_Close'])"
   ]
  },
  {
   "cell_type": "code",
   "execution_count": null,
   "metadata": {},
   "outputs": [],
   "source": [
    "from functions import plot_stock\n",
    "\n",
    "plt.figure(figsize=(20,5))\n",
    "plot_stock(df, 8194 ,'RSI')\n",
    "ax2 = plt.twinx()\n",
    "plot_stock(df, 8194 ,'ad_Close', color='red')"
   ]
  },
  {
   "cell_type": "markdown",
   "metadata": {},
   "source": [
    "## 4. Return"
   ]
  },
  {
   "cell_type": "code",
   "execution_count": null,
   "metadata": {},
   "outputs": [],
   "source": [
    "df['Return'] = df['ad_Close'].pct_change()\n",
    "# adjusted_data['Return_m'] = adjusted_data['ad_Close'].resample('M').ffill().pct_change()\n"
   ]
  },
  {
   "cell_type": "code",
   "execution_count": null,
   "metadata": {},
   "outputs": [],
   "source": [
    "plot_stock(df, 8194, 'Return')"
   ]
  },
  {
   "cell_type": "code",
   "execution_count": null,
   "metadata": {},
   "outputs": [],
   "source": [
    "# cumulative\n",
    "df['cum_Return'] = (df['Return'] + 1).cumprod()\n",
    "plot_stock(df, 8194, 'cum_Return')"
   ]
  },
  {
   "cell_type": "markdown",
   "metadata": {},
   "source": [
    "## 5. Simple moving average\n",
    "\n",
    "\n",
    "\n"
   ]
  },
  {
   "cell_type": "code",
   "execution_count": null,
   "metadata": {},
   "outputs": [],
   "source": [
    "# ussualy period 10 or 5\n",
    "# setting for all prices\n",
    "\n",
    "\n",
    "\n",
    "features = ['ad_Close', 'ad_Open', 'ad_High' , 'ad_Low', 'ad_Volume']\n",
    "new_features = [x + \"_sma10\" for x in features]\n",
    "\n",
    "feat_data = pd.DataFrame(columns = adjusted_data.columns)\n",
    "\n",
    "def SMA(df, features, period=10):\n",
    "    for feat in features:\n",
    "        name = feat + \"_sma\" + str(period)\n",
    "        df[name] = df[feat].rolling(window=period).mean()  # only for close or for all values?\n",
    "        #new_features.append(name)\n",
    "    return df\n",
    "\n",
    "\n",
    "df = adjusted_data.query('SecuritiesCode == 8194')\n",
    "df = SMA(df, features)"
   ]
  },
  {
   "cell_type": "code",
   "execution_count": null,
   "metadata": {},
   "outputs": [],
   "source": [
    "df[features +  new_features].head(20)"
   ]
  },
  {
   "cell_type": "markdown",
   "metadata": {},
   "source": [
    "## 6. MACD : The Moving Average Convergence Divergence \n",
    "\n"
   ]
  },
  {
   "cell_type": "code",
   "execution_count": null,
   "metadata": {},
   "outputs": [],
   "source": [
    "\n",
    "def macd(df):\n",
    "    ema26 = df['ad_Close'].ewm(span=26, adjust=False, min_periods=26).mean()\n",
    "    ema12 = df['ad_Close'].ewm(span=12, adjust=False, min_periods=12).mean()\n",
    "\n",
    "    macd = ema12 - ema26\n",
    "\n",
    "    # Get the 9-Day EMA of the MACD for the Trigger line\n",
    "\n",
    "    macd_ema9 = macd.ewm(span=9, adjust=False, min_periods=9).mean()\n",
    "\n",
    "    # calculate the difference\n",
    "    macd_diff = macd - macd_ema9\n",
    "\n",
    "    df['macd'] = df.index.map(macd)\n",
    "    df['macd_h'] = df.index.map(macd_diff)\n",
    "    df['macd_s'] = df.index.map(macd_ema9)\n",
    "\n",
    "    return df"
   ]
  },
  {
   "cell_type": "code",
   "execution_count": null,
   "metadata": {},
   "outputs": [],
   "source": [
    "df = adjusted_data.query('SecuritiesCode == 8194')\n",
    "df = macd(df)"
   ]
  },
  {
   "cell_type": "code",
   "execution_count": null,
   "metadata": {},
   "outputs": [],
   "source": [
    "df.tail()"
   ]
  },
  {
   "cell_type": "code",
   "execution_count": null,
   "metadata": {},
   "outputs": [],
   "source": [
    "\n",
    "plot_stock(df, 8194, 'ad_Close', color='red')\n",
    "plot_stock(df, 8194, 'macd')"
   ]
  },
  {
   "cell_type": "markdown",
   "metadata": {},
   "source": [
    "## 7. "
   ]
  }
 ],
 "metadata": {
  "interpreter": {
   "hash": "8e59dc4903522b6bd625aac9b906fbe96a3134871878cc11f65b8580a1e47af4"
  },
  "kernelspec": {
   "display_name": "Python 3.9.4 ('.venv': venv)",
   "language": "python",
   "name": "python3"
  },
  "language_info": {
   "codemirror_mode": {
    "name": "ipython",
    "version": 3
   },
   "file_extension": ".py",
   "mimetype": "text/x-python",
   "name": "python",
   "nbconvert_exporter": "python",
   "pygments_lexer": "ipython3",
   "version": "3.9.4"
  },
  "orig_nbformat": 4
 },
 "nbformat": 4,
 "nbformat_minor": 2
}
