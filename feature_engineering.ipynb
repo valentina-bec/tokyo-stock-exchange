{
 "cells": [
  {
   "cell_type": "code",
   "execution_count": 89,
   "metadata": {},
   "outputs": [],
   "source": [
    "import pandas as pd\n",
    "from sklearn.impute import KNNImputer\n",
    "from datetime import *\n",
    "import numpy as np\n",
    "from tqdm import tqdm\n",
    "import seaborn as sns\n",
    "from holidays_jp import CountryHolidays \n",
    "import matplotlib.pyplot as plt\n",
    "\n"
   ]
  },
  {
   "cell_type": "code",
   "execution_count": 23,
   "metadata": {},
   "outputs": [
    {
     "name": "stderr",
     "output_type": "stream",
     "text": [
      "/var/folders/zn/s4295xwn7kj92hy1gg99j03h0000gn/T/ipykernel_29580/1012111100.py:2: DtypeWarning: Columns (14,15,16,17,18,19,42,44) have mixed types. Specify dtype option on import or set low_memory=False.\n",
      "  financial = pd.read_csv('data/stock/train_files/financials.csv', parse_dates=[2])\n"
     ]
    }
   ],
   "source": [
    "prices = pd.read_csv('data/stock/train_files/stock_prices_wo_na.csv', parse_dates=[3], index_col=0)\n",
    "financial = pd.read_csv('data/stock/train_files/financials.csv', parse_dates=[2])"
   ]
  },
  {
   "cell_type": "code",
   "execution_count": 31,
   "metadata": {},
   "outputs": [],
   "source": [
    "financial['Day'] = financial.Date.dt.day\n",
    "financial['Month'] = financial.Date.dt.month\n",
    "financial['Year'] = financial.Date.dt.year"
   ]
  },
  {
   "cell_type": "code",
   "execution_count": 5,
   "metadata": {},
   "outputs": [],
   "source": [
    "prices = prices.drop('Unnamed: 0', axis=1)\n"
   ]
  },
  {
   "cell_type": "code",
   "execution_count": 28,
   "metadata": {},
   "outputs": [],
   "source": [
    "for i in financial.TypeOfDocument.unique():\n",
    "    if not 'FinancialStatements' in str(i):\n",
    "        financial = financial[financial.TypeOfDocument !=  str(i)]"
   ]
  },
  {
   "cell_type": "code",
   "execution_count": 32,
   "metadata": {},
   "outputs": [
    {
     "name": "stderr",
     "output_type": "stream",
     "text": [
      "100%|██████████| 2000/2000 [00:03<00:00, 653.11it/s]\n"
     ]
    }
   ],
   "source": [
    "# Object data to numeric data\n",
    "liste =[ 'Day', 'Month', 'Year', 'SecuritiesCode', 'Profit', 'NetSales', 'OperatingProfit']\n",
    "\n",
    "financial = financial[liste] \n",
    "financial = financial.replace('－', np.nan, regex = True )  \n",
    "financial_num = financial.apply(lambda x: pd.to_numeric(x, errors = 'ignore'))\n",
    "\n",
    "# Selecting only matching Codes from financial data\n",
    "sec_codes = [x for x in prices.SecuritiesCode.unique() if x in financial.SecuritiesCode.unique()]\n",
    "df_pred = pd.DataFrame()\n",
    "\n",
    "# Filling missing values with KNN\n",
    "for i in tqdm(sec_codes):\n",
    "\n",
    "    imputer = KNNImputer(n_neighbors=1, weights='distance', metric='nan_euclidean')\n",
    "    df_current = pd.DataFrame(imputer.fit_transform(financial_num.query('SecuritiesCode == @i')))\n",
    "    df_pred = pd.concat([df_pred, df_current])\n",
    "\n",
    "# Reassigning column names\n",
    "df_pred.columns = liste\n",
    "\n",
    "# Recreating Date for merge\n",
    "df_pred[\"Date\"] = pd.to_datetime(dict(year=df_pred.Year, month=df_pred.Month, day=df_pred.Day))\n",
    "\n",
    "# Placing Date as first column\n",
    "col = df_pred.pop(\"Date\")\n",
    "df_pred.insert(0, col.name, col)\n",
    "\n",
    "# Selecting only Columns without NaN\n",
    "pred_final = ['Date', 'SecuritiesCode', 'Profit', 'NetSales']\n",
    "df_pred = df_pred[pred_final]"
   ]
  },
  {
   "cell_type": "code",
   "execution_count": 62,
   "metadata": {},
   "outputs": [],
   "source": [
    "def rsi(df, periods = 14, ema = True):\n",
    "    \"\"\"\n",
    "    Returns a pd.Series with the relative strength index.\n",
    "\n",
    "    input: dataframe, periods, ema\n",
    "    \"\"\"\n",
    "\n",
    "    # making series of change from previous day for each day (closing price)\n",
    "    close_delta = df['Close'].diff()\n",
    "\n",
    "    # Make two series: one for lower closes and one for higher closes\n",
    "    up = close_delta.clip(lower=0)\n",
    "    down = -1 * close_delta.clip(upper=0)\n",
    "    \n",
    "    if ema == True:\n",
    "\t    # Use exponential moving average\n",
    "        ma_up = up.ewm(com = periods - 1, adjust=True, min_periods = periods).mean()\n",
    "        ma_down = down.ewm(com = periods - 1, adjust=True, min_periods = periods).mean()\n",
    "    else:\n",
    "        # Use simple moving average\n",
    "        ma_up = up.rolling(window = periods, adjust=False).mean()\n",
    "        ma_down = down.rolling(window = periods, adjust=False).mean()\n",
    "        \n",
    "    # calculate rsi\n",
    "    rsi = ma_up / ma_down\n",
    "    rsi = 100 - (100/(1 + rsi))\n",
    "    \n",
    "    return rsi"
   ]
  },
  {
   "cell_type": "code",
   "execution_count": 33,
   "metadata": {},
   "outputs": [],
   "source": [
    "fin_and_prices  = pd.merge(prices, df_pred, how='left', on=['SecuritiesCode', 'Date'])"
   ]
  },
  {
   "cell_type": "code",
   "execution_count": 34,
   "metadata": {},
   "outputs": [],
   "source": [
    "from tqdm import tqdm"
   ]
  },
  {
   "cell_type": "code",
   "execution_count": 42,
   "metadata": {},
   "outputs": [
    {
     "name": "stderr",
     "output_type": "stream",
     "text": [
      "  0%|          | 0/3 [00:00<?, ?it/s]/var/folders/zn/s4295xwn7kj92hy1gg99j03h0000gn/T/ipykernel_29580/959162345.py:10: SettingWithCopyWarning: \n",
      "A value is trying to be set on a copy of a slice from a DataFrame.\n",
      "Try using .loc[row_indexer,col_indexer] = value instead\n",
      "\n",
      "See the caveats in the documentation: https://pandas.pydata.org/pandas-docs/stable/user_guide/indexing.html#returning-a-view-versus-a-copy\n",
      "  aktie['margin'] = aktie['Profit'] / aktie['NetSales'] * 100\n",
      "/var/folders/zn/s4295xwn7kj92hy1gg99j03h0000gn/T/ipykernel_29580/959162345.py:11: SettingWithCopyWarning: \n",
      "A value is trying to be set on a copy of a slice from a DataFrame.\n",
      "Try using .loc[row_indexer,col_indexer] = value instead\n",
      "\n",
      "See the caveats in the documentation: https://pandas.pydata.org/pandas-docs/stable/user_guide/indexing.html#returning-a-view-versus-a-copy\n",
      "  aktie['profit_ttm'] = aktie['Profit'].shift(3) + aktie['Profit'].shift(2) + aktie['Profit'].shift(1) + aktie['Profit']\n",
      "/var/folders/zn/s4295xwn7kj92hy1gg99j03h0000gn/T/ipykernel_29580/959162345.py:12: SettingWithCopyWarning: \n",
      "A value is trying to be set on a copy of a slice from a DataFrame.\n",
      "Try using .loc[row_indexer,col_indexer] = value instead\n",
      "\n",
      "See the caveats in the documentation: https://pandas.pydata.org/pandas-docs/stable/user_guide/indexing.html#returning-a-view-versus-a-copy\n",
      "  aktie['rev_ttm'] = aktie['NetSales'].shift(3) + aktie['NetSales'].shift(2) + aktie['NetSales'].shift(1) + aktie['NetSales']\n",
      "/var/folders/zn/s4295xwn7kj92hy1gg99j03h0000gn/T/ipykernel_29580/959162345.py:13: SettingWithCopyWarning: \n",
      "A value is trying to be set on a copy of a slice from a DataFrame.\n",
      "Try using .loc[row_indexer,col_indexer] = value instead\n",
      "\n",
      "See the caveats in the documentation: https://pandas.pydata.org/pandas-docs/stable/user_guide/indexing.html#returning-a-view-versus-a-copy\n",
      "  aktie['win_quarter_growth'] = (aktie['Profit'] - aktie['Profit'].shift(1)) / aktie['Profit'].shift(1) * 100\n",
      "/var/folders/zn/s4295xwn7kj92hy1gg99j03h0000gn/T/ipykernel_29580/959162345.py:14: SettingWithCopyWarning: \n",
      "A value is trying to be set on a copy of a slice from a DataFrame.\n",
      "Try using .loc[row_indexer,col_indexer] = value instead\n",
      "\n",
      "See the caveats in the documentation: https://pandas.pydata.org/pandas-docs/stable/user_guide/indexing.html#returning-a-view-versus-a-copy\n",
      "  aktie['rev_quarter_growth'] = (aktie['NetSales'] - aktie['NetSales'].shift(1)) / aktie['NetSales'].shift(1) * 100\n",
      "/var/folders/zn/s4295xwn7kj92hy1gg99j03h0000gn/T/ipykernel_29580/959162345.py:15: SettingWithCopyWarning: \n",
      "A value is trying to be set on a copy of a slice from a DataFrame.\n",
      "Try using .loc[row_indexer,col_indexer] = value instead\n",
      "\n",
      "See the caveats in the documentation: https://pandas.pydata.org/pandas-docs/stable/user_guide/indexing.html#returning-a-view-versus-a-copy\n",
      "  aktie['win_yoy_growth'] = (aktie['Profit'] - aktie['Profit'].shift(4)) / aktie['Profit'].shift(4) * 100\n",
      "/var/folders/zn/s4295xwn7kj92hy1gg99j03h0000gn/T/ipykernel_29580/959162345.py:16: SettingWithCopyWarning: \n",
      "A value is trying to be set on a copy of a slice from a DataFrame.\n",
      "Try using .loc[row_indexer,col_indexer] = value instead\n",
      "\n",
      "See the caveats in the documentation: https://pandas.pydata.org/pandas-docs/stable/user_guide/indexing.html#returning-a-view-versus-a-copy\n",
      "  aktie['rev_yoy_growth'] = (aktie['NetSales'] - aktie['NetSales'].shift(4)) / aktie['NetSales'].shift(4) * 100\n",
      "/var/folders/zn/s4295xwn7kj92hy1gg99j03h0000gn/T/ipykernel_29580/959162345.py:17: SettingWithCopyWarning: \n",
      "A value is trying to be set on a copy of a slice from a DataFrame.\n",
      "Try using .loc[row_indexer,col_indexer] = value instead\n",
      "\n",
      "See the caveats in the documentation: https://pandas.pydata.org/pandas-docs/stable/user_guide/indexing.html#returning-a-view-versus-a-copy\n",
      "  aktie['win_ttm_growth'] = (aktie['profit_ttm'] - aktie['profit_ttm'].shift(1)) / aktie['profit_ttm'].shift(1) * 100\n",
      "/var/folders/zn/s4295xwn7kj92hy1gg99j03h0000gn/T/ipykernel_29580/959162345.py:18: SettingWithCopyWarning: \n",
      "A value is trying to be set on a copy of a slice from a DataFrame.\n",
      "Try using .loc[row_indexer,col_indexer] = value instead\n",
      "\n",
      "See the caveats in the documentation: https://pandas.pydata.org/pandas-docs/stable/user_guide/indexing.html#returning-a-view-versus-a-copy\n",
      "  aktie['rev_ttm_growth'] = (aktie['rev_ttm'] - aktie['rev_ttm'].shift(1)) / aktie['rev_ttm'].shift(1) * 100\n",
      "/var/folders/zn/s4295xwn7kj92hy1gg99j03h0000gn/T/ipykernel_29580/959162345.py:10: SettingWithCopyWarning: \n",
      "A value is trying to be set on a copy of a slice from a DataFrame.\n",
      "Try using .loc[row_indexer,col_indexer] = value instead\n",
      "\n",
      "See the caveats in the documentation: https://pandas.pydata.org/pandas-docs/stable/user_guide/indexing.html#returning-a-view-versus-a-copy\n",
      "  aktie['margin'] = aktie['Profit'] / aktie['NetSales'] * 100\n",
      "/var/folders/zn/s4295xwn7kj92hy1gg99j03h0000gn/T/ipykernel_29580/959162345.py:11: SettingWithCopyWarning: \n",
      "A value is trying to be set on a copy of a slice from a DataFrame.\n",
      "Try using .loc[row_indexer,col_indexer] = value instead\n",
      "\n",
      "See the caveats in the documentation: https://pandas.pydata.org/pandas-docs/stable/user_guide/indexing.html#returning-a-view-versus-a-copy\n",
      "  aktie['profit_ttm'] = aktie['Profit'].shift(3) + aktie['Profit'].shift(2) + aktie['Profit'].shift(1) + aktie['Profit']\n",
      "/var/folders/zn/s4295xwn7kj92hy1gg99j03h0000gn/T/ipykernel_29580/959162345.py:12: SettingWithCopyWarning: \n",
      "A value is trying to be set on a copy of a slice from a DataFrame.\n",
      "Try using .loc[row_indexer,col_indexer] = value instead\n",
      "\n",
      "See the caveats in the documentation: https://pandas.pydata.org/pandas-docs/stable/user_guide/indexing.html#returning-a-view-versus-a-copy\n",
      "  aktie['rev_ttm'] = aktie['NetSales'].shift(3) + aktie['NetSales'].shift(2) + aktie['NetSales'].shift(1) + aktie['NetSales']\n",
      "/var/folders/zn/s4295xwn7kj92hy1gg99j03h0000gn/T/ipykernel_29580/959162345.py:13: SettingWithCopyWarning: \n",
      "A value is trying to be set on a copy of a slice from a DataFrame.\n",
      "Try using .loc[row_indexer,col_indexer] = value instead\n",
      "\n",
      "See the caveats in the documentation: https://pandas.pydata.org/pandas-docs/stable/user_guide/indexing.html#returning-a-view-versus-a-copy\n",
      "  aktie['win_quarter_growth'] = (aktie['Profit'] - aktie['Profit'].shift(1)) / aktie['Profit'].shift(1) * 100\n",
      "/var/folders/zn/s4295xwn7kj92hy1gg99j03h0000gn/T/ipykernel_29580/959162345.py:14: SettingWithCopyWarning: \n",
      "A value is trying to be set on a copy of a slice from a DataFrame.\n",
      "Try using .loc[row_indexer,col_indexer] = value instead\n",
      "\n",
      "See the caveats in the documentation: https://pandas.pydata.org/pandas-docs/stable/user_guide/indexing.html#returning-a-view-versus-a-copy\n",
      "  aktie['rev_quarter_growth'] = (aktie['NetSales'] - aktie['NetSales'].shift(1)) / aktie['NetSales'].shift(1) * 100\n",
      "/var/folders/zn/s4295xwn7kj92hy1gg99j03h0000gn/T/ipykernel_29580/959162345.py:15: SettingWithCopyWarning: \n",
      "A value is trying to be set on a copy of a slice from a DataFrame.\n",
      "Try using .loc[row_indexer,col_indexer] = value instead\n",
      "\n",
      "See the caveats in the documentation: https://pandas.pydata.org/pandas-docs/stable/user_guide/indexing.html#returning-a-view-versus-a-copy\n",
      "  aktie['win_yoy_growth'] = (aktie['Profit'] - aktie['Profit'].shift(4)) / aktie['Profit'].shift(4) * 100\n",
      "/var/folders/zn/s4295xwn7kj92hy1gg99j03h0000gn/T/ipykernel_29580/959162345.py:16: SettingWithCopyWarning: \n",
      "A value is trying to be set on a copy of a slice from a DataFrame.\n",
      "Try using .loc[row_indexer,col_indexer] = value instead\n",
      "\n",
      "See the caveats in the documentation: https://pandas.pydata.org/pandas-docs/stable/user_guide/indexing.html#returning-a-view-versus-a-copy\n",
      "  aktie['rev_yoy_growth'] = (aktie['NetSales'] - aktie['NetSales'].shift(4)) / aktie['NetSales'].shift(4) * 100\n",
      "/var/folders/zn/s4295xwn7kj92hy1gg99j03h0000gn/T/ipykernel_29580/959162345.py:17: SettingWithCopyWarning: \n",
      "A value is trying to be set on a copy of a slice from a DataFrame.\n",
      "Try using .loc[row_indexer,col_indexer] = value instead\n",
      "\n",
      "See the caveats in the documentation: https://pandas.pydata.org/pandas-docs/stable/user_guide/indexing.html#returning-a-view-versus-a-copy\n",
      "  aktie['win_ttm_growth'] = (aktie['profit_ttm'] - aktie['profit_ttm'].shift(1)) / aktie['profit_ttm'].shift(1) * 100\n",
      "/var/folders/zn/s4295xwn7kj92hy1gg99j03h0000gn/T/ipykernel_29580/959162345.py:18: SettingWithCopyWarning: \n",
      "A value is trying to be set on a copy of a slice from a DataFrame.\n",
      "Try using .loc[row_indexer,col_indexer] = value instead\n",
      "\n",
      "See the caveats in the documentation: https://pandas.pydata.org/pandas-docs/stable/user_guide/indexing.html#returning-a-view-versus-a-copy\n",
      "  aktie['rev_ttm_growth'] = (aktie['rev_ttm'] - aktie['rev_ttm'].shift(1)) / aktie['rev_ttm'].shift(1) * 100\n",
      "/var/folders/zn/s4295xwn7kj92hy1gg99j03h0000gn/T/ipykernel_29580/959162345.py:10: SettingWithCopyWarning: \n",
      "A value is trying to be set on a copy of a slice from a DataFrame.\n",
      "Try using .loc[row_indexer,col_indexer] = value instead\n",
      "\n",
      "See the caveats in the documentation: https://pandas.pydata.org/pandas-docs/stable/user_guide/indexing.html#returning-a-view-versus-a-copy\n",
      "  aktie['margin'] = aktie['Profit'] / aktie['NetSales'] * 100\n",
      "/var/folders/zn/s4295xwn7kj92hy1gg99j03h0000gn/T/ipykernel_29580/959162345.py:11: SettingWithCopyWarning: \n",
      "A value is trying to be set on a copy of a slice from a DataFrame.\n",
      "Try using .loc[row_indexer,col_indexer] = value instead\n",
      "\n",
      "See the caveats in the documentation: https://pandas.pydata.org/pandas-docs/stable/user_guide/indexing.html#returning-a-view-versus-a-copy\n",
      "  aktie['profit_ttm'] = aktie['Profit'].shift(3) + aktie['Profit'].shift(2) + aktie['Profit'].shift(1) + aktie['Profit']\n",
      "/var/folders/zn/s4295xwn7kj92hy1gg99j03h0000gn/T/ipykernel_29580/959162345.py:12: SettingWithCopyWarning: \n",
      "A value is trying to be set on a copy of a slice from a DataFrame.\n",
      "Try using .loc[row_indexer,col_indexer] = value instead\n",
      "\n",
      "See the caveats in the documentation: https://pandas.pydata.org/pandas-docs/stable/user_guide/indexing.html#returning-a-view-versus-a-copy\n",
      "  aktie['rev_ttm'] = aktie['NetSales'].shift(3) + aktie['NetSales'].shift(2) + aktie['NetSales'].shift(1) + aktie['NetSales']\n",
      "/var/folders/zn/s4295xwn7kj92hy1gg99j03h0000gn/T/ipykernel_29580/959162345.py:13: SettingWithCopyWarning: \n",
      "A value is trying to be set on a copy of a slice from a DataFrame.\n",
      "Try using .loc[row_indexer,col_indexer] = value instead\n",
      "\n",
      "See the caveats in the documentation: https://pandas.pydata.org/pandas-docs/stable/user_guide/indexing.html#returning-a-view-versus-a-copy\n",
      "  aktie['win_quarter_growth'] = (aktie['Profit'] - aktie['Profit'].shift(1)) / aktie['Profit'].shift(1) * 100\n",
      "/var/folders/zn/s4295xwn7kj92hy1gg99j03h0000gn/T/ipykernel_29580/959162345.py:14: SettingWithCopyWarning: \n",
      "A value is trying to be set on a copy of a slice from a DataFrame.\n",
      "Try using .loc[row_indexer,col_indexer] = value instead\n",
      "\n",
      "See the caveats in the documentation: https://pandas.pydata.org/pandas-docs/stable/user_guide/indexing.html#returning-a-view-versus-a-copy\n",
      "  aktie['rev_quarter_growth'] = (aktie['NetSales'] - aktie['NetSales'].shift(1)) / aktie['NetSales'].shift(1) * 100\n",
      "/var/folders/zn/s4295xwn7kj92hy1gg99j03h0000gn/T/ipykernel_29580/959162345.py:15: SettingWithCopyWarning: \n",
      "A value is trying to be set on a copy of a slice from a DataFrame.\n",
      "Try using .loc[row_indexer,col_indexer] = value instead\n",
      "\n",
      "See the caveats in the documentation: https://pandas.pydata.org/pandas-docs/stable/user_guide/indexing.html#returning-a-view-versus-a-copy\n",
      "  aktie['win_yoy_growth'] = (aktie['Profit'] - aktie['Profit'].shift(4)) / aktie['Profit'].shift(4) * 100\n",
      "/var/folders/zn/s4295xwn7kj92hy1gg99j03h0000gn/T/ipykernel_29580/959162345.py:16: SettingWithCopyWarning: \n",
      "A value is trying to be set on a copy of a slice from a DataFrame.\n",
      "Try using .loc[row_indexer,col_indexer] = value instead\n",
      "\n",
      "See the caveats in the documentation: https://pandas.pydata.org/pandas-docs/stable/user_guide/indexing.html#returning-a-view-versus-a-copy\n",
      "  aktie['rev_yoy_growth'] = (aktie['NetSales'] - aktie['NetSales'].shift(4)) / aktie['NetSales'].shift(4) * 100\n",
      "/var/folders/zn/s4295xwn7kj92hy1gg99j03h0000gn/T/ipykernel_29580/959162345.py:17: SettingWithCopyWarning: \n",
      "A value is trying to be set on a copy of a slice from a DataFrame.\n",
      "Try using .loc[row_indexer,col_indexer] = value instead\n",
      "\n",
      "See the caveats in the documentation: https://pandas.pydata.org/pandas-docs/stable/user_guide/indexing.html#returning-a-view-versus-a-copy\n",
      "  aktie['win_ttm_growth'] = (aktie['profit_ttm'] - aktie['profit_ttm'].shift(1)) / aktie['profit_ttm'].shift(1) * 100\n",
      "/var/folders/zn/s4295xwn7kj92hy1gg99j03h0000gn/T/ipykernel_29580/959162345.py:18: SettingWithCopyWarning: \n",
      "A value is trying to be set on a copy of a slice from a DataFrame.\n",
      "Try using .loc[row_indexer,col_indexer] = value instead\n",
      "\n",
      "See the caveats in the documentation: https://pandas.pydata.org/pandas-docs/stable/user_guide/indexing.html#returning-a-view-versus-a-copy\n",
      "  aktie['rev_ttm_growth'] = (aktie['rev_ttm'] - aktie['rev_ttm'].shift(1)) / aktie['rev_ttm'].shift(1) * 100\n",
      "100%|██████████| 3/3 [00:00<00:00, 24.68it/s]\n"
     ]
    }
   ],
   "source": [
    "fin_features = pd.DataFrame(columns=df_pred.columns)\n",
    "\n",
    "\n",
    "for i in tqdm(prices.SecuritiesCode.unique()[:3]):\n",
    "    \n",
    "    # getting financial query for spcific securitiescode\n",
    "    aktie = df_pred.query('SecuritiesCode == @i')\n",
    "    \n",
    "    # feature engineering\n",
    "    aktie['margin'] = aktie['Profit'] / aktie['NetSales'] * 100\n",
    "    aktie['profit_ttm'] = aktie['Profit'].shift(3) + aktie['Profit'].shift(2) + aktie['Profit'].shift(1) + aktie['Profit']\n",
    "    aktie['rev_ttm'] = aktie['NetSales'].shift(3) + aktie['NetSales'].shift(2) + aktie['NetSales'].shift(1) + aktie['NetSales']\n",
    "    aktie['win_quarter_growth'] = (aktie['Profit'] - aktie['Profit'].shift(1)) / aktie['Profit'].shift(1) * 100\n",
    "    aktie['rev_quarter_growth'] = (aktie['NetSales'] - aktie['NetSales'].shift(1)) / aktie['NetSales'].shift(1) * 100\n",
    "    aktie['win_yoy_growth'] = (aktie['Profit'] - aktie['Profit'].shift(4)) / aktie['Profit'].shift(4) * 100\n",
    "    aktie['rev_yoy_growth'] = (aktie['NetSales'] - aktie['NetSales'].shift(4)) / aktie['NetSales'].shift(4) * 100\n",
    "    aktie['win_ttm_growth'] = (aktie['profit_ttm'] - aktie['profit_ttm'].shift(1)) / aktie['profit_ttm'].shift(1) * 100\n",
    "    aktie['rev_ttm_growth'] = (aktie['rev_ttm'] - aktie['rev_ttm'].shift(1)) / aktie['rev_ttm'].shift(1) * 100\n",
    "    \n",
    "    # forward fill and drop for financial query\n",
    "    aktie = aktie.ffill()\n",
    "    aktie = aktie.dropna(axis=0)\n",
    "\n",
    "    # merging financial query and price query of securitiescode\n",
    "    fin_features = pd.concat([fin_features, aktie])\n",
    "    \n",
    "    \n",
    "    \n",
    "    \n",
    "\n"
   ]
  },
  {
   "cell_type": "code",
   "execution_count": 47,
   "metadata": {},
   "outputs": [],
   "source": [
    "fin_features['Date'] = pd.to_datetime(fin_features['Date'])"
   ]
  },
  {
   "cell_type": "code",
   "execution_count": 51,
   "metadata": {},
   "outputs": [],
   "source": [
    "stocks = pd.DataFrame(columns=fin_and_prices.columns)\n",
    "\n",
    "for i in prices.SecuritiesCode.unique()[:3]:\n",
    "    aktie = pd.merge(prices.query('SecuritiesCode == @i'), fin_features.query('SecuritiesCode == @i'), how='left', on=['Date', 'SecuritiesCode'])\n",
    "\n",
    "    aktie = aktie.ffill()\n",
    "    aktie = aktie.dropna(axis=0)\n",
    "    stocks = pd.concat([stocks, aktie])"
   ]
  },
  {
   "cell_type": "code",
   "execution_count": null,
   "metadata": {},
   "outputs": [],
   "source": [
    "def rsi(df, periods = 14, ema = True):\n",
    "    \"\"\"\n",
    "    Returns a pd.Series with the relative strength index.\n",
    "\n",
    "    input: dataframe, periods, ema\n",
    "    \"\"\"\n",
    "\n",
    "    # making series of change from previous day for each day (closing price)\n",
    "    close_delta = df['Close'].diff()\n",
    "\n",
    "    # Make two series: one for lower closes and one for higher closes\n",
    "    up = close_delta.clip(lower=0)\n",
    "    down = -1 * close_delta.clip(upper=0)\n",
    "    \n",
    "    if ema == True:\n",
    "\t    # Use exponential moving average\n",
    "        ma_up = up.ewm(com = periods - 1, adjust=True, min_periods = periods).mean()\n",
    "        ma_down = down.ewm(com = periods - 1, adjust=True, min_periods = periods).mean()\n",
    "    else:\n",
    "        # Use simple moving average\n",
    "        ma_up = up.rolling(window = periods, adjust=False).mean()\n",
    "        ma_down = down.rolling(window = periods, adjust=False).mean()\n",
    "        \n",
    "    # calculate rsi\n",
    "    rsi = ma_up / ma_down\n",
    "    rsi = 100 - (100/(1 + rsi))\n",
    "    \n",
    "    return rsi"
   ]
  },
  {
   "cell_type": "code",
   "execution_count": 93,
   "metadata": {},
   "outputs": [
    {
     "name": "stderr",
     "output_type": "stream",
     "text": [
      "/var/folders/zn/s4295xwn7kj92hy1gg99j03h0000gn/T/ipykernel_29580/3566500899.py:9: SettingWithCopyWarning: \n",
      "A value is trying to be set on a copy of a slice from a DataFrame.\n",
      "Try using .loc[row_indexer,col_indexer] = value instead\n",
      "\n",
      "See the caveats in the documentation: https://pandas.pydata.org/pandas-docs/stable/user_guide/indexing.html#returning-a-view-versus-a-copy\n",
      "  a['RSI'] = rsi(a, 14, True)\n",
      "/var/folders/zn/s4295xwn7kj92hy1gg99j03h0000gn/T/ipykernel_29580/3566500899.py:11: SettingWithCopyWarning: \n",
      "A value is trying to be set on a copy of a slice from a DataFrame.\n",
      "Try using .loc[row_indexer,col_indexer] = value instead\n",
      "\n",
      "See the caveats in the documentation: https://pandas.pydata.org/pandas-docs/stable/user_guide/indexing.html#returning-a-view-versus-a-copy\n",
      "  a['logreturn'] = np.log(a['Close']/a['Close'].shift())\n",
      "/var/folders/zn/s4295xwn7kj92hy1gg99j03h0000gn/T/ipykernel_29580/3566500899.py:12: SettingWithCopyWarning: \n",
      "A value is trying to be set on a copy of a slice from a DataFrame.\n",
      "Try using .loc[row_indexer,col_indexer] = value instead\n",
      "\n",
      "See the caveats in the documentation: https://pandas.pydata.org/pandas-docs/stable/user_guide/indexing.html#returning-a-view-versus-a-copy\n",
      "  a['return'] = a['Close']/a['Close'].shift()\n",
      "/var/folders/zn/s4295xwn7kj92hy1gg99j03h0000gn/T/ipykernel_29580/3566500899.py:16: SettingWithCopyWarning: \n",
      "A value is trying to be set on a copy of a slice from a DataFrame.\n",
      "Try using .loc[row_indexer,col_indexer] = value instead\n",
      "\n",
      "See the caveats in the documentation: https://pandas.pydata.org/pandas-docs/stable/user_guide/indexing.html#returning-a-view-versus-a-copy\n",
      "  a['logvol_week'] = a['logreturn'].std()*255**.5\n",
      "/var/folders/zn/s4295xwn7kj92hy1gg99j03h0000gn/T/ipykernel_29580/3566500899.py:17: SettingWithCopyWarning: \n",
      "A value is trying to be set on a copy of a slice from a DataFrame.\n",
      "Try using .loc[row_indexer,col_indexer] = value instead\n",
      "\n",
      "See the caveats in the documentation: https://pandas.pydata.org/pandas-docs/stable/user_guide/indexing.html#returning-a-view-versus-a-copy\n",
      "  a['vol_week'] = a['return'].std()*255**.5\n",
      "/var/folders/zn/s4295xwn7kj92hy1gg99j03h0000gn/T/ipykernel_29580/3566500899.py:9: SettingWithCopyWarning: \n",
      "A value is trying to be set on a copy of a slice from a DataFrame.\n",
      "Try using .loc[row_indexer,col_indexer] = value instead\n",
      "\n",
      "See the caveats in the documentation: https://pandas.pydata.org/pandas-docs/stable/user_guide/indexing.html#returning-a-view-versus-a-copy\n",
      "  a['RSI'] = rsi(a, 14, True)\n",
      "/var/folders/zn/s4295xwn7kj92hy1gg99j03h0000gn/T/ipykernel_29580/3566500899.py:11: SettingWithCopyWarning: \n",
      "A value is trying to be set on a copy of a slice from a DataFrame.\n",
      "Try using .loc[row_indexer,col_indexer] = value instead\n",
      "\n",
      "See the caveats in the documentation: https://pandas.pydata.org/pandas-docs/stable/user_guide/indexing.html#returning-a-view-versus-a-copy\n",
      "  a['logreturn'] = np.log(a['Close']/a['Close'].shift())\n",
      "/var/folders/zn/s4295xwn7kj92hy1gg99j03h0000gn/T/ipykernel_29580/3566500899.py:12: SettingWithCopyWarning: \n",
      "A value is trying to be set on a copy of a slice from a DataFrame.\n",
      "Try using .loc[row_indexer,col_indexer] = value instead\n",
      "\n",
      "See the caveats in the documentation: https://pandas.pydata.org/pandas-docs/stable/user_guide/indexing.html#returning-a-view-versus-a-copy\n",
      "  a['return'] = a['Close']/a['Close'].shift()\n",
      "/var/folders/zn/s4295xwn7kj92hy1gg99j03h0000gn/T/ipykernel_29580/3566500899.py:16: SettingWithCopyWarning: \n",
      "A value is trying to be set on a copy of a slice from a DataFrame.\n",
      "Try using .loc[row_indexer,col_indexer] = value instead\n",
      "\n",
      "See the caveats in the documentation: https://pandas.pydata.org/pandas-docs/stable/user_guide/indexing.html#returning-a-view-versus-a-copy\n",
      "  a['logvol_week'] = a['logreturn'].std()*255**.5\n",
      "/var/folders/zn/s4295xwn7kj92hy1gg99j03h0000gn/T/ipykernel_29580/3566500899.py:17: SettingWithCopyWarning: \n",
      "A value is trying to be set on a copy of a slice from a DataFrame.\n",
      "Try using .loc[row_indexer,col_indexer] = value instead\n",
      "\n",
      "See the caveats in the documentation: https://pandas.pydata.org/pandas-docs/stable/user_guide/indexing.html#returning-a-view-versus-a-copy\n",
      "  a['vol_week'] = a['return'].std()*255**.5\n",
      "/var/folders/zn/s4295xwn7kj92hy1gg99j03h0000gn/T/ipykernel_29580/3566500899.py:9: SettingWithCopyWarning: \n",
      "A value is trying to be set on a copy of a slice from a DataFrame.\n",
      "Try using .loc[row_indexer,col_indexer] = value instead\n",
      "\n",
      "See the caveats in the documentation: https://pandas.pydata.org/pandas-docs/stable/user_guide/indexing.html#returning-a-view-versus-a-copy\n",
      "  a['RSI'] = rsi(a, 14, True)\n",
      "/var/folders/zn/s4295xwn7kj92hy1gg99j03h0000gn/T/ipykernel_29580/3566500899.py:11: SettingWithCopyWarning: \n",
      "A value is trying to be set on a copy of a slice from a DataFrame.\n",
      "Try using .loc[row_indexer,col_indexer] = value instead\n",
      "\n",
      "See the caveats in the documentation: https://pandas.pydata.org/pandas-docs/stable/user_guide/indexing.html#returning-a-view-versus-a-copy\n",
      "  a['logreturn'] = np.log(a['Close']/a['Close'].shift())\n",
      "/var/folders/zn/s4295xwn7kj92hy1gg99j03h0000gn/T/ipykernel_29580/3566500899.py:12: SettingWithCopyWarning: \n",
      "A value is trying to be set on a copy of a slice from a DataFrame.\n",
      "Try using .loc[row_indexer,col_indexer] = value instead\n",
      "\n",
      "See the caveats in the documentation: https://pandas.pydata.org/pandas-docs/stable/user_guide/indexing.html#returning-a-view-versus-a-copy\n",
      "  a['return'] = a['Close']/a['Close'].shift()\n",
      "/var/folders/zn/s4295xwn7kj92hy1gg99j03h0000gn/T/ipykernel_29580/3566500899.py:16: SettingWithCopyWarning: \n",
      "A value is trying to be set on a copy of a slice from a DataFrame.\n",
      "Try using .loc[row_indexer,col_indexer] = value instead\n",
      "\n",
      "See the caveats in the documentation: https://pandas.pydata.org/pandas-docs/stable/user_guide/indexing.html#returning-a-view-versus-a-copy\n",
      "  a['logvol_week'] = a['logreturn'].std()*255**.5\n",
      "/var/folders/zn/s4295xwn7kj92hy1gg99j03h0000gn/T/ipykernel_29580/3566500899.py:17: SettingWithCopyWarning: \n",
      "A value is trying to be set on a copy of a slice from a DataFrame.\n",
      "Try using .loc[row_indexer,col_indexer] = value instead\n",
      "\n",
      "See the caveats in the documentation: https://pandas.pydata.org/pandas-docs/stable/user_guide/indexing.html#returning-a-view-versus-a-copy\n",
      "  a['vol_week'] = a['return'].std()*255**.5\n"
     ]
    },
    {
     "data": {
      "image/png": "[encoded data removed]",
      "text/plain": [
       "<Figure size 432x288 with 1 Axes>"
      ]
     },
     "metadata": {
      "needs_background": "light"
     },
     "output_type": "display_data"
    },
    {
     "data": {
      "image/png": "[encoded data removed]",
      "text/plain": [
       "<Figure size 432x288 with 1 Axes>"
      ]
     },
     "metadata": {
      "needs_background": "light"
     },
     "output_type": "display_data"
    },
    {
     "data": {
      "image/png": "[encoded data removed]",
      "text/plain": [
       "<Figure size 432x288 with 1 Axes>"
      ]
     },
     "metadata": {
      "needs_background": "light"
     },
     "output_type": "display_data"
    }
   ],
   "source": [
    "\n",
    "# function for adding returns and volatility to dataframe\n",
    "def return_and_vola(df):\n",
    "\n",
    "    # initializing new data frame with columns\n",
    "    new = pd.DataFrame(columns=stocks.columns)\n",
    "\n",
    "    # converting close price column to type float so log is appliable\n",
    "    df['Close'] = df['Close'].astype(float)\n",
    "\n",
    "    for i in stocks.SecuritiesCode.unique():\n",
    "        \n",
    "        # initializing new data frame with columns\n",
    "        new = pd.DataFrame(columns=df.columns)\n",
    "\n",
    "        # getting query for security code\n",
    "        a = df.query('SecuritiesCode == @i')\n",
    "        \n",
    "        # getting rsi from function\n",
    "        a['RSI'] = rsi(a, 14, True)\n",
    "\n",
    "        # making columns for return and log return\n",
    "        a['logreturn'] = np.log(a['Close']/a['Close'].shift())\n",
    "        a['return'] = a['Close']/a['Close'].shift()\n",
    "        \n",
    "        # dropping na values\n",
    "        a = a.dropna(axis=0)\n",
    "\n",
    "\n",
    "        # making columns for volatility and log volatility\n",
    "        a['logvol_week'] = a['logreturn'].std()*255**.5\n",
    "        a['vol_week'] = a['return'].std()*255**.5\n",
    "\n",
    "        # plotting\n",
    "        fig, ax = plt.subplots()\n",
    "        a['logreturn'].hist(ax=ax, bins=50, alpha=0.6, color='b')\n",
    "        ax.set_xlabel('Log return')\n",
    "        ax.set_ylabel('Freq of log return')\n",
    "\n",
    "        # making string for the title\n",
    "        str_vol = str(round(a['logreturn'].std()*252**.5, 4)*100)\n",
    "        ax.set_title('stock volatility:'  + str_vol + '%')\n",
    "\n",
    "\n",
    "        # combining query and new data frame\n",
    "        new = pd.concat([new, a])\n",
    "\n",
    "    \n",
    "    \n",
    "\n",
    "    "
   ]
  },
  {
   "cell_type": "code",
   "execution_count": 55,
   "metadata": {},
   "outputs": [
    {
     "name": "stderr",
     "output_type": "stream",
     "text": [
      "/Users/corneliusbohle/Desktop/tokyo-stock-exchange/.capstone/lib/python3.9/site-packages/seaborn/_decorators.py:36: FutureWarning: Pass the following variables as keyword args: x, y. From version 0.12, the only valid positional argument will be `data`, and passing other arguments without an explicit keyword will result in an error or misinterpretation.\n",
      "  warnings.warn(\n"
     ]
    },
    {
     "data": {
      "text/plain": [
       "<AxesSubplot:xlabel='Date', ylabel='profit_ttm'>"
      ]
     },
     "execution_count": 55,
     "metadata": {},
     "output_type": "execute_result"
    },
    {
     "data": {
      "image/png": "[encoded data removed]",
      "text/plain": [
       "<Figure size 432x288 with 1 Axes>"
      ]
     },
     "metadata": {
      "needs_background": "light"
     },
     "output_type": "display_data"
    }
   ],
   "source": [
    "sns.lineplot(stocks.query('SecuritiesCode == 1301').Date, stocks.query('SecuritiesCode == 1301').profit_ttm)"
   ]
  }
 ],
 "metadata": {
  "interpreter": {
   "hash": "b5ac1603013a3691ab461670c32a206f22e59cf123c59949176476af9b98ac7e"
  },
  "kernelspec": {
   "display_name": "Python 3.9.4 ('.capstone': venv)",
   "language": "python",
   "name": "python3"
  },
  "language_info": {
   "codemirror_mode": {
    "name": "ipython",
    "version": 3
   },
   "file_extension": ".py",
   "mimetype": "text/x-python",
   "name": "python",
   "nbconvert_exporter": "python",
   "pygments_lexer": "ipython3",
   "version": "3.9.4"
  },
  "orig_nbformat": 4
 },
 "nbformat": 4,
 "nbformat_minor": 2
}
